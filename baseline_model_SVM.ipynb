{
 "cells": [
  {
   "cell_type": "markdown",
   "metadata": {},
   "source": [
    "## Part 1: Import Statements"
   ]
  },
  {
   "cell_type": "code",
   "execution_count": 23,
   "metadata": {},
   "outputs": [],
   "source": [
    "import numpy as np\n",
    "import pandas as pd\n",
    "import seaborn as sns\n",
    "from seaborn import heatmap\n",
    "import matplotlib.pyplot as plt\n",
    "\n",
    "from sklearn.preprocessing import StandardScaler\n",
    "from sklearn.model_selection import train_test_split\n",
    "from sklearn.feature_extraction.text import TfidfVectorizer\n",
    "from sklearn.feature_extraction.text import CountVectorizer\n",
    "\n",
    "from imblearn.over_sampling import RandomOverSampler\n",
    "from imblearn.pipeline import Pipeline\n",
    "from collections import Counter\n",
    "\n",
    "\n",
    "from sklearn.svm import LinearSVC\n",
    "from sklearn.svm import SVC\n",
    "from sklearn.pipeline import Pipeline\n",
    "from sklearn.model_selection import GridSearchCV\n",
    "\n",
    "\n",
    "from sklearn.metrics import confusion_matrix\n",
    "from sklearn.metrics import classification_report"
   ]
  },
  {
   "cell_type": "markdown",
   "metadata": {},
   "source": [
    "## Part 2: Import processed data"
   ]
  },
  {
   "cell_type": "code",
   "execution_count": 24,
   "metadata": {},
   "outputs": [
    {
     "data": {
      "text/html": [
       "<div>\n",
       "<style scoped>\n",
       "    .dataframe tbody tr th:only-of-type {\n",
       "        vertical-align: middle;\n",
       "    }\n",
       "\n",
       "    .dataframe tbody tr th {\n",
       "        vertical-align: top;\n",
       "    }\n",
       "\n",
       "    .dataframe thead th {\n",
       "        text-align: right;\n",
       "    }\n",
       "</style>\n",
       "<table border=\"1\" class=\"dataframe\">\n",
       "  <thead>\n",
       "    <tr style=\"text-align: right;\">\n",
       "      <th></th>\n",
       "      <th>tweet</th>\n",
       "      <th>class</th>\n",
       "    </tr>\n",
       "  </thead>\n",
       "  <tbody>\n",
       "    <tr>\n",
       "      <th>0</th>\n",
       "      <td>woman shouldnt complain cleaning house man alw...</td>\n",
       "      <td>2</td>\n",
       "    </tr>\n",
       "    <tr>\n",
       "      <th>1</th>\n",
       "      <td>boy dats coldtyga dwn bad cuffin dat hoe place</td>\n",
       "      <td>1</td>\n",
       "    </tr>\n",
       "    <tr>\n",
       "      <th>2</th>\n",
       "      <td>dawg ever fuck bitch stato cry confused shit</td>\n",
       "      <td>1</td>\n",
       "    </tr>\n",
       "    <tr>\n",
       "      <th>3</th>\n",
       "      <td>look like tranny</td>\n",
       "      <td>1</td>\n",
       "    </tr>\n",
       "    <tr>\n",
       "      <th>4</th>\n",
       "      <td>shit hear might true might faker bitch told ya</td>\n",
       "      <td>1</td>\n",
       "    </tr>\n",
       "    <tr>\n",
       "      <th>...</th>\n",
       "      <td>...</td>\n",
       "      <td>...</td>\n",
       "    </tr>\n",
       "    <tr>\n",
       "      <th>25291</th>\n",
       "      <td>yous muthafin lie right tl trash mine bible sc...</td>\n",
       "      <td>1</td>\n",
       "    </tr>\n",
       "    <tr>\n",
       "      <th>25292</th>\n",
       "      <td>youve gone broke wrong heababy drove redneck c...</td>\n",
       "      <td>2</td>\n",
       "    </tr>\n",
       "    <tr>\n",
       "      <th>25294</th>\n",
       "      <td>young buck wan na eat dat nigguh like aint fuc...</td>\n",
       "      <td>1</td>\n",
       "    </tr>\n",
       "    <tr>\n",
       "      <th>25295</th>\n",
       "      <td>youu got wild bitches tellin lies</td>\n",
       "      <td>1</td>\n",
       "    </tr>\n",
       "    <tr>\n",
       "      <th>25296</th>\n",
       "      <td>ruffled ntac eileen dahlia beautiful color com...</td>\n",
       "      <td>2</td>\n",
       "    </tr>\n",
       "  </tbody>\n",
       "</table>\n",
       "<p>23865 rows × 2 columns</p>\n",
       "</div>"
      ],
      "text/plain": [
       "                                                   tweet  class\n",
       "0      woman shouldnt complain cleaning house man alw...      2\n",
       "1         boy dats coldtyga dwn bad cuffin dat hoe place      1\n",
       "2           dawg ever fuck bitch stato cry confused shit      1\n",
       "3                                       look like tranny      1\n",
       "4         shit hear might true might faker bitch told ya      1\n",
       "...                                                  ...    ...\n",
       "25291  yous muthafin lie right tl trash mine bible sc...      1\n",
       "25292  youve gone broke wrong heababy drove redneck c...      2\n",
       "25294  young buck wan na eat dat nigguh like aint fuc...      1\n",
       "25295                  youu got wild bitches tellin lies      1\n",
       "25296  ruffled ntac eileen dahlia beautiful color com...      2\n",
       "\n",
       "[23865 rows x 2 columns]"
      ]
     },
     "execution_count": 24,
     "metadata": {},
     "output_type": "execute_result"
    }
   ],
   "source": [
    "data = pd.read_csv(\"Data/processed_data.csv\", index_col=0)\n",
    "data = data.dropna()\n",
    "data"
   ]
  },
  {
   "cell_type": "markdown",
   "metadata": {},
   "source": [
    "## Part 3: Splitting data "
   ]
  },
  {
   "cell_type": "markdown",
   "metadata": {},
   "source": [
    "Splitting data "
   ]
  },
  {
   "cell_type": "code",
   "execution_count": 25,
   "metadata": {},
   "outputs": [],
   "source": [
    "\n",
    "#splitting the data into train, validation, test\n",
    "X, X_test, y, y_test = train_test_split(data['tweet'], data['class'],  test_size=0.2,random_state=42)\n"
   ]
  },
  {
   "cell_type": "code",
   "execution_count": 26,
   "metadata": {},
   "outputs": [
    {
     "data": {
      "text/plain": [
       "(14319,)"
      ]
     },
     "execution_count": 26,
     "metadata": {},
     "output_type": "execute_result"
    }
   ],
   "source": [
    "#splitting the data into train and validation\n",
    "X_train, X_cv, y_train, y_cv = train_test_split(X,y,test_size = 0.25,train_size =0.75, stratify=y,random_state=42)\n",
    "X_train.shape"
   ]
  },
  {
   "cell_type": "code",
   "execution_count": 27,
   "metadata": {},
   "outputs": [
    {
     "data": {
      "text/plain": [
       "5861                         monkey poor bottles\n",
       "4242                                  slap bitch\n",
       "21910    thats know pussy ready white people gay\n",
       "4185                             means trash lol\n",
       "23720           aint trynna fuc get ya shoes hoe\n",
       "Name: tweet, dtype: object"
      ]
     },
     "execution_count": 27,
     "metadata": {},
     "output_type": "execute_result"
    }
   ],
   "source": [
    "X_train.sample(5)"
   ]
  },
  {
   "cell_type": "markdown",
   "metadata": {},
   "source": [
    "## Part 4: Feature Extraction"
   ]
  },
  {
   "cell_type": "markdown",
   "metadata": {},
   "source": [
    "## Count Vectorization"
   ]
  },
  {
   "cell_type": "markdown",
   "metadata": {},
   "source": [
    "Word n grams: unigrams"
   ]
  },
  {
   "cell_type": "code",
   "execution_count": 28,
   "metadata": {},
   "outputs": [
    {
     "data": {
      "text/plain": [
       "{'punch': 10919,\n",
       " 'bitch': 1303,\n",
       " 'lip': 8055,\n",
       " 'hahaha': 5952,\n",
       " 'go': 5618,\n",
       " 'buy': 1950,\n",
       " 'bitches': 1312,\n",
       " 'waka': 15168,\n",
       " 'tammy': 13777,\n",
       " 'got': 5715,\n",
       " 'ass': 646,\n",
       " 'beat': 1066,\n",
       " 'ctfu': 3183,\n",
       " 'niggas': 9413,\n",
       " 'dont': 3888,\n",
       " 'ever': 4468,\n",
       " 'back': 830,\n",
       " 'face': 4595,\n",
       " 'tears': 13876,\n",
       " 'joy': 7370,\n",
       " 'forgot': 5105,\n",
       " 'youre': 15937,\n",
       " 'bull': 1846,\n",
       " 'said': 11857,\n",
       " 'yeezus': 15860,\n",
       " 'good': 5673,\n",
       " 'jcole': 7225,\n",
       " 'trash': 14429,\n",
       " 'might': 8766,\n",
       " 'one': 9762,\n",
       " 'sneak': 12803,\n",
       " 'dissin': 3783,\n",
       " 'hoe': 6398,\n",
       " 'nigga': 9404,\n",
       " 'pussy': 10953,\n",
       " 'nigguh': 9432,\n",
       " 'name': 9208,\n",
       " 'jesus': 7267,\n",
       " 'daddy': 3284,\n",
       " 'yellow': 15866,\n",
       " 'outside': 9922,\n",
       " 'like': 8004,\n",
       " 'girls': 5567,\n",
       " 'cant': 2062,\n",
       " 'guys': 5919,\n",
       " 'hit': 6368,\n",
       " 'girl': 5561,\n",
       " 'double': 3921,\n",
       " 'standard': 13204,\n",
       " 'forever': 5094,\n",
       " 'exist': 4531,\n",
       " 'kirk': 7593,\n",
       " 'hinrich': 6349,\n",
       " 'going': 5650,\n",
       " 'fucking': 5274,\n",
       " 'dumb': 4092,\n",
       " 'adawg': 104,\n",
       " 'getcho': 5499,\n",
       " 'ghetto': 5518,\n",
       " 'booty': 1550,\n",
       " 'ta': 13717,\n",
       " 'bad': 849,\n",
       " 'always': 339,\n",
       " 'hair': 5968,\n",
       " 'fixed': 4927,\n",
       " 'mall': 8396,\n",
       " 'wit': 15596,\n",
       " 'friends': 5212,\n",
       " 'buying': 1953,\n",
       " 'outfits': 9907,\n",
       " 'fast': 4708,\n",
       " 'feds': 4765,\n",
       " 'cocky': 2658,\n",
       " 'cops': 2946,\n",
       " 'ditch': 3793,\n",
       " 'old': 9722,\n",
       " 'gettin': 5506,\n",
       " 'sloppy': 12700,\n",
       " 'pots': 10641,\n",
       " 'video': 15027,\n",
       " 'made': 8348,\n",
       " 'porn': 10597,\n",
       " 'actress': 95,\n",
       " 'sexy': 12222,\n",
       " 'capri': 2074,\n",
       " 'anderson': 402,\n",
       " 'kissing': 7598,\n",
       " 'charlie': 2304,\n",
       " 'sheen': 12288,\n",
       " 'via': 15009,\n",
       " 'happy': 6050,\n",
       " 'main': 8372,\n",
       " 'take': 13743,\n",
       " 'easy': 4177,\n",
       " 'cigs': 2497,\n",
       " 'nike': 9448,\n",
       " 'fuck': 5259,\n",
       " 'talking': 13767,\n",
       " 'mouth': 9035,\n",
       " 'waitwaitwait': 15166,\n",
       " 'new': 9347,\n",
       " 'epson': 4396,\n",
       " 'lucky': 8277,\n",
       " 'clinking': 2590,\n",
       " 'beer': 1098,\n",
       " 'mugs': 9081,\n",
       " 'blossom': 1446,\n",
       " 'blue': 1453,\n",
       " 'heatop': 6192,\n",
       " 'hat': 6091,\n",
       " 'plus': 10496,\n",
       " 'sheryl': 12303,\n",
       " 'crow': 3149,\n",
       " 'high': 6315,\n",
       " 'benny': 1165,\n",
       " 'downloads': 3942,\n",
       " 'flappy': 4947,\n",
       " 'bird': 1274,\n",
       " 'sierra': 12490,\n",
       " 'welp': 15375,\n",
       " 'goes': 5643,\n",
       " 'school': 11996,\n",
       " 'god': 5631,\n",
       " 'male': 8392,\n",
       " 'female': 4792,\n",
       " 'blades': 1382,\n",
       " 'grass': 5780,\n",
       " 'every': 4472,\n",
       " 'living': 8088,\n",
       " 'thing': 14055,\n",
       " 'must': 9129,\n",
       " 'reproduce': 11445,\n",
       " 'stay': 13276,\n",
       " 'earth': 4166,\n",
       " 'birds': 1283,\n",
       " 'bees': 1103,\n",
       " 'sexnatural': 12215,\n",
       " 'smoke': 12773,\n",
       " 'summm': 13546,\n",
       " 'really': 11219,\n",
       " 'barnicle': 977,\n",
       " 'oj': 9709,\n",
       " 'anthony': 464,\n",
       " 'weiner': 15352,\n",
       " 'mj': 8871,\n",
       " 'clown': 2615,\n",
       " 'show': 12436,\n",
       " 'teabaggers': 13849,\n",
       " 'rich': 11560,\n",
       " 'come': 2719,\n",
       " 'msnbc': 9060,\n",
       " 'want': 15199,\n",
       " 'ratings': 11174,\n",
       " 'morningjoe': 8988,\n",
       " 'mother': 9012,\n",
       " 'nature': 9251,\n",
       " 'hates': 6100,\n",
       " 'yankees': 15811,\n",
       " 'baseball': 992,\n",
       " 'aint': 233,\n",
       " 'finna': 4893,\n",
       " 'sleep': 12658,\n",
       " 'oclock': 9663,\n",
       " 'finish': 4889,\n",
       " 'noddin': 9491,\n",
       " 'meet': 8619,\n",
       " 'top': 14317,\n",
       " 'steve': 13322,\n",
       " 'mcnair': 8581,\n",
       " 'murdered': 9103,\n",
       " 'side': 12478,\n",
       " 'man': 8405,\n",
       " 'life': 7972,\n",
       " 'crazy': 3084,\n",
       " 'craving': 3074,\n",
       " 'brownies': 1770,\n",
       " 'still': 13340,\n",
       " 'wishin': 15592,\n",
       " 'hoes': 6417,\n",
       " 'best': 1185,\n",
       " 'way': 15270,\n",
       " 'look': 8178,\n",
       " 'aliens': 279,\n",
       " 'find': 4869,\n",
       " 'cuff': 3193,\n",
       " 'lmao': 8097,\n",
       " 'ane': 411,\n",
       " 'cunt': 3208,\n",
       " 'regular': 11342,\n",
       " 'trusting': 14538,\n",
       " 'niggaz': 9417,\n",
       " 'letting': 7922,\n",
       " 'raw': 11185,\n",
       " 'know': 7628,\n",
       " 'better': 1205,\n",
       " 'yes': 15874,\n",
       " 'mary': 8493,\n",
       " 'juicy': 7395,\n",
       " 'clam': 2531,\n",
       " 'little': 8076,\n",
       " 'touch': 14343,\n",
       " 'boated': 1472,\n",
       " 'began': 1109,\n",
       " 'flow': 5017,\n",
       " 'hallmarknostracollecti': 5992,\n",
       " 'gross': 5837,\n",
       " 'touchin': 14347,\n",
       " 'saggy': 11853,\n",
       " 'titties': 14235,\n",
       " 'im': 6813,\n",
       " 'jus': 7413,\n",
       " 'tryna': 14555,\n",
       " 'vaca': 14922,\n",
       " 'away': 769,\n",
       " 'niggers': 9424,\n",
       " 'bro': 1733,\n",
       " 'gunna': 5905,\n",
       " 'ya': 15781,\n",
       " 'home': 6464,\n",
       " 'watch': 15241,\n",
       " 'tone': 14287,\n",
       " 'drag': 3956,\n",
       " 'recycling': 11275,\n",
       " 'bin': 1267,\n",
       " 'gon': 5663,\n",
       " 'end': 4337,\n",
       " 'limewire': 8028,\n",
       " 'ol': 9721,\n",
       " 'exe': 4522,\n",
       " 'nicki': 9385,\n",
       " 'minaj': 8808,\n",
       " 'fake': 4646,\n",
       " 'walking': 15178,\n",
       " 'around': 587,\n",
       " 'weave': 15307,\n",
       " 'californias': 2004,\n",
       " 'biggest': 1248,\n",
       " 'retards': 11507,\n",
       " 'forget': 5098,\n",
       " 'holy': 6462,\n",
       " 'released': 11371,\n",
       " 'amazing': 349,\n",
       " 'ep': 4390,\n",
       " 'thats': 13990,\n",
       " 'get': 5497,\n",
       " 'flags': 4938,\n",
       " 'hell': 6235,\n",
       " 'yeah': 15845,\n",
       " 'niggy': 9435,\n",
       " 'dudes': 4079,\n",
       " 'proudly': 10859,\n",
       " 'volunteer': 15109,\n",
       " 'baby': 820,\n",
       " 'theyll': 14041,\n",
       " 'father': 4716,\n",
       " 'property': 10831,\n",
       " 'lil': 8018,\n",
       " 'town': 14368,\n",
       " 'damn': 3307,\n",
       " 'lie': 7966,\n",
       " 'nuts': 9617,\n",
       " 'witness': 15607,\n",
       " 'proud': 10858,\n",
       " 'wacko': 15140,\n",
       " 'bout': 1596,\n",
       " 'na': 9172,\n",
       " 'use': 14891,\n",
       " 'talmbout': 13774,\n",
       " 'tastes': 13808,\n",
       " 'lol': 8155,\n",
       " 'wish': 15590,\n",
       " 'didnt': 3654,\n",
       " 'block': 1425,\n",
       " 'long': 8170,\n",
       " 'ago': 196,\n",
       " 'calling': 2011,\n",
       " 'could': 2992,\n",
       " 'call': 2005,\n",
       " 'blocked': 1426,\n",
       " 'second': 12085,\n",
       " 'time': 14197,\n",
       " 'np': 9583,\n",
       " 'centuries': 2228,\n",
       " 'fob': 5037,\n",
       " 'put': 10972,\n",
       " 'tits': 14233,\n",
       " 'ginger': 5550,\n",
       " 'arnt': 585,\n",
       " 'isnt': 7100,\n",
       " 'past': 10104,\n",
       " 'bed': 1084,\n",
       " 'whod': 15486,\n",
       " 'thought': 14098,\n",
       " 'redneck': 11285,\n",
       " 'husband': 6684,\n",
       " 'would': 15703,\n",
       " 'claim': 2526,\n",
       " 'hipster': 6356,\n",
       " 'glasses': 5588,\n",
       " 'early': 4159,\n",
       " 'gets': 5504,\n",
       " 'worm': 15689,\n",
       " 'right': 11589,\n",
       " 'hopefully': 6537,\n",
       " 'job': 7315,\n",
       " 'soon': 12926,\n",
       " 'today': 14255,\n",
       " 'allergic': 293,\n",
       " 'bullshit': 1852,\n",
       " 'boys': 1621,\n",
       " 'basic': 999,\n",
       " 'hella': 6236,\n",
       " 'plz': 10498,\n",
       " 'make': 8381,\n",
       " 'tomorrow': 14281,\n",
       " 'chris': 2454,\n",
       " 'bosh': 1565,\n",
       " 'danny': 3332,\n",
       " 'green': 5798,\n",
       " 'last': 7754,\n",
       " 'night': 9437,\n",
       " 'looking': 8183,\n",
       " 'reason': 11227,\n",
       " 'spazz': 13001,\n",
       " 'never': 9340,\n",
       " 'lady': 7701,\n",
       " 'buta': 1920,\n",
       " 'none': 9515,\n",
       " 'less': 7905,\n",
       " 'woman': 15645,\n",
       " 'shouldnt': 12424,\n",
       " 'complain': 2771,\n",
       " 'cleaning': 2561,\n",
       " 'house': 6578,\n",
       " 'soul': 12958,\n",
       " 'brought': 1765,\n",
       " 'colored': 2703,\n",
       " 'women': 15648,\n",
       " 'let': 7911,\n",
       " 'sit': 12557,\n",
       " 'gtf': 5866,\n",
       " 'heard': 6170,\n",
       " 'mama': 8401,\n",
       " 'raised': 11096,\n",
       " 'turn': 14594,\n",
       " 'rebound': 11242,\n",
       " 'quit': 11037,\n",
       " 'pop': 10573,\n",
       " 'viagra': 15011,\n",
       " 'horny': 6547,\n",
       " 'dominating': 3869,\n",
       " 'holes': 6446,\n",
       " 'nicca': 9373,\n",
       " 'need': 9285,\n",
       " 'maid': 8369,\n",
       " 'eatin': 4182,\n",
       " 'da': 3276,\n",
       " 'shit': 12339,\n",
       " 'outta': 9925,\n",
       " 'sum': 13539,\n",
       " 'ill': 6799,\n",
       " 'serial': 12168,\n",
       " 'eater': 4180,\n",
       " 'tho': 14081,\n",
       " 'feel': 4772,\n",
       " 'havin': 6114,\n",
       " 'yo': 15896,\n",
       " 'fucc': 5252,\n",
       " 'dependent': 3545,\n",
       " 'someone': 12901,\n",
       " 'theses': 14029,\n",
       " 'phony': 10324,\n",
       " 'pissed': 10406,\n",
       " 'lad': 7698,\n",
       " 'lick': 7960,\n",
       " 'dirty': 3724,\n",
       " 'soles': 12884,\n",
       " 'slept': 12667,\n",
       " 'bummy': 1865,\n",
       " 'uno': 14827,\n",
       " 'shawty': 12279,\n",
       " 'id': 6733,\n",
       " 'drop': 4031,\n",
       " 'imaginary': 6818,\n",
       " 'looks': 8185,\n",
       " 'porch': 10591,\n",
       " 'monkey': 8946,\n",
       " 'bomb': 1499,\n",
       " 'dick': 3636,\n",
       " 'alpha': 326,\n",
       " 'kappas': 7444,\n",
       " 'iota': 7060,\n",
       " 'two': 14664,\n",
       " 'professors': 10788,\n",
       " 'month': 8957,\n",
       " 'hoei': 6408,\n",
       " 'say': 11952,\n",
       " 'mmm': 8881,\n",
       " 'thanks': 13980,\n",
       " 'ive': 7140,\n",
       " 'saving': 11946,\n",
       " 'mine': 8815,\n",
       " 'point': 10516,\n",
       " 'timefucking': 14198,\n",
       " 'queer': 11016,\n",
       " 'excite': 4512,\n",
       " 'faggot': 4623,\n",
       " 'hungrier': 6658,\n",
       " 'ho': 6392,\n",
       " 'dream': 3981,\n",
       " 'pedophile': 10185,\n",
       " 'dressing': 3996,\n",
       " 'mickey': 8748,\n",
       " 'mouse': 9034,\n",
       " 'hugging': 6617,\n",
       " 'kids': 7548,\n",
       " 'day': 3381,\n",
       " 'bae': 863,\n",
       " 'talk': 13759,\n",
       " 'heat': 6186,\n",
       " 'whats': 15423,\n",
       " 'sounds': 12967,\n",
       " 'blunt': 1458,\n",
       " 'pizza': 10427,\n",
       " 'pockets': 10508,\n",
       " 'empty': 4331,\n",
       " 'steady': 13283,\n",
       " 'choosing': 2441,\n",
       " 'rider': 11577,\n",
       " 'stfu': 13330,\n",
       " 'ride': 11576,\n",
       " 'lmaoooooooooooooooooooo': 8106,\n",
       " 'sticking': 13335,\n",
       " 'theory': 14019,\n",
       " 'black': 1372,\n",
       " 'strawberry': 13408,\n",
       " 'milk': 8793,\n",
       " 'plasticassed': 10453,\n",
       " 'also': 333,\n",
       " 'anyone': 483,\n",
       " 'wants': 15205,\n",
       " 'prices': 10738,\n",
       " 'disney': 3767,\n",
       " 'needs': 9292,\n",
       " 'check': 2334,\n",
       " 'next': 9361,\n",
       " 'dollywood': 3858,\n",
       " 'whos': 15499,\n",
       " 'playing': 10472,\n",
       " 'friendly': 5211,\n",
       " 'accept': 43,\n",
       " 'als': 330,\n",
       " 'icebucketchallenge': 6725,\n",
       " 'challenge': 2255,\n",
       " 'birthday': 1292,\n",
       " 'tow': 14362,\n",
       " 'botch': 1574,\n",
       " 'car': 2084,\n",
       " 'love': 8237,\n",
       " 'cuz': 3265,\n",
       " 'lets': 7914,\n",
       " 'play': 10459,\n",
       " 'white': 15471,\n",
       " 'neck': 9282,\n",
       " 'tattoos': 13820,\n",
       " 'front': 5226,\n",
       " 'answered': 458,\n",
       " 'cigarillosyouve': 2495,\n",
       " 'seen': 12107,\n",
       " 'episode': 4392,\n",
       " 'yall': 15801,\n",
       " 'valentine': 14936,\n",
       " 'android': 409,\n",
       " 'iphone': 7063,\n",
       " 'ipad': 7062,\n",
       " 'sex': 12210,\n",
       " 'xxx': 15778,\n",
       " 'desi': 3579,\n",
       " 'spicy': 13044,\n",
       " 'oriental': 9857,\n",
       " 'paki': 10010,\n",
       " 'brunette': 1787,\n",
       " 'sucks': 13518,\n",
       " 'un': 14739,\n",
       " 'crust': 3167,\n",
       " 'graham': 5754,\n",
       " 'cracker': 3056,\n",
       " 'keep': 7480,\n",
       " 'pie': 10356,\n",
       " 'mf': 8722,\n",
       " 'dawggg': 3377,\n",
       " 'miss': 8846,\n",
       " 'else': 4294,\n",
       " 'remembers': 11394,\n",
       " 'tempted': 13920,\n",
       " 'sentence': 12155,\n",
       " 'breakingbad': 1684,\n",
       " 'drunkenly': 4055,\n",
       " 'free': 5173,\n",
       " 'printed': 10755,\n",
       " 'bracelet': 1631,\n",
       " 'says': 11956,\n",
       " 'lmaoooo': 8100,\n",
       " 'sister': 12555,\n",
       " 'probably': 10770,\n",
       " 'neverforget': 9341,\n",
       " 'boy': 1615,\n",
       " 'hate': 6094,\n",
       " 'overly': 9939,\n",
       " 'hood': 6504,\n",
       " 'aye': 791,\n",
       " 'listening': 8066,\n",
       " 'keef': 7476,\n",
       " 'fosho': 5125,\n",
       " 'niggah': 9410,\n",
       " 'il': 6798,\n",
       " 'real': 11209,\n",
       " 'busy': 1919,\n",
       " 'lately': 7761,\n",
       " 'duh': 4085,\n",
       " 'reds': 11288,\n",
       " 'havent': 6112,\n",
       " 'lost': 8218,\n",
       " 'series': 12169,\n",
       " 'yankee': 15809,\n",
       " 'stadium': 13167,\n",
       " 'since': 12526,\n",
       " 'world': 15684,\n",
       " 'muthafukin': 9147,\n",
       " 'reacting': 11199,\n",
       " 'vain': 14934,\n",
       " 'females': 4794,\n",
       " 'tweet': 14624,\n",
       " 'context': 2887,\n",
       " 'neither': 9305,\n",
       " 'peek': 10189,\n",
       " 'boo': 1519,\n",
       " 'swag': 13640,\n",
       " 'scare': 11972,\n",
       " 'tygas': 14675,\n",
       " 'worst': 15699,\n",
       " 'bar': 954,\n",
       " 'tygabars': 14674,\n",
       " 'slipping': 12689,\n",
       " 'mollies': 8923,\n",
       " 'jello': 7241,\n",
       " 'cosby': 2974,\n",
       " 'pudding': 10891,\n",
       " 'pops': 10584,\n",
       " 'respect': 11478,\n",
       " 'entire': 4382,\n",
       " 'arm': 579,\n",
       " 'vagina': 14930,\n",
       " 'leo': 7892,\n",
       " 'apolonio': 513,\n",
       " 'drive': 4016,\n",
       " 'bike': 1258,\n",
       " 'getting': 5507,\n",
       " 'checks': 2340,\n",
       " 'icy': 6732,\n",
       " 'dice': 3634,\n",
       " 'soho': 12874,\n",
       " 'quitting': 11040,\n",
       " 'showed': 12437,\n",
       " 'true': 14525,\n",
       " 'ones': 9766,\n",
       " 'faced': 4597,\n",
       " 'omg': 9748,\n",
       " 'wont': 15658,\n",
       " 'stupid': 13474,\n",
       " 'talkin': 13765,\n",
       " 'imma': 6825,\n",
       " 'whoop': 15492,\n",
       " 'dramatic': 3968,\n",
       " 'teenage': 13891,\n",
       " 'albino': 254,\n",
       " 'problem': 10772,\n",
       " 'gut': 5914,\n",
       " 'fish': 4908,\n",
       " 'net': 9328,\n",
       " 'decided': 3427,\n",
       " 'wear': 15299,\n",
       " 'sooo': 12928,\n",
       " 'many': 8444,\n",
       " 'things': 14056,\n",
       " 'wrong': 15737,\n",
       " 'fag': 4620,\n",
       " 'goku': 5652,\n",
       " 'shutting': 12461,\n",
       " 'hope': 6535,\n",
       " 'colds': 2683,\n",
       " 'trust': 14536,\n",
       " 'volunteers': 15110,\n",
       " 'another': 454,\n",
       " 'info': 6929,\n",
       " 'ashton': 621,\n",
       " 'makes': 8385,\n",
       " 'people': 10221,\n",
       " 'smile': 12765,\n",
       " 'elissa': 4282,\n",
       " 'brag': 1639,\n",
       " 'goin': 5649,\n",
       " 'gym': 5927,\n",
       " 'shaped': 12250,\n",
       " 'patron': 10129,\n",
       " 'bottle': 1580,\n",
       " 'cuh': 3197,\n",
       " 'sayin': 11954,\n",
       " 'already': 328,\n",
       " 'told': 14269,\n",
       " 'dreamed': 3982,\n",
       " 'eating': 4183,\n",
       " 'brownie': 1769,\n",
       " 'started': 13232,\n",
       " 'salivating': 11870,\n",
       " 'woke': 15641,\n",
       " 'almost': 317,\n",
       " 'coughing': 2989,\n",
       " 'death': 3411,\n",
       " 'struggle': 13445,\n",
       " 'pathetic': 10116,\n",
       " 'plan': 10436,\n",
       " 'failed': 4631,\n",
       " 'enjoy': 4361,\n",
       " 'phone': 10318,\n",
       " 'see': 12094,\n",
       " 'benton': 1168,\n",
       " 'park': 10066,\n",
       " 'wan': 15193,\n",
       " 'carve': 2134,\n",
       " 'buys': 1954,\n",
       " 'tattoo': 13816,\n",
       " 'wife': 15518,\n",
       " 'girlwinking': 5570,\n",
       " 'winking': 15572,\n",
       " 'tongue': 14290,\n",
       " 'smirking': 12770,\n",
       " 'eloquently': 4293,\n",
       " 'stated': 13253,\n",
       " 'tom': 14273,\n",
       " 'coughlin': 2990,\n",
       " 'fuckboy': 5262,\n",
       " 'geriatric': 5490,\n",
       " 'seaside': 12075,\n",
       " 'smell': 12756,\n",
       " 'stank': 13211,\n",
       " 'bruh': 1779,\n",
       " 'enough': 4368,\n",
       " 'future': 5341,\n",
       " 'oh': 9696,\n",
       " 'yea': 15841,\n",
       " 'alo': 318,\n",
       " 'aka': 243,\n",
       " 'mr': 9049,\n",
       " 'shitty': 12364,\n",
       " 'fuzzy': 5348,\n",
       " 'sure': 13606,\n",
       " 'wasnt': 15230,\n",
       " 'laid': 7714,\n",
       " 'lmfao': 8111,\n",
       " 'vibe': 15012,\n",
       " 'means': 8596,\n",
       " 'kill': 7558,\n",
       " 'pregnant': 10693,\n",
       " 'loudly': 8231,\n",
       " 'crying': 3174,\n",
       " 'eat': 4178,\n",
       " 'smells': 12759,\n",
       " 'tangy': 13785,\n",
       " 'games': 5392,\n",
       " 'answer': 457,\n",
       " 'anymore': 482,\n",
       " 'jk': 7308,\n",
       " 'ily': 6812,\n",
       " 'anyway': 489,\n",
       " 'glad': 5584,\n",
       " 'first': 4905,\n",
       " 'safe': 11849,\n",
       " 'yoself': 15917,\n",
       " 'bathroom': 1017,\n",
       " 'pills': 10375,\n",
       " 'em': 4298,\n",
       " 'fuckin': 5273,\n",
       " 'voice': 15102,\n",
       " 'suck': 13510,\n",
       " 'bite': 1353,\n",
       " 'wilkos': 15546,\n",
       " 'mfs': 8726,\n",
       " 'nurses': 9611,\n",
       " 'curfew': 3221,\n",
       " 'break': 1678,\n",
       " 'idgaf': 6747,\n",
       " 'fuss': 5340,\n",
       " 'curse': 3234,\n",
       " 'lturnup': 8273,\n",
       " 'chocolate': 2426,\n",
       " 'favorite': 4732,\n",
       " 'candy': 2049,\n",
       " 'wow': 15709,\n",
       " 'cuzin': 3266,\n",
       " 'snupe': 12839,\n",
       " 'trippin': 14501,\n",
       " 'peep': 10194,\n",
       " 'everything': 4482,\n",
       " 'slap': 12636,\n",
       " 'sherman': 12301,\n",
       " 'caught': 2175,\n",
       " 'blow': 1447,\n",
       " 'tranny': 14403,\n",
       " 'hooker': 6515,\n",
       " 'please': 10480,\n",
       " 'preferably': 10687,\n",
       " 'pete': 10282,\n",
       " 'carroll': 2120,\n",
       " 'alibaba': 275,\n",
       " 'jack': 7153,\n",
       " 'guy': 5918,\n",
       " 'meg': 8625,\n",
       " 'whitmans': 15482,\n",
       " 'us': 14885,\n",
       " 'freakin': 5165,\n",
       " 'commie': 2745,\n",
       " 'genius': 5478,\n",
       " 'work': 15674,\n",
       " 'morning': 8987,\n",
       " 'master': 8515,\n",
       " 'fat': 4712,\n",
       " 'big': 1245,\n",
       " 'boned': 1510,\n",
       " 'hehehehehe': 6220,\n",
       " 'homies': 6480,\n",
       " 'flying': 5032,\n",
       " 'nimbus': 9456,\n",
       " 'picked': 10342,\n",
       " 'tell': 13909,\n",
       " 'pure': 10932,\n",
       " 'hearted': 6180,\n",
       " 'think': 14061,\n",
       " 'piercing': 10363,\n",
       " 'ole': 9731,\n",
       " 'memphistn': 8655,\n",
       " 'rock': 11661,\n",
       " 'took': 14305,\n",
       " 'flight': 4981,\n",
       " 'listen': 8063,\n",
       " 'maybe': 8552,\n",
       " 'walk': 15174,\n",
       " 'trynna': 14556,\n",
       " 'geno': 5479,\n",
       " 'td': 13840,\n",
       " 'throw': 14123,\n",
       " 'jammin': 7189,\n",
       " 'sad': 11843,\n",
       " 'songs': 12913,\n",
       " 'smoking': 12780,\n",
       " 'squares': 13117,\n",
       " 'thinking': 14064,\n",
       " 'rick': 11567,\n",
       " 'weak': 15290,\n",
       " 'season': 12076,\n",
       " 'fam': 4666,\n",
       " 'found': 5131,\n",
       " 'megacarrot': 8627,\n",
       " 'store': 13387,\n",
       " 'retweets': 11521,\n",
       " 'shove': 12430,\n",
       " 'pics': 10352,\n",
       " 'steelers': 13296,\n",
       " 'superbowl': 13567,\n",
       " 'loaded': 8130,\n",
       " 'gmix': 5614,\n",
       " 'moms': 8933,\n",
       " 'computer': 2788,\n",
       " 'youtube': 15947,\n",
       " 'page': 9993,\n",
       " 'open': 9806,\n",
       " 'mlrt': 8877,\n",
       " 'ima': 6814,\n",
       " 'nothing': 9554,\n",
       " 'bean': 1054,\n",
       " 'head': 6139,\n",
       " 'buddy': 1820,\n",
       " 'pmo': 10500,\n",
       " 'flirting': 4995,\n",
       " 'twitter': 14658,\n",
       " 'ollie': 9738,\n",
       " 'sons': 12920,\n",
       " 'theyre': 14042,\n",
       " 'sandy': 11903,\n",
       " 'wind': 15558,\n",
       " 'lot': 8220,\n",
       " 'clams': 2532,\n",
       " 'stalking': 13194,\n",
       " 'nothin': 9553,\n",
       " 'cut': 3251,\n",
       " 'ayeeee': 794,\n",
       " 'notch': 9548,\n",
       " 'cool': 2924,\n",
       " 'reconciliation': 11263,\n",
       " 'idea': 6736,\n",
       " 'welcome': 15362,\n",
       " 'shins': 12329,\n",
       " 'chipped': 2413,\n",
       " 'tht': 14133,\n",
       " 'dicked': 3638,\n",
       " 'mufuckin': 9078,\n",
       " 'weed': 15328,\n",
       " 'drank': 3969,\n",
       " 'gin': 5549,\n",
       " 'desedicks': 3571,\n",
       " 'gtfoh': 5868,\n",
       " 'ref': 11304,\n",
       " 'hes': 6282,\n",
       " 'retarded': 11504,\n",
       " 'somethin': 12903,\n",
       " 'cause': 2176,\n",
       " 'tip': 14215,\n",
       " 'hand': 6008,\n",
       " 'instead': 6988,\n",
       " 'whine': 15453,\n",
       " 'attention': 714,\n",
       " 'experience': 4547,\n",
       " 'married': 8479,\n",
       " 'loves': 8248,\n",
       " 'hot': 6568,\n",
       " 'strangers': 13403,\n",
       " 'niccas': 9375,\n",
       " 'magic': 8362,\n",
       " 'city': 2520,\n",
       " 'shaking': 12235,\n",
       " 'shut': 12457,\n",
       " 'rihanna': 11596,\n",
       " 'text': 13959,\n",
       " 'pm': 10499,\n",
       " 'son': 12911,\n",
       " 'ate': 686,\n",
       " 'mac': 8329,\n",
       " 'cheese': 2348,\n",
       " 'fads': 4618,\n",
       " 'doc': 3821,\n",
       " 'martens': 8485,\n",
       " 'enjoying': 4362,\n",
       " 'anal': 390,\n",
       " 'girbaud': 5559,\n",
       " 'posers': 10613,\n",
       " 'wiggers': 15532,\n",
       " 'bangers': 936,\n",
       " 'accountants': 58,\n",
       " 'jncos': 7312,\n",
       " 'domin': 3868,\n",
       " 'knicks': 7613,\n",
       " 'game': 5389,\n",
       " 'smh': 12763,\n",
       " 'making': 8390,\n",
       " 'girlfriends': 5564,\n",
       " 'entertaining': 4378,\n",
       " 'attitude': 717,\n",
       " 'nasty': 9233,\n",
       " 'ooh': 9789,\n",
       " 'song': 12912,\n",
       " 'loveoohyie': 8244,\n",
       " 'skyylevelmedia': 12625,\n",
       " 'holipalooza': 6449,\n",
       " 'atl': 694,\n",
       " 'pimps': 10384,\n",
       " 'money': 8938,\n",
       " 'duck': 4073,\n",
       " 'dallas': 3296,\n",
       " 'tx': 14668,\n",
       " 'born': 1563,\n",
       " 'hmmm': 6389,\n",
       " 'wonder': 15652,\n",
       " 'prolyy': 10809,\n",
       " 'cook': 2918,\n",
       " 'quasireligious': 11010,\n",
       " 'sake': 11863,\n",
       " 'coming': 2735,\n",
       " 'duggy': 4084,\n",
       " 'dem': 3507,\n",
       " 'dead': 3396,\n",
       " 'nfl': 9366,\n",
       " 'sick': 12473,\n",
       " 'hearing': 6172,\n",
       " 'bandwagon': 929,\n",
       " 'fans': 4682,\n",
       " 'packers': 9987,\n",
       " 'hi': 6294,\n",
       " 'militarymondaysuppoa': 8792,\n",
       " 'military': 8791,\n",
       " 'organization': 9850,\n",
       " 'facts': 4610,\n",
       " 'baldheaded': 893,\n",
       " 'saw': 11949,\n",
       " 'grand': 5762,\n",
       " 'canyon': 2068,\n",
       " 'hanging': 6029,\n",
       " 'curious': 3224,\n",
       " 'gorge': 5705,\n",
       " 'sack': 11836,\n",
       " 'potatoes': 10638,\n",
       " 'goodnight': 5683,\n",
       " 'power': 10654,\n",
       " 'folks': 5054,\n",
       " 'fucks': 5287,\n",
       " 'wcw': 15285,\n",
       " 'roads': 11640,\n",
       " 'diverged': 3797,\n",
       " 'wood': 15661,\n",
       " 'chose': 2448,\n",
       " 'robefrost': 11652,\n",
       " 'giant': 5528,\n",
       " 'peckerwood': 10176,\n",
       " 'dear': 3408,\n",
       " 'ugly': 14710,\n",
       " 'stop': 13378,\n",
       " 'hard': 6062,\n",
       " 'dumbass': 4093,\n",
       " 'nigger': 9420,\n",
       " 'haha': 5950,\n",
       " 'university': 14815,\n",
       " 'red': 11276,\n",
       " 'rest': 11490,\n",
       " 'young': 15930,\n",
       " 'oops': 9801,\n",
       " 'freudian': 5202,\n",
       " 'slit': 12691,\n",
       " 'luv': 8296,\n",
       " 'throwing': 14127,\n",
       " 'bread': 1674,\n",
       " 'crumbs': 3159,\n",
       " 'ground': 5838,\n",
       " 'pigeons': 10367,\n",
       " 'flocking': 5000,\n",
       " 'towards': 14363,\n",
       " 'mane': 8415,\n",
       " 'fun': 5313,\n",
       " 'jamaica': 7180,\n",
       " 'populated': 10587,\n",
       " 'island': 7097,\n",
       " 'hillbillies': 6337,\n",
       " 'even': 4463,\n",
       " 'linguistics': 8047,\n",
       " 'kind': 7582,\n",
       " 'sub': 13483,\n",
       " 'accent': 41,\n",
       " 'olde': 9723,\n",
       " 'english': 4358,\n",
       " 'derivatives': 3562,\n",
       " 'breaking': 1683,\n",
       " 'japanese': 7203,\n",
       " 'ace': 68,\n",
       " 'masahiro': 8498,\n",
       " 'tanaka': 13782,\n",
       " 'sign': 12493,\n",
       " 'seven': 12199,\n",
       " 'years': 15854,\n",
       " 'million': 8798,\n",
       " 'fox': 5137,\n",
       " 'sports': 13088,\n",
       " 'soulja': 12959,\n",
       " 'aggravating': 193,\n",
       " 'nagging': 9190,\n",
       " 'ion': 7055,\n",
       " 'sound': 12963,\n",
       " 'recent': 11253,\n",
       " 'harvard': 6082,\n",
       " 'study': 13463,\n",
       " 'concluded': 2807,\n",
       " 'fact': 4606,\n",
       " 'cheap': 2325,\n",
       " 'nose': 9544,\n",
       " 'screen': 12038,\n",
       " 'tired': 14221,\n",
       " 'commercial': 2743,\n",
       " 'book': 1526,\n",
       " 'party': 10093,\n",
       " 'ken': 7495,\n",
       " 'family': 4669,\n",
       " 'straight': 13397,\n",
       " 'hip': 6351,\n",
       " 'hillbilly': 6338,\n",
       " 'tries': 14485,\n",
       " 'apply': 534,\n",
       " 'term': 13934,\n",
       " 'derecho': 3559,\n",
       " 'runofthemill': 11809,\n",
       " 'thunderstorm': 14149,\n",
       " 'wvwx': 15758,\n",
       " 'absolutely': 27,\n",
       " 'perfect': 10240,\n",
       " 'london': 8168,\n",
       " 'suns': 13559,\n",
       " 'gona': 5664,\n",
       " 'wembley': 15377,\n",
       " 'tonight': 14292,\n",
       " 'yeaaaaahhhh': 15843,\n",
       " 'wasp': 15231,\n",
       " 'angry': 424,\n",
       " 'legend': 7866,\n",
       " 'squishy': 13134,\n",
       " ...}"
      ]
     },
     "execution_count": 28,
     "metadata": {},
     "output_type": "execute_result"
    }
   ],
   "source": [
    "#Count Vectorizing the X_train\n",
    "count_vec = CountVectorizer()\n",
    "count_vec.fit(X_train)\n",
    "\n",
    "X_train_count = count_vec.transform(X_train)\n",
    "X_train_count = X_train_count.toarray()\n",
    "\n",
    "#Count Vectorizing the X_cv\n",
    "X_cv_count = count_vec.transform(X_cv)\n",
    "X_cv_count = X_cv_count.toarray()\n",
    "\n",
    "#Count Vectorizing the X_test\n",
    "X_test_count = count_vec.transform(X_test)\n",
    "X_test_count = X_test_count.toarray()\n",
    "\n",
    "count_vec.vocabulary_"
   ]
  },
  {
   "cell_type": "markdown",
   "metadata": {},
   "source": [
    "Vocabulary of train and test set with respective counts"
   ]
  },
  {
   "cell_type": "code",
   "execution_count": 29,
   "metadata": {},
   "outputs": [],
   "source": [
    "words = []\n",
    "amounts = []\n",
    "for key, value in count_vec.vocabulary_.items():\n",
    "    words.append(key)\n",
    "    amounts.append(value)\n",
    "\n",
    "word_counts = pd.DataFrame(words, columns = [\"words\"])\n",
    "word_counts[\"amounts\"] = amounts"
   ]
  },
  {
   "cell_type": "code",
   "execution_count": 30,
   "metadata": {},
   "outputs": [],
   "source": [
    "word_counts.sort_values(by = \"amounts\", ascending = False, inplace = True)"
   ]
  },
  {
   "cell_type": "markdown",
   "metadata": {},
   "source": [
    "TFIDF Vectorization"
   ]
  },
  {
   "cell_type": "code",
   "execution_count": 31,
   "metadata": {},
   "outputs": [],
   "source": [
    "#TFIDF Vectorizing the X_train\n",
    "\n",
    "tfidf = TfidfVectorizer()\n",
    "\n",
    "X_train_tf = tfidf.fit_transform(X_train)\n",
    "X_train_tf = X_train_tf.toarray()\n",
    "\n",
    "#Vectorizing the X_cv\n",
    "X_cv_tf = tfidf.transform(X_cv)\n",
    "X_cv_tf = X_cv_tf.toarray()\n",
    "\n",
    "#TFIDF Vectorizing the X_test\n",
    "X_test_tf = tfidf.transform(X_test)\n",
    "X_test_tf = X_test_tf.toarray()\n"
   ]
  },
  {
   "cell_type": "markdown",
   "metadata": {},
   "source": [
    "Balancing training data"
   ]
  },
  {
   "cell_type": "code",
   "execution_count": 32,
   "metadata": {},
   "outputs": [],
   "source": [
    "def oversample(X_train_vectorized, y_train):\n",
    "    print(\"Before Oversampling: {}\".format(Counter(y_train)))\n",
    "\n",
    "    # # define oversampling strategy\n",
    "    oversample = RandomOverSampler(sampling_strategy='all')\n",
    "\n",
    "    # # fit and apply the transform\n",
    "    X_train_over, y_train_over = oversample.fit_resample(X_train_vectorized, y_train)\n",
    "    print(\"After Oversampling: {}\".format(Counter(y_train_over)))\n",
    "    \n",
    "    return X_train_over, y_train_over"
   ]
  },
  {
   "cell_type": "markdown",
   "metadata": {},
   "source": [
    "## Oversampling"
   ]
  },
  {
   "cell_type": "markdown",
   "metadata": {},
   "source": [
    "Oversampling CountVectorized training data"
   ]
  },
  {
   "cell_type": "code",
   "execution_count": 33,
   "metadata": {},
   "outputs": [
    {
     "name": "stdout",
     "output_type": "stream",
     "text": [
      "Before Oversampling: Counter({1: 11049, 2: 2453, 0: 817})\n",
      "After Oversampling: Counter({1: 11049, 2: 11049, 0: 11049})\n"
     ]
    }
   ],
   "source": [
    "X_train_over_count, y_train_over_count = oversample(X_train_count, y_train)"
   ]
  },
  {
   "cell_type": "markdown",
   "metadata": {},
   "source": [
    "Oversampling TFIDF-Vectorized  training data"
   ]
  },
  {
   "cell_type": "code",
   "execution_count": 34,
   "metadata": {},
   "outputs": [
    {
     "name": "stdout",
     "output_type": "stream",
     "text": [
      "Before Oversampling: Counter({1: 11049, 2: 2453, 0: 817})\n",
      "After Oversampling: Counter({1: 11049, 2: 11049, 0: 11049})\n"
     ]
    }
   ],
   "source": [
    "X_train_over_tf, y_train_over_tf = oversample(X_train_tf, y_train)"
   ]
  },
  {
   "cell_type": "markdown",
   "metadata": {},
   "source": [
    "## Models"
   ]
  },
  {
   "cell_type": "code",
   "execution_count": 35,
   "metadata": {},
   "outputs": [],
   "source": [
    "def printModelStats(y_preds, y_test):\n",
    "    print(classification_report(y_test, y_preds, target_names = ['Hate', 'Offensive', 'Neither']))\n",
    "    \n",
    "    cm = confusion_matrix(y_test,y_preds)\n",
    "    print(\"The confusion matrix:\")\n",
    "    print(cm)\n",
    "    cm_percent = cm.astype('float') / cm.sum(axis=1)[:, np.newaxis] \n",
    "    sns.heatmap((cm_percent), annot = True, cmap = \"Blues\").set(title =\"Confusion Matrix Expressed in %\")"
   ]
  },
  {
   "cell_type": "markdown",
   "metadata": {},
   "source": [
    "## LinearSVC"
   ]
  },
  {
   "cell_type": "markdown",
   "metadata": {},
   "source": [
    "## Count Vectorization"
   ]
  },
  {
   "cell_type": "markdown",
   "metadata": {},
   "source": [
    "Linear SVC and data with CountVectorizations"
   ]
  },
  {
   "cell_type": "code",
   "execution_count": 36,
   "metadata": {},
   "outputs": [
    {
     "name": "stderr",
     "output_type": "stream",
     "text": [
      "C:\\Users\\never\\AppData\\Roaming\\Python\\Python311\\site-packages\\sklearn\\svm\\_classes.py:32: FutureWarning: The default value of `dual` will change from `True` to `'auto'` in 1.5. Set the value of `dual` explicitly to suppress the warning.\n",
      "  warnings.warn(\n"
     ]
    }
   ],
   "source": [
    "# Initalising model\n",
    "svc = LinearSVC(random_state= 424, max_iter = 20000)\n",
    "\n",
    "# Train and predict\n",
    "svc.fit(X_train_over_count, y_train_over_count)\n",
    "y_preds = svc.predict(X_cv_count)\n"
   ]
  },
  {
   "cell_type": "code",
   "execution_count": 37,
   "metadata": {},
   "outputs": [
    {
     "name": "stdout",
     "output_type": "stream",
     "text": [
      "              precision    recall  f1-score   support\n",
      "\n",
      "        Hate       0.27      0.42      0.33       272\n",
      "   Offensive       0.93      0.89      0.91      3683\n",
      "     Neither       0.80      0.80      0.80       818\n",
      "\n",
      "    accuracy                           0.85      4773\n",
      "   macro avg       0.67      0.70      0.68      4773\n",
      "weighted avg       0.87      0.85      0.86      4773\n",
      "\n",
      "The confusion matrix:\n",
      "[[ 114  129   29]\n",
      " [ 278 3272  133]\n",
      " [  34  131  653]]\n"
     ]
    },
    {
     "data": {
      "image/png": "[encoded data removed]",
      "text/plain": [
       "<Figure size 640x480 with 2 Axes>"
      ]
     },
     "metadata": {},
     "output_type": "display_data"
    }
   ],
   "source": [
    "# output statistics\n",
    "printModelStats(y_preds, y_cv)"
   ]
  },
  {
   "cell_type": "markdown",
   "metadata": {},
   "source": [
    "Gridsearch for optimization"
   ]
  },
  {
   "cell_type": "code",
   "execution_count": 38,
   "metadata": {},
   "outputs": [
    {
     "name": "stdout",
     "output_type": "stream",
     "text": [
      "Fitting 5 folds for each of 192 candidates, totalling 960 fits\n",
      "[CV 1/5] END C=1, class_weight=None, dual=auto, fit_intercept=True, intercept_scaling=1, loss=hinge, multi_class=ovr, penalty=l1;, score=nan total time=   9.4s\n",
      "[CV 2/5] END C=1, class_weight=None, dual=auto, fit_intercept=True, intercept_scaling=1, loss=hinge, multi_class=ovr, penalty=l1;, score=nan total time=   2.7s\n",
      "[CV 3/5] END C=1, class_weight=None, dual=auto, fit_intercept=True, intercept_scaling=1, loss=hinge, multi_class=ovr, penalty=l1;, score=nan total time=   2.4s\n",
      "[CV 4/5] END C=1, class_weight=None, dual=auto, fit_intercept=True, intercept_scaling=1, loss=hinge, multi_class=ovr, penalty=l1;, score=nan total time=   2.6s\n",
      "[CV 5/5] END C=1, class_weight=None, dual=auto, fit_intercept=True, intercept_scaling=1, loss=hinge, multi_class=ovr, penalty=l1;, score=nan total time=   2.6s\n",
      "[CV 1/5] END C=1, class_weight=None, dual=auto, fit_intercept=True, intercept_scaling=1, loss=hinge, multi_class=ovr, penalty=l2;, score=0.950 total time=   6.1s\n",
      "[CV 2/5] END C=1, class_weight=None, dual=auto, fit_intercept=True, intercept_scaling=1, loss=hinge, multi_class=ovr, penalty=l2;, score=0.952 total time=   5.3s\n",
      "[CV 3/5] END C=1, class_weight=None, dual=auto, fit_intercept=True, intercept_scaling=1, loss=hinge, multi_class=ovr, penalty=l2;, score=0.957 total time=   4.8s\n",
      "[CV 4/5] END C=1, class_weight=None, dual=auto, fit_intercept=True, intercept_scaling=1, loss=hinge, multi_class=ovr, penalty=l2;, score=0.958 total time=   5.1s\n",
      "[CV 5/5] END C=1, class_weight=None, dual=auto, fit_intercept=True, intercept_scaling=1, loss=hinge, multi_class=ovr, penalty=l2;, score=0.960 total time=   5.1s\n"
     ]
    },
    {
     "name": "stderr",
     "output_type": "stream",
     "text": [
      "C:\\Users\\never\\AppData\\Roaming\\Python\\Python311\\site-packages\\sklearn\\svm\\_base.py:1250: ConvergenceWarning: Liblinear failed to converge, increase the number of iterations.\n",
      "  warnings.warn(\n"
     ]
    },
    {
     "name": "stdout",
     "output_type": "stream",
     "text": [
      "[CV 1/5] END C=1, class_weight=None, dual=auto, fit_intercept=True, intercept_scaling=1, loss=hinge, multi_class=crammer_singer, penalty=l1;, score=0.951 total time=   9.1s\n"
     ]
    },
    {
     "name": "stderr",
     "output_type": "stream",
     "text": [
      "C:\\Users\\never\\AppData\\Roaming\\Python\\Python311\\site-packages\\sklearn\\svm\\_base.py:1250: ConvergenceWarning: Liblinear failed to converge, increase the number of iterations.\n",
      "  warnings.warn(\n"
     ]
    },
    {
     "name": "stdout",
     "output_type": "stream",
     "text": [
      "[CV 2/5] END C=1, class_weight=None, dual=auto, fit_intercept=True, intercept_scaling=1, loss=hinge, multi_class=crammer_singer, penalty=l1;, score=0.954 total time=   9.1s\n"
     ]
    },
    {
     "name": "stderr",
     "output_type": "stream",
     "text": [
      "C:\\Users\\never\\AppData\\Roaming\\Python\\Python311\\site-packages\\sklearn\\svm\\_base.py:1250: ConvergenceWarning: Liblinear failed to converge, increase the number of iterations.\n",
      "  warnings.warn(\n"
     ]
    },
    {
     "name": "stdout",
     "output_type": "stream",
     "text": [
      "[CV 3/5] END C=1, class_weight=None, dual=auto, fit_intercept=True, intercept_scaling=1, loss=hinge, multi_class=crammer_singer, penalty=l1;, score=0.958 total time=   7.2s\n"
     ]
    },
    {
     "name": "stderr",
     "output_type": "stream",
     "text": [
      "C:\\Users\\never\\AppData\\Roaming\\Python\\Python311\\site-packages\\sklearn\\svm\\_base.py:1250: ConvergenceWarning: Liblinear failed to converge, increase the number of iterations.\n",
      "  warnings.warn(\n"
     ]
    },
    {
     "name": "stdout",
     "output_type": "stream",
     "text": [
      "[CV 4/5] END C=1, class_weight=None, dual=auto, fit_intercept=True, intercept_scaling=1, loss=hinge, multi_class=crammer_singer, penalty=l1;, score=0.958 total time=   9.1s\n"
     ]
    },
    {
     "name": "stderr",
     "output_type": "stream",
     "text": [
      "C:\\Users\\never\\AppData\\Roaming\\Python\\Python311\\site-packages\\sklearn\\svm\\_base.py:1250: ConvergenceWarning: Liblinear failed to converge, increase the number of iterations.\n",
      "  warnings.warn(\n"
     ]
    },
    {
     "name": "stdout",
     "output_type": "stream",
     "text": [
      "[CV 5/5] END C=1, class_weight=None, dual=auto, fit_intercept=True, intercept_scaling=1, loss=hinge, multi_class=crammer_singer, penalty=l1;, score=0.963 total time=   8.7s\n"
     ]
    },
    {
     "name": "stderr",
     "output_type": "stream",
     "text": [
      "C:\\Users\\never\\AppData\\Roaming\\Python\\Python311\\site-packages\\sklearn\\svm\\_base.py:1250: ConvergenceWarning: Liblinear failed to converge, increase the number of iterations.\n",
      "  warnings.warn(\n"
     ]
    },
    {
     "name": "stdout",
     "output_type": "stream",
     "text": [
      "[CV 1/5] END C=1, class_weight=None, dual=auto, fit_intercept=True, intercept_scaling=1, loss=hinge, multi_class=crammer_singer, penalty=l2;, score=0.951 total time=  10.3s\n"
     ]
    },
    {
     "name": "stderr",
     "output_type": "stream",
     "text": [
      "C:\\Users\\never\\AppData\\Roaming\\Python\\Python311\\site-packages\\sklearn\\svm\\_base.py:1250: ConvergenceWarning: Liblinear failed to converge, increase the number of iterations.\n",
      "  warnings.warn(\n"
     ]
    },
    {
     "name": "stdout",
     "output_type": "stream",
     "text": [
      "[CV 2/5] END C=1, class_weight=None, dual=auto, fit_intercept=True, intercept_scaling=1, loss=hinge, multi_class=crammer_singer, penalty=l2;, score=0.954 total time=   9.9s\n"
     ]
    },
    {
     "name": "stderr",
     "output_type": "stream",
     "text": [
      "C:\\Users\\never\\AppData\\Roaming\\Python\\Python311\\site-packages\\sklearn\\svm\\_base.py:1250: ConvergenceWarning: Liblinear failed to converge, increase the number of iterations.\n",
      "  warnings.warn(\n"
     ]
    },
    {
     "name": "stdout",
     "output_type": "stream",
     "text": [
      "[CV 3/5] END C=1, class_weight=None, dual=auto, fit_intercept=True, intercept_scaling=1, loss=hinge, multi_class=crammer_singer, penalty=l2;, score=0.958 total time=   6.9s\n"
     ]
    },
    {
     "name": "stderr",
     "output_type": "stream",
     "text": [
      "C:\\Users\\never\\AppData\\Roaming\\Python\\Python311\\site-packages\\sklearn\\svm\\_base.py:1250: ConvergenceWarning: Liblinear failed to converge, increase the number of iterations.\n",
      "  warnings.warn(\n"
     ]
    },
    {
     "name": "stdout",
     "output_type": "stream",
     "text": [
      "[CV 4/5] END C=1, class_weight=None, dual=auto, fit_intercept=True, intercept_scaling=1, loss=hinge, multi_class=crammer_singer, penalty=l2;, score=0.958 total time=   7.9s\n"
     ]
    },
    {
     "name": "stderr",
     "output_type": "stream",
     "text": [
      "C:\\Users\\never\\AppData\\Roaming\\Python\\Python311\\site-packages\\sklearn\\svm\\_base.py:1250: ConvergenceWarning: Liblinear failed to converge, increase the number of iterations.\n",
      "  warnings.warn(\n"
     ]
    },
    {
     "name": "stdout",
     "output_type": "stream",
     "text": [
      "[CV 5/5] END C=1, class_weight=None, dual=auto, fit_intercept=True, intercept_scaling=1, loss=hinge, multi_class=crammer_singer, penalty=l2;, score=0.963 total time=   7.6s\n",
      "[CV 1/5] END C=1, class_weight=None, dual=auto, fit_intercept=True, intercept_scaling=1, loss=squared_hinge, multi_class=ovr, penalty=l1;, score=0.955 total time=   6.4s\n",
      "[CV 2/5] END C=1, class_weight=None, dual=auto, fit_intercept=True, intercept_scaling=1, loss=squared_hinge, multi_class=ovr, penalty=l1;, score=0.953 total time=   6.4s\n",
      "[CV 3/5] END C=1, class_weight=None, dual=auto, fit_intercept=True, intercept_scaling=1, loss=squared_hinge, multi_class=ovr, penalty=l1;, score=0.957 total time=   6.2s\n",
      "[CV 4/5] END C=1, class_weight=None, dual=auto, fit_intercept=True, intercept_scaling=1, loss=squared_hinge, multi_class=ovr, penalty=l1;, score=0.958 total time=   5.8s\n",
      "[CV 5/5] END C=1, class_weight=None, dual=auto, fit_intercept=True, intercept_scaling=1, loss=squared_hinge, multi_class=ovr, penalty=l1;, score=0.963 total time=   6.0s\n",
      "[CV 1/5] END C=1, class_weight=None, dual=auto, fit_intercept=True, intercept_scaling=1, loss=squared_hinge, multi_class=ovr, penalty=l2;, score=0.954 total time=  10.6s\n",
      "[CV 2/5] END C=1, class_weight=None, dual=auto, fit_intercept=True, intercept_scaling=1, loss=squared_hinge, multi_class=ovr, penalty=l2;, score=0.954 total time=  10.6s\n",
      "[CV 3/5] END C=1, class_weight=None, dual=auto, fit_intercept=True, intercept_scaling=1, loss=squared_hinge, multi_class=ovr, penalty=l2;, score=0.959 total time=  10.0s\n",
      "[CV 4/5] END C=1, class_weight=None, dual=auto, fit_intercept=True, intercept_scaling=1, loss=squared_hinge, multi_class=ovr, penalty=l2;, score=0.960 total time=   9.5s\n",
      "[CV 5/5] END C=1, class_weight=None, dual=auto, fit_intercept=True, intercept_scaling=1, loss=squared_hinge, multi_class=ovr, penalty=l2;, score=0.961 total time=  10.0s\n"
     ]
    },
    {
     "name": "stderr",
     "output_type": "stream",
     "text": [
      "C:\\Users\\never\\AppData\\Roaming\\Python\\Python311\\site-packages\\sklearn\\svm\\_base.py:1250: ConvergenceWarning: Liblinear failed to converge, increase the number of iterations.\n",
      "  warnings.warn(\n"
     ]
    },
    {
     "name": "stdout",
     "output_type": "stream",
     "text": [
      "[CV 1/5] END C=1, class_weight=None, dual=auto, fit_intercept=True, intercept_scaling=1, loss=squared_hinge, multi_class=crammer_singer, penalty=l1;, score=0.951 total time=   8.7s\n"
     ]
    },
    {
     "name": "stderr",
     "output_type": "stream",
     "text": [
      "C:\\Users\\never\\AppData\\Roaming\\Python\\Python311\\site-packages\\sklearn\\svm\\_base.py:1250: ConvergenceWarning: Liblinear failed to converge, increase the number of iterations.\n",
      "  warnings.warn(\n"
     ]
    },
    {
     "name": "stdout",
     "output_type": "stream",
     "text": [
      "[CV 2/5] END C=1, class_weight=None, dual=auto, fit_intercept=True, intercept_scaling=1, loss=squared_hinge, multi_class=crammer_singer, penalty=l1;, score=0.954 total time=   8.7s\n"
     ]
    },
    {
     "name": "stderr",
     "output_type": "stream",
     "text": [
      "C:\\Users\\never\\AppData\\Roaming\\Python\\Python311\\site-packages\\sklearn\\svm\\_base.py:1250: ConvergenceWarning: Liblinear failed to converge, increase the number of iterations.\n",
      "  warnings.warn(\n"
     ]
    },
    {
     "name": "stdout",
     "output_type": "stream",
     "text": [
      "[CV 3/5] END C=1, class_weight=None, dual=auto, fit_intercept=True, intercept_scaling=1, loss=squared_hinge, multi_class=crammer_singer, penalty=l1;, score=0.958 total time=   7.2s\n"
     ]
    },
    {
     "name": "stderr",
     "output_type": "stream",
     "text": [
      "C:\\Users\\never\\AppData\\Roaming\\Python\\Python311\\site-packages\\sklearn\\svm\\_base.py:1250: ConvergenceWarning: Liblinear failed to converge, increase the number of iterations.\n",
      "  warnings.warn(\n"
     ]
    },
    {
     "name": "stdout",
     "output_type": "stream",
     "text": [
      "[CV 4/5] END C=1, class_weight=None, dual=auto, fit_intercept=True, intercept_scaling=1, loss=squared_hinge, multi_class=crammer_singer, penalty=l1;, score=0.958 total time=   8.3s\n"
     ]
    },
    {
     "name": "stderr",
     "output_type": "stream",
     "text": [
      "C:\\Users\\never\\AppData\\Roaming\\Python\\Python311\\site-packages\\sklearn\\svm\\_base.py:1250: ConvergenceWarning: Liblinear failed to converge, increase the number of iterations.\n",
      "  warnings.warn(\n"
     ]
    },
    {
     "name": "stdout",
     "output_type": "stream",
     "text": [
      "[CV 5/5] END C=1, class_weight=None, dual=auto, fit_intercept=True, intercept_scaling=1, loss=squared_hinge, multi_class=crammer_singer, penalty=l1;, score=0.963 total time=   7.8s\n"
     ]
    },
    {
     "name": "stderr",
     "output_type": "stream",
     "text": [
      "C:\\Users\\never\\AppData\\Roaming\\Python\\Python311\\site-packages\\sklearn\\svm\\_base.py:1250: ConvergenceWarning: Liblinear failed to converge, increase the number of iterations.\n",
      "  warnings.warn(\n"
     ]
    },
    {
     "name": "stdout",
     "output_type": "stream",
     "text": [
      "[CV 1/5] END C=1, class_weight=None, dual=auto, fit_intercept=True, intercept_scaling=1, loss=squared_hinge, multi_class=crammer_singer, penalty=l2;, score=0.951 total time=   8.9s\n"
     ]
    },
    {
     "name": "stderr",
     "output_type": "stream",
     "text": [
      "C:\\Users\\never\\AppData\\Roaming\\Python\\Python311\\site-packages\\sklearn\\svm\\_base.py:1250: ConvergenceWarning: Liblinear failed to converge, increase the number of iterations.\n",
      "  warnings.warn(\n"
     ]
    },
    {
     "name": "stdout",
     "output_type": "stream",
     "text": [
      "[CV 2/5] END C=1, class_weight=None, dual=auto, fit_intercept=True, intercept_scaling=1, loss=squared_hinge, multi_class=crammer_singer, penalty=l2;, score=0.954 total time=   8.6s\n"
     ]
    },
    {
     "name": "stderr",
     "output_type": "stream",
     "text": [
      "C:\\Users\\never\\AppData\\Roaming\\Python\\Python311\\site-packages\\sklearn\\svm\\_base.py:1250: ConvergenceWarning: Liblinear failed to converge, increase the number of iterations.\n",
      "  warnings.warn(\n"
     ]
    },
    {
     "name": "stdout",
     "output_type": "stream",
     "text": [
      "[CV 3/5] END C=1, class_weight=None, dual=auto, fit_intercept=True, intercept_scaling=1, loss=squared_hinge, multi_class=crammer_singer, penalty=l2;, score=0.958 total time=   7.2s\n",
      "[CV 4/5] END C=1, class_weight=None, dual=auto, fit_intercept=True, intercept_scaling=1, loss=squared_hinge, multi_class=crammer_singer, penalty=l2;, score=0.958 total time=   7.9s\n"
     ]
    },
    {
     "name": "stderr",
     "output_type": "stream",
     "text": [
      "C:\\Users\\never\\AppData\\Roaming\\Python\\Python311\\site-packages\\sklearn\\svm\\_base.py:1250: ConvergenceWarning: Liblinear failed to converge, increase the number of iterations.\n",
      "  warnings.warn(\n"
     ]
    },
    {
     "name": "stdout",
     "output_type": "stream",
     "text": [
      "[CV 5/5] END C=1, class_weight=None, dual=auto, fit_intercept=True, intercept_scaling=1, loss=squared_hinge, multi_class=crammer_singer, penalty=l2;, score=0.963 total time=   7.6s\n",
      "[CV 1/5] END C=1, class_weight=None, dual=auto, fit_intercept=True, intercept_scaling=1.5, loss=hinge, multi_class=ovr, penalty=l1;, score=nan total time=   1.8s\n",
      "[CV 2/5] END C=1, class_weight=None, dual=auto, fit_intercept=True, intercept_scaling=1.5, loss=hinge, multi_class=ovr, penalty=l1;, score=nan total time=   1.8s\n",
      "[CV 3/5] END C=1, class_weight=None, dual=auto, fit_intercept=True, intercept_scaling=1.5, loss=hinge, multi_class=ovr, penalty=l1;, score=nan total time=   1.7s\n",
      "[CV 4/5] END C=1, class_weight=None, dual=auto, fit_intercept=True, intercept_scaling=1.5, loss=hinge, multi_class=ovr, penalty=l1;, score=nan total time=   1.8s\n",
      "[CV 5/5] END C=1, class_weight=None, dual=auto, fit_intercept=True, intercept_scaling=1.5, loss=hinge, multi_class=ovr, penalty=l1;, score=nan total time=   1.8s\n",
      "[CV 1/5] END C=1, class_weight=None, dual=auto, fit_intercept=True, intercept_scaling=1.5, loss=hinge, multi_class=ovr, penalty=l2;, score=0.950 total time=   5.3s\n",
      "[CV 2/5] END C=1, class_weight=None, dual=auto, fit_intercept=True, intercept_scaling=1.5, loss=hinge, multi_class=ovr, penalty=l2;, score=0.952 total time=   5.2s\n",
      "[CV 3/5] END C=1, class_weight=None, dual=auto, fit_intercept=True, intercept_scaling=1.5, loss=hinge, multi_class=ovr, penalty=l2;, score=0.957 total time=   5.0s\n",
      "[CV 4/5] END C=1, class_weight=None, dual=auto, fit_intercept=True, intercept_scaling=1.5, loss=hinge, multi_class=ovr, penalty=l2;, score=0.958 total time=   5.3s\n",
      "[CV 5/5] END C=1, class_weight=None, dual=auto, fit_intercept=True, intercept_scaling=1.5, loss=hinge, multi_class=ovr, penalty=l2;, score=0.960 total time=   5.1s\n"
     ]
    },
    {
     "name": "stderr",
     "output_type": "stream",
     "text": [
      "C:\\Users\\never\\AppData\\Roaming\\Python\\Python311\\site-packages\\sklearn\\svm\\_base.py:1250: ConvergenceWarning: Liblinear failed to converge, increase the number of iterations.\n",
      "  warnings.warn(\n"
     ]
    },
    {
     "name": "stdout",
     "output_type": "stream",
     "text": [
      "[CV 1/5] END C=1, class_weight=None, dual=auto, fit_intercept=True, intercept_scaling=1.5, loss=hinge, multi_class=crammer_singer, penalty=l1;, score=0.951 total time=   7.8s\n"
     ]
    },
    {
     "name": "stderr",
     "output_type": "stream",
     "text": [
      "C:\\Users\\never\\AppData\\Roaming\\Python\\Python311\\site-packages\\sklearn\\svm\\_base.py:1250: ConvergenceWarning: Liblinear failed to converge, increase the number of iterations.\n",
      "  warnings.warn(\n"
     ]
    },
    {
     "name": "stdout",
     "output_type": "stream",
     "text": [
      "[CV 2/5] END C=1, class_weight=None, dual=auto, fit_intercept=True, intercept_scaling=1.5, loss=hinge, multi_class=crammer_singer, penalty=l1;, score=0.954 total time=   9.5s\n"
     ]
    },
    {
     "name": "stderr",
     "output_type": "stream",
     "text": [
      "C:\\Users\\never\\AppData\\Roaming\\Python\\Python311\\site-packages\\sklearn\\svm\\_base.py:1250: ConvergenceWarning: Liblinear failed to converge, increase the number of iterations.\n",
      "  warnings.warn(\n"
     ]
    },
    {
     "name": "stdout",
     "output_type": "stream",
     "text": [
      "[CV 3/5] END C=1, class_weight=None, dual=auto, fit_intercept=True, intercept_scaling=1.5, loss=hinge, multi_class=crammer_singer, penalty=l1;, score=0.958 total time=   9.2s\n"
     ]
    },
    {
     "name": "stderr",
     "output_type": "stream",
     "text": [
      "C:\\Users\\never\\AppData\\Roaming\\Python\\Python311\\site-packages\\sklearn\\svm\\_base.py:1250: ConvergenceWarning: Liblinear failed to converge, increase the number of iterations.\n",
      "  warnings.warn(\n"
     ]
    },
    {
     "name": "stdout",
     "output_type": "stream",
     "text": [
      "[CV 4/5] END C=1, class_weight=None, dual=auto, fit_intercept=True, intercept_scaling=1.5, loss=hinge, multi_class=crammer_singer, penalty=l1;, score=0.958 total time=  11.7s\n"
     ]
    },
    {
     "name": "stderr",
     "output_type": "stream",
     "text": [
      "C:\\Users\\never\\AppData\\Roaming\\Python\\Python311\\site-packages\\sklearn\\svm\\_base.py:1250: ConvergenceWarning: Liblinear failed to converge, increase the number of iterations.\n",
      "  warnings.warn(\n"
     ]
    },
    {
     "name": "stdout",
     "output_type": "stream",
     "text": [
      "[CV 5/5] END C=1, class_weight=None, dual=auto, fit_intercept=True, intercept_scaling=1.5, loss=hinge, multi_class=crammer_singer, penalty=l1;, score=0.963 total time=   8.9s\n"
     ]
    },
    {
     "name": "stderr",
     "output_type": "stream",
     "text": [
      "C:\\Users\\never\\AppData\\Roaming\\Python\\Python311\\site-packages\\sklearn\\svm\\_base.py:1250: ConvergenceWarning: Liblinear failed to converge, increase the number of iterations.\n",
      "  warnings.warn(\n"
     ]
    },
    {
     "name": "stdout",
     "output_type": "stream",
     "text": [
      "[CV 1/5] END C=1, class_weight=None, dual=auto, fit_intercept=True, intercept_scaling=1.5, loss=hinge, multi_class=crammer_singer, penalty=l2;, score=0.951 total time=   8.6s\n"
     ]
    },
    {
     "name": "stderr",
     "output_type": "stream",
     "text": [
      "C:\\Users\\never\\AppData\\Roaming\\Python\\Python311\\site-packages\\sklearn\\svm\\_base.py:1250: ConvergenceWarning: Liblinear failed to converge, increase the number of iterations.\n",
      "  warnings.warn(\n"
     ]
    },
    {
     "name": "stdout",
     "output_type": "stream",
     "text": [
      "[CV 2/5] END C=1, class_weight=None, dual=auto, fit_intercept=True, intercept_scaling=1.5, loss=hinge, multi_class=crammer_singer, penalty=l2;, score=0.954 total time=   9.2s\n"
     ]
    },
    {
     "name": "stderr",
     "output_type": "stream",
     "text": [
      "C:\\Users\\never\\AppData\\Roaming\\Python\\Python311\\site-packages\\sklearn\\svm\\_base.py:1250: ConvergenceWarning: Liblinear failed to converge, increase the number of iterations.\n",
      "  warnings.warn(\n"
     ]
    },
    {
     "name": "stdout",
     "output_type": "stream",
     "text": [
      "[CV 3/5] END C=1, class_weight=None, dual=auto, fit_intercept=True, intercept_scaling=1.5, loss=hinge, multi_class=crammer_singer, penalty=l2;, score=0.958 total time=   8.6s\n"
     ]
    },
    {
     "name": "stderr",
     "output_type": "stream",
     "text": [
      "C:\\Users\\never\\AppData\\Roaming\\Python\\Python311\\site-packages\\sklearn\\svm\\_base.py:1250: ConvergenceWarning: Liblinear failed to converge, increase the number of iterations.\n",
      "  warnings.warn(\n"
     ]
    },
    {
     "name": "stdout",
     "output_type": "stream",
     "text": [
      "[CV 4/5] END C=1, class_weight=None, dual=auto, fit_intercept=True, intercept_scaling=1.5, loss=hinge, multi_class=crammer_singer, penalty=l2;, score=0.958 total time=  11.3s\n"
     ]
    },
    {
     "name": "stderr",
     "output_type": "stream",
     "text": [
      "C:\\Users\\never\\AppData\\Roaming\\Python\\Python311\\site-packages\\sklearn\\svm\\_base.py:1250: ConvergenceWarning: Liblinear failed to converge, increase the number of iterations.\n",
      "  warnings.warn(\n"
     ]
    },
    {
     "name": "stdout",
     "output_type": "stream",
     "text": [
      "[CV 5/5] END C=1, class_weight=None, dual=auto, fit_intercept=True, intercept_scaling=1.5, loss=hinge, multi_class=crammer_singer, penalty=l2;, score=0.963 total time=   8.5s\n",
      "[CV 1/5] END C=1, class_weight=None, dual=auto, fit_intercept=True, intercept_scaling=1.5, loss=squared_hinge, multi_class=ovr, penalty=l1;, score=0.954 total time=   6.4s\n",
      "[CV 2/5] END C=1, class_weight=None, dual=auto, fit_intercept=True, intercept_scaling=1.5, loss=squared_hinge, multi_class=ovr, penalty=l1;, score=0.954 total time=   6.2s\n",
      "[CV 3/5] END C=1, class_weight=None, dual=auto, fit_intercept=True, intercept_scaling=1.5, loss=squared_hinge, multi_class=ovr, penalty=l1;, score=0.957 total time=   6.8s\n",
      "[CV 4/5] END C=1, class_weight=None, dual=auto, fit_intercept=True, intercept_scaling=1.5, loss=squared_hinge, multi_class=ovr, penalty=l1;, score=0.958 total time=   6.2s\n",
      "[CV 5/5] END C=1, class_weight=None, dual=auto, fit_intercept=True, intercept_scaling=1.5, loss=squared_hinge, multi_class=ovr, penalty=l1;, score=0.963 total time=   6.1s\n",
      "[CV 1/5] END C=1, class_weight=None, dual=auto, fit_intercept=True, intercept_scaling=1.5, loss=squared_hinge, multi_class=ovr, penalty=l2;, score=0.954 total time=   9.4s\n",
      "[CV 2/5] END C=1, class_weight=None, dual=auto, fit_intercept=True, intercept_scaling=1.5, loss=squared_hinge, multi_class=ovr, penalty=l2;, score=0.954 total time=   8.5s\n",
      "[CV 3/5] END C=1, class_weight=None, dual=auto, fit_intercept=True, intercept_scaling=1.5, loss=squared_hinge, multi_class=ovr, penalty=l2;, score=0.960 total time=   9.4s\n",
      "[CV 4/5] END C=1, class_weight=None, dual=auto, fit_intercept=True, intercept_scaling=1.5, loss=squared_hinge, multi_class=ovr, penalty=l2;, score=0.960 total time=   8.7s\n",
      "[CV 5/5] END C=1, class_weight=None, dual=auto, fit_intercept=True, intercept_scaling=1.5, loss=squared_hinge, multi_class=ovr, penalty=l2;, score=0.961 total time=  10.4s\n"
     ]
    },
    {
     "name": "stderr",
     "output_type": "stream",
     "text": [
      "C:\\Users\\never\\AppData\\Roaming\\Python\\Python311\\site-packages\\sklearn\\svm\\_base.py:1250: ConvergenceWarning: Liblinear failed to converge, increase the number of iterations.\n",
      "  warnings.warn(\n"
     ]
    },
    {
     "name": "stdout",
     "output_type": "stream",
     "text": [
      "[CV 1/5] END C=1, class_weight=None, dual=auto, fit_intercept=True, intercept_scaling=1.5, loss=squared_hinge, multi_class=crammer_singer, penalty=l1;, score=0.951 total time=   7.8s\n",
      "[CV 2/5] END C=1, class_weight=None, dual=auto, fit_intercept=True, intercept_scaling=1.5, loss=squared_hinge, multi_class=crammer_singer, penalty=l1;, score=0.954 total time=   9.2s\n"
     ]
    },
    {
     "name": "stderr",
     "output_type": "stream",
     "text": [
      "C:\\Users\\never\\AppData\\Roaming\\Python\\Python311\\site-packages\\sklearn\\svm\\_base.py:1250: ConvergenceWarning: Liblinear failed to converge, increase the number of iterations.\n",
      "  warnings.warn(\n"
     ]
    },
    {
     "name": "stdout",
     "output_type": "stream",
     "text": [
      "[CV 3/5] END C=1, class_weight=None, dual=auto, fit_intercept=True, intercept_scaling=1.5, loss=squared_hinge, multi_class=crammer_singer, penalty=l1;, score=0.958 total time=   8.4s\n"
     ]
    },
    {
     "name": "stderr",
     "output_type": "stream",
     "text": [
      "C:\\Users\\never\\AppData\\Roaming\\Python\\Python311\\site-packages\\sklearn\\svm\\_base.py:1250: ConvergenceWarning: Liblinear failed to converge, increase the number of iterations.\n",
      "  warnings.warn(\n"
     ]
    },
    {
     "name": "stdout",
     "output_type": "stream",
     "text": [
      "[CV 4/5] END C=1, class_weight=None, dual=auto, fit_intercept=True, intercept_scaling=1.5, loss=squared_hinge, multi_class=crammer_singer, penalty=l1;, score=0.958 total time=  11.1s\n"
     ]
    },
    {
     "name": "stderr",
     "output_type": "stream",
     "text": [
      "C:\\Users\\never\\AppData\\Roaming\\Python\\Python311\\site-packages\\sklearn\\svm\\_base.py:1250: ConvergenceWarning: Liblinear failed to converge, increase the number of iterations.\n",
      "  warnings.warn(\n"
     ]
    },
    {
     "name": "stdout",
     "output_type": "stream",
     "text": [
      "[CV 5/5] END C=1, class_weight=None, dual=auto, fit_intercept=True, intercept_scaling=1.5, loss=squared_hinge, multi_class=crammer_singer, penalty=l1;, score=0.963 total time=   8.3s\n"
     ]
    },
    {
     "name": "stderr",
     "output_type": "stream",
     "text": [
      "C:\\Users\\never\\AppData\\Roaming\\Python\\Python311\\site-packages\\sklearn\\svm\\_base.py:1250: ConvergenceWarning: Liblinear failed to converge, increase the number of iterations.\n",
      "  warnings.warn(\n"
     ]
    },
    {
     "name": "stdout",
     "output_type": "stream",
     "text": [
      "[CV 1/5] END C=1, class_weight=None, dual=auto, fit_intercept=True, intercept_scaling=1.5, loss=squared_hinge, multi_class=crammer_singer, penalty=l2;, score=0.951 total time=   9.1s\n"
     ]
    },
    {
     "name": "stderr",
     "output_type": "stream",
     "text": [
      "C:\\Users\\never\\AppData\\Roaming\\Python\\Python311\\site-packages\\sklearn\\svm\\_base.py:1250: ConvergenceWarning: Liblinear failed to converge, increase the number of iterations.\n",
      "  warnings.warn(\n"
     ]
    },
    {
     "name": "stdout",
     "output_type": "stream",
     "text": [
      "[CV 2/5] END C=1, class_weight=None, dual=auto, fit_intercept=True, intercept_scaling=1.5, loss=squared_hinge, multi_class=crammer_singer, penalty=l2;, score=0.954 total time=  10.5s\n"
     ]
    },
    {
     "name": "stderr",
     "output_type": "stream",
     "text": [
      "C:\\Users\\never\\AppData\\Roaming\\Python\\Python311\\site-packages\\sklearn\\svm\\_base.py:1250: ConvergenceWarning: Liblinear failed to converge, increase the number of iterations.\n",
      "  warnings.warn(\n"
     ]
    },
    {
     "name": "stdout",
     "output_type": "stream",
     "text": [
      "[CV 3/5] END C=1, class_weight=None, dual=auto, fit_intercept=True, intercept_scaling=1.5, loss=squared_hinge, multi_class=crammer_singer, penalty=l2;, score=0.958 total time=   9.5s\n"
     ]
    },
    {
     "name": "stderr",
     "output_type": "stream",
     "text": [
      "C:\\Users\\never\\AppData\\Roaming\\Python\\Python311\\site-packages\\sklearn\\svm\\_base.py:1250: ConvergenceWarning: Liblinear failed to converge, increase the number of iterations.\n",
      "  warnings.warn(\n"
     ]
    },
    {
     "name": "stdout",
     "output_type": "stream",
     "text": [
      "[CV 4/5] END C=1, class_weight=None, dual=auto, fit_intercept=True, intercept_scaling=1.5, loss=squared_hinge, multi_class=crammer_singer, penalty=l2;, score=0.958 total time=  11.3s\n"
     ]
    },
    {
     "name": "stderr",
     "output_type": "stream",
     "text": [
      "C:\\Users\\never\\AppData\\Roaming\\Python\\Python311\\site-packages\\sklearn\\svm\\_base.py:1250: ConvergenceWarning: Liblinear failed to converge, increase the number of iterations.\n",
      "  warnings.warn(\n"
     ]
    },
    {
     "name": "stdout",
     "output_type": "stream",
     "text": [
      "[CV 5/5] END C=1, class_weight=None, dual=auto, fit_intercept=True, intercept_scaling=1.5, loss=squared_hinge, multi_class=crammer_singer, penalty=l2;, score=0.963 total time=   8.1s\n",
      "[CV 1/5] END C=1, class_weight=None, dual=auto, fit_intercept=True, intercept_scaling=2, loss=hinge, multi_class=ovr, penalty=l1;, score=nan total time=   1.8s\n",
      "[CV 2/5] END C=1, class_weight=None, dual=auto, fit_intercept=True, intercept_scaling=2, loss=hinge, multi_class=ovr, penalty=l1;, score=nan total time=   1.7s\n",
      "[CV 3/5] END C=1, class_weight=None, dual=auto, fit_intercept=True, intercept_scaling=2, loss=hinge, multi_class=ovr, penalty=l1;, score=nan total time=   1.7s\n",
      "[CV 4/5] END C=1, class_weight=None, dual=auto, fit_intercept=True, intercept_scaling=2, loss=hinge, multi_class=ovr, penalty=l1;, score=nan total time=   1.7s\n",
      "[CV 5/5] END C=1, class_weight=None, dual=auto, fit_intercept=True, intercept_scaling=2, loss=hinge, multi_class=ovr, penalty=l1;, score=nan total time=   1.7s\n",
      "[CV 1/5] END C=1, class_weight=None, dual=auto, fit_intercept=True, intercept_scaling=2, loss=hinge, multi_class=ovr, penalty=l2;, score=0.950 total time=   5.4s\n",
      "[CV 2/5] END C=1, class_weight=None, dual=auto, fit_intercept=True, intercept_scaling=2, loss=hinge, multi_class=ovr, penalty=l2;, score=0.952 total time=   5.6s\n",
      "[CV 3/5] END C=1, class_weight=None, dual=auto, fit_intercept=True, intercept_scaling=2, loss=hinge, multi_class=ovr, penalty=l2;, score=0.957 total time=   5.4s\n",
      "[CV 4/5] END C=1, class_weight=None, dual=auto, fit_intercept=True, intercept_scaling=2, loss=hinge, multi_class=ovr, penalty=l2;, score=0.958 total time=   5.3s\n",
      "[CV 5/5] END C=1, class_weight=None, dual=auto, fit_intercept=True, intercept_scaling=2, loss=hinge, multi_class=ovr, penalty=l2;, score=0.960 total time=   5.2s\n"
     ]
    },
    {
     "name": "stderr",
     "output_type": "stream",
     "text": [
      "C:\\Users\\never\\AppData\\Roaming\\Python\\Python311\\site-packages\\sklearn\\svm\\_base.py:1250: ConvergenceWarning: Liblinear failed to converge, increase the number of iterations.\n",
      "  warnings.warn(\n"
     ]
    },
    {
     "name": "stdout",
     "output_type": "stream",
     "text": [
      "[CV 1/5] END C=1, class_weight=None, dual=auto, fit_intercept=True, intercept_scaling=2, loss=hinge, multi_class=crammer_singer, penalty=l1;, score=0.951 total time=   9.8s\n"
     ]
    },
    {
     "name": "stderr",
     "output_type": "stream",
     "text": [
      "C:\\Users\\never\\AppData\\Roaming\\Python\\Python311\\site-packages\\sklearn\\svm\\_base.py:1250: ConvergenceWarning: Liblinear failed to converge, increase the number of iterations.\n",
      "  warnings.warn(\n"
     ]
    },
    {
     "name": "stdout",
     "output_type": "stream",
     "text": [
      "[CV 2/5] END C=1, class_weight=None, dual=auto, fit_intercept=True, intercept_scaling=2, loss=hinge, multi_class=crammer_singer, penalty=l1;, score=0.954 total time=  10.2s\n"
     ]
    },
    {
     "name": "stderr",
     "output_type": "stream",
     "text": [
      "C:\\Users\\never\\AppData\\Roaming\\Python\\Python311\\site-packages\\sklearn\\svm\\_base.py:1250: ConvergenceWarning: Liblinear failed to converge, increase the number of iterations.\n",
      "  warnings.warn(\n"
     ]
    },
    {
     "name": "stdout",
     "output_type": "stream",
     "text": [
      "[CV 3/5] END C=1, class_weight=None, dual=auto, fit_intercept=True, intercept_scaling=2, loss=hinge, multi_class=crammer_singer, penalty=l1;, score=0.958 total time=   8.6s\n"
     ]
    },
    {
     "name": "stderr",
     "output_type": "stream",
     "text": [
      "C:\\Users\\never\\AppData\\Roaming\\Python\\Python311\\site-packages\\sklearn\\svm\\_base.py:1250: ConvergenceWarning: Liblinear failed to converge, increase the number of iterations.\n",
      "  warnings.warn(\n"
     ]
    },
    {
     "name": "stdout",
     "output_type": "stream",
     "text": [
      "[CV 4/5] END C=1, class_weight=None, dual=auto, fit_intercept=True, intercept_scaling=2, loss=hinge, multi_class=crammer_singer, penalty=l1;, score=0.958 total time=   9.0s\n"
     ]
    },
    {
     "name": "stderr",
     "output_type": "stream",
     "text": [
      "C:\\Users\\never\\AppData\\Roaming\\Python\\Python311\\site-packages\\sklearn\\svm\\_base.py:1250: ConvergenceWarning: Liblinear failed to converge, increase the number of iterations.\n",
      "  warnings.warn(\n"
     ]
    },
    {
     "name": "stdout",
     "output_type": "stream",
     "text": [
      "[CV 5/5] END C=1, class_weight=None, dual=auto, fit_intercept=True, intercept_scaling=2, loss=hinge, multi_class=crammer_singer, penalty=l1;, score=0.963 total time=  10.1s\n"
     ]
    },
    {
     "name": "stderr",
     "output_type": "stream",
     "text": [
      "C:\\Users\\never\\AppData\\Roaming\\Python\\Python311\\site-packages\\sklearn\\svm\\_base.py:1250: ConvergenceWarning: Liblinear failed to converge, increase the number of iterations.\n",
      "  warnings.warn(\n"
     ]
    },
    {
     "name": "stdout",
     "output_type": "stream",
     "text": [
      "[CV 1/5] END C=1, class_weight=None, dual=auto, fit_intercept=True, intercept_scaling=2, loss=hinge, multi_class=crammer_singer, penalty=l2;, score=0.951 total time=  10.1s\n"
     ]
    },
    {
     "name": "stderr",
     "output_type": "stream",
     "text": [
      "C:\\Users\\never\\AppData\\Roaming\\Python\\Python311\\site-packages\\sklearn\\svm\\_base.py:1250: ConvergenceWarning: Liblinear failed to converge, increase the number of iterations.\n",
      "  warnings.warn(\n"
     ]
    },
    {
     "name": "stdout",
     "output_type": "stream",
     "text": [
      "[CV 2/5] END C=1, class_weight=None, dual=auto, fit_intercept=True, intercept_scaling=2, loss=hinge, multi_class=crammer_singer, penalty=l2;, score=0.954 total time=  10.8s\n"
     ]
    },
    {
     "name": "stderr",
     "output_type": "stream",
     "text": [
      "C:\\Users\\never\\AppData\\Roaming\\Python\\Python311\\site-packages\\sklearn\\svm\\_base.py:1250: ConvergenceWarning: Liblinear failed to converge, increase the number of iterations.\n",
      "  warnings.warn(\n"
     ]
    },
    {
     "name": "stdout",
     "output_type": "stream",
     "text": [
      "[CV 3/5] END C=1, class_weight=None, dual=auto, fit_intercept=True, intercept_scaling=2, loss=hinge, multi_class=crammer_singer, penalty=l2;, score=0.958 total time=   9.1s\n"
     ]
    },
    {
     "name": "stderr",
     "output_type": "stream",
     "text": [
      "C:\\Users\\never\\AppData\\Roaming\\Python\\Python311\\site-packages\\sklearn\\svm\\_base.py:1250: ConvergenceWarning: Liblinear failed to converge, increase the number of iterations.\n",
      "  warnings.warn(\n"
     ]
    },
    {
     "name": "stdout",
     "output_type": "stream",
     "text": [
      "[CV 4/5] END C=1, class_weight=None, dual=auto, fit_intercept=True, intercept_scaling=2, loss=hinge, multi_class=crammer_singer, penalty=l2;, score=0.958 total time=   9.1s\n"
     ]
    },
    {
     "name": "stderr",
     "output_type": "stream",
     "text": [
      "C:\\Users\\never\\AppData\\Roaming\\Python\\Python311\\site-packages\\sklearn\\svm\\_base.py:1250: ConvergenceWarning: Liblinear failed to converge, increase the number of iterations.\n",
      "  warnings.warn(\n"
     ]
    },
    {
     "name": "stdout",
     "output_type": "stream",
     "text": [
      "[CV 5/5] END C=1, class_weight=None, dual=auto, fit_intercept=True, intercept_scaling=2, loss=hinge, multi_class=crammer_singer, penalty=l2;, score=0.963 total time=  10.2s\n",
      "[CV 1/5] END C=1, class_weight=None, dual=auto, fit_intercept=True, intercept_scaling=2, loss=squared_hinge, multi_class=ovr, penalty=l1;, score=0.954 total time=   6.3s\n",
      "[CV 2/5] END C=1, class_weight=None, dual=auto, fit_intercept=True, intercept_scaling=2, loss=squared_hinge, multi_class=ovr, penalty=l1;, score=0.953 total time=   6.3s\n",
      "[CV 3/5] END C=1, class_weight=None, dual=auto, fit_intercept=True, intercept_scaling=2, loss=squared_hinge, multi_class=ovr, penalty=l1;, score=0.957 total time=   6.3s\n",
      "[CV 4/5] END C=1, class_weight=None, dual=auto, fit_intercept=True, intercept_scaling=2, loss=squared_hinge, multi_class=ovr, penalty=l1;, score=0.958 total time=   6.0s\n",
      "[CV 5/5] END C=1, class_weight=None, dual=auto, fit_intercept=True, intercept_scaling=2, loss=squared_hinge, multi_class=ovr, penalty=l1;, score=0.963 total time=   6.0s\n",
      "[CV 1/5] END C=1, class_weight=None, dual=auto, fit_intercept=True, intercept_scaling=2, loss=squared_hinge, multi_class=ovr, penalty=l2;, score=0.955 total time=   9.0s\n",
      "[CV 2/5] END C=1, class_weight=None, dual=auto, fit_intercept=True, intercept_scaling=2, loss=squared_hinge, multi_class=ovr, penalty=l2;, score=0.954 total time=   9.3s\n",
      "[CV 3/5] END C=1, class_weight=None, dual=auto, fit_intercept=True, intercept_scaling=2, loss=squared_hinge, multi_class=ovr, penalty=l2;, score=0.960 total time=   9.2s\n",
      "[CV 4/5] END C=1, class_weight=None, dual=auto, fit_intercept=True, intercept_scaling=2, loss=squared_hinge, multi_class=ovr, penalty=l2;, score=0.960 total time=   9.8s\n",
      "[CV 5/5] END C=1, class_weight=None, dual=auto, fit_intercept=True, intercept_scaling=2, loss=squared_hinge, multi_class=ovr, penalty=l2;, score=0.961 total time=   9.5s\n",
      "[CV 1/5] END C=1, class_weight=None, dual=auto, fit_intercept=True, intercept_scaling=2, loss=squared_hinge, multi_class=crammer_singer, penalty=l1;, score=0.951 total time=  11.4s\n"
     ]
    },
    {
     "name": "stderr",
     "output_type": "stream",
     "text": [
      "C:\\Users\\never\\AppData\\Roaming\\Python\\Python311\\site-packages\\sklearn\\svm\\_base.py:1250: ConvergenceWarning: Liblinear failed to converge, increase the number of iterations.\n",
      "  warnings.warn(\n"
     ]
    },
    {
     "name": "stdout",
     "output_type": "stream",
     "text": [
      "[CV 2/5] END C=1, class_weight=None, dual=auto, fit_intercept=True, intercept_scaling=2, loss=squared_hinge, multi_class=crammer_singer, penalty=l1;, score=0.954 total time=  11.7s\n"
     ]
    },
    {
     "name": "stderr",
     "output_type": "stream",
     "text": [
      "C:\\Users\\never\\AppData\\Roaming\\Python\\Python311\\site-packages\\sklearn\\svm\\_base.py:1250: ConvergenceWarning: Liblinear failed to converge, increase the number of iterations.\n",
      "  warnings.warn(\n"
     ]
    },
    {
     "name": "stdout",
     "output_type": "stream",
     "text": [
      "[CV 3/5] END C=1, class_weight=None, dual=auto, fit_intercept=True, intercept_scaling=2, loss=squared_hinge, multi_class=crammer_singer, penalty=l1;, score=0.958 total time=   9.1s\n"
     ]
    },
    {
     "name": "stderr",
     "output_type": "stream",
     "text": [
      "C:\\Users\\never\\AppData\\Roaming\\Python\\Python311\\site-packages\\sklearn\\svm\\_base.py:1250: ConvergenceWarning: Liblinear failed to converge, increase the number of iterations.\n",
      "  warnings.warn(\n"
     ]
    },
    {
     "name": "stdout",
     "output_type": "stream",
     "text": [
      "[CV 4/5] END C=1, class_weight=None, dual=auto, fit_intercept=True, intercept_scaling=2, loss=squared_hinge, multi_class=crammer_singer, penalty=l1;, score=0.958 total time=  10.1s\n"
     ]
    },
    {
     "name": "stderr",
     "output_type": "stream",
     "text": [
      "C:\\Users\\never\\AppData\\Roaming\\Python\\Python311\\site-packages\\sklearn\\svm\\_base.py:1250: ConvergenceWarning: Liblinear failed to converge, increase the number of iterations.\n",
      "  warnings.warn(\n"
     ]
    },
    {
     "name": "stdout",
     "output_type": "stream",
     "text": [
      "[CV 5/5] END C=1, class_weight=None, dual=auto, fit_intercept=True, intercept_scaling=2, loss=squared_hinge, multi_class=crammer_singer, penalty=l1;, score=0.963 total time=  10.6s\n"
     ]
    },
    {
     "name": "stderr",
     "output_type": "stream",
     "text": [
      "C:\\Users\\never\\AppData\\Roaming\\Python\\Python311\\site-packages\\sklearn\\svm\\_base.py:1250: ConvergenceWarning: Liblinear failed to converge, increase the number of iterations.\n",
      "  warnings.warn(\n"
     ]
    },
    {
     "name": "stdout",
     "output_type": "stream",
     "text": [
      "[CV 1/5] END C=1, class_weight=None, dual=auto, fit_intercept=True, intercept_scaling=2, loss=squared_hinge, multi_class=crammer_singer, penalty=l2;, score=0.951 total time=   9.8s\n"
     ]
    },
    {
     "name": "stderr",
     "output_type": "stream",
     "text": [
      "C:\\Users\\never\\AppData\\Roaming\\Python\\Python311\\site-packages\\sklearn\\svm\\_base.py:1250: ConvergenceWarning: Liblinear failed to converge, increase the number of iterations.\n",
      "  warnings.warn(\n"
     ]
    },
    {
     "name": "stdout",
     "output_type": "stream",
     "text": [
      "[CV 2/5] END C=1, class_weight=None, dual=auto, fit_intercept=True, intercept_scaling=2, loss=squared_hinge, multi_class=crammer_singer, penalty=l2;, score=0.954 total time=  10.2s\n"
     ]
    },
    {
     "name": "stderr",
     "output_type": "stream",
     "text": [
      "C:\\Users\\never\\AppData\\Roaming\\Python\\Python311\\site-packages\\sklearn\\svm\\_base.py:1250: ConvergenceWarning: Liblinear failed to converge, increase the number of iterations.\n",
      "  warnings.warn(\n"
     ]
    },
    {
     "name": "stdout",
     "output_type": "stream",
     "text": [
      "[CV 3/5] END C=1, class_weight=None, dual=auto, fit_intercept=True, intercept_scaling=2, loss=squared_hinge, multi_class=crammer_singer, penalty=l2;, score=0.958 total time=   8.5s\n"
     ]
    },
    {
     "name": "stderr",
     "output_type": "stream",
     "text": [
      "C:\\Users\\never\\AppData\\Roaming\\Python\\Python311\\site-packages\\sklearn\\svm\\_base.py:1250: ConvergenceWarning: Liblinear failed to converge, increase the number of iterations.\n",
      "  warnings.warn(\n"
     ]
    },
    {
     "name": "stdout",
     "output_type": "stream",
     "text": [
      "[CV 4/5] END C=1, class_weight=None, dual=auto, fit_intercept=True, intercept_scaling=2, loss=squared_hinge, multi_class=crammer_singer, penalty=l2;, score=0.958 total time=   8.7s\n"
     ]
    },
    {
     "name": "stderr",
     "output_type": "stream",
     "text": [
      "C:\\Users\\never\\AppData\\Roaming\\Python\\Python311\\site-packages\\sklearn\\svm\\_base.py:1250: ConvergenceWarning: Liblinear failed to converge, increase the number of iterations.\n",
      "  warnings.warn(\n"
     ]
    },
    {
     "name": "stdout",
     "output_type": "stream",
     "text": [
      "[CV 5/5] END C=1, class_weight=None, dual=auto, fit_intercept=True, intercept_scaling=2, loss=squared_hinge, multi_class=crammer_singer, penalty=l2;, score=0.963 total time=  10.1s\n",
      "[CV 1/5] END C=1, class_weight=None, dual=auto, fit_intercept=False, intercept_scaling=1, loss=hinge, multi_class=ovr, penalty=l1;, score=nan total time=   2.0s\n",
      "[CV 2/5] END C=1, class_weight=None, dual=auto, fit_intercept=False, intercept_scaling=1, loss=hinge, multi_class=ovr, penalty=l1;, score=nan total time=   2.0s\n",
      "[CV 3/5] END C=1, class_weight=None, dual=auto, fit_intercept=False, intercept_scaling=1, loss=hinge, multi_class=ovr, penalty=l1;, score=nan total time=   1.8s\n",
      "[CV 4/5] END C=1, class_weight=None, dual=auto, fit_intercept=False, intercept_scaling=1, loss=hinge, multi_class=ovr, penalty=l1;, score=nan total time=   1.8s\n",
      "[CV 5/5] END C=1, class_weight=None, dual=auto, fit_intercept=False, intercept_scaling=1, loss=hinge, multi_class=ovr, penalty=l1;, score=nan total time=   1.7s\n",
      "[CV 1/5] END C=1, class_weight=None, dual=auto, fit_intercept=False, intercept_scaling=1, loss=hinge, multi_class=ovr, penalty=l2;, score=0.949 total time=   4.5s\n",
      "[CV 2/5] END C=1, class_weight=None, dual=auto, fit_intercept=False, intercept_scaling=1, loss=hinge, multi_class=ovr, penalty=l2;, score=0.951 total time=   4.5s\n",
      "[CV 3/5] END C=1, class_weight=None, dual=auto, fit_intercept=False, intercept_scaling=1, loss=hinge, multi_class=ovr, penalty=l2;, score=0.955 total time=   4.6s\n",
      "[CV 4/5] END C=1, class_weight=None, dual=auto, fit_intercept=False, intercept_scaling=1, loss=hinge, multi_class=ovr, penalty=l2;, score=0.957 total time=   4.9s\n",
      "[CV 5/5] END C=1, class_weight=None, dual=auto, fit_intercept=False, intercept_scaling=1, loss=hinge, multi_class=ovr, penalty=l2;, score=0.960 total time=   4.1s\n"
     ]
    },
    {
     "name": "stderr",
     "output_type": "stream",
     "text": [
      "C:\\Users\\never\\AppData\\Roaming\\Python\\Python311\\site-packages\\sklearn\\svm\\_base.py:1250: ConvergenceWarning: Liblinear failed to converge, increase the number of iterations.\n",
      "  warnings.warn(\n"
     ]
    },
    {
     "name": "stdout",
     "output_type": "stream",
     "text": [
      "[CV 1/5] END C=1, class_weight=None, dual=auto, fit_intercept=False, intercept_scaling=1, loss=hinge, multi_class=crammer_singer, penalty=l1;, score=0.950 total time=   5.1s\n"
     ]
    },
    {
     "name": "stderr",
     "output_type": "stream",
     "text": [
      "C:\\Users\\never\\AppData\\Roaming\\Python\\Python311\\site-packages\\sklearn\\svm\\_base.py:1250: ConvergenceWarning: Liblinear failed to converge, increase the number of iterations.\n",
      "  warnings.warn(\n"
     ]
    },
    {
     "name": "stdout",
     "output_type": "stream",
     "text": [
      "[CV 2/5] END C=1, class_weight=None, dual=auto, fit_intercept=False, intercept_scaling=1, loss=hinge, multi_class=crammer_singer, penalty=l1;, score=0.952 total time=   6.1s\n"
     ]
    },
    {
     "name": "stderr",
     "output_type": "stream",
     "text": [
      "C:\\Users\\never\\AppData\\Roaming\\Python\\Python311\\site-packages\\sklearn\\svm\\_base.py:1250: ConvergenceWarning: Liblinear failed to converge, increase the number of iterations.\n",
      "  warnings.warn(\n"
     ]
    },
    {
     "name": "stdout",
     "output_type": "stream",
     "text": [
      "[CV 3/5] END C=1, class_weight=None, dual=auto, fit_intercept=False, intercept_scaling=1, loss=hinge, multi_class=crammer_singer, penalty=l1;, score=0.959 total time=   5.4s\n"
     ]
    },
    {
     "name": "stderr",
     "output_type": "stream",
     "text": [
      "C:\\Users\\never\\AppData\\Roaming\\Python\\Python311\\site-packages\\sklearn\\svm\\_base.py:1250: ConvergenceWarning: Liblinear failed to converge, increase the number of iterations.\n",
      "  warnings.warn(\n"
     ]
    },
    {
     "name": "stdout",
     "output_type": "stream",
     "text": [
      "[CV 4/5] END C=1, class_weight=None, dual=auto, fit_intercept=False, intercept_scaling=1, loss=hinge, multi_class=crammer_singer, penalty=l1;, score=0.959 total time=   6.4s\n"
     ]
    },
    {
     "name": "stderr",
     "output_type": "stream",
     "text": [
      "C:\\Users\\never\\AppData\\Roaming\\Python\\Python311\\site-packages\\sklearn\\svm\\_base.py:1250: ConvergenceWarning: Liblinear failed to converge, increase the number of iterations.\n",
      "  warnings.warn(\n"
     ]
    },
    {
     "name": "stdout",
     "output_type": "stream",
     "text": [
      "[CV 5/5] END C=1, class_weight=None, dual=auto, fit_intercept=False, intercept_scaling=1, loss=hinge, multi_class=crammer_singer, penalty=l1;, score=0.960 total time=   5.5s\n"
     ]
    },
    {
     "name": "stderr",
     "output_type": "stream",
     "text": [
      "C:\\Users\\never\\AppData\\Roaming\\Python\\Python311\\site-packages\\sklearn\\svm\\_base.py:1250: ConvergenceWarning: Liblinear failed to converge, increase the number of iterations.\n",
      "  warnings.warn(\n"
     ]
    },
    {
     "name": "stdout",
     "output_type": "stream",
     "text": [
      "[CV 1/5] END C=1, class_weight=None, dual=auto, fit_intercept=False, intercept_scaling=1, loss=hinge, multi_class=crammer_singer, penalty=l2;, score=0.950 total time=   5.1s\n"
     ]
    },
    {
     "name": "stderr",
     "output_type": "stream",
     "text": [
      "C:\\Users\\never\\AppData\\Roaming\\Python\\Python311\\site-packages\\sklearn\\svm\\_base.py:1250: ConvergenceWarning: Liblinear failed to converge, increase the number of iterations.\n",
      "  warnings.warn(\n"
     ]
    },
    {
     "name": "stdout",
     "output_type": "stream",
     "text": [
      "[CV 2/5] END C=1, class_weight=None, dual=auto, fit_intercept=False, intercept_scaling=1, loss=hinge, multi_class=crammer_singer, penalty=l2;, score=0.952 total time=   6.0s\n"
     ]
    },
    {
     "name": "stderr",
     "output_type": "stream",
     "text": [
      "C:\\Users\\never\\AppData\\Roaming\\Python\\Python311\\site-packages\\sklearn\\svm\\_base.py:1250: ConvergenceWarning: Liblinear failed to converge, increase the number of iterations.\n",
      "  warnings.warn(\n"
     ]
    },
    {
     "name": "stdout",
     "output_type": "stream",
     "text": [
      "[CV 3/5] END C=1, class_weight=None, dual=auto, fit_intercept=False, intercept_scaling=1, loss=hinge, multi_class=crammer_singer, penalty=l2;, score=0.959 total time=   4.9s\n"
     ]
    },
    {
     "name": "stderr",
     "output_type": "stream",
     "text": [
      "C:\\Users\\never\\AppData\\Roaming\\Python\\Python311\\site-packages\\sklearn\\svm\\_base.py:1250: ConvergenceWarning: Liblinear failed to converge, increase the number of iterations.\n",
      "  warnings.warn(\n"
     ]
    },
    {
     "name": "stdout",
     "output_type": "stream",
     "text": [
      "[CV 4/5] END C=1, class_weight=None, dual=auto, fit_intercept=False, intercept_scaling=1, loss=hinge, multi_class=crammer_singer, penalty=l2;, score=0.959 total time=   6.3s\n"
     ]
    },
    {
     "name": "stderr",
     "output_type": "stream",
     "text": [
      "C:\\Users\\never\\AppData\\Roaming\\Python\\Python311\\site-packages\\sklearn\\svm\\_base.py:1250: ConvergenceWarning: Liblinear failed to converge, increase the number of iterations.\n",
      "  warnings.warn(\n"
     ]
    },
    {
     "name": "stdout",
     "output_type": "stream",
     "text": [
      "[CV 5/5] END C=1, class_weight=None, dual=auto, fit_intercept=False, intercept_scaling=1, loss=hinge, multi_class=crammer_singer, penalty=l2;, score=0.960 total time=   5.5s\n",
      "[CV 1/5] END C=1, class_weight=None, dual=auto, fit_intercept=False, intercept_scaling=1, loss=squared_hinge, multi_class=ovr, penalty=l1;, score=0.951 total time=   5.2s\n",
      "[CV 2/5] END C=1, class_weight=None, dual=auto, fit_intercept=False, intercept_scaling=1, loss=squared_hinge, multi_class=ovr, penalty=l1;, score=0.951 total time=   5.6s\n",
      "[CV 3/5] END C=1, class_weight=None, dual=auto, fit_intercept=False, intercept_scaling=1, loss=squared_hinge, multi_class=ovr, penalty=l1;, score=0.958 total time=   5.3s\n",
      "[CV 4/5] END C=1, class_weight=None, dual=auto, fit_intercept=False, intercept_scaling=1, loss=squared_hinge, multi_class=ovr, penalty=l1;, score=0.957 total time=   5.2s\n",
      "[CV 5/5] END C=1, class_weight=None, dual=auto, fit_intercept=False, intercept_scaling=1, loss=squared_hinge, multi_class=ovr, penalty=l1;, score=0.961 total time=   5.6s\n",
      "[CV 1/5] END C=1, class_weight=None, dual=auto, fit_intercept=False, intercept_scaling=1, loss=squared_hinge, multi_class=ovr, penalty=l2;, score=0.951 total time=  10.8s\n",
      "[CV 2/5] END C=1, class_weight=None, dual=auto, fit_intercept=False, intercept_scaling=1, loss=squared_hinge, multi_class=ovr, penalty=l2;, score=0.952 total time=   9.4s\n",
      "[CV 3/5] END C=1, class_weight=None, dual=auto, fit_intercept=False, intercept_scaling=1, loss=squared_hinge, multi_class=ovr, penalty=l2;, score=0.958 total time=  10.2s\n",
      "[CV 4/5] END C=1, class_weight=None, dual=auto, fit_intercept=False, intercept_scaling=1, loss=squared_hinge, multi_class=ovr, penalty=l2;, score=0.957 total time=  10.3s\n",
      "[CV 5/5] END C=1, class_weight=None, dual=auto, fit_intercept=False, intercept_scaling=1, loss=squared_hinge, multi_class=ovr, penalty=l2;, score=0.960 total time=   9.8s\n"
     ]
    },
    {
     "name": "stderr",
     "output_type": "stream",
     "text": [
      "C:\\Users\\never\\AppData\\Roaming\\Python\\Python311\\site-packages\\sklearn\\svm\\_base.py:1250: ConvergenceWarning: Liblinear failed to converge, increase the number of iterations.\n",
      "  warnings.warn(\n"
     ]
    },
    {
     "name": "stdout",
     "output_type": "stream",
     "text": [
      "[CV 1/5] END C=1, class_weight=None, dual=auto, fit_intercept=False, intercept_scaling=1, loss=squared_hinge, multi_class=crammer_singer, penalty=l1;, score=0.950 total time=   5.0s\n"
     ]
    },
    {
     "name": "stderr",
     "output_type": "stream",
     "text": [
      "C:\\Users\\never\\AppData\\Roaming\\Python\\Python311\\site-packages\\sklearn\\svm\\_base.py:1250: ConvergenceWarning: Liblinear failed to converge, increase the number of iterations.\n",
      "  warnings.warn(\n"
     ]
    },
    {
     "name": "stdout",
     "output_type": "stream",
     "text": [
      "[CV 2/5] END C=1, class_weight=None, dual=auto, fit_intercept=False, intercept_scaling=1, loss=squared_hinge, multi_class=crammer_singer, penalty=l1;, score=0.952 total time=   6.0s\n"
     ]
    },
    {
     "name": "stderr",
     "output_type": "stream",
     "text": [
      "C:\\Users\\never\\AppData\\Roaming\\Python\\Python311\\site-packages\\sklearn\\svm\\_base.py:1250: ConvergenceWarning: Liblinear failed to converge, increase the number of iterations.\n",
      "  warnings.warn(\n"
     ]
    },
    {
     "name": "stdout",
     "output_type": "stream",
     "text": [
      "[CV 3/5] END C=1, class_weight=None, dual=auto, fit_intercept=False, intercept_scaling=1, loss=squared_hinge, multi_class=crammer_singer, penalty=l1;, score=0.959 total time=   4.8s\n"
     ]
    },
    {
     "name": "stderr",
     "output_type": "stream",
     "text": [
      "C:\\Users\\never\\AppData\\Roaming\\Python\\Python311\\site-packages\\sklearn\\svm\\_base.py:1250: ConvergenceWarning: Liblinear failed to converge, increase the number of iterations.\n",
      "  warnings.warn(\n"
     ]
    },
    {
     "name": "stdout",
     "output_type": "stream",
     "text": [
      "[CV 4/5] END C=1, class_weight=None, dual=auto, fit_intercept=False, intercept_scaling=1, loss=squared_hinge, multi_class=crammer_singer, penalty=l1;, score=0.959 total time=   6.3s\n"
     ]
    },
    {
     "name": "stderr",
     "output_type": "stream",
     "text": [
      "C:\\Users\\never\\AppData\\Roaming\\Python\\Python311\\site-packages\\sklearn\\svm\\_base.py:1250: ConvergenceWarning: Liblinear failed to converge, increase the number of iterations.\n",
      "  warnings.warn(\n"
     ]
    },
    {
     "name": "stdout",
     "output_type": "stream",
     "text": [
      "[CV 5/5] END C=1, class_weight=None, dual=auto, fit_intercept=False, intercept_scaling=1, loss=squared_hinge, multi_class=crammer_singer, penalty=l1;, score=0.960 total time=   5.7s\n"
     ]
    },
    {
     "name": "stderr",
     "output_type": "stream",
     "text": [
      "C:\\Users\\never\\AppData\\Roaming\\Python\\Python311\\site-packages\\sklearn\\svm\\_base.py:1250: ConvergenceWarning: Liblinear failed to converge, increase the number of iterations.\n",
      "  warnings.warn(\n"
     ]
    },
    {
     "name": "stdout",
     "output_type": "stream",
     "text": [
      "[CV 1/5] END C=1, class_weight=None, dual=auto, fit_intercept=False, intercept_scaling=1, loss=squared_hinge, multi_class=crammer_singer, penalty=l2;, score=0.950 total time=   5.6s\n"
     ]
    },
    {
     "name": "stderr",
     "output_type": "stream",
     "text": [
      "C:\\Users\\never\\AppData\\Roaming\\Python\\Python311\\site-packages\\sklearn\\svm\\_base.py:1250: ConvergenceWarning: Liblinear failed to converge, increase the number of iterations.\n",
      "  warnings.warn(\n"
     ]
    },
    {
     "name": "stdout",
     "output_type": "stream",
     "text": [
      "[CV 2/5] END C=1, class_weight=None, dual=auto, fit_intercept=False, intercept_scaling=1, loss=squared_hinge, multi_class=crammer_singer, penalty=l2;, score=0.952 total time=   6.2s\n"
     ]
    },
    {
     "name": "stderr",
     "output_type": "stream",
     "text": [
      "C:\\Users\\never\\AppData\\Roaming\\Python\\Python311\\site-packages\\sklearn\\svm\\_base.py:1250: ConvergenceWarning: Liblinear failed to converge, increase the number of iterations.\n",
      "  warnings.warn(\n"
     ]
    },
    {
     "name": "stdout",
     "output_type": "stream",
     "text": [
      "[CV 3/5] END C=1, class_weight=None, dual=auto, fit_intercept=False, intercept_scaling=1, loss=squared_hinge, multi_class=crammer_singer, penalty=l2;, score=0.959 total time=   4.8s\n"
     ]
    },
    {
     "name": "stderr",
     "output_type": "stream",
     "text": [
      "C:\\Users\\never\\AppData\\Roaming\\Python\\Python311\\site-packages\\sklearn\\svm\\_base.py:1250: ConvergenceWarning: Liblinear failed to converge, increase the number of iterations.\n",
      "  warnings.warn(\n"
     ]
    },
    {
     "name": "stdout",
     "output_type": "stream",
     "text": [
      "[CV 4/5] END C=1, class_weight=None, dual=auto, fit_intercept=False, intercept_scaling=1, loss=squared_hinge, multi_class=crammer_singer, penalty=l2;, score=0.959 total time=   6.3s\n"
     ]
    },
    {
     "name": "stderr",
     "output_type": "stream",
     "text": [
      "C:\\Users\\never\\AppData\\Roaming\\Python\\Python311\\site-packages\\sklearn\\svm\\_base.py:1250: ConvergenceWarning: Liblinear failed to converge, increase the number of iterations.\n",
      "  warnings.warn(\n"
     ]
    },
    {
     "name": "stdout",
     "output_type": "stream",
     "text": [
      "[CV 5/5] END C=1, class_weight=None, dual=auto, fit_intercept=False, intercept_scaling=1, loss=squared_hinge, multi_class=crammer_singer, penalty=l2;, score=0.960 total time=   5.5s\n",
      "[CV 1/5] END C=1, class_weight=None, dual=auto, fit_intercept=False, intercept_scaling=1.5, loss=hinge, multi_class=ovr, penalty=l1;, score=nan total time=   1.8s\n",
      "[CV 2/5] END C=1, class_weight=None, dual=auto, fit_intercept=False, intercept_scaling=1.5, loss=hinge, multi_class=ovr, penalty=l1;, score=nan total time=   1.7s\n",
      "[CV 3/5] END C=1, class_weight=None, dual=auto, fit_intercept=False, intercept_scaling=1.5, loss=hinge, multi_class=ovr, penalty=l1;, score=nan total time=   1.7s\n",
      "[CV 4/5] END C=1, class_weight=None, dual=auto, fit_intercept=False, intercept_scaling=1.5, loss=hinge, multi_class=ovr, penalty=l1;, score=nan total time=   1.7s\n",
      "[CV 5/5] END C=1, class_weight=None, dual=auto, fit_intercept=False, intercept_scaling=1.5, loss=hinge, multi_class=ovr, penalty=l1;, score=nan total time=   1.9s\n",
      "[CV 1/5] END C=1, class_weight=None, dual=auto, fit_intercept=False, intercept_scaling=1.5, loss=hinge, multi_class=ovr, penalty=l2;, score=0.949 total time=   4.3s\n",
      "[CV 2/5] END C=1, class_weight=None, dual=auto, fit_intercept=False, intercept_scaling=1.5, loss=hinge, multi_class=ovr, penalty=l2;, score=0.951 total time=   4.9s\n",
      "[CV 3/5] END C=1, class_weight=None, dual=auto, fit_intercept=False, intercept_scaling=1.5, loss=hinge, multi_class=ovr, penalty=l2;, score=0.955 total time=   4.2s\n",
      "[CV 4/5] END C=1, class_weight=None, dual=auto, fit_intercept=False, intercept_scaling=1.5, loss=hinge, multi_class=ovr, penalty=l2;, score=0.957 total time=   4.3s\n",
      "[CV 5/5] END C=1, class_weight=None, dual=auto, fit_intercept=False, intercept_scaling=1.5, loss=hinge, multi_class=ovr, penalty=l2;, score=0.960 total time=   4.1s\n"
     ]
    },
    {
     "name": "stderr",
     "output_type": "stream",
     "text": [
      "C:\\Users\\never\\AppData\\Roaming\\Python\\Python311\\site-packages\\sklearn\\svm\\_base.py:1250: ConvergenceWarning: Liblinear failed to converge, increase the number of iterations.\n",
      "  warnings.warn(\n"
     ]
    },
    {
     "name": "stdout",
     "output_type": "stream",
     "text": [
      "[CV 1/5] END C=1, class_weight=None, dual=auto, fit_intercept=False, intercept_scaling=1.5, loss=hinge, multi_class=crammer_singer, penalty=l1;, score=0.950 total time=   5.1s\n"
     ]
    },
    {
     "name": "stderr",
     "output_type": "stream",
     "text": [
      "C:\\Users\\never\\AppData\\Roaming\\Python\\Python311\\site-packages\\sklearn\\svm\\_base.py:1250: ConvergenceWarning: Liblinear failed to converge, increase the number of iterations.\n",
      "  warnings.warn(\n"
     ]
    },
    {
     "name": "stdout",
     "output_type": "stream",
     "text": [
      "[CV 2/5] END C=1, class_weight=None, dual=auto, fit_intercept=False, intercept_scaling=1.5, loss=hinge, multi_class=crammer_singer, penalty=l1;, score=0.952 total time=   6.0s\n"
     ]
    },
    {
     "name": "stderr",
     "output_type": "stream",
     "text": [
      "C:\\Users\\never\\AppData\\Roaming\\Python\\Python311\\site-packages\\sklearn\\svm\\_base.py:1250: ConvergenceWarning: Liblinear failed to converge, increase the number of iterations.\n",
      "  warnings.warn(\n"
     ]
    },
    {
     "name": "stdout",
     "output_type": "stream",
     "text": [
      "[CV 3/5] END C=1, class_weight=None, dual=auto, fit_intercept=False, intercept_scaling=1.5, loss=hinge, multi_class=crammer_singer, penalty=l1;, score=0.959 total time=   4.8s\n"
     ]
    },
    {
     "name": "stderr",
     "output_type": "stream",
     "text": [
      "C:\\Users\\never\\AppData\\Roaming\\Python\\Python311\\site-packages\\sklearn\\svm\\_base.py:1250: ConvergenceWarning: Liblinear failed to converge, increase the number of iterations.\n",
      "  warnings.warn(\n"
     ]
    },
    {
     "name": "stdout",
     "output_type": "stream",
     "text": [
      "[CV 4/5] END C=1, class_weight=None, dual=auto, fit_intercept=False, intercept_scaling=1.5, loss=hinge, multi_class=crammer_singer, penalty=l1;, score=0.959 total time=   6.3s\n"
     ]
    },
    {
     "name": "stderr",
     "output_type": "stream",
     "text": [
      "C:\\Users\\never\\AppData\\Roaming\\Python\\Python311\\site-packages\\sklearn\\svm\\_base.py:1250: ConvergenceWarning: Liblinear failed to converge, increase the number of iterations.\n",
      "  warnings.warn(\n"
     ]
    },
    {
     "name": "stdout",
     "output_type": "stream",
     "text": [
      "[CV 5/5] END C=1, class_weight=None, dual=auto, fit_intercept=False, intercept_scaling=1.5, loss=hinge, multi_class=crammer_singer, penalty=l1;, score=0.960 total time=   5.4s\n"
     ]
    },
    {
     "name": "stderr",
     "output_type": "stream",
     "text": [
      "C:\\Users\\never\\AppData\\Roaming\\Python\\Python311\\site-packages\\sklearn\\svm\\_base.py:1250: ConvergenceWarning: Liblinear failed to converge, increase the number of iterations.\n",
      "  warnings.warn(\n"
     ]
    },
    {
     "name": "stdout",
     "output_type": "stream",
     "text": [
      "[CV 1/5] END C=1, class_weight=None, dual=auto, fit_intercept=False, intercept_scaling=1.5, loss=hinge, multi_class=crammer_singer, penalty=l2;, score=0.950 total time=   5.1s\n"
     ]
    },
    {
     "name": "stderr",
     "output_type": "stream",
     "text": [
      "C:\\Users\\never\\AppData\\Roaming\\Python\\Python311\\site-packages\\sklearn\\svm\\_base.py:1250: ConvergenceWarning: Liblinear failed to converge, increase the number of iterations.\n",
      "  warnings.warn(\n"
     ]
    },
    {
     "name": "stdout",
     "output_type": "stream",
     "text": [
      "[CV 2/5] END C=1, class_weight=None, dual=auto, fit_intercept=False, intercept_scaling=1.5, loss=hinge, multi_class=crammer_singer, penalty=l2;, score=0.952 total time=   6.0s\n"
     ]
    },
    {
     "name": "stderr",
     "output_type": "stream",
     "text": [
      "C:\\Users\\never\\AppData\\Roaming\\Python\\Python311\\site-packages\\sklearn\\svm\\_base.py:1250: ConvergenceWarning: Liblinear failed to converge, increase the number of iterations.\n",
      "  warnings.warn(\n"
     ]
    },
    {
     "name": "stdout",
     "output_type": "stream",
     "text": [
      "[CV 3/5] END C=1, class_weight=None, dual=auto, fit_intercept=False, intercept_scaling=1.5, loss=hinge, multi_class=crammer_singer, penalty=l2;, score=0.959 total time=   5.0s\n"
     ]
    },
    {
     "name": "stderr",
     "output_type": "stream",
     "text": [
      "C:\\Users\\never\\AppData\\Roaming\\Python\\Python311\\site-packages\\sklearn\\svm\\_base.py:1250: ConvergenceWarning: Liblinear failed to converge, increase the number of iterations.\n",
      "  warnings.warn(\n"
     ]
    },
    {
     "name": "stdout",
     "output_type": "stream",
     "text": [
      "[CV 4/5] END C=1, class_weight=None, dual=auto, fit_intercept=False, intercept_scaling=1.5, loss=hinge, multi_class=crammer_singer, penalty=l2;, score=0.959 total time=   6.4s\n"
     ]
    },
    {
     "name": "stderr",
     "output_type": "stream",
     "text": [
      "C:\\Users\\never\\AppData\\Roaming\\Python\\Python311\\site-packages\\sklearn\\svm\\_base.py:1250: ConvergenceWarning: Liblinear failed to converge, increase the number of iterations.\n",
      "  warnings.warn(\n"
     ]
    },
    {
     "name": "stdout",
     "output_type": "stream",
     "text": [
      "[CV 5/5] END C=1, class_weight=None, dual=auto, fit_intercept=False, intercept_scaling=1.5, loss=hinge, multi_class=crammer_singer, penalty=l2;, score=0.960 total time=   6.0s\n",
      "[CV 1/5] END C=1, class_weight=None, dual=auto, fit_intercept=False, intercept_scaling=1.5, loss=squared_hinge, multi_class=ovr, penalty=l1;, score=0.951 total time=   5.5s\n",
      "[CV 2/5] END C=1, class_weight=None, dual=auto, fit_intercept=False, intercept_scaling=1.5, loss=squared_hinge, multi_class=ovr, penalty=l1;, score=0.951 total time=   5.7s\n",
      "[CV 3/5] END C=1, class_weight=None, dual=auto, fit_intercept=False, intercept_scaling=1.5, loss=squared_hinge, multi_class=ovr, penalty=l1;, score=0.958 total time=   5.3s\n",
      "[CV 4/5] END C=1, class_weight=None, dual=auto, fit_intercept=False, intercept_scaling=1.5, loss=squared_hinge, multi_class=ovr, penalty=l1;, score=0.957 total time=   5.2s\n",
      "[CV 5/5] END C=1, class_weight=None, dual=auto, fit_intercept=False, intercept_scaling=1.5, loss=squared_hinge, multi_class=ovr, penalty=l1;, score=0.961 total time=   5.5s\n",
      "[CV 1/5] END C=1, class_weight=None, dual=auto, fit_intercept=False, intercept_scaling=1.5, loss=squared_hinge, multi_class=ovr, penalty=l2;, score=0.951 total time=  10.8s\n",
      "[CV 2/5] END C=1, class_weight=None, dual=auto, fit_intercept=False, intercept_scaling=1.5, loss=squared_hinge, multi_class=ovr, penalty=l2;, score=0.952 total time=   9.3s\n",
      "[CV 3/5] END C=1, class_weight=None, dual=auto, fit_intercept=False, intercept_scaling=1.5, loss=squared_hinge, multi_class=ovr, penalty=l2;, score=0.958 total time=  10.3s\n",
      "[CV 4/5] END C=1, class_weight=None, dual=auto, fit_intercept=False, intercept_scaling=1.5, loss=squared_hinge, multi_class=ovr, penalty=l2;, score=0.957 total time=  10.3s\n",
      "[CV 5/5] END C=1, class_weight=None, dual=auto, fit_intercept=False, intercept_scaling=1.5, loss=squared_hinge, multi_class=ovr, penalty=l2;, score=0.960 total time=   9.9s\n"
     ]
    },
    {
     "name": "stderr",
     "output_type": "stream",
     "text": [
      "C:\\Users\\never\\AppData\\Roaming\\Python\\Python311\\site-packages\\sklearn\\svm\\_base.py:1250: ConvergenceWarning: Liblinear failed to converge, increase the number of iterations.\n",
      "  warnings.warn(\n"
     ]
    },
    {
     "name": "stdout",
     "output_type": "stream",
     "text": [
      "[CV 1/5] END C=1, class_weight=None, dual=auto, fit_intercept=False, intercept_scaling=1.5, loss=squared_hinge, multi_class=crammer_singer, penalty=l1;, score=0.950 total time=   5.0s\n"
     ]
    },
    {
     "name": "stderr",
     "output_type": "stream",
     "text": [
      "C:\\Users\\never\\AppData\\Roaming\\Python\\Python311\\site-packages\\sklearn\\svm\\_base.py:1250: ConvergenceWarning: Liblinear failed to converge, increase the number of iterations.\n",
      "  warnings.warn(\n"
     ]
    },
    {
     "name": "stdout",
     "output_type": "stream",
     "text": [
      "[CV 2/5] END C=1, class_weight=None, dual=auto, fit_intercept=False, intercept_scaling=1.5, loss=squared_hinge, multi_class=crammer_singer, penalty=l1;, score=0.952 total time=   6.1s\n"
     ]
    },
    {
     "name": "stderr",
     "output_type": "stream",
     "text": [
      "C:\\Users\\never\\AppData\\Roaming\\Python\\Python311\\site-packages\\sklearn\\svm\\_base.py:1250: ConvergenceWarning: Liblinear failed to converge, increase the number of iterations.\n",
      "  warnings.warn(\n"
     ]
    },
    {
     "name": "stdout",
     "output_type": "stream",
     "text": [
      "[CV 3/5] END C=1, class_weight=None, dual=auto, fit_intercept=False, intercept_scaling=1.5, loss=squared_hinge, multi_class=crammer_singer, penalty=l1;, score=0.959 total time=   4.9s\n"
     ]
    },
    {
     "name": "stderr",
     "output_type": "stream",
     "text": [
      "C:\\Users\\never\\AppData\\Roaming\\Python\\Python311\\site-packages\\sklearn\\svm\\_base.py:1250: ConvergenceWarning: Liblinear failed to converge, increase the number of iterations.\n",
      "  warnings.warn(\n"
     ]
    },
    {
     "name": "stdout",
     "output_type": "stream",
     "text": [
      "[CV 4/5] END C=1, class_weight=None, dual=auto, fit_intercept=False, intercept_scaling=1.5, loss=squared_hinge, multi_class=crammer_singer, penalty=l1;, score=0.959 total time=   6.3s\n"
     ]
    },
    {
     "name": "stderr",
     "output_type": "stream",
     "text": [
      "C:\\Users\\never\\AppData\\Roaming\\Python\\Python311\\site-packages\\sklearn\\svm\\_base.py:1250: ConvergenceWarning: Liblinear failed to converge, increase the number of iterations.\n",
      "  warnings.warn(\n"
     ]
    },
    {
     "name": "stdout",
     "output_type": "stream",
     "text": [
      "[CV 5/5] END C=1, class_weight=None, dual=auto, fit_intercept=False, intercept_scaling=1.5, loss=squared_hinge, multi_class=crammer_singer, penalty=l1;, score=0.960 total time=   5.5s\n"
     ]
    },
    {
     "name": "stderr",
     "output_type": "stream",
     "text": [
      "C:\\Users\\never\\AppData\\Roaming\\Python\\Python311\\site-packages\\sklearn\\svm\\_base.py:1250: ConvergenceWarning: Liblinear failed to converge, increase the number of iterations.\n",
      "  warnings.warn(\n"
     ]
    },
    {
     "name": "stdout",
     "output_type": "stream",
     "text": [
      "[CV 1/5] END C=1, class_weight=None, dual=auto, fit_intercept=False, intercept_scaling=1.5, loss=squared_hinge, multi_class=crammer_singer, penalty=l2;, score=0.950 total time=   5.1s\n"
     ]
    },
    {
     "name": "stderr",
     "output_type": "stream",
     "text": [
      "C:\\Users\\never\\AppData\\Roaming\\Python\\Python311\\site-packages\\sklearn\\svm\\_base.py:1250: ConvergenceWarning: Liblinear failed to converge, increase the number of iterations.\n",
      "  warnings.warn(\n"
     ]
    },
    {
     "name": "stdout",
     "output_type": "stream",
     "text": [
      "[CV 2/5] END C=1, class_weight=None, dual=auto, fit_intercept=False, intercept_scaling=1.5, loss=squared_hinge, multi_class=crammer_singer, penalty=l2;, score=0.952 total time=   6.0s\n"
     ]
    },
    {
     "name": "stderr",
     "output_type": "stream",
     "text": [
      "C:\\Users\\never\\AppData\\Roaming\\Python\\Python311\\site-packages\\sklearn\\svm\\_base.py:1250: ConvergenceWarning: Liblinear failed to converge, increase the number of iterations.\n",
      "  warnings.warn(\n"
     ]
    },
    {
     "name": "stdout",
     "output_type": "stream",
     "text": [
      "[CV 3/5] END C=1, class_weight=None, dual=auto, fit_intercept=False, intercept_scaling=1.5, loss=squared_hinge, multi_class=crammer_singer, penalty=l2;, score=0.959 total time=   4.9s\n"
     ]
    },
    {
     "name": "stderr",
     "output_type": "stream",
     "text": [
      "C:\\Users\\never\\AppData\\Roaming\\Python\\Python311\\site-packages\\sklearn\\svm\\_base.py:1250: ConvergenceWarning: Liblinear failed to converge, increase the number of iterations.\n",
      "  warnings.warn(\n"
     ]
    },
    {
     "name": "stdout",
     "output_type": "stream",
     "text": [
      "[CV 4/5] END C=1, class_weight=None, dual=auto, fit_intercept=False, intercept_scaling=1.5, loss=squared_hinge, multi_class=crammer_singer, penalty=l2;, score=0.959 total time=   6.3s\n"
     ]
    },
    {
     "name": "stderr",
     "output_type": "stream",
     "text": [
      "C:\\Users\\never\\AppData\\Roaming\\Python\\Python311\\site-packages\\sklearn\\svm\\_base.py:1250: ConvergenceWarning: Liblinear failed to converge, increase the number of iterations.\n",
      "  warnings.warn(\n"
     ]
    },
    {
     "name": "stdout",
     "output_type": "stream",
     "text": [
      "[CV 5/5] END C=1, class_weight=None, dual=auto, fit_intercept=False, intercept_scaling=1.5, loss=squared_hinge, multi_class=crammer_singer, penalty=l2;, score=0.960 total time=   5.5s\n",
      "[CV 1/5] END C=1, class_weight=None, dual=auto, fit_intercept=False, intercept_scaling=2, loss=hinge, multi_class=ovr, penalty=l1;, score=nan total time=   1.7s\n",
      "[CV 2/5] END C=1, class_weight=None, dual=auto, fit_intercept=False, intercept_scaling=2, loss=hinge, multi_class=ovr, penalty=l1;, score=nan total time=   1.7s\n",
      "[CV 3/5] END C=1, class_weight=None, dual=auto, fit_intercept=False, intercept_scaling=2, loss=hinge, multi_class=ovr, penalty=l1;, score=nan total time=   1.7s\n",
      "[CV 4/5] END C=1, class_weight=None, dual=auto, fit_intercept=False, intercept_scaling=2, loss=hinge, multi_class=ovr, penalty=l1;, score=nan total time=   1.7s\n",
      "[CV 5/5] END C=1, class_weight=None, dual=auto, fit_intercept=False, intercept_scaling=2, loss=hinge, multi_class=ovr, penalty=l1;, score=nan total time=   1.7s\n",
      "[CV 1/5] END C=1, class_weight=None, dual=auto, fit_intercept=False, intercept_scaling=2, loss=hinge, multi_class=ovr, penalty=l2;, score=0.949 total time=   4.3s\n",
      "[CV 2/5] END C=1, class_weight=None, dual=auto, fit_intercept=False, intercept_scaling=2, loss=hinge, multi_class=ovr, penalty=l2;, score=0.951 total time=   4.3s\n",
      "[CV 3/5] END C=1, class_weight=None, dual=auto, fit_intercept=False, intercept_scaling=2, loss=hinge, multi_class=ovr, penalty=l2;, score=0.955 total time=   4.2s\n",
      "[CV 4/5] END C=1, class_weight=None, dual=auto, fit_intercept=False, intercept_scaling=2, loss=hinge, multi_class=ovr, penalty=l2;, score=0.957 total time=   4.3s\n",
      "[CV 5/5] END C=1, class_weight=None, dual=auto, fit_intercept=False, intercept_scaling=2, loss=hinge, multi_class=ovr, penalty=l2;, score=0.960 total time=   4.1s\n"
     ]
    },
    {
     "name": "stderr",
     "output_type": "stream",
     "text": [
      "C:\\Users\\never\\AppData\\Roaming\\Python\\Python311\\site-packages\\sklearn\\svm\\_base.py:1250: ConvergenceWarning: Liblinear failed to converge, increase the number of iterations.\n",
      "  warnings.warn(\n"
     ]
    },
    {
     "name": "stdout",
     "output_type": "stream",
     "text": [
      "[CV 1/5] END C=1, class_weight=None, dual=auto, fit_intercept=False, intercept_scaling=2, loss=hinge, multi_class=crammer_singer, penalty=l1;, score=0.950 total time=   5.1s\n"
     ]
    },
    {
     "name": "stderr",
     "output_type": "stream",
     "text": [
      "C:\\Users\\never\\AppData\\Roaming\\Python\\Python311\\site-packages\\sklearn\\svm\\_base.py:1250: ConvergenceWarning: Liblinear failed to converge, increase the number of iterations.\n",
      "  warnings.warn(\n"
     ]
    },
    {
     "name": "stdout",
     "output_type": "stream",
     "text": [
      "[CV 2/5] END C=1, class_weight=None, dual=auto, fit_intercept=False, intercept_scaling=2, loss=hinge, multi_class=crammer_singer, penalty=l1;, score=0.952 total time=   6.1s\n"
     ]
    },
    {
     "name": "stderr",
     "output_type": "stream",
     "text": [
      "C:\\Users\\never\\AppData\\Roaming\\Python\\Python311\\site-packages\\sklearn\\svm\\_base.py:1250: ConvergenceWarning: Liblinear failed to converge, increase the number of iterations.\n",
      "  warnings.warn(\n"
     ]
    },
    {
     "name": "stdout",
     "output_type": "stream",
     "text": [
      "[CV 3/5] END C=1, class_weight=None, dual=auto, fit_intercept=False, intercept_scaling=2, loss=hinge, multi_class=crammer_singer, penalty=l1;, score=0.959 total time=   4.9s\n"
     ]
    },
    {
     "name": "stderr",
     "output_type": "stream",
     "text": [
      "C:\\Users\\never\\AppData\\Roaming\\Python\\Python311\\site-packages\\sklearn\\svm\\_base.py:1250: ConvergenceWarning: Liblinear failed to converge, increase the number of iterations.\n",
      "  warnings.warn(\n"
     ]
    },
    {
     "name": "stdout",
     "output_type": "stream",
     "text": [
      "[CV 4/5] END C=1, class_weight=None, dual=auto, fit_intercept=False, intercept_scaling=2, loss=hinge, multi_class=crammer_singer, penalty=l1;, score=0.959 total time=   6.2s\n"
     ]
    },
    {
     "name": "stderr",
     "output_type": "stream",
     "text": [
      "C:\\Users\\never\\AppData\\Roaming\\Python\\Python311\\site-packages\\sklearn\\svm\\_base.py:1250: ConvergenceWarning: Liblinear failed to converge, increase the number of iterations.\n",
      "  warnings.warn(\n"
     ]
    },
    {
     "name": "stdout",
     "output_type": "stream",
     "text": [
      "[CV 5/5] END C=1, class_weight=None, dual=auto, fit_intercept=False, intercept_scaling=2, loss=hinge, multi_class=crammer_singer, penalty=l1;, score=0.960 total time=   5.5s\n"
     ]
    },
    {
     "name": "stderr",
     "output_type": "stream",
     "text": [
      "C:\\Users\\never\\AppData\\Roaming\\Python\\Python311\\site-packages\\sklearn\\svm\\_base.py:1250: ConvergenceWarning: Liblinear failed to converge, increase the number of iterations.\n",
      "  warnings.warn(\n"
     ]
    },
    {
     "name": "stdout",
     "output_type": "stream",
     "text": [
      "[CV 1/5] END C=1, class_weight=None, dual=auto, fit_intercept=False, intercept_scaling=2, loss=hinge, multi_class=crammer_singer, penalty=l2;, score=0.950 total time=   5.2s\n"
     ]
    },
    {
     "name": "stderr",
     "output_type": "stream",
     "text": [
      "C:\\Users\\never\\AppData\\Roaming\\Python\\Python311\\site-packages\\sklearn\\svm\\_base.py:1250: ConvergenceWarning: Liblinear failed to converge, increase the number of iterations.\n",
      "  warnings.warn(\n"
     ]
    },
    {
     "name": "stdout",
     "output_type": "stream",
     "text": [
      "[CV 2/5] END C=1, class_weight=None, dual=auto, fit_intercept=False, intercept_scaling=2, loss=hinge, multi_class=crammer_singer, penalty=l2;, score=0.952 total time=   6.5s\n"
     ]
    },
    {
     "name": "stderr",
     "output_type": "stream",
     "text": [
      "C:\\Users\\never\\AppData\\Roaming\\Python\\Python311\\site-packages\\sklearn\\svm\\_base.py:1250: ConvergenceWarning: Liblinear failed to converge, increase the number of iterations.\n",
      "  warnings.warn(\n"
     ]
    },
    {
     "name": "stdout",
     "output_type": "stream",
     "text": [
      "[CV 3/5] END C=1, class_weight=None, dual=auto, fit_intercept=False, intercept_scaling=2, loss=hinge, multi_class=crammer_singer, penalty=l2;, score=0.959 total time=   5.1s\n"
     ]
    },
    {
     "name": "stderr",
     "output_type": "stream",
     "text": [
      "C:\\Users\\never\\AppData\\Roaming\\Python\\Python311\\site-packages\\sklearn\\svm\\_base.py:1250: ConvergenceWarning: Liblinear failed to converge, increase the number of iterations.\n",
      "  warnings.warn(\n"
     ]
    },
    {
     "name": "stdout",
     "output_type": "stream",
     "text": [
      "[CV 4/5] END C=1, class_weight=None, dual=auto, fit_intercept=False, intercept_scaling=2, loss=hinge, multi_class=crammer_singer, penalty=l2;, score=0.959 total time=   6.2s\n"
     ]
    },
    {
     "name": "stderr",
     "output_type": "stream",
     "text": [
      "C:\\Users\\never\\AppData\\Roaming\\Python\\Python311\\site-packages\\sklearn\\svm\\_base.py:1250: ConvergenceWarning: Liblinear failed to converge, increase the number of iterations.\n",
      "  warnings.warn(\n"
     ]
    },
    {
     "name": "stdout",
     "output_type": "stream",
     "text": [
      "[CV 5/5] END C=1, class_weight=None, dual=auto, fit_intercept=False, intercept_scaling=2, loss=hinge, multi_class=crammer_singer, penalty=l2;, score=0.960 total time=   5.5s\n",
      "[CV 1/5] END C=1, class_weight=None, dual=auto, fit_intercept=False, intercept_scaling=2, loss=squared_hinge, multi_class=ovr, penalty=l1;, score=0.951 total time=   5.2s\n",
      "[CV 2/5] END C=1, class_weight=None, dual=auto, fit_intercept=False, intercept_scaling=2, loss=squared_hinge, multi_class=ovr, penalty=l1;, score=0.951 total time=   5.5s\n",
      "[CV 3/5] END C=1, class_weight=None, dual=auto, fit_intercept=False, intercept_scaling=2, loss=squared_hinge, multi_class=ovr, penalty=l1;, score=0.958 total time=   5.3s\n",
      "[CV 4/5] END C=1, class_weight=None, dual=auto, fit_intercept=False, intercept_scaling=2, loss=squared_hinge, multi_class=ovr, penalty=l1;, score=0.957 total time=   5.3s\n",
      "[CV 5/5] END C=1, class_weight=None, dual=auto, fit_intercept=False, intercept_scaling=2, loss=squared_hinge, multi_class=ovr, penalty=l1;, score=0.961 total time=   5.8s\n",
      "[CV 1/5] END C=1, class_weight=None, dual=auto, fit_intercept=False, intercept_scaling=2, loss=squared_hinge, multi_class=ovr, penalty=l2;, score=0.951 total time=  10.9s\n",
      "[CV 2/5] END C=1, class_weight=None, dual=auto, fit_intercept=False, intercept_scaling=2, loss=squared_hinge, multi_class=ovr, penalty=l2;, score=0.952 total time=   9.6s\n",
      "[CV 3/5] END C=1, class_weight=None, dual=auto, fit_intercept=False, intercept_scaling=2, loss=squared_hinge, multi_class=ovr, penalty=l2;, score=0.958 total time=  10.5s\n",
      "[CV 4/5] END C=1, class_weight=None, dual=auto, fit_intercept=False, intercept_scaling=2, loss=squared_hinge, multi_class=ovr, penalty=l2;, score=0.957 total time=  10.7s\n",
      "[CV 5/5] END C=1, class_weight=None, dual=auto, fit_intercept=False, intercept_scaling=2, loss=squared_hinge, multi_class=ovr, penalty=l2;, score=0.960 total time=  10.1s\n"
     ]
    },
    {
     "name": "stderr",
     "output_type": "stream",
     "text": [
      "C:\\Users\\never\\AppData\\Roaming\\Python\\Python311\\site-packages\\sklearn\\svm\\_base.py:1250: ConvergenceWarning: Liblinear failed to converge, increase the number of iterations.\n",
      "  warnings.warn(\n"
     ]
    },
    {
     "name": "stdout",
     "output_type": "stream",
     "text": [
      "[CV 1/5] END C=1, class_weight=None, dual=auto, fit_intercept=False, intercept_scaling=2, loss=squared_hinge, multi_class=crammer_singer, penalty=l1;, score=0.950 total time=   5.1s\n"
     ]
    },
    {
     "name": "stderr",
     "output_type": "stream",
     "text": [
      "C:\\Users\\never\\AppData\\Roaming\\Python\\Python311\\site-packages\\sklearn\\svm\\_base.py:1250: ConvergenceWarning: Liblinear failed to converge, increase the number of iterations.\n",
      "  warnings.warn(\n"
     ]
    },
    {
     "name": "stdout",
     "output_type": "stream",
     "text": [
      "[CV 2/5] END C=1, class_weight=None, dual=auto, fit_intercept=False, intercept_scaling=2, loss=squared_hinge, multi_class=crammer_singer, penalty=l1;, score=0.952 total time=   6.0s\n"
     ]
    },
    {
     "name": "stderr",
     "output_type": "stream",
     "text": [
      "C:\\Users\\never\\AppData\\Roaming\\Python\\Python311\\site-packages\\sklearn\\svm\\_base.py:1250: ConvergenceWarning: Liblinear failed to converge, increase the number of iterations.\n",
      "  warnings.warn(\n"
     ]
    },
    {
     "name": "stdout",
     "output_type": "stream",
     "text": [
      "[CV 3/5] END C=1, class_weight=None, dual=auto, fit_intercept=False, intercept_scaling=2, loss=squared_hinge, multi_class=crammer_singer, penalty=l1;, score=0.959 total time=   4.9s\n",
      "[CV 4/5] END C=1, class_weight=None, dual=auto, fit_intercept=False, intercept_scaling=2, loss=squared_hinge, multi_class=crammer_singer, penalty=l1;, score=0.959 total time=   6.6s\n"
     ]
    },
    {
     "name": "stderr",
     "output_type": "stream",
     "text": [
      "C:\\Users\\never\\AppData\\Roaming\\Python\\Python311\\site-packages\\sklearn\\svm\\_base.py:1250: ConvergenceWarning: Liblinear failed to converge, increase the number of iterations.\n",
      "  warnings.warn(\n"
     ]
    },
    {
     "name": "stdout",
     "output_type": "stream",
     "text": [
      "[CV 5/5] END C=1, class_weight=None, dual=auto, fit_intercept=False, intercept_scaling=2, loss=squared_hinge, multi_class=crammer_singer, penalty=l1;, score=0.960 total time=   5.9s\n"
     ]
    },
    {
     "name": "stderr",
     "output_type": "stream",
     "text": [
      "C:\\Users\\never\\AppData\\Roaming\\Python\\Python311\\site-packages\\sklearn\\svm\\_base.py:1250: ConvergenceWarning: Liblinear failed to converge, increase the number of iterations.\n",
      "  warnings.warn(\n"
     ]
    },
    {
     "name": "stdout",
     "output_type": "stream",
     "text": [
      "[CV 1/5] END C=1, class_weight=None, dual=auto, fit_intercept=False, intercept_scaling=2, loss=squared_hinge, multi_class=crammer_singer, penalty=l2;, score=0.950 total time=   5.2s\n"
     ]
    },
    {
     "name": "stderr",
     "output_type": "stream",
     "text": [
      "C:\\Users\\never\\AppData\\Roaming\\Python\\Python311\\site-packages\\sklearn\\svm\\_base.py:1250: ConvergenceWarning: Liblinear failed to converge, increase the number of iterations.\n",
      "  warnings.warn(\n"
     ]
    },
    {
     "name": "stdout",
     "output_type": "stream",
     "text": [
      "[CV 2/5] END C=1, class_weight=None, dual=auto, fit_intercept=False, intercept_scaling=2, loss=squared_hinge, multi_class=crammer_singer, penalty=l2;, score=0.952 total time=   6.0s\n"
     ]
    },
    {
     "name": "stderr",
     "output_type": "stream",
     "text": [
      "C:\\Users\\never\\AppData\\Roaming\\Python\\Python311\\site-packages\\sklearn\\svm\\_base.py:1250: ConvergenceWarning: Liblinear failed to converge, increase the number of iterations.\n",
      "  warnings.warn(\n"
     ]
    },
    {
     "name": "stdout",
     "output_type": "stream",
     "text": [
      "[CV 3/5] END C=1, class_weight=None, dual=auto, fit_intercept=False, intercept_scaling=2, loss=squared_hinge, multi_class=crammer_singer, penalty=l2;, score=0.959 total time=   4.9s\n"
     ]
    },
    {
     "name": "stderr",
     "output_type": "stream",
     "text": [
      "C:\\Users\\never\\AppData\\Roaming\\Python\\Python311\\site-packages\\sklearn\\svm\\_base.py:1250: ConvergenceWarning: Liblinear failed to converge, increase the number of iterations.\n",
      "  warnings.warn(\n"
     ]
    },
    {
     "name": "stdout",
     "output_type": "stream",
     "text": [
      "[CV 4/5] END C=1, class_weight=None, dual=auto, fit_intercept=False, intercept_scaling=2, loss=squared_hinge, multi_class=crammer_singer, penalty=l2;, score=0.959 total time=   6.2s\n"
     ]
    },
    {
     "name": "stderr",
     "output_type": "stream",
     "text": [
      "C:\\Users\\never\\AppData\\Roaming\\Python\\Python311\\site-packages\\sklearn\\svm\\_base.py:1250: ConvergenceWarning: Liblinear failed to converge, increase the number of iterations.\n",
      "  warnings.warn(\n"
     ]
    },
    {
     "name": "stdout",
     "output_type": "stream",
     "text": [
      "[CV 5/5] END C=1, class_weight=None, dual=auto, fit_intercept=False, intercept_scaling=2, loss=squared_hinge, multi_class=crammer_singer, penalty=l2;, score=0.960 total time=   5.4s\n",
      "[CV 1/5] END C=1, class_weight=balanced, dual=auto, fit_intercept=True, intercept_scaling=1, loss=hinge, multi_class=ovr, penalty=l1;, score=nan total time=   1.7s\n",
      "[CV 2/5] END C=1, class_weight=balanced, dual=auto, fit_intercept=True, intercept_scaling=1, loss=hinge, multi_class=ovr, penalty=l1;, score=nan total time=   1.7s\n",
      "[CV 3/5] END C=1, class_weight=balanced, dual=auto, fit_intercept=True, intercept_scaling=1, loss=hinge, multi_class=ovr, penalty=l1;, score=nan total time=   1.7s\n",
      "[CV 4/5] END C=1, class_weight=balanced, dual=auto, fit_intercept=True, intercept_scaling=1, loss=hinge, multi_class=ovr, penalty=l1;, score=nan total time=   1.7s\n",
      "[CV 5/5] END C=1, class_weight=balanced, dual=auto, fit_intercept=True, intercept_scaling=1, loss=hinge, multi_class=ovr, penalty=l1;, score=nan total time=   1.7s\n",
      "[CV 1/5] END C=1, class_weight=balanced, dual=auto, fit_intercept=True, intercept_scaling=1, loss=hinge, multi_class=ovr, penalty=l2;, score=0.950 total time=   4.4s\n",
      "[CV 2/5] END C=1, class_weight=balanced, dual=auto, fit_intercept=True, intercept_scaling=1, loss=hinge, multi_class=ovr, penalty=l2;, score=0.952 total time=   5.0s\n",
      "[CV 3/5] END C=1, class_weight=balanced, dual=auto, fit_intercept=True, intercept_scaling=1, loss=hinge, multi_class=ovr, penalty=l2;, score=0.957 total time=   5.7s\n",
      "[CV 4/5] END C=1, class_weight=balanced, dual=auto, fit_intercept=True, intercept_scaling=1, loss=hinge, multi_class=ovr, penalty=l2;, score=0.958 total time=   5.6s\n",
      "[CV 5/5] END C=1, class_weight=balanced, dual=auto, fit_intercept=True, intercept_scaling=1, loss=hinge, multi_class=ovr, penalty=l2;, score=0.960 total time=   4.7s\n"
     ]
    },
    {
     "name": "stderr",
     "output_type": "stream",
     "text": [
      "C:\\Users\\never\\AppData\\Roaming\\Python\\Python311\\site-packages\\sklearn\\svm\\_base.py:1250: ConvergenceWarning: Liblinear failed to converge, increase the number of iterations.\n",
      "  warnings.warn(\n"
     ]
    },
    {
     "name": "stdout",
     "output_type": "stream",
     "text": [
      "[CV 1/5] END C=1, class_weight=balanced, dual=auto, fit_intercept=True, intercept_scaling=1, loss=hinge, multi_class=crammer_singer, penalty=l1;, score=0.951 total time=   8.2s\n"
     ]
    },
    {
     "name": "stderr",
     "output_type": "stream",
     "text": [
      "C:\\Users\\never\\AppData\\Roaming\\Python\\Python311\\site-packages\\sklearn\\svm\\_base.py:1250: ConvergenceWarning: Liblinear failed to converge, increase the number of iterations.\n",
      "  warnings.warn(\n"
     ]
    },
    {
     "name": "stdout",
     "output_type": "stream",
     "text": [
      "[CV 2/5] END C=1, class_weight=balanced, dual=auto, fit_intercept=True, intercept_scaling=1, loss=hinge, multi_class=crammer_singer, penalty=l1;, score=0.954 total time=   8.2s\n"
     ]
    },
    {
     "name": "stderr",
     "output_type": "stream",
     "text": [
      "C:\\Users\\never\\AppData\\Roaming\\Python\\Python311\\site-packages\\sklearn\\svm\\_base.py:1250: ConvergenceWarning: Liblinear failed to converge, increase the number of iterations.\n",
      "  warnings.warn(\n"
     ]
    },
    {
     "name": "stdout",
     "output_type": "stream",
     "text": [
      "[CV 3/5] END C=1, class_weight=balanced, dual=auto, fit_intercept=True, intercept_scaling=1, loss=hinge, multi_class=crammer_singer, penalty=l1;, score=0.958 total time=   6.8s\n"
     ]
    },
    {
     "name": "stderr",
     "output_type": "stream",
     "text": [
      "C:\\Users\\never\\AppData\\Roaming\\Python\\Python311\\site-packages\\sklearn\\svm\\_base.py:1250: ConvergenceWarning: Liblinear failed to converge, increase the number of iterations.\n",
      "  warnings.warn(\n"
     ]
    },
    {
     "name": "stdout",
     "output_type": "stream",
     "text": [
      "[CV 4/5] END C=1, class_weight=balanced, dual=auto, fit_intercept=True, intercept_scaling=1, loss=hinge, multi_class=crammer_singer, penalty=l1;, score=0.958 total time=   8.1s\n"
     ]
    },
    {
     "name": "stderr",
     "output_type": "stream",
     "text": [
      "C:\\Users\\never\\AppData\\Roaming\\Python\\Python311\\site-packages\\sklearn\\svm\\_base.py:1250: ConvergenceWarning: Liblinear failed to converge, increase the number of iterations.\n",
      "  warnings.warn(\n"
     ]
    },
    {
     "name": "stdout",
     "output_type": "stream",
     "text": [
      "[CV 5/5] END C=1, class_weight=balanced, dual=auto, fit_intercept=True, intercept_scaling=1, loss=hinge, multi_class=crammer_singer, penalty=l1;, score=0.963 total time=   5.9s\n"
     ]
    },
    {
     "name": "stderr",
     "output_type": "stream",
     "text": [
      "C:\\Users\\never\\AppData\\Roaming\\Python\\Python311\\site-packages\\sklearn\\svm\\_base.py:1250: ConvergenceWarning: Liblinear failed to converge, increase the number of iterations.\n",
      "  warnings.warn(\n"
     ]
    },
    {
     "name": "stdout",
     "output_type": "stream",
     "text": [
      "[CV 1/5] END C=1, class_weight=balanced, dual=auto, fit_intercept=True, intercept_scaling=1, loss=hinge, multi_class=crammer_singer, penalty=l2;, score=0.951 total time=   8.1s\n"
     ]
    },
    {
     "name": "stderr",
     "output_type": "stream",
     "text": [
      "C:\\Users\\never\\AppData\\Roaming\\Python\\Python311\\site-packages\\sklearn\\svm\\_base.py:1250: ConvergenceWarning: Liblinear failed to converge, increase the number of iterations.\n",
      "  warnings.warn(\n"
     ]
    },
    {
     "name": "stdout",
     "output_type": "stream",
     "text": [
      "[CV 2/5] END C=1, class_weight=balanced, dual=auto, fit_intercept=True, intercept_scaling=1, loss=hinge, multi_class=crammer_singer, penalty=l2;, score=0.954 total time=   8.0s\n"
     ]
    },
    {
     "name": "stderr",
     "output_type": "stream",
     "text": [
      "C:\\Users\\never\\AppData\\Roaming\\Python\\Python311\\site-packages\\sklearn\\svm\\_base.py:1250: ConvergenceWarning: Liblinear failed to converge, increase the number of iterations.\n",
      "  warnings.warn(\n"
     ]
    },
    {
     "name": "stdout",
     "output_type": "stream",
     "text": [
      "[CV 3/5] END C=1, class_weight=balanced, dual=auto, fit_intercept=True, intercept_scaling=1, loss=hinge, multi_class=crammer_singer, penalty=l2;, score=0.958 total time=   7.1s\n"
     ]
    },
    {
     "name": "stderr",
     "output_type": "stream",
     "text": [
      "C:\\Users\\never\\AppData\\Roaming\\Python\\Python311\\site-packages\\sklearn\\svm\\_base.py:1250: ConvergenceWarning: Liblinear failed to converge, increase the number of iterations.\n",
      "  warnings.warn(\n"
     ]
    },
    {
     "name": "stdout",
     "output_type": "stream",
     "text": [
      "[CV 4/5] END C=1, class_weight=balanced, dual=auto, fit_intercept=True, intercept_scaling=1, loss=hinge, multi_class=crammer_singer, penalty=l2;, score=0.958 total time=   8.4s\n"
     ]
    },
    {
     "name": "stderr",
     "output_type": "stream",
     "text": [
      "C:\\Users\\never\\AppData\\Roaming\\Python\\Python311\\site-packages\\sklearn\\svm\\_base.py:1250: ConvergenceWarning: Liblinear failed to converge, increase the number of iterations.\n",
      "  warnings.warn(\n"
     ]
    },
    {
     "name": "stdout",
     "output_type": "stream",
     "text": [
      "[CV 5/5] END C=1, class_weight=balanced, dual=auto, fit_intercept=True, intercept_scaling=1, loss=hinge, multi_class=crammer_singer, penalty=l2;, score=0.963 total time=   6.1s\n",
      "[CV 1/5] END C=1, class_weight=balanced, dual=auto, fit_intercept=True, intercept_scaling=1, loss=squared_hinge, multi_class=ovr, penalty=l1;, score=0.955 total time=   5.9s\n",
      "[CV 2/5] END C=1, class_weight=balanced, dual=auto, fit_intercept=True, intercept_scaling=1, loss=squared_hinge, multi_class=ovr, penalty=l1;, score=0.953 total time=   6.0s\n",
      "[CV 3/5] END C=1, class_weight=balanced, dual=auto, fit_intercept=True, intercept_scaling=1, loss=squared_hinge, multi_class=ovr, penalty=l1;, score=0.957 total time=   5.9s\n",
      "[CV 4/5] END C=1, class_weight=balanced, dual=auto, fit_intercept=True, intercept_scaling=1, loss=squared_hinge, multi_class=ovr, penalty=l1;, score=0.958 total time=   6.2s\n",
      "[CV 5/5] END C=1, class_weight=balanced, dual=auto, fit_intercept=True, intercept_scaling=1, loss=squared_hinge, multi_class=ovr, penalty=l1;, score=0.963 total time=   5.8s\n",
      "[CV 1/5] END C=1, class_weight=balanced, dual=auto, fit_intercept=True, intercept_scaling=1, loss=squared_hinge, multi_class=ovr, penalty=l2;, score=0.954 total time=   9.7s\n",
      "[CV 2/5] END C=1, class_weight=balanced, dual=auto, fit_intercept=True, intercept_scaling=1, loss=squared_hinge, multi_class=ovr, penalty=l2;, score=0.954 total time=   9.7s\n",
      "[CV 3/5] END C=1, class_weight=balanced, dual=auto, fit_intercept=True, intercept_scaling=1, loss=squared_hinge, multi_class=ovr, penalty=l2;, score=0.959 total time=   9.8s\n",
      "[CV 4/5] END C=1, class_weight=balanced, dual=auto, fit_intercept=True, intercept_scaling=1, loss=squared_hinge, multi_class=ovr, penalty=l2;, score=0.960 total time=  10.1s\n",
      "[CV 5/5] END C=1, class_weight=balanced, dual=auto, fit_intercept=True, intercept_scaling=1, loss=squared_hinge, multi_class=ovr, penalty=l2;, score=0.961 total time=  10.1s\n"
     ]
    },
    {
     "name": "stderr",
     "output_type": "stream",
     "text": [
      "C:\\Users\\never\\AppData\\Roaming\\Python\\Python311\\site-packages\\sklearn\\svm\\_base.py:1250: ConvergenceWarning: Liblinear failed to converge, increase the number of iterations.\n",
      "  warnings.warn(\n"
     ]
    },
    {
     "name": "stdout",
     "output_type": "stream",
     "text": [
      "[CV 1/5] END C=1, class_weight=balanced, dual=auto, fit_intercept=True, intercept_scaling=1, loss=squared_hinge, multi_class=crammer_singer, penalty=l1;, score=0.951 total time=   8.1s\n"
     ]
    },
    {
     "name": "stderr",
     "output_type": "stream",
     "text": [
      "C:\\Users\\never\\AppData\\Roaming\\Python\\Python311\\site-packages\\sklearn\\svm\\_base.py:1250: ConvergenceWarning: Liblinear failed to converge, increase the number of iterations.\n",
      "  warnings.warn(\n"
     ]
    },
    {
     "name": "stdout",
     "output_type": "stream",
     "text": [
      "[CV 2/5] END C=1, class_weight=balanced, dual=auto, fit_intercept=True, intercept_scaling=1, loss=squared_hinge, multi_class=crammer_singer, penalty=l1;, score=0.954 total time=   8.1s\n"
     ]
    },
    {
     "name": "stderr",
     "output_type": "stream",
     "text": [
      "C:\\Users\\never\\AppData\\Roaming\\Python\\Python311\\site-packages\\sklearn\\svm\\_base.py:1250: ConvergenceWarning: Liblinear failed to converge, increase the number of iterations.\n",
      "  warnings.warn(\n"
     ]
    },
    {
     "name": "stdout",
     "output_type": "stream",
     "text": [
      "[CV 3/5] END C=1, class_weight=balanced, dual=auto, fit_intercept=True, intercept_scaling=1, loss=squared_hinge, multi_class=crammer_singer, penalty=l1;, score=0.958 total time=   7.1s\n"
     ]
    },
    {
     "name": "stderr",
     "output_type": "stream",
     "text": [
      "C:\\Users\\never\\AppData\\Roaming\\Python\\Python311\\site-packages\\sklearn\\svm\\_base.py:1250: ConvergenceWarning: Liblinear failed to converge, increase the number of iterations.\n",
      "  warnings.warn(\n"
     ]
    },
    {
     "name": "stdout",
     "output_type": "stream",
     "text": [
      "[CV 4/5] END C=1, class_weight=balanced, dual=auto, fit_intercept=True, intercept_scaling=1, loss=squared_hinge, multi_class=crammer_singer, penalty=l1;, score=0.958 total time=   8.4s\n"
     ]
    },
    {
     "name": "stderr",
     "output_type": "stream",
     "text": [
      "C:\\Users\\never\\AppData\\Roaming\\Python\\Python311\\site-packages\\sklearn\\svm\\_base.py:1250: ConvergenceWarning: Liblinear failed to converge, increase the number of iterations.\n",
      "  warnings.warn(\n"
     ]
    },
    {
     "name": "stdout",
     "output_type": "stream",
     "text": [
      "[CV 5/5] END C=1, class_weight=balanced, dual=auto, fit_intercept=True, intercept_scaling=1, loss=squared_hinge, multi_class=crammer_singer, penalty=l1;, score=0.963 total time=   6.0s\n"
     ]
    },
    {
     "name": "stderr",
     "output_type": "stream",
     "text": [
      "C:\\Users\\never\\AppData\\Roaming\\Python\\Python311\\site-packages\\sklearn\\svm\\_base.py:1250: ConvergenceWarning: Liblinear failed to converge, increase the number of iterations.\n",
      "  warnings.warn(\n"
     ]
    },
    {
     "name": "stdout",
     "output_type": "stream",
     "text": [
      "[CV 1/5] END C=1, class_weight=balanced, dual=auto, fit_intercept=True, intercept_scaling=1, loss=squared_hinge, multi_class=crammer_singer, penalty=l2;, score=0.951 total time=   8.1s\n"
     ]
    },
    {
     "name": "stderr",
     "output_type": "stream",
     "text": [
      "C:\\Users\\never\\AppData\\Roaming\\Python\\Python311\\site-packages\\sklearn\\svm\\_base.py:1250: ConvergenceWarning: Liblinear failed to converge, increase the number of iterations.\n",
      "  warnings.warn(\n"
     ]
    },
    {
     "name": "stdout",
     "output_type": "stream",
     "text": [
      "[CV 2/5] END C=1, class_weight=balanced, dual=auto, fit_intercept=True, intercept_scaling=1, loss=squared_hinge, multi_class=crammer_singer, penalty=l2;, score=0.954 total time=   8.1s\n"
     ]
    },
    {
     "name": "stderr",
     "output_type": "stream",
     "text": [
      "C:\\Users\\never\\AppData\\Roaming\\Python\\Python311\\site-packages\\sklearn\\svm\\_base.py:1250: ConvergenceWarning: Liblinear failed to converge, increase the number of iterations.\n",
      "  warnings.warn(\n"
     ]
    },
    {
     "name": "stdout",
     "output_type": "stream",
     "text": [
      "[CV 3/5] END C=1, class_weight=balanced, dual=auto, fit_intercept=True, intercept_scaling=1, loss=squared_hinge, multi_class=crammer_singer, penalty=l2;, score=0.958 total time=   6.8s\n"
     ]
    },
    {
     "name": "stderr",
     "output_type": "stream",
     "text": [
      "C:\\Users\\never\\AppData\\Roaming\\Python\\Python311\\site-packages\\sklearn\\svm\\_base.py:1250: ConvergenceWarning: Liblinear failed to converge, increase the number of iterations.\n",
      "  warnings.warn(\n"
     ]
    },
    {
     "name": "stdout",
     "output_type": "stream",
     "text": [
      "[CV 4/5] END C=1, class_weight=balanced, dual=auto, fit_intercept=True, intercept_scaling=1, loss=squared_hinge, multi_class=crammer_singer, penalty=l2;, score=0.958 total time=   8.1s\n"
     ]
    },
    {
     "name": "stderr",
     "output_type": "stream",
     "text": [
      "C:\\Users\\never\\AppData\\Roaming\\Python\\Python311\\site-packages\\sklearn\\svm\\_base.py:1250: ConvergenceWarning: Liblinear failed to converge, increase the number of iterations.\n",
      "  warnings.warn(\n"
     ]
    },
    {
     "name": "stdout",
     "output_type": "stream",
     "text": [
      "[CV 5/5] END C=1, class_weight=balanced, dual=auto, fit_intercept=True, intercept_scaling=1, loss=squared_hinge, multi_class=crammer_singer, penalty=l2;, score=0.963 total time=   6.0s\n",
      "[CV 1/5] END C=1, class_weight=balanced, dual=auto, fit_intercept=True, intercept_scaling=1.5, loss=hinge, multi_class=ovr, penalty=l1;, score=nan total time=   1.7s\n",
      "[CV 2/5] END C=1, class_weight=balanced, dual=auto, fit_intercept=True, intercept_scaling=1.5, loss=hinge, multi_class=ovr, penalty=l1;, score=nan total time=   1.7s\n",
      "[CV 3/5] END C=1, class_weight=balanced, dual=auto, fit_intercept=True, intercept_scaling=1.5, loss=hinge, multi_class=ovr, penalty=l1;, score=nan total time=   1.7s\n",
      "[CV 4/5] END C=1, class_weight=balanced, dual=auto, fit_intercept=True, intercept_scaling=1.5, loss=hinge, multi_class=ovr, penalty=l1;, score=nan total time=   1.7s\n",
      "[CV 5/5] END C=1, class_weight=balanced, dual=auto, fit_intercept=True, intercept_scaling=1.5, loss=hinge, multi_class=ovr, penalty=l1;, score=nan total time=   1.7s\n",
      "[CV 1/5] END C=1, class_weight=balanced, dual=auto, fit_intercept=True, intercept_scaling=1.5, loss=hinge, multi_class=ovr, penalty=l2;, score=0.950 total time=   4.9s\n",
      "[CV 2/5] END C=1, class_weight=balanced, dual=auto, fit_intercept=True, intercept_scaling=1.5, loss=hinge, multi_class=ovr, penalty=l2;, score=0.952 total time=   5.0s\n",
      "[CV 3/5] END C=1, class_weight=balanced, dual=auto, fit_intercept=True, intercept_scaling=1.5, loss=hinge, multi_class=ovr, penalty=l2;, score=0.957 total time=   4.6s\n",
      "[CV 4/5] END C=1, class_weight=balanced, dual=auto, fit_intercept=True, intercept_scaling=1.5, loss=hinge, multi_class=ovr, penalty=l2;, score=0.958 total time=   4.9s\n",
      "[CV 5/5] END C=1, class_weight=balanced, dual=auto, fit_intercept=True, intercept_scaling=1.5, loss=hinge, multi_class=ovr, penalty=l2;, score=0.960 total time=   4.8s\n"
     ]
    },
    {
     "name": "stderr",
     "output_type": "stream",
     "text": [
      "C:\\Users\\never\\AppData\\Roaming\\Python\\Python311\\site-packages\\sklearn\\svm\\_base.py:1250: ConvergenceWarning: Liblinear failed to converge, increase the number of iterations.\n",
      "  warnings.warn(\n"
     ]
    },
    {
     "name": "stdout",
     "output_type": "stream",
     "text": [
      "[CV 1/5] END C=1, class_weight=balanced, dual=auto, fit_intercept=True, intercept_scaling=1.5, loss=hinge, multi_class=crammer_singer, penalty=l1;, score=0.951 total time=   7.5s\n"
     ]
    },
    {
     "name": "stderr",
     "output_type": "stream",
     "text": [
      "C:\\Users\\never\\AppData\\Roaming\\Python\\Python311\\site-packages\\sklearn\\svm\\_base.py:1250: ConvergenceWarning: Liblinear failed to converge, increase the number of iterations.\n",
      "  warnings.warn(\n"
     ]
    },
    {
     "name": "stdout",
     "output_type": "stream",
     "text": [
      "[CV 2/5] END C=1, class_weight=balanced, dual=auto, fit_intercept=True, intercept_scaling=1.5, loss=hinge, multi_class=crammer_singer, penalty=l1;, score=0.954 total time=   8.6s\n"
     ]
    },
    {
     "name": "stderr",
     "output_type": "stream",
     "text": [
      "C:\\Users\\never\\AppData\\Roaming\\Python\\Python311\\site-packages\\sklearn\\svm\\_base.py:1250: ConvergenceWarning: Liblinear failed to converge, increase the number of iterations.\n",
      "  warnings.warn(\n"
     ]
    },
    {
     "name": "stdout",
     "output_type": "stream",
     "text": [
      "[CV 3/5] END C=1, class_weight=balanced, dual=auto, fit_intercept=True, intercept_scaling=1.5, loss=hinge, multi_class=crammer_singer, penalty=l1;, score=0.958 total time=   7.9s\n"
     ]
    },
    {
     "name": "stderr",
     "output_type": "stream",
     "text": [
      "C:\\Users\\never\\AppData\\Roaming\\Python\\Python311\\site-packages\\sklearn\\svm\\_base.py:1250: ConvergenceWarning: Liblinear failed to converge, increase the number of iterations.\n",
      "  warnings.warn(\n"
     ]
    },
    {
     "name": "stdout",
     "output_type": "stream",
     "text": [
      "[CV 4/5] END C=1, class_weight=balanced, dual=auto, fit_intercept=True, intercept_scaling=1.5, loss=hinge, multi_class=crammer_singer, penalty=l1;, score=0.958 total time=   7.8s\n"
     ]
    },
    {
     "name": "stderr",
     "output_type": "stream",
     "text": [
      "C:\\Users\\never\\AppData\\Roaming\\Python\\Python311\\site-packages\\sklearn\\svm\\_base.py:1250: ConvergenceWarning: Liblinear failed to converge, increase the number of iterations.\n",
      "  warnings.warn(\n"
     ]
    },
    {
     "name": "stdout",
     "output_type": "stream",
     "text": [
      "[CV 5/5] END C=1, class_weight=balanced, dual=auto, fit_intercept=True, intercept_scaling=1.5, loss=hinge, multi_class=crammer_singer, penalty=l1;, score=0.963 total time=   8.1s\n"
     ]
    },
    {
     "name": "stderr",
     "output_type": "stream",
     "text": [
      "C:\\Users\\never\\AppData\\Roaming\\Python\\Python311\\site-packages\\sklearn\\svm\\_base.py:1250: ConvergenceWarning: Liblinear failed to converge, increase the number of iterations.\n",
      "  warnings.warn(\n"
     ]
    },
    {
     "name": "stdout",
     "output_type": "stream",
     "text": [
      "[CV 1/5] END C=1, class_weight=balanced, dual=auto, fit_intercept=True, intercept_scaling=1.5, loss=hinge, multi_class=crammer_singer, penalty=l2;, score=0.951 total time=   7.4s\n"
     ]
    },
    {
     "name": "stderr",
     "output_type": "stream",
     "text": [
      "C:\\Users\\never\\AppData\\Roaming\\Python\\Python311\\site-packages\\sklearn\\svm\\_base.py:1250: ConvergenceWarning: Liblinear failed to converge, increase the number of iterations.\n",
      "  warnings.warn(\n"
     ]
    },
    {
     "name": "stdout",
     "output_type": "stream",
     "text": [
      "[CV 2/5] END C=1, class_weight=balanced, dual=auto, fit_intercept=True, intercept_scaling=1.5, loss=hinge, multi_class=crammer_singer, penalty=l2;, score=0.954 total time=   8.5s\n"
     ]
    },
    {
     "name": "stderr",
     "output_type": "stream",
     "text": [
      "C:\\Users\\never\\AppData\\Roaming\\Python\\Python311\\site-packages\\sklearn\\svm\\_base.py:1250: ConvergenceWarning: Liblinear failed to converge, increase the number of iterations.\n",
      "  warnings.warn(\n"
     ]
    },
    {
     "name": "stdout",
     "output_type": "stream",
     "text": [
      "[CV 3/5] END C=1, class_weight=balanced, dual=auto, fit_intercept=True, intercept_scaling=1.5, loss=hinge, multi_class=crammer_singer, penalty=l2;, score=0.958 total time=   8.1s\n"
     ]
    },
    {
     "name": "stderr",
     "output_type": "stream",
     "text": [
      "C:\\Users\\never\\AppData\\Roaming\\Python\\Python311\\site-packages\\sklearn\\svm\\_base.py:1250: ConvergenceWarning: Liblinear failed to converge, increase the number of iterations.\n",
      "  warnings.warn(\n"
     ]
    },
    {
     "name": "stdout",
     "output_type": "stream",
     "text": [
      "[CV 4/5] END C=1, class_weight=balanced, dual=auto, fit_intercept=True, intercept_scaling=1.5, loss=hinge, multi_class=crammer_singer, penalty=l2;, score=0.958 total time=   7.9s\n"
     ]
    },
    {
     "name": "stderr",
     "output_type": "stream",
     "text": [
      "C:\\Users\\never\\AppData\\Roaming\\Python\\Python311\\site-packages\\sklearn\\svm\\_base.py:1250: ConvergenceWarning: Liblinear failed to converge, increase the number of iterations.\n",
      "  warnings.warn(\n"
     ]
    },
    {
     "name": "stdout",
     "output_type": "stream",
     "text": [
      "[CV 5/5] END C=1, class_weight=balanced, dual=auto, fit_intercept=True, intercept_scaling=1.5, loss=hinge, multi_class=crammer_singer, penalty=l2;, score=0.963 total time=   8.0s\n",
      "[CV 1/5] END C=1, class_weight=balanced, dual=auto, fit_intercept=True, intercept_scaling=1.5, loss=squared_hinge, multi_class=ovr, penalty=l1;, score=0.954 total time=   6.1s\n",
      "[CV 2/5] END C=1, class_weight=balanced, dual=auto, fit_intercept=True, intercept_scaling=1.5, loss=squared_hinge, multi_class=ovr, penalty=l1;, score=0.954 total time=   5.9s\n",
      "[CV 3/5] END C=1, class_weight=balanced, dual=auto, fit_intercept=True, intercept_scaling=1.5, loss=squared_hinge, multi_class=ovr, penalty=l1;, score=0.957 total time=   6.1s\n",
      "[CV 4/5] END C=1, class_weight=balanced, dual=auto, fit_intercept=True, intercept_scaling=1.5, loss=squared_hinge, multi_class=ovr, penalty=l1;, score=0.958 total time=   6.0s\n",
      "[CV 5/5] END C=1, class_weight=balanced, dual=auto, fit_intercept=True, intercept_scaling=1.5, loss=squared_hinge, multi_class=ovr, penalty=l1;, score=0.963 total time=   5.8s\n",
      "[CV 1/5] END C=1, class_weight=balanced, dual=auto, fit_intercept=True, intercept_scaling=1.5, loss=squared_hinge, multi_class=ovr, penalty=l2;, score=0.954 total time=   9.1s\n",
      "[CV 2/5] END C=1, class_weight=balanced, dual=auto, fit_intercept=True, intercept_scaling=1.5, loss=squared_hinge, multi_class=ovr, penalty=l2;, score=0.954 total time=   8.2s\n",
      "[CV 3/5] END C=1, class_weight=balanced, dual=auto, fit_intercept=True, intercept_scaling=1.5, loss=squared_hinge, multi_class=ovr, penalty=l2;, score=0.960 total time=   9.1s\n",
      "[CV 4/5] END C=1, class_weight=balanced, dual=auto, fit_intercept=True, intercept_scaling=1.5, loss=squared_hinge, multi_class=ovr, penalty=l2;, score=0.960 total time=   9.4s\n",
      "[CV 5/5] END C=1, class_weight=balanced, dual=auto, fit_intercept=True, intercept_scaling=1.5, loss=squared_hinge, multi_class=ovr, penalty=l2;, score=0.961 total time=   9.5s\n"
     ]
    },
    {
     "name": "stderr",
     "output_type": "stream",
     "text": [
      "C:\\Users\\never\\AppData\\Roaming\\Python\\Python311\\site-packages\\sklearn\\svm\\_base.py:1250: ConvergenceWarning: Liblinear failed to converge, increase the number of iterations.\n",
      "  warnings.warn(\n"
     ]
    },
    {
     "name": "stdout",
     "output_type": "stream",
     "text": [
      "[CV 1/5] END C=1, class_weight=balanced, dual=auto, fit_intercept=True, intercept_scaling=1.5, loss=squared_hinge, multi_class=crammer_singer, penalty=l1;, score=0.951 total time=   7.4s\n"
     ]
    },
    {
     "name": "stderr",
     "output_type": "stream",
     "text": [
      "C:\\Users\\never\\AppData\\Roaming\\Python\\Python311\\site-packages\\sklearn\\svm\\_base.py:1250: ConvergenceWarning: Liblinear failed to converge, increase the number of iterations.\n",
      "  warnings.warn(\n"
     ]
    },
    {
     "name": "stdout",
     "output_type": "stream",
     "text": [
      "[CV 2/5] END C=1, class_weight=balanced, dual=auto, fit_intercept=True, intercept_scaling=1.5, loss=squared_hinge, multi_class=crammer_singer, penalty=l1;, score=0.954 total time=   8.4s\n"
     ]
    },
    {
     "name": "stderr",
     "output_type": "stream",
     "text": [
      "C:\\Users\\never\\AppData\\Roaming\\Python\\Python311\\site-packages\\sklearn\\svm\\_base.py:1250: ConvergenceWarning: Liblinear failed to converge, increase the number of iterations.\n",
      "  warnings.warn(\n"
     ]
    },
    {
     "name": "stdout",
     "output_type": "stream",
     "text": [
      "[CV 3/5] END C=1, class_weight=balanced, dual=auto, fit_intercept=True, intercept_scaling=1.5, loss=squared_hinge, multi_class=crammer_singer, penalty=l1;, score=0.958 total time=   7.9s\n"
     ]
    },
    {
     "name": "stderr",
     "output_type": "stream",
     "text": [
      "C:\\Users\\never\\AppData\\Roaming\\Python\\Python311\\site-packages\\sklearn\\svm\\_base.py:1250: ConvergenceWarning: Liblinear failed to converge, increase the number of iterations.\n",
      "  warnings.warn(\n"
     ]
    },
    {
     "name": "stdout",
     "output_type": "stream",
     "text": [
      "[CV 4/5] END C=1, class_weight=balanced, dual=auto, fit_intercept=True, intercept_scaling=1.5, loss=squared_hinge, multi_class=crammer_singer, penalty=l1;, score=0.958 total time=   7.8s\n"
     ]
    },
    {
     "name": "stderr",
     "output_type": "stream",
     "text": [
      "C:\\Users\\never\\AppData\\Roaming\\Python\\Python311\\site-packages\\sklearn\\svm\\_base.py:1250: ConvergenceWarning: Liblinear failed to converge, increase the number of iterations.\n",
      "  warnings.warn(\n"
     ]
    },
    {
     "name": "stdout",
     "output_type": "stream",
     "text": [
      "[CV 5/5] END C=1, class_weight=balanced, dual=auto, fit_intercept=True, intercept_scaling=1.5, loss=squared_hinge, multi_class=crammer_singer, penalty=l1;, score=0.963 total time=   7.9s\n"
     ]
    },
    {
     "name": "stderr",
     "output_type": "stream",
     "text": [
      "C:\\Users\\never\\AppData\\Roaming\\Python\\Python311\\site-packages\\sklearn\\svm\\_base.py:1250: ConvergenceWarning: Liblinear failed to converge, increase the number of iterations.\n",
      "  warnings.warn(\n"
     ]
    },
    {
     "name": "stdout",
     "output_type": "stream",
     "text": [
      "[CV 1/5] END C=1, class_weight=balanced, dual=auto, fit_intercept=True, intercept_scaling=1.5, loss=squared_hinge, multi_class=crammer_singer, penalty=l2;, score=0.951 total time=   7.4s\n"
     ]
    },
    {
     "name": "stderr",
     "output_type": "stream",
     "text": [
      "C:\\Users\\never\\AppData\\Roaming\\Python\\Python311\\site-packages\\sklearn\\svm\\_base.py:1250: ConvergenceWarning: Liblinear failed to converge, increase the number of iterations.\n",
      "  warnings.warn(\n"
     ]
    },
    {
     "name": "stdout",
     "output_type": "stream",
     "text": [
      "[CV 2/5] END C=1, class_weight=balanced, dual=auto, fit_intercept=True, intercept_scaling=1.5, loss=squared_hinge, multi_class=crammer_singer, penalty=l2;, score=0.954 total time=   8.5s\n"
     ]
    },
    {
     "name": "stderr",
     "output_type": "stream",
     "text": [
      "C:\\Users\\never\\AppData\\Roaming\\Python\\Python311\\site-packages\\sklearn\\svm\\_base.py:1250: ConvergenceWarning: Liblinear failed to converge, increase the number of iterations.\n",
      "  warnings.warn(\n"
     ]
    },
    {
     "name": "stdout",
     "output_type": "stream",
     "text": [
      "[CV 3/5] END C=1, class_weight=balanced, dual=auto, fit_intercept=True, intercept_scaling=1.5, loss=squared_hinge, multi_class=crammer_singer, penalty=l2;, score=0.958 total time=   7.9s\n"
     ]
    },
    {
     "name": "stderr",
     "output_type": "stream",
     "text": [
      "C:\\Users\\never\\AppData\\Roaming\\Python\\Python311\\site-packages\\sklearn\\svm\\_base.py:1250: ConvergenceWarning: Liblinear failed to converge, increase the number of iterations.\n",
      "  warnings.warn(\n"
     ]
    },
    {
     "name": "stdout",
     "output_type": "stream",
     "text": [
      "[CV 4/5] END C=1, class_weight=balanced, dual=auto, fit_intercept=True, intercept_scaling=1.5, loss=squared_hinge, multi_class=crammer_singer, penalty=l2;, score=0.958 total time=   7.8s\n"
     ]
    },
    {
     "name": "stderr",
     "output_type": "stream",
     "text": [
      "C:\\Users\\never\\AppData\\Roaming\\Python\\Python311\\site-packages\\sklearn\\svm\\_base.py:1250: ConvergenceWarning: Liblinear failed to converge, increase the number of iterations.\n",
      "  warnings.warn(\n"
     ]
    },
    {
     "name": "stdout",
     "output_type": "stream",
     "text": [
      "[CV 5/5] END C=1, class_weight=balanced, dual=auto, fit_intercept=True, intercept_scaling=1.5, loss=squared_hinge, multi_class=crammer_singer, penalty=l2;, score=0.963 total time=   8.0s\n",
      "[CV 1/5] END C=1, class_weight=balanced, dual=auto, fit_intercept=True, intercept_scaling=2, loss=hinge, multi_class=ovr, penalty=l1;, score=nan total time=   1.7s\n",
      "[CV 2/5] END C=1, class_weight=balanced, dual=auto, fit_intercept=True, intercept_scaling=2, loss=hinge, multi_class=ovr, penalty=l1;, score=nan total time=   1.8s\n",
      "[CV 3/5] END C=1, class_weight=balanced, dual=auto, fit_intercept=True, intercept_scaling=2, loss=hinge, multi_class=ovr, penalty=l1;, score=nan total time=   1.7s\n",
      "[CV 4/5] END C=1, class_weight=balanced, dual=auto, fit_intercept=True, intercept_scaling=2, loss=hinge, multi_class=ovr, penalty=l1;, score=nan total time=   1.7s\n",
      "[CV 5/5] END C=1, class_weight=balanced, dual=auto, fit_intercept=True, intercept_scaling=2, loss=hinge, multi_class=ovr, penalty=l1;, score=nan total time=   1.7s\n",
      "[CV 1/5] END C=1, class_weight=balanced, dual=auto, fit_intercept=True, intercept_scaling=2, loss=hinge, multi_class=ovr, penalty=l2;, score=0.950 total time=   5.3s\n",
      "[CV 2/5] END C=1, class_weight=balanced, dual=auto, fit_intercept=True, intercept_scaling=2, loss=hinge, multi_class=ovr, penalty=l2;, score=0.952 total time=   5.6s\n",
      "[CV 3/5] END C=1, class_weight=balanced, dual=auto, fit_intercept=True, intercept_scaling=2, loss=hinge, multi_class=ovr, penalty=l2;, score=0.957 total time=   5.1s\n",
      "[CV 4/5] END C=1, class_weight=balanced, dual=auto, fit_intercept=True, intercept_scaling=2, loss=hinge, multi_class=ovr, penalty=l2;, score=0.958 total time=   5.1s\n",
      "[CV 5/5] END C=1, class_weight=balanced, dual=auto, fit_intercept=True, intercept_scaling=2, loss=hinge, multi_class=ovr, penalty=l2;, score=0.960 total time=   5.6s\n"
     ]
    },
    {
     "name": "stderr",
     "output_type": "stream",
     "text": [
      "C:\\Users\\never\\AppData\\Roaming\\Python\\Python311\\site-packages\\sklearn\\svm\\_base.py:1250: ConvergenceWarning: Liblinear failed to converge, increase the number of iterations.\n",
      "  warnings.warn(\n"
     ]
    },
    {
     "name": "stdout",
     "output_type": "stream",
     "text": [
      "[CV 1/5] END C=1, class_weight=balanced, dual=auto, fit_intercept=True, intercept_scaling=2, loss=hinge, multi_class=crammer_singer, penalty=l1;, score=0.951 total time=   9.7s\n"
     ]
    },
    {
     "name": "stderr",
     "output_type": "stream",
     "text": [
      "C:\\Users\\never\\AppData\\Roaming\\Python\\Python311\\site-packages\\sklearn\\svm\\_base.py:1250: ConvergenceWarning: Liblinear failed to converge, increase the number of iterations.\n",
      "  warnings.warn(\n"
     ]
    },
    {
     "name": "stdout",
     "output_type": "stream",
     "text": [
      "[CV 2/5] END C=1, class_weight=balanced, dual=auto, fit_intercept=True, intercept_scaling=2, loss=hinge, multi_class=crammer_singer, penalty=l1;, score=0.954 total time=   9.9s\n"
     ]
    },
    {
     "name": "stderr",
     "output_type": "stream",
     "text": [
      "C:\\Users\\never\\AppData\\Roaming\\Python\\Python311\\site-packages\\sklearn\\svm\\_base.py:1250: ConvergenceWarning: Liblinear failed to converge, increase the number of iterations.\n",
      "  warnings.warn(\n"
     ]
    },
    {
     "name": "stdout",
     "output_type": "stream",
     "text": [
      "[CV 3/5] END C=1, class_weight=balanced, dual=auto, fit_intercept=True, intercept_scaling=2, loss=hinge, multi_class=crammer_singer, penalty=l1;, score=0.958 total time=   8.6s\n"
     ]
    },
    {
     "name": "stderr",
     "output_type": "stream",
     "text": [
      "C:\\Users\\never\\AppData\\Roaming\\Python\\Python311\\site-packages\\sklearn\\svm\\_base.py:1250: ConvergenceWarning: Liblinear failed to converge, increase the number of iterations.\n",
      "  warnings.warn(\n"
     ]
    },
    {
     "name": "stdout",
     "output_type": "stream",
     "text": [
      "[CV 4/5] END C=1, class_weight=balanced, dual=auto, fit_intercept=True, intercept_scaling=2, loss=hinge, multi_class=crammer_singer, penalty=l1;, score=0.958 total time=  12.0s\n"
     ]
    },
    {
     "name": "stderr",
     "output_type": "stream",
     "text": [
      "C:\\Users\\never\\AppData\\Roaming\\Python\\Python311\\site-packages\\sklearn\\svm\\_base.py:1250: ConvergenceWarning: Liblinear failed to converge, increase the number of iterations.\n",
      "  warnings.warn(\n"
     ]
    },
    {
     "name": "stdout",
     "output_type": "stream",
     "text": [
      "[CV 5/5] END C=1, class_weight=balanced, dual=auto, fit_intercept=True, intercept_scaling=2, loss=hinge, multi_class=crammer_singer, penalty=l1;, score=0.963 total time=   9.9s\n"
     ]
    },
    {
     "name": "stderr",
     "output_type": "stream",
     "text": [
      "C:\\Users\\never\\AppData\\Roaming\\Python\\Python311\\site-packages\\sklearn\\svm\\_base.py:1250: ConvergenceWarning: Liblinear failed to converge, increase the number of iterations.\n",
      "  warnings.warn(\n"
     ]
    },
    {
     "name": "stdout",
     "output_type": "stream",
     "text": [
      "[CV 1/5] END C=1, class_weight=balanced, dual=auto, fit_intercept=True, intercept_scaling=2, loss=hinge, multi_class=crammer_singer, penalty=l2;, score=0.951 total time=   9.7s\n"
     ]
    },
    {
     "name": "stderr",
     "output_type": "stream",
     "text": [
      "C:\\Users\\never\\AppData\\Roaming\\Python\\Python311\\site-packages\\sklearn\\svm\\_base.py:1250: ConvergenceWarning: Liblinear failed to converge, increase the number of iterations.\n",
      "  warnings.warn(\n"
     ]
    },
    {
     "name": "stdout",
     "output_type": "stream",
     "text": [
      "[CV 2/5] END C=1, class_weight=balanced, dual=auto, fit_intercept=True, intercept_scaling=2, loss=hinge, multi_class=crammer_singer, penalty=l2;, score=0.954 total time=  10.8s\n"
     ]
    },
    {
     "name": "stderr",
     "output_type": "stream",
     "text": [
      "C:\\Users\\never\\AppData\\Roaming\\Python\\Python311\\site-packages\\sklearn\\svm\\_base.py:1250: ConvergenceWarning: Liblinear failed to converge, increase the number of iterations.\n",
      "  warnings.warn(\n"
     ]
    },
    {
     "name": "stdout",
     "output_type": "stream",
     "text": [
      "[CV 3/5] END C=1, class_weight=balanced, dual=auto, fit_intercept=True, intercept_scaling=2, loss=hinge, multi_class=crammer_singer, penalty=l2;, score=0.958 total time=   8.7s\n"
     ]
    },
    {
     "name": "stderr",
     "output_type": "stream",
     "text": [
      "C:\\Users\\never\\AppData\\Roaming\\Python\\Python311\\site-packages\\sklearn\\svm\\_base.py:1250: ConvergenceWarning: Liblinear failed to converge, increase the number of iterations.\n",
      "  warnings.warn(\n"
     ]
    },
    {
     "name": "stdout",
     "output_type": "stream",
     "text": [
      "[CV 4/5] END C=1, class_weight=balanced, dual=auto, fit_intercept=True, intercept_scaling=2, loss=hinge, multi_class=crammer_singer, penalty=l2;, score=0.958 total time=  11.8s\n"
     ]
    },
    {
     "name": "stderr",
     "output_type": "stream",
     "text": [
      "C:\\Users\\never\\AppData\\Roaming\\Python\\Python311\\site-packages\\sklearn\\svm\\_base.py:1250: ConvergenceWarning: Liblinear failed to converge, increase the number of iterations.\n",
      "  warnings.warn(\n"
     ]
    },
    {
     "name": "stdout",
     "output_type": "stream",
     "text": [
      "[CV 5/5] END C=1, class_weight=balanced, dual=auto, fit_intercept=True, intercept_scaling=2, loss=hinge, multi_class=crammer_singer, penalty=l2;, score=0.963 total time=   9.8s\n",
      "[CV 1/5] END C=1, class_weight=balanced, dual=auto, fit_intercept=True, intercept_scaling=2, loss=squared_hinge, multi_class=ovr, penalty=l1;, score=0.954 total time=   5.9s\n",
      "[CV 2/5] END C=1, class_weight=balanced, dual=auto, fit_intercept=True, intercept_scaling=2, loss=squared_hinge, multi_class=ovr, penalty=l1;, score=0.953 total time=   6.1s\n",
      "[CV 3/5] END C=1, class_weight=balanced, dual=auto, fit_intercept=True, intercept_scaling=2, loss=squared_hinge, multi_class=ovr, penalty=l1;, score=0.957 total time=   6.1s\n",
      "[CV 4/5] END C=1, class_weight=balanced, dual=auto, fit_intercept=True, intercept_scaling=2, loss=squared_hinge, multi_class=ovr, penalty=l1;, score=0.958 total time=   6.1s\n",
      "[CV 5/5] END C=1, class_weight=balanced, dual=auto, fit_intercept=True, intercept_scaling=2, loss=squared_hinge, multi_class=ovr, penalty=l1;, score=0.963 total time=   5.9s\n",
      "[CV 1/5] END C=1, class_weight=balanced, dual=auto, fit_intercept=True, intercept_scaling=2, loss=squared_hinge, multi_class=ovr, penalty=l2;, score=0.955 total time=   8.7s\n",
      "[CV 2/5] END C=1, class_weight=balanced, dual=auto, fit_intercept=True, intercept_scaling=2, loss=squared_hinge, multi_class=ovr, penalty=l2;, score=0.954 total time=   8.4s\n",
      "[CV 3/5] END C=1, class_weight=balanced, dual=auto, fit_intercept=True, intercept_scaling=2, loss=squared_hinge, multi_class=ovr, penalty=l2;, score=0.960 total time=   8.8s\n",
      "[CV 4/5] END C=1, class_weight=balanced, dual=auto, fit_intercept=True, intercept_scaling=2, loss=squared_hinge, multi_class=ovr, penalty=l2;, score=0.960 total time=   8.6s\n",
      "[CV 5/5] END C=1, class_weight=balanced, dual=auto, fit_intercept=True, intercept_scaling=2, loss=squared_hinge, multi_class=ovr, penalty=l2;, score=0.961 total time=   8.9s\n"
     ]
    },
    {
     "name": "stderr",
     "output_type": "stream",
     "text": [
      "C:\\Users\\never\\AppData\\Roaming\\Python\\Python311\\site-packages\\sklearn\\svm\\_base.py:1250: ConvergenceWarning: Liblinear failed to converge, increase the number of iterations.\n",
      "  warnings.warn(\n"
     ]
    },
    {
     "name": "stdout",
     "output_type": "stream",
     "text": [
      "[CV 1/5] END C=1, class_weight=balanced, dual=auto, fit_intercept=True, intercept_scaling=2, loss=squared_hinge, multi_class=crammer_singer, penalty=l1;, score=0.951 total time=   9.6s\n"
     ]
    },
    {
     "name": "stderr",
     "output_type": "stream",
     "text": [
      "C:\\Users\\never\\AppData\\Roaming\\Python\\Python311\\site-packages\\sklearn\\svm\\_base.py:1250: ConvergenceWarning: Liblinear failed to converge, increase the number of iterations.\n",
      "  warnings.warn(\n"
     ]
    },
    {
     "name": "stdout",
     "output_type": "stream",
     "text": [
      "[CV 2/5] END C=1, class_weight=balanced, dual=auto, fit_intercept=True, intercept_scaling=2, loss=squared_hinge, multi_class=crammer_singer, penalty=l1;, score=0.954 total time=   9.8s\n"
     ]
    },
    {
     "name": "stderr",
     "output_type": "stream",
     "text": [
      "C:\\Users\\never\\AppData\\Roaming\\Python\\Python311\\site-packages\\sklearn\\svm\\_base.py:1250: ConvergenceWarning: Liblinear failed to converge, increase the number of iterations.\n",
      "  warnings.warn(\n"
     ]
    },
    {
     "name": "stdout",
     "output_type": "stream",
     "text": [
      "[CV 3/5] END C=1, class_weight=balanced, dual=auto, fit_intercept=True, intercept_scaling=2, loss=squared_hinge, multi_class=crammer_singer, penalty=l1;, score=0.958 total time=   9.1s\n"
     ]
    },
    {
     "name": "stderr",
     "output_type": "stream",
     "text": [
      "C:\\Users\\never\\AppData\\Roaming\\Python\\Python311\\site-packages\\sklearn\\svm\\_base.py:1250: ConvergenceWarning: Liblinear failed to converge, increase the number of iterations.\n",
      "  warnings.warn(\n"
     ]
    },
    {
     "name": "stdout",
     "output_type": "stream",
     "text": [
      "[CV 4/5] END C=1, class_weight=balanced, dual=auto, fit_intercept=True, intercept_scaling=2, loss=squared_hinge, multi_class=crammer_singer, penalty=l1;, score=0.958 total time=  13.6s\n"
     ]
    },
    {
     "name": "stderr",
     "output_type": "stream",
     "text": [
      "C:\\Users\\never\\AppData\\Roaming\\Python\\Python311\\site-packages\\sklearn\\svm\\_base.py:1250: ConvergenceWarning: Liblinear failed to converge, increase the number of iterations.\n",
      "  warnings.warn(\n"
     ]
    },
    {
     "name": "stdout",
     "output_type": "stream",
     "text": [
      "[CV 5/5] END C=1, class_weight=balanced, dual=auto, fit_intercept=True, intercept_scaling=2, loss=squared_hinge, multi_class=crammer_singer, penalty=l1;, score=0.963 total time=   9.8s\n"
     ]
    },
    {
     "name": "stderr",
     "output_type": "stream",
     "text": [
      "C:\\Users\\never\\AppData\\Roaming\\Python\\Python311\\site-packages\\sklearn\\svm\\_base.py:1250: ConvergenceWarning: Liblinear failed to converge, increase the number of iterations.\n",
      "  warnings.warn(\n"
     ]
    },
    {
     "name": "stdout",
     "output_type": "stream",
     "text": [
      "[CV 1/5] END C=1, class_weight=balanced, dual=auto, fit_intercept=True, intercept_scaling=2, loss=squared_hinge, multi_class=crammer_singer, penalty=l2;, score=0.951 total time=   9.6s\n"
     ]
    },
    {
     "name": "stderr",
     "output_type": "stream",
     "text": [
      "C:\\Users\\never\\AppData\\Roaming\\Python\\Python311\\site-packages\\sklearn\\svm\\_base.py:1250: ConvergenceWarning: Liblinear failed to converge, increase the number of iterations.\n",
      "  warnings.warn(\n"
     ]
    },
    {
     "name": "stdout",
     "output_type": "stream",
     "text": [
      "[CV 2/5] END C=1, class_weight=balanced, dual=auto, fit_intercept=True, intercept_scaling=2, loss=squared_hinge, multi_class=crammer_singer, penalty=l2;, score=0.954 total time=   9.9s\n"
     ]
    },
    {
     "name": "stderr",
     "output_type": "stream",
     "text": [
      "C:\\Users\\never\\AppData\\Roaming\\Python\\Python311\\site-packages\\sklearn\\svm\\_base.py:1250: ConvergenceWarning: Liblinear failed to converge, increase the number of iterations.\n",
      "  warnings.warn(\n"
     ]
    },
    {
     "name": "stdout",
     "output_type": "stream",
     "text": [
      "[CV 3/5] END C=1, class_weight=balanced, dual=auto, fit_intercept=True, intercept_scaling=2, loss=squared_hinge, multi_class=crammer_singer, penalty=l2;, score=0.958 total time=   8.7s\n"
     ]
    },
    {
     "name": "stderr",
     "output_type": "stream",
     "text": [
      "C:\\Users\\never\\AppData\\Roaming\\Python\\Python311\\site-packages\\sklearn\\svm\\_base.py:1250: ConvergenceWarning: Liblinear failed to converge, increase the number of iterations.\n",
      "  warnings.warn(\n"
     ]
    },
    {
     "name": "stdout",
     "output_type": "stream",
     "text": [
      "[CV 4/5] END C=1, class_weight=balanced, dual=auto, fit_intercept=True, intercept_scaling=2, loss=squared_hinge, multi_class=crammer_singer, penalty=l2;, score=0.958 total time=  12.0s\n"
     ]
    },
    {
     "name": "stderr",
     "output_type": "stream",
     "text": [
      "C:\\Users\\never\\AppData\\Roaming\\Python\\Python311\\site-packages\\sklearn\\svm\\_base.py:1250: ConvergenceWarning: Liblinear failed to converge, increase the number of iterations.\n",
      "  warnings.warn(\n"
     ]
    },
    {
     "name": "stdout",
     "output_type": "stream",
     "text": [
      "[CV 5/5] END C=1, class_weight=balanced, dual=auto, fit_intercept=True, intercept_scaling=2, loss=squared_hinge, multi_class=crammer_singer, penalty=l2;, score=0.963 total time=   9.9s\n",
      "[CV 1/5] END C=1, class_weight=balanced, dual=auto, fit_intercept=False, intercept_scaling=1, loss=hinge, multi_class=ovr, penalty=l1;, score=nan total time=   1.7s\n",
      "[CV 2/5] END C=1, class_weight=balanced, dual=auto, fit_intercept=False, intercept_scaling=1, loss=hinge, multi_class=ovr, penalty=l1;, score=nan total time=   1.7s\n",
      "[CV 3/5] END C=1, class_weight=balanced, dual=auto, fit_intercept=False, intercept_scaling=1, loss=hinge, multi_class=ovr, penalty=l1;, score=nan total time=   1.7s\n",
      "[CV 4/5] END C=1, class_weight=balanced, dual=auto, fit_intercept=False, intercept_scaling=1, loss=hinge, multi_class=ovr, penalty=l1;, score=nan total time=   1.7s\n",
      "[CV 5/5] END C=1, class_weight=balanced, dual=auto, fit_intercept=False, intercept_scaling=1, loss=hinge, multi_class=ovr, penalty=l1;, score=nan total time=   1.7s\n",
      "[CV 1/5] END C=1, class_weight=balanced, dual=auto, fit_intercept=False, intercept_scaling=1, loss=hinge, multi_class=ovr, penalty=l2;, score=0.949 total time=   4.5s\n",
      "[CV 2/5] END C=1, class_weight=balanced, dual=auto, fit_intercept=False, intercept_scaling=1, loss=hinge, multi_class=ovr, penalty=l2;, score=0.951 total time=   4.5s\n",
      "[CV 3/5] END C=1, class_weight=balanced, dual=auto, fit_intercept=False, intercept_scaling=1, loss=hinge, multi_class=ovr, penalty=l2;, score=0.955 total time=   4.2s\n",
      "[CV 4/5] END C=1, class_weight=balanced, dual=auto, fit_intercept=False, intercept_scaling=1, loss=hinge, multi_class=ovr, penalty=l2;, score=0.957 total time=   4.6s\n",
      "[CV 5/5] END C=1, class_weight=balanced, dual=auto, fit_intercept=False, intercept_scaling=1, loss=hinge, multi_class=ovr, penalty=l2;, score=0.960 total time=   4.1s\n",
      "[CV 1/5] END C=1, class_weight=balanced, dual=auto, fit_intercept=False, intercept_scaling=1, loss=hinge, multi_class=crammer_singer, penalty=l1;, score=0.950 total time=   5.1s\n"
     ]
    },
    {
     "name": "stderr",
     "output_type": "stream",
     "text": [
      "C:\\Users\\never\\AppData\\Roaming\\Python\\Python311\\site-packages\\sklearn\\svm\\_base.py:1250: ConvergenceWarning: Liblinear failed to converge, increase the number of iterations.\n",
      "  warnings.warn(\n"
     ]
    },
    {
     "name": "stdout",
     "output_type": "stream",
     "text": [
      "[CV 2/5] END C=1, class_weight=balanced, dual=auto, fit_intercept=False, intercept_scaling=1, loss=hinge, multi_class=crammer_singer, penalty=l1;, score=0.952 total time=   6.1s\n"
     ]
    },
    {
     "name": "stderr",
     "output_type": "stream",
     "text": [
      "C:\\Users\\never\\AppData\\Roaming\\Python\\Python311\\site-packages\\sklearn\\svm\\_base.py:1250: ConvergenceWarning: Liblinear failed to converge, increase the number of iterations.\n",
      "  warnings.warn(\n"
     ]
    },
    {
     "name": "stdout",
     "output_type": "stream",
     "text": [
      "[CV 3/5] END C=1, class_weight=balanced, dual=auto, fit_intercept=False, intercept_scaling=1, loss=hinge, multi_class=crammer_singer, penalty=l1;, score=0.959 total time=   5.2s\n"
     ]
    },
    {
     "name": "stderr",
     "output_type": "stream",
     "text": [
      "C:\\Users\\never\\AppData\\Roaming\\Python\\Python311\\site-packages\\sklearn\\svm\\_base.py:1250: ConvergenceWarning: Liblinear failed to converge, increase the number of iterations.\n",
      "  warnings.warn(\n"
     ]
    },
    {
     "name": "stdout",
     "output_type": "stream",
     "text": [
      "[CV 4/5] END C=1, class_weight=balanced, dual=auto, fit_intercept=False, intercept_scaling=1, loss=hinge, multi_class=crammer_singer, penalty=l1;, score=0.959 total time=   7.1s\n"
     ]
    },
    {
     "name": "stderr",
     "output_type": "stream",
     "text": [
      "C:\\Users\\never\\AppData\\Roaming\\Python\\Python311\\site-packages\\sklearn\\svm\\_base.py:1250: ConvergenceWarning: Liblinear failed to converge, increase the number of iterations.\n",
      "  warnings.warn(\n"
     ]
    },
    {
     "name": "stdout",
     "output_type": "stream",
     "text": [
      "[CV 5/5] END C=1, class_weight=balanced, dual=auto, fit_intercept=False, intercept_scaling=1, loss=hinge, multi_class=crammer_singer, penalty=l1;, score=0.960 total time=   5.6s\n"
     ]
    },
    {
     "name": "stderr",
     "output_type": "stream",
     "text": [
      "C:\\Users\\never\\AppData\\Roaming\\Python\\Python311\\site-packages\\sklearn\\svm\\_base.py:1250: ConvergenceWarning: Liblinear failed to converge, increase the number of iterations.\n",
      "  warnings.warn(\n"
     ]
    },
    {
     "name": "stdout",
     "output_type": "stream",
     "text": [
      "[CV 1/5] END C=1, class_weight=balanced, dual=auto, fit_intercept=False, intercept_scaling=1, loss=hinge, multi_class=crammer_singer, penalty=l2;, score=0.950 total time=   5.1s\n"
     ]
    },
    {
     "name": "stderr",
     "output_type": "stream",
     "text": [
      "C:\\Users\\never\\AppData\\Roaming\\Python\\Python311\\site-packages\\sklearn\\svm\\_base.py:1250: ConvergenceWarning: Liblinear failed to converge, increase the number of iterations.\n",
      "  warnings.warn(\n"
     ]
    },
    {
     "name": "stdout",
     "output_type": "stream",
     "text": [
      "[CV 2/5] END C=1, class_weight=balanced, dual=auto, fit_intercept=False, intercept_scaling=1, loss=hinge, multi_class=crammer_singer, penalty=l2;, score=0.952 total time=   6.0s\n"
     ]
    },
    {
     "name": "stderr",
     "output_type": "stream",
     "text": [
      "C:\\Users\\never\\AppData\\Roaming\\Python\\Python311\\site-packages\\sklearn\\svm\\_base.py:1250: ConvergenceWarning: Liblinear failed to converge, increase the number of iterations.\n",
      "  warnings.warn(\n"
     ]
    },
    {
     "name": "stdout",
     "output_type": "stream",
     "text": [
      "[CV 3/5] END C=1, class_weight=balanced, dual=auto, fit_intercept=False, intercept_scaling=1, loss=hinge, multi_class=crammer_singer, penalty=l2;, score=0.959 total time=   4.7s\n"
     ]
    },
    {
     "name": "stderr",
     "output_type": "stream",
     "text": [
      "C:\\Users\\never\\AppData\\Roaming\\Python\\Python311\\site-packages\\sklearn\\svm\\_base.py:1250: ConvergenceWarning: Liblinear failed to converge, increase the number of iterations.\n",
      "  warnings.warn(\n"
     ]
    },
    {
     "name": "stdout",
     "output_type": "stream",
     "text": [
      "[CV 4/5] END C=1, class_weight=balanced, dual=auto, fit_intercept=False, intercept_scaling=1, loss=hinge, multi_class=crammer_singer, penalty=l2;, score=0.959 total time=   6.1s\n"
     ]
    },
    {
     "name": "stderr",
     "output_type": "stream",
     "text": [
      "C:\\Users\\never\\AppData\\Roaming\\Python\\Python311\\site-packages\\sklearn\\svm\\_base.py:1250: ConvergenceWarning: Liblinear failed to converge, increase the number of iterations.\n",
      "  warnings.warn(\n"
     ]
    },
    {
     "name": "stdout",
     "output_type": "stream",
     "text": [
      "[CV 5/5] END C=1, class_weight=balanced, dual=auto, fit_intercept=False, intercept_scaling=1, loss=hinge, multi_class=crammer_singer, penalty=l2;, score=0.960 total time=   5.6s\n",
      "[CV 1/5] END C=1, class_weight=balanced, dual=auto, fit_intercept=False, intercept_scaling=1, loss=squared_hinge, multi_class=ovr, penalty=l1;, score=0.951 total time=   5.2s\n",
      "[CV 2/5] END C=1, class_weight=balanced, dual=auto, fit_intercept=False, intercept_scaling=1, loss=squared_hinge, multi_class=ovr, penalty=l1;, score=0.951 total time=   5.6s\n",
      "[CV 3/5] END C=1, class_weight=balanced, dual=auto, fit_intercept=False, intercept_scaling=1, loss=squared_hinge, multi_class=ovr, penalty=l1;, score=0.958 total time=   5.3s\n",
      "[CV 4/5] END C=1, class_weight=balanced, dual=auto, fit_intercept=False, intercept_scaling=1, loss=squared_hinge, multi_class=ovr, penalty=l1;, score=0.957 total time=   5.2s\n",
      "[CV 5/5] END C=1, class_weight=balanced, dual=auto, fit_intercept=False, intercept_scaling=1, loss=squared_hinge, multi_class=ovr, penalty=l1;, score=0.961 total time=   5.1s\n",
      "[CV 1/5] END C=1, class_weight=balanced, dual=auto, fit_intercept=False, intercept_scaling=1, loss=squared_hinge, multi_class=ovr, penalty=l2;, score=0.951 total time=  10.9s\n",
      "[CV 2/5] END C=1, class_weight=balanced, dual=auto, fit_intercept=False, intercept_scaling=1, loss=squared_hinge, multi_class=ovr, penalty=l2;, score=0.952 total time=   9.4s\n",
      "[CV 3/5] END C=1, class_weight=balanced, dual=auto, fit_intercept=False, intercept_scaling=1, loss=squared_hinge, multi_class=ovr, penalty=l2;, score=0.958 total time=  10.0s\n",
      "[CV 4/5] END C=1, class_weight=balanced, dual=auto, fit_intercept=False, intercept_scaling=1, loss=squared_hinge, multi_class=ovr, penalty=l2;, score=0.957 total time=   9.9s\n",
      "[CV 5/5] END C=1, class_weight=balanced, dual=auto, fit_intercept=False, intercept_scaling=1, loss=squared_hinge, multi_class=ovr, penalty=l2;, score=0.960 total time=   9.6s\n"
     ]
    },
    {
     "name": "stderr",
     "output_type": "stream",
     "text": [
      "C:\\Users\\never\\AppData\\Roaming\\Python\\Python311\\site-packages\\sklearn\\svm\\_base.py:1250: ConvergenceWarning: Liblinear failed to converge, increase the number of iterations.\n",
      "  warnings.warn(\n"
     ]
    },
    {
     "name": "stdout",
     "output_type": "stream",
     "text": [
      "[CV 1/5] END C=1, class_weight=balanced, dual=auto, fit_intercept=False, intercept_scaling=1, loss=squared_hinge, multi_class=crammer_singer, penalty=l1;, score=0.950 total time=   5.1s\n"
     ]
    },
    {
     "name": "stderr",
     "output_type": "stream",
     "text": [
      "C:\\Users\\never\\AppData\\Roaming\\Python\\Python311\\site-packages\\sklearn\\svm\\_base.py:1250: ConvergenceWarning: Liblinear failed to converge, increase the number of iterations.\n",
      "  warnings.warn(\n"
     ]
    },
    {
     "name": "stdout",
     "output_type": "stream",
     "text": [
      "[CV 2/5] END C=1, class_weight=balanced, dual=auto, fit_intercept=False, intercept_scaling=1, loss=squared_hinge, multi_class=crammer_singer, penalty=l1;, score=0.952 total time=   6.0s\n"
     ]
    },
    {
     "name": "stderr",
     "output_type": "stream",
     "text": [
      "C:\\Users\\never\\AppData\\Roaming\\Python\\Python311\\site-packages\\sklearn\\svm\\_base.py:1250: ConvergenceWarning: Liblinear failed to converge, increase the number of iterations.\n",
      "  warnings.warn(\n"
     ]
    },
    {
     "name": "stdout",
     "output_type": "stream",
     "text": [
      "[CV 3/5] END C=1, class_weight=balanced, dual=auto, fit_intercept=False, intercept_scaling=1, loss=squared_hinge, multi_class=crammer_singer, penalty=l1;, score=0.959 total time=   4.7s\n"
     ]
    },
    {
     "name": "stderr",
     "output_type": "stream",
     "text": [
      "C:\\Users\\never\\AppData\\Roaming\\Python\\Python311\\site-packages\\sklearn\\svm\\_base.py:1250: ConvergenceWarning: Liblinear failed to converge, increase the number of iterations.\n",
      "  warnings.warn(\n"
     ]
    },
    {
     "name": "stdout",
     "output_type": "stream",
     "text": [
      "[CV 4/5] END C=1, class_weight=balanced, dual=auto, fit_intercept=False, intercept_scaling=1, loss=squared_hinge, multi_class=crammer_singer, penalty=l1;, score=0.959 total time=   6.0s\n"
     ]
    },
    {
     "name": "stderr",
     "output_type": "stream",
     "text": [
      "C:\\Users\\never\\AppData\\Roaming\\Python\\Python311\\site-packages\\sklearn\\svm\\_base.py:1250: ConvergenceWarning: Liblinear failed to converge, increase the number of iterations.\n",
      "  warnings.warn(\n"
     ]
    },
    {
     "name": "stdout",
     "output_type": "stream",
     "text": [
      "[CV 5/5] END C=1, class_weight=balanced, dual=auto, fit_intercept=False, intercept_scaling=1, loss=squared_hinge, multi_class=crammer_singer, penalty=l1;, score=0.960 total time=   5.6s\n"
     ]
    },
    {
     "name": "stderr",
     "output_type": "stream",
     "text": [
      "C:\\Users\\never\\AppData\\Roaming\\Python\\Python311\\site-packages\\sklearn\\svm\\_base.py:1250: ConvergenceWarning: Liblinear failed to converge, increase the number of iterations.\n",
      "  warnings.warn(\n"
     ]
    },
    {
     "name": "stdout",
     "output_type": "stream",
     "text": [
      "[CV 1/5] END C=1, class_weight=balanced, dual=auto, fit_intercept=False, intercept_scaling=1, loss=squared_hinge, multi_class=crammer_singer, penalty=l2;, score=0.950 total time=   5.0s\n"
     ]
    },
    {
     "name": "stderr",
     "output_type": "stream",
     "text": [
      "C:\\Users\\never\\AppData\\Roaming\\Python\\Python311\\site-packages\\sklearn\\svm\\_base.py:1250: ConvergenceWarning: Liblinear failed to converge, increase the number of iterations.\n",
      "  warnings.warn(\n"
     ]
    },
    {
     "name": "stdout",
     "output_type": "stream",
     "text": [
      "[CV 2/5] END C=1, class_weight=balanced, dual=auto, fit_intercept=False, intercept_scaling=1, loss=squared_hinge, multi_class=crammer_singer, penalty=l2;, score=0.952 total time=   6.1s\n"
     ]
    },
    {
     "name": "stderr",
     "output_type": "stream",
     "text": [
      "C:\\Users\\never\\AppData\\Roaming\\Python\\Python311\\site-packages\\sklearn\\svm\\_base.py:1250: ConvergenceWarning: Liblinear failed to converge, increase the number of iterations.\n",
      "  warnings.warn(\n"
     ]
    },
    {
     "name": "stdout",
     "output_type": "stream",
     "text": [
      "[CV 3/5] END C=1, class_weight=balanced, dual=auto, fit_intercept=False, intercept_scaling=1, loss=squared_hinge, multi_class=crammer_singer, penalty=l2;, score=0.959 total time=   4.7s\n"
     ]
    },
    {
     "name": "stderr",
     "output_type": "stream",
     "text": [
      "C:\\Users\\never\\AppData\\Roaming\\Python\\Python311\\site-packages\\sklearn\\svm\\_base.py:1250: ConvergenceWarning: Liblinear failed to converge, increase the number of iterations.\n",
      "  warnings.warn(\n"
     ]
    },
    {
     "name": "stdout",
     "output_type": "stream",
     "text": [
      "[CV 4/5] END C=1, class_weight=balanced, dual=auto, fit_intercept=False, intercept_scaling=1, loss=squared_hinge, multi_class=crammer_singer, penalty=l2;, score=0.959 total time=   6.1s\n"
     ]
    },
    {
     "name": "stderr",
     "output_type": "stream",
     "text": [
      "C:\\Users\\never\\AppData\\Roaming\\Python\\Python311\\site-packages\\sklearn\\svm\\_base.py:1250: ConvergenceWarning: Liblinear failed to converge, increase the number of iterations.\n",
      "  warnings.warn(\n"
     ]
    },
    {
     "name": "stdout",
     "output_type": "stream",
     "text": [
      "[CV 5/5] END C=1, class_weight=balanced, dual=auto, fit_intercept=False, intercept_scaling=1, loss=squared_hinge, multi_class=crammer_singer, penalty=l2;, score=0.960 total time=   5.7s\n",
      "[CV 1/5] END C=1, class_weight=balanced, dual=auto, fit_intercept=False, intercept_scaling=1.5, loss=hinge, multi_class=ovr, penalty=l1;, score=nan total time=   1.7s\n",
      "[CV 2/5] END C=1, class_weight=balanced, dual=auto, fit_intercept=False, intercept_scaling=1.5, loss=hinge, multi_class=ovr, penalty=l1;, score=nan total time=   1.7s\n",
      "[CV 3/5] END C=1, class_weight=balanced, dual=auto, fit_intercept=False, intercept_scaling=1.5, loss=hinge, multi_class=ovr, penalty=l1;, score=nan total time=   1.7s\n",
      "[CV 4/5] END C=1, class_weight=balanced, dual=auto, fit_intercept=False, intercept_scaling=1.5, loss=hinge, multi_class=ovr, penalty=l1;, score=nan total time=   1.7s\n",
      "[CV 5/5] END C=1, class_weight=balanced, dual=auto, fit_intercept=False, intercept_scaling=1.5, loss=hinge, multi_class=ovr, penalty=l1;, score=nan total time=   1.7s\n",
      "[CV 1/5] END C=1, class_weight=balanced, dual=auto, fit_intercept=False, intercept_scaling=1.5, loss=hinge, multi_class=ovr, penalty=l2;, score=0.949 total time=   4.2s\n",
      "[CV 2/5] END C=1, class_weight=balanced, dual=auto, fit_intercept=False, intercept_scaling=1.5, loss=hinge, multi_class=ovr, penalty=l2;, score=0.951 total time=   4.3s\n",
      "[CV 3/5] END C=1, class_weight=balanced, dual=auto, fit_intercept=False, intercept_scaling=1.5, loss=hinge, multi_class=ovr, penalty=l2;, score=0.955 total time=   4.2s\n",
      "[CV 4/5] END C=1, class_weight=balanced, dual=auto, fit_intercept=False, intercept_scaling=1.5, loss=hinge, multi_class=ovr, penalty=l2;, score=0.957 total time=   4.3s\n",
      "[CV 5/5] END C=1, class_weight=balanced, dual=auto, fit_intercept=False, intercept_scaling=1.5, loss=hinge, multi_class=ovr, penalty=l2;, score=0.960 total time=   4.0s\n"
     ]
    },
    {
     "name": "stderr",
     "output_type": "stream",
     "text": [
      "C:\\Users\\never\\AppData\\Roaming\\Python\\Python311\\site-packages\\sklearn\\svm\\_base.py:1250: ConvergenceWarning: Liblinear failed to converge, increase the number of iterations.\n",
      "  warnings.warn(\n"
     ]
    },
    {
     "name": "stdout",
     "output_type": "stream",
     "text": [
      "[CV 1/5] END C=1, class_weight=balanced, dual=auto, fit_intercept=False, intercept_scaling=1.5, loss=hinge, multi_class=crammer_singer, penalty=l1;, score=0.950 total time=   5.0s\n"
     ]
    },
    {
     "name": "stderr",
     "output_type": "stream",
     "text": [
      "C:\\Users\\never\\AppData\\Roaming\\Python\\Python311\\site-packages\\sklearn\\svm\\_base.py:1250: ConvergenceWarning: Liblinear failed to converge, increase the number of iterations.\n",
      "  warnings.warn(\n"
     ]
    },
    {
     "name": "stdout",
     "output_type": "stream",
     "text": [
      "[CV 2/5] END C=1, class_weight=balanced, dual=auto, fit_intercept=False, intercept_scaling=1.5, loss=hinge, multi_class=crammer_singer, penalty=l1;, score=0.952 total time=   6.0s\n"
     ]
    },
    {
     "name": "stderr",
     "output_type": "stream",
     "text": [
      "C:\\Users\\never\\AppData\\Roaming\\Python\\Python311\\site-packages\\sklearn\\svm\\_base.py:1250: ConvergenceWarning: Liblinear failed to converge, increase the number of iterations.\n",
      "  warnings.warn(\n"
     ]
    },
    {
     "name": "stdout",
     "output_type": "stream",
     "text": [
      "[CV 3/5] END C=1, class_weight=balanced, dual=auto, fit_intercept=False, intercept_scaling=1.5, loss=hinge, multi_class=crammer_singer, penalty=l1;, score=0.959 total time=   4.8s\n"
     ]
    },
    {
     "name": "stderr",
     "output_type": "stream",
     "text": [
      "C:\\Users\\never\\AppData\\Roaming\\Python\\Python311\\site-packages\\sklearn\\svm\\_base.py:1250: ConvergenceWarning: Liblinear failed to converge, increase the number of iterations.\n",
      "  warnings.warn(\n"
     ]
    },
    {
     "name": "stdout",
     "output_type": "stream",
     "text": [
      "[CV 4/5] END C=1, class_weight=balanced, dual=auto, fit_intercept=False, intercept_scaling=1.5, loss=hinge, multi_class=crammer_singer, penalty=l1;, score=0.959 total time=   6.0s\n"
     ]
    },
    {
     "name": "stderr",
     "output_type": "stream",
     "text": [
      "C:\\Users\\never\\AppData\\Roaming\\Python\\Python311\\site-packages\\sklearn\\svm\\_base.py:1250: ConvergenceWarning: Liblinear failed to converge, increase the number of iterations.\n",
      "  warnings.warn(\n"
     ]
    },
    {
     "name": "stdout",
     "output_type": "stream",
     "text": [
      "[CV 5/5] END C=1, class_weight=balanced, dual=auto, fit_intercept=False, intercept_scaling=1.5, loss=hinge, multi_class=crammer_singer, penalty=l1;, score=0.960 total time=   5.6s\n"
     ]
    },
    {
     "name": "stderr",
     "output_type": "stream",
     "text": [
      "C:\\Users\\never\\AppData\\Roaming\\Python\\Python311\\site-packages\\sklearn\\svm\\_base.py:1250: ConvergenceWarning: Liblinear failed to converge, increase the number of iterations.\n",
      "  warnings.warn(\n"
     ]
    },
    {
     "name": "stdout",
     "output_type": "stream",
     "text": [
      "[CV 1/5] END C=1, class_weight=balanced, dual=auto, fit_intercept=False, intercept_scaling=1.5, loss=hinge, multi_class=crammer_singer, penalty=l2;, score=0.950 total time=   5.1s\n"
     ]
    },
    {
     "name": "stderr",
     "output_type": "stream",
     "text": [
      "C:\\Users\\never\\AppData\\Roaming\\Python\\Python311\\site-packages\\sklearn\\svm\\_base.py:1250: ConvergenceWarning: Liblinear failed to converge, increase the number of iterations.\n",
      "  warnings.warn(\n"
     ]
    },
    {
     "name": "stdout",
     "output_type": "stream",
     "text": [
      "[CV 2/5] END C=1, class_weight=balanced, dual=auto, fit_intercept=False, intercept_scaling=1.5, loss=hinge, multi_class=crammer_singer, penalty=l2;, score=0.952 total time=   6.1s\n"
     ]
    },
    {
     "name": "stderr",
     "output_type": "stream",
     "text": [
      "C:\\Users\\never\\AppData\\Roaming\\Python\\Python311\\site-packages\\sklearn\\svm\\_base.py:1250: ConvergenceWarning: Liblinear failed to converge, increase the number of iterations.\n",
      "  warnings.warn(\n"
     ]
    },
    {
     "name": "stdout",
     "output_type": "stream",
     "text": [
      "[CV 3/5] END C=1, class_weight=balanced, dual=auto, fit_intercept=False, intercept_scaling=1.5, loss=hinge, multi_class=crammer_singer, penalty=l2;, score=0.959 total time=   4.7s\n"
     ]
    },
    {
     "name": "stderr",
     "output_type": "stream",
     "text": [
      "C:\\Users\\never\\AppData\\Roaming\\Python\\Python311\\site-packages\\sklearn\\svm\\_base.py:1250: ConvergenceWarning: Liblinear failed to converge, increase the number of iterations.\n",
      "  warnings.warn(\n"
     ]
    },
    {
     "name": "stdout",
     "output_type": "stream",
     "text": [
      "[CV 4/5] END C=1, class_weight=balanced, dual=auto, fit_intercept=False, intercept_scaling=1.5, loss=hinge, multi_class=crammer_singer, penalty=l2;, score=0.959 total time=   6.1s\n"
     ]
    },
    {
     "name": "stderr",
     "output_type": "stream",
     "text": [
      "C:\\Users\\never\\AppData\\Roaming\\Python\\Python311\\site-packages\\sklearn\\svm\\_base.py:1250: ConvergenceWarning: Liblinear failed to converge, increase the number of iterations.\n",
      "  warnings.warn(\n"
     ]
    },
    {
     "name": "stdout",
     "output_type": "stream",
     "text": [
      "[CV 5/5] END C=1, class_weight=balanced, dual=auto, fit_intercept=False, intercept_scaling=1.5, loss=hinge, multi_class=crammer_singer, penalty=l2;, score=0.960 total time=   5.5s\n",
      "[CV 1/5] END C=1, class_weight=balanced, dual=auto, fit_intercept=False, intercept_scaling=1.5, loss=squared_hinge, multi_class=ovr, penalty=l1;, score=0.951 total time=   5.2s\n",
      "[CV 2/5] END C=1, class_weight=balanced, dual=auto, fit_intercept=False, intercept_scaling=1.5, loss=squared_hinge, multi_class=ovr, penalty=l1;, score=0.951 total time=   5.7s\n",
      "[CV 3/5] END C=1, class_weight=balanced, dual=auto, fit_intercept=False, intercept_scaling=1.5, loss=squared_hinge, multi_class=ovr, penalty=l1;, score=0.958 total time=   5.3s\n",
      "[CV 4/5] END C=1, class_weight=balanced, dual=auto, fit_intercept=False, intercept_scaling=1.5, loss=squared_hinge, multi_class=ovr, penalty=l1;, score=0.957 total time=   5.1s\n",
      "[CV 5/5] END C=1, class_weight=balanced, dual=auto, fit_intercept=False, intercept_scaling=1.5, loss=squared_hinge, multi_class=ovr, penalty=l1;, score=0.961 total time=   5.1s\n",
      "[CV 1/5] END C=1, class_weight=balanced, dual=auto, fit_intercept=False, intercept_scaling=1.5, loss=squared_hinge, multi_class=ovr, penalty=l2;, score=0.951 total time=  10.8s\n",
      "[CV 2/5] END C=1, class_weight=balanced, dual=auto, fit_intercept=False, intercept_scaling=1.5, loss=squared_hinge, multi_class=ovr, penalty=l2;, score=0.952 total time=   9.4s\n",
      "[CV 3/5] END C=1, class_weight=balanced, dual=auto, fit_intercept=False, intercept_scaling=1.5, loss=squared_hinge, multi_class=ovr, penalty=l2;, score=0.958 total time=   9.9s\n",
      "[CV 4/5] END C=1, class_weight=balanced, dual=auto, fit_intercept=False, intercept_scaling=1.5, loss=squared_hinge, multi_class=ovr, penalty=l2;, score=0.957 total time=   9.9s\n",
      "[CV 5/5] END C=1, class_weight=balanced, dual=auto, fit_intercept=False, intercept_scaling=1.5, loss=squared_hinge, multi_class=ovr, penalty=l2;, score=0.960 total time=   9.6s\n"
     ]
    },
    {
     "name": "stderr",
     "output_type": "stream",
     "text": [
      "C:\\Users\\never\\AppData\\Roaming\\Python\\Python311\\site-packages\\sklearn\\svm\\_base.py:1250: ConvergenceWarning: Liblinear failed to converge, increase the number of iterations.\n",
      "  warnings.warn(\n"
     ]
    },
    {
     "name": "stdout",
     "output_type": "stream",
     "text": [
      "[CV 1/5] END C=1, class_weight=balanced, dual=auto, fit_intercept=False, intercept_scaling=1.5, loss=squared_hinge, multi_class=crammer_singer, penalty=l1;, score=0.950 total time=   5.1s\n"
     ]
    },
    {
     "name": "stderr",
     "output_type": "stream",
     "text": [
      "C:\\Users\\never\\AppData\\Roaming\\Python\\Python311\\site-packages\\sklearn\\svm\\_base.py:1250: ConvergenceWarning: Liblinear failed to converge, increase the number of iterations.\n",
      "  warnings.warn(\n"
     ]
    },
    {
     "name": "stdout",
     "output_type": "stream",
     "text": [
      "[CV 2/5] END C=1, class_weight=balanced, dual=auto, fit_intercept=False, intercept_scaling=1.5, loss=squared_hinge, multi_class=crammer_singer, penalty=l1;, score=0.952 total time=   6.0s\n"
     ]
    },
    {
     "name": "stderr",
     "output_type": "stream",
     "text": [
      "C:\\Users\\never\\AppData\\Roaming\\Python\\Python311\\site-packages\\sklearn\\svm\\_base.py:1250: ConvergenceWarning: Liblinear failed to converge, increase the number of iterations.\n",
      "  warnings.warn(\n"
     ]
    },
    {
     "name": "stdout",
     "output_type": "stream",
     "text": [
      "[CV 3/5] END C=1, class_weight=balanced, dual=auto, fit_intercept=False, intercept_scaling=1.5, loss=squared_hinge, multi_class=crammer_singer, penalty=l1;, score=0.959 total time=   4.7s\n"
     ]
    },
    {
     "name": "stderr",
     "output_type": "stream",
     "text": [
      "C:\\Users\\never\\AppData\\Roaming\\Python\\Python311\\site-packages\\sklearn\\svm\\_base.py:1250: ConvergenceWarning: Liblinear failed to converge, increase the number of iterations.\n",
      "  warnings.warn(\n"
     ]
    },
    {
     "name": "stdout",
     "output_type": "stream",
     "text": [
      "[CV 4/5] END C=1, class_weight=balanced, dual=auto, fit_intercept=False, intercept_scaling=1.5, loss=squared_hinge, multi_class=crammer_singer, penalty=l1;, score=0.959 total time=   6.1s\n"
     ]
    },
    {
     "name": "stderr",
     "output_type": "stream",
     "text": [
      "C:\\Users\\never\\AppData\\Roaming\\Python\\Python311\\site-packages\\sklearn\\svm\\_base.py:1250: ConvergenceWarning: Liblinear failed to converge, increase the number of iterations.\n",
      "  warnings.warn(\n"
     ]
    },
    {
     "name": "stdout",
     "output_type": "stream",
     "text": [
      "[CV 5/5] END C=1, class_weight=balanced, dual=auto, fit_intercept=False, intercept_scaling=1.5, loss=squared_hinge, multi_class=crammer_singer, penalty=l1;, score=0.960 total time=   5.6s\n"
     ]
    },
    {
     "name": "stderr",
     "output_type": "stream",
     "text": [
      "C:\\Users\\never\\AppData\\Roaming\\Python\\Python311\\site-packages\\sklearn\\svm\\_base.py:1250: ConvergenceWarning: Liblinear failed to converge, increase the number of iterations.\n",
      "  warnings.warn(\n"
     ]
    },
    {
     "name": "stdout",
     "output_type": "stream",
     "text": [
      "[CV 1/5] END C=1, class_weight=balanced, dual=auto, fit_intercept=False, intercept_scaling=1.5, loss=squared_hinge, multi_class=crammer_singer, penalty=l2;, score=0.950 total time=   5.1s\n"
     ]
    },
    {
     "name": "stderr",
     "output_type": "stream",
     "text": [
      "C:\\Users\\never\\AppData\\Roaming\\Python\\Python311\\site-packages\\sklearn\\svm\\_base.py:1250: ConvergenceWarning: Liblinear failed to converge, increase the number of iterations.\n",
      "  warnings.warn(\n"
     ]
    },
    {
     "name": "stdout",
     "output_type": "stream",
     "text": [
      "[CV 2/5] END C=1, class_weight=balanced, dual=auto, fit_intercept=False, intercept_scaling=1.5, loss=squared_hinge, multi_class=crammer_singer, penalty=l2;, score=0.952 total time=   6.1s\n"
     ]
    },
    {
     "name": "stderr",
     "output_type": "stream",
     "text": [
      "C:\\Users\\never\\AppData\\Roaming\\Python\\Python311\\site-packages\\sklearn\\svm\\_base.py:1250: ConvergenceWarning: Liblinear failed to converge, increase the number of iterations.\n",
      "  warnings.warn(\n"
     ]
    },
    {
     "name": "stdout",
     "output_type": "stream",
     "text": [
      "[CV 3/5] END C=1, class_weight=balanced, dual=auto, fit_intercept=False, intercept_scaling=1.5, loss=squared_hinge, multi_class=crammer_singer, penalty=l2;, score=0.959 total time=   4.8s\n"
     ]
    },
    {
     "name": "stderr",
     "output_type": "stream",
     "text": [
      "C:\\Users\\never\\AppData\\Roaming\\Python\\Python311\\site-packages\\sklearn\\svm\\_base.py:1250: ConvergenceWarning: Liblinear failed to converge, increase the number of iterations.\n",
      "  warnings.warn(\n"
     ]
    },
    {
     "name": "stdout",
     "output_type": "stream",
     "text": [
      "[CV 4/5] END C=1, class_weight=balanced, dual=auto, fit_intercept=False, intercept_scaling=1.5, loss=squared_hinge, multi_class=crammer_singer, penalty=l2;, score=0.959 total time=   6.2s\n"
     ]
    },
    {
     "name": "stderr",
     "output_type": "stream",
     "text": [
      "C:\\Users\\never\\AppData\\Roaming\\Python\\Python311\\site-packages\\sklearn\\svm\\_base.py:1250: ConvergenceWarning: Liblinear failed to converge, increase the number of iterations.\n",
      "  warnings.warn(\n"
     ]
    },
    {
     "name": "stdout",
     "output_type": "stream",
     "text": [
      "[CV 5/5] END C=1, class_weight=balanced, dual=auto, fit_intercept=False, intercept_scaling=1.5, loss=squared_hinge, multi_class=crammer_singer, penalty=l2;, score=0.960 total time=   6.0s\n",
      "[CV 1/5] END C=1, class_weight=balanced, dual=auto, fit_intercept=False, intercept_scaling=2, loss=hinge, multi_class=ovr, penalty=l1;, score=nan total time=   1.7s\n",
      "[CV 2/5] END C=1, class_weight=balanced, dual=auto, fit_intercept=False, intercept_scaling=2, loss=hinge, multi_class=ovr, penalty=l1;, score=nan total time=   1.7s\n",
      "[CV 3/5] END C=1, class_weight=balanced, dual=auto, fit_intercept=False, intercept_scaling=2, loss=hinge, multi_class=ovr, penalty=l1;, score=nan total time=   1.7s\n",
      "[CV 4/5] END C=1, class_weight=balanced, dual=auto, fit_intercept=False, intercept_scaling=2, loss=hinge, multi_class=ovr, penalty=l1;, score=nan total time=   1.7s\n",
      "[CV 5/5] END C=1, class_weight=balanced, dual=auto, fit_intercept=False, intercept_scaling=2, loss=hinge, multi_class=ovr, penalty=l1;, score=nan total time=   1.7s\n",
      "[CV 1/5] END C=1, class_weight=balanced, dual=auto, fit_intercept=False, intercept_scaling=2, loss=hinge, multi_class=ovr, penalty=l2;, score=0.949 total time=   4.2s\n",
      "[CV 2/5] END C=1, class_weight=balanced, dual=auto, fit_intercept=False, intercept_scaling=2, loss=hinge, multi_class=ovr, penalty=l2;, score=0.951 total time=   4.5s\n",
      "[CV 3/5] END C=1, class_weight=balanced, dual=auto, fit_intercept=False, intercept_scaling=2, loss=hinge, multi_class=ovr, penalty=l2;, score=0.955 total time=   4.2s\n",
      "[CV 4/5] END C=1, class_weight=balanced, dual=auto, fit_intercept=False, intercept_scaling=2, loss=hinge, multi_class=ovr, penalty=l2;, score=0.957 total time=   4.5s\n",
      "[CV 5/5] END C=1, class_weight=balanced, dual=auto, fit_intercept=False, intercept_scaling=2, loss=hinge, multi_class=ovr, penalty=l2;, score=0.960 total time=   4.1s\n"
     ]
    },
    {
     "name": "stderr",
     "output_type": "stream",
     "text": [
      "C:\\Users\\never\\AppData\\Roaming\\Python\\Python311\\site-packages\\sklearn\\svm\\_base.py:1250: ConvergenceWarning: Liblinear failed to converge, increase the number of iterations.\n",
      "  warnings.warn(\n"
     ]
    },
    {
     "name": "stdout",
     "output_type": "stream",
     "text": [
      "[CV 1/5] END C=1, class_weight=balanced, dual=auto, fit_intercept=False, intercept_scaling=2, loss=hinge, multi_class=crammer_singer, penalty=l1;, score=0.950 total time=   5.0s\n"
     ]
    },
    {
     "name": "stderr",
     "output_type": "stream",
     "text": [
      "C:\\Users\\never\\AppData\\Roaming\\Python\\Python311\\site-packages\\sklearn\\svm\\_base.py:1250: ConvergenceWarning: Liblinear failed to converge, increase the number of iterations.\n",
      "  warnings.warn(\n"
     ]
    },
    {
     "name": "stdout",
     "output_type": "stream",
     "text": [
      "[CV 2/5] END C=1, class_weight=balanced, dual=auto, fit_intercept=False, intercept_scaling=2, loss=hinge, multi_class=crammer_singer, penalty=l1;, score=0.952 total time=   6.0s\n"
     ]
    },
    {
     "name": "stderr",
     "output_type": "stream",
     "text": [
      "C:\\Users\\never\\AppData\\Roaming\\Python\\Python311\\site-packages\\sklearn\\svm\\_base.py:1250: ConvergenceWarning: Liblinear failed to converge, increase the number of iterations.\n",
      "  warnings.warn(\n"
     ]
    },
    {
     "name": "stdout",
     "output_type": "stream",
     "text": [
      "[CV 3/5] END C=1, class_weight=balanced, dual=auto, fit_intercept=False, intercept_scaling=2, loss=hinge, multi_class=crammer_singer, penalty=l1;, score=0.959 total time=   4.7s\n"
     ]
    },
    {
     "name": "stderr",
     "output_type": "stream",
     "text": [
      "C:\\Users\\never\\AppData\\Roaming\\Python\\Python311\\site-packages\\sklearn\\svm\\_base.py:1250: ConvergenceWarning: Liblinear failed to converge, increase the number of iterations.\n",
      "  warnings.warn(\n"
     ]
    },
    {
     "name": "stdout",
     "output_type": "stream",
     "text": [
      "[CV 4/5] END C=1, class_weight=balanced, dual=auto, fit_intercept=False, intercept_scaling=2, loss=hinge, multi_class=crammer_singer, penalty=l1;, score=0.959 total time=   6.0s\n"
     ]
    },
    {
     "name": "stderr",
     "output_type": "stream",
     "text": [
      "C:\\Users\\never\\AppData\\Roaming\\Python\\Python311\\site-packages\\sklearn\\svm\\_base.py:1250: ConvergenceWarning: Liblinear failed to converge, increase the number of iterations.\n",
      "  warnings.warn(\n"
     ]
    },
    {
     "name": "stdout",
     "output_type": "stream",
     "text": [
      "[CV 5/5] END C=1, class_weight=balanced, dual=auto, fit_intercept=False, intercept_scaling=2, loss=hinge, multi_class=crammer_singer, penalty=l1;, score=0.960 total time=   5.7s\n"
     ]
    },
    {
     "name": "stderr",
     "output_type": "stream",
     "text": [
      "C:\\Users\\never\\AppData\\Roaming\\Python\\Python311\\site-packages\\sklearn\\svm\\_base.py:1250: ConvergenceWarning: Liblinear failed to converge, increase the number of iterations.\n",
      "  warnings.warn(\n"
     ]
    },
    {
     "name": "stdout",
     "output_type": "stream",
     "text": [
      "[CV 1/5] END C=1, class_weight=balanced, dual=auto, fit_intercept=False, intercept_scaling=2, loss=hinge, multi_class=crammer_singer, penalty=l2;, score=0.950 total time=   5.1s\n"
     ]
    },
    {
     "name": "stderr",
     "output_type": "stream",
     "text": [
      "C:\\Users\\never\\AppData\\Roaming\\Python\\Python311\\site-packages\\sklearn\\svm\\_base.py:1250: ConvergenceWarning: Liblinear failed to converge, increase the number of iterations.\n",
      "  warnings.warn(\n"
     ]
    },
    {
     "name": "stdout",
     "output_type": "stream",
     "text": [
      "[CV 2/5] END C=1, class_weight=balanced, dual=auto, fit_intercept=False, intercept_scaling=2, loss=hinge, multi_class=crammer_singer, penalty=l2;, score=0.952 total time=   6.1s\n"
     ]
    },
    {
     "name": "stderr",
     "output_type": "stream",
     "text": [
      "C:\\Users\\never\\AppData\\Roaming\\Python\\Python311\\site-packages\\sklearn\\svm\\_base.py:1250: ConvergenceWarning: Liblinear failed to converge, increase the number of iterations.\n",
      "  warnings.warn(\n"
     ]
    },
    {
     "name": "stdout",
     "output_type": "stream",
     "text": [
      "[CV 3/5] END C=1, class_weight=balanced, dual=auto, fit_intercept=False, intercept_scaling=2, loss=hinge, multi_class=crammer_singer, penalty=l2;, score=0.959 total time=   4.7s\n"
     ]
    },
    {
     "name": "stderr",
     "output_type": "stream",
     "text": [
      "C:\\Users\\never\\AppData\\Roaming\\Python\\Python311\\site-packages\\sklearn\\svm\\_base.py:1250: ConvergenceWarning: Liblinear failed to converge, increase the number of iterations.\n",
      "  warnings.warn(\n"
     ]
    },
    {
     "name": "stdout",
     "output_type": "stream",
     "text": [
      "[CV 4/5] END C=1, class_weight=balanced, dual=auto, fit_intercept=False, intercept_scaling=2, loss=hinge, multi_class=crammer_singer, penalty=l2;, score=0.959 total time=   7.3s\n"
     ]
    },
    {
     "name": "stderr",
     "output_type": "stream",
     "text": [
      "C:\\Users\\never\\AppData\\Roaming\\Python\\Python311\\site-packages\\sklearn\\svm\\_base.py:1250: ConvergenceWarning: Liblinear failed to converge, increase the number of iterations.\n",
      "  warnings.warn(\n"
     ]
    },
    {
     "name": "stdout",
     "output_type": "stream",
     "text": [
      "[CV 5/5] END C=1, class_weight=balanced, dual=auto, fit_intercept=False, intercept_scaling=2, loss=hinge, multi_class=crammer_singer, penalty=l2;, score=0.960 total time=   5.6s\n",
      "[CV 1/5] END C=1, class_weight=balanced, dual=auto, fit_intercept=False, intercept_scaling=2, loss=squared_hinge, multi_class=ovr, penalty=l1;, score=0.951 total time=   5.2s\n",
      "[CV 2/5] END C=1, class_weight=balanced, dual=auto, fit_intercept=False, intercept_scaling=2, loss=squared_hinge, multi_class=ovr, penalty=l1;, score=0.951 total time=   5.6s\n",
      "[CV 3/5] END C=1, class_weight=balanced, dual=auto, fit_intercept=False, intercept_scaling=2, loss=squared_hinge, multi_class=ovr, penalty=l1;, score=0.958 total time=   5.3s\n",
      "[CV 4/5] END C=1, class_weight=balanced, dual=auto, fit_intercept=False, intercept_scaling=2, loss=squared_hinge, multi_class=ovr, penalty=l1;, score=0.957 total time=   5.1s\n",
      "[CV 5/5] END C=1, class_weight=balanced, dual=auto, fit_intercept=False, intercept_scaling=2, loss=squared_hinge, multi_class=ovr, penalty=l1;, score=0.961 total time=   5.1s\n",
      "[CV 1/5] END C=1, class_weight=balanced, dual=auto, fit_intercept=False, intercept_scaling=2, loss=squared_hinge, multi_class=ovr, penalty=l2;, score=0.951 total time=  10.9s\n",
      "[CV 2/5] END C=1, class_weight=balanced, dual=auto, fit_intercept=False, intercept_scaling=2, loss=squared_hinge, multi_class=ovr, penalty=l2;, score=0.952 total time=   9.3s\n",
      "[CV 3/5] END C=1, class_weight=balanced, dual=auto, fit_intercept=False, intercept_scaling=2, loss=squared_hinge, multi_class=ovr, penalty=l2;, score=0.958 total time=   9.9s\n",
      "[CV 4/5] END C=1, class_weight=balanced, dual=auto, fit_intercept=False, intercept_scaling=2, loss=squared_hinge, multi_class=ovr, penalty=l2;, score=0.957 total time=   9.9s\n",
      "[CV 5/5] END C=1, class_weight=balanced, dual=auto, fit_intercept=False, intercept_scaling=2, loss=squared_hinge, multi_class=ovr, penalty=l2;, score=0.960 total time=   9.6s\n"
     ]
    },
    {
     "name": "stderr",
     "output_type": "stream",
     "text": [
      "C:\\Users\\never\\AppData\\Roaming\\Python\\Python311\\site-packages\\sklearn\\svm\\_base.py:1250: ConvergenceWarning: Liblinear failed to converge, increase the number of iterations.\n",
      "  warnings.warn(\n"
     ]
    },
    {
     "name": "stdout",
     "output_type": "stream",
     "text": [
      "[CV 1/5] END C=1, class_weight=balanced, dual=auto, fit_intercept=False, intercept_scaling=2, loss=squared_hinge, multi_class=crammer_singer, penalty=l1;, score=0.950 total time=   5.0s\n"
     ]
    },
    {
     "name": "stderr",
     "output_type": "stream",
     "text": [
      "C:\\Users\\never\\AppData\\Roaming\\Python\\Python311\\site-packages\\sklearn\\svm\\_base.py:1250: ConvergenceWarning: Liblinear failed to converge, increase the number of iterations.\n",
      "  warnings.warn(\n"
     ]
    },
    {
     "name": "stdout",
     "output_type": "stream",
     "text": [
      "[CV 2/5] END C=1, class_weight=balanced, dual=auto, fit_intercept=False, intercept_scaling=2, loss=squared_hinge, multi_class=crammer_singer, penalty=l1;, score=0.952 total time=   6.0s\n"
     ]
    },
    {
     "name": "stderr",
     "output_type": "stream",
     "text": [
      "C:\\Users\\never\\AppData\\Roaming\\Python\\Python311\\site-packages\\sklearn\\svm\\_base.py:1250: ConvergenceWarning: Liblinear failed to converge, increase the number of iterations.\n",
      "  warnings.warn(\n"
     ]
    },
    {
     "name": "stdout",
     "output_type": "stream",
     "text": [
      "[CV 3/5] END C=1, class_weight=balanced, dual=auto, fit_intercept=False, intercept_scaling=2, loss=squared_hinge, multi_class=crammer_singer, penalty=l1;, score=0.959 total time=   4.7s\n"
     ]
    },
    {
     "name": "stderr",
     "output_type": "stream",
     "text": [
      "C:\\Users\\never\\AppData\\Roaming\\Python\\Python311\\site-packages\\sklearn\\svm\\_base.py:1250: ConvergenceWarning: Liblinear failed to converge, increase the number of iterations.\n",
      "  warnings.warn(\n"
     ]
    },
    {
     "name": "stdout",
     "output_type": "stream",
     "text": [
      "[CV 4/5] END C=1, class_weight=balanced, dual=auto, fit_intercept=False, intercept_scaling=2, loss=squared_hinge, multi_class=crammer_singer, penalty=l1;, score=0.959 total time=   7.2s\n"
     ]
    },
    {
     "name": "stderr",
     "output_type": "stream",
     "text": [
      "C:\\Users\\never\\AppData\\Roaming\\Python\\Python311\\site-packages\\sklearn\\svm\\_base.py:1250: ConvergenceWarning: Liblinear failed to converge, increase the number of iterations.\n",
      "  warnings.warn(\n"
     ]
    },
    {
     "name": "stdout",
     "output_type": "stream",
     "text": [
      "[CV 5/5] END C=1, class_weight=balanced, dual=auto, fit_intercept=False, intercept_scaling=2, loss=squared_hinge, multi_class=crammer_singer, penalty=l1;, score=0.960 total time=   5.6s\n"
     ]
    },
    {
     "name": "stderr",
     "output_type": "stream",
     "text": [
      "C:\\Users\\never\\AppData\\Roaming\\Python\\Python311\\site-packages\\sklearn\\svm\\_base.py:1250: ConvergenceWarning: Liblinear failed to converge, increase the number of iterations.\n",
      "  warnings.warn(\n"
     ]
    },
    {
     "name": "stdout",
     "output_type": "stream",
     "text": [
      "[CV 1/5] END C=1, class_weight=balanced, dual=auto, fit_intercept=False, intercept_scaling=2, loss=squared_hinge, multi_class=crammer_singer, penalty=l2;, score=0.950 total time=   5.2s\n"
     ]
    },
    {
     "name": "stderr",
     "output_type": "stream",
     "text": [
      "C:\\Users\\never\\AppData\\Roaming\\Python\\Python311\\site-packages\\sklearn\\svm\\_base.py:1250: ConvergenceWarning: Liblinear failed to converge, increase the number of iterations.\n",
      "  warnings.warn(\n"
     ]
    },
    {
     "name": "stdout",
     "output_type": "stream",
     "text": [
      "[CV 2/5] END C=1, class_weight=balanced, dual=auto, fit_intercept=False, intercept_scaling=2, loss=squared_hinge, multi_class=crammer_singer, penalty=l2;, score=0.952 total time=   6.0s\n"
     ]
    },
    {
     "name": "stderr",
     "output_type": "stream",
     "text": [
      "C:\\Users\\never\\AppData\\Roaming\\Python\\Python311\\site-packages\\sklearn\\svm\\_base.py:1250: ConvergenceWarning: Liblinear failed to converge, increase the number of iterations.\n",
      "  warnings.warn(\n"
     ]
    },
    {
     "name": "stdout",
     "output_type": "stream",
     "text": [
      "[CV 3/5] END C=1, class_weight=balanced, dual=auto, fit_intercept=False, intercept_scaling=2, loss=squared_hinge, multi_class=crammer_singer, penalty=l2;, score=0.959 total time=   4.8s\n"
     ]
    },
    {
     "name": "stderr",
     "output_type": "stream",
     "text": [
      "C:\\Users\\never\\AppData\\Roaming\\Python\\Python311\\site-packages\\sklearn\\svm\\_base.py:1250: ConvergenceWarning: Liblinear failed to converge, increase the number of iterations.\n",
      "  warnings.warn(\n"
     ]
    },
    {
     "name": "stdout",
     "output_type": "stream",
     "text": [
      "[CV 4/5] END C=1, class_weight=balanced, dual=auto, fit_intercept=False, intercept_scaling=2, loss=squared_hinge, multi_class=crammer_singer, penalty=l2;, score=0.959 total time=   6.2s\n"
     ]
    },
    {
     "name": "stderr",
     "output_type": "stream",
     "text": [
      "C:\\Users\\never\\AppData\\Roaming\\Python\\Python311\\site-packages\\sklearn\\svm\\_base.py:1250: ConvergenceWarning: Liblinear failed to converge, increase the number of iterations.\n",
      "  warnings.warn(\n"
     ]
    },
    {
     "name": "stdout",
     "output_type": "stream",
     "text": [
      "[CV 5/5] END C=1, class_weight=balanced, dual=auto, fit_intercept=False, intercept_scaling=2, loss=squared_hinge, multi_class=crammer_singer, penalty=l2;, score=0.960 total time=   5.6s\n",
      "[CV 1/5] END C=10, class_weight=None, dual=auto, fit_intercept=True, intercept_scaling=1, loss=hinge, multi_class=ovr, penalty=l1;, score=nan total time=   1.7s\n",
      "[CV 2/5] END C=10, class_weight=None, dual=auto, fit_intercept=True, intercept_scaling=1, loss=hinge, multi_class=ovr, penalty=l1;, score=nan total time=   1.7s\n",
      "[CV 3/5] END C=10, class_weight=None, dual=auto, fit_intercept=True, intercept_scaling=1, loss=hinge, multi_class=ovr, penalty=l1;, score=nan total time=   1.7s\n",
      "[CV 4/5] END C=10, class_weight=None, dual=auto, fit_intercept=True, intercept_scaling=1, loss=hinge, multi_class=ovr, penalty=l1;, score=nan total time=   1.7s\n",
      "[CV 5/5] END C=10, class_weight=None, dual=auto, fit_intercept=True, intercept_scaling=1, loss=hinge, multi_class=ovr, penalty=l1;, score=nan total time=   1.7s\n",
      "[CV 1/5] END C=10, class_weight=None, dual=auto, fit_intercept=True, intercept_scaling=1, loss=hinge, multi_class=ovr, penalty=l2;, score=0.952 total time=  15.0s\n",
      "[CV 2/5] END C=10, class_weight=None, dual=auto, fit_intercept=True, intercept_scaling=1, loss=hinge, multi_class=ovr, penalty=l2;, score=0.953 total time=  10.2s\n",
      "[CV 3/5] END C=10, class_weight=None, dual=auto, fit_intercept=True, intercept_scaling=1, loss=hinge, multi_class=ovr, penalty=l2;, score=0.961 total time=  10.6s\n",
      "[CV 4/5] END C=10, class_weight=None, dual=auto, fit_intercept=True, intercept_scaling=1, loss=hinge, multi_class=ovr, penalty=l2;, score=0.958 total time=  14.2s\n",
      "[CV 5/5] END C=10, class_weight=None, dual=auto, fit_intercept=True, intercept_scaling=1, loss=hinge, multi_class=ovr, penalty=l2;, score=0.959 total time=  13.9s\n"
     ]
    },
    {
     "name": "stderr",
     "output_type": "stream",
     "text": [
      "C:\\Users\\never\\AppData\\Roaming\\Python\\Python311\\site-packages\\sklearn\\svm\\_base.py:1250: ConvergenceWarning: Liblinear failed to converge, increase the number of iterations.\n",
      "  warnings.warn(\n"
     ]
    },
    {
     "name": "stdout",
     "output_type": "stream",
     "text": [
      "[CV 1/5] END C=10, class_weight=None, dual=auto, fit_intercept=True, intercept_scaling=1, loss=hinge, multi_class=crammer_singer, penalty=l1;, score=0.954 total time=  23.4s\n"
     ]
    },
    {
     "name": "stderr",
     "output_type": "stream",
     "text": [
      "C:\\Users\\never\\AppData\\Roaming\\Python\\Python311\\site-packages\\sklearn\\svm\\_base.py:1250: ConvergenceWarning: Liblinear failed to converge, increase the number of iterations.\n",
      "  warnings.warn(\n"
     ]
    },
    {
     "name": "stdout",
     "output_type": "stream",
     "text": [
      "[CV 2/5] END C=10, class_weight=None, dual=auto, fit_intercept=True, intercept_scaling=1, loss=hinge, multi_class=crammer_singer, penalty=l1;, score=0.950 total time=  12.0s\n"
     ]
    },
    {
     "name": "stderr",
     "output_type": "stream",
     "text": [
      "C:\\Users\\never\\AppData\\Roaming\\Python\\Python311\\site-packages\\sklearn\\svm\\_base.py:1250: ConvergenceWarning: Liblinear failed to converge, increase the number of iterations.\n",
      "  warnings.warn(\n"
     ]
    },
    {
     "name": "stdout",
     "output_type": "stream",
     "text": [
      "[CV 3/5] END C=10, class_weight=None, dual=auto, fit_intercept=True, intercept_scaling=1, loss=hinge, multi_class=crammer_singer, penalty=l1;, score=0.956 total time=  10.5s\n"
     ]
    },
    {
     "name": "stderr",
     "output_type": "stream",
     "text": [
      "C:\\Users\\never\\AppData\\Roaming\\Python\\Python311\\site-packages\\sklearn\\svm\\_base.py:1250: ConvergenceWarning: Liblinear failed to converge, increase the number of iterations.\n",
      "  warnings.warn(\n"
     ]
    },
    {
     "name": "stdout",
     "output_type": "stream",
     "text": [
      "[CV 4/5] END C=10, class_weight=None, dual=auto, fit_intercept=True, intercept_scaling=1, loss=hinge, multi_class=crammer_singer, penalty=l1;, score=0.956 total time=  17.8s\n"
     ]
    },
    {
     "name": "stderr",
     "output_type": "stream",
     "text": [
      "C:\\Users\\never\\AppData\\Roaming\\Python\\Python311\\site-packages\\sklearn\\svm\\_base.py:1250: ConvergenceWarning: Liblinear failed to converge, increase the number of iterations.\n",
      "  warnings.warn(\n"
     ]
    },
    {
     "name": "stdout",
     "output_type": "stream",
     "text": [
      "[CV 5/5] END C=10, class_weight=None, dual=auto, fit_intercept=True, intercept_scaling=1, loss=hinge, multi_class=crammer_singer, penalty=l1;, score=0.957 total time=  21.0s\n"
     ]
    },
    {
     "name": "stderr",
     "output_type": "stream",
     "text": [
      "C:\\Users\\never\\AppData\\Roaming\\Python\\Python311\\site-packages\\sklearn\\svm\\_base.py:1250: ConvergenceWarning: Liblinear failed to converge, increase the number of iterations.\n",
      "  warnings.warn(\n"
     ]
    },
    {
     "name": "stdout",
     "output_type": "stream",
     "text": [
      "[CV 1/5] END C=10, class_weight=None, dual=auto, fit_intercept=True, intercept_scaling=1, loss=hinge, multi_class=crammer_singer, penalty=l2;, score=0.954 total time=  23.6s\n"
     ]
    },
    {
     "name": "stderr",
     "output_type": "stream",
     "text": [
      "C:\\Users\\never\\AppData\\Roaming\\Python\\Python311\\site-packages\\sklearn\\svm\\_base.py:1250: ConvergenceWarning: Liblinear failed to converge, increase the number of iterations.\n",
      "  warnings.warn(\n"
     ]
    },
    {
     "name": "stdout",
     "output_type": "stream",
     "text": [
      "[CV 2/5] END C=10, class_weight=None, dual=auto, fit_intercept=True, intercept_scaling=1, loss=hinge, multi_class=crammer_singer, penalty=l2;, score=0.950 total time=  12.0s\n"
     ]
    },
    {
     "name": "stderr",
     "output_type": "stream",
     "text": [
      "C:\\Users\\never\\AppData\\Roaming\\Python\\Python311\\site-packages\\sklearn\\svm\\_base.py:1250: ConvergenceWarning: Liblinear failed to converge, increase the number of iterations.\n",
      "  warnings.warn(\n"
     ]
    },
    {
     "name": "stdout",
     "output_type": "stream",
     "text": [
      "[CV 3/5] END C=10, class_weight=None, dual=auto, fit_intercept=True, intercept_scaling=1, loss=hinge, multi_class=crammer_singer, penalty=l2;, score=0.956 total time=  10.7s\n"
     ]
    },
    {
     "name": "stderr",
     "output_type": "stream",
     "text": [
      "C:\\Users\\never\\AppData\\Roaming\\Python\\Python311\\site-packages\\sklearn\\svm\\_base.py:1250: ConvergenceWarning: Liblinear failed to converge, increase the number of iterations.\n",
      "  warnings.warn(\n"
     ]
    },
    {
     "name": "stdout",
     "output_type": "stream",
     "text": [
      "[CV 4/5] END C=10, class_weight=None, dual=auto, fit_intercept=True, intercept_scaling=1, loss=hinge, multi_class=crammer_singer, penalty=l2;, score=0.956 total time=  19.6s\n"
     ]
    },
    {
     "name": "stderr",
     "output_type": "stream",
     "text": [
      "C:\\Users\\never\\AppData\\Roaming\\Python\\Python311\\site-packages\\sklearn\\svm\\_base.py:1250: ConvergenceWarning: Liblinear failed to converge, increase the number of iterations.\n",
      "  warnings.warn(\n"
     ]
    },
    {
     "name": "stdout",
     "output_type": "stream",
     "text": [
      "[CV 5/5] END C=10, class_weight=None, dual=auto, fit_intercept=True, intercept_scaling=1, loss=hinge, multi_class=crammer_singer, penalty=l2;, score=0.957 total time=  20.8s\n",
      "[CV 1/5] END C=10, class_weight=None, dual=auto, fit_intercept=True, intercept_scaling=1, loss=squared_hinge, multi_class=ovr, penalty=l1;, score=0.957 total time=  27.7s\n",
      "[CV 2/5] END C=10, class_weight=None, dual=auto, fit_intercept=True, intercept_scaling=1, loss=squared_hinge, multi_class=ovr, penalty=l1;, score=0.952 total time=  24.6s\n",
      "[CV 3/5] END C=10, class_weight=None, dual=auto, fit_intercept=True, intercept_scaling=1, loss=squared_hinge, multi_class=ovr, penalty=l1;, score=0.962 total time=  22.2s\n",
      "[CV 4/5] END C=10, class_weight=None, dual=auto, fit_intercept=True, intercept_scaling=1, loss=squared_hinge, multi_class=ovr, penalty=l1;, score=0.960 total time=  24.1s\n",
      "[CV 5/5] END C=10, class_weight=None, dual=auto, fit_intercept=True, intercept_scaling=1, loss=squared_hinge, multi_class=ovr, penalty=l1;, score=0.959 total time=  22.1s\n",
      "[CV 1/5] END C=10, class_weight=None, dual=auto, fit_intercept=True, intercept_scaling=1, loss=squared_hinge, multi_class=ovr, penalty=l2;, score=0.954 total time=  36.3s\n",
      "[CV 2/5] END C=10, class_weight=None, dual=auto, fit_intercept=True, intercept_scaling=1, loss=squared_hinge, multi_class=ovr, penalty=l2;, score=0.953 total time=  36.3s\n",
      "[CV 3/5] END C=10, class_weight=None, dual=auto, fit_intercept=True, intercept_scaling=1, loss=squared_hinge, multi_class=ovr, penalty=l2;, score=0.959 total time=  39.8s\n",
      "[CV 4/5] END C=10, class_weight=None, dual=auto, fit_intercept=True, intercept_scaling=1, loss=squared_hinge, multi_class=ovr, penalty=l2;, score=0.960 total time=  37.5s\n",
      "[CV 5/5] END C=10, class_weight=None, dual=auto, fit_intercept=True, intercept_scaling=1, loss=squared_hinge, multi_class=ovr, penalty=l2;, score=0.958 total time=  37.9s\n"
     ]
    },
    {
     "name": "stderr",
     "output_type": "stream",
     "text": [
      "C:\\Users\\never\\AppData\\Roaming\\Python\\Python311\\site-packages\\sklearn\\svm\\_base.py:1250: ConvergenceWarning: Liblinear failed to converge, increase the number of iterations.\n",
      "  warnings.warn(\n"
     ]
    },
    {
     "name": "stdout",
     "output_type": "stream",
     "text": [
      "[CV 1/5] END C=10, class_weight=None, dual=auto, fit_intercept=True, intercept_scaling=1, loss=squared_hinge, multi_class=crammer_singer, penalty=l1;, score=0.954 total time=  23.2s\n"
     ]
    },
    {
     "name": "stderr",
     "output_type": "stream",
     "text": [
      "C:\\Users\\never\\AppData\\Roaming\\Python\\Python311\\site-packages\\sklearn\\svm\\_base.py:1250: ConvergenceWarning: Liblinear failed to converge, increase the number of iterations.\n",
      "  warnings.warn(\n"
     ]
    },
    {
     "name": "stdout",
     "output_type": "stream",
     "text": [
      "[CV 2/5] END C=10, class_weight=None, dual=auto, fit_intercept=True, intercept_scaling=1, loss=squared_hinge, multi_class=crammer_singer, penalty=l1;, score=0.950 total time=  12.1s\n"
     ]
    },
    {
     "name": "stderr",
     "output_type": "stream",
     "text": [
      "C:\\Users\\never\\AppData\\Roaming\\Python\\Python311\\site-packages\\sklearn\\svm\\_base.py:1250: ConvergenceWarning: Liblinear failed to converge, increase the number of iterations.\n",
      "  warnings.warn(\n"
     ]
    },
    {
     "name": "stdout",
     "output_type": "stream",
     "text": [
      "[CV 3/5] END C=10, class_weight=None, dual=auto, fit_intercept=True, intercept_scaling=1, loss=squared_hinge, multi_class=crammer_singer, penalty=l1;, score=0.956 total time=  10.4s\n"
     ]
    },
    {
     "name": "stderr",
     "output_type": "stream",
     "text": [
      "C:\\Users\\never\\AppData\\Roaming\\Python\\Python311\\site-packages\\sklearn\\svm\\_base.py:1250: ConvergenceWarning: Liblinear failed to converge, increase the number of iterations.\n",
      "  warnings.warn(\n"
     ]
    },
    {
     "name": "stdout",
     "output_type": "stream",
     "text": [
      "[CV 4/5] END C=10, class_weight=None, dual=auto, fit_intercept=True, intercept_scaling=1, loss=squared_hinge, multi_class=crammer_singer, penalty=l1;, score=0.956 total time=  17.6s\n"
     ]
    },
    {
     "name": "stderr",
     "output_type": "stream",
     "text": [
      "C:\\Users\\never\\AppData\\Roaming\\Python\\Python311\\site-packages\\sklearn\\svm\\_base.py:1250: ConvergenceWarning: Liblinear failed to converge, increase the number of iterations.\n",
      "  warnings.warn(\n"
     ]
    },
    {
     "name": "stdout",
     "output_type": "stream",
     "text": [
      "[CV 5/5] END C=10, class_weight=None, dual=auto, fit_intercept=True, intercept_scaling=1, loss=squared_hinge, multi_class=crammer_singer, penalty=l1;, score=0.957 total time=  20.8s\n"
     ]
    },
    {
     "name": "stderr",
     "output_type": "stream",
     "text": [
      "C:\\Users\\never\\AppData\\Roaming\\Python\\Python311\\site-packages\\sklearn\\svm\\_base.py:1250: ConvergenceWarning: Liblinear failed to converge, increase the number of iterations.\n",
      "  warnings.warn(\n"
     ]
    },
    {
     "name": "stdout",
     "output_type": "stream",
     "text": [
      "[CV 1/5] END C=10, class_weight=None, dual=auto, fit_intercept=True, intercept_scaling=1, loss=squared_hinge, multi_class=crammer_singer, penalty=l2;, score=0.954 total time=  25.1s\n"
     ]
    },
    {
     "name": "stderr",
     "output_type": "stream",
     "text": [
      "C:\\Users\\never\\AppData\\Roaming\\Python\\Python311\\site-packages\\sklearn\\svm\\_base.py:1250: ConvergenceWarning: Liblinear failed to converge, increase the number of iterations.\n",
      "  warnings.warn(\n"
     ]
    },
    {
     "name": "stdout",
     "output_type": "stream",
     "text": [
      "[CV 2/5] END C=10, class_weight=None, dual=auto, fit_intercept=True, intercept_scaling=1, loss=squared_hinge, multi_class=crammer_singer, penalty=l2;, score=0.950 total time=  12.3s\n"
     ]
    },
    {
     "name": "stderr",
     "output_type": "stream",
     "text": [
      "C:\\Users\\never\\AppData\\Roaming\\Python\\Python311\\site-packages\\sklearn\\svm\\_base.py:1250: ConvergenceWarning: Liblinear failed to converge, increase the number of iterations.\n",
      "  warnings.warn(\n"
     ]
    },
    {
     "name": "stdout",
     "output_type": "stream",
     "text": [
      "[CV 3/5] END C=10, class_weight=None, dual=auto, fit_intercept=True, intercept_scaling=1, loss=squared_hinge, multi_class=crammer_singer, penalty=l2;, score=0.956 total time=  10.4s\n"
     ]
    },
    {
     "name": "stderr",
     "output_type": "stream",
     "text": [
      "C:\\Users\\never\\AppData\\Roaming\\Python\\Python311\\site-packages\\sklearn\\svm\\_base.py:1250: ConvergenceWarning: Liblinear failed to converge, increase the number of iterations.\n",
      "  warnings.warn(\n"
     ]
    },
    {
     "name": "stdout",
     "output_type": "stream",
     "text": [
      "[CV 4/5] END C=10, class_weight=None, dual=auto, fit_intercept=True, intercept_scaling=1, loss=squared_hinge, multi_class=crammer_singer, penalty=l2;, score=0.956 total time=  17.1s\n"
     ]
    },
    {
     "name": "stderr",
     "output_type": "stream",
     "text": [
      "C:\\Users\\never\\AppData\\Roaming\\Python\\Python311\\site-packages\\sklearn\\svm\\_base.py:1250: ConvergenceWarning: Liblinear failed to converge, increase the number of iterations.\n",
      "  warnings.warn(\n"
     ]
    },
    {
     "name": "stdout",
     "output_type": "stream",
     "text": [
      "[CV 5/5] END C=10, class_weight=None, dual=auto, fit_intercept=True, intercept_scaling=1, loss=squared_hinge, multi_class=crammer_singer, penalty=l2;, score=0.957 total time=  20.9s\n",
      "[CV 1/5] END C=10, class_weight=None, dual=auto, fit_intercept=True, intercept_scaling=1.5, loss=hinge, multi_class=ovr, penalty=l1;, score=nan total time=   1.7s\n",
      "[CV 2/5] END C=10, class_weight=None, dual=auto, fit_intercept=True, intercept_scaling=1.5, loss=hinge, multi_class=ovr, penalty=l1;, score=nan total time=   1.7s\n",
      "[CV 3/5] END C=10, class_weight=None, dual=auto, fit_intercept=True, intercept_scaling=1.5, loss=hinge, multi_class=ovr, penalty=l1;, score=nan total time=   1.6s\n",
      "[CV 4/5] END C=10, class_weight=None, dual=auto, fit_intercept=True, intercept_scaling=1.5, loss=hinge, multi_class=ovr, penalty=l1;, score=nan total time=   1.7s\n",
      "[CV 5/5] END C=10, class_weight=None, dual=auto, fit_intercept=True, intercept_scaling=1.5, loss=hinge, multi_class=ovr, penalty=l1;, score=nan total time=   1.7s\n",
      "[CV 1/5] END C=10, class_weight=None, dual=auto, fit_intercept=True, intercept_scaling=1.5, loss=hinge, multi_class=ovr, penalty=l2;, score=0.952 total time=  19.2s\n",
      "[CV 2/5] END C=10, class_weight=None, dual=auto, fit_intercept=True, intercept_scaling=1.5, loss=hinge, multi_class=ovr, penalty=l2;, score=0.953 total time=  12.6s\n",
      "[CV 3/5] END C=10, class_weight=None, dual=auto, fit_intercept=True, intercept_scaling=1.5, loss=hinge, multi_class=ovr, penalty=l2;, score=0.961 total time=  11.5s\n",
      "[CV 4/5] END C=10, class_weight=None, dual=auto, fit_intercept=True, intercept_scaling=1.5, loss=hinge, multi_class=ovr, penalty=l2;, score=0.958 total time=  12.8s\n",
      "[CV 5/5] END C=10, class_weight=None, dual=auto, fit_intercept=True, intercept_scaling=1.5, loss=hinge, multi_class=ovr, penalty=l2;, score=0.959 total time=  19.2s\n"
     ]
    },
    {
     "name": "stderr",
     "output_type": "stream",
     "text": [
      "C:\\Users\\never\\AppData\\Roaming\\Python\\Python311\\site-packages\\sklearn\\svm\\_base.py:1250: ConvergenceWarning: Liblinear failed to converge, increase the number of iterations.\n",
      "  warnings.warn(\n"
     ]
    },
    {
     "name": "stdout",
     "output_type": "stream",
     "text": [
      "[CV 1/5] END C=10, class_weight=None, dual=auto, fit_intercept=True, intercept_scaling=1.5, loss=hinge, multi_class=crammer_singer, penalty=l1;, score=0.954 total time=  17.4s\n"
     ]
    },
    {
     "name": "stderr",
     "output_type": "stream",
     "text": [
      "C:\\Users\\never\\AppData\\Roaming\\Python\\Python311\\site-packages\\sklearn\\svm\\_base.py:1250: ConvergenceWarning: Liblinear failed to converge, increase the number of iterations.\n",
      "  warnings.warn(\n"
     ]
    },
    {
     "name": "stdout",
     "output_type": "stream",
     "text": [
      "[CV 2/5] END C=10, class_weight=None, dual=auto, fit_intercept=True, intercept_scaling=1.5, loss=hinge, multi_class=crammer_singer, penalty=l1;, score=0.950 total time=  14.5s\n"
     ]
    },
    {
     "name": "stderr",
     "output_type": "stream",
     "text": [
      "C:\\Users\\never\\AppData\\Roaming\\Python\\Python311\\site-packages\\sklearn\\svm\\_base.py:1250: ConvergenceWarning: Liblinear failed to converge, increase the number of iterations.\n",
      "  warnings.warn(\n"
     ]
    },
    {
     "name": "stdout",
     "output_type": "stream",
     "text": [
      "[CV 3/5] END C=10, class_weight=None, dual=auto, fit_intercept=True, intercept_scaling=1.5, loss=hinge, multi_class=crammer_singer, penalty=l1;, score=0.956 total time=  14.3s\n"
     ]
    },
    {
     "name": "stderr",
     "output_type": "stream",
     "text": [
      "C:\\Users\\never\\AppData\\Roaming\\Python\\Python311\\site-packages\\sklearn\\svm\\_base.py:1250: ConvergenceWarning: Liblinear failed to converge, increase the number of iterations.\n",
      "  warnings.warn(\n"
     ]
    },
    {
     "name": "stdout",
     "output_type": "stream",
     "text": [
      "[CV 4/5] END C=10, class_weight=None, dual=auto, fit_intercept=True, intercept_scaling=1.5, loss=hinge, multi_class=crammer_singer, penalty=l1;, score=0.956 total time=  32.2s\n"
     ]
    },
    {
     "name": "stderr",
     "output_type": "stream",
     "text": [
      "C:\\Users\\never\\AppData\\Roaming\\Python\\Python311\\site-packages\\sklearn\\svm\\_base.py:1250: ConvergenceWarning: Liblinear failed to converge, increase the number of iterations.\n",
      "  warnings.warn(\n"
     ]
    },
    {
     "name": "stdout",
     "output_type": "stream",
     "text": [
      "[CV 5/5] END C=10, class_weight=None, dual=auto, fit_intercept=True, intercept_scaling=1.5, loss=hinge, multi_class=crammer_singer, penalty=l1;, score=0.957 total time=  23.1s\n"
     ]
    },
    {
     "name": "stderr",
     "output_type": "stream",
     "text": [
      "C:\\Users\\never\\AppData\\Roaming\\Python\\Python311\\site-packages\\sklearn\\svm\\_base.py:1250: ConvergenceWarning: Liblinear failed to converge, increase the number of iterations.\n",
      "  warnings.warn(\n"
     ]
    },
    {
     "name": "stdout",
     "output_type": "stream",
     "text": [
      "[CV 1/5] END C=10, class_weight=None, dual=auto, fit_intercept=True, intercept_scaling=1.5, loss=hinge, multi_class=crammer_singer, penalty=l2;, score=0.954 total time=  18.7s\n"
     ]
    },
    {
     "name": "stderr",
     "output_type": "stream",
     "text": [
      "C:\\Users\\never\\AppData\\Roaming\\Python\\Python311\\site-packages\\sklearn\\svm\\_base.py:1250: ConvergenceWarning: Liblinear failed to converge, increase the number of iterations.\n",
      "  warnings.warn(\n"
     ]
    },
    {
     "name": "stdout",
     "output_type": "stream",
     "text": [
      "[CV 2/5] END C=10, class_weight=None, dual=auto, fit_intercept=True, intercept_scaling=1.5, loss=hinge, multi_class=crammer_singer, penalty=l2;, score=0.950 total time=  14.7s\n"
     ]
    },
    {
     "name": "stderr",
     "output_type": "stream",
     "text": [
      "C:\\Users\\never\\AppData\\Roaming\\Python\\Python311\\site-packages\\sklearn\\svm\\_base.py:1250: ConvergenceWarning: Liblinear failed to converge, increase the number of iterations.\n",
      "  warnings.warn(\n"
     ]
    },
    {
     "name": "stdout",
     "output_type": "stream",
     "text": [
      "[CV 3/5] END C=10, class_weight=None, dual=auto, fit_intercept=True, intercept_scaling=1.5, loss=hinge, multi_class=crammer_singer, penalty=l2;, score=0.956 total time=  13.0s\n"
     ]
    },
    {
     "name": "stderr",
     "output_type": "stream",
     "text": [
      "C:\\Users\\never\\AppData\\Roaming\\Python\\Python311\\site-packages\\sklearn\\svm\\_base.py:1250: ConvergenceWarning: Liblinear failed to converge, increase the number of iterations.\n",
      "  warnings.warn(\n"
     ]
    },
    {
     "name": "stdout",
     "output_type": "stream",
     "text": [
      "[CV 4/5] END C=10, class_weight=None, dual=auto, fit_intercept=True, intercept_scaling=1.5, loss=hinge, multi_class=crammer_singer, penalty=l2;, score=0.956 total time=  31.9s\n"
     ]
    },
    {
     "name": "stderr",
     "output_type": "stream",
     "text": [
      "C:\\Users\\never\\AppData\\Roaming\\Python\\Python311\\site-packages\\sklearn\\svm\\_base.py:1250: ConvergenceWarning: Liblinear failed to converge, increase the number of iterations.\n",
      "  warnings.warn(\n"
     ]
    },
    {
     "name": "stdout",
     "output_type": "stream",
     "text": [
      "[CV 5/5] END C=10, class_weight=None, dual=auto, fit_intercept=True, intercept_scaling=1.5, loss=hinge, multi_class=crammer_singer, penalty=l2;, score=0.957 total time=  23.9s\n",
      "[CV 1/5] END C=10, class_weight=None, dual=auto, fit_intercept=True, intercept_scaling=1.5, loss=squared_hinge, multi_class=ovr, penalty=l1;, score=0.957 total time=  28.0s\n",
      "[CV 2/5] END C=10, class_weight=None, dual=auto, fit_intercept=True, intercept_scaling=1.5, loss=squared_hinge, multi_class=ovr, penalty=l1;, score=0.952 total time=  23.2s\n",
      "[CV 3/5] END C=10, class_weight=None, dual=auto, fit_intercept=True, intercept_scaling=1.5, loss=squared_hinge, multi_class=ovr, penalty=l1;, score=0.962 total time=  23.3s\n",
      "[CV 4/5] END C=10, class_weight=None, dual=auto, fit_intercept=True, intercept_scaling=1.5, loss=squared_hinge, multi_class=ovr, penalty=l1;, score=0.960 total time=  24.5s\n",
      "[CV 5/5] END C=10, class_weight=None, dual=auto, fit_intercept=True, intercept_scaling=1.5, loss=squared_hinge, multi_class=ovr, penalty=l1;, score=0.960 total time=  22.3s\n",
      "[CV 1/5] END C=10, class_weight=None, dual=auto, fit_intercept=True, intercept_scaling=1.5, loss=squared_hinge, multi_class=ovr, penalty=l2;, score=0.955 total time=  35.1s\n",
      "[CV 2/5] END C=10, class_weight=None, dual=auto, fit_intercept=True, intercept_scaling=1.5, loss=squared_hinge, multi_class=ovr, penalty=l2;, score=0.953 total time=  30.8s\n",
      "[CV 3/5] END C=10, class_weight=None, dual=auto, fit_intercept=True, intercept_scaling=1.5, loss=squared_hinge, multi_class=ovr, penalty=l2;, score=0.959 total time=  29.4s\n",
      "[CV 4/5] END C=10, class_weight=None, dual=auto, fit_intercept=True, intercept_scaling=1.5, loss=squared_hinge, multi_class=ovr, penalty=l2;, score=0.960 total time=  32.8s\n",
      "[CV 5/5] END C=10, class_weight=None, dual=auto, fit_intercept=True, intercept_scaling=1.5, loss=squared_hinge, multi_class=ovr, penalty=l2;, score=0.958 total time=  32.8s\n"
     ]
    },
    {
     "name": "stderr",
     "output_type": "stream",
     "text": [
      "C:\\Users\\never\\AppData\\Roaming\\Python\\Python311\\site-packages\\sklearn\\svm\\_base.py:1250: ConvergenceWarning: Liblinear failed to converge, increase the number of iterations.\n",
      "  warnings.warn(\n"
     ]
    },
    {
     "name": "stdout",
     "output_type": "stream",
     "text": [
      "[CV 1/5] END C=10, class_weight=None, dual=auto, fit_intercept=True, intercept_scaling=1.5, loss=squared_hinge, multi_class=crammer_singer, penalty=l1;, score=0.954 total time=  17.8s\n"
     ]
    },
    {
     "name": "stderr",
     "output_type": "stream",
     "text": [
      "C:\\Users\\never\\AppData\\Roaming\\Python\\Python311\\site-packages\\sklearn\\svm\\_base.py:1250: ConvergenceWarning: Liblinear failed to converge, increase the number of iterations.\n",
      "  warnings.warn(\n"
     ]
    },
    {
     "name": "stdout",
     "output_type": "stream",
     "text": [
      "[CV 2/5] END C=10, class_weight=None, dual=auto, fit_intercept=True, intercept_scaling=1.5, loss=squared_hinge, multi_class=crammer_singer, penalty=l1;, score=0.950 total time=  14.4s\n"
     ]
    },
    {
     "name": "stderr",
     "output_type": "stream",
     "text": [
      "C:\\Users\\never\\AppData\\Roaming\\Python\\Python311\\site-packages\\sklearn\\svm\\_base.py:1250: ConvergenceWarning: Liblinear failed to converge, increase the number of iterations.\n",
      "  warnings.warn(\n"
     ]
    },
    {
     "name": "stdout",
     "output_type": "stream",
     "text": [
      "[CV 3/5] END C=10, class_weight=None, dual=auto, fit_intercept=True, intercept_scaling=1.5, loss=squared_hinge, multi_class=crammer_singer, penalty=l1;, score=0.956 total time=  13.0s\n"
     ]
    },
    {
     "name": "stderr",
     "output_type": "stream",
     "text": [
      "C:\\Users\\never\\AppData\\Roaming\\Python\\Python311\\site-packages\\sklearn\\svm\\_base.py:1250: ConvergenceWarning: Liblinear failed to converge, increase the number of iterations.\n",
      "  warnings.warn(\n"
     ]
    },
    {
     "name": "stdout",
     "output_type": "stream",
     "text": [
      "[CV 4/5] END C=10, class_weight=None, dual=auto, fit_intercept=True, intercept_scaling=1.5, loss=squared_hinge, multi_class=crammer_singer, penalty=l1;, score=0.956 total time=  32.4s\n"
     ]
    },
    {
     "name": "stderr",
     "output_type": "stream",
     "text": [
      "C:\\Users\\never\\AppData\\Roaming\\Python\\Python311\\site-packages\\sklearn\\svm\\_base.py:1250: ConvergenceWarning: Liblinear failed to converge, increase the number of iterations.\n",
      "  warnings.warn(\n"
     ]
    },
    {
     "name": "stdout",
     "output_type": "stream",
     "text": [
      "[CV 5/5] END C=10, class_weight=None, dual=auto, fit_intercept=True, intercept_scaling=1.5, loss=squared_hinge, multi_class=crammer_singer, penalty=l1;, score=0.957 total time=  22.9s\n"
     ]
    },
    {
     "name": "stderr",
     "output_type": "stream",
     "text": [
      "C:\\Users\\never\\AppData\\Roaming\\Python\\Python311\\site-packages\\sklearn\\svm\\_base.py:1250: ConvergenceWarning: Liblinear failed to converge, increase the number of iterations.\n",
      "  warnings.warn(\n"
     ]
    },
    {
     "name": "stdout",
     "output_type": "stream",
     "text": [
      "[CV 1/5] END C=10, class_weight=None, dual=auto, fit_intercept=True, intercept_scaling=1.5, loss=squared_hinge, multi_class=crammer_singer, penalty=l2;, score=0.954 total time=  18.4s\n"
     ]
    },
    {
     "name": "stderr",
     "output_type": "stream",
     "text": [
      "C:\\Users\\never\\AppData\\Roaming\\Python\\Python311\\site-packages\\sklearn\\svm\\_base.py:1250: ConvergenceWarning: Liblinear failed to converge, increase the number of iterations.\n",
      "  warnings.warn(\n"
     ]
    },
    {
     "name": "stdout",
     "output_type": "stream",
     "text": [
      "[CV 2/5] END C=10, class_weight=None, dual=auto, fit_intercept=True, intercept_scaling=1.5, loss=squared_hinge, multi_class=crammer_singer, penalty=l2;, score=0.950 total time=  14.6s\n"
     ]
    },
    {
     "name": "stderr",
     "output_type": "stream",
     "text": [
      "C:\\Users\\never\\AppData\\Roaming\\Python\\Python311\\site-packages\\sklearn\\svm\\_base.py:1250: ConvergenceWarning: Liblinear failed to converge, increase the number of iterations.\n",
      "  warnings.warn(\n"
     ]
    },
    {
     "name": "stdout",
     "output_type": "stream",
     "text": [
      "[CV 3/5] END C=10, class_weight=None, dual=auto, fit_intercept=True, intercept_scaling=1.5, loss=squared_hinge, multi_class=crammer_singer, penalty=l2;, score=0.956 total time=  13.1s\n"
     ]
    },
    {
     "name": "stderr",
     "output_type": "stream",
     "text": [
      "C:\\Users\\never\\AppData\\Roaming\\Python\\Python311\\site-packages\\sklearn\\svm\\_base.py:1250: ConvergenceWarning: Liblinear failed to converge, increase the number of iterations.\n",
      "  warnings.warn(\n"
     ]
    },
    {
     "name": "stdout",
     "output_type": "stream",
     "text": [
      "[CV 4/5] END C=10, class_weight=None, dual=auto, fit_intercept=True, intercept_scaling=1.5, loss=squared_hinge, multi_class=crammer_singer, penalty=l2;, score=0.956 total time=  32.0s\n"
     ]
    },
    {
     "name": "stderr",
     "output_type": "stream",
     "text": [
      "C:\\Users\\never\\AppData\\Roaming\\Python\\Python311\\site-packages\\sklearn\\svm\\_base.py:1250: ConvergenceWarning: Liblinear failed to converge, increase the number of iterations.\n",
      "  warnings.warn(\n"
     ]
    },
    {
     "name": "stdout",
     "output_type": "stream",
     "text": [
      "[CV 5/5] END C=10, class_weight=None, dual=auto, fit_intercept=True, intercept_scaling=1.5, loss=squared_hinge, multi_class=crammer_singer, penalty=l2;, score=0.957 total time=  28.2s\n",
      "[CV 1/5] END C=10, class_weight=None, dual=auto, fit_intercept=True, intercept_scaling=2, loss=hinge, multi_class=ovr, penalty=l1;, score=nan total time=   1.7s\n",
      "[CV 2/5] END C=10, class_weight=None, dual=auto, fit_intercept=True, intercept_scaling=2, loss=hinge, multi_class=ovr, penalty=l1;, score=nan total time=   1.7s\n",
      "[CV 3/5] END C=10, class_weight=None, dual=auto, fit_intercept=True, intercept_scaling=2, loss=hinge, multi_class=ovr, penalty=l1;, score=nan total time=   1.7s\n",
      "[CV 4/5] END C=10, class_weight=None, dual=auto, fit_intercept=True, intercept_scaling=2, loss=hinge, multi_class=ovr, penalty=l1;, score=nan total time=   1.7s\n",
      "[CV 5/5] END C=10, class_weight=None, dual=auto, fit_intercept=True, intercept_scaling=2, loss=hinge, multi_class=ovr, penalty=l1;, score=nan total time=   1.7s\n",
      "[CV 1/5] END C=10, class_weight=None, dual=auto, fit_intercept=True, intercept_scaling=2, loss=hinge, multi_class=ovr, penalty=l2;, score=0.952 total time=  24.5s\n",
      "[CV 2/5] END C=10, class_weight=None, dual=auto, fit_intercept=True, intercept_scaling=2, loss=hinge, multi_class=ovr, penalty=l2;, score=0.953 total time=  15.4s\n",
      "[CV 3/5] END C=10, class_weight=None, dual=auto, fit_intercept=True, intercept_scaling=2, loss=hinge, multi_class=ovr, penalty=l2;, score=0.961 total time=  17.0s\n",
      "[CV 4/5] END C=10, class_weight=None, dual=auto, fit_intercept=True, intercept_scaling=2, loss=hinge, multi_class=ovr, penalty=l2;, score=0.958 total time=  16.8s\n"
     ]
    },
    {
     "name": "stderr",
     "output_type": "stream",
     "text": [
      "C:\\Users\\never\\AppData\\Roaming\\Python\\Python311\\site-packages\\sklearn\\svm\\_base.py:1250: ConvergenceWarning: Liblinear failed to converge, increase the number of iterations.\n",
      "  warnings.warn(\n"
     ]
    },
    {
     "name": "stdout",
     "output_type": "stream",
     "text": [
      "[CV 5/5] END C=10, class_weight=None, dual=auto, fit_intercept=True, intercept_scaling=2, loss=hinge, multi_class=ovr, penalty=l2;, score=0.959 total time=  22.2s\n"
     ]
    },
    {
     "name": "stderr",
     "output_type": "stream",
     "text": [
      "C:\\Users\\never\\AppData\\Roaming\\Python\\Python311\\site-packages\\sklearn\\svm\\_base.py:1250: ConvergenceWarning: Liblinear failed to converge, increase the number of iterations.\n",
      "  warnings.warn(\n"
     ]
    },
    {
     "name": "stdout",
     "output_type": "stream",
     "text": [
      "[CV 1/5] END C=10, class_weight=None, dual=auto, fit_intercept=True, intercept_scaling=2, loss=hinge, multi_class=crammer_singer, penalty=l1;, score=0.954 total time=  53.9s\n"
     ]
    },
    {
     "name": "stderr",
     "output_type": "stream",
     "text": [
      "C:\\Users\\never\\AppData\\Roaming\\Python\\Python311\\site-packages\\sklearn\\svm\\_base.py:1250: ConvergenceWarning: Liblinear failed to converge, increase the number of iterations.\n",
      "  warnings.warn(\n"
     ]
    },
    {
     "name": "stdout",
     "output_type": "stream",
     "text": [
      "[CV 2/5] END C=10, class_weight=None, dual=auto, fit_intercept=True, intercept_scaling=2, loss=hinge, multi_class=crammer_singer, penalty=l1;, score=0.950 total time=  15.6s\n"
     ]
    },
    {
     "name": "stderr",
     "output_type": "stream",
     "text": [
      "C:\\Users\\never\\AppData\\Roaming\\Python\\Python311\\site-packages\\sklearn\\svm\\_base.py:1250: ConvergenceWarning: Liblinear failed to converge, increase the number of iterations.\n",
      "  warnings.warn(\n"
     ]
    },
    {
     "name": "stdout",
     "output_type": "stream",
     "text": [
      "[CV 3/5] END C=10, class_weight=None, dual=auto, fit_intercept=True, intercept_scaling=2, loss=hinge, multi_class=crammer_singer, penalty=l1;, score=0.956 total time=  15.3s\n"
     ]
    },
    {
     "name": "stderr",
     "output_type": "stream",
     "text": [
      "C:\\Users\\never\\AppData\\Roaming\\Python\\Python311\\site-packages\\sklearn\\svm\\_base.py:1250: ConvergenceWarning: Liblinear failed to converge, increase the number of iterations.\n",
      "  warnings.warn(\n"
     ]
    },
    {
     "name": "stdout",
     "output_type": "stream",
     "text": [
      "[CV 4/5] END C=10, class_weight=None, dual=auto, fit_intercept=True, intercept_scaling=2, loss=hinge, multi_class=crammer_singer, penalty=l1;, score=0.956 total time=  26.2s\n"
     ]
    },
    {
     "name": "stderr",
     "output_type": "stream",
     "text": [
      "C:\\Users\\never\\AppData\\Roaming\\Python\\Python311\\site-packages\\sklearn\\svm\\_base.py:1250: ConvergenceWarning: Liblinear failed to converge, increase the number of iterations.\n",
      "  warnings.warn(\n"
     ]
    },
    {
     "name": "stdout",
     "output_type": "stream",
     "text": [
      "[CV 5/5] END C=10, class_weight=None, dual=auto, fit_intercept=True, intercept_scaling=2, loss=hinge, multi_class=crammer_singer, penalty=l1;, score=0.957 total time=  32.2s\n"
     ]
    },
    {
     "name": "stderr",
     "output_type": "stream",
     "text": [
      "C:\\Users\\never\\AppData\\Roaming\\Python\\Python311\\site-packages\\sklearn\\svm\\_base.py:1250: ConvergenceWarning: Liblinear failed to converge, increase the number of iterations.\n",
      "  warnings.warn(\n"
     ]
    },
    {
     "name": "stdout",
     "output_type": "stream",
     "text": [
      "[CV 1/5] END C=10, class_weight=None, dual=auto, fit_intercept=True, intercept_scaling=2, loss=hinge, multi_class=crammer_singer, penalty=l2;, score=0.954 total time= 1.1min\n"
     ]
    },
    {
     "name": "stderr",
     "output_type": "stream",
     "text": [
      "C:\\Users\\never\\AppData\\Roaming\\Python\\Python311\\site-packages\\sklearn\\svm\\_base.py:1250: ConvergenceWarning: Liblinear failed to converge, increase the number of iterations.\n",
      "  warnings.warn(\n"
     ]
    },
    {
     "name": "stdout",
     "output_type": "stream",
     "text": [
      "[CV 2/5] END C=10, class_weight=None, dual=auto, fit_intercept=True, intercept_scaling=2, loss=hinge, multi_class=crammer_singer, penalty=l2;, score=0.950 total time=  15.6s\n"
     ]
    },
    {
     "name": "stderr",
     "output_type": "stream",
     "text": [
      "C:\\Users\\never\\AppData\\Roaming\\Python\\Python311\\site-packages\\sklearn\\svm\\_base.py:1250: ConvergenceWarning: Liblinear failed to converge, increase the number of iterations.\n",
      "  warnings.warn(\n"
     ]
    },
    {
     "name": "stdout",
     "output_type": "stream",
     "text": [
      "[CV 3/5] END C=10, class_weight=None, dual=auto, fit_intercept=True, intercept_scaling=2, loss=hinge, multi_class=crammer_singer, penalty=l2;, score=0.956 total time=  19.4s\n"
     ]
    },
    {
     "name": "stderr",
     "output_type": "stream",
     "text": [
      "C:\\Users\\never\\AppData\\Roaming\\Python\\Python311\\site-packages\\sklearn\\svm\\_base.py:1250: ConvergenceWarning: Liblinear failed to converge, increase the number of iterations.\n",
      "  warnings.warn(\n"
     ]
    },
    {
     "name": "stdout",
     "output_type": "stream",
     "text": [
      "[CV 4/5] END C=10, class_weight=None, dual=auto, fit_intercept=True, intercept_scaling=2, loss=hinge, multi_class=crammer_singer, penalty=l2;, score=0.956 total time=  25.6s\n"
     ]
    },
    {
     "name": "stderr",
     "output_type": "stream",
     "text": [
      "C:\\Users\\never\\AppData\\Roaming\\Python\\Python311\\site-packages\\sklearn\\svm\\_base.py:1250: ConvergenceWarning: Liblinear failed to converge, increase the number of iterations.\n",
      "  warnings.warn(\n"
     ]
    },
    {
     "name": "stdout",
     "output_type": "stream",
     "text": [
      "[CV 5/5] END C=10, class_weight=None, dual=auto, fit_intercept=True, intercept_scaling=2, loss=hinge, multi_class=crammer_singer, penalty=l2;, score=0.957 total time=  33.0s\n",
      "[CV 1/5] END C=10, class_weight=None, dual=auto, fit_intercept=True, intercept_scaling=2, loss=squared_hinge, multi_class=ovr, penalty=l1;, score=0.957 total time=  27.2s\n",
      "[CV 2/5] END C=10, class_weight=None, dual=auto, fit_intercept=True, intercept_scaling=2, loss=squared_hinge, multi_class=ovr, penalty=l1;, score=0.951 total time=  23.9s\n",
      "[CV 3/5] END C=10, class_weight=None, dual=auto, fit_intercept=True, intercept_scaling=2, loss=squared_hinge, multi_class=ovr, penalty=l1;, score=0.962 total time=  22.6s\n",
      "[CV 4/5] END C=10, class_weight=None, dual=auto, fit_intercept=True, intercept_scaling=2, loss=squared_hinge, multi_class=ovr, penalty=l1;, score=0.960 total time=  25.2s\n",
      "[CV 5/5] END C=10, class_weight=None, dual=auto, fit_intercept=True, intercept_scaling=2, loss=squared_hinge, multi_class=ovr, penalty=l1;, score=0.959 total time=  22.7s\n",
      "[CV 1/5] END C=10, class_weight=None, dual=auto, fit_intercept=True, intercept_scaling=2, loss=squared_hinge, multi_class=ovr, penalty=l2;, score=0.955 total time=  29.2s\n",
      "[CV 2/5] END C=10, class_weight=None, dual=auto, fit_intercept=True, intercept_scaling=2, loss=squared_hinge, multi_class=ovr, penalty=l2;, score=0.954 total time=  25.7s\n",
      "[CV 3/5] END C=10, class_weight=None, dual=auto, fit_intercept=True, intercept_scaling=2, loss=squared_hinge, multi_class=ovr, penalty=l2;, score=0.959 total time=  26.1s\n",
      "[CV 4/5] END C=10, class_weight=None, dual=auto, fit_intercept=True, intercept_scaling=2, loss=squared_hinge, multi_class=ovr, penalty=l2;, score=0.960 total time=  29.6s\n",
      "[CV 5/5] END C=10, class_weight=None, dual=auto, fit_intercept=True, intercept_scaling=2, loss=squared_hinge, multi_class=ovr, penalty=l2;, score=0.959 total time=  29.5s\n"
     ]
    },
    {
     "name": "stderr",
     "output_type": "stream",
     "text": [
      "C:\\Users\\never\\AppData\\Roaming\\Python\\Python311\\site-packages\\sklearn\\svm\\_base.py:1250: ConvergenceWarning: Liblinear failed to converge, increase the number of iterations.\n",
      "  warnings.warn(\n"
     ]
    },
    {
     "name": "stdout",
     "output_type": "stream",
     "text": [
      "[CV 1/5] END C=10, class_weight=None, dual=auto, fit_intercept=True, intercept_scaling=2, loss=squared_hinge, multi_class=crammer_singer, penalty=l1;, score=0.954 total time=  54.0s\n"
     ]
    },
    {
     "name": "stderr",
     "output_type": "stream",
     "text": [
      "C:\\Users\\never\\AppData\\Roaming\\Python\\Python311\\site-packages\\sklearn\\svm\\_base.py:1250: ConvergenceWarning: Liblinear failed to converge, increase the number of iterations.\n",
      "  warnings.warn(\n"
     ]
    },
    {
     "name": "stdout",
     "output_type": "stream",
     "text": [
      "[CV 2/5] END C=10, class_weight=None, dual=auto, fit_intercept=True, intercept_scaling=2, loss=squared_hinge, multi_class=crammer_singer, penalty=l1;, score=0.950 total time=  15.7s\n"
     ]
    },
    {
     "name": "stderr",
     "output_type": "stream",
     "text": [
      "C:\\Users\\never\\AppData\\Roaming\\Python\\Python311\\site-packages\\sklearn\\svm\\_base.py:1250: ConvergenceWarning: Liblinear failed to converge, increase the number of iterations.\n",
      "  warnings.warn(\n"
     ]
    },
    {
     "name": "stdout",
     "output_type": "stream",
     "text": [
      "[CV 3/5] END C=10, class_weight=None, dual=auto, fit_intercept=True, intercept_scaling=2, loss=squared_hinge, multi_class=crammer_singer, penalty=l1;, score=0.956 total time=  14.8s\n"
     ]
    },
    {
     "name": "stderr",
     "output_type": "stream",
     "text": [
      "C:\\Users\\never\\AppData\\Roaming\\Python\\Python311\\site-packages\\sklearn\\svm\\_base.py:1250: ConvergenceWarning: Liblinear failed to converge, increase the number of iterations.\n",
      "  warnings.warn(\n"
     ]
    },
    {
     "name": "stdout",
     "output_type": "stream",
     "text": [
      "[CV 4/5] END C=10, class_weight=None, dual=auto, fit_intercept=True, intercept_scaling=2, loss=squared_hinge, multi_class=crammer_singer, penalty=l1;, score=0.956 total time=  26.1s\n"
     ]
    },
    {
     "name": "stderr",
     "output_type": "stream",
     "text": [
      "C:\\Users\\never\\AppData\\Roaming\\Python\\Python311\\site-packages\\sklearn\\svm\\_base.py:1250: ConvergenceWarning: Liblinear failed to converge, increase the number of iterations.\n",
      "  warnings.warn(\n"
     ]
    },
    {
     "name": "stdout",
     "output_type": "stream",
     "text": [
      "[CV 5/5] END C=10, class_weight=None, dual=auto, fit_intercept=True, intercept_scaling=2, loss=squared_hinge, multi_class=crammer_singer, penalty=l1;, score=0.957 total time=  32.8s\n"
     ]
    },
    {
     "name": "stderr",
     "output_type": "stream",
     "text": [
      "C:\\Users\\never\\AppData\\Roaming\\Python\\Python311\\site-packages\\sklearn\\svm\\_base.py:1250: ConvergenceWarning: Liblinear failed to converge, increase the number of iterations.\n",
      "  warnings.warn(\n"
     ]
    },
    {
     "name": "stdout",
     "output_type": "stream",
     "text": [
      "[CV 1/5] END C=10, class_weight=None, dual=auto, fit_intercept=True, intercept_scaling=2, loss=squared_hinge, multi_class=crammer_singer, penalty=l2;, score=0.954 total time=  54.7s\n"
     ]
    },
    {
     "name": "stderr",
     "output_type": "stream",
     "text": [
      "C:\\Users\\never\\AppData\\Roaming\\Python\\Python311\\site-packages\\sklearn\\svm\\_base.py:1250: ConvergenceWarning: Liblinear failed to converge, increase the number of iterations.\n",
      "  warnings.warn(\n"
     ]
    },
    {
     "name": "stdout",
     "output_type": "stream",
     "text": [
      "[CV 2/5] END C=10, class_weight=None, dual=auto, fit_intercept=True, intercept_scaling=2, loss=squared_hinge, multi_class=crammer_singer, penalty=l2;, score=0.950 total time=  15.6s\n"
     ]
    },
    {
     "name": "stderr",
     "output_type": "stream",
     "text": [
      "C:\\Users\\never\\AppData\\Roaming\\Python\\Python311\\site-packages\\sklearn\\svm\\_base.py:1250: ConvergenceWarning: Liblinear failed to converge, increase the number of iterations.\n",
      "  warnings.warn(\n"
     ]
    },
    {
     "name": "stdout",
     "output_type": "stream",
     "text": [
      "[CV 3/5] END C=10, class_weight=None, dual=auto, fit_intercept=True, intercept_scaling=2, loss=squared_hinge, multi_class=crammer_singer, penalty=l2;, score=0.956 total time=  17.6s\n"
     ]
    },
    {
     "name": "stderr",
     "output_type": "stream",
     "text": [
      "C:\\Users\\never\\AppData\\Roaming\\Python\\Python311\\site-packages\\sklearn\\svm\\_base.py:1250: ConvergenceWarning: Liblinear failed to converge, increase the number of iterations.\n",
      "  warnings.warn(\n"
     ]
    },
    {
     "name": "stdout",
     "output_type": "stream",
     "text": [
      "[CV 4/5] END C=10, class_weight=None, dual=auto, fit_intercept=True, intercept_scaling=2, loss=squared_hinge, multi_class=crammer_singer, penalty=l2;, score=0.956 total time=  26.0s\n"
     ]
    },
    {
     "name": "stderr",
     "output_type": "stream",
     "text": [
      "C:\\Users\\never\\AppData\\Roaming\\Python\\Python311\\site-packages\\sklearn\\svm\\_base.py:1250: ConvergenceWarning: Liblinear failed to converge, increase the number of iterations.\n",
      "  warnings.warn(\n"
     ]
    },
    {
     "name": "stdout",
     "output_type": "stream",
     "text": [
      "[CV 5/5] END C=10, class_weight=None, dual=auto, fit_intercept=True, intercept_scaling=2, loss=squared_hinge, multi_class=crammer_singer, penalty=l2;, score=0.957 total time=  33.8s\n",
      "[CV 1/5] END C=10, class_weight=None, dual=auto, fit_intercept=False, intercept_scaling=1, loss=hinge, multi_class=ovr, penalty=l1;, score=nan total time=   1.6s\n",
      "[CV 2/5] END C=10, class_weight=None, dual=auto, fit_intercept=False, intercept_scaling=1, loss=hinge, multi_class=ovr, penalty=l1;, score=nan total time=   1.7s\n",
      "[CV 3/5] END C=10, class_weight=None, dual=auto, fit_intercept=False, intercept_scaling=1, loss=hinge, multi_class=ovr, penalty=l1;, score=nan total time=   1.7s\n",
      "[CV 4/5] END C=10, class_weight=None, dual=auto, fit_intercept=False, intercept_scaling=1, loss=hinge, multi_class=ovr, penalty=l1;, score=nan total time=   1.7s\n",
      "[CV 5/5] END C=10, class_weight=None, dual=auto, fit_intercept=False, intercept_scaling=1, loss=hinge, multi_class=ovr, penalty=l1;, score=nan total time=   1.7s\n",
      "[CV 1/5] END C=10, class_weight=None, dual=auto, fit_intercept=False, intercept_scaling=1, loss=hinge, multi_class=ovr, penalty=l2;, score=0.950 total time=  10.8s\n",
      "[CV 2/5] END C=10, class_weight=None, dual=auto, fit_intercept=False, intercept_scaling=1, loss=hinge, multi_class=ovr, penalty=l2;, score=0.952 total time=   9.4s\n",
      "[CV 3/5] END C=10, class_weight=None, dual=auto, fit_intercept=False, intercept_scaling=1, loss=hinge, multi_class=ovr, penalty=l2;, score=0.956 total time=   8.8s\n",
      "[CV 4/5] END C=10, class_weight=None, dual=auto, fit_intercept=False, intercept_scaling=1, loss=hinge, multi_class=ovr, penalty=l2;, score=0.957 total time=   8.2s\n",
      "[CV 5/5] END C=10, class_weight=None, dual=auto, fit_intercept=False, intercept_scaling=1, loss=hinge, multi_class=ovr, penalty=l2;, score=0.955 total time=  10.1s\n"
     ]
    },
    {
     "name": "stderr",
     "output_type": "stream",
     "text": [
      "C:\\Users\\never\\AppData\\Roaming\\Python\\Python311\\site-packages\\sklearn\\svm\\_base.py:1250: ConvergenceWarning: Liblinear failed to converge, increase the number of iterations.\n",
      "  warnings.warn(\n"
     ]
    },
    {
     "name": "stdout",
     "output_type": "stream",
     "text": [
      "[CV 1/5] END C=10, class_weight=None, dual=auto, fit_intercept=False, intercept_scaling=1, loss=hinge, multi_class=crammer_singer, penalty=l1;, score=0.951 total time=  12.6s\n"
     ]
    },
    {
     "name": "stderr",
     "output_type": "stream",
     "text": [
      "C:\\Users\\never\\AppData\\Roaming\\Python\\Python311\\site-packages\\sklearn\\svm\\_base.py:1250: ConvergenceWarning: Liblinear failed to converge, increase the number of iterations.\n",
      "  warnings.warn(\n"
     ]
    },
    {
     "name": "stdout",
     "output_type": "stream",
     "text": [
      "[CV 2/5] END C=10, class_weight=None, dual=auto, fit_intercept=False, intercept_scaling=1, loss=hinge, multi_class=crammer_singer, penalty=l1;, score=0.948 total time=  15.9s\n"
     ]
    },
    {
     "name": "stderr",
     "output_type": "stream",
     "text": [
      "C:\\Users\\never\\AppData\\Roaming\\Python\\Python311\\site-packages\\sklearn\\svm\\_base.py:1250: ConvergenceWarning: Liblinear failed to converge, increase the number of iterations.\n",
      "  warnings.warn(\n"
     ]
    },
    {
     "name": "stdout",
     "output_type": "stream",
     "text": [
      "[CV 3/5] END C=10, class_weight=None, dual=auto, fit_intercept=False, intercept_scaling=1, loss=hinge, multi_class=crammer_singer, penalty=l1;, score=0.955 total time=  10.6s\n"
     ]
    },
    {
     "name": "stderr",
     "output_type": "stream",
     "text": [
      "C:\\Users\\never\\AppData\\Roaming\\Python\\Python311\\site-packages\\sklearn\\svm\\_base.py:1250: ConvergenceWarning: Liblinear failed to converge, increase the number of iterations.\n",
      "  warnings.warn(\n"
     ]
    },
    {
     "name": "stdout",
     "output_type": "stream",
     "text": [
      "[CV 4/5] END C=10, class_weight=None, dual=auto, fit_intercept=False, intercept_scaling=1, loss=hinge, multi_class=crammer_singer, penalty=l1;, score=0.955 total time=  18.2s\n"
     ]
    },
    {
     "name": "stderr",
     "output_type": "stream",
     "text": [
      "C:\\Users\\never\\AppData\\Roaming\\Python\\Python311\\site-packages\\sklearn\\svm\\_base.py:1250: ConvergenceWarning: Liblinear failed to converge, increase the number of iterations.\n",
      "  warnings.warn(\n"
     ]
    },
    {
     "name": "stdout",
     "output_type": "stream",
     "text": [
      "[CV 5/5] END C=10, class_weight=None, dual=auto, fit_intercept=False, intercept_scaling=1, loss=hinge, multi_class=crammer_singer, penalty=l1;, score=0.956 total time=  17.6s\n"
     ]
    },
    {
     "name": "stderr",
     "output_type": "stream",
     "text": [
      "C:\\Users\\never\\AppData\\Roaming\\Python\\Python311\\site-packages\\sklearn\\svm\\_base.py:1250: ConvergenceWarning: Liblinear failed to converge, increase the number of iterations.\n",
      "  warnings.warn(\n"
     ]
    },
    {
     "name": "stdout",
     "output_type": "stream",
     "text": [
      "[CV 1/5] END C=10, class_weight=None, dual=auto, fit_intercept=False, intercept_scaling=1, loss=hinge, multi_class=crammer_singer, penalty=l2;, score=0.951 total time=  12.9s\n"
     ]
    },
    {
     "name": "stderr",
     "output_type": "stream",
     "text": [
      "C:\\Users\\never\\AppData\\Roaming\\Python\\Python311\\site-packages\\sklearn\\svm\\_base.py:1250: ConvergenceWarning: Liblinear failed to converge, increase the number of iterations.\n",
      "  warnings.warn(\n"
     ]
    },
    {
     "name": "stdout",
     "output_type": "stream",
     "text": [
      "[CV 2/5] END C=10, class_weight=None, dual=auto, fit_intercept=False, intercept_scaling=1, loss=hinge, multi_class=crammer_singer, penalty=l2;, score=0.948 total time=  15.9s\n"
     ]
    },
    {
     "name": "stderr",
     "output_type": "stream",
     "text": [
      "C:\\Users\\never\\AppData\\Roaming\\Python\\Python311\\site-packages\\sklearn\\svm\\_base.py:1250: ConvergenceWarning: Liblinear failed to converge, increase the number of iterations.\n",
      "  warnings.warn(\n"
     ]
    },
    {
     "name": "stdout",
     "output_type": "stream",
     "text": [
      "[CV 3/5] END C=10, class_weight=None, dual=auto, fit_intercept=False, intercept_scaling=1, loss=hinge, multi_class=crammer_singer, penalty=l2;, score=0.955 total time=   9.9s\n"
     ]
    },
    {
     "name": "stderr",
     "output_type": "stream",
     "text": [
      "C:\\Users\\never\\AppData\\Roaming\\Python\\Python311\\site-packages\\sklearn\\svm\\_base.py:1250: ConvergenceWarning: Liblinear failed to converge, increase the number of iterations.\n",
      "  warnings.warn(\n"
     ]
    },
    {
     "name": "stdout",
     "output_type": "stream",
     "text": [
      "[CV 4/5] END C=10, class_weight=None, dual=auto, fit_intercept=False, intercept_scaling=1, loss=hinge, multi_class=crammer_singer, penalty=l2;, score=0.955 total time=  17.7s\n"
     ]
    },
    {
     "name": "stderr",
     "output_type": "stream",
     "text": [
      "C:\\Users\\never\\AppData\\Roaming\\Python\\Python311\\site-packages\\sklearn\\svm\\_base.py:1250: ConvergenceWarning: Liblinear failed to converge, increase the number of iterations.\n",
      "  warnings.warn(\n"
     ]
    },
    {
     "name": "stdout",
     "output_type": "stream",
     "text": [
      "[CV 5/5] END C=10, class_weight=None, dual=auto, fit_intercept=False, intercept_scaling=1, loss=hinge, multi_class=crammer_singer, penalty=l2;, score=0.956 total time=  17.5s\n",
      "[CV 1/5] END C=10, class_weight=None, dual=auto, fit_intercept=False, intercept_scaling=1, loss=squared_hinge, multi_class=ovr, penalty=l1;, score=0.953 total time=  21.5s\n",
      "[CV 2/5] END C=10, class_weight=None, dual=auto, fit_intercept=False, intercept_scaling=1, loss=squared_hinge, multi_class=ovr, penalty=l1;, score=0.951 total time=  19.6s\n",
      "[CV 3/5] END C=10, class_weight=None, dual=auto, fit_intercept=False, intercept_scaling=1, loss=squared_hinge, multi_class=ovr, penalty=l1;, score=0.959 total time=  18.0s\n",
      "[CV 4/5] END C=10, class_weight=None, dual=auto, fit_intercept=False, intercept_scaling=1, loss=squared_hinge, multi_class=ovr, penalty=l1;, score=0.956 total time=  19.6s\n",
      "[CV 5/5] END C=10, class_weight=None, dual=auto, fit_intercept=False, intercept_scaling=1, loss=squared_hinge, multi_class=ovr, penalty=l1;, score=0.957 total time=  18.0s\n",
      "[CV 1/5] END C=10, class_weight=None, dual=auto, fit_intercept=False, intercept_scaling=1, loss=squared_hinge, multi_class=ovr, penalty=l2;, score=0.950 total time=  47.3s\n",
      "[CV 2/5] END C=10, class_weight=None, dual=auto, fit_intercept=False, intercept_scaling=1, loss=squared_hinge, multi_class=ovr, penalty=l2;, score=0.950 total time=  53.3s\n",
      "[CV 3/5] END C=10, class_weight=None, dual=auto, fit_intercept=False, intercept_scaling=1, loss=squared_hinge, multi_class=ovr, penalty=l2;, score=0.958 total time=  48.0s\n",
      "[CV 4/5] END C=10, class_weight=None, dual=auto, fit_intercept=False, intercept_scaling=1, loss=squared_hinge, multi_class=ovr, penalty=l2;, score=0.957 total time=  48.7s\n",
      "[CV 5/5] END C=10, class_weight=None, dual=auto, fit_intercept=False, intercept_scaling=1, loss=squared_hinge, multi_class=ovr, penalty=l2;, score=0.956 total time=  51.0s\n"
     ]
    },
    {
     "name": "stderr",
     "output_type": "stream",
     "text": [
      "C:\\Users\\never\\AppData\\Roaming\\Python\\Python311\\site-packages\\sklearn\\svm\\_base.py:1250: ConvergenceWarning: Liblinear failed to converge, increase the number of iterations.\n",
      "  warnings.warn(\n"
     ]
    },
    {
     "name": "stdout",
     "output_type": "stream",
     "text": [
      "[CV 1/5] END C=10, class_weight=None, dual=auto, fit_intercept=False, intercept_scaling=1, loss=squared_hinge, multi_class=crammer_singer, penalty=l1;, score=0.951 total time=  12.8s\n"
     ]
    },
    {
     "name": "stderr",
     "output_type": "stream",
     "text": [
      "C:\\Users\\never\\AppData\\Roaming\\Python\\Python311\\site-packages\\sklearn\\svm\\_base.py:1250: ConvergenceWarning: Liblinear failed to converge, increase the number of iterations.\n",
      "  warnings.warn(\n"
     ]
    },
    {
     "name": "stdout",
     "output_type": "stream",
     "text": [
      "[CV 2/5] END C=10, class_weight=None, dual=auto, fit_intercept=False, intercept_scaling=1, loss=squared_hinge, multi_class=crammer_singer, penalty=l1;, score=0.948 total time=  15.8s\n"
     ]
    },
    {
     "name": "stderr",
     "output_type": "stream",
     "text": [
      "C:\\Users\\never\\AppData\\Roaming\\Python\\Python311\\site-packages\\sklearn\\svm\\_base.py:1250: ConvergenceWarning: Liblinear failed to converge, increase the number of iterations.\n",
      "  warnings.warn(\n"
     ]
    },
    {
     "name": "stdout",
     "output_type": "stream",
     "text": [
      "[CV 3/5] END C=10, class_weight=None, dual=auto, fit_intercept=False, intercept_scaling=1, loss=squared_hinge, multi_class=crammer_singer, penalty=l1;, score=0.955 total time=   9.8s\n"
     ]
    },
    {
     "name": "stderr",
     "output_type": "stream",
     "text": [
      "C:\\Users\\never\\AppData\\Roaming\\Python\\Python311\\site-packages\\sklearn\\svm\\_base.py:1250: ConvergenceWarning: Liblinear failed to converge, increase the number of iterations.\n",
      "  warnings.warn(\n"
     ]
    },
    {
     "name": "stdout",
     "output_type": "stream",
     "text": [
      "[CV 4/5] END C=10, class_weight=None, dual=auto, fit_intercept=False, intercept_scaling=1, loss=squared_hinge, multi_class=crammer_singer, penalty=l1;, score=0.955 total time=  17.9s\n"
     ]
    },
    {
     "name": "stderr",
     "output_type": "stream",
     "text": [
      "C:\\Users\\never\\AppData\\Roaming\\Python\\Python311\\site-packages\\sklearn\\svm\\_base.py:1250: ConvergenceWarning: Liblinear failed to converge, increase the number of iterations.\n",
      "  warnings.warn(\n"
     ]
    },
    {
     "name": "stdout",
     "output_type": "stream",
     "text": [
      "[CV 5/5] END C=10, class_weight=None, dual=auto, fit_intercept=False, intercept_scaling=1, loss=squared_hinge, multi_class=crammer_singer, penalty=l1;, score=0.956 total time=  17.5s\n"
     ]
    },
    {
     "name": "stderr",
     "output_type": "stream",
     "text": [
      "C:\\Users\\never\\AppData\\Roaming\\Python\\Python311\\site-packages\\sklearn\\svm\\_base.py:1250: ConvergenceWarning: Liblinear failed to converge, increase the number of iterations.\n",
      "  warnings.warn(\n"
     ]
    },
    {
     "name": "stdout",
     "output_type": "stream",
     "text": [
      "[CV 1/5] END C=10, class_weight=None, dual=auto, fit_intercept=False, intercept_scaling=1, loss=squared_hinge, multi_class=crammer_singer, penalty=l2;, score=0.951 total time=  14.7s\n"
     ]
    },
    {
     "name": "stderr",
     "output_type": "stream",
     "text": [
      "C:\\Users\\never\\AppData\\Roaming\\Python\\Python311\\site-packages\\sklearn\\svm\\_base.py:1250: ConvergenceWarning: Liblinear failed to converge, increase the number of iterations.\n",
      "  warnings.warn(\n"
     ]
    },
    {
     "name": "stdout",
     "output_type": "stream",
     "text": [
      "[CV 2/5] END C=10, class_weight=None, dual=auto, fit_intercept=False, intercept_scaling=1, loss=squared_hinge, multi_class=crammer_singer, penalty=l2;, score=0.948 total time=  16.0s\n"
     ]
    },
    {
     "name": "stderr",
     "output_type": "stream",
     "text": [
      "C:\\Users\\never\\AppData\\Roaming\\Python\\Python311\\site-packages\\sklearn\\svm\\_base.py:1250: ConvergenceWarning: Liblinear failed to converge, increase the number of iterations.\n",
      "  warnings.warn(\n"
     ]
    },
    {
     "name": "stdout",
     "output_type": "stream",
     "text": [
      "[CV 3/5] END C=10, class_weight=None, dual=auto, fit_intercept=False, intercept_scaling=1, loss=squared_hinge, multi_class=crammer_singer, penalty=l2;, score=0.955 total time=  10.0s\n"
     ]
    },
    {
     "name": "stderr",
     "output_type": "stream",
     "text": [
      "C:\\Users\\never\\AppData\\Roaming\\Python\\Python311\\site-packages\\sklearn\\svm\\_base.py:1250: ConvergenceWarning: Liblinear failed to converge, increase the number of iterations.\n",
      "  warnings.warn(\n"
     ]
    },
    {
     "name": "stdout",
     "output_type": "stream",
     "text": [
      "[CV 4/5] END C=10, class_weight=None, dual=auto, fit_intercept=False, intercept_scaling=1, loss=squared_hinge, multi_class=crammer_singer, penalty=l2;, score=0.955 total time=  18.0s\n"
     ]
    },
    {
     "name": "stderr",
     "output_type": "stream",
     "text": [
      "C:\\Users\\never\\AppData\\Roaming\\Python\\Python311\\site-packages\\sklearn\\svm\\_base.py:1250: ConvergenceWarning: Liblinear failed to converge, increase the number of iterations.\n",
      "  warnings.warn(\n"
     ]
    },
    {
     "name": "stdout",
     "output_type": "stream",
     "text": [
      "[CV 5/5] END C=10, class_weight=None, dual=auto, fit_intercept=False, intercept_scaling=1, loss=squared_hinge, multi_class=crammer_singer, penalty=l2;, score=0.956 total time=  17.3s\n",
      "[CV 1/5] END C=10, class_weight=None, dual=auto, fit_intercept=False, intercept_scaling=1.5, loss=hinge, multi_class=ovr, penalty=l1;, score=nan total time=   1.6s\n",
      "[CV 2/5] END C=10, class_weight=None, dual=auto, fit_intercept=False, intercept_scaling=1.5, loss=hinge, multi_class=ovr, penalty=l1;, score=nan total time=   1.7s\n",
      "[CV 3/5] END C=10, class_weight=None, dual=auto, fit_intercept=False, intercept_scaling=1.5, loss=hinge, multi_class=ovr, penalty=l1;, score=nan total time=   1.7s\n",
      "[CV 4/5] END C=10, class_weight=None, dual=auto, fit_intercept=False, intercept_scaling=1.5, loss=hinge, multi_class=ovr, penalty=l1;, score=nan total time=   1.7s\n",
      "[CV 5/5] END C=10, class_weight=None, dual=auto, fit_intercept=False, intercept_scaling=1.5, loss=hinge, multi_class=ovr, penalty=l1;, score=nan total time=   1.7s\n",
      "[CV 1/5] END C=10, class_weight=None, dual=auto, fit_intercept=False, intercept_scaling=1.5, loss=hinge, multi_class=ovr, penalty=l2;, score=0.950 total time=  10.8s\n",
      "[CV 2/5] END C=10, class_weight=None, dual=auto, fit_intercept=False, intercept_scaling=1.5, loss=hinge, multi_class=ovr, penalty=l2;, score=0.952 total time=   9.3s\n",
      "[CV 3/5] END C=10, class_weight=None, dual=auto, fit_intercept=False, intercept_scaling=1.5, loss=hinge, multi_class=ovr, penalty=l2;, score=0.956 total time=   8.8s\n",
      "[CV 4/5] END C=10, class_weight=None, dual=auto, fit_intercept=False, intercept_scaling=1.5, loss=hinge, multi_class=ovr, penalty=l2;, score=0.957 total time=   8.1s\n",
      "[CV 5/5] END C=10, class_weight=None, dual=auto, fit_intercept=False, intercept_scaling=1.5, loss=hinge, multi_class=ovr, penalty=l2;, score=0.955 total time=  10.0s\n"
     ]
    },
    {
     "name": "stderr",
     "output_type": "stream",
     "text": [
      "C:\\Users\\never\\AppData\\Roaming\\Python\\Python311\\site-packages\\sklearn\\svm\\_base.py:1250: ConvergenceWarning: Liblinear failed to converge, increase the number of iterations.\n",
      "  warnings.warn(\n"
     ]
    },
    {
     "name": "stdout",
     "output_type": "stream",
     "text": [
      "[CV 1/5] END C=10, class_weight=None, dual=auto, fit_intercept=False, intercept_scaling=1.5, loss=hinge, multi_class=crammer_singer, penalty=l1;, score=0.951 total time=  12.7s\n"
     ]
    },
    {
     "name": "stderr",
     "output_type": "stream",
     "text": [
      "C:\\Users\\never\\AppData\\Roaming\\Python\\Python311\\site-packages\\sklearn\\svm\\_base.py:1250: ConvergenceWarning: Liblinear failed to converge, increase the number of iterations.\n",
      "  warnings.warn(\n"
     ]
    },
    {
     "name": "stdout",
     "output_type": "stream",
     "text": [
      "[CV 2/5] END C=10, class_weight=None, dual=auto, fit_intercept=False, intercept_scaling=1.5, loss=hinge, multi_class=crammer_singer, penalty=l1;, score=0.948 total time=  17.9s\n"
     ]
    },
    {
     "name": "stderr",
     "output_type": "stream",
     "text": [
      "C:\\Users\\never\\AppData\\Roaming\\Python\\Python311\\site-packages\\sklearn\\svm\\_base.py:1250: ConvergenceWarning: Liblinear failed to converge, increase the number of iterations.\n",
      "  warnings.warn(\n"
     ]
    },
    {
     "name": "stdout",
     "output_type": "stream",
     "text": [
      "[CV 3/5] END C=10, class_weight=None, dual=auto, fit_intercept=False, intercept_scaling=1.5, loss=hinge, multi_class=crammer_singer, penalty=l1;, score=0.955 total time=   9.8s\n"
     ]
    },
    {
     "name": "stderr",
     "output_type": "stream",
     "text": [
      "C:\\Users\\never\\AppData\\Roaming\\Python\\Python311\\site-packages\\sklearn\\svm\\_base.py:1250: ConvergenceWarning: Liblinear failed to converge, increase the number of iterations.\n",
      "  warnings.warn(\n"
     ]
    },
    {
     "name": "stdout",
     "output_type": "stream",
     "text": [
      "[CV 4/5] END C=10, class_weight=None, dual=auto, fit_intercept=False, intercept_scaling=1.5, loss=hinge, multi_class=crammer_singer, penalty=l1;, score=0.955 total time=  18.3s\n"
     ]
    },
    {
     "name": "stderr",
     "output_type": "stream",
     "text": [
      "C:\\Users\\never\\AppData\\Roaming\\Python\\Python311\\site-packages\\sklearn\\svm\\_base.py:1250: ConvergenceWarning: Liblinear failed to converge, increase the number of iterations.\n",
      "  warnings.warn(\n"
     ]
    },
    {
     "name": "stdout",
     "output_type": "stream",
     "text": [
      "[CV 5/5] END C=10, class_weight=None, dual=auto, fit_intercept=False, intercept_scaling=1.5, loss=hinge, multi_class=crammer_singer, penalty=l1;, score=0.956 total time=  17.4s\n"
     ]
    },
    {
     "name": "stderr",
     "output_type": "stream",
     "text": [
      "C:\\Users\\never\\AppData\\Roaming\\Python\\Python311\\site-packages\\sklearn\\svm\\_base.py:1250: ConvergenceWarning: Liblinear failed to converge, increase the number of iterations.\n",
      "  warnings.warn(\n"
     ]
    },
    {
     "name": "stdout",
     "output_type": "stream",
     "text": [
      "[CV 1/5] END C=10, class_weight=None, dual=auto, fit_intercept=False, intercept_scaling=1.5, loss=hinge, multi_class=crammer_singer, penalty=l2;, score=0.951 total time=  12.8s\n"
     ]
    },
    {
     "name": "stderr",
     "output_type": "stream",
     "text": [
      "C:\\Users\\never\\AppData\\Roaming\\Python\\Python311\\site-packages\\sklearn\\svm\\_base.py:1250: ConvergenceWarning: Liblinear failed to converge, increase the number of iterations.\n",
      "  warnings.warn(\n"
     ]
    },
    {
     "name": "stdout",
     "output_type": "stream",
     "text": [
      "[CV 2/5] END C=10, class_weight=None, dual=auto, fit_intercept=False, intercept_scaling=1.5, loss=hinge, multi_class=crammer_singer, penalty=l2;, score=0.948 total time=  16.2s\n"
     ]
    },
    {
     "name": "stderr",
     "output_type": "stream",
     "text": [
      "C:\\Users\\never\\AppData\\Roaming\\Python\\Python311\\site-packages\\sklearn\\svm\\_base.py:1250: ConvergenceWarning: Liblinear failed to converge, increase the number of iterations.\n",
      "  warnings.warn(\n"
     ]
    },
    {
     "name": "stdout",
     "output_type": "stream",
     "text": [
      "[CV 3/5] END C=10, class_weight=None, dual=auto, fit_intercept=False, intercept_scaling=1.5, loss=hinge, multi_class=crammer_singer, penalty=l2;, score=0.955 total time=   9.8s\n"
     ]
    },
    {
     "name": "stderr",
     "output_type": "stream",
     "text": [
      "C:\\Users\\never\\AppData\\Roaming\\Python\\Python311\\site-packages\\sklearn\\svm\\_base.py:1250: ConvergenceWarning: Liblinear failed to converge, increase the number of iterations.\n",
      "  warnings.warn(\n"
     ]
    },
    {
     "name": "stdout",
     "output_type": "stream",
     "text": [
      "[CV 4/5] END C=10, class_weight=None, dual=auto, fit_intercept=False, intercept_scaling=1.5, loss=hinge, multi_class=crammer_singer, penalty=l2;, score=0.955 total time=  18.0s\n"
     ]
    },
    {
     "name": "stderr",
     "output_type": "stream",
     "text": [
      "C:\\Users\\never\\AppData\\Roaming\\Python\\Python311\\site-packages\\sklearn\\svm\\_base.py:1250: ConvergenceWarning: Liblinear failed to converge, increase the number of iterations.\n",
      "  warnings.warn(\n"
     ]
    },
    {
     "name": "stdout",
     "output_type": "stream",
     "text": [
      "[CV 5/5] END C=10, class_weight=None, dual=auto, fit_intercept=False, intercept_scaling=1.5, loss=hinge, multi_class=crammer_singer, penalty=l2;, score=0.956 total time=  17.6s\n",
      "[CV 1/5] END C=10, class_weight=None, dual=auto, fit_intercept=False, intercept_scaling=1.5, loss=squared_hinge, multi_class=ovr, penalty=l1;, score=0.953 total time=  21.2s\n",
      "[CV 2/5] END C=10, class_weight=None, dual=auto, fit_intercept=False, intercept_scaling=1.5, loss=squared_hinge, multi_class=ovr, penalty=l1;, score=0.951 total time=  19.3s\n",
      "[CV 3/5] END C=10, class_weight=None, dual=auto, fit_intercept=False, intercept_scaling=1.5, loss=squared_hinge, multi_class=ovr, penalty=l1;, score=0.959 total time=  17.8s\n",
      "[CV 4/5] END C=10, class_weight=None, dual=auto, fit_intercept=False, intercept_scaling=1.5, loss=squared_hinge, multi_class=ovr, penalty=l1;, score=0.956 total time=  19.3s\n",
      "[CV 5/5] END C=10, class_weight=None, dual=auto, fit_intercept=False, intercept_scaling=1.5, loss=squared_hinge, multi_class=ovr, penalty=l1;, score=0.957 total time=  18.2s\n",
      "[CV 1/5] END C=10, class_weight=None, dual=auto, fit_intercept=False, intercept_scaling=1.5, loss=squared_hinge, multi_class=ovr, penalty=l2;, score=0.950 total time=  47.4s\n",
      "[CV 2/5] END C=10, class_weight=None, dual=auto, fit_intercept=False, intercept_scaling=1.5, loss=squared_hinge, multi_class=ovr, penalty=l2;, score=0.950 total time=  53.2s\n",
      "[CV 3/5] END C=10, class_weight=None, dual=auto, fit_intercept=False, intercept_scaling=1.5, loss=squared_hinge, multi_class=ovr, penalty=l2;, score=0.958 total time=  46.9s\n",
      "[CV 4/5] END C=10, class_weight=None, dual=auto, fit_intercept=False, intercept_scaling=1.5, loss=squared_hinge, multi_class=ovr, penalty=l2;, score=0.957 total time=  47.1s\n",
      "[CV 5/5] END C=10, class_weight=None, dual=auto, fit_intercept=False, intercept_scaling=1.5, loss=squared_hinge, multi_class=ovr, penalty=l2;, score=0.956 total time=  49.7s\n"
     ]
    },
    {
     "name": "stderr",
     "output_type": "stream",
     "text": [
      "C:\\Users\\never\\AppData\\Roaming\\Python\\Python311\\site-packages\\sklearn\\svm\\_base.py:1250: ConvergenceWarning: Liblinear failed to converge, increase the number of iterations.\n",
      "  warnings.warn(\n"
     ]
    },
    {
     "name": "stdout",
     "output_type": "stream",
     "text": [
      "[CV 1/5] END C=10, class_weight=None, dual=auto, fit_intercept=False, intercept_scaling=1.5, loss=squared_hinge, multi_class=crammer_singer, penalty=l1;, score=0.951 total time=  12.6s\n"
     ]
    },
    {
     "name": "stderr",
     "output_type": "stream",
     "text": [
      "C:\\Users\\never\\AppData\\Roaming\\Python\\Python311\\site-packages\\sklearn\\svm\\_base.py:1250: ConvergenceWarning: Liblinear failed to converge, increase the number of iterations.\n",
      "  warnings.warn(\n"
     ]
    },
    {
     "name": "stdout",
     "output_type": "stream",
     "text": [
      "[CV 2/5] END C=10, class_weight=None, dual=auto, fit_intercept=False, intercept_scaling=1.5, loss=squared_hinge, multi_class=crammer_singer, penalty=l1;, score=0.948 total time=  19.4s\n"
     ]
    },
    {
     "name": "stderr",
     "output_type": "stream",
     "text": [
      "C:\\Users\\never\\AppData\\Roaming\\Python\\Python311\\site-packages\\sklearn\\svm\\_base.py:1250: ConvergenceWarning: Liblinear failed to converge, increase the number of iterations.\n",
      "  warnings.warn(\n"
     ]
    },
    {
     "name": "stdout",
     "output_type": "stream",
     "text": [
      "[CV 3/5] END C=10, class_weight=None, dual=auto, fit_intercept=False, intercept_scaling=1.5, loss=squared_hinge, multi_class=crammer_singer, penalty=l1;, score=0.955 total time=   9.8s\n"
     ]
    },
    {
     "name": "stderr",
     "output_type": "stream",
     "text": [
      "C:\\Users\\never\\AppData\\Roaming\\Python\\Python311\\site-packages\\sklearn\\svm\\_base.py:1250: ConvergenceWarning: Liblinear failed to converge, increase the number of iterations.\n",
      "  warnings.warn(\n"
     ]
    },
    {
     "name": "stdout",
     "output_type": "stream",
     "text": [
      "[CV 4/5] END C=10, class_weight=None, dual=auto, fit_intercept=False, intercept_scaling=1.5, loss=squared_hinge, multi_class=crammer_singer, penalty=l1;, score=0.955 total time=  17.6s\n"
     ]
    },
    {
     "name": "stderr",
     "output_type": "stream",
     "text": [
      "C:\\Users\\never\\AppData\\Roaming\\Python\\Python311\\site-packages\\sklearn\\svm\\_base.py:1250: ConvergenceWarning: Liblinear failed to converge, increase the number of iterations.\n",
      "  warnings.warn(\n"
     ]
    },
    {
     "name": "stdout",
     "output_type": "stream",
     "text": [
      "[CV 5/5] END C=10, class_weight=None, dual=auto, fit_intercept=False, intercept_scaling=1.5, loss=squared_hinge, multi_class=crammer_singer, penalty=l1;, score=0.956 total time=  17.3s\n"
     ]
    },
    {
     "name": "stderr",
     "output_type": "stream",
     "text": [
      "C:\\Users\\never\\AppData\\Roaming\\Python\\Python311\\site-packages\\sklearn\\svm\\_base.py:1250: ConvergenceWarning: Liblinear failed to converge, increase the number of iterations.\n",
      "  warnings.warn(\n"
     ]
    },
    {
     "name": "stdout",
     "output_type": "stream",
     "text": [
      "[CV 1/5] END C=10, class_weight=None, dual=auto, fit_intercept=False, intercept_scaling=1.5, loss=squared_hinge, multi_class=crammer_singer, penalty=l2;, score=0.951 total time=  12.7s\n"
     ]
    },
    {
     "name": "stderr",
     "output_type": "stream",
     "text": [
      "C:\\Users\\never\\AppData\\Roaming\\Python\\Python311\\site-packages\\sklearn\\svm\\_base.py:1250: ConvergenceWarning: Liblinear failed to converge, increase the number of iterations.\n",
      "  warnings.warn(\n"
     ]
    },
    {
     "name": "stdout",
     "output_type": "stream",
     "text": [
      "[CV 2/5] END C=10, class_weight=None, dual=auto, fit_intercept=False, intercept_scaling=1.5, loss=squared_hinge, multi_class=crammer_singer, penalty=l2;, score=0.948 total time=  15.8s\n"
     ]
    },
    {
     "name": "stderr",
     "output_type": "stream",
     "text": [
      "C:\\Users\\never\\AppData\\Roaming\\Python\\Python311\\site-packages\\sklearn\\svm\\_base.py:1250: ConvergenceWarning: Liblinear failed to converge, increase the number of iterations.\n",
      "  warnings.warn(\n"
     ]
    },
    {
     "name": "stdout",
     "output_type": "stream",
     "text": [
      "[CV 3/5] END C=10, class_weight=None, dual=auto, fit_intercept=False, intercept_scaling=1.5, loss=squared_hinge, multi_class=crammer_singer, penalty=l2;, score=0.955 total time=   9.6s\n"
     ]
    },
    {
     "name": "stderr",
     "output_type": "stream",
     "text": [
      "C:\\Users\\never\\AppData\\Roaming\\Python\\Python311\\site-packages\\sklearn\\svm\\_base.py:1250: ConvergenceWarning: Liblinear failed to converge, increase the number of iterations.\n",
      "  warnings.warn(\n"
     ]
    },
    {
     "name": "stdout",
     "output_type": "stream",
     "text": [
      "[CV 4/5] END C=10, class_weight=None, dual=auto, fit_intercept=False, intercept_scaling=1.5, loss=squared_hinge, multi_class=crammer_singer, penalty=l2;, score=0.955 total time=  18.7s\n"
     ]
    },
    {
     "name": "stderr",
     "output_type": "stream",
     "text": [
      "C:\\Users\\never\\AppData\\Roaming\\Python\\Python311\\site-packages\\sklearn\\svm\\_base.py:1250: ConvergenceWarning: Liblinear failed to converge, increase the number of iterations.\n",
      "  warnings.warn(\n"
     ]
    },
    {
     "name": "stdout",
     "output_type": "stream",
     "text": [
      "[CV 5/5] END C=10, class_weight=None, dual=auto, fit_intercept=False, intercept_scaling=1.5, loss=squared_hinge, multi_class=crammer_singer, penalty=l2;, score=0.956 total time=  18.4s\n",
      "[CV 1/5] END C=10, class_weight=None, dual=auto, fit_intercept=False, intercept_scaling=2, loss=hinge, multi_class=ovr, penalty=l1;, score=nan total time=   1.6s\n",
      "[CV 2/5] END C=10, class_weight=None, dual=auto, fit_intercept=False, intercept_scaling=2, loss=hinge, multi_class=ovr, penalty=l1;, score=nan total time=   1.7s\n",
      "[CV 3/5] END C=10, class_weight=None, dual=auto, fit_intercept=False, intercept_scaling=2, loss=hinge, multi_class=ovr, penalty=l1;, score=nan total time=   1.7s\n",
      "[CV 4/5] END C=10, class_weight=None, dual=auto, fit_intercept=False, intercept_scaling=2, loss=hinge, multi_class=ovr, penalty=l1;, score=nan total time=   1.7s\n",
      "[CV 5/5] END C=10, class_weight=None, dual=auto, fit_intercept=False, intercept_scaling=2, loss=hinge, multi_class=ovr, penalty=l1;, score=nan total time=   1.7s\n",
      "[CV 1/5] END C=10, class_weight=None, dual=auto, fit_intercept=False, intercept_scaling=2, loss=hinge, multi_class=ovr, penalty=l2;, score=0.950 total time=  10.7s\n",
      "[CV 2/5] END C=10, class_weight=None, dual=auto, fit_intercept=False, intercept_scaling=2, loss=hinge, multi_class=ovr, penalty=l2;, score=0.952 total time=   9.5s\n",
      "[CV 3/5] END C=10, class_weight=None, dual=auto, fit_intercept=False, intercept_scaling=2, loss=hinge, multi_class=ovr, penalty=l2;, score=0.956 total time=   8.8s\n",
      "[CV 4/5] END C=10, class_weight=None, dual=auto, fit_intercept=False, intercept_scaling=2, loss=hinge, multi_class=ovr, penalty=l2;, score=0.957 total time=   8.2s\n",
      "[CV 5/5] END C=10, class_weight=None, dual=auto, fit_intercept=False, intercept_scaling=2, loss=hinge, multi_class=ovr, penalty=l2;, score=0.955 total time=  10.0s\n"
     ]
    },
    {
     "name": "stderr",
     "output_type": "stream",
     "text": [
      "C:\\Users\\never\\AppData\\Roaming\\Python\\Python311\\site-packages\\sklearn\\svm\\_base.py:1250: ConvergenceWarning: Liblinear failed to converge, increase the number of iterations.\n",
      "  warnings.warn(\n"
     ]
    },
    {
     "name": "stdout",
     "output_type": "stream",
     "text": [
      "[CV 1/5] END C=10, class_weight=None, dual=auto, fit_intercept=False, intercept_scaling=2, loss=hinge, multi_class=crammer_singer, penalty=l1;, score=0.951 total time=  12.6s\n"
     ]
    },
    {
     "name": "stderr",
     "output_type": "stream",
     "text": [
      "C:\\Users\\never\\AppData\\Roaming\\Python\\Python311\\site-packages\\sklearn\\svm\\_base.py:1250: ConvergenceWarning: Liblinear failed to converge, increase the number of iterations.\n",
      "  warnings.warn(\n"
     ]
    },
    {
     "name": "stdout",
     "output_type": "stream",
     "text": [
      "[CV 2/5] END C=10, class_weight=None, dual=auto, fit_intercept=False, intercept_scaling=2, loss=hinge, multi_class=crammer_singer, penalty=l1;, score=0.948 total time=  16.0s\n"
     ]
    },
    {
     "name": "stderr",
     "output_type": "stream",
     "text": [
      "C:\\Users\\never\\AppData\\Roaming\\Python\\Python311\\site-packages\\sklearn\\svm\\_base.py:1250: ConvergenceWarning: Liblinear failed to converge, increase the number of iterations.\n",
      "  warnings.warn(\n"
     ]
    },
    {
     "name": "stdout",
     "output_type": "stream",
     "text": [
      "[CV 3/5] END C=10, class_weight=None, dual=auto, fit_intercept=False, intercept_scaling=2, loss=hinge, multi_class=crammer_singer, penalty=l1;, score=0.955 total time=   9.8s\n"
     ]
    },
    {
     "name": "stderr",
     "output_type": "stream",
     "text": [
      "C:\\Users\\never\\AppData\\Roaming\\Python\\Python311\\site-packages\\sklearn\\svm\\_base.py:1250: ConvergenceWarning: Liblinear failed to converge, increase the number of iterations.\n",
      "  warnings.warn(\n"
     ]
    },
    {
     "name": "stdout",
     "output_type": "stream",
     "text": [
      "[CV 4/5] END C=10, class_weight=None, dual=auto, fit_intercept=False, intercept_scaling=2, loss=hinge, multi_class=crammer_singer, penalty=l1;, score=0.955 total time=  18.0s\n"
     ]
    },
    {
     "name": "stderr",
     "output_type": "stream",
     "text": [
      "C:\\Users\\never\\AppData\\Roaming\\Python\\Python311\\site-packages\\sklearn\\svm\\_base.py:1250: ConvergenceWarning: Liblinear failed to converge, increase the number of iterations.\n",
      "  warnings.warn(\n"
     ]
    },
    {
     "name": "stdout",
     "output_type": "stream",
     "text": [
      "[CV 5/5] END C=10, class_weight=None, dual=auto, fit_intercept=False, intercept_scaling=2, loss=hinge, multi_class=crammer_singer, penalty=l1;, score=0.956 total time=  17.6s\n"
     ]
    },
    {
     "name": "stderr",
     "output_type": "stream",
     "text": [
      "C:\\Users\\never\\AppData\\Roaming\\Python\\Python311\\site-packages\\sklearn\\svm\\_base.py:1250: ConvergenceWarning: Liblinear failed to converge, increase the number of iterations.\n",
      "  warnings.warn(\n"
     ]
    },
    {
     "name": "stdout",
     "output_type": "stream",
     "text": [
      "[CV 1/5] END C=10, class_weight=None, dual=auto, fit_intercept=False, intercept_scaling=2, loss=hinge, multi_class=crammer_singer, penalty=l2;, score=0.951 total time=  12.9s\n"
     ]
    },
    {
     "name": "stderr",
     "output_type": "stream",
     "text": [
      "C:\\Users\\never\\AppData\\Roaming\\Python\\Python311\\site-packages\\sklearn\\svm\\_base.py:1250: ConvergenceWarning: Liblinear failed to converge, increase the number of iterations.\n",
      "  warnings.warn(\n"
     ]
    },
    {
     "name": "stdout",
     "output_type": "stream",
     "text": [
      "[CV 2/5] END C=10, class_weight=None, dual=auto, fit_intercept=False, intercept_scaling=2, loss=hinge, multi_class=crammer_singer, penalty=l2;, score=0.948 total time=  16.0s\n"
     ]
    },
    {
     "name": "stderr",
     "output_type": "stream",
     "text": [
      "C:\\Users\\never\\AppData\\Roaming\\Python\\Python311\\site-packages\\sklearn\\svm\\_base.py:1250: ConvergenceWarning: Liblinear failed to converge, increase the number of iterations.\n",
      "  warnings.warn(\n"
     ]
    },
    {
     "name": "stdout",
     "output_type": "stream",
     "text": [
      "[CV 3/5] END C=10, class_weight=None, dual=auto, fit_intercept=False, intercept_scaling=2, loss=hinge, multi_class=crammer_singer, penalty=l2;, score=0.955 total time=  11.0s\n"
     ]
    },
    {
     "name": "stderr",
     "output_type": "stream",
     "text": [
      "C:\\Users\\never\\AppData\\Roaming\\Python\\Python311\\site-packages\\sklearn\\svm\\_base.py:1250: ConvergenceWarning: Liblinear failed to converge, increase the number of iterations.\n",
      "  warnings.warn(\n"
     ]
    },
    {
     "name": "stdout",
     "output_type": "stream",
     "text": [
      "[CV 4/5] END C=10, class_weight=None, dual=auto, fit_intercept=False, intercept_scaling=2, loss=hinge, multi_class=crammer_singer, penalty=l2;, score=0.955 total time=  17.6s\n"
     ]
    },
    {
     "name": "stderr",
     "output_type": "stream",
     "text": [
      "C:\\Users\\never\\AppData\\Roaming\\Python\\Python311\\site-packages\\sklearn\\svm\\_base.py:1250: ConvergenceWarning: Liblinear failed to converge, increase the number of iterations.\n",
      "  warnings.warn(\n"
     ]
    },
    {
     "name": "stdout",
     "output_type": "stream",
     "text": [
      "[CV 5/5] END C=10, class_weight=None, dual=auto, fit_intercept=False, intercept_scaling=2, loss=hinge, multi_class=crammer_singer, penalty=l2;, score=0.956 total time=  17.5s\n",
      "[CV 1/5] END C=10, class_weight=None, dual=auto, fit_intercept=False, intercept_scaling=2, loss=squared_hinge, multi_class=ovr, penalty=l1;, score=0.953 total time=  21.8s\n",
      "[CV 2/5] END C=10, class_weight=None, dual=auto, fit_intercept=False, intercept_scaling=2, loss=squared_hinge, multi_class=ovr, penalty=l1;, score=0.951 total time=  19.6s\n",
      "[CV 3/5] END C=10, class_weight=None, dual=auto, fit_intercept=False, intercept_scaling=2, loss=squared_hinge, multi_class=ovr, penalty=l1;, score=0.959 total time=  18.0s\n",
      "[CV 4/5] END C=10, class_weight=None, dual=auto, fit_intercept=False, intercept_scaling=2, loss=squared_hinge, multi_class=ovr, penalty=l1;, score=0.956 total time=  19.3s\n",
      "[CV 5/5] END C=10, class_weight=None, dual=auto, fit_intercept=False, intercept_scaling=2, loss=squared_hinge, multi_class=ovr, penalty=l1;, score=0.957 total time=  18.2s\n",
      "[CV 1/5] END C=10, class_weight=None, dual=auto, fit_intercept=False, intercept_scaling=2, loss=squared_hinge, multi_class=ovr, penalty=l2;, score=0.950 total time=  47.4s\n",
      "[CV 2/5] END C=10, class_weight=None, dual=auto, fit_intercept=False, intercept_scaling=2, loss=squared_hinge, multi_class=ovr, penalty=l2;, score=0.950 total time=  52.7s\n",
      "[CV 3/5] END C=10, class_weight=None, dual=auto, fit_intercept=False, intercept_scaling=2, loss=squared_hinge, multi_class=ovr, penalty=l2;, score=0.958 total time=  46.9s\n",
      "[CV 4/5] END C=10, class_weight=None, dual=auto, fit_intercept=False, intercept_scaling=2, loss=squared_hinge, multi_class=ovr, penalty=l2;, score=0.957 total time=  46.9s\n",
      "[CV 5/5] END C=10, class_weight=None, dual=auto, fit_intercept=False, intercept_scaling=2, loss=squared_hinge, multi_class=ovr, penalty=l2;, score=0.956 total time=  50.2s\n"
     ]
    },
    {
     "name": "stderr",
     "output_type": "stream",
     "text": [
      "C:\\Users\\never\\AppData\\Roaming\\Python\\Python311\\site-packages\\sklearn\\svm\\_base.py:1250: ConvergenceWarning: Liblinear failed to converge, increase the number of iterations.\n",
      "  warnings.warn(\n"
     ]
    },
    {
     "name": "stdout",
     "output_type": "stream",
     "text": [
      "[CV 1/5] END C=10, class_weight=None, dual=auto, fit_intercept=False, intercept_scaling=2, loss=squared_hinge, multi_class=crammer_singer, penalty=l1;, score=0.951 total time=  12.9s\n"
     ]
    },
    {
     "name": "stderr",
     "output_type": "stream",
     "text": [
      "C:\\Users\\never\\AppData\\Roaming\\Python\\Python311\\site-packages\\sklearn\\svm\\_base.py:1250: ConvergenceWarning: Liblinear failed to converge, increase the number of iterations.\n",
      "  warnings.warn(\n"
     ]
    },
    {
     "name": "stdout",
     "output_type": "stream",
     "text": [
      "[CV 2/5] END C=10, class_weight=None, dual=auto, fit_intercept=False, intercept_scaling=2, loss=squared_hinge, multi_class=crammer_singer, penalty=l1;, score=0.948 total time=  15.9s\n"
     ]
    },
    {
     "name": "stderr",
     "output_type": "stream",
     "text": [
      "C:\\Users\\never\\AppData\\Roaming\\Python\\Python311\\site-packages\\sklearn\\svm\\_base.py:1250: ConvergenceWarning: Liblinear failed to converge, increase the number of iterations.\n",
      "  warnings.warn(\n"
     ]
    },
    {
     "name": "stdout",
     "output_type": "stream",
     "text": [
      "[CV 3/5] END C=10, class_weight=None, dual=auto, fit_intercept=False, intercept_scaling=2, loss=squared_hinge, multi_class=crammer_singer, penalty=l1;, score=0.955 total time=   9.6s\n"
     ]
    },
    {
     "name": "stderr",
     "output_type": "stream",
     "text": [
      "C:\\Users\\never\\AppData\\Roaming\\Python\\Python311\\site-packages\\sklearn\\svm\\_base.py:1250: ConvergenceWarning: Liblinear failed to converge, increase the number of iterations.\n",
      "  warnings.warn(\n"
     ]
    },
    {
     "name": "stdout",
     "output_type": "stream",
     "text": [
      "[CV 4/5] END C=10, class_weight=None, dual=auto, fit_intercept=False, intercept_scaling=2, loss=squared_hinge, multi_class=crammer_singer, penalty=l1;, score=0.955 total time=  17.8s\n"
     ]
    },
    {
     "name": "stderr",
     "output_type": "stream",
     "text": [
      "C:\\Users\\never\\AppData\\Roaming\\Python\\Python311\\site-packages\\sklearn\\svm\\_base.py:1250: ConvergenceWarning: Liblinear failed to converge, increase the number of iterations.\n",
      "  warnings.warn(\n"
     ]
    },
    {
     "name": "stdout",
     "output_type": "stream",
     "text": [
      "[CV 5/5] END C=10, class_weight=None, dual=auto, fit_intercept=False, intercept_scaling=2, loss=squared_hinge, multi_class=crammer_singer, penalty=l1;, score=0.956 total time=  17.7s\n"
     ]
    },
    {
     "name": "stderr",
     "output_type": "stream",
     "text": [
      "C:\\Users\\never\\AppData\\Roaming\\Python\\Python311\\site-packages\\sklearn\\svm\\_base.py:1250: ConvergenceWarning: Liblinear failed to converge, increase the number of iterations.\n",
      "  warnings.warn(\n"
     ]
    },
    {
     "name": "stdout",
     "output_type": "stream",
     "text": [
      "[CV 1/5] END C=10, class_weight=None, dual=auto, fit_intercept=False, intercept_scaling=2, loss=squared_hinge, multi_class=crammer_singer, penalty=l2;, score=0.951 total time=  13.3s\n"
     ]
    },
    {
     "name": "stderr",
     "output_type": "stream",
     "text": [
      "C:\\Users\\never\\AppData\\Roaming\\Python\\Python311\\site-packages\\sklearn\\svm\\_base.py:1250: ConvergenceWarning: Liblinear failed to converge, increase the number of iterations.\n",
      "  warnings.warn(\n"
     ]
    },
    {
     "name": "stdout",
     "output_type": "stream",
     "text": [
      "[CV 2/5] END C=10, class_weight=None, dual=auto, fit_intercept=False, intercept_scaling=2, loss=squared_hinge, multi_class=crammer_singer, penalty=l2;, score=0.948 total time=  16.0s\n"
     ]
    },
    {
     "name": "stderr",
     "output_type": "stream",
     "text": [
      "C:\\Users\\never\\AppData\\Roaming\\Python\\Python311\\site-packages\\sklearn\\svm\\_base.py:1250: ConvergenceWarning: Liblinear failed to converge, increase the number of iterations.\n",
      "  warnings.warn(\n"
     ]
    },
    {
     "name": "stdout",
     "output_type": "stream",
     "text": [
      "[CV 3/5] END C=10, class_weight=None, dual=auto, fit_intercept=False, intercept_scaling=2, loss=squared_hinge, multi_class=crammer_singer, penalty=l2;, score=0.955 total time=  10.0s\n"
     ]
    },
    {
     "name": "stderr",
     "output_type": "stream",
     "text": [
      "C:\\Users\\never\\AppData\\Roaming\\Python\\Python311\\site-packages\\sklearn\\svm\\_base.py:1250: ConvergenceWarning: Liblinear failed to converge, increase the number of iterations.\n",
      "  warnings.warn(\n"
     ]
    },
    {
     "name": "stdout",
     "output_type": "stream",
     "text": [
      "[CV 4/5] END C=10, class_weight=None, dual=auto, fit_intercept=False, intercept_scaling=2, loss=squared_hinge, multi_class=crammer_singer, penalty=l2;, score=0.955 total time=  18.2s\n"
     ]
    },
    {
     "name": "stderr",
     "output_type": "stream",
     "text": [
      "C:\\Users\\never\\AppData\\Roaming\\Python\\Python311\\site-packages\\sklearn\\svm\\_base.py:1250: ConvergenceWarning: Liblinear failed to converge, increase the number of iterations.\n",
      "  warnings.warn(\n"
     ]
    },
    {
     "name": "stdout",
     "output_type": "stream",
     "text": [
      "[CV 5/5] END C=10, class_weight=None, dual=auto, fit_intercept=False, intercept_scaling=2, loss=squared_hinge, multi_class=crammer_singer, penalty=l2;, score=0.956 total time=  18.4s\n",
      "[CV 1/5] END C=10, class_weight=balanced, dual=auto, fit_intercept=True, intercept_scaling=1, loss=hinge, multi_class=ovr, penalty=l1;, score=nan total time=   1.7s\n",
      "[CV 2/5] END C=10, class_weight=balanced, dual=auto, fit_intercept=True, intercept_scaling=1, loss=hinge, multi_class=ovr, penalty=l1;, score=nan total time=   1.7s\n",
      "[CV 3/5] END C=10, class_weight=balanced, dual=auto, fit_intercept=True, intercept_scaling=1, loss=hinge, multi_class=ovr, penalty=l1;, score=nan total time=   1.7s\n",
      "[CV 4/5] END C=10, class_weight=balanced, dual=auto, fit_intercept=True, intercept_scaling=1, loss=hinge, multi_class=ovr, penalty=l1;, score=nan total time=   1.7s\n",
      "[CV 5/5] END C=10, class_weight=balanced, dual=auto, fit_intercept=True, intercept_scaling=1, loss=hinge, multi_class=ovr, penalty=l1;, score=nan total time=   1.7s\n",
      "[CV 1/5] END C=10, class_weight=balanced, dual=auto, fit_intercept=True, intercept_scaling=1, loss=hinge, multi_class=ovr, penalty=l2;, score=0.952 total time=  15.5s\n",
      "[CV 2/5] END C=10, class_weight=balanced, dual=auto, fit_intercept=True, intercept_scaling=1, loss=hinge, multi_class=ovr, penalty=l2;, score=0.953 total time=  11.1s\n",
      "[CV 3/5] END C=10, class_weight=balanced, dual=auto, fit_intercept=True, intercept_scaling=1, loss=hinge, multi_class=ovr, penalty=l2;, score=0.961 total time=  12.7s\n",
      "[CV 4/5] END C=10, class_weight=balanced, dual=auto, fit_intercept=True, intercept_scaling=1, loss=hinge, multi_class=ovr, penalty=l2;, score=0.958 total time=  12.7s\n",
      "[CV 5/5] END C=10, class_weight=balanced, dual=auto, fit_intercept=True, intercept_scaling=1, loss=hinge, multi_class=ovr, penalty=l2;, score=0.959 total time=  14.3s\n"
     ]
    },
    {
     "name": "stderr",
     "output_type": "stream",
     "text": [
      "C:\\Users\\never\\AppData\\Roaming\\Python\\Python311\\site-packages\\sklearn\\svm\\_base.py:1250: ConvergenceWarning: Liblinear failed to converge, increase the number of iterations.\n",
      "  warnings.warn(\n"
     ]
    },
    {
     "name": "stdout",
     "output_type": "stream",
     "text": [
      "[CV 1/5] END C=10, class_weight=balanced, dual=auto, fit_intercept=True, intercept_scaling=1, loss=hinge, multi_class=crammer_singer, penalty=l1;, score=0.954 total time=  30.7s\n"
     ]
    },
    {
     "name": "stderr",
     "output_type": "stream",
     "text": [
      "C:\\Users\\never\\AppData\\Roaming\\Python\\Python311\\site-packages\\sklearn\\svm\\_base.py:1250: ConvergenceWarning: Liblinear failed to converge, increase the number of iterations.\n",
      "  warnings.warn(\n"
     ]
    },
    {
     "name": "stdout",
     "output_type": "stream",
     "text": [
      "[CV 2/5] END C=10, class_weight=balanced, dual=auto, fit_intercept=True, intercept_scaling=1, loss=hinge, multi_class=crammer_singer, penalty=l1;, score=0.950 total time=  11.9s\n"
     ]
    },
    {
     "name": "stderr",
     "output_type": "stream",
     "text": [
      "C:\\Users\\never\\AppData\\Roaming\\Python\\Python311\\site-packages\\sklearn\\svm\\_base.py:1250: ConvergenceWarning: Liblinear failed to converge, increase the number of iterations.\n",
      "  warnings.warn(\n"
     ]
    },
    {
     "name": "stdout",
     "output_type": "stream",
     "text": [
      "[CV 3/5] END C=10, class_weight=balanced, dual=auto, fit_intercept=True, intercept_scaling=1, loss=hinge, multi_class=crammer_singer, penalty=l1;, score=0.956 total time=  11.6s\n"
     ]
    },
    {
     "name": "stderr",
     "output_type": "stream",
     "text": [
      "C:\\Users\\never\\AppData\\Roaming\\Python\\Python311\\site-packages\\sklearn\\svm\\_base.py:1250: ConvergenceWarning: Liblinear failed to converge, increase the number of iterations.\n",
      "  warnings.warn(\n"
     ]
    },
    {
     "name": "stdout",
     "output_type": "stream",
     "text": [
      "[CV 4/5] END C=10, class_weight=balanced, dual=auto, fit_intercept=True, intercept_scaling=1, loss=hinge, multi_class=crammer_singer, penalty=l1;, score=0.956 total time=  27.0s\n"
     ]
    },
    {
     "name": "stderr",
     "output_type": "stream",
     "text": [
      "C:\\Users\\never\\AppData\\Roaming\\Python\\Python311\\site-packages\\sklearn\\svm\\_base.py:1250: ConvergenceWarning: Liblinear failed to converge, increase the number of iterations.\n",
      "  warnings.warn(\n"
     ]
    },
    {
     "name": "stdout",
     "output_type": "stream",
     "text": [
      "[CV 5/5] END C=10, class_weight=balanced, dual=auto, fit_intercept=True, intercept_scaling=1, loss=hinge, multi_class=crammer_singer, penalty=l1;, score=0.957 total time=  16.1s\n"
     ]
    },
    {
     "name": "stderr",
     "output_type": "stream",
     "text": [
      "C:\\Users\\never\\AppData\\Roaming\\Python\\Python311\\site-packages\\sklearn\\svm\\_base.py:1250: ConvergenceWarning: Liblinear failed to converge, increase the number of iterations.\n",
      "  warnings.warn(\n"
     ]
    },
    {
     "name": "stdout",
     "output_type": "stream",
     "text": [
      "[CV 1/5] END C=10, class_weight=balanced, dual=auto, fit_intercept=True, intercept_scaling=1, loss=hinge, multi_class=crammer_singer, penalty=l2;, score=0.954 total time=  24.1s\n"
     ]
    },
    {
     "name": "stderr",
     "output_type": "stream",
     "text": [
      "C:\\Users\\never\\AppData\\Roaming\\Python\\Python311\\site-packages\\sklearn\\svm\\_base.py:1250: ConvergenceWarning: Liblinear failed to converge, increase the number of iterations.\n",
      "  warnings.warn(\n"
     ]
    },
    {
     "name": "stdout",
     "output_type": "stream",
     "text": [
      "[CV 2/5] END C=10, class_weight=balanced, dual=auto, fit_intercept=True, intercept_scaling=1, loss=hinge, multi_class=crammer_singer, penalty=l2;, score=0.950 total time=  11.8s\n"
     ]
    },
    {
     "name": "stderr",
     "output_type": "stream",
     "text": [
      "C:\\Users\\never\\AppData\\Roaming\\Python\\Python311\\site-packages\\sklearn\\svm\\_base.py:1250: ConvergenceWarning: Liblinear failed to converge, increase the number of iterations.\n",
      "  warnings.warn(\n"
     ]
    },
    {
     "name": "stdout",
     "output_type": "stream",
     "text": [
      "[CV 3/5] END C=10, class_weight=balanced, dual=auto, fit_intercept=True, intercept_scaling=1, loss=hinge, multi_class=crammer_singer, penalty=l2;, score=0.956 total time=  11.1s\n"
     ]
    },
    {
     "name": "stderr",
     "output_type": "stream",
     "text": [
      "C:\\Users\\never\\AppData\\Roaming\\Python\\Python311\\site-packages\\sklearn\\svm\\_base.py:1250: ConvergenceWarning: Liblinear failed to converge, increase the number of iterations.\n",
      "  warnings.warn(\n"
     ]
    },
    {
     "name": "stdout",
     "output_type": "stream",
     "text": [
      "[CV 4/5] END C=10, class_weight=balanced, dual=auto, fit_intercept=True, intercept_scaling=1, loss=hinge, multi_class=crammer_singer, penalty=l2;, score=0.956 total time=  26.8s\n"
     ]
    },
    {
     "name": "stderr",
     "output_type": "stream",
     "text": [
      "C:\\Users\\never\\AppData\\Roaming\\Python\\Python311\\site-packages\\sklearn\\svm\\_base.py:1250: ConvergenceWarning: Liblinear failed to converge, increase the number of iterations.\n",
      "  warnings.warn(\n"
     ]
    },
    {
     "name": "stdout",
     "output_type": "stream",
     "text": [
      "[CV 5/5] END C=10, class_weight=balanced, dual=auto, fit_intercept=True, intercept_scaling=1, loss=hinge, multi_class=crammer_singer, penalty=l2;, score=0.957 total time=  14.6s\n",
      "[CV 1/5] END C=10, class_weight=balanced, dual=auto, fit_intercept=True, intercept_scaling=1, loss=squared_hinge, multi_class=ovr, penalty=l1;, score=0.957 total time=  26.8s\n",
      "[CV 2/5] END C=10, class_weight=balanced, dual=auto, fit_intercept=True, intercept_scaling=1, loss=squared_hinge, multi_class=ovr, penalty=l1;, score=0.952 total time=  23.2s\n",
      "[CV 3/5] END C=10, class_weight=balanced, dual=auto, fit_intercept=True, intercept_scaling=1, loss=squared_hinge, multi_class=ovr, penalty=l1;, score=0.962 total time=  23.4s\n",
      "[CV 4/5] END C=10, class_weight=balanced, dual=auto, fit_intercept=True, intercept_scaling=1, loss=squared_hinge, multi_class=ovr, penalty=l1;, score=0.960 total time=  23.7s\n",
      "[CV 5/5] END C=10, class_weight=balanced, dual=auto, fit_intercept=True, intercept_scaling=1, loss=squared_hinge, multi_class=ovr, penalty=l1;, score=0.960 total time=  21.6s\n",
      "[CV 1/5] END C=10, class_weight=balanced, dual=auto, fit_intercept=True, intercept_scaling=1, loss=squared_hinge, multi_class=ovr, penalty=l2;, score=0.954 total time=  36.3s\n",
      "[CV 2/5] END C=10, class_weight=balanced, dual=auto, fit_intercept=True, intercept_scaling=1, loss=squared_hinge, multi_class=ovr, penalty=l2;, score=0.953 total time=  35.3s\n",
      "[CV 3/5] END C=10, class_weight=balanced, dual=auto, fit_intercept=True, intercept_scaling=1, loss=squared_hinge, multi_class=ovr, penalty=l2;, score=0.959 total time=  35.1s\n",
      "[CV 4/5] END C=10, class_weight=balanced, dual=auto, fit_intercept=True, intercept_scaling=1, loss=squared_hinge, multi_class=ovr, penalty=l2;, score=0.960 total time=  36.2s\n",
      "[CV 5/5] END C=10, class_weight=balanced, dual=auto, fit_intercept=True, intercept_scaling=1, loss=squared_hinge, multi_class=ovr, penalty=l2;, score=0.958 total time=  35.3s\n"
     ]
    },
    {
     "name": "stderr",
     "output_type": "stream",
     "text": [
      "C:\\Users\\never\\AppData\\Roaming\\Python\\Python311\\site-packages\\sklearn\\svm\\_base.py:1250: ConvergenceWarning: Liblinear failed to converge, increase the number of iterations.\n",
      "  warnings.warn(\n"
     ]
    },
    {
     "name": "stdout",
     "output_type": "stream",
     "text": [
      "[CV 1/5] END C=10, class_weight=balanced, dual=auto, fit_intercept=True, intercept_scaling=1, loss=squared_hinge, multi_class=crammer_singer, penalty=l1;, score=0.954 total time=  23.1s\n"
     ]
    },
    {
     "name": "stderr",
     "output_type": "stream",
     "text": [
      "C:\\Users\\never\\AppData\\Roaming\\Python\\Python311\\site-packages\\sklearn\\svm\\_base.py:1250: ConvergenceWarning: Liblinear failed to converge, increase the number of iterations.\n",
      "  warnings.warn(\n"
     ]
    },
    {
     "name": "stdout",
     "output_type": "stream",
     "text": [
      "[CV 2/5] END C=10, class_weight=balanced, dual=auto, fit_intercept=True, intercept_scaling=1, loss=squared_hinge, multi_class=crammer_singer, penalty=l1;, score=0.950 total time=  12.5s\n"
     ]
    },
    {
     "name": "stderr",
     "output_type": "stream",
     "text": [
      "C:\\Users\\never\\AppData\\Roaming\\Python\\Python311\\site-packages\\sklearn\\svm\\_base.py:1250: ConvergenceWarning: Liblinear failed to converge, increase the number of iterations.\n",
      "  warnings.warn(\n"
     ]
    },
    {
     "name": "stdout",
     "output_type": "stream",
     "text": [
      "[CV 3/5] END C=10, class_weight=balanced, dual=auto, fit_intercept=True, intercept_scaling=1, loss=squared_hinge, multi_class=crammer_singer, penalty=l1;, score=0.956 total time=  11.1s\n"
     ]
    },
    {
     "name": "stderr",
     "output_type": "stream",
     "text": [
      "C:\\Users\\never\\AppData\\Roaming\\Python\\Python311\\site-packages\\sklearn\\svm\\_base.py:1250: ConvergenceWarning: Liblinear failed to converge, increase the number of iterations.\n",
      "  warnings.warn(\n"
     ]
    },
    {
     "name": "stdout",
     "output_type": "stream",
     "text": [
      "[CV 4/5] END C=10, class_weight=balanced, dual=auto, fit_intercept=True, intercept_scaling=1, loss=squared_hinge, multi_class=crammer_singer, penalty=l1;, score=0.956 total time=  26.7s\n"
     ]
    },
    {
     "name": "stderr",
     "output_type": "stream",
     "text": [
      "C:\\Users\\never\\AppData\\Roaming\\Python\\Python311\\site-packages\\sklearn\\svm\\_base.py:1250: ConvergenceWarning: Liblinear failed to converge, increase the number of iterations.\n",
      "  warnings.warn(\n"
     ]
    },
    {
     "name": "stdout",
     "output_type": "stream",
     "text": [
      "[CV 5/5] END C=10, class_weight=balanced, dual=auto, fit_intercept=True, intercept_scaling=1, loss=squared_hinge, multi_class=crammer_singer, penalty=l1;, score=0.957 total time=  15.0s\n"
     ]
    },
    {
     "name": "stderr",
     "output_type": "stream",
     "text": [
      "C:\\Users\\never\\AppData\\Roaming\\Python\\Python311\\site-packages\\sklearn\\svm\\_base.py:1250: ConvergenceWarning: Liblinear failed to converge, increase the number of iterations.\n",
      "  warnings.warn(\n"
     ]
    },
    {
     "name": "stdout",
     "output_type": "stream",
     "text": [
      "[CV 1/5] END C=10, class_weight=balanced, dual=auto, fit_intercept=True, intercept_scaling=1, loss=squared_hinge, multi_class=crammer_singer, penalty=l2;, score=0.954 total time=  23.4s\n"
     ]
    },
    {
     "name": "stderr",
     "output_type": "stream",
     "text": [
      "C:\\Users\\never\\AppData\\Roaming\\Python\\Python311\\site-packages\\sklearn\\svm\\_base.py:1250: ConvergenceWarning: Liblinear failed to converge, increase the number of iterations.\n",
      "  warnings.warn(\n"
     ]
    },
    {
     "name": "stdout",
     "output_type": "stream",
     "text": [
      "[CV 2/5] END C=10, class_weight=balanced, dual=auto, fit_intercept=True, intercept_scaling=1, loss=squared_hinge, multi_class=crammer_singer, penalty=l2;, score=0.950 total time=  11.6s\n"
     ]
    },
    {
     "name": "stderr",
     "output_type": "stream",
     "text": [
      "C:\\Users\\never\\AppData\\Roaming\\Python\\Python311\\site-packages\\sklearn\\svm\\_base.py:1250: ConvergenceWarning: Liblinear failed to converge, increase the number of iterations.\n",
      "  warnings.warn(\n"
     ]
    },
    {
     "name": "stdout",
     "output_type": "stream",
     "text": [
      "[CV 3/5] END C=10, class_weight=balanced, dual=auto, fit_intercept=True, intercept_scaling=1, loss=squared_hinge, multi_class=crammer_singer, penalty=l2;, score=0.956 total time=  11.2s\n"
     ]
    },
    {
     "name": "stderr",
     "output_type": "stream",
     "text": [
      "C:\\Users\\never\\AppData\\Roaming\\Python\\Python311\\site-packages\\sklearn\\svm\\_base.py:1250: ConvergenceWarning: Liblinear failed to converge, increase the number of iterations.\n",
      "  warnings.warn(\n"
     ]
    },
    {
     "name": "stdout",
     "output_type": "stream",
     "text": [
      "[CV 4/5] END C=10, class_weight=balanced, dual=auto, fit_intercept=True, intercept_scaling=1, loss=squared_hinge, multi_class=crammer_singer, penalty=l2;, score=0.956 total time=  26.6s\n"
     ]
    },
    {
     "name": "stderr",
     "output_type": "stream",
     "text": [
      "C:\\Users\\never\\AppData\\Roaming\\Python\\Python311\\site-packages\\sklearn\\svm\\_base.py:1250: ConvergenceWarning: Liblinear failed to converge, increase the number of iterations.\n",
      "  warnings.warn(\n"
     ]
    },
    {
     "name": "stdout",
     "output_type": "stream",
     "text": [
      "[CV 5/5] END C=10, class_weight=balanced, dual=auto, fit_intercept=True, intercept_scaling=1, loss=squared_hinge, multi_class=crammer_singer, penalty=l2;, score=0.957 total time=  14.9s\n",
      "[CV 1/5] END C=10, class_weight=balanced, dual=auto, fit_intercept=True, intercept_scaling=1.5, loss=hinge, multi_class=ovr, penalty=l1;, score=nan total time=   1.7s\n",
      "[CV 2/5] END C=10, class_weight=balanced, dual=auto, fit_intercept=True, intercept_scaling=1.5, loss=hinge, multi_class=ovr, penalty=l1;, score=nan total time=   1.7s\n",
      "[CV 3/5] END C=10, class_weight=balanced, dual=auto, fit_intercept=True, intercept_scaling=1.5, loss=hinge, multi_class=ovr, penalty=l1;, score=nan total time=   1.7s\n",
      "[CV 4/5] END C=10, class_weight=balanced, dual=auto, fit_intercept=True, intercept_scaling=1.5, loss=hinge, multi_class=ovr, penalty=l1;, score=nan total time=   1.7s\n",
      "[CV 5/5] END C=10, class_weight=balanced, dual=auto, fit_intercept=True, intercept_scaling=1.5, loss=hinge, multi_class=ovr, penalty=l1;, score=nan total time=   1.7s\n",
      "[CV 1/5] END C=10, class_weight=balanced, dual=auto, fit_intercept=True, intercept_scaling=1.5, loss=hinge, multi_class=ovr, penalty=l2;, score=0.952 total time=  20.6s\n",
      "[CV 2/5] END C=10, class_weight=balanced, dual=auto, fit_intercept=True, intercept_scaling=1.5, loss=hinge, multi_class=ovr, penalty=l2;, score=0.953 total time=  12.6s\n",
      "[CV 3/5] END C=10, class_weight=balanced, dual=auto, fit_intercept=True, intercept_scaling=1.5, loss=hinge, multi_class=ovr, penalty=l2;, score=0.961 total time=  12.0s\n",
      "[CV 4/5] END C=10, class_weight=balanced, dual=auto, fit_intercept=True, intercept_scaling=1.5, loss=hinge, multi_class=ovr, penalty=l2;, score=0.958 total time=  16.1s\n",
      "[CV 5/5] END C=10, class_weight=balanced, dual=auto, fit_intercept=True, intercept_scaling=1.5, loss=hinge, multi_class=ovr, penalty=l2;, score=0.959 total time=  18.8s\n"
     ]
    },
    {
     "name": "stderr",
     "output_type": "stream",
     "text": [
      "C:\\Users\\never\\AppData\\Roaming\\Python\\Python311\\site-packages\\sklearn\\svm\\_base.py:1250: ConvergenceWarning: Liblinear failed to converge, increase the number of iterations.\n",
      "  warnings.warn(\n"
     ]
    },
    {
     "name": "stdout",
     "output_type": "stream",
     "text": [
      "[CV 1/5] END C=10, class_weight=balanced, dual=auto, fit_intercept=True, intercept_scaling=1.5, loss=hinge, multi_class=crammer_singer, penalty=l1;, score=0.954 total time=  17.8s\n"
     ]
    },
    {
     "name": "stderr",
     "output_type": "stream",
     "text": [
      "C:\\Users\\never\\AppData\\Roaming\\Python\\Python311\\site-packages\\sklearn\\svm\\_base.py:1250: ConvergenceWarning: Liblinear failed to converge, increase the number of iterations.\n",
      "  warnings.warn(\n"
     ]
    },
    {
     "name": "stdout",
     "output_type": "stream",
     "text": [
      "[CV 2/5] END C=10, class_weight=balanced, dual=auto, fit_intercept=True, intercept_scaling=1.5, loss=hinge, multi_class=crammer_singer, penalty=l1;, score=0.950 total time=  14.5s\n"
     ]
    },
    {
     "name": "stderr",
     "output_type": "stream",
     "text": [
      "C:\\Users\\never\\AppData\\Roaming\\Python\\Python311\\site-packages\\sklearn\\svm\\_base.py:1250: ConvergenceWarning: Liblinear failed to converge, increase the number of iterations.\n",
      "  warnings.warn(\n"
     ]
    },
    {
     "name": "stdout",
     "output_type": "stream",
     "text": [
      "[CV 3/5] END C=10, class_weight=balanced, dual=auto, fit_intercept=True, intercept_scaling=1.5, loss=hinge, multi_class=crammer_singer, penalty=l1;, score=0.956 total time=  12.7s\n"
     ]
    },
    {
     "name": "stderr",
     "output_type": "stream",
     "text": [
      "C:\\Users\\never\\AppData\\Roaming\\Python\\Python311\\site-packages\\sklearn\\svm\\_base.py:1250: ConvergenceWarning: Liblinear failed to converge, increase the number of iterations.\n",
      "  warnings.warn(\n"
     ]
    },
    {
     "name": "stdout",
     "output_type": "stream",
     "text": [
      "[CV 4/5] END C=10, class_weight=balanced, dual=auto, fit_intercept=True, intercept_scaling=1.5, loss=hinge, multi_class=crammer_singer, penalty=l1;, score=0.956 total time=  23.0s\n"
     ]
    },
    {
     "name": "stderr",
     "output_type": "stream",
     "text": [
      "C:\\Users\\never\\AppData\\Roaming\\Python\\Python311\\site-packages\\sklearn\\svm\\_base.py:1250: ConvergenceWarning: Liblinear failed to converge, increase the number of iterations.\n",
      "  warnings.warn(\n"
     ]
    },
    {
     "name": "stdout",
     "output_type": "stream",
     "text": [
      "[CV 5/5] END C=10, class_weight=balanced, dual=auto, fit_intercept=True, intercept_scaling=1.5, loss=hinge, multi_class=crammer_singer, penalty=l1;, score=0.957 total time=  24.3s\n"
     ]
    },
    {
     "name": "stderr",
     "output_type": "stream",
     "text": [
      "C:\\Users\\never\\AppData\\Roaming\\Python\\Python311\\site-packages\\sklearn\\svm\\_base.py:1250: ConvergenceWarning: Liblinear failed to converge, increase the number of iterations.\n",
      "  warnings.warn(\n"
     ]
    },
    {
     "name": "stdout",
     "output_type": "stream",
     "text": [
      "[CV 1/5] END C=10, class_weight=balanced, dual=auto, fit_intercept=True, intercept_scaling=1.5, loss=hinge, multi_class=crammer_singer, penalty=l2;, score=0.954 total time=  17.8s\n"
     ]
    },
    {
     "name": "stderr",
     "output_type": "stream",
     "text": [
      "C:\\Users\\never\\AppData\\Roaming\\Python\\Python311\\site-packages\\sklearn\\svm\\_base.py:1250: ConvergenceWarning: Liblinear failed to converge, increase the number of iterations.\n",
      "  warnings.warn(\n"
     ]
    },
    {
     "name": "stdout",
     "output_type": "stream",
     "text": [
      "[CV 2/5] END C=10, class_weight=balanced, dual=auto, fit_intercept=True, intercept_scaling=1.5, loss=hinge, multi_class=crammer_singer, penalty=l2;, score=0.950 total time=  14.3s\n"
     ]
    },
    {
     "name": "stderr",
     "output_type": "stream",
     "text": [
      "C:\\Users\\never\\AppData\\Roaming\\Python\\Python311\\site-packages\\sklearn\\svm\\_base.py:1250: ConvergenceWarning: Liblinear failed to converge, increase the number of iterations.\n",
      "  warnings.warn(\n"
     ]
    },
    {
     "name": "stdout",
     "output_type": "stream",
     "text": [
      "[CV 3/5] END C=10, class_weight=balanced, dual=auto, fit_intercept=True, intercept_scaling=1.5, loss=hinge, multi_class=crammer_singer, penalty=l2;, score=0.956 total time=  12.6s\n"
     ]
    },
    {
     "name": "stderr",
     "output_type": "stream",
     "text": [
      "C:\\Users\\never\\AppData\\Roaming\\Python\\Python311\\site-packages\\sklearn\\svm\\_base.py:1250: ConvergenceWarning: Liblinear failed to converge, increase the number of iterations.\n",
      "  warnings.warn(\n"
     ]
    },
    {
     "name": "stdout",
     "output_type": "stream",
     "text": [
      "[CV 4/5] END C=10, class_weight=balanced, dual=auto, fit_intercept=True, intercept_scaling=1.5, loss=hinge, multi_class=crammer_singer, penalty=l2;, score=0.956 total time=  23.0s\n"
     ]
    },
    {
     "name": "stderr",
     "output_type": "stream",
     "text": [
      "C:\\Users\\never\\AppData\\Roaming\\Python\\Python311\\site-packages\\sklearn\\svm\\_base.py:1250: ConvergenceWarning: Liblinear failed to converge, increase the number of iterations.\n",
      "  warnings.warn(\n"
     ]
    },
    {
     "name": "stdout",
     "output_type": "stream",
     "text": [
      "[CV 5/5] END C=10, class_weight=balanced, dual=auto, fit_intercept=True, intercept_scaling=1.5, loss=hinge, multi_class=crammer_singer, penalty=l2;, score=0.957 total time=  23.9s\n",
      "[CV 1/5] END C=10, class_weight=balanced, dual=auto, fit_intercept=True, intercept_scaling=1.5, loss=squared_hinge, multi_class=ovr, penalty=l1;, score=0.957 total time=  27.3s\n",
      "[CV 2/5] END C=10, class_weight=balanced, dual=auto, fit_intercept=True, intercept_scaling=1.5, loss=squared_hinge, multi_class=ovr, penalty=l1;, score=0.952 total time=  23.4s\n",
      "[CV 3/5] END C=10, class_weight=balanced, dual=auto, fit_intercept=True, intercept_scaling=1.5, loss=squared_hinge, multi_class=ovr, penalty=l1;, score=0.962 total time=  24.5s\n",
      "[CV 4/5] END C=10, class_weight=balanced, dual=auto, fit_intercept=True, intercept_scaling=1.5, loss=squared_hinge, multi_class=ovr, penalty=l1;, score=0.960 total time=  24.2s\n",
      "[CV 5/5] END C=10, class_weight=balanced, dual=auto, fit_intercept=True, intercept_scaling=1.5, loss=squared_hinge, multi_class=ovr, penalty=l1;, score=0.960 total time=  21.6s\n",
      "[CV 1/5] END C=10, class_weight=balanced, dual=auto, fit_intercept=True, intercept_scaling=1.5, loss=squared_hinge, multi_class=ovr, penalty=l2;, score=0.955 total time=  34.4s\n",
      "[CV 2/5] END C=10, class_weight=balanced, dual=auto, fit_intercept=True, intercept_scaling=1.5, loss=squared_hinge, multi_class=ovr, penalty=l2;, score=0.953 total time=  29.7s\n",
      "[CV 3/5] END C=10, class_weight=balanced, dual=auto, fit_intercept=True, intercept_scaling=1.5, loss=squared_hinge, multi_class=ovr, penalty=l2;, score=0.959 total time=  30.3s\n",
      "[CV 4/5] END C=10, class_weight=balanced, dual=auto, fit_intercept=True, intercept_scaling=1.5, loss=squared_hinge, multi_class=ovr, penalty=l2;, score=0.960 total time=  32.6s\n",
      "[CV 5/5] END C=10, class_weight=balanced, dual=auto, fit_intercept=True, intercept_scaling=1.5, loss=squared_hinge, multi_class=ovr, penalty=l2;, score=0.958 total time=  32.6s\n"
     ]
    },
    {
     "name": "stderr",
     "output_type": "stream",
     "text": [
      "C:\\Users\\never\\AppData\\Roaming\\Python\\Python311\\site-packages\\sklearn\\svm\\_base.py:1250: ConvergenceWarning: Liblinear failed to converge, increase the number of iterations.\n",
      "  warnings.warn(\n"
     ]
    },
    {
     "name": "stdout",
     "output_type": "stream",
     "text": [
      "[CV 1/5] END C=10, class_weight=balanced, dual=auto, fit_intercept=True, intercept_scaling=1.5, loss=squared_hinge, multi_class=crammer_singer, penalty=l1;, score=0.954 total time=  17.6s\n"
     ]
    },
    {
     "name": "stderr",
     "output_type": "stream",
     "text": [
      "C:\\Users\\never\\AppData\\Roaming\\Python\\Python311\\site-packages\\sklearn\\svm\\_base.py:1250: ConvergenceWarning: Liblinear failed to converge, increase the number of iterations.\n",
      "  warnings.warn(\n"
     ]
    },
    {
     "name": "stdout",
     "output_type": "stream",
     "text": [
      "[CV 2/5] END C=10, class_weight=balanced, dual=auto, fit_intercept=True, intercept_scaling=1.5, loss=squared_hinge, multi_class=crammer_singer, penalty=l1;, score=0.950 total time=  14.4s\n"
     ]
    },
    {
     "name": "stderr",
     "output_type": "stream",
     "text": [
      "C:\\Users\\never\\AppData\\Roaming\\Python\\Python311\\site-packages\\sklearn\\svm\\_base.py:1250: ConvergenceWarning: Liblinear failed to converge, increase the number of iterations.\n",
      "  warnings.warn(\n"
     ]
    },
    {
     "name": "stdout",
     "output_type": "stream",
     "text": [
      "[CV 3/5] END C=10, class_weight=balanced, dual=auto, fit_intercept=True, intercept_scaling=1.5, loss=squared_hinge, multi_class=crammer_singer, penalty=l1;, score=0.956 total time=  12.6s\n"
     ]
    },
    {
     "name": "stderr",
     "output_type": "stream",
     "text": [
      "C:\\Users\\never\\AppData\\Roaming\\Python\\Python311\\site-packages\\sklearn\\svm\\_base.py:1250: ConvergenceWarning: Liblinear failed to converge, increase the number of iterations.\n",
      "  warnings.warn(\n"
     ]
    },
    {
     "name": "stdout",
     "output_type": "stream",
     "text": [
      "[CV 4/5] END C=10, class_weight=balanced, dual=auto, fit_intercept=True, intercept_scaling=1.5, loss=squared_hinge, multi_class=crammer_singer, penalty=l1;, score=0.956 total time=  22.7s\n"
     ]
    },
    {
     "name": "stderr",
     "output_type": "stream",
     "text": [
      "C:\\Users\\never\\AppData\\Roaming\\Python\\Python311\\site-packages\\sklearn\\svm\\_base.py:1250: ConvergenceWarning: Liblinear failed to converge, increase the number of iterations.\n",
      "  warnings.warn(\n"
     ]
    },
    {
     "name": "stdout",
     "output_type": "stream",
     "text": [
      "[CV 5/5] END C=10, class_weight=balanced, dual=auto, fit_intercept=True, intercept_scaling=1.5, loss=squared_hinge, multi_class=crammer_singer, penalty=l1;, score=0.957 total time=  23.4s\n"
     ]
    },
    {
     "name": "stderr",
     "output_type": "stream",
     "text": [
      "C:\\Users\\never\\AppData\\Roaming\\Python\\Python311\\site-packages\\sklearn\\svm\\_base.py:1250: ConvergenceWarning: Liblinear failed to converge, increase the number of iterations.\n",
      "  warnings.warn(\n"
     ]
    },
    {
     "name": "stdout",
     "output_type": "stream",
     "text": [
      "[CV 1/5] END C=10, class_weight=balanced, dual=auto, fit_intercept=True, intercept_scaling=1.5, loss=squared_hinge, multi_class=crammer_singer, penalty=l2;, score=0.954 total time=  17.7s\n"
     ]
    },
    {
     "name": "stderr",
     "output_type": "stream",
     "text": [
      "C:\\Users\\never\\AppData\\Roaming\\Python\\Python311\\site-packages\\sklearn\\svm\\_base.py:1250: ConvergenceWarning: Liblinear failed to converge, increase the number of iterations.\n",
      "  warnings.warn(\n"
     ]
    },
    {
     "name": "stdout",
     "output_type": "stream",
     "text": [
      "[CV 2/5] END C=10, class_weight=balanced, dual=auto, fit_intercept=True, intercept_scaling=1.5, loss=squared_hinge, multi_class=crammer_singer, penalty=l2;, score=0.950 total time=  14.6s\n"
     ]
    },
    {
     "name": "stderr",
     "output_type": "stream",
     "text": [
      "C:\\Users\\never\\AppData\\Roaming\\Python\\Python311\\site-packages\\sklearn\\svm\\_base.py:1250: ConvergenceWarning: Liblinear failed to converge, increase the number of iterations.\n",
      "  warnings.warn(\n"
     ]
    },
    {
     "name": "stdout",
     "output_type": "stream",
     "text": [
      "[CV 3/5] END C=10, class_weight=balanced, dual=auto, fit_intercept=True, intercept_scaling=1.5, loss=squared_hinge, multi_class=crammer_singer, penalty=l2;, score=0.956 total time=  12.9s\n"
     ]
    },
    {
     "name": "stderr",
     "output_type": "stream",
     "text": [
      "C:\\Users\\never\\AppData\\Roaming\\Python\\Python311\\site-packages\\sklearn\\svm\\_base.py:1250: ConvergenceWarning: Liblinear failed to converge, increase the number of iterations.\n",
      "  warnings.warn(\n"
     ]
    },
    {
     "name": "stdout",
     "output_type": "stream",
     "text": [
      "[CV 4/5] END C=10, class_weight=balanced, dual=auto, fit_intercept=True, intercept_scaling=1.5, loss=squared_hinge, multi_class=crammer_singer, penalty=l2;, score=0.956 total time=  22.7s\n"
     ]
    },
    {
     "name": "stderr",
     "output_type": "stream",
     "text": [
      "C:\\Users\\never\\AppData\\Roaming\\Python\\Python311\\site-packages\\sklearn\\svm\\_base.py:1250: ConvergenceWarning: Liblinear failed to converge, increase the number of iterations.\n",
      "  warnings.warn(\n"
     ]
    },
    {
     "name": "stdout",
     "output_type": "stream",
     "text": [
      "[CV 5/5] END C=10, class_weight=balanced, dual=auto, fit_intercept=True, intercept_scaling=1.5, loss=squared_hinge, multi_class=crammer_singer, penalty=l2;, score=0.957 total time=  24.0s\n",
      "[CV 1/5] END C=10, class_weight=balanced, dual=auto, fit_intercept=True, intercept_scaling=2, loss=hinge, multi_class=ovr, penalty=l1;, score=nan total time=   1.7s\n",
      "[CV 2/5] END C=10, class_weight=balanced, dual=auto, fit_intercept=True, intercept_scaling=2, loss=hinge, multi_class=ovr, penalty=l1;, score=nan total time=   1.7s\n",
      "[CV 3/5] END C=10, class_weight=balanced, dual=auto, fit_intercept=True, intercept_scaling=2, loss=hinge, multi_class=ovr, penalty=l1;, score=nan total time=   1.6s\n",
      "[CV 4/5] END C=10, class_weight=balanced, dual=auto, fit_intercept=True, intercept_scaling=2, loss=hinge, multi_class=ovr, penalty=l1;, score=nan total time=   1.7s\n",
      "[CV 5/5] END C=10, class_weight=balanced, dual=auto, fit_intercept=True, intercept_scaling=2, loss=hinge, multi_class=ovr, penalty=l1;, score=nan total time=   1.7s\n",
      "[CV 1/5] END C=10, class_weight=balanced, dual=auto, fit_intercept=True, intercept_scaling=2, loss=hinge, multi_class=ovr, penalty=l2;, score=0.952 total time=  24.1s\n",
      "[CV 2/5] END C=10, class_weight=balanced, dual=auto, fit_intercept=True, intercept_scaling=2, loss=hinge, multi_class=ovr, penalty=l2;, score=0.953 total time=  13.9s\n",
      "[CV 3/5] END C=10, class_weight=balanced, dual=auto, fit_intercept=True, intercept_scaling=2, loss=hinge, multi_class=ovr, penalty=l2;, score=0.961 total time=  15.0s\n",
      "[CV 4/5] END C=10, class_weight=balanced, dual=auto, fit_intercept=True, intercept_scaling=2, loss=hinge, multi_class=ovr, penalty=l2;, score=0.958 total time=  19.4s\n"
     ]
    },
    {
     "name": "stderr",
     "output_type": "stream",
     "text": [
      "C:\\Users\\never\\AppData\\Roaming\\Python\\Python311\\site-packages\\sklearn\\svm\\_base.py:1250: ConvergenceWarning: Liblinear failed to converge, increase the number of iterations.\n",
      "  warnings.warn(\n"
     ]
    },
    {
     "name": "stdout",
     "output_type": "stream",
     "text": [
      "[CV 5/5] END C=10, class_weight=balanced, dual=auto, fit_intercept=True, intercept_scaling=2, loss=hinge, multi_class=ovr, penalty=l2;, score=0.959 total time=  21.5s\n"
     ]
    },
    {
     "name": "stderr",
     "output_type": "stream",
     "text": [
      "C:\\Users\\never\\AppData\\Roaming\\Python\\Python311\\site-packages\\sklearn\\svm\\_base.py:1250: ConvergenceWarning: Liblinear failed to converge, increase the number of iterations.\n",
      "  warnings.warn(\n"
     ]
    },
    {
     "name": "stdout",
     "output_type": "stream",
     "text": [
      "[CV 1/5] END C=10, class_weight=balanced, dual=auto, fit_intercept=True, intercept_scaling=2, loss=hinge, multi_class=crammer_singer, penalty=l1;, score=0.954 total time=  54.0s\n"
     ]
    },
    {
     "name": "stderr",
     "output_type": "stream",
     "text": [
      "C:\\Users\\never\\AppData\\Roaming\\Python\\Python311\\site-packages\\sklearn\\svm\\_base.py:1250: ConvergenceWarning: Liblinear failed to converge, increase the number of iterations.\n",
      "  warnings.warn(\n"
     ]
    },
    {
     "name": "stdout",
     "output_type": "stream",
     "text": [
      "[CV 2/5] END C=10, class_weight=balanced, dual=auto, fit_intercept=True, intercept_scaling=2, loss=hinge, multi_class=crammer_singer, penalty=l1;, score=0.950 total time=  15.6s\n"
     ]
    },
    {
     "name": "stderr",
     "output_type": "stream",
     "text": [
      "C:\\Users\\never\\AppData\\Roaming\\Python\\Python311\\site-packages\\sklearn\\svm\\_base.py:1250: ConvergenceWarning: Liblinear failed to converge, increase the number of iterations.\n",
      "  warnings.warn(\n"
     ]
    },
    {
     "name": "stdout",
     "output_type": "stream",
     "text": [
      "[CV 3/5] END C=10, class_weight=balanced, dual=auto, fit_intercept=True, intercept_scaling=2, loss=hinge, multi_class=crammer_singer, penalty=l1;, score=0.956 total time=  15.7s\n"
     ]
    },
    {
     "name": "stderr",
     "output_type": "stream",
     "text": [
      "C:\\Users\\never\\AppData\\Roaming\\Python\\Python311\\site-packages\\sklearn\\svm\\_base.py:1250: ConvergenceWarning: Liblinear failed to converge, increase the number of iterations.\n",
      "  warnings.warn(\n"
     ]
    },
    {
     "name": "stdout",
     "output_type": "stream",
     "text": [
      "[CV 4/5] END C=10, class_weight=balanced, dual=auto, fit_intercept=True, intercept_scaling=2, loss=hinge, multi_class=crammer_singer, penalty=l1;, score=0.956 total time=  37.8s\n"
     ]
    },
    {
     "name": "stderr",
     "output_type": "stream",
     "text": [
      "C:\\Users\\never\\AppData\\Roaming\\Python\\Python311\\site-packages\\sklearn\\svm\\_base.py:1250: ConvergenceWarning: Liblinear failed to converge, increase the number of iterations.\n",
      "  warnings.warn(\n"
     ]
    },
    {
     "name": "stdout",
     "output_type": "stream",
     "text": [
      "[CV 5/5] END C=10, class_weight=balanced, dual=auto, fit_intercept=True, intercept_scaling=2, loss=hinge, multi_class=crammer_singer, penalty=l1;, score=0.957 total time=  27.4s\n"
     ]
    },
    {
     "name": "stderr",
     "output_type": "stream",
     "text": [
      "C:\\Users\\never\\AppData\\Roaming\\Python\\Python311\\site-packages\\sklearn\\svm\\_base.py:1250: ConvergenceWarning: Liblinear failed to converge, increase the number of iterations.\n",
      "  warnings.warn(\n"
     ]
    },
    {
     "name": "stdout",
     "output_type": "stream",
     "text": [
      "[CV 1/5] END C=10, class_weight=balanced, dual=auto, fit_intercept=True, intercept_scaling=2, loss=hinge, multi_class=crammer_singer, penalty=l2;, score=0.954 total time=  55.2s\n"
     ]
    },
    {
     "name": "stderr",
     "output_type": "stream",
     "text": [
      "C:\\Users\\never\\AppData\\Roaming\\Python\\Python311\\site-packages\\sklearn\\svm\\_base.py:1250: ConvergenceWarning: Liblinear failed to converge, increase the number of iterations.\n",
      "  warnings.warn(\n"
     ]
    },
    {
     "name": "stdout",
     "output_type": "stream",
     "text": [
      "[CV 2/5] END C=10, class_weight=balanced, dual=auto, fit_intercept=True, intercept_scaling=2, loss=hinge, multi_class=crammer_singer, penalty=l2;, score=0.950 total time=  15.3s\n"
     ]
    },
    {
     "name": "stderr",
     "output_type": "stream",
     "text": [
      "C:\\Users\\never\\AppData\\Roaming\\Python\\Python311\\site-packages\\sklearn\\svm\\_base.py:1250: ConvergenceWarning: Liblinear failed to converge, increase the number of iterations.\n",
      "  warnings.warn(\n"
     ]
    },
    {
     "name": "stdout",
     "output_type": "stream",
     "text": [
      "[CV 3/5] END C=10, class_weight=balanced, dual=auto, fit_intercept=True, intercept_scaling=2, loss=hinge, multi_class=crammer_singer, penalty=l2;, score=0.956 total time=  16.2s\n"
     ]
    },
    {
     "name": "stderr",
     "output_type": "stream",
     "text": [
      "C:\\Users\\never\\AppData\\Roaming\\Python\\Python311\\site-packages\\sklearn\\svm\\_base.py:1250: ConvergenceWarning: Liblinear failed to converge, increase the number of iterations.\n",
      "  warnings.warn(\n"
     ]
    },
    {
     "name": "stdout",
     "output_type": "stream",
     "text": [
      "[CV 4/5] END C=10, class_weight=balanced, dual=auto, fit_intercept=True, intercept_scaling=2, loss=hinge, multi_class=crammer_singer, penalty=l2;, score=0.956 total time=  40.1s\n"
     ]
    },
    {
     "name": "stderr",
     "output_type": "stream",
     "text": [
      "C:\\Users\\never\\AppData\\Roaming\\Python\\Python311\\site-packages\\sklearn\\svm\\_base.py:1250: ConvergenceWarning: Liblinear failed to converge, increase the number of iterations.\n",
      "  warnings.warn(\n"
     ]
    },
    {
     "name": "stdout",
     "output_type": "stream",
     "text": [
      "[CV 5/5] END C=10, class_weight=balanced, dual=auto, fit_intercept=True, intercept_scaling=2, loss=hinge, multi_class=crammer_singer, penalty=l2;, score=0.957 total time=  27.0s\n",
      "[CV 1/5] END C=10, class_weight=balanced, dual=auto, fit_intercept=True, intercept_scaling=2, loss=squared_hinge, multi_class=ovr, penalty=l1;, score=0.957 total time=  27.2s\n",
      "[CV 2/5] END C=10, class_weight=balanced, dual=auto, fit_intercept=True, intercept_scaling=2, loss=squared_hinge, multi_class=ovr, penalty=l1;, score=0.951 total time=  23.8s\n",
      "[CV 3/5] END C=10, class_weight=balanced, dual=auto, fit_intercept=True, intercept_scaling=2, loss=squared_hinge, multi_class=ovr, penalty=l1;, score=0.961 total time=  24.0s\n",
      "[CV 4/5] END C=10, class_weight=balanced, dual=auto, fit_intercept=True, intercept_scaling=2, loss=squared_hinge, multi_class=ovr, penalty=l1;, score=0.960 total time=  24.3s\n",
      "[CV 5/5] END C=10, class_weight=balanced, dual=auto, fit_intercept=True, intercept_scaling=2, loss=squared_hinge, multi_class=ovr, penalty=l1;, score=0.959 total time=  22.7s\n",
      "[CV 1/5] END C=10, class_weight=balanced, dual=auto, fit_intercept=True, intercept_scaling=2, loss=squared_hinge, multi_class=ovr, penalty=l2;, score=0.955 total time=  28.5s\n",
      "[CV 2/5] END C=10, class_weight=balanced, dual=auto, fit_intercept=True, intercept_scaling=2, loss=squared_hinge, multi_class=ovr, penalty=l2;, score=0.954 total time=  24.7s\n",
      "[CV 3/5] END C=10, class_weight=balanced, dual=auto, fit_intercept=True, intercept_scaling=2, loss=squared_hinge, multi_class=ovr, penalty=l2;, score=0.959 total time=  27.1s\n",
      "[CV 4/5] END C=10, class_weight=balanced, dual=auto, fit_intercept=True, intercept_scaling=2, loss=squared_hinge, multi_class=ovr, penalty=l2;, score=0.960 total time=  28.9s\n",
      "[CV 5/5] END C=10, class_weight=balanced, dual=auto, fit_intercept=True, intercept_scaling=2, loss=squared_hinge, multi_class=ovr, penalty=l2;, score=0.959 total time=  27.1s\n"
     ]
    },
    {
     "name": "stderr",
     "output_type": "stream",
     "text": [
      "C:\\Users\\never\\AppData\\Roaming\\Python\\Python311\\site-packages\\sklearn\\svm\\_base.py:1250: ConvergenceWarning: Liblinear failed to converge, increase the number of iterations.\n",
      "  warnings.warn(\n"
     ]
    },
    {
     "name": "stdout",
     "output_type": "stream",
     "text": [
      "[CV 1/5] END C=10, class_weight=balanced, dual=auto, fit_intercept=True, intercept_scaling=2, loss=squared_hinge, multi_class=crammer_singer, penalty=l1;, score=0.954 total time=  54.0s\n"
     ]
    },
    {
     "name": "stderr",
     "output_type": "stream",
     "text": [
      "C:\\Users\\never\\AppData\\Roaming\\Python\\Python311\\site-packages\\sklearn\\svm\\_base.py:1250: ConvergenceWarning: Liblinear failed to converge, increase the number of iterations.\n",
      "  warnings.warn(\n"
     ]
    },
    {
     "name": "stdout",
     "output_type": "stream",
     "text": [
      "[CV 2/5] END C=10, class_weight=balanced, dual=auto, fit_intercept=True, intercept_scaling=2, loss=squared_hinge, multi_class=crammer_singer, penalty=l1;, score=0.950 total time=  15.3s\n"
     ]
    },
    {
     "name": "stderr",
     "output_type": "stream",
     "text": [
      "C:\\Users\\never\\AppData\\Roaming\\Python\\Python311\\site-packages\\sklearn\\svm\\_base.py:1250: ConvergenceWarning: Liblinear failed to converge, increase the number of iterations.\n",
      "  warnings.warn(\n"
     ]
    },
    {
     "name": "stdout",
     "output_type": "stream",
     "text": [
      "[CV 3/5] END C=10, class_weight=balanced, dual=auto, fit_intercept=True, intercept_scaling=2, loss=squared_hinge, multi_class=crammer_singer, penalty=l1;, score=0.956 total time=  15.3s\n"
     ]
    },
    {
     "name": "stderr",
     "output_type": "stream",
     "text": [
      "C:\\Users\\never\\AppData\\Roaming\\Python\\Python311\\site-packages\\sklearn\\svm\\_base.py:1250: ConvergenceWarning: Liblinear failed to converge, increase the number of iterations.\n",
      "  warnings.warn(\n"
     ]
    },
    {
     "name": "stdout",
     "output_type": "stream",
     "text": [
      "[CV 4/5] END C=10, class_weight=balanced, dual=auto, fit_intercept=True, intercept_scaling=2, loss=squared_hinge, multi_class=crammer_singer, penalty=l1;, score=0.956 total time=  37.6s\n"
     ]
    },
    {
     "name": "stderr",
     "output_type": "stream",
     "text": [
      "C:\\Users\\never\\AppData\\Roaming\\Python\\Python311\\site-packages\\sklearn\\svm\\_base.py:1250: ConvergenceWarning: Liblinear failed to converge, increase the number of iterations.\n",
      "  warnings.warn(\n"
     ]
    },
    {
     "name": "stdout",
     "output_type": "stream",
     "text": [
      "[CV 5/5] END C=10, class_weight=balanced, dual=auto, fit_intercept=True, intercept_scaling=2, loss=squared_hinge, multi_class=crammer_singer, penalty=l1;, score=0.957 total time=  27.4s\n"
     ]
    },
    {
     "name": "stderr",
     "output_type": "stream",
     "text": [
      "C:\\Users\\never\\AppData\\Roaming\\Python\\Python311\\site-packages\\sklearn\\svm\\_base.py:1250: ConvergenceWarning: Liblinear failed to converge, increase the number of iterations.\n",
      "  warnings.warn(\n"
     ]
    },
    {
     "name": "stdout",
     "output_type": "stream",
     "text": [
      "[CV 1/5] END C=10, class_weight=balanced, dual=auto, fit_intercept=True, intercept_scaling=2, loss=squared_hinge, multi_class=crammer_singer, penalty=l2;, score=0.954 total time=  55.8s\n"
     ]
    },
    {
     "name": "stderr",
     "output_type": "stream",
     "text": [
      "C:\\Users\\never\\AppData\\Roaming\\Python\\Python311\\site-packages\\sklearn\\svm\\_base.py:1250: ConvergenceWarning: Liblinear failed to converge, increase the number of iterations.\n",
      "  warnings.warn(\n"
     ]
    },
    {
     "name": "stdout",
     "output_type": "stream",
     "text": [
      "[CV 2/5] END C=10, class_weight=balanced, dual=auto, fit_intercept=True, intercept_scaling=2, loss=squared_hinge, multi_class=crammer_singer, penalty=l2;, score=0.950 total time=  15.4s\n"
     ]
    },
    {
     "name": "stderr",
     "output_type": "stream",
     "text": [
      "C:\\Users\\never\\AppData\\Roaming\\Python\\Python311\\site-packages\\sklearn\\svm\\_base.py:1250: ConvergenceWarning: Liblinear failed to converge, increase the number of iterations.\n",
      "  warnings.warn(\n"
     ]
    },
    {
     "name": "stdout",
     "output_type": "stream",
     "text": [
      "[CV 3/5] END C=10, class_weight=balanced, dual=auto, fit_intercept=True, intercept_scaling=2, loss=squared_hinge, multi_class=crammer_singer, penalty=l2;, score=0.956 total time=  15.6s\n"
     ]
    },
    {
     "name": "stderr",
     "output_type": "stream",
     "text": [
      "C:\\Users\\never\\AppData\\Roaming\\Python\\Python311\\site-packages\\sklearn\\svm\\_base.py:1250: ConvergenceWarning: Liblinear failed to converge, increase the number of iterations.\n",
      "  warnings.warn(\n"
     ]
    },
    {
     "name": "stdout",
     "output_type": "stream",
     "text": [
      "[CV 4/5] END C=10, class_weight=balanced, dual=auto, fit_intercept=True, intercept_scaling=2, loss=squared_hinge, multi_class=crammer_singer, penalty=l2;, score=0.956 total time=  37.4s\n"
     ]
    },
    {
     "name": "stderr",
     "output_type": "stream",
     "text": [
      "C:\\Users\\never\\AppData\\Roaming\\Python\\Python311\\site-packages\\sklearn\\svm\\_base.py:1250: ConvergenceWarning: Liblinear failed to converge, increase the number of iterations.\n",
      "  warnings.warn(\n"
     ]
    },
    {
     "name": "stdout",
     "output_type": "stream",
     "text": [
      "[CV 5/5] END C=10, class_weight=balanced, dual=auto, fit_intercept=True, intercept_scaling=2, loss=squared_hinge, multi_class=crammer_singer, penalty=l2;, score=0.957 total time=  29.3s\n",
      "[CV 1/5] END C=10, class_weight=balanced, dual=auto, fit_intercept=False, intercept_scaling=1, loss=hinge, multi_class=ovr, penalty=l1;, score=nan total time=   1.7s\n",
      "[CV 2/5] END C=10, class_weight=balanced, dual=auto, fit_intercept=False, intercept_scaling=1, loss=hinge, multi_class=ovr, penalty=l1;, score=nan total time=   1.7s\n",
      "[CV 3/5] END C=10, class_weight=balanced, dual=auto, fit_intercept=False, intercept_scaling=1, loss=hinge, multi_class=ovr, penalty=l1;, score=nan total time=   1.7s\n",
      "[CV 4/5] END C=10, class_weight=balanced, dual=auto, fit_intercept=False, intercept_scaling=1, loss=hinge, multi_class=ovr, penalty=l1;, score=nan total time=   1.7s\n",
      "[CV 5/5] END C=10, class_weight=balanced, dual=auto, fit_intercept=False, intercept_scaling=1, loss=hinge, multi_class=ovr, penalty=l1;, score=nan total time=   1.7s\n",
      "[CV 1/5] END C=10, class_weight=balanced, dual=auto, fit_intercept=False, intercept_scaling=1, loss=hinge, multi_class=ovr, penalty=l2;, score=0.950 total time=  10.7s\n",
      "[CV 2/5] END C=10, class_weight=balanced, dual=auto, fit_intercept=False, intercept_scaling=1, loss=hinge, multi_class=ovr, penalty=l2;, score=0.952 total time=   9.4s\n",
      "[CV 3/5] END C=10, class_weight=balanced, dual=auto, fit_intercept=False, intercept_scaling=1, loss=hinge, multi_class=ovr, penalty=l2;, score=0.956 total time=   8.9s\n",
      "[CV 4/5] END C=10, class_weight=balanced, dual=auto, fit_intercept=False, intercept_scaling=1, loss=hinge, multi_class=ovr, penalty=l2;, score=0.957 total time=   8.3s\n",
      "[CV 5/5] END C=10, class_weight=balanced, dual=auto, fit_intercept=False, intercept_scaling=1, loss=hinge, multi_class=ovr, penalty=l2;, score=0.955 total time=  10.6s\n"
     ]
    },
    {
     "name": "stderr",
     "output_type": "stream",
     "text": [
      "C:\\Users\\never\\AppData\\Roaming\\Python\\Python311\\site-packages\\sklearn\\svm\\_base.py:1250: ConvergenceWarning: Liblinear failed to converge, increase the number of iterations.\n",
      "  warnings.warn(\n"
     ]
    },
    {
     "name": "stdout",
     "output_type": "stream",
     "text": [
      "[CV 1/5] END C=10, class_weight=balanced, dual=auto, fit_intercept=False, intercept_scaling=1, loss=hinge, multi_class=crammer_singer, penalty=l1;, score=0.951 total time=  12.8s\n"
     ]
    },
    {
     "name": "stderr",
     "output_type": "stream",
     "text": [
      "C:\\Users\\never\\AppData\\Roaming\\Python\\Python311\\site-packages\\sklearn\\svm\\_base.py:1250: ConvergenceWarning: Liblinear failed to converge, increase the number of iterations.\n",
      "  warnings.warn(\n"
     ]
    },
    {
     "name": "stdout",
     "output_type": "stream",
     "text": [
      "[CV 2/5] END C=10, class_weight=balanced, dual=auto, fit_intercept=False, intercept_scaling=1, loss=hinge, multi_class=crammer_singer, penalty=l1;, score=0.948 total time=  16.8s\n"
     ]
    },
    {
     "name": "stderr",
     "output_type": "stream",
     "text": [
      "C:\\Users\\never\\AppData\\Roaming\\Python\\Python311\\site-packages\\sklearn\\svm\\_base.py:1250: ConvergenceWarning: Liblinear failed to converge, increase the number of iterations.\n",
      "  warnings.warn(\n"
     ]
    },
    {
     "name": "stdout",
     "output_type": "stream",
     "text": [
      "[CV 3/5] END C=10, class_weight=balanced, dual=auto, fit_intercept=False, intercept_scaling=1, loss=hinge, multi_class=crammer_singer, penalty=l1;, score=0.955 total time=  10.4s\n"
     ]
    },
    {
     "name": "stderr",
     "output_type": "stream",
     "text": [
      "C:\\Users\\never\\AppData\\Roaming\\Python\\Python311\\site-packages\\sklearn\\svm\\_base.py:1250: ConvergenceWarning: Liblinear failed to converge, increase the number of iterations.\n",
      "  warnings.warn(\n"
     ]
    },
    {
     "name": "stdout",
     "output_type": "stream",
     "text": [
      "[CV 4/5] END C=10, class_weight=balanced, dual=auto, fit_intercept=False, intercept_scaling=1, loss=hinge, multi_class=crammer_singer, penalty=l1;, score=0.955 total time=  18.0s\n"
     ]
    },
    {
     "name": "stderr",
     "output_type": "stream",
     "text": [
      "C:\\Users\\never\\AppData\\Roaming\\Python\\Python311\\site-packages\\sklearn\\svm\\_base.py:1250: ConvergenceWarning: Liblinear failed to converge, increase the number of iterations.\n",
      "  warnings.warn(\n"
     ]
    },
    {
     "name": "stdout",
     "output_type": "stream",
     "text": [
      "[CV 5/5] END C=10, class_weight=balanced, dual=auto, fit_intercept=False, intercept_scaling=1, loss=hinge, multi_class=crammer_singer, penalty=l1;, score=0.956 total time=  17.5s\n"
     ]
    },
    {
     "name": "stderr",
     "output_type": "stream",
     "text": [
      "C:\\Users\\never\\AppData\\Roaming\\Python\\Python311\\site-packages\\sklearn\\svm\\_base.py:1250: ConvergenceWarning: Liblinear failed to converge, increase the number of iterations.\n",
      "  warnings.warn(\n"
     ]
    },
    {
     "name": "stdout",
     "output_type": "stream",
     "text": [
      "[CV 1/5] END C=10, class_weight=balanced, dual=auto, fit_intercept=False, intercept_scaling=1, loss=hinge, multi_class=crammer_singer, penalty=l2;, score=0.951 total time=  13.1s\n"
     ]
    },
    {
     "name": "stderr",
     "output_type": "stream",
     "text": [
      "C:\\Users\\never\\AppData\\Roaming\\Python\\Python311\\site-packages\\sklearn\\svm\\_base.py:1250: ConvergenceWarning: Liblinear failed to converge, increase the number of iterations.\n",
      "  warnings.warn(\n"
     ]
    },
    {
     "name": "stdout",
     "output_type": "stream",
     "text": [
      "[CV 2/5] END C=10, class_weight=balanced, dual=auto, fit_intercept=False, intercept_scaling=1, loss=hinge, multi_class=crammer_singer, penalty=l2;, score=0.948 total time=  16.2s\n"
     ]
    },
    {
     "name": "stderr",
     "output_type": "stream",
     "text": [
      "C:\\Users\\never\\AppData\\Roaming\\Python\\Python311\\site-packages\\sklearn\\svm\\_base.py:1250: ConvergenceWarning: Liblinear failed to converge, increase the number of iterations.\n",
      "  warnings.warn(\n"
     ]
    },
    {
     "name": "stdout",
     "output_type": "stream",
     "text": [
      "[CV 3/5] END C=10, class_weight=balanced, dual=auto, fit_intercept=False, intercept_scaling=1, loss=hinge, multi_class=crammer_singer, penalty=l2;, score=0.955 total time=  10.4s\n"
     ]
    },
    {
     "name": "stderr",
     "output_type": "stream",
     "text": [
      "C:\\Users\\never\\AppData\\Roaming\\Python\\Python311\\site-packages\\sklearn\\svm\\_base.py:1250: ConvergenceWarning: Liblinear failed to converge, increase the number of iterations.\n",
      "  warnings.warn(\n"
     ]
    },
    {
     "name": "stdout",
     "output_type": "stream",
     "text": [
      "[CV 4/5] END C=10, class_weight=balanced, dual=auto, fit_intercept=False, intercept_scaling=1, loss=hinge, multi_class=crammer_singer, penalty=l2;, score=0.955 total time=  17.9s\n"
     ]
    },
    {
     "name": "stderr",
     "output_type": "stream",
     "text": [
      "C:\\Users\\never\\AppData\\Roaming\\Python\\Python311\\site-packages\\sklearn\\svm\\_base.py:1250: ConvergenceWarning: Liblinear failed to converge, increase the number of iterations.\n",
      "  warnings.warn(\n"
     ]
    },
    {
     "name": "stdout",
     "output_type": "stream",
     "text": [
      "[CV 5/5] END C=10, class_weight=balanced, dual=auto, fit_intercept=False, intercept_scaling=1, loss=hinge, multi_class=crammer_singer, penalty=l2;, score=0.956 total time=  17.3s\n",
      "[CV 1/5] END C=10, class_weight=balanced, dual=auto, fit_intercept=False, intercept_scaling=1, loss=squared_hinge, multi_class=ovr, penalty=l1;, score=0.953 total time=  20.9s\n",
      "[CV 2/5] END C=10, class_weight=balanced, dual=auto, fit_intercept=False, intercept_scaling=1, loss=squared_hinge, multi_class=ovr, penalty=l1;, score=0.951 total time=  19.1s\n",
      "[CV 3/5] END C=10, class_weight=balanced, dual=auto, fit_intercept=False, intercept_scaling=1, loss=squared_hinge, multi_class=ovr, penalty=l1;, score=0.959 total time=  17.9s\n",
      "[CV 4/5] END C=10, class_weight=balanced, dual=auto, fit_intercept=False, intercept_scaling=1, loss=squared_hinge, multi_class=ovr, penalty=l1;, score=0.957 total time=  19.3s\n",
      "[CV 5/5] END C=10, class_weight=balanced, dual=auto, fit_intercept=False, intercept_scaling=1, loss=squared_hinge, multi_class=ovr, penalty=l1;, score=0.957 total time=  17.5s\n",
      "[CV 1/5] END C=10, class_weight=balanced, dual=auto, fit_intercept=False, intercept_scaling=1, loss=squared_hinge, multi_class=ovr, penalty=l2;, score=0.950 total time=  47.5s\n",
      "[CV 2/5] END C=10, class_weight=balanced, dual=auto, fit_intercept=False, intercept_scaling=1, loss=squared_hinge, multi_class=ovr, penalty=l2;, score=0.950 total time=  52.6s\n",
      "[CV 3/5] END C=10, class_weight=balanced, dual=auto, fit_intercept=False, intercept_scaling=1, loss=squared_hinge, multi_class=ovr, penalty=l2;, score=0.957 total time=  45.3s\n",
      "[CV 4/5] END C=10, class_weight=balanced, dual=auto, fit_intercept=False, intercept_scaling=1, loss=squared_hinge, multi_class=ovr, penalty=l2;, score=0.957 total time=  52.8s\n",
      "[CV 5/5] END C=10, class_weight=balanced, dual=auto, fit_intercept=False, intercept_scaling=1, loss=squared_hinge, multi_class=ovr, penalty=l2;, score=0.956 total time=  48.0s\n"
     ]
    },
    {
     "name": "stderr",
     "output_type": "stream",
     "text": [
      "C:\\Users\\never\\AppData\\Roaming\\Python\\Python311\\site-packages\\sklearn\\svm\\_base.py:1250: ConvergenceWarning: Liblinear failed to converge, increase the number of iterations.\n",
      "  warnings.warn(\n"
     ]
    },
    {
     "name": "stdout",
     "output_type": "stream",
     "text": [
      "[CV 1/5] END C=10, class_weight=balanced, dual=auto, fit_intercept=False, intercept_scaling=1, loss=squared_hinge, multi_class=crammer_singer, penalty=l1;, score=0.951 total time=  12.6s\n"
     ]
    },
    {
     "name": "stderr",
     "output_type": "stream",
     "text": [
      "C:\\Users\\never\\AppData\\Roaming\\Python\\Python311\\site-packages\\sklearn\\svm\\_base.py:1250: ConvergenceWarning: Liblinear failed to converge, increase the number of iterations.\n",
      "  warnings.warn(\n"
     ]
    },
    {
     "name": "stdout",
     "output_type": "stream",
     "text": [
      "[CV 2/5] END C=10, class_weight=balanced, dual=auto, fit_intercept=False, intercept_scaling=1, loss=squared_hinge, multi_class=crammer_singer, penalty=l1;, score=0.948 total time=  15.9s\n"
     ]
    },
    {
     "name": "stderr",
     "output_type": "stream",
     "text": [
      "C:\\Users\\never\\AppData\\Roaming\\Python\\Python311\\site-packages\\sklearn\\svm\\_base.py:1250: ConvergenceWarning: Liblinear failed to converge, increase the number of iterations.\n",
      "  warnings.warn(\n"
     ]
    },
    {
     "name": "stdout",
     "output_type": "stream",
     "text": [
      "[CV 3/5] END C=10, class_weight=balanced, dual=auto, fit_intercept=False, intercept_scaling=1, loss=squared_hinge, multi_class=crammer_singer, penalty=l1;, score=0.955 total time=  10.3s\n"
     ]
    },
    {
     "name": "stderr",
     "output_type": "stream",
     "text": [
      "C:\\Users\\never\\AppData\\Roaming\\Python\\Python311\\site-packages\\sklearn\\svm\\_base.py:1250: ConvergenceWarning: Liblinear failed to converge, increase the number of iterations.\n",
      "  warnings.warn(\n"
     ]
    },
    {
     "name": "stdout",
     "output_type": "stream",
     "text": [
      "[CV 4/5] END C=10, class_weight=balanced, dual=auto, fit_intercept=False, intercept_scaling=1, loss=squared_hinge, multi_class=crammer_singer, penalty=l1;, score=0.955 total time=  18.5s\n"
     ]
    },
    {
     "name": "stderr",
     "output_type": "stream",
     "text": [
      "C:\\Users\\never\\AppData\\Roaming\\Python\\Python311\\site-packages\\sklearn\\svm\\_base.py:1250: ConvergenceWarning: Liblinear failed to converge, increase the number of iterations.\n",
      "  warnings.warn(\n"
     ]
    },
    {
     "name": "stdout",
     "output_type": "stream",
     "text": [
      "[CV 5/5] END C=10, class_weight=balanced, dual=auto, fit_intercept=False, intercept_scaling=1, loss=squared_hinge, multi_class=crammer_singer, penalty=l1;, score=0.956 total time=  17.5s\n"
     ]
    },
    {
     "name": "stderr",
     "output_type": "stream",
     "text": [
      "C:\\Users\\never\\AppData\\Roaming\\Python\\Python311\\site-packages\\sklearn\\svm\\_base.py:1250: ConvergenceWarning: Liblinear failed to converge, increase the number of iterations.\n",
      "  warnings.warn(\n"
     ]
    },
    {
     "name": "stdout",
     "output_type": "stream",
     "text": [
      "[CV 1/5] END C=10, class_weight=balanced, dual=auto, fit_intercept=False, intercept_scaling=1, loss=squared_hinge, multi_class=crammer_singer, penalty=l2;, score=0.951 total time=  12.7s\n"
     ]
    },
    {
     "name": "stderr",
     "output_type": "stream",
     "text": [
      "C:\\Users\\never\\AppData\\Roaming\\Python\\Python311\\site-packages\\sklearn\\svm\\_base.py:1250: ConvergenceWarning: Liblinear failed to converge, increase the number of iterations.\n",
      "  warnings.warn(\n"
     ]
    },
    {
     "name": "stdout",
     "output_type": "stream",
     "text": [
      "[CV 2/5] END C=10, class_weight=balanced, dual=auto, fit_intercept=False, intercept_scaling=1, loss=squared_hinge, multi_class=crammer_singer, penalty=l2;, score=0.948 total time=  16.0s\n"
     ]
    },
    {
     "name": "stderr",
     "output_type": "stream",
     "text": [
      "C:\\Users\\never\\AppData\\Roaming\\Python\\Python311\\site-packages\\sklearn\\svm\\_base.py:1250: ConvergenceWarning: Liblinear failed to converge, increase the number of iterations.\n",
      "  warnings.warn(\n"
     ]
    },
    {
     "name": "stdout",
     "output_type": "stream",
     "text": [
      "[CV 3/5] END C=10, class_weight=balanced, dual=auto, fit_intercept=False, intercept_scaling=1, loss=squared_hinge, multi_class=crammer_singer, penalty=l2;, score=0.955 total time=  10.7s\n"
     ]
    },
    {
     "name": "stderr",
     "output_type": "stream",
     "text": [
      "C:\\Users\\never\\AppData\\Roaming\\Python\\Python311\\site-packages\\sklearn\\svm\\_base.py:1250: ConvergenceWarning: Liblinear failed to converge, increase the number of iterations.\n",
      "  warnings.warn(\n"
     ]
    },
    {
     "name": "stdout",
     "output_type": "stream",
     "text": [
      "[CV 4/5] END C=10, class_weight=balanced, dual=auto, fit_intercept=False, intercept_scaling=1, loss=squared_hinge, multi_class=crammer_singer, penalty=l2;, score=0.955 total time=  18.0s\n"
     ]
    },
    {
     "name": "stderr",
     "output_type": "stream",
     "text": [
      "C:\\Users\\never\\AppData\\Roaming\\Python\\Python311\\site-packages\\sklearn\\svm\\_base.py:1250: ConvergenceWarning: Liblinear failed to converge, increase the number of iterations.\n",
      "  warnings.warn(\n"
     ]
    },
    {
     "name": "stdout",
     "output_type": "stream",
     "text": [
      "[CV 5/5] END C=10, class_weight=balanced, dual=auto, fit_intercept=False, intercept_scaling=1, loss=squared_hinge, multi_class=crammer_singer, penalty=l2;, score=0.956 total time=  17.6s\n",
      "[CV 1/5] END C=10, class_weight=balanced, dual=auto, fit_intercept=False, intercept_scaling=1.5, loss=hinge, multi_class=ovr, penalty=l1;, score=nan total time=   1.6s\n",
      "[CV 2/5] END C=10, class_weight=balanced, dual=auto, fit_intercept=False, intercept_scaling=1.5, loss=hinge, multi_class=ovr, penalty=l1;, score=nan total time=   1.7s\n",
      "[CV 3/5] END C=10, class_weight=balanced, dual=auto, fit_intercept=False, intercept_scaling=1.5, loss=hinge, multi_class=ovr, penalty=l1;, score=nan total time=   1.7s\n",
      "[CV 4/5] END C=10, class_weight=balanced, dual=auto, fit_intercept=False, intercept_scaling=1.5, loss=hinge, multi_class=ovr, penalty=l1;, score=nan total time=   1.7s\n",
      "[CV 5/5] END C=10, class_weight=balanced, dual=auto, fit_intercept=False, intercept_scaling=1.5, loss=hinge, multi_class=ovr, penalty=l1;, score=nan total time=   1.7s\n",
      "[CV 1/5] END C=10, class_weight=balanced, dual=auto, fit_intercept=False, intercept_scaling=1.5, loss=hinge, multi_class=ovr, penalty=l2;, score=0.950 total time=  10.7s\n",
      "[CV 2/5] END C=10, class_weight=balanced, dual=auto, fit_intercept=False, intercept_scaling=1.5, loss=hinge, multi_class=ovr, penalty=l2;, score=0.952 total time=   9.4s\n",
      "[CV 3/5] END C=10, class_weight=balanced, dual=auto, fit_intercept=False, intercept_scaling=1.5, loss=hinge, multi_class=ovr, penalty=l2;, score=0.956 total time=   8.7s\n",
      "[CV 4/5] END C=10, class_weight=balanced, dual=auto, fit_intercept=False, intercept_scaling=1.5, loss=hinge, multi_class=ovr, penalty=l2;, score=0.957 total time=   8.0s\n",
      "[CV 5/5] END C=10, class_weight=balanced, dual=auto, fit_intercept=False, intercept_scaling=1.5, loss=hinge, multi_class=ovr, penalty=l2;, score=0.955 total time=  10.4s\n"
     ]
    },
    {
     "name": "stderr",
     "output_type": "stream",
     "text": [
      "C:\\Users\\never\\AppData\\Roaming\\Python\\Python311\\site-packages\\sklearn\\svm\\_base.py:1250: ConvergenceWarning: Liblinear failed to converge, increase the number of iterations.\n",
      "  warnings.warn(\n"
     ]
    },
    {
     "name": "stdout",
     "output_type": "stream",
     "text": [
      "[CV 1/5] END C=10, class_weight=balanced, dual=auto, fit_intercept=False, intercept_scaling=1.5, loss=hinge, multi_class=crammer_singer, penalty=l1;, score=0.951 total time=  12.8s\n"
     ]
    },
    {
     "name": "stderr",
     "output_type": "stream",
     "text": [
      "C:\\Users\\never\\AppData\\Roaming\\Python\\Python311\\site-packages\\sklearn\\svm\\_base.py:1250: ConvergenceWarning: Liblinear failed to converge, increase the number of iterations.\n",
      "  warnings.warn(\n"
     ]
    },
    {
     "name": "stdout",
     "output_type": "stream",
     "text": [
      "[CV 2/5] END C=10, class_weight=balanced, dual=auto, fit_intercept=False, intercept_scaling=1.5, loss=hinge, multi_class=crammer_singer, penalty=l1;, score=0.948 total time=  15.9s\n"
     ]
    },
    {
     "name": "stderr",
     "output_type": "stream",
     "text": [
      "C:\\Users\\never\\AppData\\Roaming\\Python\\Python311\\site-packages\\sklearn\\svm\\_base.py:1250: ConvergenceWarning: Liblinear failed to converge, increase the number of iterations.\n",
      "  warnings.warn(\n"
     ]
    },
    {
     "name": "stdout",
     "output_type": "stream",
     "text": [
      "[CV 3/5] END C=10, class_weight=balanced, dual=auto, fit_intercept=False, intercept_scaling=1.5, loss=hinge, multi_class=crammer_singer, penalty=l1;, score=0.955 total time=  10.4s\n"
     ]
    },
    {
     "name": "stderr",
     "output_type": "stream",
     "text": [
      "C:\\Users\\never\\AppData\\Roaming\\Python\\Python311\\site-packages\\sklearn\\svm\\_base.py:1250: ConvergenceWarning: Liblinear failed to converge, increase the number of iterations.\n",
      "  warnings.warn(\n"
     ]
    },
    {
     "name": "stdout",
     "output_type": "stream",
     "text": [
      "[CV 4/5] END C=10, class_weight=balanced, dual=auto, fit_intercept=False, intercept_scaling=1.5, loss=hinge, multi_class=crammer_singer, penalty=l1;, score=0.955 total time=  17.9s\n"
     ]
    },
    {
     "name": "stderr",
     "output_type": "stream",
     "text": [
      "C:\\Users\\never\\AppData\\Roaming\\Python\\Python311\\site-packages\\sklearn\\svm\\_base.py:1250: ConvergenceWarning: Liblinear failed to converge, increase the number of iterations.\n",
      "  warnings.warn(\n"
     ]
    },
    {
     "name": "stdout",
     "output_type": "stream",
     "text": [
      "[CV 5/5] END C=10, class_weight=balanced, dual=auto, fit_intercept=False, intercept_scaling=1.5, loss=hinge, multi_class=crammer_singer, penalty=l1;, score=0.956 total time=  17.5s\n"
     ]
    },
    {
     "name": "stderr",
     "output_type": "stream",
     "text": [
      "C:\\Users\\never\\AppData\\Roaming\\Python\\Python311\\site-packages\\sklearn\\svm\\_base.py:1250: ConvergenceWarning: Liblinear failed to converge, increase the number of iterations.\n",
      "  warnings.warn(\n"
     ]
    },
    {
     "name": "stdout",
     "output_type": "stream",
     "text": [
      "[CV 1/5] END C=10, class_weight=balanced, dual=auto, fit_intercept=False, intercept_scaling=1.5, loss=hinge, multi_class=crammer_singer, penalty=l2;, score=0.951 total time=  12.6s\n"
     ]
    },
    {
     "name": "stderr",
     "output_type": "stream",
     "text": [
      "C:\\Users\\never\\AppData\\Roaming\\Python\\Python311\\site-packages\\sklearn\\svm\\_base.py:1250: ConvergenceWarning: Liblinear failed to converge, increase the number of iterations.\n",
      "  warnings.warn(\n"
     ]
    },
    {
     "name": "stdout",
     "output_type": "stream",
     "text": [
      "[CV 2/5] END C=10, class_weight=balanced, dual=auto, fit_intercept=False, intercept_scaling=1.5, loss=hinge, multi_class=crammer_singer, penalty=l2;, score=0.948 total time=  16.0s\n"
     ]
    },
    {
     "name": "stderr",
     "output_type": "stream",
     "text": [
      "C:\\Users\\never\\AppData\\Roaming\\Python\\Python311\\site-packages\\sklearn\\svm\\_base.py:1250: ConvergenceWarning: Liblinear failed to converge, increase the number of iterations.\n",
      "  warnings.warn(\n"
     ]
    },
    {
     "name": "stdout",
     "output_type": "stream",
     "text": [
      "[CV 3/5] END C=10, class_weight=balanced, dual=auto, fit_intercept=False, intercept_scaling=1.5, loss=hinge, multi_class=crammer_singer, penalty=l2;, score=0.955 total time=  10.3s\n"
     ]
    },
    {
     "name": "stderr",
     "output_type": "stream",
     "text": [
      "C:\\Users\\never\\AppData\\Roaming\\Python\\Python311\\site-packages\\sklearn\\svm\\_base.py:1250: ConvergenceWarning: Liblinear failed to converge, increase the number of iterations.\n",
      "  warnings.warn(\n"
     ]
    },
    {
     "name": "stdout",
     "output_type": "stream",
     "text": [
      "[CV 4/5] END C=10, class_weight=balanced, dual=auto, fit_intercept=False, intercept_scaling=1.5, loss=hinge, multi_class=crammer_singer, penalty=l2;, score=0.955 total time=  17.8s\n"
     ]
    },
    {
     "name": "stderr",
     "output_type": "stream",
     "text": [
      "C:\\Users\\never\\AppData\\Roaming\\Python\\Python311\\site-packages\\sklearn\\svm\\_base.py:1250: ConvergenceWarning: Liblinear failed to converge, increase the number of iterations.\n",
      "  warnings.warn(\n"
     ]
    },
    {
     "name": "stdout",
     "output_type": "stream",
     "text": [
      "[CV 5/5] END C=10, class_weight=balanced, dual=auto, fit_intercept=False, intercept_scaling=1.5, loss=hinge, multi_class=crammer_singer, penalty=l2;, score=0.956 total time=  17.3s\n",
      "[CV 1/5] END C=10, class_weight=balanced, dual=auto, fit_intercept=False, intercept_scaling=1.5, loss=squared_hinge, multi_class=ovr, penalty=l1;, score=0.953 total time=  20.8s\n",
      "[CV 2/5] END C=10, class_weight=balanced, dual=auto, fit_intercept=False, intercept_scaling=1.5, loss=squared_hinge, multi_class=ovr, penalty=l1;, score=0.951 total time=  19.0s\n",
      "[CV 3/5] END C=10, class_weight=balanced, dual=auto, fit_intercept=False, intercept_scaling=1.5, loss=squared_hinge, multi_class=ovr, penalty=l1;, score=0.959 total time=  17.8s\n",
      "[CV 4/5] END C=10, class_weight=balanced, dual=auto, fit_intercept=False, intercept_scaling=1.5, loss=squared_hinge, multi_class=ovr, penalty=l1;, score=0.957 total time=  19.4s\n",
      "[CV 5/5] END C=10, class_weight=balanced, dual=auto, fit_intercept=False, intercept_scaling=1.5, loss=squared_hinge, multi_class=ovr, penalty=l1;, score=0.957 total time=  17.4s\n",
      "[CV 1/5] END C=10, class_weight=balanced, dual=auto, fit_intercept=False, intercept_scaling=1.5, loss=squared_hinge, multi_class=ovr, penalty=l2;, score=0.950 total time=  47.3s\n",
      "[CV 2/5] END C=10, class_weight=balanced, dual=auto, fit_intercept=False, intercept_scaling=1.5, loss=squared_hinge, multi_class=ovr, penalty=l2;, score=0.950 total time=  52.7s\n",
      "[CV 3/5] END C=10, class_weight=balanced, dual=auto, fit_intercept=False, intercept_scaling=1.5, loss=squared_hinge, multi_class=ovr, penalty=l2;, score=0.957 total time=  45.2s\n",
      "[CV 4/5] END C=10, class_weight=balanced, dual=auto, fit_intercept=False, intercept_scaling=1.5, loss=squared_hinge, multi_class=ovr, penalty=l2;, score=0.957 total time=  51.4s\n",
      "[CV 5/5] END C=10, class_weight=balanced, dual=auto, fit_intercept=False, intercept_scaling=1.5, loss=squared_hinge, multi_class=ovr, penalty=l2;, score=0.956 total time=  47.7s\n"
     ]
    },
    {
     "name": "stderr",
     "output_type": "stream",
     "text": [
      "C:\\Users\\never\\AppData\\Roaming\\Python\\Python311\\site-packages\\sklearn\\svm\\_base.py:1250: ConvergenceWarning: Liblinear failed to converge, increase the number of iterations.\n",
      "  warnings.warn(\n"
     ]
    },
    {
     "name": "stdout",
     "output_type": "stream",
     "text": [
      "[CV 1/5] END C=10, class_weight=balanced, dual=auto, fit_intercept=False, intercept_scaling=1.5, loss=squared_hinge, multi_class=crammer_singer, penalty=l1;, score=0.951 total time=  12.7s\n"
     ]
    },
    {
     "name": "stderr",
     "output_type": "stream",
     "text": [
      "C:\\Users\\never\\AppData\\Roaming\\Python\\Python311\\site-packages\\sklearn\\svm\\_base.py:1250: ConvergenceWarning: Liblinear failed to converge, increase the number of iterations.\n",
      "  warnings.warn(\n"
     ]
    },
    {
     "name": "stdout",
     "output_type": "stream",
     "text": [
      "[CV 2/5] END C=10, class_weight=balanced, dual=auto, fit_intercept=False, intercept_scaling=1.5, loss=squared_hinge, multi_class=crammer_singer, penalty=l1;, score=0.948 total time=  16.0s\n"
     ]
    },
    {
     "name": "stderr",
     "output_type": "stream",
     "text": [
      "C:\\Users\\never\\AppData\\Roaming\\Python\\Python311\\site-packages\\sklearn\\svm\\_base.py:1250: ConvergenceWarning: Liblinear failed to converge, increase the number of iterations.\n",
      "  warnings.warn(\n"
     ]
    },
    {
     "name": "stdout",
     "output_type": "stream",
     "text": [
      "[CV 3/5] END C=10, class_weight=balanced, dual=auto, fit_intercept=False, intercept_scaling=1.5, loss=squared_hinge, multi_class=crammer_singer, penalty=l1;, score=0.955 total time=  10.5s\n"
     ]
    },
    {
     "name": "stderr",
     "output_type": "stream",
     "text": [
      "C:\\Users\\never\\AppData\\Roaming\\Python\\Python311\\site-packages\\sklearn\\svm\\_base.py:1250: ConvergenceWarning: Liblinear failed to converge, increase the number of iterations.\n",
      "  warnings.warn(\n"
     ]
    },
    {
     "name": "stdout",
     "output_type": "stream",
     "text": [
      "[CV 4/5] END C=10, class_weight=balanced, dual=auto, fit_intercept=False, intercept_scaling=1.5, loss=squared_hinge, multi_class=crammer_singer, penalty=l1;, score=0.955 total time=  18.9s\n"
     ]
    },
    {
     "name": "stderr",
     "output_type": "stream",
     "text": [
      "C:\\Users\\never\\AppData\\Roaming\\Python\\Python311\\site-packages\\sklearn\\svm\\_base.py:1250: ConvergenceWarning: Liblinear failed to converge, increase the number of iterations.\n",
      "  warnings.warn(\n"
     ]
    },
    {
     "name": "stdout",
     "output_type": "stream",
     "text": [
      "[CV 5/5] END C=10, class_weight=balanced, dual=auto, fit_intercept=False, intercept_scaling=1.5, loss=squared_hinge, multi_class=crammer_singer, penalty=l1;, score=0.956 total time=  18.5s\n"
     ]
    },
    {
     "name": "stderr",
     "output_type": "stream",
     "text": [
      "C:\\Users\\never\\AppData\\Roaming\\Python\\Python311\\site-packages\\sklearn\\svm\\_base.py:1250: ConvergenceWarning: Liblinear failed to converge, increase the number of iterations.\n",
      "  warnings.warn(\n"
     ]
    },
    {
     "name": "stdout",
     "output_type": "stream",
     "text": [
      "[CV 1/5] END C=10, class_weight=balanced, dual=auto, fit_intercept=False, intercept_scaling=1.5, loss=squared_hinge, multi_class=crammer_singer, penalty=l2;, score=0.951 total time=  12.7s\n"
     ]
    },
    {
     "name": "stderr",
     "output_type": "stream",
     "text": [
      "C:\\Users\\never\\AppData\\Roaming\\Python\\Python311\\site-packages\\sklearn\\svm\\_base.py:1250: ConvergenceWarning: Liblinear failed to converge, increase the number of iterations.\n",
      "  warnings.warn(\n"
     ]
    },
    {
     "name": "stdout",
     "output_type": "stream",
     "text": [
      "[CV 2/5] END C=10, class_weight=balanced, dual=auto, fit_intercept=False, intercept_scaling=1.5, loss=squared_hinge, multi_class=crammer_singer, penalty=l2;, score=0.948 total time=  15.8s\n"
     ]
    },
    {
     "name": "stderr",
     "output_type": "stream",
     "text": [
      "C:\\Users\\never\\AppData\\Roaming\\Python\\Python311\\site-packages\\sklearn\\svm\\_base.py:1250: ConvergenceWarning: Liblinear failed to converge, increase the number of iterations.\n",
      "  warnings.warn(\n"
     ]
    },
    {
     "name": "stdout",
     "output_type": "stream",
     "text": [
      "[CV 3/5] END C=10, class_weight=balanced, dual=auto, fit_intercept=False, intercept_scaling=1.5, loss=squared_hinge, multi_class=crammer_singer, penalty=l2;, score=0.955 total time=  10.4s\n"
     ]
    },
    {
     "name": "stderr",
     "output_type": "stream",
     "text": [
      "C:\\Users\\never\\AppData\\Roaming\\Python\\Python311\\site-packages\\sklearn\\svm\\_base.py:1250: ConvergenceWarning: Liblinear failed to converge, increase the number of iterations.\n",
      "  warnings.warn(\n"
     ]
    },
    {
     "name": "stdout",
     "output_type": "stream",
     "text": [
      "[CV 4/5] END C=10, class_weight=balanced, dual=auto, fit_intercept=False, intercept_scaling=1.5, loss=squared_hinge, multi_class=crammer_singer, penalty=l2;, score=0.955 total time=  17.9s\n"
     ]
    },
    {
     "name": "stderr",
     "output_type": "stream",
     "text": [
      "C:\\Users\\never\\AppData\\Roaming\\Python\\Python311\\site-packages\\sklearn\\svm\\_base.py:1250: ConvergenceWarning: Liblinear failed to converge, increase the number of iterations.\n",
      "  warnings.warn(\n"
     ]
    },
    {
     "name": "stdout",
     "output_type": "stream",
     "text": [
      "[CV 5/5] END C=10, class_weight=balanced, dual=auto, fit_intercept=False, intercept_scaling=1.5, loss=squared_hinge, multi_class=crammer_singer, penalty=l2;, score=0.956 total time=  17.2s\n",
      "[CV 1/5] END C=10, class_weight=balanced, dual=auto, fit_intercept=False, intercept_scaling=2, loss=hinge, multi_class=ovr, penalty=l1;, score=nan total time=   1.7s\n",
      "[CV 2/5] END C=10, class_weight=balanced, dual=auto, fit_intercept=False, intercept_scaling=2, loss=hinge, multi_class=ovr, penalty=l1;, score=nan total time=   1.7s\n",
      "[CV 3/5] END C=10, class_weight=balanced, dual=auto, fit_intercept=False, intercept_scaling=2, loss=hinge, multi_class=ovr, penalty=l1;, score=nan total time=   1.7s\n",
      "[CV 4/5] END C=10, class_weight=balanced, dual=auto, fit_intercept=False, intercept_scaling=2, loss=hinge, multi_class=ovr, penalty=l1;, score=nan total time=   1.7s\n",
      "[CV 5/5] END C=10, class_weight=balanced, dual=auto, fit_intercept=False, intercept_scaling=2, loss=hinge, multi_class=ovr, penalty=l1;, score=nan total time=   1.7s\n",
      "[CV 1/5] END C=10, class_weight=balanced, dual=auto, fit_intercept=False, intercept_scaling=2, loss=hinge, multi_class=ovr, penalty=l2;, score=0.950 total time=  10.7s\n",
      "[CV 2/5] END C=10, class_weight=balanced, dual=auto, fit_intercept=False, intercept_scaling=2, loss=hinge, multi_class=ovr, penalty=l2;, score=0.952 total time=   9.4s\n",
      "[CV 3/5] END C=10, class_weight=balanced, dual=auto, fit_intercept=False, intercept_scaling=2, loss=hinge, multi_class=ovr, penalty=l2;, score=0.956 total time=   9.0s\n",
      "[CV 4/5] END C=10, class_weight=balanced, dual=auto, fit_intercept=False, intercept_scaling=2, loss=hinge, multi_class=ovr, penalty=l2;, score=0.957 total time=   8.2s\n",
      "[CV 5/5] END C=10, class_weight=balanced, dual=auto, fit_intercept=False, intercept_scaling=2, loss=hinge, multi_class=ovr, penalty=l2;, score=0.955 total time=  10.5s\n"
     ]
    },
    {
     "name": "stderr",
     "output_type": "stream",
     "text": [
      "C:\\Users\\never\\AppData\\Roaming\\Python\\Python311\\site-packages\\sklearn\\svm\\_base.py:1250: ConvergenceWarning: Liblinear failed to converge, increase the number of iterations.\n",
      "  warnings.warn(\n"
     ]
    },
    {
     "name": "stdout",
     "output_type": "stream",
     "text": [
      "[CV 1/5] END C=10, class_weight=balanced, dual=auto, fit_intercept=False, intercept_scaling=2, loss=hinge, multi_class=crammer_singer, penalty=l1;, score=0.951 total time=  12.7s\n"
     ]
    },
    {
     "name": "stderr",
     "output_type": "stream",
     "text": [
      "C:\\Users\\never\\AppData\\Roaming\\Python\\Python311\\site-packages\\sklearn\\svm\\_base.py:1250: ConvergenceWarning: Liblinear failed to converge, increase the number of iterations.\n",
      "  warnings.warn(\n"
     ]
    },
    {
     "name": "stdout",
     "output_type": "stream",
     "text": [
      "[CV 2/5] END C=10, class_weight=balanced, dual=auto, fit_intercept=False, intercept_scaling=2, loss=hinge, multi_class=crammer_singer, penalty=l1;, score=0.948 total time=  15.9s\n"
     ]
    },
    {
     "name": "stderr",
     "output_type": "stream",
     "text": [
      "C:\\Users\\never\\AppData\\Roaming\\Python\\Python311\\site-packages\\sklearn\\svm\\_base.py:1250: ConvergenceWarning: Liblinear failed to converge, increase the number of iterations.\n",
      "  warnings.warn(\n"
     ]
    },
    {
     "name": "stdout",
     "output_type": "stream",
     "text": [
      "[CV 3/5] END C=10, class_weight=balanced, dual=auto, fit_intercept=False, intercept_scaling=2, loss=hinge, multi_class=crammer_singer, penalty=l1;, score=0.955 total time=  10.3s\n"
     ]
    },
    {
     "name": "stderr",
     "output_type": "stream",
     "text": [
      "C:\\Users\\never\\AppData\\Roaming\\Python\\Python311\\site-packages\\sklearn\\svm\\_base.py:1250: ConvergenceWarning: Liblinear failed to converge, increase the number of iterations.\n",
      "  warnings.warn(\n"
     ]
    },
    {
     "name": "stdout",
     "output_type": "stream",
     "text": [
      "[CV 4/5] END C=10, class_weight=balanced, dual=auto, fit_intercept=False, intercept_scaling=2, loss=hinge, multi_class=crammer_singer, penalty=l1;, score=0.955 total time=  17.8s\n"
     ]
    },
    {
     "name": "stderr",
     "output_type": "stream",
     "text": [
      "C:\\Users\\never\\AppData\\Roaming\\Python\\Python311\\site-packages\\sklearn\\svm\\_base.py:1250: ConvergenceWarning: Liblinear failed to converge, increase the number of iterations.\n",
      "  warnings.warn(\n"
     ]
    },
    {
     "name": "stdout",
     "output_type": "stream",
     "text": [
      "[CV 5/5] END C=10, class_weight=balanced, dual=auto, fit_intercept=False, intercept_scaling=2, loss=hinge, multi_class=crammer_singer, penalty=l1;, score=0.956 total time=  17.4s\n"
     ]
    },
    {
     "name": "stderr",
     "output_type": "stream",
     "text": [
      "C:\\Users\\never\\AppData\\Roaming\\Python\\Python311\\site-packages\\sklearn\\svm\\_base.py:1250: ConvergenceWarning: Liblinear failed to converge, increase the number of iterations.\n",
      "  warnings.warn(\n"
     ]
    },
    {
     "name": "stdout",
     "output_type": "stream",
     "text": [
      "[CV 1/5] END C=10, class_weight=balanced, dual=auto, fit_intercept=False, intercept_scaling=2, loss=hinge, multi_class=crammer_singer, penalty=l2;, score=0.951 total time=  12.6s\n"
     ]
    },
    {
     "name": "stderr",
     "output_type": "stream",
     "text": [
      "C:\\Users\\never\\AppData\\Roaming\\Python\\Python311\\site-packages\\sklearn\\svm\\_base.py:1250: ConvergenceWarning: Liblinear failed to converge, increase the number of iterations.\n",
      "  warnings.warn(\n"
     ]
    },
    {
     "name": "stdout",
     "output_type": "stream",
     "text": [
      "[CV 2/5] END C=10, class_weight=balanced, dual=auto, fit_intercept=False, intercept_scaling=2, loss=hinge, multi_class=crammer_singer, penalty=l2;, score=0.948 total time=  15.9s\n"
     ]
    },
    {
     "name": "stderr",
     "output_type": "stream",
     "text": [
      "C:\\Users\\never\\AppData\\Roaming\\Python\\Python311\\site-packages\\sklearn\\svm\\_base.py:1250: ConvergenceWarning: Liblinear failed to converge, increase the number of iterations.\n",
      "  warnings.warn(\n"
     ]
    },
    {
     "name": "stdout",
     "output_type": "stream",
     "text": [
      "[CV 3/5] END C=10, class_weight=balanced, dual=auto, fit_intercept=False, intercept_scaling=2, loss=hinge, multi_class=crammer_singer, penalty=l2;, score=0.955 total time=  10.4s\n"
     ]
    },
    {
     "name": "stderr",
     "output_type": "stream",
     "text": [
      "C:\\Users\\never\\AppData\\Roaming\\Python\\Python311\\site-packages\\sklearn\\svm\\_base.py:1250: ConvergenceWarning: Liblinear failed to converge, increase the number of iterations.\n",
      "  warnings.warn(\n"
     ]
    },
    {
     "name": "stdout",
     "output_type": "stream",
     "text": [
      "[CV 4/5] END C=10, class_weight=balanced, dual=auto, fit_intercept=False, intercept_scaling=2, loss=hinge, multi_class=crammer_singer, penalty=l2;, score=0.955 total time=  17.8s\n"
     ]
    },
    {
     "name": "stderr",
     "output_type": "stream",
     "text": [
      "C:\\Users\\never\\AppData\\Roaming\\Python\\Python311\\site-packages\\sklearn\\svm\\_base.py:1250: ConvergenceWarning: Liblinear failed to converge, increase the number of iterations.\n",
      "  warnings.warn(\n"
     ]
    },
    {
     "name": "stdout",
     "output_type": "stream",
     "text": [
      "[CV 5/5] END C=10, class_weight=balanced, dual=auto, fit_intercept=False, intercept_scaling=2, loss=hinge, multi_class=crammer_singer, penalty=l2;, score=0.956 total time=  17.2s\n",
      "[CV 1/5] END C=10, class_weight=balanced, dual=auto, fit_intercept=False, intercept_scaling=2, loss=squared_hinge, multi_class=ovr, penalty=l1;, score=0.953 total time=  20.8s\n",
      "[CV 2/5] END C=10, class_weight=balanced, dual=auto, fit_intercept=False, intercept_scaling=2, loss=squared_hinge, multi_class=ovr, penalty=l1;, score=0.951 total time=  19.0s\n",
      "[CV 3/5] END C=10, class_weight=balanced, dual=auto, fit_intercept=False, intercept_scaling=2, loss=squared_hinge, multi_class=ovr, penalty=l1;, score=0.959 total time=  17.9s\n",
      "[CV 4/5] END C=10, class_weight=balanced, dual=auto, fit_intercept=False, intercept_scaling=2, loss=squared_hinge, multi_class=ovr, penalty=l1;, score=0.957 total time=  19.4s\n",
      "[CV 5/5] END C=10, class_weight=balanced, dual=auto, fit_intercept=False, intercept_scaling=2, loss=squared_hinge, multi_class=ovr, penalty=l1;, score=0.957 total time=  17.5s\n",
      "[CV 1/5] END C=10, class_weight=balanced, dual=auto, fit_intercept=False, intercept_scaling=2, loss=squared_hinge, multi_class=ovr, penalty=l2;, score=0.950 total time=  47.3s\n",
      "[CV 2/5] END C=10, class_weight=balanced, dual=auto, fit_intercept=False, intercept_scaling=2, loss=squared_hinge, multi_class=ovr, penalty=l2;, score=0.950 total time=  52.6s\n",
      "[CV 3/5] END C=10, class_weight=balanced, dual=auto, fit_intercept=False, intercept_scaling=2, loss=squared_hinge, multi_class=ovr, penalty=l2;, score=0.957 total time=  45.1s\n",
      "[CV 4/5] END C=10, class_weight=balanced, dual=auto, fit_intercept=False, intercept_scaling=2, loss=squared_hinge, multi_class=ovr, penalty=l2;, score=0.957 total time=  51.5s\n",
      "[CV 5/5] END C=10, class_weight=balanced, dual=auto, fit_intercept=False, intercept_scaling=2, loss=squared_hinge, multi_class=ovr, penalty=l2;, score=0.956 total time=  47.7s\n"
     ]
    },
    {
     "name": "stderr",
     "output_type": "stream",
     "text": [
      "C:\\Users\\never\\AppData\\Roaming\\Python\\Python311\\site-packages\\sklearn\\svm\\_base.py:1250: ConvergenceWarning: Liblinear failed to converge, increase the number of iterations.\n",
      "  warnings.warn(\n"
     ]
    },
    {
     "name": "stdout",
     "output_type": "stream",
     "text": [
      "[CV 1/5] END C=10, class_weight=balanced, dual=auto, fit_intercept=False, intercept_scaling=2, loss=squared_hinge, multi_class=crammer_singer, penalty=l1;, score=0.951 total time=  12.7s\n"
     ]
    },
    {
     "name": "stderr",
     "output_type": "stream",
     "text": [
      "C:\\Users\\never\\AppData\\Roaming\\Python\\Python311\\site-packages\\sklearn\\svm\\_base.py:1250: ConvergenceWarning: Liblinear failed to converge, increase the number of iterations.\n",
      "  warnings.warn(\n"
     ]
    },
    {
     "name": "stdout",
     "output_type": "stream",
     "text": [
      "[CV 2/5] END C=10, class_weight=balanced, dual=auto, fit_intercept=False, intercept_scaling=2, loss=squared_hinge, multi_class=crammer_singer, penalty=l1;, score=0.948 total time=  15.9s\n"
     ]
    },
    {
     "name": "stderr",
     "output_type": "stream",
     "text": [
      "C:\\Users\\never\\AppData\\Roaming\\Python\\Python311\\site-packages\\sklearn\\svm\\_base.py:1250: ConvergenceWarning: Liblinear failed to converge, increase the number of iterations.\n",
      "  warnings.warn(\n"
     ]
    },
    {
     "name": "stdout",
     "output_type": "stream",
     "text": [
      "[CV 3/5] END C=10, class_weight=balanced, dual=auto, fit_intercept=False, intercept_scaling=2, loss=squared_hinge, multi_class=crammer_singer, penalty=l1;, score=0.955 total time=  10.3s\n"
     ]
    },
    {
     "name": "stderr",
     "output_type": "stream",
     "text": [
      "C:\\Users\\never\\AppData\\Roaming\\Python\\Python311\\site-packages\\sklearn\\svm\\_base.py:1250: ConvergenceWarning: Liblinear failed to converge, increase the number of iterations.\n",
      "  warnings.warn(\n"
     ]
    },
    {
     "name": "stdout",
     "output_type": "stream",
     "text": [
      "[CV 4/5] END C=10, class_weight=balanced, dual=auto, fit_intercept=False, intercept_scaling=2, loss=squared_hinge, multi_class=crammer_singer, penalty=l1;, score=0.955 total time=  18.0s\n"
     ]
    },
    {
     "name": "stderr",
     "output_type": "stream",
     "text": [
      "C:\\Users\\never\\AppData\\Roaming\\Python\\Python311\\site-packages\\sklearn\\svm\\_base.py:1250: ConvergenceWarning: Liblinear failed to converge, increase the number of iterations.\n",
      "  warnings.warn(\n"
     ]
    },
    {
     "name": "stdout",
     "output_type": "stream",
     "text": [
      "[CV 5/5] END C=10, class_weight=balanced, dual=auto, fit_intercept=False, intercept_scaling=2, loss=squared_hinge, multi_class=crammer_singer, penalty=l1;, score=0.956 total time=  17.6s\n"
     ]
    },
    {
     "name": "stderr",
     "output_type": "stream",
     "text": [
      "C:\\Users\\never\\AppData\\Roaming\\Python\\Python311\\site-packages\\sklearn\\svm\\_base.py:1250: ConvergenceWarning: Liblinear failed to converge, increase the number of iterations.\n",
      "  warnings.warn(\n"
     ]
    },
    {
     "name": "stdout",
     "output_type": "stream",
     "text": [
      "[CV 1/5] END C=10, class_weight=balanced, dual=auto, fit_intercept=False, intercept_scaling=2, loss=squared_hinge, multi_class=crammer_singer, penalty=l2;, score=0.951 total time=  12.6s\n"
     ]
    },
    {
     "name": "stderr",
     "output_type": "stream",
     "text": [
      "C:\\Users\\never\\AppData\\Roaming\\Python\\Python311\\site-packages\\sklearn\\svm\\_base.py:1250: ConvergenceWarning: Liblinear failed to converge, increase the number of iterations.\n",
      "  warnings.warn(\n"
     ]
    },
    {
     "name": "stdout",
     "output_type": "stream",
     "text": [
      "[CV 2/5] END C=10, class_weight=balanced, dual=auto, fit_intercept=False, intercept_scaling=2, loss=squared_hinge, multi_class=crammer_singer, penalty=l2;, score=0.948 total time=  15.9s\n"
     ]
    },
    {
     "name": "stderr",
     "output_type": "stream",
     "text": [
      "C:\\Users\\never\\AppData\\Roaming\\Python\\Python311\\site-packages\\sklearn\\svm\\_base.py:1250: ConvergenceWarning: Liblinear failed to converge, increase the number of iterations.\n",
      "  warnings.warn(\n"
     ]
    },
    {
     "name": "stdout",
     "output_type": "stream",
     "text": [
      "[CV 3/5] END C=10, class_weight=balanced, dual=auto, fit_intercept=False, intercept_scaling=2, loss=squared_hinge, multi_class=crammer_singer, penalty=l2;, score=0.955 total time=  10.4s\n"
     ]
    },
    {
     "name": "stderr",
     "output_type": "stream",
     "text": [
      "C:\\Users\\never\\AppData\\Roaming\\Python\\Python311\\site-packages\\sklearn\\svm\\_base.py:1250: ConvergenceWarning: Liblinear failed to converge, increase the number of iterations.\n",
      "  warnings.warn(\n"
     ]
    },
    {
     "name": "stdout",
     "output_type": "stream",
     "text": [
      "[CV 4/5] END C=10, class_weight=balanced, dual=auto, fit_intercept=False, intercept_scaling=2, loss=squared_hinge, multi_class=crammer_singer, penalty=l2;, score=0.955 total time=  17.8s\n"
     ]
    },
    {
     "name": "stderr",
     "output_type": "stream",
     "text": [
      "C:\\Users\\never\\AppData\\Roaming\\Python\\Python311\\site-packages\\sklearn\\svm\\_base.py:1250: ConvergenceWarning: Liblinear failed to converge, increase the number of iterations.\n",
      "  warnings.warn(\n"
     ]
    },
    {
     "name": "stdout",
     "output_type": "stream",
     "text": [
      "[CV 5/5] END C=10, class_weight=balanced, dual=auto, fit_intercept=False, intercept_scaling=2, loss=squared_hinge, multi_class=crammer_singer, penalty=l2;, score=0.956 total time=  17.3s\n"
     ]
    },
    {
     "name": "stderr",
     "output_type": "stream",
     "text": [
      "C:\\Users\\never\\AppData\\Roaming\\Python\\Python311\\site-packages\\sklearn\\model_selection\\_validation.py:425: FitFailedWarning: \n",
      "120 fits failed out of a total of 960.\n",
      "The score on these train-test partitions for these parameters will be set to nan.\n",
      "If these failures are not expected, you can try to debug them by setting error_score='raise'.\n",
      "\n",
      "Below are more details about the failures:\n",
      "--------------------------------------------------------------------------------\n",
      "120 fits failed with the following error:\n",
      "Traceback (most recent call last):\n",
      "  File \"C:\\Users\\never\\AppData\\Roaming\\Python\\Python311\\site-packages\\sklearn\\model_selection\\_validation.py\", line 729, in _fit_and_score\n",
      "    estimator.fit(X_train, y_train, **fit_params)\n",
      "  File \"C:\\Users\\never\\AppData\\Roaming\\Python\\Python311\\site-packages\\sklearn\\base.py\", line 1152, in wrapper\n",
      "    return fit_method(estimator, *args, **kwargs)\n",
      "           ^^^^^^^^^^^^^^^^^^^^^^^^^^^^^^^^^^^^^^\n",
      "  File \"C:\\Users\\never\\AppData\\Roaming\\Python\\Python311\\site-packages\\sklearn\\svm\\_classes.py\", line 326, in fit\n",
      "    self.coef_, self.intercept_, n_iter_ = _fit_liblinear(\n",
      "                                           ^^^^^^^^^^^^^^^\n",
      "  File \"C:\\Users\\never\\AppData\\Roaming\\Python\\Python311\\site-packages\\sklearn\\svm\\_base.py\", line 1229, in _fit_liblinear\n",
      "    solver_type = _get_liblinear_solver_type(multi_class, penalty, loss, dual)\n",
      "                  ^^^^^^^^^^^^^^^^^^^^^^^^^^^^^^^^^^^^^^^^^^^^^^^^^^^^^^^^^^^^\n",
      "  File \"C:\\Users\\never\\AppData\\Roaming\\Python\\Python311\\site-packages\\sklearn\\svm\\_base.py\", line 1060, in _get_liblinear_solver_type\n",
      "    raise ValueError(\n",
      "ValueError: Unsupported set of arguments: The combination of penalty='l1' and loss='hinge' is not supported, Parameters: penalty='l1', loss='hinge', dual=True\n",
      "\n",
      "  warnings.warn(some_fits_failed_message, FitFailedWarning)\n",
      "C:\\Users\\never\\AppData\\Roaming\\Python\\Python311\\site-packages\\sklearn\\model_selection\\_search.py:979: UserWarning: One or more of the test scores are non-finite: [       nan 0.95541102 0.95688927 0.95688927 0.95731156 0.95770376\n",
      " 0.95688927 0.95688927        nan 0.95541102 0.95682893 0.95682893\n",
      " 0.95728139 0.9577641  0.95682893 0.95682893        nan 0.95541102\n",
      " 0.9568591  0.9568591  0.95716073 0.95788478 0.9568591  0.9568591\n",
      "        nan 0.95438528 0.95610491 0.95610491 0.95577305 0.95550151\n",
      " 0.95610491 0.95610491        nan 0.95438528 0.95610491 0.95610491\n",
      " 0.95577305 0.95550151 0.95610491 0.95610491        nan 0.95438528\n",
      " 0.95610491 0.95610491 0.95577305 0.95550151 0.95610491 0.95610491\n",
      "        nan 0.95541102 0.95688927 0.95688927 0.9573719  0.95767359\n",
      " 0.95688927 0.95688927        nan 0.95541102 0.9568591  0.9568591\n",
      " 0.95728139 0.95782445 0.9568591  0.9568591         nan 0.95541102\n",
      " 0.9568591  0.9568591  0.95716073 0.95791495 0.9568591  0.9568591\n",
      "        nan 0.95438528 0.95610491 0.95610491 0.95577305 0.95547134\n",
      " 0.95610491 0.95610491        nan 0.95438528 0.95610491 0.95610491\n",
      " 0.95577305 0.95547134 0.95610491 0.95610491        nan 0.95438528\n",
      " 0.95610491 0.95610491 0.95577305 0.95547134 0.95610491 0.95610491\n",
      "        nan 0.95676858 0.95447567 0.95447567 0.95800546 0.95664785\n",
      " 0.95447567 0.95447567        nan 0.95676858 0.95450584 0.95450584\n",
      " 0.95803563 0.95700988 0.95450584 0.95450584        nan 0.95676858\n",
      " 0.95450584 0.95450584 0.95773395 0.95761324 0.95450584 0.95450584\n",
      "        nan 0.95420419 0.95299747 0.95299747 0.95529026 0.95417408\n",
      " 0.95299747 0.95299747        nan 0.95420419 0.95299747 0.95299747\n",
      " 0.95529026 0.95417408 0.95299747 0.95299747        nan 0.95420419\n",
      " 0.95299747 0.95299747 0.95529026 0.95417408 0.95299747 0.95299747\n",
      "        nan 0.95676858 0.95447567 0.95447567 0.95809598 0.95673836\n",
      " 0.95447567 0.95447567        nan 0.95676858 0.95450584 0.95450584\n",
      " 0.9580658  0.95691936 0.95450584 0.95450584        nan 0.95676858\n",
      " 0.95450584 0.95450584 0.95764344 0.95758307 0.95450584 0.95450584\n",
      "        nan 0.95420419 0.95299747 0.95299747 0.95538077 0.95414391\n",
      " 0.95299747 0.95299747        nan 0.95420419 0.95299747 0.95299747\n",
      " 0.95538077 0.95414391 0.95299747 0.95299747        nan 0.95420419\n",
      " 0.95299747 0.95299747 0.95538077 0.95414391 0.95299747 0.95299747]\n",
      "  warnings.warn(\n"
     ]
    },
    {
     "data": {
      "text/plain": [
       "{'C': 10,\n",
       " 'class_weight': 'balanced',\n",
       " 'dual': 'auto',\n",
       " 'fit_intercept': True,\n",
       " 'intercept_scaling': 1,\n",
       " 'loss': 'squared_hinge',\n",
       " 'multi_class': 'ovr',\n",
       " 'penalty': 'l1'}"
      ]
     },
     "execution_count": 38,
     "metadata": {},
     "output_type": "execute_result"
    }
   ],
   "source": [
    "param_grid = {\n",
    "    'penalty': ['l1', 'l2'],\n",
    "    'loss': ['hinge', 'squared_hinge'],\n",
    "    'dual': [\"auto\"],\n",
    "    # 'tol': [1e-4, 1e-5],\n",
    "    'C': [1, 10],\n",
    "    'multi_class': ['ovr', 'crammer_singer'],\n",
    "    'fit_intercept': [True, False],\n",
    "    'intercept_scaling': [1, 1.5 ,2],\n",
    "    'class_weight': [None, 'balanced']\n",
    "}\n",
    "\n",
    "svc = LinearSVC(random_state= 424, max_iter = 20000)\n",
    "\n",
    "grid_search_svc_count = GridSearchCV(svc, param_grid, refit=True,verbose = 3, cv = 5)\n",
    "\n",
    "\n",
    "grid_search_svc_count.fit(X_train_over_count, y_train_over_count)\n",
    "grid_search_svc_count.best_params_\n",
    "    \n",
    "# best_params_:{'C': 10, 'dual': 'auto', 'loss': 'squared_hinge', 'penalty': 'l1'}"
   ]
  },
  {
   "cell_type": "code",
   "execution_count": 49,
   "metadata": {},
   "outputs": [
    {
     "data": {
      "text/plain": [
       "{'C': 10,\n",
       " 'class_weight': 'balanced',\n",
       " 'dual': 'auto',\n",
       " 'fit_intercept': True,\n",
       " 'intercept_scaling': 1,\n",
       " 'loss': 'squared_hinge',\n",
       " 'multi_class': 'ovr',\n",
       " 'penalty': 'l1'}"
      ]
     },
     "execution_count": 49,
     "metadata": {},
     "output_type": "execute_result"
    }
   ],
   "source": [
    "grid_search_svc_count.best_params_"
   ]
  },
  {
   "cell_type": "code",
   "execution_count": 39,
   "metadata": {},
   "outputs": [
    {
     "name": "stdout",
     "output_type": "stream",
     "text": [
      "              precision    recall  f1-score   support\n",
      "\n",
      "        Hate       0.21      0.33      0.26       272\n",
      "   Offensive       0.91      0.89      0.90      3683\n",
      "     Neither       0.81      0.73      0.77       818\n",
      "\n",
      "    accuracy                           0.83      4773\n",
      "   macro avg       0.64      0.65      0.64      4773\n",
      "weighted avg       0.85      0.83      0.84      4773\n",
      "\n",
      "The confusion matrix:\n",
      "[[  91  154   27]\n",
      " [ 305 3262  116]\n",
      " [  39  182  597]]\n"
     ]
    },
    {
     "data": {
      "image/png": "[encoded data removed]",
      "text/plain": [
       "<Figure size 640x480 with 2 Axes>"
      ]
     },
     "metadata": {},
     "output_type": "display_data"
    }
   ],
   "source": [
    "y_preds = grid_search_svc_count.predict(X_cv_count)\n",
    "printModelStats(y_preds, y_cv)"
   ]
  },
  {
   "cell_type": "markdown",
   "metadata": {},
   "source": [
    "SVM Model with best parameters for Count Vectorizations"
   ]
  },
  {
   "cell_type": "code",
   "execution_count": 53,
   "metadata": {},
   "outputs": [],
   "source": [
    "# Initalising model\n",
    "\n",
    "svc = LinearSVC(random_state= 424, C=10, penalty= 'l1', max_iter= 20000, dual = \"auto\", loss = \"squared_hinge\", fit_intercept= True, intercept_scaling= 1, class_weight= 'balanced', multi_class= \"ovr\")\n",
    "\n",
    "# Train and predict\n",
    "svc.fit(X_train_over_count, y_train_over_count)\n",
    "y_preds = svc.predict(X_cv_count)\n"
   ]
  },
  {
   "cell_type": "code",
   "execution_count": 54,
   "metadata": {},
   "outputs": [
    {
     "name": "stdout",
     "output_type": "stream",
     "text": [
      "              precision    recall  f1-score   support\n",
      "\n",
      "        Hate       0.21      0.33      0.26       272\n",
      "   Offensive       0.91      0.89      0.90      3683\n",
      "     Neither       0.81      0.73      0.77       818\n",
      "\n",
      "    accuracy                           0.83      4773\n",
      "   macro avg       0.64      0.65      0.64      4773\n",
      "weighted avg       0.85      0.83      0.84      4773\n",
      "\n",
      "The confusion matrix:\n",
      "[[  91  154   27]\n",
      " [ 305 3262  116]\n",
      " [  39  182  597]]\n"
     ]
    },
    {
     "data": {
      "image/png": "[encoded data removed]",
      "text/plain": [
       "<Figure size 640x480 with 2 Axes>"
      ]
     },
     "metadata": {},
     "output_type": "display_data"
    }
   ],
   "source": [
    "# output statistics\n",
    "printModelStats(y_preds, y_cv)"
   ]
  },
  {
   "cell_type": "markdown",
   "metadata": {},
   "source": [
    "## TFIDF"
   ]
  },
  {
   "cell_type": "markdown",
   "metadata": {},
   "source": [
    "Linear SVC and data with TFIDF Vectorizations"
   ]
  },
  {
   "cell_type": "code",
   "execution_count": 42,
   "metadata": {},
   "outputs": [
    {
     "name": "stderr",
     "output_type": "stream",
     "text": [
      "C:\\Users\\never\\AppData\\Roaming\\Python\\Python311\\site-packages\\sklearn\\svm\\_classes.py:32: FutureWarning: The default value of `dual` will change from `True` to `'auto'` in 1.5. Set the value of `dual` explicitly to suppress the warning.\n",
      "  warnings.warn(\n"
     ]
    }
   ],
   "source": [
    "# Initalising model\n",
    "svc = LinearSVC(random_state = 424, max_iter = 20000)\n",
    "\n",
    "# Train and predict\n",
    "svc.fit(X_train_over_tf, y_train_over_tf)\n",
    "y_preds = svc.predict(X_cv_tf)\n",
    "\n"
   ]
  },
  {
   "cell_type": "code",
   "execution_count": 43,
   "metadata": {},
   "outputs": [
    {
     "name": "stdout",
     "output_type": "stream",
     "text": [
      "              precision    recall  f1-score   support\n",
      "\n",
      "        Hate       0.30      0.47      0.37       272\n",
      "   Offensive       0.94      0.89      0.91      3683\n",
      "     Neither       0.79      0.83      0.81       818\n",
      "\n",
      "    accuracy                           0.85      4773\n",
      "   macro avg       0.67      0.73      0.70      4773\n",
      "weighted avg       0.88      0.85      0.86      4773\n",
      "\n",
      "The confusion matrix:\n",
      "[[ 127  114   31]\n",
      " [ 261 3266  156]\n",
      " [  33  102  683]]\n"
     ]
    },
    {
     "data": {
      "image/png": "[encoded data removed]",
      "text/plain": [
       "<Figure size 640x480 with 2 Axes>"
      ]
     },
     "metadata": {},
     "output_type": "display_data"
    }
   ],
   "source": [
    "# output statistics\n",
    "printModelStats(y_preds, y_cv)"
   ]
  },
  {
   "cell_type": "markdown",
   "metadata": {},
   "source": [
    "Grid Search for SVM with TFIDF"
   ]
  },
  {
   "cell_type": "code",
   "execution_count": 44,
   "metadata": {},
   "outputs": [
    {
     "name": "stdout",
     "output_type": "stream",
     "text": [
      "Fitting 5 folds for each of 192 candidates, totalling 960 fits\n",
      "[CV 1/5] END C=1, class_weight=None, dual=auto, fit_intercept=True, intercept_scaling=1, loss=hinge, multi_class=ovr, penalty=l1;, score=nan total time=   2.4s\n",
      "[CV 2/5] END C=1, class_weight=None, dual=auto, fit_intercept=True, intercept_scaling=1, loss=hinge, multi_class=ovr, penalty=l1;, score=nan total time=   1.6s\n",
      "[CV 3/5] END C=1, class_weight=None, dual=auto, fit_intercept=True, intercept_scaling=1, loss=hinge, multi_class=ovr, penalty=l1;, score=nan total time=   1.5s\n",
      "[CV 4/5] END C=1, class_weight=None, dual=auto, fit_intercept=True, intercept_scaling=1, loss=hinge, multi_class=ovr, penalty=l1;, score=nan total time=   1.4s\n",
      "[CV 5/5] END C=1, class_weight=None, dual=auto, fit_intercept=True, intercept_scaling=1, loss=hinge, multi_class=ovr, penalty=l1;, score=nan total time=   1.1s\n",
      "[CV 1/5] END C=1, class_weight=None, dual=auto, fit_intercept=True, intercept_scaling=1, loss=hinge, multi_class=ovr, penalty=l2;, score=0.945 total time=   2.7s\n",
      "[CV 2/5] END C=1, class_weight=None, dual=auto, fit_intercept=True, intercept_scaling=1, loss=hinge, multi_class=ovr, penalty=l2;, score=0.947 total time=   2.9s\n",
      "[CV 3/5] END C=1, class_weight=None, dual=auto, fit_intercept=True, intercept_scaling=1, loss=hinge, multi_class=ovr, penalty=l2;, score=0.948 total time=   2.9s\n",
      "[CV 4/5] END C=1, class_weight=None, dual=auto, fit_intercept=True, intercept_scaling=1, loss=hinge, multi_class=ovr, penalty=l2;, score=0.953 total time=   2.7s\n",
      "[CV 5/5] END C=1, class_weight=None, dual=auto, fit_intercept=True, intercept_scaling=1, loss=hinge, multi_class=ovr, penalty=l2;, score=0.952 total time=   2.6s\n"
     ]
    },
    {
     "name": "stderr",
     "output_type": "stream",
     "text": [
      "C:\\Users\\never\\AppData\\Roaming\\Python\\Python311\\site-packages\\sklearn\\svm\\_base.py:1250: ConvergenceWarning: Liblinear failed to converge, increase the number of iterations.\n",
      "  warnings.warn(\n"
     ]
    },
    {
     "name": "stdout",
     "output_type": "stream",
     "text": [
      "[CV 1/5] END C=1, class_weight=None, dual=auto, fit_intercept=True, intercept_scaling=1, loss=hinge, multi_class=crammer_singer, penalty=l1;, score=0.954 total time=   4.0s\n"
     ]
    },
    {
     "name": "stderr",
     "output_type": "stream",
     "text": [
      "C:\\Users\\never\\AppData\\Roaming\\Python\\Python311\\site-packages\\sklearn\\svm\\_base.py:1250: ConvergenceWarning: Liblinear failed to converge, increase the number of iterations.\n",
      "  warnings.warn(\n"
     ]
    },
    {
     "name": "stdout",
     "output_type": "stream",
     "text": [
      "[CV 2/5] END C=1, class_weight=None, dual=auto, fit_intercept=True, intercept_scaling=1, loss=hinge, multi_class=crammer_singer, penalty=l1;, score=0.956 total time=   4.3s\n"
     ]
    },
    {
     "name": "stderr",
     "output_type": "stream",
     "text": [
      "C:\\Users\\never\\AppData\\Roaming\\Python\\Python311\\site-packages\\sklearn\\svm\\_base.py:1250: ConvergenceWarning: Liblinear failed to converge, increase the number of iterations.\n",
      "  warnings.warn(\n"
     ]
    },
    {
     "name": "stdout",
     "output_type": "stream",
     "text": [
      "[CV 3/5] END C=1, class_weight=None, dual=auto, fit_intercept=True, intercept_scaling=1, loss=hinge, multi_class=crammer_singer, penalty=l1;, score=0.958 total time=   3.5s\n"
     ]
    },
    {
     "name": "stderr",
     "output_type": "stream",
     "text": [
      "C:\\Users\\never\\AppData\\Roaming\\Python\\Python311\\site-packages\\sklearn\\svm\\_base.py:1250: ConvergenceWarning: Liblinear failed to converge, increase the number of iterations.\n",
      "  warnings.warn(\n"
     ]
    },
    {
     "name": "stdout",
     "output_type": "stream",
     "text": [
      "[CV 4/5] END C=1, class_weight=None, dual=auto, fit_intercept=True, intercept_scaling=1, loss=hinge, multi_class=crammer_singer, penalty=l1;, score=0.962 total time=   4.9s\n"
     ]
    },
    {
     "name": "stderr",
     "output_type": "stream",
     "text": [
      "C:\\Users\\never\\AppData\\Roaming\\Python\\Python311\\site-packages\\sklearn\\svm\\_base.py:1250: ConvergenceWarning: Liblinear failed to converge, increase the number of iterations.\n",
      "  warnings.warn(\n"
     ]
    },
    {
     "name": "stdout",
     "output_type": "stream",
     "text": [
      "[CV 5/5] END C=1, class_weight=None, dual=auto, fit_intercept=True, intercept_scaling=1, loss=hinge, multi_class=crammer_singer, penalty=l1;, score=0.960 total time=   3.5s\n"
     ]
    },
    {
     "name": "stderr",
     "output_type": "stream",
     "text": [
      "C:\\Users\\never\\AppData\\Roaming\\Python\\Python311\\site-packages\\sklearn\\svm\\_base.py:1250: ConvergenceWarning: Liblinear failed to converge, increase the number of iterations.\n",
      "  warnings.warn(\n"
     ]
    },
    {
     "name": "stdout",
     "output_type": "stream",
     "text": [
      "[CV 1/5] END C=1, class_weight=None, dual=auto, fit_intercept=True, intercept_scaling=1, loss=hinge, multi_class=crammer_singer, penalty=l2;, score=0.954 total time=   4.0s\n"
     ]
    },
    {
     "name": "stderr",
     "output_type": "stream",
     "text": [
      "C:\\Users\\never\\AppData\\Roaming\\Python\\Python311\\site-packages\\sklearn\\svm\\_base.py:1250: ConvergenceWarning: Liblinear failed to converge, increase the number of iterations.\n",
      "  warnings.warn(\n"
     ]
    },
    {
     "name": "stdout",
     "output_type": "stream",
     "text": [
      "[CV 2/5] END C=1, class_weight=None, dual=auto, fit_intercept=True, intercept_scaling=1, loss=hinge, multi_class=crammer_singer, penalty=l2;, score=0.956 total time=   4.2s\n"
     ]
    },
    {
     "name": "stderr",
     "output_type": "stream",
     "text": [
      "C:\\Users\\never\\AppData\\Roaming\\Python\\Python311\\site-packages\\sklearn\\svm\\_base.py:1250: ConvergenceWarning: Liblinear failed to converge, increase the number of iterations.\n",
      "  warnings.warn(\n"
     ]
    },
    {
     "name": "stdout",
     "output_type": "stream",
     "text": [
      "[CV 3/5] END C=1, class_weight=None, dual=auto, fit_intercept=True, intercept_scaling=1, loss=hinge, multi_class=crammer_singer, penalty=l2;, score=0.958 total time=   3.2s\n"
     ]
    },
    {
     "name": "stderr",
     "output_type": "stream",
     "text": [
      "C:\\Users\\never\\AppData\\Roaming\\Python\\Python311\\site-packages\\sklearn\\svm\\_base.py:1250: ConvergenceWarning: Liblinear failed to converge, increase the number of iterations.\n",
      "  warnings.warn(\n"
     ]
    },
    {
     "name": "stdout",
     "output_type": "stream",
     "text": [
      "[CV 4/5] END C=1, class_weight=None, dual=auto, fit_intercept=True, intercept_scaling=1, loss=hinge, multi_class=crammer_singer, penalty=l2;, score=0.962 total time=   3.9s\n"
     ]
    },
    {
     "name": "stderr",
     "output_type": "stream",
     "text": [
      "C:\\Users\\never\\AppData\\Roaming\\Python\\Python311\\site-packages\\sklearn\\svm\\_base.py:1250: ConvergenceWarning: Liblinear failed to converge, increase the number of iterations.\n",
      "  warnings.warn(\n"
     ]
    },
    {
     "name": "stdout",
     "output_type": "stream",
     "text": [
      "[CV 5/5] END C=1, class_weight=None, dual=auto, fit_intercept=True, intercept_scaling=1, loss=hinge, multi_class=crammer_singer, penalty=l2;, score=0.960 total time=   3.5s\n",
      "[CV 1/5] END C=1, class_weight=None, dual=auto, fit_intercept=True, intercept_scaling=1, loss=squared_hinge, multi_class=ovr, penalty=l1;, score=0.956 total time=   3.8s\n",
      "[CV 2/5] END C=1, class_weight=None, dual=auto, fit_intercept=True, intercept_scaling=1, loss=squared_hinge, multi_class=ovr, penalty=l1;, score=0.956 total time=   3.9s\n",
      "[CV 3/5] END C=1, class_weight=None, dual=auto, fit_intercept=True, intercept_scaling=1, loss=squared_hinge, multi_class=ovr, penalty=l1;, score=0.959 total time=   3.9s\n",
      "[CV 4/5] END C=1, class_weight=None, dual=auto, fit_intercept=True, intercept_scaling=1, loss=squared_hinge, multi_class=ovr, penalty=l1;, score=0.961 total time=   3.8s\n",
      "[CV 5/5] END C=1, class_weight=None, dual=auto, fit_intercept=True, intercept_scaling=1, loss=squared_hinge, multi_class=ovr, penalty=l1;, score=0.965 total time=   3.9s\n",
      "[CV 1/5] END C=1, class_weight=None, dual=auto, fit_intercept=True, intercept_scaling=1, loss=squared_hinge, multi_class=ovr, penalty=l2;, score=0.953 total time=   2.7s\n",
      "[CV 2/5] END C=1, class_weight=None, dual=auto, fit_intercept=True, intercept_scaling=1, loss=squared_hinge, multi_class=ovr, penalty=l2;, score=0.953 total time=   2.8s\n",
      "[CV 3/5] END C=1, class_weight=None, dual=auto, fit_intercept=True, intercept_scaling=1, loss=squared_hinge, multi_class=ovr, penalty=l2;, score=0.955 total time=   2.7s\n",
      "[CV 4/5] END C=1, class_weight=None, dual=auto, fit_intercept=True, intercept_scaling=1, loss=squared_hinge, multi_class=ovr, penalty=l2;, score=0.961 total time=   2.7s\n",
      "[CV 5/5] END C=1, class_weight=None, dual=auto, fit_intercept=True, intercept_scaling=1, loss=squared_hinge, multi_class=ovr, penalty=l2;, score=0.960 total time=   2.7s\n"
     ]
    },
    {
     "name": "stderr",
     "output_type": "stream",
     "text": [
      "C:\\Users\\never\\AppData\\Roaming\\Python\\Python311\\site-packages\\sklearn\\svm\\_base.py:1250: ConvergenceWarning: Liblinear failed to converge, increase the number of iterations.\n",
      "  warnings.warn(\n"
     ]
    },
    {
     "name": "stdout",
     "output_type": "stream",
     "text": [
      "[CV 1/5] END C=1, class_weight=None, dual=auto, fit_intercept=True, intercept_scaling=1, loss=squared_hinge, multi_class=crammer_singer, penalty=l1;, score=0.954 total time=   4.0s\n"
     ]
    },
    {
     "name": "stderr",
     "output_type": "stream",
     "text": [
      "C:\\Users\\never\\AppData\\Roaming\\Python\\Python311\\site-packages\\sklearn\\svm\\_base.py:1250: ConvergenceWarning: Liblinear failed to converge, increase the number of iterations.\n",
      "  warnings.warn(\n"
     ]
    },
    {
     "name": "stdout",
     "output_type": "stream",
     "text": [
      "[CV 2/5] END C=1, class_weight=None, dual=auto, fit_intercept=True, intercept_scaling=1, loss=squared_hinge, multi_class=crammer_singer, penalty=l1;, score=0.956 total time=   4.2s\n"
     ]
    },
    {
     "name": "stderr",
     "output_type": "stream",
     "text": [
      "C:\\Users\\never\\AppData\\Roaming\\Python\\Python311\\site-packages\\sklearn\\svm\\_base.py:1250: ConvergenceWarning: Liblinear failed to converge, increase the number of iterations.\n",
      "  warnings.warn(\n"
     ]
    },
    {
     "name": "stdout",
     "output_type": "stream",
     "text": [
      "[CV 3/5] END C=1, class_weight=None, dual=auto, fit_intercept=True, intercept_scaling=1, loss=squared_hinge, multi_class=crammer_singer, penalty=l1;, score=0.958 total time=   3.2s\n"
     ]
    },
    {
     "name": "stderr",
     "output_type": "stream",
     "text": [
      "C:\\Users\\never\\AppData\\Roaming\\Python\\Python311\\site-packages\\sklearn\\svm\\_base.py:1250: ConvergenceWarning: Liblinear failed to converge, increase the number of iterations.\n",
      "  warnings.warn(\n"
     ]
    },
    {
     "name": "stdout",
     "output_type": "stream",
     "text": [
      "[CV 4/5] END C=1, class_weight=None, dual=auto, fit_intercept=True, intercept_scaling=1, loss=squared_hinge, multi_class=crammer_singer, penalty=l1;, score=0.962 total time=   3.9s\n"
     ]
    },
    {
     "name": "stderr",
     "output_type": "stream",
     "text": [
      "C:\\Users\\never\\AppData\\Roaming\\Python\\Python311\\site-packages\\sklearn\\svm\\_base.py:1250: ConvergenceWarning: Liblinear failed to converge, increase the number of iterations.\n",
      "  warnings.warn(\n"
     ]
    },
    {
     "name": "stdout",
     "output_type": "stream",
     "text": [
      "[CV 5/5] END C=1, class_weight=None, dual=auto, fit_intercept=True, intercept_scaling=1, loss=squared_hinge, multi_class=crammer_singer, penalty=l1;, score=0.960 total time=   3.5s\n"
     ]
    },
    {
     "name": "stderr",
     "output_type": "stream",
     "text": [
      "C:\\Users\\never\\AppData\\Roaming\\Python\\Python311\\site-packages\\sklearn\\svm\\_base.py:1250: ConvergenceWarning: Liblinear failed to converge, increase the number of iterations.\n",
      "  warnings.warn(\n"
     ]
    },
    {
     "name": "stdout",
     "output_type": "stream",
     "text": [
      "[CV 1/5] END C=1, class_weight=None, dual=auto, fit_intercept=True, intercept_scaling=1, loss=squared_hinge, multi_class=crammer_singer, penalty=l2;, score=0.954 total time=   4.0s\n"
     ]
    },
    {
     "name": "stderr",
     "output_type": "stream",
     "text": [
      "C:\\Users\\never\\AppData\\Roaming\\Python\\Python311\\site-packages\\sklearn\\svm\\_base.py:1250: ConvergenceWarning: Liblinear failed to converge, increase the number of iterations.\n",
      "  warnings.warn(\n"
     ]
    },
    {
     "name": "stdout",
     "output_type": "stream",
     "text": [
      "[CV 2/5] END C=1, class_weight=None, dual=auto, fit_intercept=True, intercept_scaling=1, loss=squared_hinge, multi_class=crammer_singer, penalty=l2;, score=0.956 total time=   4.2s\n"
     ]
    },
    {
     "name": "stderr",
     "output_type": "stream",
     "text": [
      "C:\\Users\\never\\AppData\\Roaming\\Python\\Python311\\site-packages\\sklearn\\svm\\_base.py:1250: ConvergenceWarning: Liblinear failed to converge, increase the number of iterations.\n",
      "  warnings.warn(\n"
     ]
    },
    {
     "name": "stdout",
     "output_type": "stream",
     "text": [
      "[CV 3/5] END C=1, class_weight=None, dual=auto, fit_intercept=True, intercept_scaling=1, loss=squared_hinge, multi_class=crammer_singer, penalty=l2;, score=0.958 total time=   3.3s\n"
     ]
    },
    {
     "name": "stderr",
     "output_type": "stream",
     "text": [
      "C:\\Users\\never\\AppData\\Roaming\\Python\\Python311\\site-packages\\sklearn\\svm\\_base.py:1250: ConvergenceWarning: Liblinear failed to converge, increase the number of iterations.\n",
      "  warnings.warn(\n"
     ]
    },
    {
     "name": "stdout",
     "output_type": "stream",
     "text": [
      "[CV 4/5] END C=1, class_weight=None, dual=auto, fit_intercept=True, intercept_scaling=1, loss=squared_hinge, multi_class=crammer_singer, penalty=l2;, score=0.962 total time=   3.9s\n"
     ]
    },
    {
     "name": "stderr",
     "output_type": "stream",
     "text": [
      "C:\\Users\\never\\AppData\\Roaming\\Python\\Python311\\site-packages\\sklearn\\svm\\_base.py:1250: ConvergenceWarning: Liblinear failed to converge, increase the number of iterations.\n",
      "  warnings.warn(\n"
     ]
    },
    {
     "name": "stdout",
     "output_type": "stream",
     "text": [
      "[CV 5/5] END C=1, class_weight=None, dual=auto, fit_intercept=True, intercept_scaling=1, loss=squared_hinge, multi_class=crammer_singer, penalty=l2;, score=0.960 total time=   3.5s\n",
      "[CV 1/5] END C=1, class_weight=None, dual=auto, fit_intercept=True, intercept_scaling=1.5, loss=hinge, multi_class=ovr, penalty=l1;, score=nan total time=   1.1s\n",
      "[CV 2/5] END C=1, class_weight=None, dual=auto, fit_intercept=True, intercept_scaling=1.5, loss=hinge, multi_class=ovr, penalty=l1;, score=nan total time=   1.0s\n",
      "[CV 3/5] END C=1, class_weight=None, dual=auto, fit_intercept=True, intercept_scaling=1.5, loss=hinge, multi_class=ovr, penalty=l1;, score=nan total time=   1.0s\n",
      "[CV 4/5] END C=1, class_weight=None, dual=auto, fit_intercept=True, intercept_scaling=1.5, loss=hinge, multi_class=ovr, penalty=l1;, score=nan total time=   1.0s\n",
      "[CV 5/5] END C=1, class_weight=None, dual=auto, fit_intercept=True, intercept_scaling=1.5, loss=hinge, multi_class=ovr, penalty=l1;, score=nan total time=   1.0s\n",
      "[CV 1/5] END C=1, class_weight=None, dual=auto, fit_intercept=True, intercept_scaling=1.5, loss=hinge, multi_class=ovr, penalty=l2;, score=0.945 total time=   3.0s\n",
      "[CV 2/5] END C=1, class_weight=None, dual=auto, fit_intercept=True, intercept_scaling=1.5, loss=hinge, multi_class=ovr, penalty=l2;, score=0.947 total time=   3.2s\n",
      "[CV 3/5] END C=1, class_weight=None, dual=auto, fit_intercept=True, intercept_scaling=1.5, loss=hinge, multi_class=ovr, penalty=l2;, score=0.948 total time=   3.1s\n",
      "[CV 4/5] END C=1, class_weight=None, dual=auto, fit_intercept=True, intercept_scaling=1.5, loss=hinge, multi_class=ovr, penalty=l2;, score=0.953 total time=   2.9s\n",
      "[CV 5/5] END C=1, class_weight=None, dual=auto, fit_intercept=True, intercept_scaling=1.5, loss=hinge, multi_class=ovr, penalty=l2;, score=0.952 total time=   2.8s\n"
     ]
    },
    {
     "name": "stderr",
     "output_type": "stream",
     "text": [
      "C:\\Users\\never\\AppData\\Roaming\\Python\\Python311\\site-packages\\sklearn\\svm\\_base.py:1250: ConvergenceWarning: Liblinear failed to converge, increase the number of iterations.\n",
      "  warnings.warn(\n"
     ]
    },
    {
     "name": "stdout",
     "output_type": "stream",
     "text": [
      "[CV 1/5] END C=1, class_weight=None, dual=auto, fit_intercept=True, intercept_scaling=1.5, loss=hinge, multi_class=crammer_singer, penalty=l1;, score=0.954 total time=   4.0s\n"
     ]
    },
    {
     "name": "stderr",
     "output_type": "stream",
     "text": [
      "C:\\Users\\never\\AppData\\Roaming\\Python\\Python311\\site-packages\\sklearn\\svm\\_base.py:1250: ConvergenceWarning: Liblinear failed to converge, increase the number of iterations.\n",
      "  warnings.warn(\n"
     ]
    },
    {
     "name": "stdout",
     "output_type": "stream",
     "text": [
      "[CV 2/5] END C=1, class_weight=None, dual=auto, fit_intercept=True, intercept_scaling=1.5, loss=hinge, multi_class=crammer_singer, penalty=l1;, score=0.956 total time=   5.0s\n"
     ]
    },
    {
     "name": "stderr",
     "output_type": "stream",
     "text": [
      "C:\\Users\\never\\AppData\\Roaming\\Python\\Python311\\site-packages\\sklearn\\svm\\_base.py:1250: ConvergenceWarning: Liblinear failed to converge, increase the number of iterations.\n",
      "  warnings.warn(\n"
     ]
    },
    {
     "name": "stdout",
     "output_type": "stream",
     "text": [
      "[CV 3/5] END C=1, class_weight=None, dual=auto, fit_intercept=True, intercept_scaling=1.5, loss=hinge, multi_class=crammer_singer, penalty=l1;, score=0.958 total time=   4.4s\n"
     ]
    },
    {
     "name": "stderr",
     "output_type": "stream",
     "text": [
      "C:\\Users\\never\\AppData\\Roaming\\Python\\Python311\\site-packages\\sklearn\\svm\\_base.py:1250: ConvergenceWarning: Liblinear failed to converge, increase the number of iterations.\n",
      "  warnings.warn(\n"
     ]
    },
    {
     "name": "stdout",
     "output_type": "stream",
     "text": [
      "[CV 4/5] END C=1, class_weight=None, dual=auto, fit_intercept=True, intercept_scaling=1.5, loss=hinge, multi_class=crammer_singer, penalty=l1;, score=0.962 total time=   6.9s\n"
     ]
    },
    {
     "name": "stderr",
     "output_type": "stream",
     "text": [
      "C:\\Users\\never\\AppData\\Roaming\\Python\\Python311\\site-packages\\sklearn\\svm\\_base.py:1250: ConvergenceWarning: Liblinear failed to converge, increase the number of iterations.\n",
      "  warnings.warn(\n"
     ]
    },
    {
     "name": "stdout",
     "output_type": "stream",
     "text": [
      "[CV 5/5] END C=1, class_weight=None, dual=auto, fit_intercept=True, intercept_scaling=1.5, loss=hinge, multi_class=crammer_singer, penalty=l1;, score=0.960 total time=   4.4s\n"
     ]
    },
    {
     "name": "stderr",
     "output_type": "stream",
     "text": [
      "C:\\Users\\never\\AppData\\Roaming\\Python\\Python311\\site-packages\\sklearn\\svm\\_base.py:1250: ConvergenceWarning: Liblinear failed to converge, increase the number of iterations.\n",
      "  warnings.warn(\n"
     ]
    },
    {
     "name": "stdout",
     "output_type": "stream",
     "text": [
      "[CV 1/5] END C=1, class_weight=None, dual=auto, fit_intercept=True, intercept_scaling=1.5, loss=hinge, multi_class=crammer_singer, penalty=l2;, score=0.954 total time=   4.3s\n"
     ]
    },
    {
     "name": "stderr",
     "output_type": "stream",
     "text": [
      "C:\\Users\\never\\AppData\\Roaming\\Python\\Python311\\site-packages\\sklearn\\svm\\_base.py:1250: ConvergenceWarning: Liblinear failed to converge, increase the number of iterations.\n",
      "  warnings.warn(\n"
     ]
    },
    {
     "name": "stdout",
     "output_type": "stream",
     "text": [
      "[CV 2/5] END C=1, class_weight=None, dual=auto, fit_intercept=True, intercept_scaling=1.5, loss=hinge, multi_class=crammer_singer, penalty=l2;, score=0.956 total time=   5.6s\n"
     ]
    },
    {
     "name": "stderr",
     "output_type": "stream",
     "text": [
      "C:\\Users\\never\\AppData\\Roaming\\Python\\Python311\\site-packages\\sklearn\\svm\\_base.py:1250: ConvergenceWarning: Liblinear failed to converge, increase the number of iterations.\n",
      "  warnings.warn(\n"
     ]
    },
    {
     "name": "stdout",
     "output_type": "stream",
     "text": [
      "[CV 3/5] END C=1, class_weight=None, dual=auto, fit_intercept=True, intercept_scaling=1.5, loss=hinge, multi_class=crammer_singer, penalty=l2;, score=0.958 total time=   4.8s\n"
     ]
    },
    {
     "name": "stderr",
     "output_type": "stream",
     "text": [
      "C:\\Users\\never\\AppData\\Roaming\\Python\\Python311\\site-packages\\sklearn\\svm\\_base.py:1250: ConvergenceWarning: Liblinear failed to converge, increase the number of iterations.\n",
      "  warnings.warn(\n"
     ]
    },
    {
     "name": "stdout",
     "output_type": "stream",
     "text": [
      "[CV 4/5] END C=1, class_weight=None, dual=auto, fit_intercept=True, intercept_scaling=1.5, loss=hinge, multi_class=crammer_singer, penalty=l2;, score=0.962 total time=   6.4s\n"
     ]
    },
    {
     "name": "stderr",
     "output_type": "stream",
     "text": [
      "C:\\Users\\never\\AppData\\Roaming\\Python\\Python311\\site-packages\\sklearn\\svm\\_base.py:1250: ConvergenceWarning: Liblinear failed to converge, increase the number of iterations.\n",
      "  warnings.warn(\n"
     ]
    },
    {
     "name": "stdout",
     "output_type": "stream",
     "text": [
      "[CV 5/5] END C=1, class_weight=None, dual=auto, fit_intercept=True, intercept_scaling=1.5, loss=hinge, multi_class=crammer_singer, penalty=l2;, score=0.960 total time=   4.5s\n",
      "[CV 1/5] END C=1, class_weight=None, dual=auto, fit_intercept=True, intercept_scaling=1.5, loss=squared_hinge, multi_class=ovr, penalty=l1;, score=0.956 total time=   4.0s\n",
      "[CV 2/5] END C=1, class_weight=None, dual=auto, fit_intercept=True, intercept_scaling=1.5, loss=squared_hinge, multi_class=ovr, penalty=l1;, score=0.956 total time=   4.0s\n",
      "[CV 3/5] END C=1, class_weight=None, dual=auto, fit_intercept=True, intercept_scaling=1.5, loss=squared_hinge, multi_class=ovr, penalty=l1;, score=0.959 total time=   3.9s\n",
      "[CV 4/5] END C=1, class_weight=None, dual=auto, fit_intercept=True, intercept_scaling=1.5, loss=squared_hinge, multi_class=ovr, penalty=l1;, score=0.961 total time=   4.0s\n",
      "[CV 5/5] END C=1, class_weight=None, dual=auto, fit_intercept=True, intercept_scaling=1.5, loss=squared_hinge, multi_class=ovr, penalty=l1;, score=0.965 total time=   3.9s\n",
      "[CV 1/5] END C=1, class_weight=None, dual=auto, fit_intercept=True, intercept_scaling=1.5, loss=squared_hinge, multi_class=ovr, penalty=l2;, score=0.953 total time=   2.9s\n",
      "[CV 2/5] END C=1, class_weight=None, dual=auto, fit_intercept=True, intercept_scaling=1.5, loss=squared_hinge, multi_class=ovr, penalty=l2;, score=0.953 total time=   2.8s\n",
      "[CV 3/5] END C=1, class_weight=None, dual=auto, fit_intercept=True, intercept_scaling=1.5, loss=squared_hinge, multi_class=ovr, penalty=l2;, score=0.955 total time=   2.9s\n",
      "[CV 4/5] END C=1, class_weight=None, dual=auto, fit_intercept=True, intercept_scaling=1.5, loss=squared_hinge, multi_class=ovr, penalty=l2;, score=0.961 total time=   2.8s\n",
      "[CV 5/5] END C=1, class_weight=None, dual=auto, fit_intercept=True, intercept_scaling=1.5, loss=squared_hinge, multi_class=ovr, penalty=l2;, score=0.960 total time=   2.9s\n"
     ]
    },
    {
     "name": "stderr",
     "output_type": "stream",
     "text": [
      "C:\\Users\\never\\AppData\\Roaming\\Python\\Python311\\site-packages\\sklearn\\svm\\_base.py:1250: ConvergenceWarning: Liblinear failed to converge, increase the number of iterations.\n",
      "  warnings.warn(\n"
     ]
    },
    {
     "name": "stdout",
     "output_type": "stream",
     "text": [
      "[CV 1/5] END C=1, class_weight=None, dual=auto, fit_intercept=True, intercept_scaling=1.5, loss=squared_hinge, multi_class=crammer_singer, penalty=l1;, score=0.954 total time=   4.3s\n"
     ]
    },
    {
     "name": "stderr",
     "output_type": "stream",
     "text": [
      "C:\\Users\\never\\AppData\\Roaming\\Python\\Python311\\site-packages\\sklearn\\svm\\_base.py:1250: ConvergenceWarning: Liblinear failed to converge, increase the number of iterations.\n",
      "  warnings.warn(\n"
     ]
    },
    {
     "name": "stdout",
     "output_type": "stream",
     "text": [
      "[CV 2/5] END C=1, class_weight=None, dual=auto, fit_intercept=True, intercept_scaling=1.5, loss=squared_hinge, multi_class=crammer_singer, penalty=l1;, score=0.956 total time=   5.4s\n"
     ]
    },
    {
     "name": "stderr",
     "output_type": "stream",
     "text": [
      "C:\\Users\\never\\AppData\\Roaming\\Python\\Python311\\site-packages\\sklearn\\svm\\_base.py:1250: ConvergenceWarning: Liblinear failed to converge, increase the number of iterations.\n",
      "  warnings.warn(\n"
     ]
    },
    {
     "name": "stdout",
     "output_type": "stream",
     "text": [
      "[CV 3/5] END C=1, class_weight=None, dual=auto, fit_intercept=True, intercept_scaling=1.5, loss=squared_hinge, multi_class=crammer_singer, penalty=l1;, score=0.958 total time=   4.4s\n"
     ]
    },
    {
     "name": "stderr",
     "output_type": "stream",
     "text": [
      "C:\\Users\\never\\AppData\\Roaming\\Python\\Python311\\site-packages\\sklearn\\svm\\_base.py:1250: ConvergenceWarning: Liblinear failed to converge, increase the number of iterations.\n",
      "  warnings.warn(\n"
     ]
    },
    {
     "name": "stdout",
     "output_type": "stream",
     "text": [
      "[CV 4/5] END C=1, class_weight=None, dual=auto, fit_intercept=True, intercept_scaling=1.5, loss=squared_hinge, multi_class=crammer_singer, penalty=l1;, score=0.962 total time=   6.3s\n"
     ]
    },
    {
     "name": "stderr",
     "output_type": "stream",
     "text": [
      "C:\\Users\\never\\AppData\\Roaming\\Python\\Python311\\site-packages\\sklearn\\svm\\_base.py:1250: ConvergenceWarning: Liblinear failed to converge, increase the number of iterations.\n",
      "  warnings.warn(\n"
     ]
    },
    {
     "name": "stdout",
     "output_type": "stream",
     "text": [
      "[CV 5/5] END C=1, class_weight=None, dual=auto, fit_intercept=True, intercept_scaling=1.5, loss=squared_hinge, multi_class=crammer_singer, penalty=l1;, score=0.960 total time=   4.7s\n"
     ]
    },
    {
     "name": "stderr",
     "output_type": "stream",
     "text": [
      "C:\\Users\\never\\AppData\\Roaming\\Python\\Python311\\site-packages\\sklearn\\svm\\_base.py:1250: ConvergenceWarning: Liblinear failed to converge, increase the number of iterations.\n",
      "  warnings.warn(\n"
     ]
    },
    {
     "name": "stdout",
     "output_type": "stream",
     "text": [
      "[CV 1/5] END C=1, class_weight=None, dual=auto, fit_intercept=True, intercept_scaling=1.5, loss=squared_hinge, multi_class=crammer_singer, penalty=l2;, score=0.954 total time=   4.3s\n"
     ]
    },
    {
     "name": "stderr",
     "output_type": "stream",
     "text": [
      "C:\\Users\\never\\AppData\\Roaming\\Python\\Python311\\site-packages\\sklearn\\svm\\_base.py:1250: ConvergenceWarning: Liblinear failed to converge, increase the number of iterations.\n",
      "  warnings.warn(\n"
     ]
    },
    {
     "name": "stdout",
     "output_type": "stream",
     "text": [
      "[CV 2/5] END C=1, class_weight=None, dual=auto, fit_intercept=True, intercept_scaling=1.5, loss=squared_hinge, multi_class=crammer_singer, penalty=l2;, score=0.956 total time=   5.7s\n"
     ]
    },
    {
     "name": "stderr",
     "output_type": "stream",
     "text": [
      "C:\\Users\\never\\AppData\\Roaming\\Python\\Python311\\site-packages\\sklearn\\svm\\_base.py:1250: ConvergenceWarning: Liblinear failed to converge, increase the number of iterations.\n",
      "  warnings.warn(\n"
     ]
    },
    {
     "name": "stdout",
     "output_type": "stream",
     "text": [
      "[CV 3/5] END C=1, class_weight=None, dual=auto, fit_intercept=True, intercept_scaling=1.5, loss=squared_hinge, multi_class=crammer_singer, penalty=l2;, score=0.958 total time=   4.7s\n"
     ]
    },
    {
     "name": "stderr",
     "output_type": "stream",
     "text": [
      "C:\\Users\\never\\AppData\\Roaming\\Python\\Python311\\site-packages\\sklearn\\svm\\_base.py:1250: ConvergenceWarning: Liblinear failed to converge, increase the number of iterations.\n",
      "  warnings.warn(\n"
     ]
    },
    {
     "name": "stdout",
     "output_type": "stream",
     "text": [
      "[CV 4/5] END C=1, class_weight=None, dual=auto, fit_intercept=True, intercept_scaling=1.5, loss=squared_hinge, multi_class=crammer_singer, penalty=l2;, score=0.962 total time=   6.4s\n"
     ]
    },
    {
     "name": "stderr",
     "output_type": "stream",
     "text": [
      "C:\\Users\\never\\AppData\\Roaming\\Python\\Python311\\site-packages\\sklearn\\svm\\_base.py:1250: ConvergenceWarning: Liblinear failed to converge, increase the number of iterations.\n",
      "  warnings.warn(\n"
     ]
    },
    {
     "name": "stdout",
     "output_type": "stream",
     "text": [
      "[CV 5/5] END C=1, class_weight=None, dual=auto, fit_intercept=True, intercept_scaling=1.5, loss=squared_hinge, multi_class=crammer_singer, penalty=l2;, score=0.960 total time=   4.5s\n",
      "[CV 1/5] END C=1, class_weight=None, dual=auto, fit_intercept=True, intercept_scaling=2, loss=hinge, multi_class=ovr, penalty=l1;, score=nan total time=   1.3s\n",
      "[CV 2/5] END C=1, class_weight=None, dual=auto, fit_intercept=True, intercept_scaling=2, loss=hinge, multi_class=ovr, penalty=l1;, score=nan total time=   1.1s\n",
      "[CV 3/5] END C=1, class_weight=None, dual=auto, fit_intercept=True, intercept_scaling=2, loss=hinge, multi_class=ovr, penalty=l1;, score=nan total time=   1.1s\n",
      "[CV 4/5] END C=1, class_weight=None, dual=auto, fit_intercept=True, intercept_scaling=2, loss=hinge, multi_class=ovr, penalty=l1;, score=nan total time=   1.1s\n",
      "[CV 5/5] END C=1, class_weight=None, dual=auto, fit_intercept=True, intercept_scaling=2, loss=hinge, multi_class=ovr, penalty=l1;, score=nan total time=   1.1s\n",
      "[CV 1/5] END C=1, class_weight=None, dual=auto, fit_intercept=True, intercept_scaling=2, loss=hinge, multi_class=ovr, penalty=l2;, score=0.945 total time=   3.5s\n",
      "[CV 2/5] END C=1, class_weight=None, dual=auto, fit_intercept=True, intercept_scaling=2, loss=hinge, multi_class=ovr, penalty=l2;, score=0.947 total time=   4.6s\n",
      "[CV 3/5] END C=1, class_weight=None, dual=auto, fit_intercept=True, intercept_scaling=2, loss=hinge, multi_class=ovr, penalty=l2;, score=0.948 total time=   4.0s\n",
      "[CV 4/5] END C=1, class_weight=None, dual=auto, fit_intercept=True, intercept_scaling=2, loss=hinge, multi_class=ovr, penalty=l2;, score=0.953 total time=   3.7s\n",
      "[CV 5/5] END C=1, class_weight=None, dual=auto, fit_intercept=True, intercept_scaling=2, loss=hinge, multi_class=ovr, penalty=l2;, score=0.952 total time=   3.3s\n"
     ]
    },
    {
     "name": "stderr",
     "output_type": "stream",
     "text": [
      "C:\\Users\\never\\AppData\\Roaming\\Python\\Python311\\site-packages\\sklearn\\svm\\_base.py:1250: ConvergenceWarning: Liblinear failed to converge, increase the number of iterations.\n",
      "  warnings.warn(\n"
     ]
    },
    {
     "name": "stdout",
     "output_type": "stream",
     "text": [
      "[CV 1/5] END C=1, class_weight=None, dual=auto, fit_intercept=True, intercept_scaling=2, loss=hinge, multi_class=crammer_singer, penalty=l1;, score=0.954 total time=   7.7s\n"
     ]
    },
    {
     "name": "stderr",
     "output_type": "stream",
     "text": [
      "C:\\Users\\never\\AppData\\Roaming\\Python\\Python311\\site-packages\\sklearn\\svm\\_base.py:1250: ConvergenceWarning: Liblinear failed to converge, increase the number of iterations.\n",
      "  warnings.warn(\n"
     ]
    },
    {
     "name": "stdout",
     "output_type": "stream",
     "text": [
      "[CV 2/5] END C=1, class_weight=None, dual=auto, fit_intercept=True, intercept_scaling=2, loss=hinge, multi_class=crammer_singer, penalty=l1;, score=0.956 total time=   6.5s\n"
     ]
    },
    {
     "name": "stderr",
     "output_type": "stream",
     "text": [
      "C:\\Users\\never\\AppData\\Roaming\\Python\\Python311\\site-packages\\sklearn\\svm\\_base.py:1250: ConvergenceWarning: Liblinear failed to converge, increase the number of iterations.\n",
      "  warnings.warn(\n"
     ]
    },
    {
     "name": "stdout",
     "output_type": "stream",
     "text": [
      "[CV 3/5] END C=1, class_weight=None, dual=auto, fit_intercept=True, intercept_scaling=2, loss=hinge, multi_class=crammer_singer, penalty=l1;, score=0.958 total time=   5.2s\n"
     ]
    },
    {
     "name": "stderr",
     "output_type": "stream",
     "text": [
      "C:\\Users\\never\\AppData\\Roaming\\Python\\Python311\\site-packages\\sklearn\\svm\\_base.py:1250: ConvergenceWarning: Liblinear failed to converge, increase the number of iterations.\n",
      "  warnings.warn(\n"
     ]
    },
    {
     "name": "stdout",
     "output_type": "stream",
     "text": [
      "[CV 4/5] END C=1, class_weight=None, dual=auto, fit_intercept=True, intercept_scaling=2, loss=hinge, multi_class=crammer_singer, penalty=l1;, score=0.962 total time=   8.6s\n"
     ]
    },
    {
     "name": "stderr",
     "output_type": "stream",
     "text": [
      "C:\\Users\\never\\AppData\\Roaming\\Python\\Python311\\site-packages\\sklearn\\svm\\_base.py:1250: ConvergenceWarning: Liblinear failed to converge, increase the number of iterations.\n",
      "  warnings.warn(\n"
     ]
    },
    {
     "name": "stdout",
     "output_type": "stream",
     "text": [
      "[CV 5/5] END C=1, class_weight=None, dual=auto, fit_intercept=True, intercept_scaling=2, loss=hinge, multi_class=crammer_singer, penalty=l1;, score=0.960 total time=   6.2s\n"
     ]
    },
    {
     "name": "stderr",
     "output_type": "stream",
     "text": [
      "C:\\Users\\never\\AppData\\Roaming\\Python\\Python311\\site-packages\\sklearn\\svm\\_base.py:1250: ConvergenceWarning: Liblinear failed to converge, increase the number of iterations.\n",
      "  warnings.warn(\n"
     ]
    },
    {
     "name": "stdout",
     "output_type": "stream",
     "text": [
      "[CV 1/5] END C=1, class_weight=None, dual=auto, fit_intercept=True, intercept_scaling=2, loss=hinge, multi_class=crammer_singer, penalty=l2;, score=0.954 total time=   8.3s\n"
     ]
    },
    {
     "name": "stderr",
     "output_type": "stream",
     "text": [
      "C:\\Users\\never\\AppData\\Roaming\\Python\\Python311\\site-packages\\sklearn\\svm\\_base.py:1250: ConvergenceWarning: Liblinear failed to converge, increase the number of iterations.\n",
      "  warnings.warn(\n"
     ]
    },
    {
     "name": "stdout",
     "output_type": "stream",
     "text": [
      "[CV 2/5] END C=1, class_weight=None, dual=auto, fit_intercept=True, intercept_scaling=2, loss=hinge, multi_class=crammer_singer, penalty=l2;, score=0.956 total time=   6.5s\n"
     ]
    },
    {
     "name": "stderr",
     "output_type": "stream",
     "text": [
      "C:\\Users\\never\\AppData\\Roaming\\Python\\Python311\\site-packages\\sklearn\\svm\\_base.py:1250: ConvergenceWarning: Liblinear failed to converge, increase the number of iterations.\n",
      "  warnings.warn(\n"
     ]
    },
    {
     "name": "stdout",
     "output_type": "stream",
     "text": [
      "[CV 3/5] END C=1, class_weight=None, dual=auto, fit_intercept=True, intercept_scaling=2, loss=hinge, multi_class=crammer_singer, penalty=l2;, score=0.958 total time=   5.2s\n"
     ]
    },
    {
     "name": "stderr",
     "output_type": "stream",
     "text": [
      "C:\\Users\\never\\AppData\\Roaming\\Python\\Python311\\site-packages\\sklearn\\svm\\_base.py:1250: ConvergenceWarning: Liblinear failed to converge, increase the number of iterations.\n",
      "  warnings.warn(\n"
     ]
    },
    {
     "name": "stdout",
     "output_type": "stream",
     "text": [
      "[CV 4/5] END C=1, class_weight=None, dual=auto, fit_intercept=True, intercept_scaling=2, loss=hinge, multi_class=crammer_singer, penalty=l2;, score=0.962 total time=   8.9s\n"
     ]
    },
    {
     "name": "stderr",
     "output_type": "stream",
     "text": [
      "C:\\Users\\never\\AppData\\Roaming\\Python\\Python311\\site-packages\\sklearn\\svm\\_base.py:1250: ConvergenceWarning: Liblinear failed to converge, increase the number of iterations.\n",
      "  warnings.warn(\n"
     ]
    },
    {
     "name": "stdout",
     "output_type": "stream",
     "text": [
      "[CV 5/5] END C=1, class_weight=None, dual=auto, fit_intercept=True, intercept_scaling=2, loss=hinge, multi_class=crammer_singer, penalty=l2;, score=0.960 total time=   7.0s\n",
      "[CV 1/5] END C=1, class_weight=None, dual=auto, fit_intercept=True, intercept_scaling=2, loss=squared_hinge, multi_class=ovr, penalty=l1;, score=0.956 total time=   4.5s\n",
      "[CV 2/5] END C=1, class_weight=None, dual=auto, fit_intercept=True, intercept_scaling=2, loss=squared_hinge, multi_class=ovr, penalty=l1;, score=0.956 total time=   4.3s\n",
      "[CV 3/5] END C=1, class_weight=None, dual=auto, fit_intercept=True, intercept_scaling=2, loss=squared_hinge, multi_class=ovr, penalty=l1;, score=0.959 total time=   4.4s\n",
      "[CV 4/5] END C=1, class_weight=None, dual=auto, fit_intercept=True, intercept_scaling=2, loss=squared_hinge, multi_class=ovr, penalty=l1;, score=0.961 total time=   4.2s\n",
      "[CV 5/5] END C=1, class_weight=None, dual=auto, fit_intercept=True, intercept_scaling=2, loss=squared_hinge, multi_class=ovr, penalty=l1;, score=0.965 total time=   4.4s\n",
      "[CV 1/5] END C=1, class_weight=None, dual=auto, fit_intercept=True, intercept_scaling=2, loss=squared_hinge, multi_class=ovr, penalty=l2;, score=0.953 total time=   3.5s\n",
      "[CV 2/5] END C=1, class_weight=None, dual=auto, fit_intercept=True, intercept_scaling=2, loss=squared_hinge, multi_class=ovr, penalty=l2;, score=0.953 total time=   3.6s\n",
      "[CV 3/5] END C=1, class_weight=None, dual=auto, fit_intercept=True, intercept_scaling=2, loss=squared_hinge, multi_class=ovr, penalty=l2;, score=0.955 total time=   3.2s\n",
      "[CV 4/5] END C=1, class_weight=None, dual=auto, fit_intercept=True, intercept_scaling=2, loss=squared_hinge, multi_class=ovr, penalty=l2;, score=0.961 total time=   2.9s\n",
      "[CV 5/5] END C=1, class_weight=None, dual=auto, fit_intercept=True, intercept_scaling=2, loss=squared_hinge, multi_class=ovr, penalty=l2;, score=0.960 total time=   2.9s\n"
     ]
    },
    {
     "name": "stderr",
     "output_type": "stream",
     "text": [
      "C:\\Users\\never\\AppData\\Roaming\\Python\\Python311\\site-packages\\sklearn\\svm\\_base.py:1250: ConvergenceWarning: Liblinear failed to converge, increase the number of iterations.\n",
      "  warnings.warn(\n"
     ]
    },
    {
     "name": "stdout",
     "output_type": "stream",
     "text": [
      "[CV 1/5] END C=1, class_weight=None, dual=auto, fit_intercept=True, intercept_scaling=2, loss=squared_hinge, multi_class=crammer_singer, penalty=l1;, score=0.954 total time=   7.3s\n"
     ]
    },
    {
     "name": "stderr",
     "output_type": "stream",
     "text": [
      "C:\\Users\\never\\AppData\\Roaming\\Python\\Python311\\site-packages\\sklearn\\svm\\_base.py:1250: ConvergenceWarning: Liblinear failed to converge, increase the number of iterations.\n",
      "  warnings.warn(\n"
     ]
    },
    {
     "name": "stdout",
     "output_type": "stream",
     "text": [
      "[CV 2/5] END C=1, class_weight=None, dual=auto, fit_intercept=True, intercept_scaling=2, loss=squared_hinge, multi_class=crammer_singer, penalty=l1;, score=0.956 total time=   6.1s\n"
     ]
    },
    {
     "name": "stderr",
     "output_type": "stream",
     "text": [
      "C:\\Users\\never\\AppData\\Roaming\\Python\\Python311\\site-packages\\sklearn\\svm\\_base.py:1250: ConvergenceWarning: Liblinear failed to converge, increase the number of iterations.\n",
      "  warnings.warn(\n"
     ]
    },
    {
     "name": "stdout",
     "output_type": "stream",
     "text": [
      "[CV 3/5] END C=1, class_weight=None, dual=auto, fit_intercept=True, intercept_scaling=2, loss=squared_hinge, multi_class=crammer_singer, penalty=l1;, score=0.958 total time=   5.1s\n"
     ]
    },
    {
     "name": "stderr",
     "output_type": "stream",
     "text": [
      "C:\\Users\\never\\AppData\\Roaming\\Python\\Python311\\site-packages\\sklearn\\svm\\_base.py:1250: ConvergenceWarning: Liblinear failed to converge, increase the number of iterations.\n",
      "  warnings.warn(\n"
     ]
    },
    {
     "name": "stdout",
     "output_type": "stream",
     "text": [
      "[CV 4/5] END C=1, class_weight=None, dual=auto, fit_intercept=True, intercept_scaling=2, loss=squared_hinge, multi_class=crammer_singer, penalty=l1;, score=0.962 total time=   7.6s\n"
     ]
    },
    {
     "name": "stderr",
     "output_type": "stream",
     "text": [
      "C:\\Users\\never\\AppData\\Roaming\\Python\\Python311\\site-packages\\sklearn\\svm\\_base.py:1250: ConvergenceWarning: Liblinear failed to converge, increase the number of iterations.\n",
      "  warnings.warn(\n"
     ]
    },
    {
     "name": "stdout",
     "output_type": "stream",
     "text": [
      "[CV 5/5] END C=1, class_weight=None, dual=auto, fit_intercept=True, intercept_scaling=2, loss=squared_hinge, multi_class=crammer_singer, penalty=l1;, score=0.960 total time=   5.8s\n"
     ]
    },
    {
     "name": "stderr",
     "output_type": "stream",
     "text": [
      "C:\\Users\\never\\AppData\\Roaming\\Python\\Python311\\site-packages\\sklearn\\svm\\_base.py:1250: ConvergenceWarning: Liblinear failed to converge, increase the number of iterations.\n",
      "  warnings.warn(\n"
     ]
    },
    {
     "name": "stdout",
     "output_type": "stream",
     "text": [
      "[CV 1/5] END C=1, class_weight=None, dual=auto, fit_intercept=True, intercept_scaling=2, loss=squared_hinge, multi_class=crammer_singer, penalty=l2;, score=0.954 total time=   7.4s\n"
     ]
    },
    {
     "name": "stderr",
     "output_type": "stream",
     "text": [
      "C:\\Users\\never\\AppData\\Roaming\\Python\\Python311\\site-packages\\sklearn\\svm\\_base.py:1250: ConvergenceWarning: Liblinear failed to converge, increase the number of iterations.\n",
      "  warnings.warn(\n"
     ]
    },
    {
     "name": "stdout",
     "output_type": "stream",
     "text": [
      "[CV 2/5] END C=1, class_weight=None, dual=auto, fit_intercept=True, intercept_scaling=2, loss=squared_hinge, multi_class=crammer_singer, penalty=l2;, score=0.956 total time=   6.1s\n"
     ]
    },
    {
     "name": "stderr",
     "output_type": "stream",
     "text": [
      "C:\\Users\\never\\AppData\\Roaming\\Python\\Python311\\site-packages\\sklearn\\svm\\_base.py:1250: ConvergenceWarning: Liblinear failed to converge, increase the number of iterations.\n",
      "  warnings.warn(\n"
     ]
    },
    {
     "name": "stdout",
     "output_type": "stream",
     "text": [
      "[CV 3/5] END C=1, class_weight=None, dual=auto, fit_intercept=True, intercept_scaling=2, loss=squared_hinge, multi_class=crammer_singer, penalty=l2;, score=0.958 total time=   5.1s\n"
     ]
    },
    {
     "name": "stderr",
     "output_type": "stream",
     "text": [
      "C:\\Users\\never\\AppData\\Roaming\\Python\\Python311\\site-packages\\sklearn\\svm\\_base.py:1250: ConvergenceWarning: Liblinear failed to converge, increase the number of iterations.\n",
      "  warnings.warn(\n"
     ]
    },
    {
     "name": "stdout",
     "output_type": "stream",
     "text": [
      "[CV 4/5] END C=1, class_weight=None, dual=auto, fit_intercept=True, intercept_scaling=2, loss=squared_hinge, multi_class=crammer_singer, penalty=l2;, score=0.962 total time=   7.9s\n"
     ]
    },
    {
     "name": "stderr",
     "output_type": "stream",
     "text": [
      "C:\\Users\\never\\AppData\\Roaming\\Python\\Python311\\site-packages\\sklearn\\svm\\_base.py:1250: ConvergenceWarning: Liblinear failed to converge, increase the number of iterations.\n",
      "  warnings.warn(\n"
     ]
    },
    {
     "name": "stdout",
     "output_type": "stream",
     "text": [
      "[CV 5/5] END C=1, class_weight=None, dual=auto, fit_intercept=True, intercept_scaling=2, loss=squared_hinge, multi_class=crammer_singer, penalty=l2;, score=0.960 total time=   5.8s\n",
      "[CV 1/5] END C=1, class_weight=None, dual=auto, fit_intercept=False, intercept_scaling=1, loss=hinge, multi_class=ovr, penalty=l1;, score=nan total time=   1.2s\n",
      "[CV 2/5] END C=1, class_weight=None, dual=auto, fit_intercept=False, intercept_scaling=1, loss=hinge, multi_class=ovr, penalty=l1;, score=nan total time=   1.1s\n",
      "[CV 3/5] END C=1, class_weight=None, dual=auto, fit_intercept=False, intercept_scaling=1, loss=hinge, multi_class=ovr, penalty=l1;, score=nan total time=   1.1s\n",
      "[CV 4/5] END C=1, class_weight=None, dual=auto, fit_intercept=False, intercept_scaling=1, loss=hinge, multi_class=ovr, penalty=l1;, score=nan total time=   1.2s\n",
      "[CV 5/5] END C=1, class_weight=None, dual=auto, fit_intercept=False, intercept_scaling=1, loss=hinge, multi_class=ovr, penalty=l1;, score=nan total time=   1.1s\n",
      "[CV 1/5] END C=1, class_weight=None, dual=auto, fit_intercept=False, intercept_scaling=1, loss=hinge, multi_class=ovr, penalty=l2;, score=0.942 total time=   2.5s\n",
      "[CV 2/5] END C=1, class_weight=None, dual=auto, fit_intercept=False, intercept_scaling=1, loss=hinge, multi_class=ovr, penalty=l2;, score=0.943 total time=   2.7s\n",
      "[CV 3/5] END C=1, class_weight=None, dual=auto, fit_intercept=False, intercept_scaling=1, loss=hinge, multi_class=ovr, penalty=l2;, score=0.944 total time=   2.6s\n",
      "[CV 4/5] END C=1, class_weight=None, dual=auto, fit_intercept=False, intercept_scaling=1, loss=hinge, multi_class=ovr, penalty=l2;, score=0.952 total time=   2.5s\n",
      "[CV 5/5] END C=1, class_weight=None, dual=auto, fit_intercept=False, intercept_scaling=1, loss=hinge, multi_class=ovr, penalty=l2;, score=0.951 total time=   2.5s\n"
     ]
    },
    {
     "name": "stderr",
     "output_type": "stream",
     "text": [
      "C:\\Users\\never\\AppData\\Roaming\\Python\\Python311\\site-packages\\sklearn\\svm\\_base.py:1250: ConvergenceWarning: Liblinear failed to converge, increase the number of iterations.\n",
      "  warnings.warn(\n"
     ]
    },
    {
     "name": "stdout",
     "output_type": "stream",
     "text": [
      "[CV 1/5] END C=1, class_weight=None, dual=auto, fit_intercept=False, intercept_scaling=1, loss=hinge, multi_class=crammer_singer, penalty=l1;, score=0.948 total time=   3.1s\n"
     ]
    },
    {
     "name": "stderr",
     "output_type": "stream",
     "text": [
      "C:\\Users\\never\\AppData\\Roaming\\Python\\Python311\\site-packages\\sklearn\\svm\\_base.py:1250: ConvergenceWarning: Liblinear failed to converge, increase the number of iterations.\n",
      "  warnings.warn(\n"
     ]
    },
    {
     "name": "stdout",
     "output_type": "stream",
     "text": [
      "[CV 2/5] END C=1, class_weight=None, dual=auto, fit_intercept=False, intercept_scaling=1, loss=hinge, multi_class=crammer_singer, penalty=l1;, score=0.947 total time=   3.3s\n"
     ]
    },
    {
     "name": "stderr",
     "output_type": "stream",
     "text": [
      "C:\\Users\\never\\AppData\\Roaming\\Python\\Python311\\site-packages\\sklearn\\svm\\_base.py:1250: ConvergenceWarning: Liblinear failed to converge, increase the number of iterations.\n",
      "  warnings.warn(\n"
     ]
    },
    {
     "name": "stdout",
     "output_type": "stream",
     "text": [
      "[CV 3/5] END C=1, class_weight=None, dual=auto, fit_intercept=False, intercept_scaling=1, loss=hinge, multi_class=crammer_singer, penalty=l1;, score=0.953 total time=   2.9s\n"
     ]
    },
    {
     "name": "stderr",
     "output_type": "stream",
     "text": [
      "C:\\Users\\never\\AppData\\Roaming\\Python\\Python311\\site-packages\\sklearn\\svm\\_base.py:1250: ConvergenceWarning: Liblinear failed to converge, increase the number of iterations.\n",
      "  warnings.warn(\n"
     ]
    },
    {
     "name": "stdout",
     "output_type": "stream",
     "text": [
      "[CV 4/5] END C=1, class_weight=None, dual=auto, fit_intercept=False, intercept_scaling=1, loss=hinge, multi_class=crammer_singer, penalty=l1;, score=0.956 total time=   3.0s\n"
     ]
    },
    {
     "name": "stderr",
     "output_type": "stream",
     "text": [
      "C:\\Users\\never\\AppData\\Roaming\\Python\\Python311\\site-packages\\sklearn\\svm\\_base.py:1250: ConvergenceWarning: Liblinear failed to converge, increase the number of iterations.\n",
      "  warnings.warn(\n"
     ]
    },
    {
     "name": "stdout",
     "output_type": "stream",
     "text": [
      "[CV 5/5] END C=1, class_weight=None, dual=auto, fit_intercept=False, intercept_scaling=1, loss=hinge, multi_class=crammer_singer, penalty=l1;, score=0.957 total time=   2.8s\n"
     ]
    },
    {
     "name": "stderr",
     "output_type": "stream",
     "text": [
      "C:\\Users\\never\\AppData\\Roaming\\Python\\Python311\\site-packages\\sklearn\\svm\\_base.py:1250: ConvergenceWarning: Liblinear failed to converge, increase the number of iterations.\n",
      "  warnings.warn(\n"
     ]
    },
    {
     "name": "stdout",
     "output_type": "stream",
     "text": [
      "[CV 1/5] END C=1, class_weight=None, dual=auto, fit_intercept=False, intercept_scaling=1, loss=hinge, multi_class=crammer_singer, penalty=l2;, score=0.948 total time=   2.9s\n"
     ]
    },
    {
     "name": "stderr",
     "output_type": "stream",
     "text": [
      "C:\\Users\\never\\AppData\\Roaming\\Python\\Python311\\site-packages\\sklearn\\svm\\_base.py:1250: ConvergenceWarning: Liblinear failed to converge, increase the number of iterations.\n",
      "  warnings.warn(\n"
     ]
    },
    {
     "name": "stdout",
     "output_type": "stream",
     "text": [
      "[CV 2/5] END C=1, class_weight=None, dual=auto, fit_intercept=False, intercept_scaling=1, loss=hinge, multi_class=crammer_singer, penalty=l2;, score=0.947 total time=   3.3s\n"
     ]
    },
    {
     "name": "stderr",
     "output_type": "stream",
     "text": [
      "C:\\Users\\never\\AppData\\Roaming\\Python\\Python311\\site-packages\\sklearn\\svm\\_base.py:1250: ConvergenceWarning: Liblinear failed to converge, increase the number of iterations.\n",
      "  warnings.warn(\n"
     ]
    },
    {
     "name": "stdout",
     "output_type": "stream",
     "text": [
      "[CV 3/5] END C=1, class_weight=None, dual=auto, fit_intercept=False, intercept_scaling=1, loss=hinge, multi_class=crammer_singer, penalty=l2;, score=0.953 total time=   2.9s\n"
     ]
    },
    {
     "name": "stderr",
     "output_type": "stream",
     "text": [
      "C:\\Users\\never\\AppData\\Roaming\\Python\\Python311\\site-packages\\sklearn\\svm\\_base.py:1250: ConvergenceWarning: Liblinear failed to converge, increase the number of iterations.\n",
      "  warnings.warn(\n"
     ]
    },
    {
     "name": "stdout",
     "output_type": "stream",
     "text": [
      "[CV 4/5] END C=1, class_weight=None, dual=auto, fit_intercept=False, intercept_scaling=1, loss=hinge, multi_class=crammer_singer, penalty=l2;, score=0.956 total time=   3.0s\n"
     ]
    },
    {
     "name": "stderr",
     "output_type": "stream",
     "text": [
      "C:\\Users\\never\\AppData\\Roaming\\Python\\Python311\\site-packages\\sklearn\\svm\\_base.py:1250: ConvergenceWarning: Liblinear failed to converge, increase the number of iterations.\n",
      "  warnings.warn(\n"
     ]
    },
    {
     "name": "stdout",
     "output_type": "stream",
     "text": [
      "[CV 5/5] END C=1, class_weight=None, dual=auto, fit_intercept=False, intercept_scaling=1, loss=hinge, multi_class=crammer_singer, penalty=l2;, score=0.957 total time=   2.7s\n",
      "[CV 1/5] END C=1, class_weight=None, dual=auto, fit_intercept=False, intercept_scaling=1, loss=squared_hinge, multi_class=ovr, penalty=l1;, score=0.950 total time=   3.3s\n",
      "[CV 2/5] END C=1, class_weight=None, dual=auto, fit_intercept=False, intercept_scaling=1, loss=squared_hinge, multi_class=ovr, penalty=l1;, score=0.949 total time=   3.6s\n",
      "[CV 3/5] END C=1, class_weight=None, dual=auto, fit_intercept=False, intercept_scaling=1, loss=squared_hinge, multi_class=ovr, penalty=l1;, score=0.954 total time=   3.5s\n",
      "[CV 4/5] END C=1, class_weight=None, dual=auto, fit_intercept=False, intercept_scaling=1, loss=squared_hinge, multi_class=ovr, penalty=l1;, score=0.957 total time=   3.4s\n",
      "[CV 5/5] END C=1, class_weight=None, dual=auto, fit_intercept=False, intercept_scaling=1, loss=squared_hinge, multi_class=ovr, penalty=l1;, score=0.956 total time=   3.2s\n",
      "[CV 1/5] END C=1, class_weight=None, dual=auto, fit_intercept=False, intercept_scaling=1, loss=squared_hinge, multi_class=ovr, penalty=l2;, score=0.946 total time=   2.7s\n",
      "[CV 2/5] END C=1, class_weight=None, dual=auto, fit_intercept=False, intercept_scaling=1, loss=squared_hinge, multi_class=ovr, penalty=l2;, score=0.948 total time=   2.7s\n",
      "[CV 3/5] END C=1, class_weight=None, dual=auto, fit_intercept=False, intercept_scaling=1, loss=squared_hinge, multi_class=ovr, penalty=l2;, score=0.950 total time=   2.6s\n",
      "[CV 4/5] END C=1, class_weight=None, dual=auto, fit_intercept=False, intercept_scaling=1, loss=squared_hinge, multi_class=ovr, penalty=l2;, score=0.957 total time=   2.6s\n",
      "[CV 5/5] END C=1, class_weight=None, dual=auto, fit_intercept=False, intercept_scaling=1, loss=squared_hinge, multi_class=ovr, penalty=l2;, score=0.955 total time=   2.6s\n"
     ]
    },
    {
     "name": "stderr",
     "output_type": "stream",
     "text": [
      "C:\\Users\\never\\AppData\\Roaming\\Python\\Python311\\site-packages\\sklearn\\svm\\_base.py:1250: ConvergenceWarning: Liblinear failed to converge, increase the number of iterations.\n",
      "  warnings.warn(\n"
     ]
    },
    {
     "name": "stdout",
     "output_type": "stream",
     "text": [
      "[CV 1/5] END C=1, class_weight=None, dual=auto, fit_intercept=False, intercept_scaling=1, loss=squared_hinge, multi_class=crammer_singer, penalty=l1;, score=0.948 total time=   2.9s\n"
     ]
    },
    {
     "name": "stderr",
     "output_type": "stream",
     "text": [
      "C:\\Users\\never\\AppData\\Roaming\\Python\\Python311\\site-packages\\sklearn\\svm\\_base.py:1250: ConvergenceWarning: Liblinear failed to converge, increase the number of iterations.\n",
      "  warnings.warn(\n"
     ]
    },
    {
     "name": "stdout",
     "output_type": "stream",
     "text": [
      "[CV 2/5] END C=1, class_weight=None, dual=auto, fit_intercept=False, intercept_scaling=1, loss=squared_hinge, multi_class=crammer_singer, penalty=l1;, score=0.947 total time=   3.3s\n"
     ]
    },
    {
     "name": "stderr",
     "output_type": "stream",
     "text": [
      "C:\\Users\\never\\AppData\\Roaming\\Python\\Python311\\site-packages\\sklearn\\svm\\_base.py:1250: ConvergenceWarning: Liblinear failed to converge, increase the number of iterations.\n",
      "  warnings.warn(\n"
     ]
    },
    {
     "name": "stdout",
     "output_type": "stream",
     "text": [
      "[CV 3/5] END C=1, class_weight=None, dual=auto, fit_intercept=False, intercept_scaling=1, loss=squared_hinge, multi_class=crammer_singer, penalty=l1;, score=0.953 total time=   2.9s\n"
     ]
    },
    {
     "name": "stderr",
     "output_type": "stream",
     "text": [
      "C:\\Users\\never\\AppData\\Roaming\\Python\\Python311\\site-packages\\sklearn\\svm\\_base.py:1250: ConvergenceWarning: Liblinear failed to converge, increase the number of iterations.\n",
      "  warnings.warn(\n"
     ]
    },
    {
     "name": "stdout",
     "output_type": "stream",
     "text": [
      "[CV 4/5] END C=1, class_weight=None, dual=auto, fit_intercept=False, intercept_scaling=1, loss=squared_hinge, multi_class=crammer_singer, penalty=l1;, score=0.956 total time=   3.0s\n"
     ]
    },
    {
     "name": "stderr",
     "output_type": "stream",
     "text": [
      "C:\\Users\\never\\AppData\\Roaming\\Python\\Python311\\site-packages\\sklearn\\svm\\_base.py:1250: ConvergenceWarning: Liblinear failed to converge, increase the number of iterations.\n",
      "  warnings.warn(\n"
     ]
    },
    {
     "name": "stdout",
     "output_type": "stream",
     "text": [
      "[CV 5/5] END C=1, class_weight=None, dual=auto, fit_intercept=False, intercept_scaling=1, loss=squared_hinge, multi_class=crammer_singer, penalty=l1;, score=0.957 total time=   2.7s\n"
     ]
    },
    {
     "name": "stderr",
     "output_type": "stream",
     "text": [
      "C:\\Users\\never\\AppData\\Roaming\\Python\\Python311\\site-packages\\sklearn\\svm\\_base.py:1250: ConvergenceWarning: Liblinear failed to converge, increase the number of iterations.\n",
      "  warnings.warn(\n"
     ]
    },
    {
     "name": "stdout",
     "output_type": "stream",
     "text": [
      "[CV 1/5] END C=1, class_weight=None, dual=auto, fit_intercept=False, intercept_scaling=1, loss=squared_hinge, multi_class=crammer_singer, penalty=l2;, score=0.948 total time=   2.9s\n"
     ]
    },
    {
     "name": "stderr",
     "output_type": "stream",
     "text": [
      "C:\\Users\\never\\AppData\\Roaming\\Python\\Python311\\site-packages\\sklearn\\svm\\_base.py:1250: ConvergenceWarning: Liblinear failed to converge, increase the number of iterations.\n",
      "  warnings.warn(\n"
     ]
    },
    {
     "name": "stdout",
     "output_type": "stream",
     "text": [
      "[CV 2/5] END C=1, class_weight=None, dual=auto, fit_intercept=False, intercept_scaling=1, loss=squared_hinge, multi_class=crammer_singer, penalty=l2;, score=0.947 total time=   3.3s\n"
     ]
    },
    {
     "name": "stderr",
     "output_type": "stream",
     "text": [
      "C:\\Users\\never\\AppData\\Roaming\\Python\\Python311\\site-packages\\sklearn\\svm\\_base.py:1250: ConvergenceWarning: Liblinear failed to converge, increase the number of iterations.\n",
      "  warnings.warn(\n"
     ]
    },
    {
     "name": "stdout",
     "output_type": "stream",
     "text": [
      "[CV 3/5] END C=1, class_weight=None, dual=auto, fit_intercept=False, intercept_scaling=1, loss=squared_hinge, multi_class=crammer_singer, penalty=l2;, score=0.953 total time=   2.9s\n"
     ]
    },
    {
     "name": "stderr",
     "output_type": "stream",
     "text": [
      "C:\\Users\\never\\AppData\\Roaming\\Python\\Python311\\site-packages\\sklearn\\svm\\_base.py:1250: ConvergenceWarning: Liblinear failed to converge, increase the number of iterations.\n",
      "  warnings.warn(\n"
     ]
    },
    {
     "name": "stdout",
     "output_type": "stream",
     "text": [
      "[CV 4/5] END C=1, class_weight=None, dual=auto, fit_intercept=False, intercept_scaling=1, loss=squared_hinge, multi_class=crammer_singer, penalty=l2;, score=0.956 total time=   3.0s\n"
     ]
    },
    {
     "name": "stderr",
     "output_type": "stream",
     "text": [
      "C:\\Users\\never\\AppData\\Roaming\\Python\\Python311\\site-packages\\sklearn\\svm\\_base.py:1250: ConvergenceWarning: Liblinear failed to converge, increase the number of iterations.\n",
      "  warnings.warn(\n"
     ]
    },
    {
     "name": "stdout",
     "output_type": "stream",
     "text": [
      "[CV 5/5] END C=1, class_weight=None, dual=auto, fit_intercept=False, intercept_scaling=1, loss=squared_hinge, multi_class=crammer_singer, penalty=l2;, score=0.957 total time=   2.7s\n",
      "[CV 1/5] END C=1, class_weight=None, dual=auto, fit_intercept=False, intercept_scaling=1.5, loss=hinge, multi_class=ovr, penalty=l1;, score=nan total time=   1.1s\n",
      "[CV 2/5] END C=1, class_weight=None, dual=auto, fit_intercept=False, intercept_scaling=1.5, loss=hinge, multi_class=ovr, penalty=l1;, score=nan total time=   1.1s\n",
      "[CV 3/5] END C=1, class_weight=None, dual=auto, fit_intercept=False, intercept_scaling=1.5, loss=hinge, multi_class=ovr, penalty=l1;, score=nan total time=   1.0s\n",
      "[CV 4/5] END C=1, class_weight=None, dual=auto, fit_intercept=False, intercept_scaling=1.5, loss=hinge, multi_class=ovr, penalty=l1;, score=nan total time=   1.0s\n",
      "[CV 5/5] END C=1, class_weight=None, dual=auto, fit_intercept=False, intercept_scaling=1.5, loss=hinge, multi_class=ovr, penalty=l1;, score=nan total time=   1.0s\n",
      "[CV 1/5] END C=1, class_weight=None, dual=auto, fit_intercept=False, intercept_scaling=1.5, loss=hinge, multi_class=ovr, penalty=l2;, score=0.942 total time=   2.5s\n",
      "[CV 2/5] END C=1, class_weight=None, dual=auto, fit_intercept=False, intercept_scaling=1.5, loss=hinge, multi_class=ovr, penalty=l2;, score=0.943 total time=   2.5s\n",
      "[CV 3/5] END C=1, class_weight=None, dual=auto, fit_intercept=False, intercept_scaling=1.5, loss=hinge, multi_class=ovr, penalty=l2;, score=0.944 total time=   2.5s\n",
      "[CV 4/5] END C=1, class_weight=None, dual=auto, fit_intercept=False, intercept_scaling=1.5, loss=hinge, multi_class=ovr, penalty=l2;, score=0.952 total time=   2.5s\n",
      "[CV 5/5] END C=1, class_weight=None, dual=auto, fit_intercept=False, intercept_scaling=1.5, loss=hinge, multi_class=ovr, penalty=l2;, score=0.951 total time=   2.5s\n"
     ]
    },
    {
     "name": "stderr",
     "output_type": "stream",
     "text": [
      "C:\\Users\\never\\AppData\\Roaming\\Python\\Python311\\site-packages\\sklearn\\svm\\_base.py:1250: ConvergenceWarning: Liblinear failed to converge, increase the number of iterations.\n",
      "  warnings.warn(\n"
     ]
    },
    {
     "name": "stdout",
     "output_type": "stream",
     "text": [
      "[CV 1/5] END C=1, class_weight=None, dual=auto, fit_intercept=False, intercept_scaling=1.5, loss=hinge, multi_class=crammer_singer, penalty=l1;, score=0.948 total time=   2.9s\n"
     ]
    },
    {
     "name": "stderr",
     "output_type": "stream",
     "text": [
      "C:\\Users\\never\\AppData\\Roaming\\Python\\Python311\\site-packages\\sklearn\\svm\\_base.py:1250: ConvergenceWarning: Liblinear failed to converge, increase the number of iterations.\n",
      "  warnings.warn(\n"
     ]
    },
    {
     "name": "stdout",
     "output_type": "stream",
     "text": [
      "[CV 2/5] END C=1, class_weight=None, dual=auto, fit_intercept=False, intercept_scaling=1.5, loss=hinge, multi_class=crammer_singer, penalty=l1;, score=0.947 total time=   3.3s\n"
     ]
    },
    {
     "name": "stderr",
     "output_type": "stream",
     "text": [
      "C:\\Users\\never\\AppData\\Roaming\\Python\\Python311\\site-packages\\sklearn\\svm\\_base.py:1250: ConvergenceWarning: Liblinear failed to converge, increase the number of iterations.\n",
      "  warnings.warn(\n"
     ]
    },
    {
     "name": "stdout",
     "output_type": "stream",
     "text": [
      "[CV 3/5] END C=1, class_weight=None, dual=auto, fit_intercept=False, intercept_scaling=1.5, loss=hinge, multi_class=crammer_singer, penalty=l1;, score=0.953 total time=   2.9s\n"
     ]
    },
    {
     "name": "stderr",
     "output_type": "stream",
     "text": [
      "C:\\Users\\never\\AppData\\Roaming\\Python\\Python311\\site-packages\\sklearn\\svm\\_base.py:1250: ConvergenceWarning: Liblinear failed to converge, increase the number of iterations.\n",
      "  warnings.warn(\n"
     ]
    },
    {
     "name": "stdout",
     "output_type": "stream",
     "text": [
      "[CV 4/5] END C=1, class_weight=None, dual=auto, fit_intercept=False, intercept_scaling=1.5, loss=hinge, multi_class=crammer_singer, penalty=l1;, score=0.956 total time=   3.0s\n"
     ]
    },
    {
     "name": "stderr",
     "output_type": "stream",
     "text": [
      "C:\\Users\\never\\AppData\\Roaming\\Python\\Python311\\site-packages\\sklearn\\svm\\_base.py:1250: ConvergenceWarning: Liblinear failed to converge, increase the number of iterations.\n",
      "  warnings.warn(\n"
     ]
    },
    {
     "name": "stdout",
     "output_type": "stream",
     "text": [
      "[CV 5/5] END C=1, class_weight=None, dual=auto, fit_intercept=False, intercept_scaling=1.5, loss=hinge, multi_class=crammer_singer, penalty=l1;, score=0.957 total time=   2.7s\n"
     ]
    },
    {
     "name": "stderr",
     "output_type": "stream",
     "text": [
      "C:\\Users\\never\\AppData\\Roaming\\Python\\Python311\\site-packages\\sklearn\\svm\\_base.py:1250: ConvergenceWarning: Liblinear failed to converge, increase the number of iterations.\n",
      "  warnings.warn(\n"
     ]
    },
    {
     "name": "stdout",
     "output_type": "stream",
     "text": [
      "[CV 1/5] END C=1, class_weight=None, dual=auto, fit_intercept=False, intercept_scaling=1.5, loss=hinge, multi_class=crammer_singer, penalty=l2;, score=0.948 total time=   2.9s\n"
     ]
    },
    {
     "name": "stderr",
     "output_type": "stream",
     "text": [
      "C:\\Users\\never\\AppData\\Roaming\\Python\\Python311\\site-packages\\sklearn\\svm\\_base.py:1250: ConvergenceWarning: Liblinear failed to converge, increase the number of iterations.\n",
      "  warnings.warn(\n"
     ]
    },
    {
     "name": "stdout",
     "output_type": "stream",
     "text": [
      "[CV 2/5] END C=1, class_weight=None, dual=auto, fit_intercept=False, intercept_scaling=1.5, loss=hinge, multi_class=crammer_singer, penalty=l2;, score=0.947 total time=   3.3s\n"
     ]
    },
    {
     "name": "stderr",
     "output_type": "stream",
     "text": [
      "C:\\Users\\never\\AppData\\Roaming\\Python\\Python311\\site-packages\\sklearn\\svm\\_base.py:1250: ConvergenceWarning: Liblinear failed to converge, increase the number of iterations.\n",
      "  warnings.warn(\n"
     ]
    },
    {
     "name": "stdout",
     "output_type": "stream",
     "text": [
      "[CV 3/5] END C=1, class_weight=None, dual=auto, fit_intercept=False, intercept_scaling=1.5, loss=hinge, multi_class=crammer_singer, penalty=l2;, score=0.953 total time=   2.9s\n"
     ]
    },
    {
     "name": "stderr",
     "output_type": "stream",
     "text": [
      "C:\\Users\\never\\AppData\\Roaming\\Python\\Python311\\site-packages\\sklearn\\svm\\_base.py:1250: ConvergenceWarning: Liblinear failed to converge, increase the number of iterations.\n",
      "  warnings.warn(\n"
     ]
    },
    {
     "name": "stdout",
     "output_type": "stream",
     "text": [
      "[CV 4/5] END C=1, class_weight=None, dual=auto, fit_intercept=False, intercept_scaling=1.5, loss=hinge, multi_class=crammer_singer, penalty=l2;, score=0.956 total time=   3.0s\n"
     ]
    },
    {
     "name": "stderr",
     "output_type": "stream",
     "text": [
      "C:\\Users\\never\\AppData\\Roaming\\Python\\Python311\\site-packages\\sklearn\\svm\\_base.py:1250: ConvergenceWarning: Liblinear failed to converge, increase the number of iterations.\n",
      "  warnings.warn(\n"
     ]
    },
    {
     "name": "stdout",
     "output_type": "stream",
     "text": [
      "[CV 5/5] END C=1, class_weight=None, dual=auto, fit_intercept=False, intercept_scaling=1.5, loss=hinge, multi_class=crammer_singer, penalty=l2;, score=0.957 total time=   2.7s\n",
      "[CV 1/5] END C=1, class_weight=None, dual=auto, fit_intercept=False, intercept_scaling=1.5, loss=squared_hinge, multi_class=ovr, penalty=l1;, score=0.950 total time=   3.4s\n",
      "[CV 2/5] END C=1, class_weight=None, dual=auto, fit_intercept=False, intercept_scaling=1.5, loss=squared_hinge, multi_class=ovr, penalty=l1;, score=0.949 total time=   3.5s\n",
      "[CV 3/5] END C=1, class_weight=None, dual=auto, fit_intercept=False, intercept_scaling=1.5, loss=squared_hinge, multi_class=ovr, penalty=l1;, score=0.954 total time=   3.5s\n",
      "[CV 4/5] END C=1, class_weight=None, dual=auto, fit_intercept=False, intercept_scaling=1.5, loss=squared_hinge, multi_class=ovr, penalty=l1;, score=0.957 total time=   3.4s\n",
      "[CV 5/5] END C=1, class_weight=None, dual=auto, fit_intercept=False, intercept_scaling=1.5, loss=squared_hinge, multi_class=ovr, penalty=l1;, score=0.956 total time=   3.2s\n",
      "[CV 1/5] END C=1, class_weight=None, dual=auto, fit_intercept=False, intercept_scaling=1.5, loss=squared_hinge, multi_class=ovr, penalty=l2;, score=0.946 total time=   2.7s\n",
      "[CV 2/5] END C=1, class_weight=None, dual=auto, fit_intercept=False, intercept_scaling=1.5, loss=squared_hinge, multi_class=ovr, penalty=l2;, score=0.948 total time=   2.6s\n",
      "[CV 3/5] END C=1, class_weight=None, dual=auto, fit_intercept=False, intercept_scaling=1.5, loss=squared_hinge, multi_class=ovr, penalty=l2;, score=0.950 total time=   2.7s\n",
      "[CV 4/5] END C=1, class_weight=None, dual=auto, fit_intercept=False, intercept_scaling=1.5, loss=squared_hinge, multi_class=ovr, penalty=l2;, score=0.957 total time=   2.6s\n",
      "[CV 5/5] END C=1, class_weight=None, dual=auto, fit_intercept=False, intercept_scaling=1.5, loss=squared_hinge, multi_class=ovr, penalty=l2;, score=0.955 total time=   2.6s\n"
     ]
    },
    {
     "name": "stderr",
     "output_type": "stream",
     "text": [
      "C:\\Users\\never\\AppData\\Roaming\\Python\\Python311\\site-packages\\sklearn\\svm\\_base.py:1250: ConvergenceWarning: Liblinear failed to converge, increase the number of iterations.\n",
      "  warnings.warn(\n"
     ]
    },
    {
     "name": "stdout",
     "output_type": "stream",
     "text": [
      "[CV 1/5] END C=1, class_weight=None, dual=auto, fit_intercept=False, intercept_scaling=1.5, loss=squared_hinge, multi_class=crammer_singer, penalty=l1;, score=0.948 total time=   2.9s\n"
     ]
    },
    {
     "name": "stderr",
     "output_type": "stream",
     "text": [
      "C:\\Users\\never\\AppData\\Roaming\\Python\\Python311\\site-packages\\sklearn\\svm\\_base.py:1250: ConvergenceWarning: Liblinear failed to converge, increase the number of iterations.\n",
      "  warnings.warn(\n"
     ]
    },
    {
     "name": "stdout",
     "output_type": "stream",
     "text": [
      "[CV 2/5] END C=1, class_weight=None, dual=auto, fit_intercept=False, intercept_scaling=1.5, loss=squared_hinge, multi_class=crammer_singer, penalty=l1;, score=0.947 total time=   3.3s\n"
     ]
    },
    {
     "name": "stderr",
     "output_type": "stream",
     "text": [
      "C:\\Users\\never\\AppData\\Roaming\\Python\\Python311\\site-packages\\sklearn\\svm\\_base.py:1250: ConvergenceWarning: Liblinear failed to converge, increase the number of iterations.\n",
      "  warnings.warn(\n"
     ]
    },
    {
     "name": "stdout",
     "output_type": "stream",
     "text": [
      "[CV 3/5] END C=1, class_weight=None, dual=auto, fit_intercept=False, intercept_scaling=1.5, loss=squared_hinge, multi_class=crammer_singer, penalty=l1;, score=0.953 total time=   2.9s\n"
     ]
    },
    {
     "name": "stderr",
     "output_type": "stream",
     "text": [
      "C:\\Users\\never\\AppData\\Roaming\\Python\\Python311\\site-packages\\sklearn\\svm\\_base.py:1250: ConvergenceWarning: Liblinear failed to converge, increase the number of iterations.\n",
      "  warnings.warn(\n"
     ]
    },
    {
     "name": "stdout",
     "output_type": "stream",
     "text": [
      "[CV 4/5] END C=1, class_weight=None, dual=auto, fit_intercept=False, intercept_scaling=1.5, loss=squared_hinge, multi_class=crammer_singer, penalty=l1;, score=0.956 total time=   3.0s\n"
     ]
    },
    {
     "name": "stderr",
     "output_type": "stream",
     "text": [
      "C:\\Users\\never\\AppData\\Roaming\\Python\\Python311\\site-packages\\sklearn\\svm\\_base.py:1250: ConvergenceWarning: Liblinear failed to converge, increase the number of iterations.\n",
      "  warnings.warn(\n"
     ]
    },
    {
     "name": "stdout",
     "output_type": "stream",
     "text": [
      "[CV 5/5] END C=1, class_weight=None, dual=auto, fit_intercept=False, intercept_scaling=1.5, loss=squared_hinge, multi_class=crammer_singer, penalty=l1;, score=0.957 total time=   2.7s\n"
     ]
    },
    {
     "name": "stderr",
     "output_type": "stream",
     "text": [
      "C:\\Users\\never\\AppData\\Roaming\\Python\\Python311\\site-packages\\sklearn\\svm\\_base.py:1250: ConvergenceWarning: Liblinear failed to converge, increase the number of iterations.\n",
      "  warnings.warn(\n"
     ]
    },
    {
     "name": "stdout",
     "output_type": "stream",
     "text": [
      "[CV 1/5] END C=1, class_weight=None, dual=auto, fit_intercept=False, intercept_scaling=1.5, loss=squared_hinge, multi_class=crammer_singer, penalty=l2;, score=0.948 total time=   2.9s\n"
     ]
    },
    {
     "name": "stderr",
     "output_type": "stream",
     "text": [
      "C:\\Users\\never\\AppData\\Roaming\\Python\\Python311\\site-packages\\sklearn\\svm\\_base.py:1250: ConvergenceWarning: Liblinear failed to converge, increase the number of iterations.\n",
      "  warnings.warn(\n"
     ]
    },
    {
     "name": "stdout",
     "output_type": "stream",
     "text": [
      "[CV 2/5] END C=1, class_weight=None, dual=auto, fit_intercept=False, intercept_scaling=1.5, loss=squared_hinge, multi_class=crammer_singer, penalty=l2;, score=0.947 total time=   3.3s\n"
     ]
    },
    {
     "name": "stderr",
     "output_type": "stream",
     "text": [
      "C:\\Users\\never\\AppData\\Roaming\\Python\\Python311\\site-packages\\sklearn\\svm\\_base.py:1250: ConvergenceWarning: Liblinear failed to converge, increase the number of iterations.\n",
      "  warnings.warn(\n"
     ]
    },
    {
     "name": "stdout",
     "output_type": "stream",
     "text": [
      "[CV 3/5] END C=1, class_weight=None, dual=auto, fit_intercept=False, intercept_scaling=1.5, loss=squared_hinge, multi_class=crammer_singer, penalty=l2;, score=0.953 total time=   2.9s\n"
     ]
    },
    {
     "name": "stderr",
     "output_type": "stream",
     "text": [
      "C:\\Users\\never\\AppData\\Roaming\\Python\\Python311\\site-packages\\sklearn\\svm\\_base.py:1250: ConvergenceWarning: Liblinear failed to converge, increase the number of iterations.\n",
      "  warnings.warn(\n"
     ]
    },
    {
     "name": "stdout",
     "output_type": "stream",
     "text": [
      "[CV 4/5] END C=1, class_weight=None, dual=auto, fit_intercept=False, intercept_scaling=1.5, loss=squared_hinge, multi_class=crammer_singer, penalty=l2;, score=0.956 total time=   3.0s\n"
     ]
    },
    {
     "name": "stderr",
     "output_type": "stream",
     "text": [
      "C:\\Users\\never\\AppData\\Roaming\\Python\\Python311\\site-packages\\sklearn\\svm\\_base.py:1250: ConvergenceWarning: Liblinear failed to converge, increase the number of iterations.\n",
      "  warnings.warn(\n"
     ]
    },
    {
     "name": "stdout",
     "output_type": "stream",
     "text": [
      "[CV 5/5] END C=1, class_weight=None, dual=auto, fit_intercept=False, intercept_scaling=1.5, loss=squared_hinge, multi_class=crammer_singer, penalty=l2;, score=0.957 total time=   2.7s\n",
      "[CV 1/5] END C=1, class_weight=None, dual=auto, fit_intercept=False, intercept_scaling=2, loss=hinge, multi_class=ovr, penalty=l1;, score=nan total time=   1.1s\n",
      "[CV 2/5] END C=1, class_weight=None, dual=auto, fit_intercept=False, intercept_scaling=2, loss=hinge, multi_class=ovr, penalty=l1;, score=nan total time=   1.1s\n",
      "[CV 3/5] END C=1, class_weight=None, dual=auto, fit_intercept=False, intercept_scaling=2, loss=hinge, multi_class=ovr, penalty=l1;, score=nan total time=   1.0s\n",
      "[CV 4/5] END C=1, class_weight=None, dual=auto, fit_intercept=False, intercept_scaling=2, loss=hinge, multi_class=ovr, penalty=l1;, score=nan total time=   1.1s\n",
      "[CV 5/5] END C=1, class_weight=None, dual=auto, fit_intercept=False, intercept_scaling=2, loss=hinge, multi_class=ovr, penalty=l1;, score=nan total time=   1.0s\n",
      "[CV 1/5] END C=1, class_weight=None, dual=auto, fit_intercept=False, intercept_scaling=2, loss=hinge, multi_class=ovr, penalty=l2;, score=0.942 total time=   2.5s\n",
      "[CV 2/5] END C=1, class_weight=None, dual=auto, fit_intercept=False, intercept_scaling=2, loss=hinge, multi_class=ovr, penalty=l2;, score=0.943 total time=   2.5s\n",
      "[CV 3/5] END C=1, class_weight=None, dual=auto, fit_intercept=False, intercept_scaling=2, loss=hinge, multi_class=ovr, penalty=l2;, score=0.944 total time=   2.5s\n",
      "[CV 4/5] END C=1, class_weight=None, dual=auto, fit_intercept=False, intercept_scaling=2, loss=hinge, multi_class=ovr, penalty=l2;, score=0.952 total time=   2.5s\n",
      "[CV 5/5] END C=1, class_weight=None, dual=auto, fit_intercept=False, intercept_scaling=2, loss=hinge, multi_class=ovr, penalty=l2;, score=0.951 total time=   2.5s\n"
     ]
    },
    {
     "name": "stderr",
     "output_type": "stream",
     "text": [
      "C:\\Users\\never\\AppData\\Roaming\\Python\\Python311\\site-packages\\sklearn\\svm\\_base.py:1250: ConvergenceWarning: Liblinear failed to converge, increase the number of iterations.\n",
      "  warnings.warn(\n"
     ]
    },
    {
     "name": "stdout",
     "output_type": "stream",
     "text": [
      "[CV 1/5] END C=1, class_weight=None, dual=auto, fit_intercept=False, intercept_scaling=2, loss=hinge, multi_class=crammer_singer, penalty=l1;, score=0.948 total time=   3.3s\n"
     ]
    },
    {
     "name": "stderr",
     "output_type": "stream",
     "text": [
      "C:\\Users\\never\\AppData\\Roaming\\Python\\Python311\\site-packages\\sklearn\\svm\\_base.py:1250: ConvergenceWarning: Liblinear failed to converge, increase the number of iterations.\n",
      "  warnings.warn(\n"
     ]
    },
    {
     "name": "stdout",
     "output_type": "stream",
     "text": [
      "[CV 2/5] END C=1, class_weight=None, dual=auto, fit_intercept=False, intercept_scaling=2, loss=hinge, multi_class=crammer_singer, penalty=l1;, score=0.947 total time=   3.7s\n"
     ]
    },
    {
     "name": "stderr",
     "output_type": "stream",
     "text": [
      "C:\\Users\\never\\AppData\\Roaming\\Python\\Python311\\site-packages\\sklearn\\svm\\_base.py:1250: ConvergenceWarning: Liblinear failed to converge, increase the number of iterations.\n",
      "  warnings.warn(\n"
     ]
    },
    {
     "name": "stdout",
     "output_type": "stream",
     "text": [
      "[CV 3/5] END C=1, class_weight=None, dual=auto, fit_intercept=False, intercept_scaling=2, loss=hinge, multi_class=crammer_singer, penalty=l1;, score=0.953 total time=   3.0s\n"
     ]
    },
    {
     "name": "stderr",
     "output_type": "stream",
     "text": [
      "C:\\Users\\never\\AppData\\Roaming\\Python\\Python311\\site-packages\\sklearn\\svm\\_base.py:1250: ConvergenceWarning: Liblinear failed to converge, increase the number of iterations.\n",
      "  warnings.warn(\n"
     ]
    },
    {
     "name": "stdout",
     "output_type": "stream",
     "text": [
      "[CV 4/5] END C=1, class_weight=None, dual=auto, fit_intercept=False, intercept_scaling=2, loss=hinge, multi_class=crammer_singer, penalty=l1;, score=0.956 total time=   3.0s\n"
     ]
    },
    {
     "name": "stderr",
     "output_type": "stream",
     "text": [
      "C:\\Users\\never\\AppData\\Roaming\\Python\\Python311\\site-packages\\sklearn\\svm\\_base.py:1250: ConvergenceWarning: Liblinear failed to converge, increase the number of iterations.\n",
      "  warnings.warn(\n"
     ]
    },
    {
     "name": "stdout",
     "output_type": "stream",
     "text": [
      "[CV 5/5] END C=1, class_weight=None, dual=auto, fit_intercept=False, intercept_scaling=2, loss=hinge, multi_class=crammer_singer, penalty=l1;, score=0.957 total time=   2.9s\n"
     ]
    },
    {
     "name": "stderr",
     "output_type": "stream",
     "text": [
      "C:\\Users\\never\\AppData\\Roaming\\Python\\Python311\\site-packages\\sklearn\\svm\\_base.py:1250: ConvergenceWarning: Liblinear failed to converge, increase the number of iterations.\n",
      "  warnings.warn(\n"
     ]
    },
    {
     "name": "stdout",
     "output_type": "stream",
     "text": [
      "[CV 1/5] END C=1, class_weight=None, dual=auto, fit_intercept=False, intercept_scaling=2, loss=hinge, multi_class=crammer_singer, penalty=l2;, score=0.948 total time=   3.0s\n"
     ]
    },
    {
     "name": "stderr",
     "output_type": "stream",
     "text": [
      "C:\\Users\\never\\AppData\\Roaming\\Python\\Python311\\site-packages\\sklearn\\svm\\_base.py:1250: ConvergenceWarning: Liblinear failed to converge, increase the number of iterations.\n",
      "  warnings.warn(\n"
     ]
    },
    {
     "name": "stdout",
     "output_type": "stream",
     "text": [
      "[CV 2/5] END C=1, class_weight=None, dual=auto, fit_intercept=False, intercept_scaling=2, loss=hinge, multi_class=crammer_singer, penalty=l2;, score=0.947 total time=   3.5s\n"
     ]
    },
    {
     "name": "stderr",
     "output_type": "stream",
     "text": [
      "C:\\Users\\never\\AppData\\Roaming\\Python\\Python311\\site-packages\\sklearn\\svm\\_base.py:1250: ConvergenceWarning: Liblinear failed to converge, increase the number of iterations.\n",
      "  warnings.warn(\n"
     ]
    },
    {
     "name": "stdout",
     "output_type": "stream",
     "text": [
      "[CV 3/5] END C=1, class_weight=None, dual=auto, fit_intercept=False, intercept_scaling=2, loss=hinge, multi_class=crammer_singer, penalty=l2;, score=0.953 total time=   2.9s\n"
     ]
    },
    {
     "name": "stderr",
     "output_type": "stream",
     "text": [
      "C:\\Users\\never\\AppData\\Roaming\\Python\\Python311\\site-packages\\sklearn\\svm\\_base.py:1250: ConvergenceWarning: Liblinear failed to converge, increase the number of iterations.\n",
      "  warnings.warn(\n"
     ]
    },
    {
     "name": "stdout",
     "output_type": "stream",
     "text": [
      "[CV 4/5] END C=1, class_weight=None, dual=auto, fit_intercept=False, intercept_scaling=2, loss=hinge, multi_class=crammer_singer, penalty=l2;, score=0.956 total time=   3.1s\n"
     ]
    },
    {
     "name": "stderr",
     "output_type": "stream",
     "text": [
      "C:\\Users\\never\\AppData\\Roaming\\Python\\Python311\\site-packages\\sklearn\\svm\\_base.py:1250: ConvergenceWarning: Liblinear failed to converge, increase the number of iterations.\n",
      "  warnings.warn(\n"
     ]
    },
    {
     "name": "stdout",
     "output_type": "stream",
     "text": [
      "[CV 5/5] END C=1, class_weight=None, dual=auto, fit_intercept=False, intercept_scaling=2, loss=hinge, multi_class=crammer_singer, penalty=l2;, score=0.957 total time=   2.8s\n",
      "[CV 1/5] END C=1, class_weight=None, dual=auto, fit_intercept=False, intercept_scaling=2, loss=squared_hinge, multi_class=ovr, penalty=l1;, score=0.950 total time=   3.4s\n",
      "[CV 2/5] END C=1, class_weight=None, dual=auto, fit_intercept=False, intercept_scaling=2, loss=squared_hinge, multi_class=ovr, penalty=l1;, score=0.949 total time=   3.5s\n",
      "[CV 3/5] END C=1, class_weight=None, dual=auto, fit_intercept=False, intercept_scaling=2, loss=squared_hinge, multi_class=ovr, penalty=l1;, score=0.954 total time=   3.5s\n",
      "[CV 4/5] END C=1, class_weight=None, dual=auto, fit_intercept=False, intercept_scaling=2, loss=squared_hinge, multi_class=ovr, penalty=l1;, score=0.957 total time=   3.4s\n",
      "[CV 5/5] END C=1, class_weight=None, dual=auto, fit_intercept=False, intercept_scaling=2, loss=squared_hinge, multi_class=ovr, penalty=l1;, score=0.956 total time=   3.3s\n",
      "[CV 1/5] END C=1, class_weight=None, dual=auto, fit_intercept=False, intercept_scaling=2, loss=squared_hinge, multi_class=ovr, penalty=l2;, score=0.946 total time=   2.7s\n",
      "[CV 2/5] END C=1, class_weight=None, dual=auto, fit_intercept=False, intercept_scaling=2, loss=squared_hinge, multi_class=ovr, penalty=l2;, score=0.948 total time=   2.6s\n",
      "[CV 3/5] END C=1, class_weight=None, dual=auto, fit_intercept=False, intercept_scaling=2, loss=squared_hinge, multi_class=ovr, penalty=l2;, score=0.950 total time=   2.6s\n",
      "[CV 4/5] END C=1, class_weight=None, dual=auto, fit_intercept=False, intercept_scaling=2, loss=squared_hinge, multi_class=ovr, penalty=l2;, score=0.957 total time=   2.6s\n",
      "[CV 5/5] END C=1, class_weight=None, dual=auto, fit_intercept=False, intercept_scaling=2, loss=squared_hinge, multi_class=ovr, penalty=l2;, score=0.955 total time=   2.6s\n"
     ]
    },
    {
     "name": "stderr",
     "output_type": "stream",
     "text": [
      "C:\\Users\\never\\AppData\\Roaming\\Python\\Python311\\site-packages\\sklearn\\svm\\_base.py:1250: ConvergenceWarning: Liblinear failed to converge, increase the number of iterations.\n",
      "  warnings.warn(\n"
     ]
    },
    {
     "name": "stdout",
     "output_type": "stream",
     "text": [
      "[CV 1/5] END C=1, class_weight=None, dual=auto, fit_intercept=False, intercept_scaling=2, loss=squared_hinge, multi_class=crammer_singer, penalty=l1;, score=0.948 total time=   2.9s\n"
     ]
    },
    {
     "name": "stderr",
     "output_type": "stream",
     "text": [
      "C:\\Users\\never\\AppData\\Roaming\\Python\\Python311\\site-packages\\sklearn\\svm\\_base.py:1250: ConvergenceWarning: Liblinear failed to converge, increase the number of iterations.\n",
      "  warnings.warn(\n"
     ]
    },
    {
     "name": "stdout",
     "output_type": "stream",
     "text": [
      "[CV 2/5] END C=1, class_weight=None, dual=auto, fit_intercept=False, intercept_scaling=2, loss=squared_hinge, multi_class=crammer_singer, penalty=l1;, score=0.947 total time=   3.3s\n"
     ]
    },
    {
     "name": "stderr",
     "output_type": "stream",
     "text": [
      "C:\\Users\\never\\AppData\\Roaming\\Python\\Python311\\site-packages\\sklearn\\svm\\_base.py:1250: ConvergenceWarning: Liblinear failed to converge, increase the number of iterations.\n",
      "  warnings.warn(\n"
     ]
    },
    {
     "name": "stdout",
     "output_type": "stream",
     "text": [
      "[CV 3/5] END C=1, class_weight=None, dual=auto, fit_intercept=False, intercept_scaling=2, loss=squared_hinge, multi_class=crammer_singer, penalty=l1;, score=0.953 total time=   2.9s\n"
     ]
    },
    {
     "name": "stderr",
     "output_type": "stream",
     "text": [
      "C:\\Users\\never\\AppData\\Roaming\\Python\\Python311\\site-packages\\sklearn\\svm\\_base.py:1250: ConvergenceWarning: Liblinear failed to converge, increase the number of iterations.\n",
      "  warnings.warn(\n"
     ]
    },
    {
     "name": "stdout",
     "output_type": "stream",
     "text": [
      "[CV 4/5] END C=1, class_weight=None, dual=auto, fit_intercept=False, intercept_scaling=2, loss=squared_hinge, multi_class=crammer_singer, penalty=l1;, score=0.956 total time=   2.9s\n"
     ]
    },
    {
     "name": "stderr",
     "output_type": "stream",
     "text": [
      "C:\\Users\\never\\AppData\\Roaming\\Python\\Python311\\site-packages\\sklearn\\svm\\_base.py:1250: ConvergenceWarning: Liblinear failed to converge, increase the number of iterations.\n",
      "  warnings.warn(\n"
     ]
    },
    {
     "name": "stdout",
     "output_type": "stream",
     "text": [
      "[CV 5/5] END C=1, class_weight=None, dual=auto, fit_intercept=False, intercept_scaling=2, loss=squared_hinge, multi_class=crammer_singer, penalty=l1;, score=0.957 total time=   2.7s\n"
     ]
    },
    {
     "name": "stderr",
     "output_type": "stream",
     "text": [
      "C:\\Users\\never\\AppData\\Roaming\\Python\\Python311\\site-packages\\sklearn\\svm\\_base.py:1250: ConvergenceWarning: Liblinear failed to converge, increase the number of iterations.\n",
      "  warnings.warn(\n"
     ]
    },
    {
     "name": "stdout",
     "output_type": "stream",
     "text": [
      "[CV 1/5] END C=1, class_weight=None, dual=auto, fit_intercept=False, intercept_scaling=2, loss=squared_hinge, multi_class=crammer_singer, penalty=l2;, score=0.948 total time=   2.9s\n"
     ]
    },
    {
     "name": "stderr",
     "output_type": "stream",
     "text": [
      "C:\\Users\\never\\AppData\\Roaming\\Python\\Python311\\site-packages\\sklearn\\svm\\_base.py:1250: ConvergenceWarning: Liblinear failed to converge, increase the number of iterations.\n",
      "  warnings.warn(\n"
     ]
    },
    {
     "name": "stdout",
     "output_type": "stream",
     "text": [
      "[CV 2/5] END C=1, class_weight=None, dual=auto, fit_intercept=False, intercept_scaling=2, loss=squared_hinge, multi_class=crammer_singer, penalty=l2;, score=0.947 total time=   3.3s\n"
     ]
    },
    {
     "name": "stderr",
     "output_type": "stream",
     "text": [
      "C:\\Users\\never\\AppData\\Roaming\\Python\\Python311\\site-packages\\sklearn\\svm\\_base.py:1250: ConvergenceWarning: Liblinear failed to converge, increase the number of iterations.\n",
      "  warnings.warn(\n"
     ]
    },
    {
     "name": "stdout",
     "output_type": "stream",
     "text": [
      "[CV 3/5] END C=1, class_weight=None, dual=auto, fit_intercept=False, intercept_scaling=2, loss=squared_hinge, multi_class=crammer_singer, penalty=l2;, score=0.953 total time=   2.9s\n"
     ]
    },
    {
     "name": "stderr",
     "output_type": "stream",
     "text": [
      "C:\\Users\\never\\AppData\\Roaming\\Python\\Python311\\site-packages\\sklearn\\svm\\_base.py:1250: ConvergenceWarning: Liblinear failed to converge, increase the number of iterations.\n",
      "  warnings.warn(\n"
     ]
    },
    {
     "name": "stdout",
     "output_type": "stream",
     "text": [
      "[CV 4/5] END C=1, class_weight=None, dual=auto, fit_intercept=False, intercept_scaling=2, loss=squared_hinge, multi_class=crammer_singer, penalty=l2;, score=0.956 total time=   2.9s\n"
     ]
    },
    {
     "name": "stderr",
     "output_type": "stream",
     "text": [
      "C:\\Users\\never\\AppData\\Roaming\\Python\\Python311\\site-packages\\sklearn\\svm\\_base.py:1250: ConvergenceWarning: Liblinear failed to converge, increase the number of iterations.\n",
      "  warnings.warn(\n"
     ]
    },
    {
     "name": "stdout",
     "output_type": "stream",
     "text": [
      "[CV 5/5] END C=1, class_weight=None, dual=auto, fit_intercept=False, intercept_scaling=2, loss=squared_hinge, multi_class=crammer_singer, penalty=l2;, score=0.957 total time=   2.7s\n",
      "[CV 1/5] END C=1, class_weight=balanced, dual=auto, fit_intercept=True, intercept_scaling=1, loss=hinge, multi_class=ovr, penalty=l1;, score=nan total time=   1.0s\n",
      "[CV 2/5] END C=1, class_weight=balanced, dual=auto, fit_intercept=True, intercept_scaling=1, loss=hinge, multi_class=ovr, penalty=l1;, score=nan total time=   1.1s\n",
      "[CV 3/5] END C=1, class_weight=balanced, dual=auto, fit_intercept=True, intercept_scaling=1, loss=hinge, multi_class=ovr, penalty=l1;, score=nan total time=   1.0s\n",
      "[CV 4/5] END C=1, class_weight=balanced, dual=auto, fit_intercept=True, intercept_scaling=1, loss=hinge, multi_class=ovr, penalty=l1;, score=nan total time=   1.0s\n",
      "[CV 5/5] END C=1, class_weight=balanced, dual=auto, fit_intercept=True, intercept_scaling=1, loss=hinge, multi_class=ovr, penalty=l1;, score=nan total time=   1.0s\n",
      "[CV 1/5] END C=1, class_weight=balanced, dual=auto, fit_intercept=True, intercept_scaling=1, loss=hinge, multi_class=ovr, penalty=l2;, score=0.945 total time=   2.7s\n",
      "[CV 2/5] END C=1, class_weight=balanced, dual=auto, fit_intercept=True, intercept_scaling=1, loss=hinge, multi_class=ovr, penalty=l2;, score=0.947 total time=   2.9s\n",
      "[CV 3/5] END C=1, class_weight=balanced, dual=auto, fit_intercept=True, intercept_scaling=1, loss=hinge, multi_class=ovr, penalty=l2;, score=0.948 total time=   2.9s\n",
      "[CV 4/5] END C=1, class_weight=balanced, dual=auto, fit_intercept=True, intercept_scaling=1, loss=hinge, multi_class=ovr, penalty=l2;, score=0.953 total time=   2.7s\n",
      "[CV 5/5] END C=1, class_weight=balanced, dual=auto, fit_intercept=True, intercept_scaling=1, loss=hinge, multi_class=ovr, penalty=l2;, score=0.952 total time=   2.6s\n"
     ]
    },
    {
     "name": "stderr",
     "output_type": "stream",
     "text": [
      "C:\\Users\\never\\AppData\\Roaming\\Python\\Python311\\site-packages\\sklearn\\svm\\_base.py:1250: ConvergenceWarning: Liblinear failed to converge, increase the number of iterations.\n",
      "  warnings.warn(\n"
     ]
    },
    {
     "name": "stdout",
     "output_type": "stream",
     "text": [
      "[CV 1/5] END C=1, class_weight=balanced, dual=auto, fit_intercept=True, intercept_scaling=1, loss=hinge, multi_class=crammer_singer, penalty=l1;, score=0.954 total time=   4.0s\n"
     ]
    },
    {
     "name": "stderr",
     "output_type": "stream",
     "text": [
      "C:\\Users\\never\\AppData\\Roaming\\Python\\Python311\\site-packages\\sklearn\\svm\\_base.py:1250: ConvergenceWarning: Liblinear failed to converge, increase the number of iterations.\n",
      "  warnings.warn(\n"
     ]
    },
    {
     "name": "stdout",
     "output_type": "stream",
     "text": [
      "[CV 2/5] END C=1, class_weight=balanced, dual=auto, fit_intercept=True, intercept_scaling=1, loss=hinge, multi_class=crammer_singer, penalty=l1;, score=0.956 total time=   4.3s\n"
     ]
    },
    {
     "name": "stderr",
     "output_type": "stream",
     "text": [
      "C:\\Users\\never\\AppData\\Roaming\\Python\\Python311\\site-packages\\sklearn\\svm\\_base.py:1250: ConvergenceWarning: Liblinear failed to converge, increase the number of iterations.\n",
      "  warnings.warn(\n"
     ]
    },
    {
     "name": "stdout",
     "output_type": "stream",
     "text": [
      "[CV 3/5] END C=1, class_weight=balanced, dual=auto, fit_intercept=True, intercept_scaling=1, loss=hinge, multi_class=crammer_singer, penalty=l1;, score=0.958 total time=   3.5s\n"
     ]
    },
    {
     "name": "stderr",
     "output_type": "stream",
     "text": [
      "C:\\Users\\never\\AppData\\Roaming\\Python\\Python311\\site-packages\\sklearn\\svm\\_base.py:1250: ConvergenceWarning: Liblinear failed to converge, increase the number of iterations.\n",
      "  warnings.warn(\n"
     ]
    },
    {
     "name": "stdout",
     "output_type": "stream",
     "text": [
      "[CV 4/5] END C=1, class_weight=balanced, dual=auto, fit_intercept=True, intercept_scaling=1, loss=hinge, multi_class=crammer_singer, penalty=l1;, score=0.962 total time=   4.0s\n"
     ]
    },
    {
     "name": "stderr",
     "output_type": "stream",
     "text": [
      "C:\\Users\\never\\AppData\\Roaming\\Python\\Python311\\site-packages\\sklearn\\svm\\_base.py:1250: ConvergenceWarning: Liblinear failed to converge, increase the number of iterations.\n",
      "  warnings.warn(\n"
     ]
    },
    {
     "name": "stdout",
     "output_type": "stream",
     "text": [
      "[CV 5/5] END C=1, class_weight=balanced, dual=auto, fit_intercept=True, intercept_scaling=1, loss=hinge, multi_class=crammer_singer, penalty=l1;, score=0.960 total time=   3.3s\n"
     ]
    },
    {
     "name": "stderr",
     "output_type": "stream",
     "text": [
      "C:\\Users\\never\\AppData\\Roaming\\Python\\Python311\\site-packages\\sklearn\\svm\\_base.py:1250: ConvergenceWarning: Liblinear failed to converge, increase the number of iterations.\n",
      "  warnings.warn(\n"
     ]
    },
    {
     "name": "stdout",
     "output_type": "stream",
     "text": [
      "[CV 1/5] END C=1, class_weight=balanced, dual=auto, fit_intercept=True, intercept_scaling=1, loss=hinge, multi_class=crammer_singer, penalty=l2;, score=0.954 total time=   4.0s\n"
     ]
    },
    {
     "name": "stderr",
     "output_type": "stream",
     "text": [
      "C:\\Users\\never\\AppData\\Roaming\\Python\\Python311\\site-packages\\sklearn\\svm\\_base.py:1250: ConvergenceWarning: Liblinear failed to converge, increase the number of iterations.\n",
      "  warnings.warn(\n"
     ]
    },
    {
     "name": "stdout",
     "output_type": "stream",
     "text": [
      "[CV 2/5] END C=1, class_weight=balanced, dual=auto, fit_intercept=True, intercept_scaling=1, loss=hinge, multi_class=crammer_singer, penalty=l2;, score=0.956 total time=   4.2s\n"
     ]
    },
    {
     "name": "stderr",
     "output_type": "stream",
     "text": [
      "C:\\Users\\never\\AppData\\Roaming\\Python\\Python311\\site-packages\\sklearn\\svm\\_base.py:1250: ConvergenceWarning: Liblinear failed to converge, increase the number of iterations.\n",
      "  warnings.warn(\n"
     ]
    },
    {
     "name": "stdout",
     "output_type": "stream",
     "text": [
      "[CV 3/5] END C=1, class_weight=balanced, dual=auto, fit_intercept=True, intercept_scaling=1, loss=hinge, multi_class=crammer_singer, penalty=l2;, score=0.958 total time=   3.5s\n"
     ]
    },
    {
     "name": "stderr",
     "output_type": "stream",
     "text": [
      "C:\\Users\\never\\AppData\\Roaming\\Python\\Python311\\site-packages\\sklearn\\svm\\_base.py:1250: ConvergenceWarning: Liblinear failed to converge, increase the number of iterations.\n",
      "  warnings.warn(\n"
     ]
    },
    {
     "name": "stdout",
     "output_type": "stream",
     "text": [
      "[CV 4/5] END C=1, class_weight=balanced, dual=auto, fit_intercept=True, intercept_scaling=1, loss=hinge, multi_class=crammer_singer, penalty=l2;, score=0.962 total time=   4.0s\n"
     ]
    },
    {
     "name": "stderr",
     "output_type": "stream",
     "text": [
      "C:\\Users\\never\\AppData\\Roaming\\Python\\Python311\\site-packages\\sklearn\\svm\\_base.py:1250: ConvergenceWarning: Liblinear failed to converge, increase the number of iterations.\n",
      "  warnings.warn(\n"
     ]
    },
    {
     "name": "stdout",
     "output_type": "stream",
     "text": [
      "[CV 5/5] END C=1, class_weight=balanced, dual=auto, fit_intercept=True, intercept_scaling=1, loss=hinge, multi_class=crammer_singer, penalty=l2;, score=0.960 total time=   3.2s\n",
      "[CV 1/5] END C=1, class_weight=balanced, dual=auto, fit_intercept=True, intercept_scaling=1, loss=squared_hinge, multi_class=ovr, penalty=l1;, score=0.956 total time=   3.8s\n",
      "[CV 2/5] END C=1, class_weight=balanced, dual=auto, fit_intercept=True, intercept_scaling=1, loss=squared_hinge, multi_class=ovr, penalty=l1;, score=0.956 total time=   3.9s\n",
      "[CV 3/5] END C=1, class_weight=balanced, dual=auto, fit_intercept=True, intercept_scaling=1, loss=squared_hinge, multi_class=ovr, penalty=l1;, score=0.959 total time=   3.7s\n",
      "[CV 4/5] END C=1, class_weight=balanced, dual=auto, fit_intercept=True, intercept_scaling=1, loss=squared_hinge, multi_class=ovr, penalty=l1;, score=0.961 total time=   3.9s\n",
      "[CV 5/5] END C=1, class_weight=balanced, dual=auto, fit_intercept=True, intercept_scaling=1, loss=squared_hinge, multi_class=ovr, penalty=l1;, score=0.965 total time=   3.8s\n",
      "[CV 1/5] END C=1, class_weight=balanced, dual=auto, fit_intercept=True, intercept_scaling=1, loss=squared_hinge, multi_class=ovr, penalty=l2;, score=0.953 total time=   2.8s\n",
      "[CV 2/5] END C=1, class_weight=balanced, dual=auto, fit_intercept=True, intercept_scaling=1, loss=squared_hinge, multi_class=ovr, penalty=l2;, score=0.953 total time=   2.8s\n",
      "[CV 3/5] END C=1, class_weight=balanced, dual=auto, fit_intercept=True, intercept_scaling=1, loss=squared_hinge, multi_class=ovr, penalty=l2;, score=0.955 total time=   2.8s\n",
      "[CV 4/5] END C=1, class_weight=balanced, dual=auto, fit_intercept=True, intercept_scaling=1, loss=squared_hinge, multi_class=ovr, penalty=l2;, score=0.961 total time=   2.6s\n",
      "[CV 5/5] END C=1, class_weight=balanced, dual=auto, fit_intercept=True, intercept_scaling=1, loss=squared_hinge, multi_class=ovr, penalty=l2;, score=0.960 total time=   2.7s\n"
     ]
    },
    {
     "name": "stderr",
     "output_type": "stream",
     "text": [
      "C:\\Users\\never\\AppData\\Roaming\\Python\\Python311\\site-packages\\sklearn\\svm\\_base.py:1250: ConvergenceWarning: Liblinear failed to converge, increase the number of iterations.\n",
      "  warnings.warn(\n"
     ]
    },
    {
     "name": "stdout",
     "output_type": "stream",
     "text": [
      "[CV 1/5] END C=1, class_weight=balanced, dual=auto, fit_intercept=True, intercept_scaling=1, loss=squared_hinge, multi_class=crammer_singer, penalty=l1;, score=0.954 total time=   4.0s\n"
     ]
    },
    {
     "name": "stderr",
     "output_type": "stream",
     "text": [
      "C:\\Users\\never\\AppData\\Roaming\\Python\\Python311\\site-packages\\sklearn\\svm\\_base.py:1250: ConvergenceWarning: Liblinear failed to converge, increase the number of iterations.\n",
      "  warnings.warn(\n"
     ]
    },
    {
     "name": "stdout",
     "output_type": "stream",
     "text": [
      "[CV 2/5] END C=1, class_weight=balanced, dual=auto, fit_intercept=True, intercept_scaling=1, loss=squared_hinge, multi_class=crammer_singer, penalty=l1;, score=0.956 total time=   4.2s\n"
     ]
    },
    {
     "name": "stderr",
     "output_type": "stream",
     "text": [
      "C:\\Users\\never\\AppData\\Roaming\\Python\\Python311\\site-packages\\sklearn\\svm\\_base.py:1250: ConvergenceWarning: Liblinear failed to converge, increase the number of iterations.\n",
      "  warnings.warn(\n"
     ]
    },
    {
     "name": "stdout",
     "output_type": "stream",
     "text": [
      "[CV 3/5] END C=1, class_weight=balanced, dual=auto, fit_intercept=True, intercept_scaling=1, loss=squared_hinge, multi_class=crammer_singer, penalty=l1;, score=0.958 total time=   3.5s\n"
     ]
    },
    {
     "name": "stderr",
     "output_type": "stream",
     "text": [
      "C:\\Users\\never\\AppData\\Roaming\\Python\\Python311\\site-packages\\sklearn\\svm\\_base.py:1250: ConvergenceWarning: Liblinear failed to converge, increase the number of iterations.\n",
      "  warnings.warn(\n"
     ]
    },
    {
     "name": "stdout",
     "output_type": "stream",
     "text": [
      "[CV 4/5] END C=1, class_weight=balanced, dual=auto, fit_intercept=True, intercept_scaling=1, loss=squared_hinge, multi_class=crammer_singer, penalty=l1;, score=0.962 total time=   4.0s\n"
     ]
    },
    {
     "name": "stderr",
     "output_type": "stream",
     "text": [
      "C:\\Users\\never\\AppData\\Roaming\\Python\\Python311\\site-packages\\sklearn\\svm\\_base.py:1250: ConvergenceWarning: Liblinear failed to converge, increase the number of iterations.\n",
      "  warnings.warn(\n"
     ]
    },
    {
     "name": "stdout",
     "output_type": "stream",
     "text": [
      "[CV 5/5] END C=1, class_weight=balanced, dual=auto, fit_intercept=True, intercept_scaling=1, loss=squared_hinge, multi_class=crammer_singer, penalty=l1;, score=0.960 total time=   3.2s\n"
     ]
    },
    {
     "name": "stderr",
     "output_type": "stream",
     "text": [
      "C:\\Users\\never\\AppData\\Roaming\\Python\\Python311\\site-packages\\sklearn\\svm\\_base.py:1250: ConvergenceWarning: Liblinear failed to converge, increase the number of iterations.\n",
      "  warnings.warn(\n"
     ]
    },
    {
     "name": "stdout",
     "output_type": "stream",
     "text": [
      "[CV 1/5] END C=1, class_weight=balanced, dual=auto, fit_intercept=True, intercept_scaling=1, loss=squared_hinge, multi_class=crammer_singer, penalty=l2;, score=0.954 total time=   4.0s\n"
     ]
    },
    {
     "name": "stderr",
     "output_type": "stream",
     "text": [
      "C:\\Users\\never\\AppData\\Roaming\\Python\\Python311\\site-packages\\sklearn\\svm\\_base.py:1250: ConvergenceWarning: Liblinear failed to converge, increase the number of iterations.\n",
      "  warnings.warn(\n"
     ]
    },
    {
     "name": "stdout",
     "output_type": "stream",
     "text": [
      "[CV 2/5] END C=1, class_weight=balanced, dual=auto, fit_intercept=True, intercept_scaling=1, loss=squared_hinge, multi_class=crammer_singer, penalty=l2;, score=0.956 total time=   4.2s\n"
     ]
    },
    {
     "name": "stderr",
     "output_type": "stream",
     "text": [
      "C:\\Users\\never\\AppData\\Roaming\\Python\\Python311\\site-packages\\sklearn\\svm\\_base.py:1250: ConvergenceWarning: Liblinear failed to converge, increase the number of iterations.\n",
      "  warnings.warn(\n"
     ]
    },
    {
     "name": "stdout",
     "output_type": "stream",
     "text": [
      "[CV 3/5] END C=1, class_weight=balanced, dual=auto, fit_intercept=True, intercept_scaling=1, loss=squared_hinge, multi_class=crammer_singer, penalty=l2;, score=0.958 total time=   3.5s\n"
     ]
    },
    {
     "name": "stderr",
     "output_type": "stream",
     "text": [
      "C:\\Users\\never\\AppData\\Roaming\\Python\\Python311\\site-packages\\sklearn\\svm\\_base.py:1250: ConvergenceWarning: Liblinear failed to converge, increase the number of iterations.\n",
      "  warnings.warn(\n"
     ]
    },
    {
     "name": "stdout",
     "output_type": "stream",
     "text": [
      "[CV 4/5] END C=1, class_weight=balanced, dual=auto, fit_intercept=True, intercept_scaling=1, loss=squared_hinge, multi_class=crammer_singer, penalty=l2;, score=0.962 total time=   4.0s\n"
     ]
    },
    {
     "name": "stderr",
     "output_type": "stream",
     "text": [
      "C:\\Users\\never\\AppData\\Roaming\\Python\\Python311\\site-packages\\sklearn\\svm\\_base.py:1250: ConvergenceWarning: Liblinear failed to converge, increase the number of iterations.\n",
      "  warnings.warn(\n"
     ]
    },
    {
     "name": "stdout",
     "output_type": "stream",
     "text": [
      "[CV 5/5] END C=1, class_weight=balanced, dual=auto, fit_intercept=True, intercept_scaling=1, loss=squared_hinge, multi_class=crammer_singer, penalty=l2;, score=0.960 total time=   3.3s\n",
      "[CV 1/5] END C=1, class_weight=balanced, dual=auto, fit_intercept=True, intercept_scaling=1.5, loss=hinge, multi_class=ovr, penalty=l1;, score=nan total time=   1.1s\n",
      "[CV 2/5] END C=1, class_weight=balanced, dual=auto, fit_intercept=True, intercept_scaling=1.5, loss=hinge, multi_class=ovr, penalty=l1;, score=nan total time=   1.1s\n",
      "[CV 3/5] END C=1, class_weight=balanced, dual=auto, fit_intercept=True, intercept_scaling=1.5, loss=hinge, multi_class=ovr, penalty=l1;, score=nan total time=   1.0s\n",
      "[CV 4/5] END C=1, class_weight=balanced, dual=auto, fit_intercept=True, intercept_scaling=1.5, loss=hinge, multi_class=ovr, penalty=l1;, score=nan total time=   1.0s\n",
      "[CV 5/5] END C=1, class_weight=balanced, dual=auto, fit_intercept=True, intercept_scaling=1.5, loss=hinge, multi_class=ovr, penalty=l1;, score=nan total time=   1.0s\n",
      "[CV 1/5] END C=1, class_weight=balanced, dual=auto, fit_intercept=True, intercept_scaling=1.5, loss=hinge, multi_class=ovr, penalty=l2;, score=0.945 total time=   3.0s\n",
      "[CV 2/5] END C=1, class_weight=balanced, dual=auto, fit_intercept=True, intercept_scaling=1.5, loss=hinge, multi_class=ovr, penalty=l2;, score=0.947 total time=   3.2s\n",
      "[CV 3/5] END C=1, class_weight=balanced, dual=auto, fit_intercept=True, intercept_scaling=1.5, loss=hinge, multi_class=ovr, penalty=l2;, score=0.948 total time=   3.4s\n",
      "[CV 4/5] END C=1, class_weight=balanced, dual=auto, fit_intercept=True, intercept_scaling=1.5, loss=hinge, multi_class=ovr, penalty=l2;, score=0.953 total time=   3.0s\n",
      "[CV 5/5] END C=1, class_weight=balanced, dual=auto, fit_intercept=True, intercept_scaling=1.5, loss=hinge, multi_class=ovr, penalty=l2;, score=0.952 total time=   2.8s\n"
     ]
    },
    {
     "name": "stderr",
     "output_type": "stream",
     "text": [
      "C:\\Users\\never\\AppData\\Roaming\\Python\\Python311\\site-packages\\sklearn\\svm\\_base.py:1250: ConvergenceWarning: Liblinear failed to converge, increase the number of iterations.\n",
      "  warnings.warn(\n"
     ]
    },
    {
     "name": "stdout",
     "output_type": "stream",
     "text": [
      "[CV 1/5] END C=1, class_weight=balanced, dual=auto, fit_intercept=True, intercept_scaling=1.5, loss=hinge, multi_class=crammer_singer, penalty=l1;, score=0.954 total time=   4.0s\n"
     ]
    },
    {
     "name": "stderr",
     "output_type": "stream",
     "text": [
      "C:\\Users\\never\\AppData\\Roaming\\Python\\Python311\\site-packages\\sklearn\\svm\\_base.py:1250: ConvergenceWarning: Liblinear failed to converge, increase the number of iterations.\n",
      "  warnings.warn(\n"
     ]
    },
    {
     "name": "stdout",
     "output_type": "stream",
     "text": [
      "[CV 2/5] END C=1, class_weight=balanced, dual=auto, fit_intercept=True, intercept_scaling=1.5, loss=hinge, multi_class=crammer_singer, penalty=l1;, score=0.956 total time=   4.9s\n"
     ]
    },
    {
     "name": "stderr",
     "output_type": "stream",
     "text": [
      "C:\\Users\\never\\AppData\\Roaming\\Python\\Python311\\site-packages\\sklearn\\svm\\_base.py:1250: ConvergenceWarning: Liblinear failed to converge, increase the number of iterations.\n",
      "  warnings.warn(\n"
     ]
    },
    {
     "name": "stdout",
     "output_type": "stream",
     "text": [
      "[CV 3/5] END C=1, class_weight=balanced, dual=auto, fit_intercept=True, intercept_scaling=1.5, loss=hinge, multi_class=crammer_singer, penalty=l1;, score=0.958 total time=   4.0s\n"
     ]
    },
    {
     "name": "stderr",
     "output_type": "stream",
     "text": [
      "C:\\Users\\never\\AppData\\Roaming\\Python\\Python311\\site-packages\\sklearn\\svm\\_base.py:1250: ConvergenceWarning: Liblinear failed to converge, increase the number of iterations.\n",
      "  warnings.warn(\n"
     ]
    },
    {
     "name": "stdout",
     "output_type": "stream",
     "text": [
      "[CV 4/5] END C=1, class_weight=balanced, dual=auto, fit_intercept=True, intercept_scaling=1.5, loss=hinge, multi_class=crammer_singer, penalty=l1;, score=0.962 total time=   7.7s\n"
     ]
    },
    {
     "name": "stderr",
     "output_type": "stream",
     "text": [
      "C:\\Users\\never\\AppData\\Roaming\\Python\\Python311\\site-packages\\sklearn\\svm\\_base.py:1250: ConvergenceWarning: Liblinear failed to converge, increase the number of iterations.\n",
      "  warnings.warn(\n"
     ]
    },
    {
     "name": "stdout",
     "output_type": "stream",
     "text": [
      "[CV 5/5] END C=1, class_weight=balanced, dual=auto, fit_intercept=True, intercept_scaling=1.5, loss=hinge, multi_class=crammer_singer, penalty=l1;, score=0.960 total time=   3.9s\n"
     ]
    },
    {
     "name": "stderr",
     "output_type": "stream",
     "text": [
      "C:\\Users\\never\\AppData\\Roaming\\Python\\Python311\\site-packages\\sklearn\\svm\\_base.py:1250: ConvergenceWarning: Liblinear failed to converge, increase the number of iterations.\n",
      "  warnings.warn(\n"
     ]
    },
    {
     "name": "stdout",
     "output_type": "stream",
     "text": [
      "[CV 1/5] END C=1, class_weight=balanced, dual=auto, fit_intercept=True, intercept_scaling=1.5, loss=hinge, multi_class=crammer_singer, penalty=l2;, score=0.954 total time=   4.0s\n"
     ]
    },
    {
     "name": "stderr",
     "output_type": "stream",
     "text": [
      "C:\\Users\\never\\AppData\\Roaming\\Python\\Python311\\site-packages\\sklearn\\svm\\_base.py:1250: ConvergenceWarning: Liblinear failed to converge, increase the number of iterations.\n",
      "  warnings.warn(\n"
     ]
    },
    {
     "name": "stdout",
     "output_type": "stream",
     "text": [
      "[CV 2/5] END C=1, class_weight=balanced, dual=auto, fit_intercept=True, intercept_scaling=1.5, loss=hinge, multi_class=crammer_singer, penalty=l2;, score=0.956 total time=   4.9s\n"
     ]
    },
    {
     "name": "stderr",
     "output_type": "stream",
     "text": [
      "C:\\Users\\never\\AppData\\Roaming\\Python\\Python311\\site-packages\\sklearn\\svm\\_base.py:1250: ConvergenceWarning: Liblinear failed to converge, increase the number of iterations.\n",
      "  warnings.warn(\n"
     ]
    },
    {
     "name": "stdout",
     "output_type": "stream",
     "text": [
      "[CV 3/5] END C=1, class_weight=balanced, dual=auto, fit_intercept=True, intercept_scaling=1.5, loss=hinge, multi_class=crammer_singer, penalty=l2;, score=0.958 total time=   4.0s\n"
     ]
    },
    {
     "name": "stderr",
     "output_type": "stream",
     "text": [
      "C:\\Users\\never\\AppData\\Roaming\\Python\\Python311\\site-packages\\sklearn\\svm\\_base.py:1250: ConvergenceWarning: Liblinear failed to converge, increase the number of iterations.\n",
      "  warnings.warn(\n"
     ]
    },
    {
     "name": "stdout",
     "output_type": "stream",
     "text": [
      "[CV 4/5] END C=1, class_weight=balanced, dual=auto, fit_intercept=True, intercept_scaling=1.5, loss=hinge, multi_class=crammer_singer, penalty=l2;, score=0.962 total time=   7.8s\n"
     ]
    },
    {
     "name": "stderr",
     "output_type": "stream",
     "text": [
      "C:\\Users\\never\\AppData\\Roaming\\Python\\Python311\\site-packages\\sklearn\\svm\\_base.py:1250: ConvergenceWarning: Liblinear failed to converge, increase the number of iterations.\n",
      "  warnings.warn(\n"
     ]
    },
    {
     "name": "stdout",
     "output_type": "stream",
     "text": [
      "[CV 5/5] END C=1, class_weight=balanced, dual=auto, fit_intercept=True, intercept_scaling=1.5, loss=hinge, multi_class=crammer_singer, penalty=l2;, score=0.960 total time=   4.0s\n",
      "[CV 1/5] END C=1, class_weight=balanced, dual=auto, fit_intercept=True, intercept_scaling=1.5, loss=squared_hinge, multi_class=ovr, penalty=l1;, score=0.956 total time=   3.9s\n",
      "[CV 2/5] END C=1, class_weight=balanced, dual=auto, fit_intercept=True, intercept_scaling=1.5, loss=squared_hinge, multi_class=ovr, penalty=l1;, score=0.956 total time=   3.9s\n",
      "[CV 3/5] END C=1, class_weight=balanced, dual=auto, fit_intercept=True, intercept_scaling=1.5, loss=squared_hinge, multi_class=ovr, penalty=l1;, score=0.959 total time=   3.9s\n",
      "[CV 4/5] END C=1, class_weight=balanced, dual=auto, fit_intercept=True, intercept_scaling=1.5, loss=squared_hinge, multi_class=ovr, penalty=l1;, score=0.961 total time=   3.8s\n",
      "[CV 5/5] END C=1, class_weight=balanced, dual=auto, fit_intercept=True, intercept_scaling=1.5, loss=squared_hinge, multi_class=ovr, penalty=l1;, score=0.965 total time=   3.8s\n",
      "[CV 1/5] END C=1, class_weight=balanced, dual=auto, fit_intercept=True, intercept_scaling=1.5, loss=squared_hinge, multi_class=ovr, penalty=l2;, score=0.953 total time=   2.8s\n",
      "[CV 2/5] END C=1, class_weight=balanced, dual=auto, fit_intercept=True, intercept_scaling=1.5, loss=squared_hinge, multi_class=ovr, penalty=l2;, score=0.953 total time=   2.8s\n",
      "[CV 3/5] END C=1, class_weight=balanced, dual=auto, fit_intercept=True, intercept_scaling=1.5, loss=squared_hinge, multi_class=ovr, penalty=l2;, score=0.955 total time=   3.1s\n",
      "[CV 4/5] END C=1, class_weight=balanced, dual=auto, fit_intercept=True, intercept_scaling=1.5, loss=squared_hinge, multi_class=ovr, penalty=l2;, score=0.961 total time=   3.9s\n",
      "[CV 5/5] END C=1, class_weight=balanced, dual=auto, fit_intercept=True, intercept_scaling=1.5, loss=squared_hinge, multi_class=ovr, penalty=l2;, score=0.960 total time=   3.1s\n"
     ]
    },
    {
     "name": "stderr",
     "output_type": "stream",
     "text": [
      "C:\\Users\\never\\AppData\\Roaming\\Python\\Python311\\site-packages\\sklearn\\svm\\_base.py:1250: ConvergenceWarning: Liblinear failed to converge, increase the number of iterations.\n",
      "  warnings.warn(\n"
     ]
    },
    {
     "name": "stdout",
     "output_type": "stream",
     "text": [
      "[CV 1/5] END C=1, class_weight=balanced, dual=auto, fit_intercept=True, intercept_scaling=1.5, loss=squared_hinge, multi_class=crammer_singer, penalty=l1;, score=0.954 total time=   4.1s\n"
     ]
    },
    {
     "name": "stderr",
     "output_type": "stream",
     "text": [
      "C:\\Users\\never\\AppData\\Roaming\\Python\\Python311\\site-packages\\sklearn\\svm\\_base.py:1250: ConvergenceWarning: Liblinear failed to converge, increase the number of iterations.\n",
      "  warnings.warn(\n"
     ]
    },
    {
     "name": "stdout",
     "output_type": "stream",
     "text": [
      "[CV 2/5] END C=1, class_weight=balanced, dual=auto, fit_intercept=True, intercept_scaling=1.5, loss=squared_hinge, multi_class=crammer_singer, penalty=l1;, score=0.956 total time=   5.1s\n"
     ]
    },
    {
     "name": "stderr",
     "output_type": "stream",
     "text": [
      "C:\\Users\\never\\AppData\\Roaming\\Python\\Python311\\site-packages\\sklearn\\svm\\_base.py:1250: ConvergenceWarning: Liblinear failed to converge, increase the number of iterations.\n",
      "  warnings.warn(\n"
     ]
    },
    {
     "name": "stdout",
     "output_type": "stream",
     "text": [
      "[CV 3/5] END C=1, class_weight=balanced, dual=auto, fit_intercept=True, intercept_scaling=1.5, loss=squared_hinge, multi_class=crammer_singer, penalty=l1;, score=0.958 total time=   4.2s\n"
     ]
    },
    {
     "name": "stderr",
     "output_type": "stream",
     "text": [
      "C:\\Users\\never\\AppData\\Roaming\\Python\\Python311\\site-packages\\sklearn\\svm\\_base.py:1250: ConvergenceWarning: Liblinear failed to converge, increase the number of iterations.\n",
      "  warnings.warn(\n"
     ]
    },
    {
     "name": "stdout",
     "output_type": "stream",
     "text": [
      "[CV 4/5] END C=1, class_weight=balanced, dual=auto, fit_intercept=True, intercept_scaling=1.5, loss=squared_hinge, multi_class=crammer_singer, penalty=l1;, score=0.962 total time=   7.8s\n"
     ]
    },
    {
     "name": "stderr",
     "output_type": "stream",
     "text": [
      "C:\\Users\\never\\AppData\\Roaming\\Python\\Python311\\site-packages\\sklearn\\svm\\_base.py:1250: ConvergenceWarning: Liblinear failed to converge, increase the number of iterations.\n",
      "  warnings.warn(\n"
     ]
    },
    {
     "name": "stdout",
     "output_type": "stream",
     "text": [
      "[CV 5/5] END C=1, class_weight=balanced, dual=auto, fit_intercept=True, intercept_scaling=1.5, loss=squared_hinge, multi_class=crammer_singer, penalty=l1;, score=0.960 total time=   4.0s\n"
     ]
    },
    {
     "name": "stderr",
     "output_type": "stream",
     "text": [
      "C:\\Users\\never\\AppData\\Roaming\\Python\\Python311\\site-packages\\sklearn\\svm\\_base.py:1250: ConvergenceWarning: Liblinear failed to converge, increase the number of iterations.\n",
      "  warnings.warn(\n"
     ]
    },
    {
     "name": "stdout",
     "output_type": "stream",
     "text": [
      "[CV 1/5] END C=1, class_weight=balanced, dual=auto, fit_intercept=True, intercept_scaling=1.5, loss=squared_hinge, multi_class=crammer_singer, penalty=l2;, score=0.954 total time=   4.1s\n"
     ]
    },
    {
     "name": "stderr",
     "output_type": "stream",
     "text": [
      "C:\\Users\\never\\AppData\\Roaming\\Python\\Python311\\site-packages\\sklearn\\svm\\_base.py:1250: ConvergenceWarning: Liblinear failed to converge, increase the number of iterations.\n",
      "  warnings.warn(\n"
     ]
    },
    {
     "name": "stdout",
     "output_type": "stream",
     "text": [
      "[CV 2/5] END C=1, class_weight=balanced, dual=auto, fit_intercept=True, intercept_scaling=1.5, loss=squared_hinge, multi_class=crammer_singer, penalty=l2;, score=0.956 total time=   4.8s\n"
     ]
    },
    {
     "name": "stderr",
     "output_type": "stream",
     "text": [
      "C:\\Users\\never\\AppData\\Roaming\\Python\\Python311\\site-packages\\sklearn\\svm\\_base.py:1250: ConvergenceWarning: Liblinear failed to converge, increase the number of iterations.\n",
      "  warnings.warn(\n"
     ]
    },
    {
     "name": "stdout",
     "output_type": "stream",
     "text": [
      "[CV 3/5] END C=1, class_weight=balanced, dual=auto, fit_intercept=True, intercept_scaling=1.5, loss=squared_hinge, multi_class=crammer_singer, penalty=l2;, score=0.958 total time=   4.1s\n"
     ]
    },
    {
     "name": "stderr",
     "output_type": "stream",
     "text": [
      "C:\\Users\\never\\AppData\\Roaming\\Python\\Python311\\site-packages\\sklearn\\svm\\_base.py:1250: ConvergenceWarning: Liblinear failed to converge, increase the number of iterations.\n",
      "  warnings.warn(\n"
     ]
    },
    {
     "name": "stdout",
     "output_type": "stream",
     "text": [
      "[CV 4/5] END C=1, class_weight=balanced, dual=auto, fit_intercept=True, intercept_scaling=1.5, loss=squared_hinge, multi_class=crammer_singer, penalty=l2;, score=0.962 total time=   7.7s\n"
     ]
    },
    {
     "name": "stderr",
     "output_type": "stream",
     "text": [
      "C:\\Users\\never\\AppData\\Roaming\\Python\\Python311\\site-packages\\sklearn\\svm\\_base.py:1250: ConvergenceWarning: Liblinear failed to converge, increase the number of iterations.\n",
      "  warnings.warn(\n"
     ]
    },
    {
     "name": "stdout",
     "output_type": "stream",
     "text": [
      "[CV 5/5] END C=1, class_weight=balanced, dual=auto, fit_intercept=True, intercept_scaling=1.5, loss=squared_hinge, multi_class=crammer_singer, penalty=l2;, score=0.960 total time=   4.0s\n",
      "[CV 1/5] END C=1, class_weight=balanced, dual=auto, fit_intercept=True, intercept_scaling=2, loss=hinge, multi_class=ovr, penalty=l1;, score=nan total time=   1.0s\n",
      "[CV 2/5] END C=1, class_weight=balanced, dual=auto, fit_intercept=True, intercept_scaling=2, loss=hinge, multi_class=ovr, penalty=l1;, score=nan total time=   1.0s\n",
      "[CV 3/5] END C=1, class_weight=balanced, dual=auto, fit_intercept=True, intercept_scaling=2, loss=hinge, multi_class=ovr, penalty=l1;, score=nan total time=   1.1s\n",
      "[CV 4/5] END C=1, class_weight=balanced, dual=auto, fit_intercept=True, intercept_scaling=2, loss=hinge, multi_class=ovr, penalty=l1;, score=nan total time=   1.0s\n",
      "[CV 5/5] END C=1, class_weight=balanced, dual=auto, fit_intercept=True, intercept_scaling=2, loss=hinge, multi_class=ovr, penalty=l1;, score=nan total time=   1.0s\n",
      "[CV 1/5] END C=1, class_weight=balanced, dual=auto, fit_intercept=True, intercept_scaling=2, loss=hinge, multi_class=ovr, penalty=l2;, score=0.945 total time=   3.3s\n",
      "[CV 2/5] END C=1, class_weight=balanced, dual=auto, fit_intercept=True, intercept_scaling=2, loss=hinge, multi_class=ovr, penalty=l2;, score=0.947 total time=   4.1s\n",
      "[CV 3/5] END C=1, class_weight=balanced, dual=auto, fit_intercept=True, intercept_scaling=2, loss=hinge, multi_class=ovr, penalty=l2;, score=0.948 total time=   3.7s\n",
      "[CV 4/5] END C=1, class_weight=balanced, dual=auto, fit_intercept=True, intercept_scaling=2, loss=hinge, multi_class=ovr, penalty=l2;, score=0.953 total time=   3.4s\n",
      "[CV 5/5] END C=1, class_weight=balanced, dual=auto, fit_intercept=True, intercept_scaling=2, loss=hinge, multi_class=ovr, penalty=l2;, score=0.952 total time=   3.1s\n"
     ]
    },
    {
     "name": "stderr",
     "output_type": "stream",
     "text": [
      "C:\\Users\\never\\AppData\\Roaming\\Python\\Python311\\site-packages\\sklearn\\svm\\_base.py:1250: ConvergenceWarning: Liblinear failed to converge, increase the number of iterations.\n",
      "  warnings.warn(\n"
     ]
    },
    {
     "name": "stdout",
     "output_type": "stream",
     "text": [
      "[CV 1/5] END C=1, class_weight=balanced, dual=auto, fit_intercept=True, intercept_scaling=2, loss=hinge, multi_class=crammer_singer, penalty=l1;, score=0.954 total time=   7.2s\n"
     ]
    },
    {
     "name": "stderr",
     "output_type": "stream",
     "text": [
      "C:\\Users\\never\\AppData\\Roaming\\Python\\Python311\\site-packages\\sklearn\\svm\\_base.py:1250: ConvergenceWarning: Liblinear failed to converge, increase the number of iterations.\n",
      "  warnings.warn(\n"
     ]
    },
    {
     "name": "stdout",
     "output_type": "stream",
     "text": [
      "[CV 2/5] END C=1, class_weight=balanced, dual=auto, fit_intercept=True, intercept_scaling=2, loss=hinge, multi_class=crammer_singer, penalty=l1;, score=0.956 total time=   6.2s\n"
     ]
    },
    {
     "name": "stderr",
     "output_type": "stream",
     "text": [
      "C:\\Users\\never\\AppData\\Roaming\\Python\\Python311\\site-packages\\sklearn\\svm\\_base.py:1250: ConvergenceWarning: Liblinear failed to converge, increase the number of iterations.\n",
      "  warnings.warn(\n"
     ]
    },
    {
     "name": "stdout",
     "output_type": "stream",
     "text": [
      "[CV 3/5] END C=1, class_weight=balanced, dual=auto, fit_intercept=True, intercept_scaling=2, loss=hinge, multi_class=crammer_singer, penalty=l1;, score=0.958 total time=   5.3s\n"
     ]
    },
    {
     "name": "stderr",
     "output_type": "stream",
     "text": [
      "C:\\Users\\never\\AppData\\Roaming\\Python\\Python311\\site-packages\\sklearn\\svm\\_base.py:1250: ConvergenceWarning: Liblinear failed to converge, increase the number of iterations.\n",
      "  warnings.warn(\n"
     ]
    },
    {
     "name": "stdout",
     "output_type": "stream",
     "text": [
      "[CV 4/5] END C=1, class_weight=balanced, dual=auto, fit_intercept=True, intercept_scaling=2, loss=hinge, multi_class=crammer_singer, penalty=l1;, score=0.962 total time=  10.6s\n"
     ]
    },
    {
     "name": "stderr",
     "output_type": "stream",
     "text": [
      "C:\\Users\\never\\AppData\\Roaming\\Python\\Python311\\site-packages\\sklearn\\svm\\_base.py:1250: ConvergenceWarning: Liblinear failed to converge, increase the number of iterations.\n",
      "  warnings.warn(\n"
     ]
    },
    {
     "name": "stdout",
     "output_type": "stream",
     "text": [
      "[CV 5/5] END C=1, class_weight=balanced, dual=auto, fit_intercept=True, intercept_scaling=2, loss=hinge, multi_class=crammer_singer, penalty=l1;, score=0.960 total time=   4.6s\n"
     ]
    },
    {
     "name": "stderr",
     "output_type": "stream",
     "text": [
      "C:\\Users\\never\\AppData\\Roaming\\Python\\Python311\\site-packages\\sklearn\\svm\\_base.py:1250: ConvergenceWarning: Liblinear failed to converge, increase the number of iterations.\n",
      "  warnings.warn(\n"
     ]
    },
    {
     "name": "stdout",
     "output_type": "stream",
     "text": [
      "[CV 1/5] END C=1, class_weight=balanced, dual=auto, fit_intercept=True, intercept_scaling=2, loss=hinge, multi_class=crammer_singer, penalty=l2;, score=0.954 total time=   7.2s\n"
     ]
    },
    {
     "name": "stderr",
     "output_type": "stream",
     "text": [
      "C:\\Users\\never\\AppData\\Roaming\\Python\\Python311\\site-packages\\sklearn\\svm\\_base.py:1250: ConvergenceWarning: Liblinear failed to converge, increase the number of iterations.\n",
      "  warnings.warn(\n"
     ]
    },
    {
     "name": "stdout",
     "output_type": "stream",
     "text": [
      "[CV 2/5] END C=1, class_weight=balanced, dual=auto, fit_intercept=True, intercept_scaling=2, loss=hinge, multi_class=crammer_singer, penalty=l2;, score=0.956 total time=   6.1s\n"
     ]
    },
    {
     "name": "stderr",
     "output_type": "stream",
     "text": [
      "C:\\Users\\never\\AppData\\Roaming\\Python\\Python311\\site-packages\\sklearn\\svm\\_base.py:1250: ConvergenceWarning: Liblinear failed to converge, increase the number of iterations.\n",
      "  warnings.warn(\n"
     ]
    },
    {
     "name": "stdout",
     "output_type": "stream",
     "text": [
      "[CV 3/5] END C=1, class_weight=balanced, dual=auto, fit_intercept=True, intercept_scaling=2, loss=hinge, multi_class=crammer_singer, penalty=l2;, score=0.958 total time=   5.4s\n"
     ]
    },
    {
     "name": "stderr",
     "output_type": "stream",
     "text": [
      "C:\\Users\\never\\AppData\\Roaming\\Python\\Python311\\site-packages\\sklearn\\svm\\_base.py:1250: ConvergenceWarning: Liblinear failed to converge, increase the number of iterations.\n",
      "  warnings.warn(\n"
     ]
    },
    {
     "name": "stdout",
     "output_type": "stream",
     "text": [
      "[CV 4/5] END C=1, class_weight=balanced, dual=auto, fit_intercept=True, intercept_scaling=2, loss=hinge, multi_class=crammer_singer, penalty=l2;, score=0.962 total time=  10.5s\n"
     ]
    },
    {
     "name": "stderr",
     "output_type": "stream",
     "text": [
      "C:\\Users\\never\\AppData\\Roaming\\Python\\Python311\\site-packages\\sklearn\\svm\\_base.py:1250: ConvergenceWarning: Liblinear failed to converge, increase the number of iterations.\n",
      "  warnings.warn(\n"
     ]
    },
    {
     "name": "stdout",
     "output_type": "stream",
     "text": [
      "[CV 5/5] END C=1, class_weight=balanced, dual=auto, fit_intercept=True, intercept_scaling=2, loss=hinge, multi_class=crammer_singer, penalty=l2;, score=0.960 total time=   4.6s\n",
      "[CV 1/5] END C=1, class_weight=balanced, dual=auto, fit_intercept=True, intercept_scaling=2, loss=squared_hinge, multi_class=ovr, penalty=l1;, score=0.956 total time=   3.9s\n",
      "[CV 2/5] END C=1, class_weight=balanced, dual=auto, fit_intercept=True, intercept_scaling=2, loss=squared_hinge, multi_class=ovr, penalty=l1;, score=0.956 total time=   3.9s\n",
      "[CV 3/5] END C=1, class_weight=balanced, dual=auto, fit_intercept=True, intercept_scaling=2, loss=squared_hinge, multi_class=ovr, penalty=l1;, score=0.959 total time=   3.9s\n",
      "[CV 4/5] END C=1, class_weight=balanced, dual=auto, fit_intercept=True, intercept_scaling=2, loss=squared_hinge, multi_class=ovr, penalty=l1;, score=0.961 total time=   3.9s\n",
      "[CV 5/5] END C=1, class_weight=balanced, dual=auto, fit_intercept=True, intercept_scaling=2, loss=squared_hinge, multi_class=ovr, penalty=l1;, score=0.965 total time=   3.8s\n",
      "[CV 1/5] END C=1, class_weight=balanced, dual=auto, fit_intercept=True, intercept_scaling=2, loss=squared_hinge, multi_class=ovr, penalty=l2;, score=0.953 total time=   2.8s\n",
      "[CV 2/5] END C=1, class_weight=balanced, dual=auto, fit_intercept=True, intercept_scaling=2, loss=squared_hinge, multi_class=ovr, penalty=l2;, score=0.953 total time=   2.8s\n",
      "[CV 3/5] END C=1, class_weight=balanced, dual=auto, fit_intercept=True, intercept_scaling=2, loss=squared_hinge, multi_class=ovr, penalty=l2;, score=0.955 total time=   2.8s\n",
      "[CV 4/5] END C=1, class_weight=balanced, dual=auto, fit_intercept=True, intercept_scaling=2, loss=squared_hinge, multi_class=ovr, penalty=l2;, score=0.961 total time=   2.8s\n",
      "[CV 5/5] END C=1, class_weight=balanced, dual=auto, fit_intercept=True, intercept_scaling=2, loss=squared_hinge, multi_class=ovr, penalty=l2;, score=0.960 total time=   2.8s\n"
     ]
    },
    {
     "name": "stderr",
     "output_type": "stream",
     "text": [
      "C:\\Users\\never\\AppData\\Roaming\\Python\\Python311\\site-packages\\sklearn\\svm\\_base.py:1250: ConvergenceWarning: Liblinear failed to converge, increase the number of iterations.\n",
      "  warnings.warn(\n"
     ]
    },
    {
     "name": "stdout",
     "output_type": "stream",
     "text": [
      "[CV 1/5] END C=1, class_weight=balanced, dual=auto, fit_intercept=True, intercept_scaling=2, loss=squared_hinge, multi_class=crammer_singer, penalty=l1;, score=0.954 total time=   7.2s\n"
     ]
    },
    {
     "name": "stderr",
     "output_type": "stream",
     "text": [
      "C:\\Users\\never\\AppData\\Roaming\\Python\\Python311\\site-packages\\sklearn\\svm\\_base.py:1250: ConvergenceWarning: Liblinear failed to converge, increase the number of iterations.\n",
      "  warnings.warn(\n"
     ]
    },
    {
     "name": "stdout",
     "output_type": "stream",
     "text": [
      "[CV 2/5] END C=1, class_weight=balanced, dual=auto, fit_intercept=True, intercept_scaling=2, loss=squared_hinge, multi_class=crammer_singer, penalty=l1;, score=0.956 total time=   6.2s\n"
     ]
    },
    {
     "name": "stderr",
     "output_type": "stream",
     "text": [
      "C:\\Users\\never\\AppData\\Roaming\\Python\\Python311\\site-packages\\sklearn\\svm\\_base.py:1250: ConvergenceWarning: Liblinear failed to converge, increase the number of iterations.\n",
      "  warnings.warn(\n"
     ]
    },
    {
     "name": "stdout",
     "output_type": "stream",
     "text": [
      "[CV 3/5] END C=1, class_weight=balanced, dual=auto, fit_intercept=True, intercept_scaling=2, loss=squared_hinge, multi_class=crammer_singer, penalty=l1;, score=0.958 total time=   5.4s\n"
     ]
    },
    {
     "name": "stderr",
     "output_type": "stream",
     "text": [
      "C:\\Users\\never\\AppData\\Roaming\\Python\\Python311\\site-packages\\sklearn\\svm\\_base.py:1250: ConvergenceWarning: Liblinear failed to converge, increase the number of iterations.\n",
      "  warnings.warn(\n"
     ]
    },
    {
     "name": "stdout",
     "output_type": "stream",
     "text": [
      "[CV 4/5] END C=1, class_weight=balanced, dual=auto, fit_intercept=True, intercept_scaling=2, loss=squared_hinge, multi_class=crammer_singer, penalty=l1;, score=0.962 total time=  10.6s\n"
     ]
    },
    {
     "name": "stderr",
     "output_type": "stream",
     "text": [
      "C:\\Users\\never\\AppData\\Roaming\\Python\\Python311\\site-packages\\sklearn\\svm\\_base.py:1250: ConvergenceWarning: Liblinear failed to converge, increase the number of iterations.\n",
      "  warnings.warn(\n"
     ]
    },
    {
     "name": "stdout",
     "output_type": "stream",
     "text": [
      "[CV 5/5] END C=1, class_weight=balanced, dual=auto, fit_intercept=True, intercept_scaling=2, loss=squared_hinge, multi_class=crammer_singer, penalty=l1;, score=0.960 total time=   4.6s\n"
     ]
    },
    {
     "name": "stderr",
     "output_type": "stream",
     "text": [
      "C:\\Users\\never\\AppData\\Roaming\\Python\\Python311\\site-packages\\sklearn\\svm\\_base.py:1250: ConvergenceWarning: Liblinear failed to converge, increase the number of iterations.\n",
      "  warnings.warn(\n"
     ]
    },
    {
     "name": "stdout",
     "output_type": "stream",
     "text": [
      "[CV 1/5] END C=1, class_weight=balanced, dual=auto, fit_intercept=True, intercept_scaling=2, loss=squared_hinge, multi_class=crammer_singer, penalty=l2;, score=0.954 total time=   7.3s\n"
     ]
    },
    {
     "name": "stderr",
     "output_type": "stream",
     "text": [
      "C:\\Users\\never\\AppData\\Roaming\\Python\\Python311\\site-packages\\sklearn\\svm\\_base.py:1250: ConvergenceWarning: Liblinear failed to converge, increase the number of iterations.\n",
      "  warnings.warn(\n"
     ]
    },
    {
     "name": "stdout",
     "output_type": "stream",
     "text": [
      "[CV 2/5] END C=1, class_weight=balanced, dual=auto, fit_intercept=True, intercept_scaling=2, loss=squared_hinge, multi_class=crammer_singer, penalty=l2;, score=0.956 total time=   6.2s\n"
     ]
    },
    {
     "name": "stderr",
     "output_type": "stream",
     "text": [
      "C:\\Users\\never\\AppData\\Roaming\\Python\\Python311\\site-packages\\sklearn\\svm\\_base.py:1250: ConvergenceWarning: Liblinear failed to converge, increase the number of iterations.\n",
      "  warnings.warn(\n"
     ]
    },
    {
     "name": "stdout",
     "output_type": "stream",
     "text": [
      "[CV 3/5] END C=1, class_weight=balanced, dual=auto, fit_intercept=True, intercept_scaling=2, loss=squared_hinge, multi_class=crammer_singer, penalty=l2;, score=0.958 total time=   5.4s\n"
     ]
    },
    {
     "name": "stderr",
     "output_type": "stream",
     "text": [
      "C:\\Users\\never\\AppData\\Roaming\\Python\\Python311\\site-packages\\sklearn\\svm\\_base.py:1250: ConvergenceWarning: Liblinear failed to converge, increase the number of iterations.\n",
      "  warnings.warn(\n"
     ]
    },
    {
     "name": "stdout",
     "output_type": "stream",
     "text": [
      "[CV 4/5] END C=1, class_weight=balanced, dual=auto, fit_intercept=True, intercept_scaling=2, loss=squared_hinge, multi_class=crammer_singer, penalty=l2;, score=0.962 total time=  10.5s\n"
     ]
    },
    {
     "name": "stderr",
     "output_type": "stream",
     "text": [
      "C:\\Users\\never\\AppData\\Roaming\\Python\\Python311\\site-packages\\sklearn\\svm\\_base.py:1250: ConvergenceWarning: Liblinear failed to converge, increase the number of iterations.\n",
      "  warnings.warn(\n"
     ]
    },
    {
     "name": "stdout",
     "output_type": "stream",
     "text": [
      "[CV 5/5] END C=1, class_weight=balanced, dual=auto, fit_intercept=True, intercept_scaling=2, loss=squared_hinge, multi_class=crammer_singer, penalty=l2;, score=0.960 total time=   4.6s\n",
      "[CV 1/5] END C=1, class_weight=balanced, dual=auto, fit_intercept=False, intercept_scaling=1, loss=hinge, multi_class=ovr, penalty=l1;, score=nan total time=   1.1s\n",
      "[CV 2/5] END C=1, class_weight=balanced, dual=auto, fit_intercept=False, intercept_scaling=1, loss=hinge, multi_class=ovr, penalty=l1;, score=nan total time=   1.0s\n",
      "[CV 3/5] END C=1, class_weight=balanced, dual=auto, fit_intercept=False, intercept_scaling=1, loss=hinge, multi_class=ovr, penalty=l1;, score=nan total time=   1.0s\n",
      "[CV 4/5] END C=1, class_weight=balanced, dual=auto, fit_intercept=False, intercept_scaling=1, loss=hinge, multi_class=ovr, penalty=l1;, score=nan total time=   1.0s\n",
      "[CV 5/5] END C=1, class_weight=balanced, dual=auto, fit_intercept=False, intercept_scaling=1, loss=hinge, multi_class=ovr, penalty=l1;, score=nan total time=   1.0s\n",
      "[CV 1/5] END C=1, class_weight=balanced, dual=auto, fit_intercept=False, intercept_scaling=1, loss=hinge, multi_class=ovr, penalty=l2;, score=0.942 total time=   2.5s\n",
      "[CV 2/5] END C=1, class_weight=balanced, dual=auto, fit_intercept=False, intercept_scaling=1, loss=hinge, multi_class=ovr, penalty=l2;, score=0.943 total time=   2.5s\n",
      "[CV 3/5] END C=1, class_weight=balanced, dual=auto, fit_intercept=False, intercept_scaling=1, loss=hinge, multi_class=ovr, penalty=l2;, score=0.944 total time=   2.5s\n",
      "[CV 4/5] END C=1, class_weight=balanced, dual=auto, fit_intercept=False, intercept_scaling=1, loss=hinge, multi_class=ovr, penalty=l2;, score=0.952 total time=   2.5s\n",
      "[CV 5/5] END C=1, class_weight=balanced, dual=auto, fit_intercept=False, intercept_scaling=1, loss=hinge, multi_class=ovr, penalty=l2;, score=0.951 total time=   2.5s\n"
     ]
    },
    {
     "name": "stderr",
     "output_type": "stream",
     "text": [
      "C:\\Users\\never\\AppData\\Roaming\\Python\\Python311\\site-packages\\sklearn\\svm\\_base.py:1250: ConvergenceWarning: Liblinear failed to converge, increase the number of iterations.\n",
      "  warnings.warn(\n"
     ]
    },
    {
     "name": "stdout",
     "output_type": "stream",
     "text": [
      "[CV 1/5] END C=1, class_weight=balanced, dual=auto, fit_intercept=False, intercept_scaling=1, loss=hinge, multi_class=crammer_singer, penalty=l1;, score=0.948 total time=   2.9s\n"
     ]
    },
    {
     "name": "stderr",
     "output_type": "stream",
     "text": [
      "C:\\Users\\never\\AppData\\Roaming\\Python\\Python311\\site-packages\\sklearn\\svm\\_base.py:1250: ConvergenceWarning: Liblinear failed to converge, increase the number of iterations.\n",
      "  warnings.warn(\n"
     ]
    },
    {
     "name": "stdout",
     "output_type": "stream",
     "text": [
      "[CV 2/5] END C=1, class_weight=balanced, dual=auto, fit_intercept=False, intercept_scaling=1, loss=hinge, multi_class=crammer_singer, penalty=l1;, score=0.947 total time=   3.3s\n"
     ]
    },
    {
     "name": "stderr",
     "output_type": "stream",
     "text": [
      "C:\\Users\\never\\AppData\\Roaming\\Python\\Python311\\site-packages\\sklearn\\svm\\_base.py:1250: ConvergenceWarning: Liblinear failed to converge, increase the number of iterations.\n",
      "  warnings.warn(\n"
     ]
    },
    {
     "name": "stdout",
     "output_type": "stream",
     "text": [
      "[CV 3/5] END C=1, class_weight=balanced, dual=auto, fit_intercept=False, intercept_scaling=1, loss=hinge, multi_class=crammer_singer, penalty=l1;, score=0.953 total time=   2.9s\n"
     ]
    },
    {
     "name": "stderr",
     "output_type": "stream",
     "text": [
      "C:\\Users\\never\\AppData\\Roaming\\Python\\Python311\\site-packages\\sklearn\\svm\\_base.py:1250: ConvergenceWarning: Liblinear failed to converge, increase the number of iterations.\n",
      "  warnings.warn(\n"
     ]
    },
    {
     "name": "stdout",
     "output_type": "stream",
     "text": [
      "[CV 4/5] END C=1, class_weight=balanced, dual=auto, fit_intercept=False, intercept_scaling=1, loss=hinge, multi_class=crammer_singer, penalty=l1;, score=0.956 total time=   2.9s\n"
     ]
    },
    {
     "name": "stderr",
     "output_type": "stream",
     "text": [
      "C:\\Users\\never\\AppData\\Roaming\\Python\\Python311\\site-packages\\sklearn\\svm\\_base.py:1250: ConvergenceWarning: Liblinear failed to converge, increase the number of iterations.\n",
      "  warnings.warn(\n"
     ]
    },
    {
     "name": "stdout",
     "output_type": "stream",
     "text": [
      "[CV 5/5] END C=1, class_weight=balanced, dual=auto, fit_intercept=False, intercept_scaling=1, loss=hinge, multi_class=crammer_singer, penalty=l1;, score=0.957 total time=   2.7s\n"
     ]
    },
    {
     "name": "stderr",
     "output_type": "stream",
     "text": [
      "C:\\Users\\never\\AppData\\Roaming\\Python\\Python311\\site-packages\\sklearn\\svm\\_base.py:1250: ConvergenceWarning: Liblinear failed to converge, increase the number of iterations.\n",
      "  warnings.warn(\n"
     ]
    },
    {
     "name": "stdout",
     "output_type": "stream",
     "text": [
      "[CV 1/5] END C=1, class_weight=balanced, dual=auto, fit_intercept=False, intercept_scaling=1, loss=hinge, multi_class=crammer_singer, penalty=l2;, score=0.948 total time=   2.9s\n"
     ]
    },
    {
     "name": "stderr",
     "output_type": "stream",
     "text": [
      "C:\\Users\\never\\AppData\\Roaming\\Python\\Python311\\site-packages\\sklearn\\svm\\_base.py:1250: ConvergenceWarning: Liblinear failed to converge, increase the number of iterations.\n",
      "  warnings.warn(\n"
     ]
    },
    {
     "name": "stdout",
     "output_type": "stream",
     "text": [
      "[CV 2/5] END C=1, class_weight=balanced, dual=auto, fit_intercept=False, intercept_scaling=1, loss=hinge, multi_class=crammer_singer, penalty=l2;, score=0.947 total time=   3.2s\n"
     ]
    },
    {
     "name": "stderr",
     "output_type": "stream",
     "text": [
      "C:\\Users\\never\\AppData\\Roaming\\Python\\Python311\\site-packages\\sklearn\\svm\\_base.py:1250: ConvergenceWarning: Liblinear failed to converge, increase the number of iterations.\n",
      "  warnings.warn(\n"
     ]
    },
    {
     "name": "stdout",
     "output_type": "stream",
     "text": [
      "[CV 3/5] END C=1, class_weight=balanced, dual=auto, fit_intercept=False, intercept_scaling=1, loss=hinge, multi_class=crammer_singer, penalty=l2;, score=0.953 total time=   2.9s\n"
     ]
    },
    {
     "name": "stderr",
     "output_type": "stream",
     "text": [
      "C:\\Users\\never\\AppData\\Roaming\\Python\\Python311\\site-packages\\sklearn\\svm\\_base.py:1250: ConvergenceWarning: Liblinear failed to converge, increase the number of iterations.\n",
      "  warnings.warn(\n"
     ]
    },
    {
     "name": "stdout",
     "output_type": "stream",
     "text": [
      "[CV 4/5] END C=1, class_weight=balanced, dual=auto, fit_intercept=False, intercept_scaling=1, loss=hinge, multi_class=crammer_singer, penalty=l2;, score=0.956 total time=   2.9s\n"
     ]
    },
    {
     "name": "stderr",
     "output_type": "stream",
     "text": [
      "C:\\Users\\never\\AppData\\Roaming\\Python\\Python311\\site-packages\\sklearn\\svm\\_base.py:1250: ConvergenceWarning: Liblinear failed to converge, increase the number of iterations.\n",
      "  warnings.warn(\n"
     ]
    },
    {
     "name": "stdout",
     "output_type": "stream",
     "text": [
      "[CV 5/5] END C=1, class_weight=balanced, dual=auto, fit_intercept=False, intercept_scaling=1, loss=hinge, multi_class=crammer_singer, penalty=l2;, score=0.957 total time=   2.7s\n",
      "[CV 1/5] END C=1, class_weight=balanced, dual=auto, fit_intercept=False, intercept_scaling=1, loss=squared_hinge, multi_class=ovr, penalty=l1;, score=0.950 total time=   3.4s\n",
      "[CV 2/5] END C=1, class_weight=balanced, dual=auto, fit_intercept=False, intercept_scaling=1, loss=squared_hinge, multi_class=ovr, penalty=l1;, score=0.949 total time=   3.5s\n"
     ]
    },
    {
     "name": "stderr",
     "output_type": "stream",
     "text": [
      "C:\\Users\\never\\AppData\\Roaming\\Python\\Python311\\site-packages\\sklearn\\svm\\_base.py:1250: ConvergenceWarning: Liblinear failed to converge, increase the number of iterations.\n",
      "  warnings.warn(\n"
     ]
    },
    {
     "name": "stdout",
     "output_type": "stream",
     "text": [
      "[CV 3/5] END C=1, class_weight=balanced, dual=auto, fit_intercept=False, intercept_scaling=1, loss=squared_hinge, multi_class=ovr, penalty=l1;, score=0.954 total time=  10.3s\n",
      "[CV 4/5] END C=1, class_weight=balanced, dual=auto, fit_intercept=False, intercept_scaling=1, loss=squared_hinge, multi_class=ovr, penalty=l1;, score=0.957 total time=   3.4s\n",
      "[CV 5/5] END C=1, class_weight=balanced, dual=auto, fit_intercept=False, intercept_scaling=1, loss=squared_hinge, multi_class=ovr, penalty=l1;, score=0.956 total time=   3.3s\n",
      "[CV 1/5] END C=1, class_weight=balanced, dual=auto, fit_intercept=False, intercept_scaling=1, loss=squared_hinge, multi_class=ovr, penalty=l2;, score=0.946 total time=   2.6s\n",
      "[CV 2/5] END C=1, class_weight=balanced, dual=auto, fit_intercept=False, intercept_scaling=1, loss=squared_hinge, multi_class=ovr, penalty=l2;, score=0.948 total time=   2.6s\n",
      "[CV 3/5] END C=1, class_weight=balanced, dual=auto, fit_intercept=False, intercept_scaling=1, loss=squared_hinge, multi_class=ovr, penalty=l2;, score=0.950 total time=   2.7s\n",
      "[CV 4/5] END C=1, class_weight=balanced, dual=auto, fit_intercept=False, intercept_scaling=1, loss=squared_hinge, multi_class=ovr, penalty=l2;, score=0.957 total time=   2.6s\n",
      "[CV 5/5] END C=1, class_weight=balanced, dual=auto, fit_intercept=False, intercept_scaling=1, loss=squared_hinge, multi_class=ovr, penalty=l2;, score=0.955 total time=   2.6s\n"
     ]
    },
    {
     "name": "stderr",
     "output_type": "stream",
     "text": [
      "C:\\Users\\never\\AppData\\Roaming\\Python\\Python311\\site-packages\\sklearn\\svm\\_base.py:1250: ConvergenceWarning: Liblinear failed to converge, increase the number of iterations.\n",
      "  warnings.warn(\n"
     ]
    },
    {
     "name": "stdout",
     "output_type": "stream",
     "text": [
      "[CV 1/5] END C=1, class_weight=balanced, dual=auto, fit_intercept=False, intercept_scaling=1, loss=squared_hinge, multi_class=crammer_singer, penalty=l1;, score=0.948 total time=   2.9s\n"
     ]
    },
    {
     "name": "stderr",
     "output_type": "stream",
     "text": [
      "C:\\Users\\never\\AppData\\Roaming\\Python\\Python311\\site-packages\\sklearn\\svm\\_base.py:1250: ConvergenceWarning: Liblinear failed to converge, increase the number of iterations.\n",
      "  warnings.warn(\n"
     ]
    },
    {
     "name": "stdout",
     "output_type": "stream",
     "text": [
      "[CV 2/5] END C=1, class_weight=balanced, dual=auto, fit_intercept=False, intercept_scaling=1, loss=squared_hinge, multi_class=crammer_singer, penalty=l1;, score=0.947 total time=   3.3s\n"
     ]
    },
    {
     "name": "stderr",
     "output_type": "stream",
     "text": [
      "C:\\Users\\never\\AppData\\Roaming\\Python\\Python311\\site-packages\\sklearn\\svm\\_base.py:1250: ConvergenceWarning: Liblinear failed to converge, increase the number of iterations.\n",
      "  warnings.warn(\n"
     ]
    },
    {
     "name": "stdout",
     "output_type": "stream",
     "text": [
      "[CV 3/5] END C=1, class_weight=balanced, dual=auto, fit_intercept=False, intercept_scaling=1, loss=squared_hinge, multi_class=crammer_singer, penalty=l1;, score=0.953 total time=   2.9s\n"
     ]
    },
    {
     "name": "stderr",
     "output_type": "stream",
     "text": [
      "C:\\Users\\never\\AppData\\Roaming\\Python\\Python311\\site-packages\\sklearn\\svm\\_base.py:1250: ConvergenceWarning: Liblinear failed to converge, increase the number of iterations.\n",
      "  warnings.warn(\n"
     ]
    },
    {
     "name": "stdout",
     "output_type": "stream",
     "text": [
      "[CV 4/5] END C=1, class_weight=balanced, dual=auto, fit_intercept=False, intercept_scaling=1, loss=squared_hinge, multi_class=crammer_singer, penalty=l1;, score=0.956 total time=   2.9s\n"
     ]
    },
    {
     "name": "stderr",
     "output_type": "stream",
     "text": [
      "C:\\Users\\never\\AppData\\Roaming\\Python\\Python311\\site-packages\\sklearn\\svm\\_base.py:1250: ConvergenceWarning: Liblinear failed to converge, increase the number of iterations.\n",
      "  warnings.warn(\n"
     ]
    },
    {
     "name": "stdout",
     "output_type": "stream",
     "text": [
      "[CV 5/5] END C=1, class_weight=balanced, dual=auto, fit_intercept=False, intercept_scaling=1, loss=squared_hinge, multi_class=crammer_singer, penalty=l1;, score=0.957 total time=   2.7s\n"
     ]
    },
    {
     "name": "stderr",
     "output_type": "stream",
     "text": [
      "C:\\Users\\never\\AppData\\Roaming\\Python\\Python311\\site-packages\\sklearn\\svm\\_base.py:1250: ConvergenceWarning: Liblinear failed to converge, increase the number of iterations.\n",
      "  warnings.warn(\n"
     ]
    },
    {
     "name": "stdout",
     "output_type": "stream",
     "text": [
      "[CV 1/5] END C=1, class_weight=balanced, dual=auto, fit_intercept=False, intercept_scaling=1, loss=squared_hinge, multi_class=crammer_singer, penalty=l2;, score=0.948 total time=   2.9s\n"
     ]
    },
    {
     "name": "stderr",
     "output_type": "stream",
     "text": [
      "C:\\Users\\never\\AppData\\Roaming\\Python\\Python311\\site-packages\\sklearn\\svm\\_base.py:1250: ConvergenceWarning: Liblinear failed to converge, increase the number of iterations.\n",
      "  warnings.warn(\n"
     ]
    },
    {
     "name": "stdout",
     "output_type": "stream",
     "text": [
      "[CV 2/5] END C=1, class_weight=balanced, dual=auto, fit_intercept=False, intercept_scaling=1, loss=squared_hinge, multi_class=crammer_singer, penalty=l2;, score=0.947 total time=   3.3s\n"
     ]
    },
    {
     "name": "stderr",
     "output_type": "stream",
     "text": [
      "C:\\Users\\never\\AppData\\Roaming\\Python\\Python311\\site-packages\\sklearn\\svm\\_base.py:1250: ConvergenceWarning: Liblinear failed to converge, increase the number of iterations.\n",
      "  warnings.warn(\n"
     ]
    },
    {
     "name": "stdout",
     "output_type": "stream",
     "text": [
      "[CV 3/5] END C=1, class_weight=balanced, dual=auto, fit_intercept=False, intercept_scaling=1, loss=squared_hinge, multi_class=crammer_singer, penalty=l2;, score=0.953 total time=   2.9s\n"
     ]
    },
    {
     "name": "stderr",
     "output_type": "stream",
     "text": [
      "C:\\Users\\never\\AppData\\Roaming\\Python\\Python311\\site-packages\\sklearn\\svm\\_base.py:1250: ConvergenceWarning: Liblinear failed to converge, increase the number of iterations.\n",
      "  warnings.warn(\n"
     ]
    },
    {
     "name": "stdout",
     "output_type": "stream",
     "text": [
      "[CV 4/5] END C=1, class_weight=balanced, dual=auto, fit_intercept=False, intercept_scaling=1, loss=squared_hinge, multi_class=crammer_singer, penalty=l2;, score=0.956 total time=   2.9s\n"
     ]
    },
    {
     "name": "stderr",
     "output_type": "stream",
     "text": [
      "C:\\Users\\never\\AppData\\Roaming\\Python\\Python311\\site-packages\\sklearn\\svm\\_base.py:1250: ConvergenceWarning: Liblinear failed to converge, increase the number of iterations.\n",
      "  warnings.warn(\n"
     ]
    },
    {
     "name": "stdout",
     "output_type": "stream",
     "text": [
      "[CV 5/5] END C=1, class_weight=balanced, dual=auto, fit_intercept=False, intercept_scaling=1, loss=squared_hinge, multi_class=crammer_singer, penalty=l2;, score=0.957 total time=   2.8s\n",
      "[CV 1/5] END C=1, class_weight=balanced, dual=auto, fit_intercept=False, intercept_scaling=1.5, loss=hinge, multi_class=ovr, penalty=l1;, score=nan total time=   1.1s\n",
      "[CV 2/5] END C=1, class_weight=balanced, dual=auto, fit_intercept=False, intercept_scaling=1.5, loss=hinge, multi_class=ovr, penalty=l1;, score=nan total time=   1.0s\n",
      "[CV 3/5] END C=1, class_weight=balanced, dual=auto, fit_intercept=False, intercept_scaling=1.5, loss=hinge, multi_class=ovr, penalty=l1;, score=nan total time=   1.0s\n",
      "[CV 4/5] END C=1, class_weight=balanced, dual=auto, fit_intercept=False, intercept_scaling=1.5, loss=hinge, multi_class=ovr, penalty=l1;, score=nan total time=   1.0s\n",
      "[CV 5/5] END C=1, class_weight=balanced, dual=auto, fit_intercept=False, intercept_scaling=1.5, loss=hinge, multi_class=ovr, penalty=l1;, score=nan total time=   1.0s\n",
      "[CV 1/5] END C=1, class_weight=balanced, dual=auto, fit_intercept=False, intercept_scaling=1.5, loss=hinge, multi_class=ovr, penalty=l2;, score=0.942 total time=   2.5s\n",
      "[CV 2/5] END C=1, class_weight=balanced, dual=auto, fit_intercept=False, intercept_scaling=1.5, loss=hinge, multi_class=ovr, penalty=l2;, score=0.943 total time=   2.5s\n",
      "[CV 3/5] END C=1, class_weight=balanced, dual=auto, fit_intercept=False, intercept_scaling=1.5, loss=hinge, multi_class=ovr, penalty=l2;, score=0.944 total time=   2.5s\n",
      "[CV 4/5] END C=1, class_weight=balanced, dual=auto, fit_intercept=False, intercept_scaling=1.5, loss=hinge, multi_class=ovr, penalty=l2;, score=0.952 total time=   2.5s\n",
      "[CV 5/5] END C=1, class_weight=balanced, dual=auto, fit_intercept=False, intercept_scaling=1.5, loss=hinge, multi_class=ovr, penalty=l2;, score=0.951 total time=   2.5s\n"
     ]
    },
    {
     "name": "stderr",
     "output_type": "stream",
     "text": [
      "C:\\Users\\never\\AppData\\Roaming\\Python\\Python311\\site-packages\\sklearn\\svm\\_base.py:1250: ConvergenceWarning: Liblinear failed to converge, increase the number of iterations.\n",
      "  warnings.warn(\n"
     ]
    },
    {
     "name": "stdout",
     "output_type": "stream",
     "text": [
      "[CV 1/5] END C=1, class_weight=balanced, dual=auto, fit_intercept=False, intercept_scaling=1.5, loss=hinge, multi_class=crammer_singer, penalty=l1;, score=0.948 total time=   3.0s\n"
     ]
    },
    {
     "name": "stderr",
     "output_type": "stream",
     "text": [
      "C:\\Users\\never\\AppData\\Roaming\\Python\\Python311\\site-packages\\sklearn\\svm\\_base.py:1250: ConvergenceWarning: Liblinear failed to converge, increase the number of iterations.\n",
      "  warnings.warn(\n"
     ]
    },
    {
     "name": "stdout",
     "output_type": "stream",
     "text": [
      "[CV 2/5] END C=1, class_weight=balanced, dual=auto, fit_intercept=False, intercept_scaling=1.5, loss=hinge, multi_class=crammer_singer, penalty=l1;, score=0.947 total time=   3.3s\n"
     ]
    },
    {
     "name": "stderr",
     "output_type": "stream",
     "text": [
      "C:\\Users\\never\\AppData\\Roaming\\Python\\Python311\\site-packages\\sklearn\\svm\\_base.py:1250: ConvergenceWarning: Liblinear failed to converge, increase the number of iterations.\n",
      "  warnings.warn(\n"
     ]
    },
    {
     "name": "stdout",
     "output_type": "stream",
     "text": [
      "[CV 3/5] END C=1, class_weight=balanced, dual=auto, fit_intercept=False, intercept_scaling=1.5, loss=hinge, multi_class=crammer_singer, penalty=l1;, score=0.953 total time=   2.9s\n"
     ]
    },
    {
     "name": "stderr",
     "output_type": "stream",
     "text": [
      "C:\\Users\\never\\AppData\\Roaming\\Python\\Python311\\site-packages\\sklearn\\svm\\_base.py:1250: ConvergenceWarning: Liblinear failed to converge, increase the number of iterations.\n",
      "  warnings.warn(\n"
     ]
    },
    {
     "name": "stdout",
     "output_type": "stream",
     "text": [
      "[CV 4/5] END C=1, class_weight=balanced, dual=auto, fit_intercept=False, intercept_scaling=1.5, loss=hinge, multi_class=crammer_singer, penalty=l1;, score=0.956 total time=   2.9s\n"
     ]
    },
    {
     "name": "stderr",
     "output_type": "stream",
     "text": [
      "C:\\Users\\never\\AppData\\Roaming\\Python\\Python311\\site-packages\\sklearn\\svm\\_base.py:1250: ConvergenceWarning: Liblinear failed to converge, increase the number of iterations.\n",
      "  warnings.warn(\n"
     ]
    },
    {
     "name": "stdout",
     "output_type": "stream",
     "text": [
      "[CV 5/5] END C=1, class_weight=balanced, dual=auto, fit_intercept=False, intercept_scaling=1.5, loss=hinge, multi_class=crammer_singer, penalty=l1;, score=0.957 total time=   2.7s\n"
     ]
    },
    {
     "name": "stderr",
     "output_type": "stream",
     "text": [
      "C:\\Users\\never\\AppData\\Roaming\\Python\\Python311\\site-packages\\sklearn\\svm\\_base.py:1250: ConvergenceWarning: Liblinear failed to converge, increase the number of iterations.\n",
      "  warnings.warn(\n"
     ]
    },
    {
     "name": "stdout",
     "output_type": "stream",
     "text": [
      "[CV 1/5] END C=1, class_weight=balanced, dual=auto, fit_intercept=False, intercept_scaling=1.5, loss=hinge, multi_class=crammer_singer, penalty=l2;, score=0.948 total time=   2.9s\n"
     ]
    },
    {
     "name": "stderr",
     "output_type": "stream",
     "text": [
      "C:\\Users\\never\\AppData\\Roaming\\Python\\Python311\\site-packages\\sklearn\\svm\\_base.py:1250: ConvergenceWarning: Liblinear failed to converge, increase the number of iterations.\n",
      "  warnings.warn(\n"
     ]
    },
    {
     "name": "stdout",
     "output_type": "stream",
     "text": [
      "[CV 2/5] END C=1, class_weight=balanced, dual=auto, fit_intercept=False, intercept_scaling=1.5, loss=hinge, multi_class=crammer_singer, penalty=l2;, score=0.947 total time=   3.3s\n"
     ]
    },
    {
     "name": "stderr",
     "output_type": "stream",
     "text": [
      "C:\\Users\\never\\AppData\\Roaming\\Python\\Python311\\site-packages\\sklearn\\svm\\_base.py:1250: ConvergenceWarning: Liblinear failed to converge, increase the number of iterations.\n",
      "  warnings.warn(\n"
     ]
    },
    {
     "name": "stdout",
     "output_type": "stream",
     "text": [
      "[CV 3/5] END C=1, class_weight=balanced, dual=auto, fit_intercept=False, intercept_scaling=1.5, loss=hinge, multi_class=crammer_singer, penalty=l2;, score=0.953 total time=   2.9s\n"
     ]
    },
    {
     "name": "stderr",
     "output_type": "stream",
     "text": [
      "C:\\Users\\never\\AppData\\Roaming\\Python\\Python311\\site-packages\\sklearn\\svm\\_base.py:1250: ConvergenceWarning: Liblinear failed to converge, increase the number of iterations.\n",
      "  warnings.warn(\n"
     ]
    },
    {
     "name": "stdout",
     "output_type": "stream",
     "text": [
      "[CV 4/5] END C=1, class_weight=balanced, dual=auto, fit_intercept=False, intercept_scaling=1.5, loss=hinge, multi_class=crammer_singer, penalty=l2;, score=0.956 total time=   2.9s\n"
     ]
    },
    {
     "name": "stderr",
     "output_type": "stream",
     "text": [
      "C:\\Users\\never\\AppData\\Roaming\\Python\\Python311\\site-packages\\sklearn\\svm\\_base.py:1250: ConvergenceWarning: Liblinear failed to converge, increase the number of iterations.\n",
      "  warnings.warn(\n"
     ]
    },
    {
     "name": "stdout",
     "output_type": "stream",
     "text": [
      "[CV 5/5] END C=1, class_weight=balanced, dual=auto, fit_intercept=False, intercept_scaling=1.5, loss=hinge, multi_class=crammer_singer, penalty=l2;, score=0.957 total time=   2.7s\n",
      "[CV 1/5] END C=1, class_weight=balanced, dual=auto, fit_intercept=False, intercept_scaling=1.5, loss=squared_hinge, multi_class=ovr, penalty=l1;, score=0.950 total time=   3.4s\n",
      "[CV 2/5] END C=1, class_weight=balanced, dual=auto, fit_intercept=False, intercept_scaling=1.5, loss=squared_hinge, multi_class=ovr, penalty=l1;, score=0.949 total time=   3.6s\n"
     ]
    },
    {
     "name": "stderr",
     "output_type": "stream",
     "text": [
      "C:\\Users\\never\\AppData\\Roaming\\Python\\Python311\\site-packages\\sklearn\\svm\\_base.py:1250: ConvergenceWarning: Liblinear failed to converge, increase the number of iterations.\n",
      "  warnings.warn(\n"
     ]
    },
    {
     "name": "stdout",
     "output_type": "stream",
     "text": [
      "[CV 3/5] END C=1, class_weight=balanced, dual=auto, fit_intercept=False, intercept_scaling=1.5, loss=squared_hinge, multi_class=ovr, penalty=l1;, score=0.954 total time=  10.2s\n",
      "[CV 4/5] END C=1, class_weight=balanced, dual=auto, fit_intercept=False, intercept_scaling=1.5, loss=squared_hinge, multi_class=ovr, penalty=l1;, score=0.957 total time=   3.4s\n",
      "[CV 5/5] END C=1, class_weight=balanced, dual=auto, fit_intercept=False, intercept_scaling=1.5, loss=squared_hinge, multi_class=ovr, penalty=l1;, score=0.956 total time=   3.3s\n",
      "[CV 1/5] END C=1, class_weight=balanced, dual=auto, fit_intercept=False, intercept_scaling=1.5, loss=squared_hinge, multi_class=ovr, penalty=l2;, score=0.946 total time=   2.7s\n",
      "[CV 2/5] END C=1, class_weight=balanced, dual=auto, fit_intercept=False, intercept_scaling=1.5, loss=squared_hinge, multi_class=ovr, penalty=l2;, score=0.948 total time=   2.7s\n",
      "[CV 3/5] END C=1, class_weight=balanced, dual=auto, fit_intercept=False, intercept_scaling=1.5, loss=squared_hinge, multi_class=ovr, penalty=l2;, score=0.950 total time=   2.7s\n",
      "[CV 4/5] END C=1, class_weight=balanced, dual=auto, fit_intercept=False, intercept_scaling=1.5, loss=squared_hinge, multi_class=ovr, penalty=l2;, score=0.957 total time=   2.6s\n",
      "[CV 5/5] END C=1, class_weight=balanced, dual=auto, fit_intercept=False, intercept_scaling=1.5, loss=squared_hinge, multi_class=ovr, penalty=l2;, score=0.955 total time=   2.6s\n"
     ]
    },
    {
     "name": "stderr",
     "output_type": "stream",
     "text": [
      "C:\\Users\\never\\AppData\\Roaming\\Python\\Python311\\site-packages\\sklearn\\svm\\_base.py:1250: ConvergenceWarning: Liblinear failed to converge, increase the number of iterations.\n",
      "  warnings.warn(\n"
     ]
    },
    {
     "name": "stdout",
     "output_type": "stream",
     "text": [
      "[CV 1/5] END C=1, class_weight=balanced, dual=auto, fit_intercept=False, intercept_scaling=1.5, loss=squared_hinge, multi_class=crammer_singer, penalty=l1;, score=0.948 total time=   2.9s\n"
     ]
    },
    {
     "name": "stderr",
     "output_type": "stream",
     "text": [
      "C:\\Users\\never\\AppData\\Roaming\\Python\\Python311\\site-packages\\sklearn\\svm\\_base.py:1250: ConvergenceWarning: Liblinear failed to converge, increase the number of iterations.\n",
      "  warnings.warn(\n"
     ]
    },
    {
     "name": "stdout",
     "output_type": "stream",
     "text": [
      "[CV 2/5] END C=1, class_weight=balanced, dual=auto, fit_intercept=False, intercept_scaling=1.5, loss=squared_hinge, multi_class=crammer_singer, penalty=l1;, score=0.947 total time=   3.3s\n"
     ]
    },
    {
     "name": "stderr",
     "output_type": "stream",
     "text": [
      "C:\\Users\\never\\AppData\\Roaming\\Python\\Python311\\site-packages\\sklearn\\svm\\_base.py:1250: ConvergenceWarning: Liblinear failed to converge, increase the number of iterations.\n",
      "  warnings.warn(\n"
     ]
    },
    {
     "name": "stdout",
     "output_type": "stream",
     "text": [
      "[CV 3/5] END C=1, class_weight=balanced, dual=auto, fit_intercept=False, intercept_scaling=1.5, loss=squared_hinge, multi_class=crammer_singer, penalty=l1;, score=0.953 total time=   3.0s\n"
     ]
    },
    {
     "name": "stderr",
     "output_type": "stream",
     "text": [
      "C:\\Users\\never\\AppData\\Roaming\\Python\\Python311\\site-packages\\sklearn\\svm\\_base.py:1250: ConvergenceWarning: Liblinear failed to converge, increase the number of iterations.\n",
      "  warnings.warn(\n"
     ]
    },
    {
     "name": "stdout",
     "output_type": "stream",
     "text": [
      "[CV 4/5] END C=1, class_weight=balanced, dual=auto, fit_intercept=False, intercept_scaling=1.5, loss=squared_hinge, multi_class=crammer_singer, penalty=l1;, score=0.956 total time=   2.9s\n"
     ]
    },
    {
     "name": "stderr",
     "output_type": "stream",
     "text": [
      "C:\\Users\\never\\AppData\\Roaming\\Python\\Python311\\site-packages\\sklearn\\svm\\_base.py:1250: ConvergenceWarning: Liblinear failed to converge, increase the number of iterations.\n",
      "  warnings.warn(\n"
     ]
    },
    {
     "name": "stdout",
     "output_type": "stream",
     "text": [
      "[CV 5/5] END C=1, class_weight=balanced, dual=auto, fit_intercept=False, intercept_scaling=1.5, loss=squared_hinge, multi_class=crammer_singer, penalty=l1;, score=0.957 total time=   2.7s\n"
     ]
    },
    {
     "name": "stderr",
     "output_type": "stream",
     "text": [
      "C:\\Users\\never\\AppData\\Roaming\\Python\\Python311\\site-packages\\sklearn\\svm\\_base.py:1250: ConvergenceWarning: Liblinear failed to converge, increase the number of iterations.\n",
      "  warnings.warn(\n"
     ]
    },
    {
     "name": "stdout",
     "output_type": "stream",
     "text": [
      "[CV 1/5] END C=1, class_weight=balanced, dual=auto, fit_intercept=False, intercept_scaling=1.5, loss=squared_hinge, multi_class=crammer_singer, penalty=l2;, score=0.948 total time=   2.9s\n"
     ]
    },
    {
     "name": "stderr",
     "output_type": "stream",
     "text": [
      "C:\\Users\\never\\AppData\\Roaming\\Python\\Python311\\site-packages\\sklearn\\svm\\_base.py:1250: ConvergenceWarning: Liblinear failed to converge, increase the number of iterations.\n",
      "  warnings.warn(\n"
     ]
    },
    {
     "name": "stdout",
     "output_type": "stream",
     "text": [
      "[CV 2/5] END C=1, class_weight=balanced, dual=auto, fit_intercept=False, intercept_scaling=1.5, loss=squared_hinge, multi_class=crammer_singer, penalty=l2;, score=0.947 total time=   3.3s\n"
     ]
    },
    {
     "name": "stderr",
     "output_type": "stream",
     "text": [
      "C:\\Users\\never\\AppData\\Roaming\\Python\\Python311\\site-packages\\sklearn\\svm\\_base.py:1250: ConvergenceWarning: Liblinear failed to converge, increase the number of iterations.\n",
      "  warnings.warn(\n"
     ]
    },
    {
     "name": "stdout",
     "output_type": "stream",
     "text": [
      "[CV 3/5] END C=1, class_weight=balanced, dual=auto, fit_intercept=False, intercept_scaling=1.5, loss=squared_hinge, multi_class=crammer_singer, penalty=l2;, score=0.953 total time=   2.9s\n"
     ]
    },
    {
     "name": "stderr",
     "output_type": "stream",
     "text": [
      "C:\\Users\\never\\AppData\\Roaming\\Python\\Python311\\site-packages\\sklearn\\svm\\_base.py:1250: ConvergenceWarning: Liblinear failed to converge, increase the number of iterations.\n",
      "  warnings.warn(\n"
     ]
    },
    {
     "name": "stdout",
     "output_type": "stream",
     "text": [
      "[CV 4/5] END C=1, class_weight=balanced, dual=auto, fit_intercept=False, intercept_scaling=1.5, loss=squared_hinge, multi_class=crammer_singer, penalty=l2;, score=0.956 total time=   2.9s\n"
     ]
    },
    {
     "name": "stderr",
     "output_type": "stream",
     "text": [
      "C:\\Users\\never\\AppData\\Roaming\\Python\\Python311\\site-packages\\sklearn\\svm\\_base.py:1250: ConvergenceWarning: Liblinear failed to converge, increase the number of iterations.\n",
      "  warnings.warn(\n"
     ]
    },
    {
     "name": "stdout",
     "output_type": "stream",
     "text": [
      "[CV 5/5] END C=1, class_weight=balanced, dual=auto, fit_intercept=False, intercept_scaling=1.5, loss=squared_hinge, multi_class=crammer_singer, penalty=l2;, score=0.957 total time=   2.7s\n",
      "[CV 1/5] END C=1, class_weight=balanced, dual=auto, fit_intercept=False, intercept_scaling=2, loss=hinge, multi_class=ovr, penalty=l1;, score=nan total time=   1.1s\n",
      "[CV 2/5] END C=1, class_weight=balanced, dual=auto, fit_intercept=False, intercept_scaling=2, loss=hinge, multi_class=ovr, penalty=l1;, score=nan total time=   1.1s\n",
      "[CV 3/5] END C=1, class_weight=balanced, dual=auto, fit_intercept=False, intercept_scaling=2, loss=hinge, multi_class=ovr, penalty=l1;, score=nan total time=   1.0s\n",
      "[CV 4/5] END C=1, class_weight=balanced, dual=auto, fit_intercept=False, intercept_scaling=2, loss=hinge, multi_class=ovr, penalty=l1;, score=nan total time=   1.0s\n",
      "[CV 5/5] END C=1, class_weight=balanced, dual=auto, fit_intercept=False, intercept_scaling=2, loss=hinge, multi_class=ovr, penalty=l1;, score=nan total time=   1.0s\n",
      "[CV 1/5] END C=1, class_weight=balanced, dual=auto, fit_intercept=False, intercept_scaling=2, loss=hinge, multi_class=ovr, penalty=l2;, score=0.942 total time=   2.5s\n",
      "[CV 2/5] END C=1, class_weight=balanced, dual=auto, fit_intercept=False, intercept_scaling=2, loss=hinge, multi_class=ovr, penalty=l2;, score=0.943 total time=   2.5s\n",
      "[CV 3/5] END C=1, class_weight=balanced, dual=auto, fit_intercept=False, intercept_scaling=2, loss=hinge, multi_class=ovr, penalty=l2;, score=0.944 total time=   2.5s\n",
      "[CV 4/5] END C=1, class_weight=balanced, dual=auto, fit_intercept=False, intercept_scaling=2, loss=hinge, multi_class=ovr, penalty=l2;, score=0.952 total time=   2.5s\n",
      "[CV 5/5] END C=1, class_weight=balanced, dual=auto, fit_intercept=False, intercept_scaling=2, loss=hinge, multi_class=ovr, penalty=l2;, score=0.951 total time=   2.5s\n"
     ]
    },
    {
     "name": "stderr",
     "output_type": "stream",
     "text": [
      "C:\\Users\\never\\AppData\\Roaming\\Python\\Python311\\site-packages\\sklearn\\svm\\_base.py:1250: ConvergenceWarning: Liblinear failed to converge, increase the number of iterations.\n",
      "  warnings.warn(\n"
     ]
    },
    {
     "name": "stdout",
     "output_type": "stream",
     "text": [
      "[CV 1/5] END C=1, class_weight=balanced, dual=auto, fit_intercept=False, intercept_scaling=2, loss=hinge, multi_class=crammer_singer, penalty=l1;, score=0.948 total time=   2.9s\n"
     ]
    },
    {
     "name": "stderr",
     "output_type": "stream",
     "text": [
      "C:\\Users\\never\\AppData\\Roaming\\Python\\Python311\\site-packages\\sklearn\\svm\\_base.py:1250: ConvergenceWarning: Liblinear failed to converge, increase the number of iterations.\n",
      "  warnings.warn(\n"
     ]
    },
    {
     "name": "stdout",
     "output_type": "stream",
     "text": [
      "[CV 2/5] END C=1, class_weight=balanced, dual=auto, fit_intercept=False, intercept_scaling=2, loss=hinge, multi_class=crammer_singer, penalty=l1;, score=0.947 total time=   3.4s\n"
     ]
    },
    {
     "name": "stderr",
     "output_type": "stream",
     "text": [
      "C:\\Users\\never\\AppData\\Roaming\\Python\\Python311\\site-packages\\sklearn\\svm\\_base.py:1250: ConvergenceWarning: Liblinear failed to converge, increase the number of iterations.\n",
      "  warnings.warn(\n"
     ]
    },
    {
     "name": "stdout",
     "output_type": "stream",
     "text": [
      "[CV 3/5] END C=1, class_weight=balanced, dual=auto, fit_intercept=False, intercept_scaling=2, loss=hinge, multi_class=crammer_singer, penalty=l1;, score=0.953 total time=   2.9s\n"
     ]
    },
    {
     "name": "stderr",
     "output_type": "stream",
     "text": [
      "C:\\Users\\never\\AppData\\Roaming\\Python\\Python311\\site-packages\\sklearn\\svm\\_base.py:1250: ConvergenceWarning: Liblinear failed to converge, increase the number of iterations.\n",
      "  warnings.warn(\n"
     ]
    },
    {
     "name": "stdout",
     "output_type": "stream",
     "text": [
      "[CV 4/5] END C=1, class_weight=balanced, dual=auto, fit_intercept=False, intercept_scaling=2, loss=hinge, multi_class=crammer_singer, penalty=l1;, score=0.956 total time=   2.9s\n"
     ]
    },
    {
     "name": "stderr",
     "output_type": "stream",
     "text": [
      "C:\\Users\\never\\AppData\\Roaming\\Python\\Python311\\site-packages\\sklearn\\svm\\_base.py:1250: ConvergenceWarning: Liblinear failed to converge, increase the number of iterations.\n",
      "  warnings.warn(\n"
     ]
    },
    {
     "name": "stdout",
     "output_type": "stream",
     "text": [
      "[CV 5/5] END C=1, class_weight=balanced, dual=auto, fit_intercept=False, intercept_scaling=2, loss=hinge, multi_class=crammer_singer, penalty=l1;, score=0.957 total time=   2.7s\n"
     ]
    },
    {
     "name": "stderr",
     "output_type": "stream",
     "text": [
      "C:\\Users\\never\\AppData\\Roaming\\Python\\Python311\\site-packages\\sklearn\\svm\\_base.py:1250: ConvergenceWarning: Liblinear failed to converge, increase the number of iterations.\n",
      "  warnings.warn(\n"
     ]
    },
    {
     "name": "stdout",
     "output_type": "stream",
     "text": [
      "[CV 1/5] END C=1, class_weight=balanced, dual=auto, fit_intercept=False, intercept_scaling=2, loss=hinge, multi_class=crammer_singer, penalty=l2;, score=0.948 total time=   2.9s\n"
     ]
    },
    {
     "name": "stderr",
     "output_type": "stream",
     "text": [
      "C:\\Users\\never\\AppData\\Roaming\\Python\\Python311\\site-packages\\sklearn\\svm\\_base.py:1250: ConvergenceWarning: Liblinear failed to converge, increase the number of iterations.\n",
      "  warnings.warn(\n"
     ]
    },
    {
     "name": "stdout",
     "output_type": "stream",
     "text": [
      "[CV 2/5] END C=1, class_weight=balanced, dual=auto, fit_intercept=False, intercept_scaling=2, loss=hinge, multi_class=crammer_singer, penalty=l2;, score=0.947 total time=   3.3s\n"
     ]
    },
    {
     "name": "stderr",
     "output_type": "stream",
     "text": [
      "C:\\Users\\never\\AppData\\Roaming\\Python\\Python311\\site-packages\\sklearn\\svm\\_base.py:1250: ConvergenceWarning: Liblinear failed to converge, increase the number of iterations.\n",
      "  warnings.warn(\n"
     ]
    },
    {
     "name": "stdout",
     "output_type": "stream",
     "text": [
      "[CV 3/5] END C=1, class_weight=balanced, dual=auto, fit_intercept=False, intercept_scaling=2, loss=hinge, multi_class=crammer_singer, penalty=l2;, score=0.953 total time=   2.9s\n"
     ]
    },
    {
     "name": "stderr",
     "output_type": "stream",
     "text": [
      "C:\\Users\\never\\AppData\\Roaming\\Python\\Python311\\site-packages\\sklearn\\svm\\_base.py:1250: ConvergenceWarning: Liblinear failed to converge, increase the number of iterations.\n",
      "  warnings.warn(\n"
     ]
    },
    {
     "name": "stdout",
     "output_type": "stream",
     "text": [
      "[CV 4/5] END C=1, class_weight=balanced, dual=auto, fit_intercept=False, intercept_scaling=2, loss=hinge, multi_class=crammer_singer, penalty=l2;, score=0.956 total time=   2.9s\n"
     ]
    },
    {
     "name": "stderr",
     "output_type": "stream",
     "text": [
      "C:\\Users\\never\\AppData\\Roaming\\Python\\Python311\\site-packages\\sklearn\\svm\\_base.py:1250: ConvergenceWarning: Liblinear failed to converge, increase the number of iterations.\n",
      "  warnings.warn(\n"
     ]
    },
    {
     "name": "stdout",
     "output_type": "stream",
     "text": [
      "[CV 5/5] END C=1, class_weight=balanced, dual=auto, fit_intercept=False, intercept_scaling=2, loss=hinge, multi_class=crammer_singer, penalty=l2;, score=0.957 total time=   2.7s\n",
      "[CV 1/5] END C=1, class_weight=balanced, dual=auto, fit_intercept=False, intercept_scaling=2, loss=squared_hinge, multi_class=ovr, penalty=l1;, score=0.950 total time=   3.4s\n",
      "[CV 2/5] END C=1, class_weight=balanced, dual=auto, fit_intercept=False, intercept_scaling=2, loss=squared_hinge, multi_class=ovr, penalty=l1;, score=0.949 total time=   3.5s\n"
     ]
    },
    {
     "name": "stderr",
     "output_type": "stream",
     "text": [
      "C:\\Users\\never\\AppData\\Roaming\\Python\\Python311\\site-packages\\sklearn\\svm\\_base.py:1250: ConvergenceWarning: Liblinear failed to converge, increase the number of iterations.\n",
      "  warnings.warn(\n"
     ]
    },
    {
     "name": "stdout",
     "output_type": "stream",
     "text": [
      "[CV 3/5] END C=1, class_weight=balanced, dual=auto, fit_intercept=False, intercept_scaling=2, loss=squared_hinge, multi_class=ovr, penalty=l1;, score=0.954 total time=  10.3s\n",
      "[CV 4/5] END C=1, class_weight=balanced, dual=auto, fit_intercept=False, intercept_scaling=2, loss=squared_hinge, multi_class=ovr, penalty=l1;, score=0.957 total time=   3.4s\n",
      "[CV 5/5] END C=1, class_weight=balanced, dual=auto, fit_intercept=False, intercept_scaling=2, loss=squared_hinge, multi_class=ovr, penalty=l1;, score=0.956 total time=   3.3s\n",
      "[CV 1/5] END C=1, class_weight=balanced, dual=auto, fit_intercept=False, intercept_scaling=2, loss=squared_hinge, multi_class=ovr, penalty=l2;, score=0.946 total time=   2.7s\n",
      "[CV 2/5] END C=1, class_weight=balanced, dual=auto, fit_intercept=False, intercept_scaling=2, loss=squared_hinge, multi_class=ovr, penalty=l2;, score=0.948 total time=   2.7s\n",
      "[CV 3/5] END C=1, class_weight=balanced, dual=auto, fit_intercept=False, intercept_scaling=2, loss=squared_hinge, multi_class=ovr, penalty=l2;, score=0.950 total time=   2.7s\n",
      "[CV 4/5] END C=1, class_weight=balanced, dual=auto, fit_intercept=False, intercept_scaling=2, loss=squared_hinge, multi_class=ovr, penalty=l2;, score=0.957 total time=   2.6s\n",
      "[CV 5/5] END C=1, class_weight=balanced, dual=auto, fit_intercept=False, intercept_scaling=2, loss=squared_hinge, multi_class=ovr, penalty=l2;, score=0.955 total time=   2.6s\n"
     ]
    },
    {
     "name": "stderr",
     "output_type": "stream",
     "text": [
      "C:\\Users\\never\\AppData\\Roaming\\Python\\Python311\\site-packages\\sklearn\\svm\\_base.py:1250: ConvergenceWarning: Liblinear failed to converge, increase the number of iterations.\n",
      "  warnings.warn(\n"
     ]
    },
    {
     "name": "stdout",
     "output_type": "stream",
     "text": [
      "[CV 1/5] END C=1, class_weight=balanced, dual=auto, fit_intercept=False, intercept_scaling=2, loss=squared_hinge, multi_class=crammer_singer, penalty=l1;, score=0.948 total time=   2.9s\n"
     ]
    },
    {
     "name": "stderr",
     "output_type": "stream",
     "text": [
      "C:\\Users\\never\\AppData\\Roaming\\Python\\Python311\\site-packages\\sklearn\\svm\\_base.py:1250: ConvergenceWarning: Liblinear failed to converge, increase the number of iterations.\n",
      "  warnings.warn(\n"
     ]
    },
    {
     "name": "stdout",
     "output_type": "stream",
     "text": [
      "[CV 2/5] END C=1, class_weight=balanced, dual=auto, fit_intercept=False, intercept_scaling=2, loss=squared_hinge, multi_class=crammer_singer, penalty=l1;, score=0.947 total time=   3.3s\n"
     ]
    },
    {
     "name": "stderr",
     "output_type": "stream",
     "text": [
      "C:\\Users\\never\\AppData\\Roaming\\Python\\Python311\\site-packages\\sklearn\\svm\\_base.py:1250: ConvergenceWarning: Liblinear failed to converge, increase the number of iterations.\n",
      "  warnings.warn(\n"
     ]
    },
    {
     "name": "stdout",
     "output_type": "stream",
     "text": [
      "[CV 3/5] END C=1, class_weight=balanced, dual=auto, fit_intercept=False, intercept_scaling=2, loss=squared_hinge, multi_class=crammer_singer, penalty=l1;, score=0.953 total time=   2.9s\n"
     ]
    },
    {
     "name": "stderr",
     "output_type": "stream",
     "text": [
      "C:\\Users\\never\\AppData\\Roaming\\Python\\Python311\\site-packages\\sklearn\\svm\\_base.py:1250: ConvergenceWarning: Liblinear failed to converge, increase the number of iterations.\n",
      "  warnings.warn(\n"
     ]
    },
    {
     "name": "stdout",
     "output_type": "stream",
     "text": [
      "[CV 4/5] END C=1, class_weight=balanced, dual=auto, fit_intercept=False, intercept_scaling=2, loss=squared_hinge, multi_class=crammer_singer, penalty=l1;, score=0.956 total time=   2.9s\n"
     ]
    },
    {
     "name": "stderr",
     "output_type": "stream",
     "text": [
      "C:\\Users\\never\\AppData\\Roaming\\Python\\Python311\\site-packages\\sklearn\\svm\\_base.py:1250: ConvergenceWarning: Liblinear failed to converge, increase the number of iterations.\n",
      "  warnings.warn(\n"
     ]
    },
    {
     "name": "stdout",
     "output_type": "stream",
     "text": [
      "[CV 5/5] END C=1, class_weight=balanced, dual=auto, fit_intercept=False, intercept_scaling=2, loss=squared_hinge, multi_class=crammer_singer, penalty=l1;, score=0.957 total time=   2.7s\n"
     ]
    },
    {
     "name": "stderr",
     "output_type": "stream",
     "text": [
      "C:\\Users\\never\\AppData\\Roaming\\Python\\Python311\\site-packages\\sklearn\\svm\\_base.py:1250: ConvergenceWarning: Liblinear failed to converge, increase the number of iterations.\n",
      "  warnings.warn(\n"
     ]
    },
    {
     "name": "stdout",
     "output_type": "stream",
     "text": [
      "[CV 1/5] END C=1, class_weight=balanced, dual=auto, fit_intercept=False, intercept_scaling=2, loss=squared_hinge, multi_class=crammer_singer, penalty=l2;, score=0.948 total time=   2.9s\n"
     ]
    },
    {
     "name": "stderr",
     "output_type": "stream",
     "text": [
      "C:\\Users\\never\\AppData\\Roaming\\Python\\Python311\\site-packages\\sklearn\\svm\\_base.py:1250: ConvergenceWarning: Liblinear failed to converge, increase the number of iterations.\n",
      "  warnings.warn(\n"
     ]
    },
    {
     "name": "stdout",
     "output_type": "stream",
     "text": [
      "[CV 2/5] END C=1, class_weight=balanced, dual=auto, fit_intercept=False, intercept_scaling=2, loss=squared_hinge, multi_class=crammer_singer, penalty=l2;, score=0.947 total time=   3.3s\n"
     ]
    },
    {
     "name": "stderr",
     "output_type": "stream",
     "text": [
      "C:\\Users\\never\\AppData\\Roaming\\Python\\Python311\\site-packages\\sklearn\\svm\\_base.py:1250: ConvergenceWarning: Liblinear failed to converge, increase the number of iterations.\n",
      "  warnings.warn(\n"
     ]
    },
    {
     "name": "stdout",
     "output_type": "stream",
     "text": [
      "[CV 3/5] END C=1, class_weight=balanced, dual=auto, fit_intercept=False, intercept_scaling=2, loss=squared_hinge, multi_class=crammer_singer, penalty=l2;, score=0.953 total time=   3.0s\n"
     ]
    },
    {
     "name": "stderr",
     "output_type": "stream",
     "text": [
      "C:\\Users\\never\\AppData\\Roaming\\Python\\Python311\\site-packages\\sklearn\\svm\\_base.py:1250: ConvergenceWarning: Liblinear failed to converge, increase the number of iterations.\n",
      "  warnings.warn(\n"
     ]
    },
    {
     "name": "stdout",
     "output_type": "stream",
     "text": [
      "[CV 4/5] END C=1, class_weight=balanced, dual=auto, fit_intercept=False, intercept_scaling=2, loss=squared_hinge, multi_class=crammer_singer, penalty=l2;, score=0.956 total time=   2.9s\n"
     ]
    },
    {
     "name": "stderr",
     "output_type": "stream",
     "text": [
      "C:\\Users\\never\\AppData\\Roaming\\Python\\Python311\\site-packages\\sklearn\\svm\\_base.py:1250: ConvergenceWarning: Liblinear failed to converge, increase the number of iterations.\n",
      "  warnings.warn(\n"
     ]
    },
    {
     "name": "stdout",
     "output_type": "stream",
     "text": [
      "[CV 5/5] END C=1, class_weight=balanced, dual=auto, fit_intercept=False, intercept_scaling=2, loss=squared_hinge, multi_class=crammer_singer, penalty=l2;, score=0.957 total time=   2.7s\n",
      "[CV 1/5] END C=10, class_weight=None, dual=auto, fit_intercept=True, intercept_scaling=1, loss=hinge, multi_class=ovr, penalty=l1;, score=nan total time=   1.1s\n",
      "[CV 2/5] END C=10, class_weight=None, dual=auto, fit_intercept=True, intercept_scaling=1, loss=hinge, multi_class=ovr, penalty=l1;, score=nan total time=   1.1s\n",
      "[CV 3/5] END C=10, class_weight=None, dual=auto, fit_intercept=True, intercept_scaling=1, loss=hinge, multi_class=ovr, penalty=l1;, score=nan total time=   1.0s\n",
      "[CV 4/5] END C=10, class_weight=None, dual=auto, fit_intercept=True, intercept_scaling=1, loss=hinge, multi_class=ovr, penalty=l1;, score=nan total time=   1.0s\n",
      "[CV 5/5] END C=10, class_weight=None, dual=auto, fit_intercept=True, intercept_scaling=1, loss=hinge, multi_class=ovr, penalty=l1;, score=nan total time=   1.0s\n",
      "[CV 1/5] END C=10, class_weight=None, dual=auto, fit_intercept=True, intercept_scaling=1, loss=hinge, multi_class=ovr, penalty=l2;, score=0.958 total time=   4.8s\n",
      "[CV 2/5] END C=10, class_weight=None, dual=auto, fit_intercept=True, intercept_scaling=1, loss=hinge, multi_class=ovr, penalty=l2;, score=0.959 total time=   4.9s\n",
      "[CV 3/5] END C=10, class_weight=None, dual=auto, fit_intercept=True, intercept_scaling=1, loss=hinge, multi_class=ovr, penalty=l2;, score=0.963 total time=   4.9s\n",
      "[CV 4/5] END C=10, class_weight=None, dual=auto, fit_intercept=True, intercept_scaling=1, loss=hinge, multi_class=ovr, penalty=l2;, score=0.965 total time=   4.2s\n",
      "[CV 5/5] END C=10, class_weight=None, dual=auto, fit_intercept=True, intercept_scaling=1, loss=hinge, multi_class=ovr, penalty=l2;, score=0.967 total time=   5.6s\n"
     ]
    },
    {
     "name": "stderr",
     "output_type": "stream",
     "text": [
      "C:\\Users\\never\\AppData\\Roaming\\Python\\Python311\\site-packages\\sklearn\\svm\\_base.py:1250: ConvergenceWarning: Liblinear failed to converge, increase the number of iterations.\n",
      "  warnings.warn(\n"
     ]
    },
    {
     "name": "stdout",
     "output_type": "stream",
     "text": [
      "[CV 1/5] END C=10, class_weight=None, dual=auto, fit_intercept=True, intercept_scaling=1, loss=hinge, multi_class=crammer_singer, penalty=l1;, score=0.961 total time=   8.9s\n"
     ]
    },
    {
     "name": "stderr",
     "output_type": "stream",
     "text": [
      "C:\\Users\\never\\AppData\\Roaming\\Python\\Python311\\site-packages\\sklearn\\svm\\_base.py:1250: ConvergenceWarning: Liblinear failed to converge, increase the number of iterations.\n",
      "  warnings.warn(\n"
     ]
    },
    {
     "name": "stdout",
     "output_type": "stream",
     "text": [
      "[CV 2/5] END C=10, class_weight=None, dual=auto, fit_intercept=True, intercept_scaling=1, loss=hinge, multi_class=crammer_singer, penalty=l1;, score=0.959 total time=   6.2s\n"
     ]
    },
    {
     "name": "stderr",
     "output_type": "stream",
     "text": [
      "C:\\Users\\never\\AppData\\Roaming\\Python\\Python311\\site-packages\\sklearn\\svm\\_base.py:1250: ConvergenceWarning: Liblinear failed to converge, increase the number of iterations.\n",
      "  warnings.warn(\n"
     ]
    },
    {
     "name": "stdout",
     "output_type": "stream",
     "text": [
      "[CV 3/5] END C=10, class_weight=None, dual=auto, fit_intercept=True, intercept_scaling=1, loss=hinge, multi_class=crammer_singer, penalty=l1;, score=0.965 total time=   6.9s\n"
     ]
    },
    {
     "name": "stderr",
     "output_type": "stream",
     "text": [
      "C:\\Users\\never\\AppData\\Roaming\\Python\\Python311\\site-packages\\sklearn\\svm\\_base.py:1250: ConvergenceWarning: Liblinear failed to converge, increase the number of iterations.\n",
      "  warnings.warn(\n"
     ]
    },
    {
     "name": "stdout",
     "output_type": "stream",
     "text": [
      "[CV 4/5] END C=10, class_weight=None, dual=auto, fit_intercept=True, intercept_scaling=1, loss=hinge, multi_class=crammer_singer, penalty=l1;, score=0.963 total time=  10.1s\n"
     ]
    },
    {
     "name": "stderr",
     "output_type": "stream",
     "text": [
      "C:\\Users\\never\\AppData\\Roaming\\Python\\Python311\\site-packages\\sklearn\\svm\\_base.py:1250: ConvergenceWarning: Liblinear failed to converge, increase the number of iterations.\n",
      "  warnings.warn(\n"
     ]
    },
    {
     "name": "stdout",
     "output_type": "stream",
     "text": [
      "[CV 5/5] END C=10, class_weight=None, dual=auto, fit_intercept=True, intercept_scaling=1, loss=hinge, multi_class=crammer_singer, penalty=l1;, score=0.967 total time=   5.6s\n"
     ]
    },
    {
     "name": "stderr",
     "output_type": "stream",
     "text": [
      "C:\\Users\\never\\AppData\\Roaming\\Python\\Python311\\site-packages\\sklearn\\svm\\_base.py:1250: ConvergenceWarning: Liblinear failed to converge, increase the number of iterations.\n",
      "  warnings.warn(\n"
     ]
    },
    {
     "name": "stdout",
     "output_type": "stream",
     "text": [
      "[CV 1/5] END C=10, class_weight=None, dual=auto, fit_intercept=True, intercept_scaling=1, loss=hinge, multi_class=crammer_singer, penalty=l2;, score=0.961 total time=   8.9s\n"
     ]
    },
    {
     "name": "stderr",
     "output_type": "stream",
     "text": [
      "C:\\Users\\never\\AppData\\Roaming\\Python\\Python311\\site-packages\\sklearn\\svm\\_base.py:1250: ConvergenceWarning: Liblinear failed to converge, increase the number of iterations.\n",
      "  warnings.warn(\n"
     ]
    },
    {
     "name": "stdout",
     "output_type": "stream",
     "text": [
      "[CV 2/5] END C=10, class_weight=None, dual=auto, fit_intercept=True, intercept_scaling=1, loss=hinge, multi_class=crammer_singer, penalty=l2;, score=0.959 total time=   6.2s\n"
     ]
    },
    {
     "name": "stderr",
     "output_type": "stream",
     "text": [
      "C:\\Users\\never\\AppData\\Roaming\\Python\\Python311\\site-packages\\sklearn\\svm\\_base.py:1250: ConvergenceWarning: Liblinear failed to converge, increase the number of iterations.\n",
      "  warnings.warn(\n"
     ]
    },
    {
     "name": "stdout",
     "output_type": "stream",
     "text": [
      "[CV 3/5] END C=10, class_weight=None, dual=auto, fit_intercept=True, intercept_scaling=1, loss=hinge, multi_class=crammer_singer, penalty=l2;, score=0.965 total time=   6.8s\n"
     ]
    },
    {
     "name": "stderr",
     "output_type": "stream",
     "text": [
      "C:\\Users\\never\\AppData\\Roaming\\Python\\Python311\\site-packages\\sklearn\\svm\\_base.py:1250: ConvergenceWarning: Liblinear failed to converge, increase the number of iterations.\n",
      "  warnings.warn(\n"
     ]
    },
    {
     "name": "stdout",
     "output_type": "stream",
     "text": [
      "[CV 4/5] END C=10, class_weight=None, dual=auto, fit_intercept=True, intercept_scaling=1, loss=hinge, multi_class=crammer_singer, penalty=l2;, score=0.963 total time=  10.0s\n"
     ]
    },
    {
     "name": "stderr",
     "output_type": "stream",
     "text": [
      "C:\\Users\\never\\AppData\\Roaming\\Python\\Python311\\site-packages\\sklearn\\svm\\_base.py:1250: ConvergenceWarning: Liblinear failed to converge, increase the number of iterations.\n",
      "  warnings.warn(\n"
     ]
    },
    {
     "name": "stdout",
     "output_type": "stream",
     "text": [
      "[CV 5/5] END C=10, class_weight=None, dual=auto, fit_intercept=True, intercept_scaling=1, loss=hinge, multi_class=crammer_singer, penalty=l2;, score=0.967 total time=   5.5s\n",
      "[CV 1/5] END C=10, class_weight=None, dual=auto, fit_intercept=True, intercept_scaling=1, loss=squared_hinge, multi_class=ovr, penalty=l1;, score=0.967 total time=  16.1s\n",
      "[CV 2/5] END C=10, class_weight=None, dual=auto, fit_intercept=True, intercept_scaling=1, loss=squared_hinge, multi_class=ovr, penalty=l1;, score=0.964 total time=  16.7s\n",
      "[CV 3/5] END C=10, class_weight=None, dual=auto, fit_intercept=True, intercept_scaling=1, loss=squared_hinge, multi_class=ovr, penalty=l1;, score=0.969 total time=  16.6s\n",
      "[CV 4/5] END C=10, class_weight=None, dual=auto, fit_intercept=True, intercept_scaling=1, loss=squared_hinge, multi_class=ovr, penalty=l1;, score=0.969 total time=  15.9s\n",
      "[CV 5/5] END C=10, class_weight=None, dual=auto, fit_intercept=True, intercept_scaling=1, loss=squared_hinge, multi_class=ovr, penalty=l1;, score=0.970 total time=  15.7s\n",
      "[CV 1/5] END C=10, class_weight=None, dual=auto, fit_intercept=True, intercept_scaling=1, loss=squared_hinge, multi_class=ovr, penalty=l2;, score=0.961 total time=   5.0s\n",
      "[CV 2/5] END C=10, class_weight=None, dual=auto, fit_intercept=True, intercept_scaling=1, loss=squared_hinge, multi_class=ovr, penalty=l2;, score=0.958 total time=   5.5s\n",
      "[CV 3/5] END C=10, class_weight=None, dual=auto, fit_intercept=True, intercept_scaling=1, loss=squared_hinge, multi_class=ovr, penalty=l2;, score=0.963 total time=   5.6s\n",
      "[CV 4/5] END C=10, class_weight=None, dual=auto, fit_intercept=True, intercept_scaling=1, loss=squared_hinge, multi_class=ovr, penalty=l2;, score=0.966 total time=   5.2s\n",
      "[CV 5/5] END C=10, class_weight=None, dual=auto, fit_intercept=True, intercept_scaling=1, loss=squared_hinge, multi_class=ovr, penalty=l2;, score=0.967 total time=   4.9s\n"
     ]
    },
    {
     "name": "stderr",
     "output_type": "stream",
     "text": [
      "C:\\Users\\never\\AppData\\Roaming\\Python\\Python311\\site-packages\\sklearn\\svm\\_base.py:1250: ConvergenceWarning: Liblinear failed to converge, increase the number of iterations.\n",
      "  warnings.warn(\n"
     ]
    },
    {
     "name": "stdout",
     "output_type": "stream",
     "text": [
      "[CV 1/5] END C=10, class_weight=None, dual=auto, fit_intercept=True, intercept_scaling=1, loss=squared_hinge, multi_class=crammer_singer, penalty=l1;, score=0.961 total time=   8.8s\n"
     ]
    },
    {
     "name": "stderr",
     "output_type": "stream",
     "text": [
      "C:\\Users\\never\\AppData\\Roaming\\Python\\Python311\\site-packages\\sklearn\\svm\\_base.py:1250: ConvergenceWarning: Liblinear failed to converge, increase the number of iterations.\n",
      "  warnings.warn(\n"
     ]
    },
    {
     "name": "stdout",
     "output_type": "stream",
     "text": [
      "[CV 2/5] END C=10, class_weight=None, dual=auto, fit_intercept=True, intercept_scaling=1, loss=squared_hinge, multi_class=crammer_singer, penalty=l1;, score=0.959 total time=   6.2s\n"
     ]
    },
    {
     "name": "stderr",
     "output_type": "stream",
     "text": [
      "C:\\Users\\never\\AppData\\Roaming\\Python\\Python311\\site-packages\\sklearn\\svm\\_base.py:1250: ConvergenceWarning: Liblinear failed to converge, increase the number of iterations.\n",
      "  warnings.warn(\n"
     ]
    },
    {
     "name": "stdout",
     "output_type": "stream",
     "text": [
      "[CV 3/5] END C=10, class_weight=None, dual=auto, fit_intercept=True, intercept_scaling=1, loss=squared_hinge, multi_class=crammer_singer, penalty=l1;, score=0.965 total time=   6.8s\n"
     ]
    },
    {
     "name": "stderr",
     "output_type": "stream",
     "text": [
      "C:\\Users\\never\\AppData\\Roaming\\Python\\Python311\\site-packages\\sklearn\\svm\\_base.py:1250: ConvergenceWarning: Liblinear failed to converge, increase the number of iterations.\n",
      "  warnings.warn(\n"
     ]
    },
    {
     "name": "stdout",
     "output_type": "stream",
     "text": [
      "[CV 4/5] END C=10, class_weight=None, dual=auto, fit_intercept=True, intercept_scaling=1, loss=squared_hinge, multi_class=crammer_singer, penalty=l1;, score=0.963 total time=   9.9s\n"
     ]
    },
    {
     "name": "stderr",
     "output_type": "stream",
     "text": [
      "C:\\Users\\never\\AppData\\Roaming\\Python\\Python311\\site-packages\\sklearn\\svm\\_base.py:1250: ConvergenceWarning: Liblinear failed to converge, increase the number of iterations.\n",
      "  warnings.warn(\n"
     ]
    },
    {
     "name": "stdout",
     "output_type": "stream",
     "text": [
      "[CV 5/5] END C=10, class_weight=None, dual=auto, fit_intercept=True, intercept_scaling=1, loss=squared_hinge, multi_class=crammer_singer, penalty=l1;, score=0.967 total time=   5.6s\n"
     ]
    },
    {
     "name": "stderr",
     "output_type": "stream",
     "text": [
      "C:\\Users\\never\\AppData\\Roaming\\Python\\Python311\\site-packages\\sklearn\\svm\\_base.py:1250: ConvergenceWarning: Liblinear failed to converge, increase the number of iterations.\n",
      "  warnings.warn(\n"
     ]
    },
    {
     "name": "stdout",
     "output_type": "stream",
     "text": [
      "[CV 1/5] END C=10, class_weight=None, dual=auto, fit_intercept=True, intercept_scaling=1, loss=squared_hinge, multi_class=crammer_singer, penalty=l2;, score=0.961 total time=   9.5s\n"
     ]
    },
    {
     "name": "stderr",
     "output_type": "stream",
     "text": [
      "C:\\Users\\never\\AppData\\Roaming\\Python\\Python311\\site-packages\\sklearn\\svm\\_base.py:1250: ConvergenceWarning: Liblinear failed to converge, increase the number of iterations.\n",
      "  warnings.warn(\n"
     ]
    },
    {
     "name": "stdout",
     "output_type": "stream",
     "text": [
      "[CV 2/5] END C=10, class_weight=None, dual=auto, fit_intercept=True, intercept_scaling=1, loss=squared_hinge, multi_class=crammer_singer, penalty=l2;, score=0.959 total time=   7.2s\n"
     ]
    },
    {
     "name": "stderr",
     "output_type": "stream",
     "text": [
      "C:\\Users\\never\\AppData\\Roaming\\Python\\Python311\\site-packages\\sklearn\\svm\\_base.py:1250: ConvergenceWarning: Liblinear failed to converge, increase the number of iterations.\n",
      "  warnings.warn(\n"
     ]
    },
    {
     "name": "stdout",
     "output_type": "stream",
     "text": [
      "[CV 3/5] END C=10, class_weight=None, dual=auto, fit_intercept=True, intercept_scaling=1, loss=squared_hinge, multi_class=crammer_singer, penalty=l2;, score=0.965 total time=   6.8s\n"
     ]
    },
    {
     "name": "stderr",
     "output_type": "stream",
     "text": [
      "C:\\Users\\never\\AppData\\Roaming\\Python\\Python311\\site-packages\\sklearn\\svm\\_base.py:1250: ConvergenceWarning: Liblinear failed to converge, increase the number of iterations.\n",
      "  warnings.warn(\n"
     ]
    },
    {
     "name": "stdout",
     "output_type": "stream",
     "text": [
      "[CV 4/5] END C=10, class_weight=None, dual=auto, fit_intercept=True, intercept_scaling=1, loss=squared_hinge, multi_class=crammer_singer, penalty=l2;, score=0.963 total time=  10.0s\n"
     ]
    },
    {
     "name": "stderr",
     "output_type": "stream",
     "text": [
      "C:\\Users\\never\\AppData\\Roaming\\Python\\Python311\\site-packages\\sklearn\\svm\\_base.py:1250: ConvergenceWarning: Liblinear failed to converge, increase the number of iterations.\n",
      "  warnings.warn(\n"
     ]
    },
    {
     "name": "stdout",
     "output_type": "stream",
     "text": [
      "[CV 5/5] END C=10, class_weight=None, dual=auto, fit_intercept=True, intercept_scaling=1, loss=squared_hinge, multi_class=crammer_singer, penalty=l2;, score=0.967 total time=   5.6s\n",
      "[CV 1/5] END C=10, class_weight=None, dual=auto, fit_intercept=True, intercept_scaling=1.5, loss=hinge, multi_class=ovr, penalty=l1;, score=nan total time=   1.1s\n",
      "[CV 2/5] END C=10, class_weight=None, dual=auto, fit_intercept=True, intercept_scaling=1.5, loss=hinge, multi_class=ovr, penalty=l1;, score=nan total time=   1.1s\n",
      "[CV 3/5] END C=10, class_weight=None, dual=auto, fit_intercept=True, intercept_scaling=1.5, loss=hinge, multi_class=ovr, penalty=l1;, score=nan total time=   1.0s\n",
      "[CV 4/5] END C=10, class_weight=None, dual=auto, fit_intercept=True, intercept_scaling=1.5, loss=hinge, multi_class=ovr, penalty=l1;, score=nan total time=   1.0s\n",
      "[CV 5/5] END C=10, class_weight=None, dual=auto, fit_intercept=True, intercept_scaling=1.5, loss=hinge, multi_class=ovr, penalty=l1;, score=nan total time=   1.0s\n",
      "[CV 1/5] END C=10, class_weight=None, dual=auto, fit_intercept=True, intercept_scaling=1.5, loss=hinge, multi_class=ovr, penalty=l2;, score=0.958 total time=   6.5s\n",
      "[CV 2/5] END C=10, class_weight=None, dual=auto, fit_intercept=True, intercept_scaling=1.5, loss=hinge, multi_class=ovr, penalty=l2;, score=0.959 total time=   6.2s\n",
      "[CV 3/5] END C=10, class_weight=None, dual=auto, fit_intercept=True, intercept_scaling=1.5, loss=hinge, multi_class=ovr, penalty=l2;, score=0.963 total time=   6.8s\n",
      "[CV 4/5] END C=10, class_weight=None, dual=auto, fit_intercept=True, intercept_scaling=1.5, loss=hinge, multi_class=ovr, penalty=l2;, score=0.965 total time=   6.7s\n",
      "[CV 5/5] END C=10, class_weight=None, dual=auto, fit_intercept=True, intercept_scaling=1.5, loss=hinge, multi_class=ovr, penalty=l2;, score=0.967 total time=   7.4s\n"
     ]
    },
    {
     "name": "stderr",
     "output_type": "stream",
     "text": [
      "C:\\Users\\never\\AppData\\Roaming\\Python\\Python311\\site-packages\\sklearn\\svm\\_base.py:1250: ConvergenceWarning: Liblinear failed to converge, increase the number of iterations.\n",
      "  warnings.warn(\n"
     ]
    },
    {
     "name": "stdout",
     "output_type": "stream",
     "text": [
      "[CV 1/5] END C=10, class_weight=None, dual=auto, fit_intercept=True, intercept_scaling=1.5, loss=hinge, multi_class=crammer_singer, penalty=l1;, score=0.961 total time=  14.5s\n"
     ]
    },
    {
     "name": "stderr",
     "output_type": "stream",
     "text": [
      "C:\\Users\\never\\AppData\\Roaming\\Python\\Python311\\site-packages\\sklearn\\svm\\_base.py:1250: ConvergenceWarning: Liblinear failed to converge, increase the number of iterations.\n",
      "  warnings.warn(\n"
     ]
    },
    {
     "name": "stdout",
     "output_type": "stream",
     "text": [
      "[CV 2/5] END C=10, class_weight=None, dual=auto, fit_intercept=True, intercept_scaling=1.5, loss=hinge, multi_class=crammer_singer, penalty=l1;, score=0.959 total time=   9.2s\n"
     ]
    },
    {
     "name": "stderr",
     "output_type": "stream",
     "text": [
      "C:\\Users\\never\\AppData\\Roaming\\Python\\Python311\\site-packages\\sklearn\\svm\\_base.py:1250: ConvergenceWarning: Liblinear failed to converge, increase the number of iterations.\n",
      "  warnings.warn(\n"
     ]
    },
    {
     "name": "stdout",
     "output_type": "stream",
     "text": [
      "[CV 3/5] END C=10, class_weight=None, dual=auto, fit_intercept=True, intercept_scaling=1.5, loss=hinge, multi_class=crammer_singer, penalty=l1;, score=0.965 total time=   9.4s\n"
     ]
    },
    {
     "name": "stderr",
     "output_type": "stream",
     "text": [
      "C:\\Users\\never\\AppData\\Roaming\\Python\\Python311\\site-packages\\sklearn\\svm\\_base.py:1250: ConvergenceWarning: Liblinear failed to converge, increase the number of iterations.\n",
      "  warnings.warn(\n"
     ]
    },
    {
     "name": "stdout",
     "output_type": "stream",
     "text": [
      "[CV 4/5] END C=10, class_weight=None, dual=auto, fit_intercept=True, intercept_scaling=1.5, loss=hinge, multi_class=crammer_singer, penalty=l1;, score=0.963 total time=  15.5s\n"
     ]
    },
    {
     "name": "stderr",
     "output_type": "stream",
     "text": [
      "C:\\Users\\never\\AppData\\Roaming\\Python\\Python311\\site-packages\\sklearn\\svm\\_base.py:1250: ConvergenceWarning: Liblinear failed to converge, increase the number of iterations.\n",
      "  warnings.warn(\n"
     ]
    },
    {
     "name": "stdout",
     "output_type": "stream",
     "text": [
      "[CV 5/5] END C=10, class_weight=None, dual=auto, fit_intercept=True, intercept_scaling=1.5, loss=hinge, multi_class=crammer_singer, penalty=l1;, score=0.967 total time=  11.7s\n"
     ]
    },
    {
     "name": "stderr",
     "output_type": "stream",
     "text": [
      "C:\\Users\\never\\AppData\\Roaming\\Python\\Python311\\site-packages\\sklearn\\svm\\_base.py:1250: ConvergenceWarning: Liblinear failed to converge, increase the number of iterations.\n",
      "  warnings.warn(\n"
     ]
    },
    {
     "name": "stdout",
     "output_type": "stream",
     "text": [
      "[CV 1/5] END C=10, class_weight=None, dual=auto, fit_intercept=True, intercept_scaling=1.5, loss=hinge, multi_class=crammer_singer, penalty=l2;, score=0.961 total time=  14.5s\n"
     ]
    },
    {
     "name": "stderr",
     "output_type": "stream",
     "text": [
      "C:\\Users\\never\\AppData\\Roaming\\Python\\Python311\\site-packages\\sklearn\\svm\\_base.py:1250: ConvergenceWarning: Liblinear failed to converge, increase the number of iterations.\n",
      "  warnings.warn(\n"
     ]
    },
    {
     "name": "stdout",
     "output_type": "stream",
     "text": [
      "[CV 2/5] END C=10, class_weight=None, dual=auto, fit_intercept=True, intercept_scaling=1.5, loss=hinge, multi_class=crammer_singer, penalty=l2;, score=0.959 total time=   9.1s\n"
     ]
    },
    {
     "name": "stderr",
     "output_type": "stream",
     "text": [
      "C:\\Users\\never\\AppData\\Roaming\\Python\\Python311\\site-packages\\sklearn\\svm\\_base.py:1250: ConvergenceWarning: Liblinear failed to converge, increase the number of iterations.\n",
      "  warnings.warn(\n"
     ]
    },
    {
     "name": "stdout",
     "output_type": "stream",
     "text": [
      "[CV 3/5] END C=10, class_weight=None, dual=auto, fit_intercept=True, intercept_scaling=1.5, loss=hinge, multi_class=crammer_singer, penalty=l2;, score=0.965 total time=   9.5s\n"
     ]
    },
    {
     "name": "stderr",
     "output_type": "stream",
     "text": [
      "C:\\Users\\never\\AppData\\Roaming\\Python\\Python311\\site-packages\\sklearn\\svm\\_base.py:1250: ConvergenceWarning: Liblinear failed to converge, increase the number of iterations.\n",
      "  warnings.warn(\n"
     ]
    },
    {
     "name": "stdout",
     "output_type": "stream",
     "text": [
      "[CV 4/5] END C=10, class_weight=None, dual=auto, fit_intercept=True, intercept_scaling=1.5, loss=hinge, multi_class=crammer_singer, penalty=l2;, score=0.963 total time=  15.6s\n"
     ]
    },
    {
     "name": "stderr",
     "output_type": "stream",
     "text": [
      "C:\\Users\\never\\AppData\\Roaming\\Python\\Python311\\site-packages\\sklearn\\svm\\_base.py:1250: ConvergenceWarning: Liblinear failed to converge, increase the number of iterations.\n",
      "  warnings.warn(\n"
     ]
    },
    {
     "name": "stdout",
     "output_type": "stream",
     "text": [
      "[CV 5/5] END C=10, class_weight=None, dual=auto, fit_intercept=True, intercept_scaling=1.5, loss=hinge, multi_class=crammer_singer, penalty=l2;, score=0.967 total time=  11.7s\n",
      "[CV 1/5] END C=10, class_weight=None, dual=auto, fit_intercept=True, intercept_scaling=1.5, loss=squared_hinge, multi_class=ovr, penalty=l1;, score=0.967 total time=  16.3s\n",
      "[CV 2/5] END C=10, class_weight=None, dual=auto, fit_intercept=True, intercept_scaling=1.5, loss=squared_hinge, multi_class=ovr, penalty=l1;, score=0.965 total time=  16.7s\n",
      "[CV 3/5] END C=10, class_weight=None, dual=auto, fit_intercept=True, intercept_scaling=1.5, loss=squared_hinge, multi_class=ovr, penalty=l1;, score=0.969 total time=  17.0s\n",
      "[CV 4/5] END C=10, class_weight=None, dual=auto, fit_intercept=True, intercept_scaling=1.5, loss=squared_hinge, multi_class=ovr, penalty=l1;, score=0.970 total time=  16.9s\n",
      "[CV 5/5] END C=10, class_weight=None, dual=auto, fit_intercept=True, intercept_scaling=1.5, loss=squared_hinge, multi_class=ovr, penalty=l1;, score=0.970 total time=  15.5s\n",
      "[CV 1/5] END C=10, class_weight=None, dual=auto, fit_intercept=True, intercept_scaling=1.5, loss=squared_hinge, multi_class=ovr, penalty=l2;, score=0.961 total time=   4.6s\n",
      "[CV 2/5] END C=10, class_weight=None, dual=auto, fit_intercept=True, intercept_scaling=1.5, loss=squared_hinge, multi_class=ovr, penalty=l2;, score=0.959 total time=   5.0s\n",
      "[CV 3/5] END C=10, class_weight=None, dual=auto, fit_intercept=True, intercept_scaling=1.5, loss=squared_hinge, multi_class=ovr, penalty=l2;, score=0.964 total time=   5.4s\n",
      "[CV 4/5] END C=10, class_weight=None, dual=auto, fit_intercept=True, intercept_scaling=1.5, loss=squared_hinge, multi_class=ovr, penalty=l2;, score=0.966 total time=   4.7s\n",
      "[CV 5/5] END C=10, class_weight=None, dual=auto, fit_intercept=True, intercept_scaling=1.5, loss=squared_hinge, multi_class=ovr, penalty=l2;, score=0.967 total time=   5.1s\n"
     ]
    },
    {
     "name": "stderr",
     "output_type": "stream",
     "text": [
      "C:\\Users\\never\\AppData\\Roaming\\Python\\Python311\\site-packages\\sklearn\\svm\\_base.py:1250: ConvergenceWarning: Liblinear failed to converge, increase the number of iterations.\n",
      "  warnings.warn(\n"
     ]
    },
    {
     "name": "stdout",
     "output_type": "stream",
     "text": [
      "[CV 1/5] END C=10, class_weight=None, dual=auto, fit_intercept=True, intercept_scaling=1.5, loss=squared_hinge, multi_class=crammer_singer, penalty=l1;, score=0.961 total time=  14.4s\n"
     ]
    },
    {
     "name": "stderr",
     "output_type": "stream",
     "text": [
      "C:\\Users\\never\\AppData\\Roaming\\Python\\Python311\\site-packages\\sklearn\\svm\\_base.py:1250: ConvergenceWarning: Liblinear failed to converge, increase the number of iterations.\n",
      "  warnings.warn(\n"
     ]
    },
    {
     "name": "stdout",
     "output_type": "stream",
     "text": [
      "[CV 2/5] END C=10, class_weight=None, dual=auto, fit_intercept=True, intercept_scaling=1.5, loss=squared_hinge, multi_class=crammer_singer, penalty=l1;, score=0.959 total time=   9.2s\n"
     ]
    },
    {
     "name": "stderr",
     "output_type": "stream",
     "text": [
      "C:\\Users\\never\\AppData\\Roaming\\Python\\Python311\\site-packages\\sklearn\\svm\\_base.py:1250: ConvergenceWarning: Liblinear failed to converge, increase the number of iterations.\n",
      "  warnings.warn(\n"
     ]
    },
    {
     "name": "stdout",
     "output_type": "stream",
     "text": [
      "[CV 3/5] END C=10, class_weight=None, dual=auto, fit_intercept=True, intercept_scaling=1.5, loss=squared_hinge, multi_class=crammer_singer, penalty=l1;, score=0.965 total time=   9.3s\n"
     ]
    },
    {
     "name": "stderr",
     "output_type": "stream",
     "text": [
      "C:\\Users\\never\\AppData\\Roaming\\Python\\Python311\\site-packages\\sklearn\\svm\\_base.py:1250: ConvergenceWarning: Liblinear failed to converge, increase the number of iterations.\n",
      "  warnings.warn(\n"
     ]
    },
    {
     "name": "stdout",
     "output_type": "stream",
     "text": [
      "[CV 4/5] END C=10, class_weight=None, dual=auto, fit_intercept=True, intercept_scaling=1.5, loss=squared_hinge, multi_class=crammer_singer, penalty=l1;, score=0.963 total time=  15.6s\n"
     ]
    },
    {
     "name": "stderr",
     "output_type": "stream",
     "text": [
      "C:\\Users\\never\\AppData\\Roaming\\Python\\Python311\\site-packages\\sklearn\\svm\\_base.py:1250: ConvergenceWarning: Liblinear failed to converge, increase the number of iterations.\n",
      "  warnings.warn(\n"
     ]
    },
    {
     "name": "stdout",
     "output_type": "stream",
     "text": [
      "[CV 5/5] END C=10, class_weight=None, dual=auto, fit_intercept=True, intercept_scaling=1.5, loss=squared_hinge, multi_class=crammer_singer, penalty=l1;, score=0.967 total time=  11.7s\n"
     ]
    },
    {
     "name": "stderr",
     "output_type": "stream",
     "text": [
      "C:\\Users\\never\\AppData\\Roaming\\Python\\Python311\\site-packages\\sklearn\\svm\\_base.py:1250: ConvergenceWarning: Liblinear failed to converge, increase the number of iterations.\n",
      "  warnings.warn(\n"
     ]
    },
    {
     "name": "stdout",
     "output_type": "stream",
     "text": [
      "[CV 1/5] END C=10, class_weight=None, dual=auto, fit_intercept=True, intercept_scaling=1.5, loss=squared_hinge, multi_class=crammer_singer, penalty=l2;, score=0.961 total time=  14.4s\n"
     ]
    },
    {
     "name": "stderr",
     "output_type": "stream",
     "text": [
      "C:\\Users\\never\\AppData\\Roaming\\Python\\Python311\\site-packages\\sklearn\\svm\\_base.py:1250: ConvergenceWarning: Liblinear failed to converge, increase the number of iterations.\n",
      "  warnings.warn(\n"
     ]
    },
    {
     "name": "stdout",
     "output_type": "stream",
     "text": [
      "[CV 2/5] END C=10, class_weight=None, dual=auto, fit_intercept=True, intercept_scaling=1.5, loss=squared_hinge, multi_class=crammer_singer, penalty=l2;, score=0.959 total time=   9.1s\n"
     ]
    },
    {
     "name": "stderr",
     "output_type": "stream",
     "text": [
      "C:\\Users\\never\\AppData\\Roaming\\Python\\Python311\\site-packages\\sklearn\\svm\\_base.py:1250: ConvergenceWarning: Liblinear failed to converge, increase the number of iterations.\n",
      "  warnings.warn(\n"
     ]
    },
    {
     "name": "stdout",
     "output_type": "stream",
     "text": [
      "[CV 3/5] END C=10, class_weight=None, dual=auto, fit_intercept=True, intercept_scaling=1.5, loss=squared_hinge, multi_class=crammer_singer, penalty=l2;, score=0.965 total time=   9.4s\n"
     ]
    },
    {
     "name": "stderr",
     "output_type": "stream",
     "text": [
      "C:\\Users\\never\\AppData\\Roaming\\Python\\Python311\\site-packages\\sklearn\\svm\\_base.py:1250: ConvergenceWarning: Liblinear failed to converge, increase the number of iterations.\n",
      "  warnings.warn(\n"
     ]
    },
    {
     "name": "stdout",
     "output_type": "stream",
     "text": [
      "[CV 4/5] END C=10, class_weight=None, dual=auto, fit_intercept=True, intercept_scaling=1.5, loss=squared_hinge, multi_class=crammer_singer, penalty=l2;, score=0.963 total time=  15.5s\n"
     ]
    },
    {
     "name": "stderr",
     "output_type": "stream",
     "text": [
      "C:\\Users\\never\\AppData\\Roaming\\Python\\Python311\\site-packages\\sklearn\\svm\\_base.py:1250: ConvergenceWarning: Liblinear failed to converge, increase the number of iterations.\n",
      "  warnings.warn(\n"
     ]
    },
    {
     "name": "stdout",
     "output_type": "stream",
     "text": [
      "[CV 5/5] END C=10, class_weight=None, dual=auto, fit_intercept=True, intercept_scaling=1.5, loss=squared_hinge, multi_class=crammer_singer, penalty=l2;, score=0.967 total time=  11.7s\n",
      "[CV 1/5] END C=10, class_weight=None, dual=auto, fit_intercept=True, intercept_scaling=2, loss=hinge, multi_class=ovr, penalty=l1;, score=nan total time=   1.1s\n",
      "[CV 2/5] END C=10, class_weight=None, dual=auto, fit_intercept=True, intercept_scaling=2, loss=hinge, multi_class=ovr, penalty=l1;, score=nan total time=   1.1s\n",
      "[CV 3/5] END C=10, class_weight=None, dual=auto, fit_intercept=True, intercept_scaling=2, loss=hinge, multi_class=ovr, penalty=l1;, score=nan total time=   1.0s\n",
      "[CV 4/5] END C=10, class_weight=None, dual=auto, fit_intercept=True, intercept_scaling=2, loss=hinge, multi_class=ovr, penalty=l1;, score=nan total time=   1.0s\n",
      "[CV 5/5] END C=10, class_weight=None, dual=auto, fit_intercept=True, intercept_scaling=2, loss=hinge, multi_class=ovr, penalty=l1;, score=nan total time=   1.0s\n",
      "[CV 1/5] END C=10, class_weight=None, dual=auto, fit_intercept=True, intercept_scaling=2, loss=hinge, multi_class=ovr, penalty=l2;, score=0.958 total time=   8.9s\n",
      "[CV 2/5] END C=10, class_weight=None, dual=auto, fit_intercept=True, intercept_scaling=2, loss=hinge, multi_class=ovr, penalty=l2;, score=0.959 total time=  11.6s\n",
      "[CV 3/5] END C=10, class_weight=None, dual=auto, fit_intercept=True, intercept_scaling=2, loss=hinge, multi_class=ovr, penalty=l2;, score=0.963 total time=  10.1s\n",
      "[CV 4/5] END C=10, class_weight=None, dual=auto, fit_intercept=True, intercept_scaling=2, loss=hinge, multi_class=ovr, penalty=l2;, score=0.965 total time=   8.3s\n",
      "[CV 5/5] END C=10, class_weight=None, dual=auto, fit_intercept=True, intercept_scaling=2, loss=hinge, multi_class=ovr, penalty=l2;, score=0.967 total time=  12.3s\n"
     ]
    },
    {
     "name": "stderr",
     "output_type": "stream",
     "text": [
      "C:\\Users\\never\\AppData\\Roaming\\Python\\Python311\\site-packages\\sklearn\\svm\\_base.py:1250: ConvergenceWarning: Liblinear failed to converge, increase the number of iterations.\n",
      "  warnings.warn(\n"
     ]
    },
    {
     "name": "stdout",
     "output_type": "stream",
     "text": [
      "[CV 1/5] END C=10, class_weight=None, dual=auto, fit_intercept=True, intercept_scaling=2, loss=hinge, multi_class=crammer_singer, penalty=l1;, score=0.961 total time=  22.3s\n"
     ]
    },
    {
     "name": "stderr",
     "output_type": "stream",
     "text": [
      "C:\\Users\\never\\AppData\\Roaming\\Python\\Python311\\site-packages\\sklearn\\svm\\_base.py:1250: ConvergenceWarning: Liblinear failed to converge, increase the number of iterations.\n",
      "  warnings.warn(\n"
     ]
    },
    {
     "name": "stdout",
     "output_type": "stream",
     "text": [
      "[CV 2/5] END C=10, class_weight=None, dual=auto, fit_intercept=True, intercept_scaling=2, loss=hinge, multi_class=crammer_singer, penalty=l1;, score=0.959 total time=  14.5s\n"
     ]
    },
    {
     "name": "stderr",
     "output_type": "stream",
     "text": [
      "C:\\Users\\never\\AppData\\Roaming\\Python\\Python311\\site-packages\\sklearn\\svm\\_base.py:1250: ConvergenceWarning: Liblinear failed to converge, increase the number of iterations.\n",
      "  warnings.warn(\n"
     ]
    },
    {
     "name": "stdout",
     "output_type": "stream",
     "text": [
      "[CV 3/5] END C=10, class_weight=None, dual=auto, fit_intercept=True, intercept_scaling=2, loss=hinge, multi_class=crammer_singer, penalty=l1;, score=0.965 total time=  13.5s\n"
     ]
    },
    {
     "name": "stderr",
     "output_type": "stream",
     "text": [
      "C:\\Users\\never\\AppData\\Roaming\\Python\\Python311\\site-packages\\sklearn\\svm\\_base.py:1250: ConvergenceWarning: Liblinear failed to converge, increase the number of iterations.\n",
      "  warnings.warn(\n"
     ]
    },
    {
     "name": "stdout",
     "output_type": "stream",
     "text": [
      "[CV 4/5] END C=10, class_weight=None, dual=auto, fit_intercept=True, intercept_scaling=2, loss=hinge, multi_class=crammer_singer, penalty=l1;, score=0.963 total time=  23.7s\n"
     ]
    },
    {
     "name": "stderr",
     "output_type": "stream",
     "text": [
      "C:\\Users\\never\\AppData\\Roaming\\Python\\Python311\\site-packages\\sklearn\\svm\\_base.py:1250: ConvergenceWarning: Liblinear failed to converge, increase the number of iterations.\n",
      "  warnings.warn(\n"
     ]
    },
    {
     "name": "stdout",
     "output_type": "stream",
     "text": [
      "[CV 5/5] END C=10, class_weight=None, dual=auto, fit_intercept=True, intercept_scaling=2, loss=hinge, multi_class=crammer_singer, penalty=l1;, score=0.967 total time=  18.8s\n"
     ]
    },
    {
     "name": "stderr",
     "output_type": "stream",
     "text": [
      "C:\\Users\\never\\AppData\\Roaming\\Python\\Python311\\site-packages\\sklearn\\svm\\_base.py:1250: ConvergenceWarning: Liblinear failed to converge, increase the number of iterations.\n",
      "  warnings.warn(\n"
     ]
    },
    {
     "name": "stdout",
     "output_type": "stream",
     "text": [
      "[CV 1/5] END C=10, class_weight=None, dual=auto, fit_intercept=True, intercept_scaling=2, loss=hinge, multi_class=crammer_singer, penalty=l2;, score=0.961 total time=  22.3s\n"
     ]
    },
    {
     "name": "stderr",
     "output_type": "stream",
     "text": [
      "C:\\Users\\never\\AppData\\Roaming\\Python\\Python311\\site-packages\\sklearn\\svm\\_base.py:1250: ConvergenceWarning: Liblinear failed to converge, increase the number of iterations.\n",
      "  warnings.warn(\n"
     ]
    },
    {
     "name": "stdout",
     "output_type": "stream",
     "text": [
      "[CV 2/5] END C=10, class_weight=None, dual=auto, fit_intercept=True, intercept_scaling=2, loss=hinge, multi_class=crammer_singer, penalty=l2;, score=0.959 total time=  14.4s\n"
     ]
    },
    {
     "name": "stderr",
     "output_type": "stream",
     "text": [
      "C:\\Users\\never\\AppData\\Roaming\\Python\\Python311\\site-packages\\sklearn\\svm\\_base.py:1250: ConvergenceWarning: Liblinear failed to converge, increase the number of iterations.\n",
      "  warnings.warn(\n"
     ]
    },
    {
     "name": "stdout",
     "output_type": "stream",
     "text": [
      "[CV 3/5] END C=10, class_weight=None, dual=auto, fit_intercept=True, intercept_scaling=2, loss=hinge, multi_class=crammer_singer, penalty=l2;, score=0.965 total time=  13.5s\n"
     ]
    },
    {
     "name": "stderr",
     "output_type": "stream",
     "text": [
      "C:\\Users\\never\\AppData\\Roaming\\Python\\Python311\\site-packages\\sklearn\\svm\\_base.py:1250: ConvergenceWarning: Liblinear failed to converge, increase the number of iterations.\n",
      "  warnings.warn(\n"
     ]
    },
    {
     "name": "stdout",
     "output_type": "stream",
     "text": [
      "[CV 4/5] END C=10, class_weight=None, dual=auto, fit_intercept=True, intercept_scaling=2, loss=hinge, multi_class=crammer_singer, penalty=l2;, score=0.963 total time=  23.8s\n"
     ]
    },
    {
     "name": "stderr",
     "output_type": "stream",
     "text": [
      "C:\\Users\\never\\AppData\\Roaming\\Python\\Python311\\site-packages\\sklearn\\svm\\_base.py:1250: ConvergenceWarning: Liblinear failed to converge, increase the number of iterations.\n",
      "  warnings.warn(\n"
     ]
    },
    {
     "name": "stdout",
     "output_type": "stream",
     "text": [
      "[CV 5/5] END C=10, class_weight=None, dual=auto, fit_intercept=True, intercept_scaling=2, loss=hinge, multi_class=crammer_singer, penalty=l2;, score=0.967 total time=  18.7s\n",
      "[CV 1/5] END C=10, class_weight=None, dual=auto, fit_intercept=True, intercept_scaling=2, loss=squared_hinge, multi_class=ovr, penalty=l1;, score=0.967 total time=  17.0s\n",
      "[CV 2/5] END C=10, class_weight=None, dual=auto, fit_intercept=True, intercept_scaling=2, loss=squared_hinge, multi_class=ovr, penalty=l1;, score=0.965 total time=  17.3s\n",
      "[CV 3/5] END C=10, class_weight=None, dual=auto, fit_intercept=True, intercept_scaling=2, loss=squared_hinge, multi_class=ovr, penalty=l1;, score=0.969 total time=  16.1s\n",
      "[CV 4/5] END C=10, class_weight=None, dual=auto, fit_intercept=True, intercept_scaling=2, loss=squared_hinge, multi_class=ovr, penalty=l1;, score=0.970 total time=  15.7s\n",
      "[CV 5/5] END C=10, class_weight=None, dual=auto, fit_intercept=True, intercept_scaling=2, loss=squared_hinge, multi_class=ovr, penalty=l1;, score=0.969 total time=  16.4s\n",
      "[CV 1/5] END C=10, class_weight=None, dual=auto, fit_intercept=True, intercept_scaling=2, loss=squared_hinge, multi_class=ovr, penalty=l2;, score=0.961 total time=   4.6s\n",
      "[CV 2/5] END C=10, class_weight=None, dual=auto, fit_intercept=True, intercept_scaling=2, loss=squared_hinge, multi_class=ovr, penalty=l2;, score=0.959 total time=   4.8s\n",
      "[CV 3/5] END C=10, class_weight=None, dual=auto, fit_intercept=True, intercept_scaling=2, loss=squared_hinge, multi_class=ovr, penalty=l2;, score=0.964 total time=   4.6s\n",
      "[CV 4/5] END C=10, class_weight=None, dual=auto, fit_intercept=True, intercept_scaling=2, loss=squared_hinge, multi_class=ovr, penalty=l2;, score=0.966 total time=   4.8s\n",
      "[CV 5/5] END C=10, class_weight=None, dual=auto, fit_intercept=True, intercept_scaling=2, loss=squared_hinge, multi_class=ovr, penalty=l2;, score=0.968 total time=   4.7s\n"
     ]
    },
    {
     "name": "stderr",
     "output_type": "stream",
     "text": [
      "C:\\Users\\never\\AppData\\Roaming\\Python\\Python311\\site-packages\\sklearn\\svm\\_base.py:1250: ConvergenceWarning: Liblinear failed to converge, increase the number of iterations.\n",
      "  warnings.warn(\n"
     ]
    },
    {
     "name": "stdout",
     "output_type": "stream",
     "text": [
      "[CV 1/5] END C=10, class_weight=None, dual=auto, fit_intercept=True, intercept_scaling=2, loss=squared_hinge, multi_class=crammer_singer, penalty=l1;, score=0.961 total time=  22.0s\n"
     ]
    },
    {
     "name": "stderr",
     "output_type": "stream",
     "text": [
      "C:\\Users\\never\\AppData\\Roaming\\Python\\Python311\\site-packages\\sklearn\\svm\\_base.py:1250: ConvergenceWarning: Liblinear failed to converge, increase the number of iterations.\n",
      "  warnings.warn(\n"
     ]
    },
    {
     "name": "stdout",
     "output_type": "stream",
     "text": [
      "[CV 2/5] END C=10, class_weight=None, dual=auto, fit_intercept=True, intercept_scaling=2, loss=squared_hinge, multi_class=crammer_singer, penalty=l1;, score=0.959 total time=  14.6s\n"
     ]
    },
    {
     "name": "stderr",
     "output_type": "stream",
     "text": [
      "C:\\Users\\never\\AppData\\Roaming\\Python\\Python311\\site-packages\\sklearn\\svm\\_base.py:1250: ConvergenceWarning: Liblinear failed to converge, increase the number of iterations.\n",
      "  warnings.warn(\n"
     ]
    },
    {
     "name": "stdout",
     "output_type": "stream",
     "text": [
      "[CV 3/5] END C=10, class_weight=None, dual=auto, fit_intercept=True, intercept_scaling=2, loss=squared_hinge, multi_class=crammer_singer, penalty=l1;, score=0.965 total time=  13.5s\n"
     ]
    },
    {
     "name": "stderr",
     "output_type": "stream",
     "text": [
      "C:\\Users\\never\\AppData\\Roaming\\Python\\Python311\\site-packages\\sklearn\\svm\\_base.py:1250: ConvergenceWarning: Liblinear failed to converge, increase the number of iterations.\n",
      "  warnings.warn(\n"
     ]
    },
    {
     "name": "stdout",
     "output_type": "stream",
     "text": [
      "[CV 4/5] END C=10, class_weight=None, dual=auto, fit_intercept=True, intercept_scaling=2, loss=squared_hinge, multi_class=crammer_singer, penalty=l1;, score=0.963 total time=  23.9s\n"
     ]
    },
    {
     "name": "stderr",
     "output_type": "stream",
     "text": [
      "C:\\Users\\never\\AppData\\Roaming\\Python\\Python311\\site-packages\\sklearn\\svm\\_base.py:1250: ConvergenceWarning: Liblinear failed to converge, increase the number of iterations.\n",
      "  warnings.warn(\n"
     ]
    },
    {
     "name": "stdout",
     "output_type": "stream",
     "text": [
      "[CV 5/5] END C=10, class_weight=None, dual=auto, fit_intercept=True, intercept_scaling=2, loss=squared_hinge, multi_class=crammer_singer, penalty=l1;, score=0.967 total time=  18.7s\n"
     ]
    },
    {
     "name": "stderr",
     "output_type": "stream",
     "text": [
      "C:\\Users\\never\\AppData\\Roaming\\Python\\Python311\\site-packages\\sklearn\\svm\\_base.py:1250: ConvergenceWarning: Liblinear failed to converge, increase the number of iterations.\n",
      "  warnings.warn(\n"
     ]
    },
    {
     "name": "stdout",
     "output_type": "stream",
     "text": [
      "[CV 1/5] END C=10, class_weight=None, dual=auto, fit_intercept=True, intercept_scaling=2, loss=squared_hinge, multi_class=crammer_singer, penalty=l2;, score=0.961 total time=  23.0s\n"
     ]
    },
    {
     "name": "stderr",
     "output_type": "stream",
     "text": [
      "C:\\Users\\never\\AppData\\Roaming\\Python\\Python311\\site-packages\\sklearn\\svm\\_base.py:1250: ConvergenceWarning: Liblinear failed to converge, increase the number of iterations.\n",
      "  warnings.warn(\n"
     ]
    },
    {
     "name": "stdout",
     "output_type": "stream",
     "text": [
      "[CV 2/5] END C=10, class_weight=None, dual=auto, fit_intercept=True, intercept_scaling=2, loss=squared_hinge, multi_class=crammer_singer, penalty=l2;, score=0.959 total time=  15.6s\n"
     ]
    },
    {
     "name": "stderr",
     "output_type": "stream",
     "text": [
      "C:\\Users\\never\\AppData\\Roaming\\Python\\Python311\\site-packages\\sklearn\\svm\\_base.py:1250: ConvergenceWarning: Liblinear failed to converge, increase the number of iterations.\n",
      "  warnings.warn(\n"
     ]
    },
    {
     "name": "stdout",
     "output_type": "stream",
     "text": [
      "[CV 3/5] END C=10, class_weight=None, dual=auto, fit_intercept=True, intercept_scaling=2, loss=squared_hinge, multi_class=crammer_singer, penalty=l2;, score=0.965 total time=  13.5s\n"
     ]
    },
    {
     "name": "stderr",
     "output_type": "stream",
     "text": [
      "C:\\Users\\never\\AppData\\Roaming\\Python\\Python311\\site-packages\\sklearn\\svm\\_base.py:1250: ConvergenceWarning: Liblinear failed to converge, increase the number of iterations.\n",
      "  warnings.warn(\n"
     ]
    },
    {
     "name": "stdout",
     "output_type": "stream",
     "text": [
      "[CV 4/5] END C=10, class_weight=None, dual=auto, fit_intercept=True, intercept_scaling=2, loss=squared_hinge, multi_class=crammer_singer, penalty=l2;, score=0.963 total time=  23.8s\n"
     ]
    },
    {
     "name": "stderr",
     "output_type": "stream",
     "text": [
      "C:\\Users\\never\\AppData\\Roaming\\Python\\Python311\\site-packages\\sklearn\\svm\\_base.py:1250: ConvergenceWarning: Liblinear failed to converge, increase the number of iterations.\n",
      "  warnings.warn(\n"
     ]
    },
    {
     "name": "stdout",
     "output_type": "stream",
     "text": [
      "[CV 5/5] END C=10, class_weight=None, dual=auto, fit_intercept=True, intercept_scaling=2, loss=squared_hinge, multi_class=crammer_singer, penalty=l2;, score=0.967 total time=  18.9s\n",
      "[CV 1/5] END C=10, class_weight=None, dual=auto, fit_intercept=False, intercept_scaling=1, loss=hinge, multi_class=ovr, penalty=l1;, score=nan total time=   1.1s\n",
      "[CV 2/5] END C=10, class_weight=None, dual=auto, fit_intercept=False, intercept_scaling=1, loss=hinge, multi_class=ovr, penalty=l1;, score=nan total time=   1.0s\n",
      "[CV 3/5] END C=10, class_weight=None, dual=auto, fit_intercept=False, intercept_scaling=1, loss=hinge, multi_class=ovr, penalty=l1;, score=nan total time=   1.0s\n",
      "[CV 4/5] END C=10, class_weight=None, dual=auto, fit_intercept=False, intercept_scaling=1, loss=hinge, multi_class=ovr, penalty=l1;, score=nan total time=   1.0s\n",
      "[CV 5/5] END C=10, class_weight=None, dual=auto, fit_intercept=False, intercept_scaling=1, loss=hinge, multi_class=ovr, penalty=l1;, score=nan total time=   1.0s\n",
      "[CV 1/5] END C=10, class_weight=None, dual=auto, fit_intercept=False, intercept_scaling=1, loss=hinge, multi_class=ovr, penalty=l2;, score=0.951 total time=   5.8s\n",
      "[CV 2/5] END C=10, class_weight=None, dual=auto, fit_intercept=False, intercept_scaling=1, loss=hinge, multi_class=ovr, penalty=l2;, score=0.948 total time=   4.4s\n",
      "[CV 3/5] END C=10, class_weight=None, dual=auto, fit_intercept=False, intercept_scaling=1, loss=hinge, multi_class=ovr, penalty=l2;, score=0.957 total time=   4.4s\n",
      "[CV 4/5] END C=10, class_weight=None, dual=auto, fit_intercept=False, intercept_scaling=1, loss=hinge, multi_class=ovr, penalty=l2;, score=0.959 total time=   3.8s\n",
      "[CV 5/5] END C=10, class_weight=None, dual=auto, fit_intercept=False, intercept_scaling=1, loss=hinge, multi_class=ovr, penalty=l2;, score=0.960 total time=   3.6s\n"
     ]
    },
    {
     "name": "stderr",
     "output_type": "stream",
     "text": [
      "C:\\Users\\never\\AppData\\Roaming\\Python\\Python311\\site-packages\\sklearn\\svm\\_base.py:1250: ConvergenceWarning: Liblinear failed to converge, increase the number of iterations.\n",
      "  warnings.warn(\n"
     ]
    },
    {
     "name": "stdout",
     "output_type": "stream",
     "text": [
      "[CV 1/5] END C=10, class_weight=None, dual=auto, fit_intercept=False, intercept_scaling=1, loss=hinge, multi_class=crammer_singer, penalty=l1;, score=0.954 total time=   6.8s\n"
     ]
    },
    {
     "name": "stderr",
     "output_type": "stream",
     "text": [
      "C:\\Users\\never\\AppData\\Roaming\\Python\\Python311\\site-packages\\sklearn\\svm\\_base.py:1250: ConvergenceWarning: Liblinear failed to converge, increase the number of iterations.\n",
      "  warnings.warn(\n"
     ]
    },
    {
     "name": "stdout",
     "output_type": "stream",
     "text": [
      "[CV 2/5] END C=10, class_weight=None, dual=auto, fit_intercept=False, intercept_scaling=1, loss=hinge, multi_class=crammer_singer, penalty=l1;, score=0.950 total time=   9.4s\n"
     ]
    },
    {
     "name": "stderr",
     "output_type": "stream",
     "text": [
      "C:\\Users\\never\\AppData\\Roaming\\Python\\Python311\\site-packages\\sklearn\\svm\\_base.py:1250: ConvergenceWarning: Liblinear failed to converge, increase the number of iterations.\n",
      "  warnings.warn(\n"
     ]
    },
    {
     "name": "stdout",
     "output_type": "stream",
     "text": [
      "[CV 3/5] END C=10, class_weight=None, dual=auto, fit_intercept=False, intercept_scaling=1, loss=hinge, multi_class=crammer_singer, penalty=l1;, score=0.957 total time=   4.9s\n"
     ]
    },
    {
     "name": "stderr",
     "output_type": "stream",
     "text": [
      "C:\\Users\\never\\AppData\\Roaming\\Python\\Python311\\site-packages\\sklearn\\svm\\_base.py:1250: ConvergenceWarning: Liblinear failed to converge, increase the number of iterations.\n",
      "  warnings.warn(\n"
     ]
    },
    {
     "name": "stdout",
     "output_type": "stream",
     "text": [
      "[CV 4/5] END C=10, class_weight=None, dual=auto, fit_intercept=False, intercept_scaling=1, loss=hinge, multi_class=crammer_singer, penalty=l1;, score=0.957 total time=   4.3s\n"
     ]
    },
    {
     "name": "stderr",
     "output_type": "stream",
     "text": [
      "C:\\Users\\never\\AppData\\Roaming\\Python\\Python311\\site-packages\\sklearn\\svm\\_base.py:1250: ConvergenceWarning: Liblinear failed to converge, increase the number of iterations.\n",
      "  warnings.warn(\n"
     ]
    },
    {
     "name": "stdout",
     "output_type": "stream",
     "text": [
      "[CV 5/5] END C=10, class_weight=None, dual=auto, fit_intercept=False, intercept_scaling=1, loss=hinge, multi_class=crammer_singer, penalty=l1;, score=0.960 total time=   5.0s\n"
     ]
    },
    {
     "name": "stderr",
     "output_type": "stream",
     "text": [
      "C:\\Users\\never\\AppData\\Roaming\\Python\\Python311\\site-packages\\sklearn\\svm\\_base.py:1250: ConvergenceWarning: Liblinear failed to converge, increase the number of iterations.\n",
      "  warnings.warn(\n"
     ]
    },
    {
     "name": "stdout",
     "output_type": "stream",
     "text": [
      "[CV 1/5] END C=10, class_weight=None, dual=auto, fit_intercept=False, intercept_scaling=1, loss=hinge, multi_class=crammer_singer, penalty=l2;, score=0.954 total time=   6.8s\n"
     ]
    },
    {
     "name": "stderr",
     "output_type": "stream",
     "text": [
      "C:\\Users\\never\\AppData\\Roaming\\Python\\Python311\\site-packages\\sklearn\\svm\\_base.py:1250: ConvergenceWarning: Liblinear failed to converge, increase the number of iterations.\n",
      "  warnings.warn(\n"
     ]
    },
    {
     "name": "stdout",
     "output_type": "stream",
     "text": [
      "[CV 2/5] END C=10, class_weight=None, dual=auto, fit_intercept=False, intercept_scaling=1, loss=hinge, multi_class=crammer_singer, penalty=l2;, score=0.950 total time=   9.4s\n"
     ]
    },
    {
     "name": "stderr",
     "output_type": "stream",
     "text": [
      "C:\\Users\\never\\AppData\\Roaming\\Python\\Python311\\site-packages\\sklearn\\svm\\_base.py:1250: ConvergenceWarning: Liblinear failed to converge, increase the number of iterations.\n",
      "  warnings.warn(\n"
     ]
    },
    {
     "name": "stdout",
     "output_type": "stream",
     "text": [
      "[CV 3/5] END C=10, class_weight=None, dual=auto, fit_intercept=False, intercept_scaling=1, loss=hinge, multi_class=crammer_singer, penalty=l2;, score=0.957 total time=   4.8s\n"
     ]
    },
    {
     "name": "stderr",
     "output_type": "stream",
     "text": [
      "C:\\Users\\never\\AppData\\Roaming\\Python\\Python311\\site-packages\\sklearn\\svm\\_base.py:1250: ConvergenceWarning: Liblinear failed to converge, increase the number of iterations.\n",
      "  warnings.warn(\n"
     ]
    },
    {
     "name": "stdout",
     "output_type": "stream",
     "text": [
      "[CV 4/5] END C=10, class_weight=None, dual=auto, fit_intercept=False, intercept_scaling=1, loss=hinge, multi_class=crammer_singer, penalty=l2;, score=0.957 total time=   4.3s\n"
     ]
    },
    {
     "name": "stderr",
     "output_type": "stream",
     "text": [
      "C:\\Users\\never\\AppData\\Roaming\\Python\\Python311\\site-packages\\sklearn\\svm\\_base.py:1250: ConvergenceWarning: Liblinear failed to converge, increase the number of iterations.\n",
      "  warnings.warn(\n"
     ]
    },
    {
     "name": "stdout",
     "output_type": "stream",
     "text": [
      "[CV 5/5] END C=10, class_weight=None, dual=auto, fit_intercept=False, intercept_scaling=1, loss=hinge, multi_class=crammer_singer, penalty=l2;, score=0.960 total time=   5.1s\n",
      "[CV 1/5] END C=10, class_weight=None, dual=auto, fit_intercept=False, intercept_scaling=1, loss=squared_hinge, multi_class=ovr, penalty=l1;, score=0.954 total time=  10.1s\n",
      "[CV 2/5] END C=10, class_weight=None, dual=auto, fit_intercept=False, intercept_scaling=1, loss=squared_hinge, multi_class=ovr, penalty=l1;, score=0.956 total time=  10.3s\n",
      "[CV 3/5] END C=10, class_weight=None, dual=auto, fit_intercept=False, intercept_scaling=1, loss=squared_hinge, multi_class=ovr, penalty=l1;, score=0.959 total time=   9.4s\n",
      "[CV 4/5] END C=10, class_weight=None, dual=auto, fit_intercept=False, intercept_scaling=1, loss=squared_hinge, multi_class=ovr, penalty=l1;, score=0.956 total time=   9.6s\n",
      "[CV 5/5] END C=10, class_weight=None, dual=auto, fit_intercept=False, intercept_scaling=1, loss=squared_hinge, multi_class=ovr, penalty=l1;, score=0.961 total time=   9.2s\n",
      "[CV 1/5] END C=10, class_weight=None, dual=auto, fit_intercept=False, intercept_scaling=1, loss=squared_hinge, multi_class=ovr, penalty=l2;, score=0.954 total time=   7.1s\n",
      "[CV 2/5] END C=10, class_weight=None, dual=auto, fit_intercept=False, intercept_scaling=1, loss=squared_hinge, multi_class=ovr, penalty=l2;, score=0.949 total time=   7.4s\n",
      "[CV 3/5] END C=10, class_weight=None, dual=auto, fit_intercept=False, intercept_scaling=1, loss=squared_hinge, multi_class=ovr, penalty=l2;, score=0.956 total time=   7.1s\n",
      "[CV 4/5] END C=10, class_weight=None, dual=auto, fit_intercept=False, intercept_scaling=1, loss=squared_hinge, multi_class=ovr, penalty=l2;, score=0.959 total time=   6.6s\n",
      "[CV 5/5] END C=10, class_weight=None, dual=auto, fit_intercept=False, intercept_scaling=1, loss=squared_hinge, multi_class=ovr, penalty=l2;, score=0.960 total time=   6.8s\n"
     ]
    },
    {
     "name": "stderr",
     "output_type": "stream",
     "text": [
      "C:\\Users\\never\\AppData\\Roaming\\Python\\Python311\\site-packages\\sklearn\\svm\\_base.py:1250: ConvergenceWarning: Liblinear failed to converge, increase the number of iterations.\n",
      "  warnings.warn(\n"
     ]
    },
    {
     "name": "stdout",
     "output_type": "stream",
     "text": [
      "[CV 1/5] END C=10, class_weight=None, dual=auto, fit_intercept=False, intercept_scaling=1, loss=squared_hinge, multi_class=crammer_singer, penalty=l1;, score=0.954 total time=   6.7s\n"
     ]
    },
    {
     "name": "stderr",
     "output_type": "stream",
     "text": [
      "C:\\Users\\never\\AppData\\Roaming\\Python\\Python311\\site-packages\\sklearn\\svm\\_base.py:1250: ConvergenceWarning: Liblinear failed to converge, increase the number of iterations.\n",
      "  warnings.warn(\n"
     ]
    },
    {
     "name": "stdout",
     "output_type": "stream",
     "text": [
      "[CV 2/5] END C=10, class_weight=None, dual=auto, fit_intercept=False, intercept_scaling=1, loss=squared_hinge, multi_class=crammer_singer, penalty=l1;, score=0.950 total time=   9.5s\n"
     ]
    },
    {
     "name": "stderr",
     "output_type": "stream",
     "text": [
      "C:\\Users\\never\\AppData\\Roaming\\Python\\Python311\\site-packages\\sklearn\\svm\\_base.py:1250: ConvergenceWarning: Liblinear failed to converge, increase the number of iterations.\n",
      "  warnings.warn(\n"
     ]
    },
    {
     "name": "stdout",
     "output_type": "stream",
     "text": [
      "[CV 3/5] END C=10, class_weight=None, dual=auto, fit_intercept=False, intercept_scaling=1, loss=squared_hinge, multi_class=crammer_singer, penalty=l1;, score=0.957 total time=   4.9s\n"
     ]
    },
    {
     "name": "stderr",
     "output_type": "stream",
     "text": [
      "C:\\Users\\never\\AppData\\Roaming\\Python\\Python311\\site-packages\\sklearn\\svm\\_base.py:1250: ConvergenceWarning: Liblinear failed to converge, increase the number of iterations.\n",
      "  warnings.warn(\n"
     ]
    },
    {
     "name": "stdout",
     "output_type": "stream",
     "text": [
      "[CV 4/5] END C=10, class_weight=None, dual=auto, fit_intercept=False, intercept_scaling=1, loss=squared_hinge, multi_class=crammer_singer, penalty=l1;, score=0.957 total time=   4.3s\n"
     ]
    },
    {
     "name": "stderr",
     "output_type": "stream",
     "text": [
      "C:\\Users\\never\\AppData\\Roaming\\Python\\Python311\\site-packages\\sklearn\\svm\\_base.py:1250: ConvergenceWarning: Liblinear failed to converge, increase the number of iterations.\n",
      "  warnings.warn(\n"
     ]
    },
    {
     "name": "stdout",
     "output_type": "stream",
     "text": [
      "[CV 5/5] END C=10, class_weight=None, dual=auto, fit_intercept=False, intercept_scaling=1, loss=squared_hinge, multi_class=crammer_singer, penalty=l1;, score=0.960 total time=   5.1s\n"
     ]
    },
    {
     "name": "stderr",
     "output_type": "stream",
     "text": [
      "C:\\Users\\never\\AppData\\Roaming\\Python\\Python311\\site-packages\\sklearn\\svm\\_base.py:1250: ConvergenceWarning: Liblinear failed to converge, increase the number of iterations.\n",
      "  warnings.warn(\n"
     ]
    },
    {
     "name": "stdout",
     "output_type": "stream",
     "text": [
      "[CV 1/5] END C=10, class_weight=None, dual=auto, fit_intercept=False, intercept_scaling=1, loss=squared_hinge, multi_class=crammer_singer, penalty=l2;, score=0.954 total time=   6.8s\n"
     ]
    },
    {
     "name": "stderr",
     "output_type": "stream",
     "text": [
      "C:\\Users\\never\\AppData\\Roaming\\Python\\Python311\\site-packages\\sklearn\\svm\\_base.py:1250: ConvergenceWarning: Liblinear failed to converge, increase the number of iterations.\n",
      "  warnings.warn(\n"
     ]
    },
    {
     "name": "stdout",
     "output_type": "stream",
     "text": [
      "[CV 2/5] END C=10, class_weight=None, dual=auto, fit_intercept=False, intercept_scaling=1, loss=squared_hinge, multi_class=crammer_singer, penalty=l2;, score=0.950 total time=   9.5s\n"
     ]
    },
    {
     "name": "stderr",
     "output_type": "stream",
     "text": [
      "C:\\Users\\never\\AppData\\Roaming\\Python\\Python311\\site-packages\\sklearn\\svm\\_base.py:1250: ConvergenceWarning: Liblinear failed to converge, increase the number of iterations.\n",
      "  warnings.warn(\n"
     ]
    },
    {
     "name": "stdout",
     "output_type": "stream",
     "text": [
      "[CV 3/5] END C=10, class_weight=None, dual=auto, fit_intercept=False, intercept_scaling=1, loss=squared_hinge, multi_class=crammer_singer, penalty=l2;, score=0.957 total time=   4.9s\n"
     ]
    },
    {
     "name": "stderr",
     "output_type": "stream",
     "text": [
      "C:\\Users\\never\\AppData\\Roaming\\Python\\Python311\\site-packages\\sklearn\\svm\\_base.py:1250: ConvergenceWarning: Liblinear failed to converge, increase the number of iterations.\n",
      "  warnings.warn(\n"
     ]
    },
    {
     "name": "stdout",
     "output_type": "stream",
     "text": [
      "[CV 4/5] END C=10, class_weight=None, dual=auto, fit_intercept=False, intercept_scaling=1, loss=squared_hinge, multi_class=crammer_singer, penalty=l2;, score=0.957 total time=   4.3s\n"
     ]
    },
    {
     "name": "stderr",
     "output_type": "stream",
     "text": [
      "C:\\Users\\never\\AppData\\Roaming\\Python\\Python311\\site-packages\\sklearn\\svm\\_base.py:1250: ConvergenceWarning: Liblinear failed to converge, increase the number of iterations.\n",
      "  warnings.warn(\n"
     ]
    },
    {
     "name": "stdout",
     "output_type": "stream",
     "text": [
      "[CV 5/5] END C=10, class_weight=None, dual=auto, fit_intercept=False, intercept_scaling=1, loss=squared_hinge, multi_class=crammer_singer, penalty=l2;, score=0.960 total time=   5.1s\n",
      "[CV 1/5] END C=10, class_weight=None, dual=auto, fit_intercept=False, intercept_scaling=1.5, loss=hinge, multi_class=ovr, penalty=l1;, score=nan total time=   1.1s\n",
      "[CV 2/5] END C=10, class_weight=None, dual=auto, fit_intercept=False, intercept_scaling=1.5, loss=hinge, multi_class=ovr, penalty=l1;, score=nan total time=   1.1s\n",
      "[CV 3/5] END C=10, class_weight=None, dual=auto, fit_intercept=False, intercept_scaling=1.5, loss=hinge, multi_class=ovr, penalty=l1;, score=nan total time=   1.0s\n",
      "[CV 4/5] END C=10, class_weight=None, dual=auto, fit_intercept=False, intercept_scaling=1.5, loss=hinge, multi_class=ovr, penalty=l1;, score=nan total time=   1.0s\n",
      "[CV 5/5] END C=10, class_weight=None, dual=auto, fit_intercept=False, intercept_scaling=1.5, loss=hinge, multi_class=ovr, penalty=l1;, score=nan total time=   1.0s\n",
      "[CV 1/5] END C=10, class_weight=None, dual=auto, fit_intercept=False, intercept_scaling=1.5, loss=hinge, multi_class=ovr, penalty=l2;, score=0.951 total time=   5.8s\n",
      "[CV 2/5] END C=10, class_weight=None, dual=auto, fit_intercept=False, intercept_scaling=1.5, loss=hinge, multi_class=ovr, penalty=l2;, score=0.948 total time=   4.5s\n",
      "[CV 3/5] END C=10, class_weight=None, dual=auto, fit_intercept=False, intercept_scaling=1.5, loss=hinge, multi_class=ovr, penalty=l2;, score=0.957 total time=   4.4s\n",
      "[CV 4/5] END C=10, class_weight=None, dual=auto, fit_intercept=False, intercept_scaling=1.5, loss=hinge, multi_class=ovr, penalty=l2;, score=0.959 total time=   3.7s\n",
      "[CV 5/5] END C=10, class_weight=None, dual=auto, fit_intercept=False, intercept_scaling=1.5, loss=hinge, multi_class=ovr, penalty=l2;, score=0.960 total time=   3.6s\n"
     ]
    },
    {
     "name": "stderr",
     "output_type": "stream",
     "text": [
      "C:\\Users\\never\\AppData\\Roaming\\Python\\Python311\\site-packages\\sklearn\\svm\\_base.py:1250: ConvergenceWarning: Liblinear failed to converge, increase the number of iterations.\n",
      "  warnings.warn(\n"
     ]
    },
    {
     "name": "stdout",
     "output_type": "stream",
     "text": [
      "[CV 1/5] END C=10, class_weight=None, dual=auto, fit_intercept=False, intercept_scaling=1.5, loss=hinge, multi_class=crammer_singer, penalty=l1;, score=0.954 total time=   6.8s\n"
     ]
    },
    {
     "name": "stderr",
     "output_type": "stream",
     "text": [
      "C:\\Users\\never\\AppData\\Roaming\\Python\\Python311\\site-packages\\sklearn\\svm\\_base.py:1250: ConvergenceWarning: Liblinear failed to converge, increase the number of iterations.\n",
      "  warnings.warn(\n"
     ]
    },
    {
     "name": "stdout",
     "output_type": "stream",
     "text": [
      "[CV 2/5] END C=10, class_weight=None, dual=auto, fit_intercept=False, intercept_scaling=1.5, loss=hinge, multi_class=crammer_singer, penalty=l1;, score=0.950 total time=   9.5s\n"
     ]
    },
    {
     "name": "stderr",
     "output_type": "stream",
     "text": [
      "C:\\Users\\never\\AppData\\Roaming\\Python\\Python311\\site-packages\\sklearn\\svm\\_base.py:1250: ConvergenceWarning: Liblinear failed to converge, increase the number of iterations.\n",
      "  warnings.warn(\n"
     ]
    },
    {
     "name": "stdout",
     "output_type": "stream",
     "text": [
      "[CV 3/5] END C=10, class_weight=None, dual=auto, fit_intercept=False, intercept_scaling=1.5, loss=hinge, multi_class=crammer_singer, penalty=l1;, score=0.957 total time=   4.8s\n"
     ]
    },
    {
     "name": "stderr",
     "output_type": "stream",
     "text": [
      "C:\\Users\\never\\AppData\\Roaming\\Python\\Python311\\site-packages\\sklearn\\svm\\_base.py:1250: ConvergenceWarning: Liblinear failed to converge, increase the number of iterations.\n",
      "  warnings.warn(\n"
     ]
    },
    {
     "name": "stdout",
     "output_type": "stream",
     "text": [
      "[CV 4/5] END C=10, class_weight=None, dual=auto, fit_intercept=False, intercept_scaling=1.5, loss=hinge, multi_class=crammer_singer, penalty=l1;, score=0.957 total time=   4.2s\n"
     ]
    },
    {
     "name": "stderr",
     "output_type": "stream",
     "text": [
      "C:\\Users\\never\\AppData\\Roaming\\Python\\Python311\\site-packages\\sklearn\\svm\\_base.py:1250: ConvergenceWarning: Liblinear failed to converge, increase the number of iterations.\n",
      "  warnings.warn(\n"
     ]
    },
    {
     "name": "stdout",
     "output_type": "stream",
     "text": [
      "[CV 5/5] END C=10, class_weight=None, dual=auto, fit_intercept=False, intercept_scaling=1.5, loss=hinge, multi_class=crammer_singer, penalty=l1;, score=0.960 total time=   5.1s\n"
     ]
    },
    {
     "name": "stderr",
     "output_type": "stream",
     "text": [
      "C:\\Users\\never\\AppData\\Roaming\\Python\\Python311\\site-packages\\sklearn\\svm\\_base.py:1250: ConvergenceWarning: Liblinear failed to converge, increase the number of iterations.\n",
      "  warnings.warn(\n"
     ]
    },
    {
     "name": "stdout",
     "output_type": "stream",
     "text": [
      "[CV 1/5] END C=10, class_weight=None, dual=auto, fit_intercept=False, intercept_scaling=1.5, loss=hinge, multi_class=crammer_singer, penalty=l2;, score=0.954 total time=   6.8s\n"
     ]
    },
    {
     "name": "stderr",
     "output_type": "stream",
     "text": [
      "C:\\Users\\never\\AppData\\Roaming\\Python\\Python311\\site-packages\\sklearn\\svm\\_base.py:1250: ConvergenceWarning: Liblinear failed to converge, increase the number of iterations.\n",
      "  warnings.warn(\n"
     ]
    },
    {
     "name": "stdout",
     "output_type": "stream",
     "text": [
      "[CV 2/5] END C=10, class_weight=None, dual=auto, fit_intercept=False, intercept_scaling=1.5, loss=hinge, multi_class=crammer_singer, penalty=l2;, score=0.950 total time=   9.5s\n"
     ]
    },
    {
     "name": "stderr",
     "output_type": "stream",
     "text": [
      "C:\\Users\\never\\AppData\\Roaming\\Python\\Python311\\site-packages\\sklearn\\svm\\_base.py:1250: ConvergenceWarning: Liblinear failed to converge, increase the number of iterations.\n",
      "  warnings.warn(\n"
     ]
    },
    {
     "name": "stdout",
     "output_type": "stream",
     "text": [
      "[CV 3/5] END C=10, class_weight=None, dual=auto, fit_intercept=False, intercept_scaling=1.5, loss=hinge, multi_class=crammer_singer, penalty=l2;, score=0.957 total time=   4.9s\n"
     ]
    },
    {
     "name": "stderr",
     "output_type": "stream",
     "text": [
      "C:\\Users\\never\\AppData\\Roaming\\Python\\Python311\\site-packages\\sklearn\\svm\\_base.py:1250: ConvergenceWarning: Liblinear failed to converge, increase the number of iterations.\n",
      "  warnings.warn(\n"
     ]
    },
    {
     "name": "stdout",
     "output_type": "stream",
     "text": [
      "[CV 4/5] END C=10, class_weight=None, dual=auto, fit_intercept=False, intercept_scaling=1.5, loss=hinge, multi_class=crammer_singer, penalty=l2;, score=0.957 total time=   4.3s\n"
     ]
    },
    {
     "name": "stderr",
     "output_type": "stream",
     "text": [
      "C:\\Users\\never\\AppData\\Roaming\\Python\\Python311\\site-packages\\sklearn\\svm\\_base.py:1250: ConvergenceWarning: Liblinear failed to converge, increase the number of iterations.\n",
      "  warnings.warn(\n"
     ]
    },
    {
     "name": "stdout",
     "output_type": "stream",
     "text": [
      "[CV 5/5] END C=10, class_weight=None, dual=auto, fit_intercept=False, intercept_scaling=1.5, loss=hinge, multi_class=crammer_singer, penalty=l2;, score=0.960 total time=   5.2s\n",
      "[CV 1/5] END C=10, class_weight=None, dual=auto, fit_intercept=False, intercept_scaling=1.5, loss=squared_hinge, multi_class=ovr, penalty=l1;, score=0.954 total time=  10.1s\n",
      "[CV 2/5] END C=10, class_weight=None, dual=auto, fit_intercept=False, intercept_scaling=1.5, loss=squared_hinge, multi_class=ovr, penalty=l1;, score=0.956 total time=  10.3s\n",
      "[CV 3/5] END C=10, class_weight=None, dual=auto, fit_intercept=False, intercept_scaling=1.5, loss=squared_hinge, multi_class=ovr, penalty=l1;, score=0.959 total time=   9.4s\n",
      "[CV 4/5] END C=10, class_weight=None, dual=auto, fit_intercept=False, intercept_scaling=1.5, loss=squared_hinge, multi_class=ovr, penalty=l1;, score=0.956 total time=   9.7s\n",
      "[CV 5/5] END C=10, class_weight=None, dual=auto, fit_intercept=False, intercept_scaling=1.5, loss=squared_hinge, multi_class=ovr, penalty=l1;, score=0.961 total time=   9.1s\n",
      "[CV 1/5] END C=10, class_weight=None, dual=auto, fit_intercept=False, intercept_scaling=1.5, loss=squared_hinge, multi_class=ovr, penalty=l2;, score=0.954 total time=   7.2s\n",
      "[CV 2/5] END C=10, class_weight=None, dual=auto, fit_intercept=False, intercept_scaling=1.5, loss=squared_hinge, multi_class=ovr, penalty=l2;, score=0.949 total time=   7.4s\n",
      "[CV 3/5] END C=10, class_weight=None, dual=auto, fit_intercept=False, intercept_scaling=1.5, loss=squared_hinge, multi_class=ovr, penalty=l2;, score=0.956 total time=   7.1s\n",
      "[CV 4/5] END C=10, class_weight=None, dual=auto, fit_intercept=False, intercept_scaling=1.5, loss=squared_hinge, multi_class=ovr, penalty=l2;, score=0.959 total time=   6.7s\n",
      "[CV 5/5] END C=10, class_weight=None, dual=auto, fit_intercept=False, intercept_scaling=1.5, loss=squared_hinge, multi_class=ovr, penalty=l2;, score=0.960 total time=   6.9s\n"
     ]
    },
    {
     "name": "stderr",
     "output_type": "stream",
     "text": [
      "C:\\Users\\never\\AppData\\Roaming\\Python\\Python311\\site-packages\\sklearn\\svm\\_base.py:1250: ConvergenceWarning: Liblinear failed to converge, increase the number of iterations.\n",
      "  warnings.warn(\n"
     ]
    },
    {
     "name": "stdout",
     "output_type": "stream",
     "text": [
      "[CV 1/5] END C=10, class_weight=None, dual=auto, fit_intercept=False, intercept_scaling=1.5, loss=squared_hinge, multi_class=crammer_singer, penalty=l1;, score=0.954 total time=   6.8s\n"
     ]
    },
    {
     "name": "stderr",
     "output_type": "stream",
     "text": [
      "C:\\Users\\never\\AppData\\Roaming\\Python\\Python311\\site-packages\\sklearn\\svm\\_base.py:1250: ConvergenceWarning: Liblinear failed to converge, increase the number of iterations.\n",
      "  warnings.warn(\n"
     ]
    },
    {
     "name": "stdout",
     "output_type": "stream",
     "text": [
      "[CV 2/5] END C=10, class_weight=None, dual=auto, fit_intercept=False, intercept_scaling=1.5, loss=squared_hinge, multi_class=crammer_singer, penalty=l1;, score=0.950 total time=   9.4s\n"
     ]
    },
    {
     "name": "stderr",
     "output_type": "stream",
     "text": [
      "C:\\Users\\never\\AppData\\Roaming\\Python\\Python311\\site-packages\\sklearn\\svm\\_base.py:1250: ConvergenceWarning: Liblinear failed to converge, increase the number of iterations.\n",
      "  warnings.warn(\n"
     ]
    },
    {
     "name": "stdout",
     "output_type": "stream",
     "text": [
      "[CV 3/5] END C=10, class_weight=None, dual=auto, fit_intercept=False, intercept_scaling=1.5, loss=squared_hinge, multi_class=crammer_singer, penalty=l1;, score=0.957 total time=   4.9s\n"
     ]
    },
    {
     "name": "stderr",
     "output_type": "stream",
     "text": [
      "C:\\Users\\never\\AppData\\Roaming\\Python\\Python311\\site-packages\\sklearn\\svm\\_base.py:1250: ConvergenceWarning: Liblinear failed to converge, increase the number of iterations.\n",
      "  warnings.warn(\n"
     ]
    },
    {
     "name": "stdout",
     "output_type": "stream",
     "text": [
      "[CV 4/5] END C=10, class_weight=None, dual=auto, fit_intercept=False, intercept_scaling=1.5, loss=squared_hinge, multi_class=crammer_singer, penalty=l1;, score=0.957 total time=   4.3s\n"
     ]
    },
    {
     "name": "stderr",
     "output_type": "stream",
     "text": [
      "C:\\Users\\never\\AppData\\Roaming\\Python\\Python311\\site-packages\\sklearn\\svm\\_base.py:1250: ConvergenceWarning: Liblinear failed to converge, increase the number of iterations.\n",
      "  warnings.warn(\n"
     ]
    },
    {
     "name": "stdout",
     "output_type": "stream",
     "text": [
      "[CV 5/5] END C=10, class_weight=None, dual=auto, fit_intercept=False, intercept_scaling=1.5, loss=squared_hinge, multi_class=crammer_singer, penalty=l1;, score=0.960 total time=   5.1s\n"
     ]
    },
    {
     "name": "stderr",
     "output_type": "stream",
     "text": [
      "C:\\Users\\never\\AppData\\Roaming\\Python\\Python311\\site-packages\\sklearn\\svm\\_base.py:1250: ConvergenceWarning: Liblinear failed to converge, increase the number of iterations.\n",
      "  warnings.warn(\n"
     ]
    },
    {
     "name": "stdout",
     "output_type": "stream",
     "text": [
      "[CV 1/5] END C=10, class_weight=None, dual=auto, fit_intercept=False, intercept_scaling=1.5, loss=squared_hinge, multi_class=crammer_singer, penalty=l2;, score=0.954 total time=   6.8s\n"
     ]
    },
    {
     "name": "stderr",
     "output_type": "stream",
     "text": [
      "C:\\Users\\never\\AppData\\Roaming\\Python\\Python311\\site-packages\\sklearn\\svm\\_base.py:1250: ConvergenceWarning: Liblinear failed to converge, increase the number of iterations.\n",
      "  warnings.warn(\n"
     ]
    },
    {
     "name": "stdout",
     "output_type": "stream",
     "text": [
      "[CV 2/5] END C=10, class_weight=None, dual=auto, fit_intercept=False, intercept_scaling=1.5, loss=squared_hinge, multi_class=crammer_singer, penalty=l2;, score=0.950 total time=   9.4s\n"
     ]
    },
    {
     "name": "stderr",
     "output_type": "stream",
     "text": [
      "C:\\Users\\never\\AppData\\Roaming\\Python\\Python311\\site-packages\\sklearn\\svm\\_base.py:1250: ConvergenceWarning: Liblinear failed to converge, increase the number of iterations.\n",
      "  warnings.warn(\n"
     ]
    },
    {
     "name": "stdout",
     "output_type": "stream",
     "text": [
      "[CV 3/5] END C=10, class_weight=None, dual=auto, fit_intercept=False, intercept_scaling=1.5, loss=squared_hinge, multi_class=crammer_singer, penalty=l2;, score=0.957 total time=   4.9s\n"
     ]
    },
    {
     "name": "stderr",
     "output_type": "stream",
     "text": [
      "C:\\Users\\never\\AppData\\Roaming\\Python\\Python311\\site-packages\\sklearn\\svm\\_base.py:1250: ConvergenceWarning: Liblinear failed to converge, increase the number of iterations.\n",
      "  warnings.warn(\n"
     ]
    },
    {
     "name": "stdout",
     "output_type": "stream",
     "text": [
      "[CV 4/5] END C=10, class_weight=None, dual=auto, fit_intercept=False, intercept_scaling=1.5, loss=squared_hinge, multi_class=crammer_singer, penalty=l2;, score=0.957 total time=   4.3s\n"
     ]
    },
    {
     "name": "stderr",
     "output_type": "stream",
     "text": [
      "C:\\Users\\never\\AppData\\Roaming\\Python\\Python311\\site-packages\\sklearn\\svm\\_base.py:1250: ConvergenceWarning: Liblinear failed to converge, increase the number of iterations.\n",
      "  warnings.warn(\n"
     ]
    },
    {
     "name": "stdout",
     "output_type": "stream",
     "text": [
      "[CV 5/5] END C=10, class_weight=None, dual=auto, fit_intercept=False, intercept_scaling=1.5, loss=squared_hinge, multi_class=crammer_singer, penalty=l2;, score=0.960 total time=   5.1s\n",
      "[CV 1/5] END C=10, class_weight=None, dual=auto, fit_intercept=False, intercept_scaling=2, loss=hinge, multi_class=ovr, penalty=l1;, score=nan total time=   1.1s\n",
      "[CV 2/5] END C=10, class_weight=None, dual=auto, fit_intercept=False, intercept_scaling=2, loss=hinge, multi_class=ovr, penalty=l1;, score=nan total time=   1.0s\n",
      "[CV 3/5] END C=10, class_weight=None, dual=auto, fit_intercept=False, intercept_scaling=2, loss=hinge, multi_class=ovr, penalty=l1;, score=nan total time=   1.0s\n",
      "[CV 4/5] END C=10, class_weight=None, dual=auto, fit_intercept=False, intercept_scaling=2, loss=hinge, multi_class=ovr, penalty=l1;, score=nan total time=   1.0s\n",
      "[CV 5/5] END C=10, class_weight=None, dual=auto, fit_intercept=False, intercept_scaling=2, loss=hinge, multi_class=ovr, penalty=l1;, score=nan total time=   1.0s\n",
      "[CV 1/5] END C=10, class_weight=None, dual=auto, fit_intercept=False, intercept_scaling=2, loss=hinge, multi_class=ovr, penalty=l2;, score=0.951 total time=   5.8s\n",
      "[CV 2/5] END C=10, class_weight=None, dual=auto, fit_intercept=False, intercept_scaling=2, loss=hinge, multi_class=ovr, penalty=l2;, score=0.948 total time=   4.4s\n",
      "[CV 3/5] END C=10, class_weight=None, dual=auto, fit_intercept=False, intercept_scaling=2, loss=hinge, multi_class=ovr, penalty=l2;, score=0.957 total time=   4.4s\n",
      "[CV 4/5] END C=10, class_weight=None, dual=auto, fit_intercept=False, intercept_scaling=2, loss=hinge, multi_class=ovr, penalty=l2;, score=0.959 total time=   3.8s\n",
      "[CV 5/5] END C=10, class_weight=None, dual=auto, fit_intercept=False, intercept_scaling=2, loss=hinge, multi_class=ovr, penalty=l2;, score=0.960 total time=   3.6s\n"
     ]
    },
    {
     "name": "stderr",
     "output_type": "stream",
     "text": [
      "C:\\Users\\never\\AppData\\Roaming\\Python\\Python311\\site-packages\\sklearn\\svm\\_base.py:1250: ConvergenceWarning: Liblinear failed to converge, increase the number of iterations.\n",
      "  warnings.warn(\n"
     ]
    },
    {
     "name": "stdout",
     "output_type": "stream",
     "text": [
      "[CV 1/5] END C=10, class_weight=None, dual=auto, fit_intercept=False, intercept_scaling=2, loss=hinge, multi_class=crammer_singer, penalty=l1;, score=0.954 total time=   6.8s\n"
     ]
    },
    {
     "name": "stderr",
     "output_type": "stream",
     "text": [
      "C:\\Users\\never\\AppData\\Roaming\\Python\\Python311\\site-packages\\sklearn\\svm\\_base.py:1250: ConvergenceWarning: Liblinear failed to converge, increase the number of iterations.\n",
      "  warnings.warn(\n"
     ]
    },
    {
     "name": "stdout",
     "output_type": "stream",
     "text": [
      "[CV 2/5] END C=10, class_weight=None, dual=auto, fit_intercept=False, intercept_scaling=2, loss=hinge, multi_class=crammer_singer, penalty=l1;, score=0.950 total time=   9.4s\n"
     ]
    },
    {
     "name": "stderr",
     "output_type": "stream",
     "text": [
      "C:\\Users\\never\\AppData\\Roaming\\Python\\Python311\\site-packages\\sklearn\\svm\\_base.py:1250: ConvergenceWarning: Liblinear failed to converge, increase the number of iterations.\n",
      "  warnings.warn(\n"
     ]
    },
    {
     "name": "stdout",
     "output_type": "stream",
     "text": [
      "[CV 3/5] END C=10, class_weight=None, dual=auto, fit_intercept=False, intercept_scaling=2, loss=hinge, multi_class=crammer_singer, penalty=l1;, score=0.957 total time=   4.9s\n"
     ]
    },
    {
     "name": "stderr",
     "output_type": "stream",
     "text": [
      "C:\\Users\\never\\AppData\\Roaming\\Python\\Python311\\site-packages\\sklearn\\svm\\_base.py:1250: ConvergenceWarning: Liblinear failed to converge, increase the number of iterations.\n",
      "  warnings.warn(\n"
     ]
    },
    {
     "name": "stdout",
     "output_type": "stream",
     "text": [
      "[CV 4/5] END C=10, class_weight=None, dual=auto, fit_intercept=False, intercept_scaling=2, loss=hinge, multi_class=crammer_singer, penalty=l1;, score=0.957 total time=   4.3s\n"
     ]
    },
    {
     "name": "stderr",
     "output_type": "stream",
     "text": [
      "C:\\Users\\never\\AppData\\Roaming\\Python\\Python311\\site-packages\\sklearn\\svm\\_base.py:1250: ConvergenceWarning: Liblinear failed to converge, increase the number of iterations.\n",
      "  warnings.warn(\n"
     ]
    },
    {
     "name": "stdout",
     "output_type": "stream",
     "text": [
      "[CV 5/5] END C=10, class_weight=None, dual=auto, fit_intercept=False, intercept_scaling=2, loss=hinge, multi_class=crammer_singer, penalty=l1;, score=0.960 total time=   5.1s\n"
     ]
    },
    {
     "name": "stderr",
     "output_type": "stream",
     "text": [
      "C:\\Users\\never\\AppData\\Roaming\\Python\\Python311\\site-packages\\sklearn\\svm\\_base.py:1250: ConvergenceWarning: Liblinear failed to converge, increase the number of iterations.\n",
      "  warnings.warn(\n"
     ]
    },
    {
     "name": "stdout",
     "output_type": "stream",
     "text": [
      "[CV 1/5] END C=10, class_weight=None, dual=auto, fit_intercept=False, intercept_scaling=2, loss=hinge, multi_class=crammer_singer, penalty=l2;, score=0.954 total time=   6.8s\n"
     ]
    },
    {
     "name": "stderr",
     "output_type": "stream",
     "text": [
      "C:\\Users\\never\\AppData\\Roaming\\Python\\Python311\\site-packages\\sklearn\\svm\\_base.py:1250: ConvergenceWarning: Liblinear failed to converge, increase the number of iterations.\n",
      "  warnings.warn(\n"
     ]
    },
    {
     "name": "stdout",
     "output_type": "stream",
     "text": [
      "[CV 2/5] END C=10, class_weight=None, dual=auto, fit_intercept=False, intercept_scaling=2, loss=hinge, multi_class=crammer_singer, penalty=l2;, score=0.950 total time=   9.5s\n"
     ]
    },
    {
     "name": "stderr",
     "output_type": "stream",
     "text": [
      "C:\\Users\\never\\AppData\\Roaming\\Python\\Python311\\site-packages\\sklearn\\svm\\_base.py:1250: ConvergenceWarning: Liblinear failed to converge, increase the number of iterations.\n",
      "  warnings.warn(\n"
     ]
    },
    {
     "name": "stdout",
     "output_type": "stream",
     "text": [
      "[CV 3/5] END C=10, class_weight=None, dual=auto, fit_intercept=False, intercept_scaling=2, loss=hinge, multi_class=crammer_singer, penalty=l2;, score=0.957 total time=   4.8s\n"
     ]
    },
    {
     "name": "stderr",
     "output_type": "stream",
     "text": [
      "C:\\Users\\never\\AppData\\Roaming\\Python\\Python311\\site-packages\\sklearn\\svm\\_base.py:1250: ConvergenceWarning: Liblinear failed to converge, increase the number of iterations.\n",
      "  warnings.warn(\n"
     ]
    },
    {
     "name": "stdout",
     "output_type": "stream",
     "text": [
      "[CV 4/5] END C=10, class_weight=None, dual=auto, fit_intercept=False, intercept_scaling=2, loss=hinge, multi_class=crammer_singer, penalty=l2;, score=0.957 total time=   4.3s\n"
     ]
    },
    {
     "name": "stderr",
     "output_type": "stream",
     "text": [
      "C:\\Users\\never\\AppData\\Roaming\\Python\\Python311\\site-packages\\sklearn\\svm\\_base.py:1250: ConvergenceWarning: Liblinear failed to converge, increase the number of iterations.\n",
      "  warnings.warn(\n"
     ]
    },
    {
     "name": "stdout",
     "output_type": "stream",
     "text": [
      "[CV 5/5] END C=10, class_weight=None, dual=auto, fit_intercept=False, intercept_scaling=2, loss=hinge, multi_class=crammer_singer, penalty=l2;, score=0.960 total time=   5.1s\n",
      "[CV 1/5] END C=10, class_weight=None, dual=auto, fit_intercept=False, intercept_scaling=2, loss=squared_hinge, multi_class=ovr, penalty=l1;, score=0.954 total time=  10.1s\n",
      "[CV 2/5] END C=10, class_weight=None, dual=auto, fit_intercept=False, intercept_scaling=2, loss=squared_hinge, multi_class=ovr, penalty=l1;, score=0.956 total time=  10.3s\n",
      "[CV 3/5] END C=10, class_weight=None, dual=auto, fit_intercept=False, intercept_scaling=2, loss=squared_hinge, multi_class=ovr, penalty=l1;, score=0.959 total time=   9.5s\n",
      "[CV 4/5] END C=10, class_weight=None, dual=auto, fit_intercept=False, intercept_scaling=2, loss=squared_hinge, multi_class=ovr, penalty=l1;, score=0.956 total time=   9.7s\n",
      "[CV 5/5] END C=10, class_weight=None, dual=auto, fit_intercept=False, intercept_scaling=2, loss=squared_hinge, multi_class=ovr, penalty=l1;, score=0.961 total time=   9.2s\n",
      "[CV 1/5] END C=10, class_weight=None, dual=auto, fit_intercept=False, intercept_scaling=2, loss=squared_hinge, multi_class=ovr, penalty=l2;, score=0.954 total time=   7.1s\n",
      "[CV 2/5] END C=10, class_weight=None, dual=auto, fit_intercept=False, intercept_scaling=2, loss=squared_hinge, multi_class=ovr, penalty=l2;, score=0.949 total time=   7.4s\n",
      "[CV 3/5] END C=10, class_weight=None, dual=auto, fit_intercept=False, intercept_scaling=2, loss=squared_hinge, multi_class=ovr, penalty=l2;, score=0.956 total time=   7.1s\n",
      "[CV 4/5] END C=10, class_weight=None, dual=auto, fit_intercept=False, intercept_scaling=2, loss=squared_hinge, multi_class=ovr, penalty=l2;, score=0.959 total time=   6.7s\n",
      "[CV 5/5] END C=10, class_weight=None, dual=auto, fit_intercept=False, intercept_scaling=2, loss=squared_hinge, multi_class=ovr, penalty=l2;, score=0.960 total time=   6.8s\n"
     ]
    },
    {
     "name": "stderr",
     "output_type": "stream",
     "text": [
      "C:\\Users\\never\\AppData\\Roaming\\Python\\Python311\\site-packages\\sklearn\\svm\\_base.py:1250: ConvergenceWarning: Liblinear failed to converge, increase the number of iterations.\n",
      "  warnings.warn(\n"
     ]
    },
    {
     "name": "stdout",
     "output_type": "stream",
     "text": [
      "[CV 1/5] END C=10, class_weight=None, dual=auto, fit_intercept=False, intercept_scaling=2, loss=squared_hinge, multi_class=crammer_singer, penalty=l1;, score=0.954 total time=   6.8s\n"
     ]
    },
    {
     "name": "stderr",
     "output_type": "stream",
     "text": [
      "C:\\Users\\never\\AppData\\Roaming\\Python\\Python311\\site-packages\\sklearn\\svm\\_base.py:1250: ConvergenceWarning: Liblinear failed to converge, increase the number of iterations.\n",
      "  warnings.warn(\n"
     ]
    },
    {
     "name": "stdout",
     "output_type": "stream",
     "text": [
      "[CV 2/5] END C=10, class_weight=None, dual=auto, fit_intercept=False, intercept_scaling=2, loss=squared_hinge, multi_class=crammer_singer, penalty=l1;, score=0.950 total time=   9.4s\n"
     ]
    },
    {
     "name": "stderr",
     "output_type": "stream",
     "text": [
      "C:\\Users\\never\\AppData\\Roaming\\Python\\Python311\\site-packages\\sklearn\\svm\\_base.py:1250: ConvergenceWarning: Liblinear failed to converge, increase the number of iterations.\n",
      "  warnings.warn(\n"
     ]
    },
    {
     "name": "stdout",
     "output_type": "stream",
     "text": [
      "[CV 3/5] END C=10, class_weight=None, dual=auto, fit_intercept=False, intercept_scaling=2, loss=squared_hinge, multi_class=crammer_singer, penalty=l1;, score=0.957 total time=   4.9s\n"
     ]
    },
    {
     "name": "stderr",
     "output_type": "stream",
     "text": [
      "C:\\Users\\never\\AppData\\Roaming\\Python\\Python311\\site-packages\\sklearn\\svm\\_base.py:1250: ConvergenceWarning: Liblinear failed to converge, increase the number of iterations.\n",
      "  warnings.warn(\n"
     ]
    },
    {
     "name": "stdout",
     "output_type": "stream",
     "text": [
      "[CV 4/5] END C=10, class_weight=None, dual=auto, fit_intercept=False, intercept_scaling=2, loss=squared_hinge, multi_class=crammer_singer, penalty=l1;, score=0.957 total time=   4.3s\n"
     ]
    },
    {
     "name": "stderr",
     "output_type": "stream",
     "text": [
      "C:\\Users\\never\\AppData\\Roaming\\Python\\Python311\\site-packages\\sklearn\\svm\\_base.py:1250: ConvergenceWarning: Liblinear failed to converge, increase the number of iterations.\n",
      "  warnings.warn(\n"
     ]
    },
    {
     "name": "stdout",
     "output_type": "stream",
     "text": [
      "[CV 5/5] END C=10, class_weight=None, dual=auto, fit_intercept=False, intercept_scaling=2, loss=squared_hinge, multi_class=crammer_singer, penalty=l1;, score=0.960 total time=   5.1s\n"
     ]
    },
    {
     "name": "stderr",
     "output_type": "stream",
     "text": [
      "C:\\Users\\never\\AppData\\Roaming\\Python\\Python311\\site-packages\\sklearn\\svm\\_base.py:1250: ConvergenceWarning: Liblinear failed to converge, increase the number of iterations.\n",
      "  warnings.warn(\n"
     ]
    },
    {
     "name": "stdout",
     "output_type": "stream",
     "text": [
      "[CV 1/5] END C=10, class_weight=None, dual=auto, fit_intercept=False, intercept_scaling=2, loss=squared_hinge, multi_class=crammer_singer, penalty=l2;, score=0.954 total time=   6.8s\n"
     ]
    },
    {
     "name": "stderr",
     "output_type": "stream",
     "text": [
      "C:\\Users\\never\\AppData\\Roaming\\Python\\Python311\\site-packages\\sklearn\\svm\\_base.py:1250: ConvergenceWarning: Liblinear failed to converge, increase the number of iterations.\n",
      "  warnings.warn(\n"
     ]
    },
    {
     "name": "stdout",
     "output_type": "stream",
     "text": [
      "[CV 2/5] END C=10, class_weight=None, dual=auto, fit_intercept=False, intercept_scaling=2, loss=squared_hinge, multi_class=crammer_singer, penalty=l2;, score=0.950 total time=   9.4s\n"
     ]
    },
    {
     "name": "stderr",
     "output_type": "stream",
     "text": [
      "C:\\Users\\never\\AppData\\Roaming\\Python\\Python311\\site-packages\\sklearn\\svm\\_base.py:1250: ConvergenceWarning: Liblinear failed to converge, increase the number of iterations.\n",
      "  warnings.warn(\n"
     ]
    },
    {
     "name": "stdout",
     "output_type": "stream",
     "text": [
      "[CV 3/5] END C=10, class_weight=None, dual=auto, fit_intercept=False, intercept_scaling=2, loss=squared_hinge, multi_class=crammer_singer, penalty=l2;, score=0.957 total time=   4.9s\n"
     ]
    },
    {
     "name": "stderr",
     "output_type": "stream",
     "text": [
      "C:\\Users\\never\\AppData\\Roaming\\Python\\Python311\\site-packages\\sklearn\\svm\\_base.py:1250: ConvergenceWarning: Liblinear failed to converge, increase the number of iterations.\n",
      "  warnings.warn(\n"
     ]
    },
    {
     "name": "stdout",
     "output_type": "stream",
     "text": [
      "[CV 4/5] END C=10, class_weight=None, dual=auto, fit_intercept=False, intercept_scaling=2, loss=squared_hinge, multi_class=crammer_singer, penalty=l2;, score=0.957 total time=   4.3s\n"
     ]
    },
    {
     "name": "stderr",
     "output_type": "stream",
     "text": [
      "C:\\Users\\never\\AppData\\Roaming\\Python\\Python311\\site-packages\\sklearn\\svm\\_base.py:1250: ConvergenceWarning: Liblinear failed to converge, increase the number of iterations.\n",
      "  warnings.warn(\n"
     ]
    },
    {
     "name": "stdout",
     "output_type": "stream",
     "text": [
      "[CV 5/5] END C=10, class_weight=None, dual=auto, fit_intercept=False, intercept_scaling=2, loss=squared_hinge, multi_class=crammer_singer, penalty=l2;, score=0.960 total time=   5.1s\n",
      "[CV 1/5] END C=10, class_weight=balanced, dual=auto, fit_intercept=True, intercept_scaling=1, loss=hinge, multi_class=ovr, penalty=l1;, score=nan total time=   1.1s\n",
      "[CV 2/5] END C=10, class_weight=balanced, dual=auto, fit_intercept=True, intercept_scaling=1, loss=hinge, multi_class=ovr, penalty=l1;, score=nan total time=   1.1s\n",
      "[CV 3/5] END C=10, class_weight=balanced, dual=auto, fit_intercept=True, intercept_scaling=1, loss=hinge, multi_class=ovr, penalty=l1;, score=nan total time=   1.0s\n",
      "[CV 4/5] END C=10, class_weight=balanced, dual=auto, fit_intercept=True, intercept_scaling=1, loss=hinge, multi_class=ovr, penalty=l1;, score=nan total time=   1.0s\n",
      "[CV 5/5] END C=10, class_weight=balanced, dual=auto, fit_intercept=True, intercept_scaling=1, loss=hinge, multi_class=ovr, penalty=l1;, score=nan total time=   1.0s\n",
      "[CV 1/5] END C=10, class_weight=balanced, dual=auto, fit_intercept=True, intercept_scaling=1, loss=hinge, multi_class=ovr, penalty=l2;, score=0.958 total time=   4.7s\n",
      "[CV 2/5] END C=10, class_weight=balanced, dual=auto, fit_intercept=True, intercept_scaling=1, loss=hinge, multi_class=ovr, penalty=l2;, score=0.959 total time=   4.8s\n",
      "[CV 3/5] END C=10, class_weight=balanced, dual=auto, fit_intercept=True, intercept_scaling=1, loss=hinge, multi_class=ovr, penalty=l2;, score=0.963 total time=   5.0s\n",
      "[CV 4/5] END C=10, class_weight=balanced, dual=auto, fit_intercept=True, intercept_scaling=1, loss=hinge, multi_class=ovr, penalty=l2;, score=0.965 total time=   4.3s\n",
      "[CV 5/5] END C=10, class_weight=balanced, dual=auto, fit_intercept=True, intercept_scaling=1, loss=hinge, multi_class=ovr, penalty=l2;, score=0.967 total time=   5.5s\n"
     ]
    },
    {
     "name": "stderr",
     "output_type": "stream",
     "text": [
      "C:\\Users\\never\\AppData\\Roaming\\Python\\Python311\\site-packages\\sklearn\\svm\\_base.py:1250: ConvergenceWarning: Liblinear failed to converge, increase the number of iterations.\n",
      "  warnings.warn(\n"
     ]
    },
    {
     "name": "stdout",
     "output_type": "stream",
     "text": [
      "[CV 1/5] END C=10, class_weight=balanced, dual=auto, fit_intercept=True, intercept_scaling=1, loss=hinge, multi_class=crammer_singer, penalty=l1;, score=0.961 total time=   8.8s\n"
     ]
    },
    {
     "name": "stderr",
     "output_type": "stream",
     "text": [
      "C:\\Users\\never\\AppData\\Roaming\\Python\\Python311\\site-packages\\sklearn\\svm\\_base.py:1250: ConvergenceWarning: Liblinear failed to converge, increase the number of iterations.\n",
      "  warnings.warn(\n"
     ]
    },
    {
     "name": "stdout",
     "output_type": "stream",
     "text": [
      "[CV 2/5] END C=10, class_weight=balanced, dual=auto, fit_intercept=True, intercept_scaling=1, loss=hinge, multi_class=crammer_singer, penalty=l1;, score=0.959 total time=   6.3s\n"
     ]
    },
    {
     "name": "stderr",
     "output_type": "stream",
     "text": [
      "C:\\Users\\never\\AppData\\Roaming\\Python\\Python311\\site-packages\\sklearn\\svm\\_base.py:1250: ConvergenceWarning: Liblinear failed to converge, increase the number of iterations.\n",
      "  warnings.warn(\n"
     ]
    },
    {
     "name": "stdout",
     "output_type": "stream",
     "text": [
      "[CV 3/5] END C=10, class_weight=balanced, dual=auto, fit_intercept=True, intercept_scaling=1, loss=hinge, multi_class=crammer_singer, penalty=l1;, score=0.965 total time=   9.5s\n"
     ]
    },
    {
     "name": "stderr",
     "output_type": "stream",
     "text": [
      "C:\\Users\\never\\AppData\\Roaming\\Python\\Python311\\site-packages\\sklearn\\svm\\_base.py:1250: ConvergenceWarning: Liblinear failed to converge, increase the number of iterations.\n",
      "  warnings.warn(\n"
     ]
    },
    {
     "name": "stdout",
     "output_type": "stream",
     "text": [
      "[CV 4/5] END C=10, class_weight=balanced, dual=auto, fit_intercept=True, intercept_scaling=1, loss=hinge, multi_class=crammer_singer, penalty=l1;, score=0.963 total time=  10.9s\n"
     ]
    },
    {
     "name": "stderr",
     "output_type": "stream",
     "text": [
      "C:\\Users\\never\\AppData\\Roaming\\Python\\Python311\\site-packages\\sklearn\\svm\\_base.py:1250: ConvergenceWarning: Liblinear failed to converge, increase the number of iterations.\n",
      "  warnings.warn(\n"
     ]
    },
    {
     "name": "stdout",
     "output_type": "stream",
     "text": [
      "[CV 5/5] END C=10, class_weight=balanced, dual=auto, fit_intercept=True, intercept_scaling=1, loss=hinge, multi_class=crammer_singer, penalty=l1;, score=0.967 total time=   7.9s\n"
     ]
    },
    {
     "name": "stderr",
     "output_type": "stream",
     "text": [
      "C:\\Users\\never\\AppData\\Roaming\\Python\\Python311\\site-packages\\sklearn\\svm\\_base.py:1250: ConvergenceWarning: Liblinear failed to converge, increase the number of iterations.\n",
      "  warnings.warn(\n"
     ]
    },
    {
     "name": "stdout",
     "output_type": "stream",
     "text": [
      "[CV 1/5] END C=10, class_weight=balanced, dual=auto, fit_intercept=True, intercept_scaling=1, loss=hinge, multi_class=crammer_singer, penalty=l2;, score=0.961 total time=   8.8s\n"
     ]
    },
    {
     "name": "stderr",
     "output_type": "stream",
     "text": [
      "C:\\Users\\never\\AppData\\Roaming\\Python\\Python311\\site-packages\\sklearn\\svm\\_base.py:1250: ConvergenceWarning: Liblinear failed to converge, increase the number of iterations.\n",
      "  warnings.warn(\n"
     ]
    },
    {
     "name": "stdout",
     "output_type": "stream",
     "text": [
      "[CV 2/5] END C=10, class_weight=balanced, dual=auto, fit_intercept=True, intercept_scaling=1, loss=hinge, multi_class=crammer_singer, penalty=l2;, score=0.959 total time=   6.4s\n"
     ]
    },
    {
     "name": "stderr",
     "output_type": "stream",
     "text": [
      "C:\\Users\\never\\AppData\\Roaming\\Python\\Python311\\site-packages\\sklearn\\svm\\_base.py:1250: ConvergenceWarning: Liblinear failed to converge, increase the number of iterations.\n",
      "  warnings.warn(\n"
     ]
    },
    {
     "name": "stdout",
     "output_type": "stream",
     "text": [
      "[CV 3/5] END C=10, class_weight=balanced, dual=auto, fit_intercept=True, intercept_scaling=1, loss=hinge, multi_class=crammer_singer, penalty=l2;, score=0.965 total time=  10.4s\n"
     ]
    },
    {
     "name": "stderr",
     "output_type": "stream",
     "text": [
      "C:\\Users\\never\\AppData\\Roaming\\Python\\Python311\\site-packages\\sklearn\\svm\\_base.py:1250: ConvergenceWarning: Liblinear failed to converge, increase the number of iterations.\n",
      "  warnings.warn(\n"
     ]
    },
    {
     "name": "stdout",
     "output_type": "stream",
     "text": [
      "[CV 4/5] END C=10, class_weight=balanced, dual=auto, fit_intercept=True, intercept_scaling=1, loss=hinge, multi_class=crammer_singer, penalty=l2;, score=0.963 total time=  11.6s\n"
     ]
    },
    {
     "name": "stderr",
     "output_type": "stream",
     "text": [
      "C:\\Users\\never\\AppData\\Roaming\\Python\\Python311\\site-packages\\sklearn\\svm\\_base.py:1250: ConvergenceWarning: Liblinear failed to converge, increase the number of iterations.\n",
      "  warnings.warn(\n"
     ]
    },
    {
     "name": "stdout",
     "output_type": "stream",
     "text": [
      "[CV 5/5] END C=10, class_weight=balanced, dual=auto, fit_intercept=True, intercept_scaling=1, loss=hinge, multi_class=crammer_singer, penalty=l2;, score=0.967 total time=   7.9s\n",
      "[CV 1/5] END C=10, class_weight=balanced, dual=auto, fit_intercept=True, intercept_scaling=1, loss=squared_hinge, multi_class=ovr, penalty=l1;, score=0.967 total time=  16.1s\n",
      "[CV 2/5] END C=10, class_weight=balanced, dual=auto, fit_intercept=True, intercept_scaling=1, loss=squared_hinge, multi_class=ovr, penalty=l1;, score=0.964 total time=  16.5s\n",
      "[CV 3/5] END C=10, class_weight=balanced, dual=auto, fit_intercept=True, intercept_scaling=1, loss=squared_hinge, multi_class=ovr, penalty=l1;, score=0.969 total time=  16.5s\n",
      "[CV 4/5] END C=10, class_weight=balanced, dual=auto, fit_intercept=True, intercept_scaling=1, loss=squared_hinge, multi_class=ovr, penalty=l1;, score=0.970 total time=  15.9s\n",
      "[CV 5/5] END C=10, class_weight=balanced, dual=auto, fit_intercept=True, intercept_scaling=1, loss=squared_hinge, multi_class=ovr, penalty=l1;, score=0.970 total time=  15.1s\n",
      "[CV 1/5] END C=10, class_weight=balanced, dual=auto, fit_intercept=True, intercept_scaling=1, loss=squared_hinge, multi_class=ovr, penalty=l2;, score=0.961 total time=   5.1s\n",
      "[CV 2/5] END C=10, class_weight=balanced, dual=auto, fit_intercept=True, intercept_scaling=1, loss=squared_hinge, multi_class=ovr, penalty=l2;, score=0.958 total time=   5.5s\n",
      "[CV 3/5] END C=10, class_weight=balanced, dual=auto, fit_intercept=True, intercept_scaling=1, loss=squared_hinge, multi_class=ovr, penalty=l2;, score=0.963 total time=   5.4s\n",
      "[CV 4/5] END C=10, class_weight=balanced, dual=auto, fit_intercept=True, intercept_scaling=1, loss=squared_hinge, multi_class=ovr, penalty=l2;, score=0.966 total time=   5.2s\n",
      "[CV 5/5] END C=10, class_weight=balanced, dual=auto, fit_intercept=True, intercept_scaling=1, loss=squared_hinge, multi_class=ovr, penalty=l2;, score=0.967 total time=   5.5s\n"
     ]
    },
    {
     "name": "stderr",
     "output_type": "stream",
     "text": [
      "C:\\Users\\never\\AppData\\Roaming\\Python\\Python311\\site-packages\\sklearn\\svm\\_base.py:1250: ConvergenceWarning: Liblinear failed to converge, increase the number of iterations.\n",
      "  warnings.warn(\n"
     ]
    },
    {
     "name": "stdout",
     "output_type": "stream",
     "text": [
      "[CV 1/5] END C=10, class_weight=balanced, dual=auto, fit_intercept=True, intercept_scaling=1, loss=squared_hinge, multi_class=crammer_singer, penalty=l1;, score=0.961 total time=   8.8s\n"
     ]
    },
    {
     "name": "stderr",
     "output_type": "stream",
     "text": [
      "C:\\Users\\never\\AppData\\Roaming\\Python\\Python311\\site-packages\\sklearn\\svm\\_base.py:1250: ConvergenceWarning: Liblinear failed to converge, increase the number of iterations.\n",
      "  warnings.warn(\n"
     ]
    },
    {
     "name": "stdout",
     "output_type": "stream",
     "text": [
      "[CV 2/5] END C=10, class_weight=balanced, dual=auto, fit_intercept=True, intercept_scaling=1, loss=squared_hinge, multi_class=crammer_singer, penalty=l1;, score=0.959 total time=   6.2s\n"
     ]
    },
    {
     "name": "stderr",
     "output_type": "stream",
     "text": [
      "C:\\Users\\never\\AppData\\Roaming\\Python\\Python311\\site-packages\\sklearn\\svm\\_base.py:1250: ConvergenceWarning: Liblinear failed to converge, increase the number of iterations.\n",
      "  warnings.warn(\n"
     ]
    },
    {
     "name": "stdout",
     "output_type": "stream",
     "text": [
      "[CV 3/5] END C=10, class_weight=balanced, dual=auto, fit_intercept=True, intercept_scaling=1, loss=squared_hinge, multi_class=crammer_singer, penalty=l1;, score=0.965 total time=   9.0s\n"
     ]
    },
    {
     "name": "stderr",
     "output_type": "stream",
     "text": [
      "C:\\Users\\never\\AppData\\Roaming\\Python\\Python311\\site-packages\\sklearn\\svm\\_base.py:1250: ConvergenceWarning: Liblinear failed to converge, increase the number of iterations.\n",
      "  warnings.warn(\n"
     ]
    },
    {
     "name": "stdout",
     "output_type": "stream",
     "text": [
      "[CV 4/5] END C=10, class_weight=balanced, dual=auto, fit_intercept=True, intercept_scaling=1, loss=squared_hinge, multi_class=crammer_singer, penalty=l1;, score=0.963 total time=  11.0s\n"
     ]
    },
    {
     "name": "stderr",
     "output_type": "stream",
     "text": [
      "C:\\Users\\never\\AppData\\Roaming\\Python\\Python311\\site-packages\\sklearn\\svm\\_base.py:1250: ConvergenceWarning: Liblinear failed to converge, increase the number of iterations.\n",
      "  warnings.warn(\n"
     ]
    },
    {
     "name": "stdout",
     "output_type": "stream",
     "text": [
      "[CV 5/5] END C=10, class_weight=balanced, dual=auto, fit_intercept=True, intercept_scaling=1, loss=squared_hinge, multi_class=crammer_singer, penalty=l1;, score=0.967 total time=   7.9s\n"
     ]
    },
    {
     "name": "stderr",
     "output_type": "stream",
     "text": [
      "C:\\Users\\never\\AppData\\Roaming\\Python\\Python311\\site-packages\\sklearn\\svm\\_base.py:1250: ConvergenceWarning: Liblinear failed to converge, increase the number of iterations.\n",
      "  warnings.warn(\n"
     ]
    },
    {
     "name": "stdout",
     "output_type": "stream",
     "text": [
      "[CV 1/5] END C=10, class_weight=balanced, dual=auto, fit_intercept=True, intercept_scaling=1, loss=squared_hinge, multi_class=crammer_singer, penalty=l2;, score=0.961 total time=   8.8s\n"
     ]
    },
    {
     "name": "stderr",
     "output_type": "stream",
     "text": [
      "C:\\Users\\never\\AppData\\Roaming\\Python\\Python311\\site-packages\\sklearn\\svm\\_base.py:1250: ConvergenceWarning: Liblinear failed to converge, increase the number of iterations.\n",
      "  warnings.warn(\n"
     ]
    },
    {
     "name": "stdout",
     "output_type": "stream",
     "text": [
      "[CV 2/5] END C=10, class_weight=balanced, dual=auto, fit_intercept=True, intercept_scaling=1, loss=squared_hinge, multi_class=crammer_singer, penalty=l2;, score=0.959 total time=   6.2s\n"
     ]
    },
    {
     "name": "stderr",
     "output_type": "stream",
     "text": [
      "C:\\Users\\never\\AppData\\Roaming\\Python\\Python311\\site-packages\\sklearn\\svm\\_base.py:1250: ConvergenceWarning: Liblinear failed to converge, increase the number of iterations.\n",
      "  warnings.warn(\n"
     ]
    },
    {
     "name": "stdout",
     "output_type": "stream",
     "text": [
      "[CV 3/5] END C=10, class_weight=balanced, dual=auto, fit_intercept=True, intercept_scaling=1, loss=squared_hinge, multi_class=crammer_singer, penalty=l2;, score=0.965 total time=   9.0s\n"
     ]
    },
    {
     "name": "stderr",
     "output_type": "stream",
     "text": [
      "C:\\Users\\never\\AppData\\Roaming\\Python\\Python311\\site-packages\\sklearn\\svm\\_base.py:1250: ConvergenceWarning: Liblinear failed to converge, increase the number of iterations.\n",
      "  warnings.warn(\n"
     ]
    },
    {
     "name": "stdout",
     "output_type": "stream",
     "text": [
      "[CV 4/5] END C=10, class_weight=balanced, dual=auto, fit_intercept=True, intercept_scaling=1, loss=squared_hinge, multi_class=crammer_singer, penalty=l2;, score=0.963 total time=  10.9s\n"
     ]
    },
    {
     "name": "stderr",
     "output_type": "stream",
     "text": [
      "C:\\Users\\never\\AppData\\Roaming\\Python\\Python311\\site-packages\\sklearn\\svm\\_base.py:1250: ConvergenceWarning: Liblinear failed to converge, increase the number of iterations.\n",
      "  warnings.warn(\n"
     ]
    },
    {
     "name": "stdout",
     "output_type": "stream",
     "text": [
      "[CV 5/5] END C=10, class_weight=balanced, dual=auto, fit_intercept=True, intercept_scaling=1, loss=squared_hinge, multi_class=crammer_singer, penalty=l2;, score=0.967 total time=   7.9s\n",
      "[CV 1/5] END C=10, class_weight=balanced, dual=auto, fit_intercept=True, intercept_scaling=1.5, loss=hinge, multi_class=ovr, penalty=l1;, score=nan total time=   1.0s\n",
      "[CV 2/5] END C=10, class_weight=balanced, dual=auto, fit_intercept=True, intercept_scaling=1.5, loss=hinge, multi_class=ovr, penalty=l1;, score=nan total time=   1.1s\n",
      "[CV 3/5] END C=10, class_weight=balanced, dual=auto, fit_intercept=True, intercept_scaling=1.5, loss=hinge, multi_class=ovr, penalty=l1;, score=nan total time=   1.0s\n",
      "[CV 4/5] END C=10, class_weight=balanced, dual=auto, fit_intercept=True, intercept_scaling=1.5, loss=hinge, multi_class=ovr, penalty=l1;, score=nan total time=   1.0s\n",
      "[CV 5/5] END C=10, class_weight=balanced, dual=auto, fit_intercept=True, intercept_scaling=1.5, loss=hinge, multi_class=ovr, penalty=l1;, score=nan total time=   1.0s\n",
      "[CV 1/5] END C=10, class_weight=balanced, dual=auto, fit_intercept=True, intercept_scaling=1.5, loss=hinge, multi_class=ovr, penalty=l2;, score=0.958 total time=   6.5s\n",
      "[CV 2/5] END C=10, class_weight=balanced, dual=auto, fit_intercept=True, intercept_scaling=1.5, loss=hinge, multi_class=ovr, penalty=l2;, score=0.959 total time=   6.1s\n",
      "[CV 3/5] END C=10, class_weight=balanced, dual=auto, fit_intercept=True, intercept_scaling=1.5, loss=hinge, multi_class=ovr, penalty=l2;, score=0.963 total time=   7.8s\n",
      "[CV 4/5] END C=10, class_weight=balanced, dual=auto, fit_intercept=True, intercept_scaling=1.5, loss=hinge, multi_class=ovr, penalty=l2;, score=0.965 total time=   6.3s\n",
      "[CV 5/5] END C=10, class_weight=balanced, dual=auto, fit_intercept=True, intercept_scaling=1.5, loss=hinge, multi_class=ovr, penalty=l2;, score=0.967 total time=   7.4s\n"
     ]
    },
    {
     "name": "stderr",
     "output_type": "stream",
     "text": [
      "C:\\Users\\never\\AppData\\Roaming\\Python\\Python311\\site-packages\\sklearn\\svm\\_base.py:1250: ConvergenceWarning: Liblinear failed to converge, increase the number of iterations.\n",
      "  warnings.warn(\n"
     ]
    },
    {
     "name": "stdout",
     "output_type": "stream",
     "text": [
      "[CV 1/5] END C=10, class_weight=balanced, dual=auto, fit_intercept=True, intercept_scaling=1.5, loss=hinge, multi_class=crammer_singer, penalty=l1;, score=0.961 total time=  14.5s\n"
     ]
    },
    {
     "name": "stderr",
     "output_type": "stream",
     "text": [
      "C:\\Users\\never\\AppData\\Roaming\\Python\\Python311\\site-packages\\sklearn\\svm\\_base.py:1250: ConvergenceWarning: Liblinear failed to converge, increase the number of iterations.\n",
      "  warnings.warn(\n"
     ]
    },
    {
     "name": "stdout",
     "output_type": "stream",
     "text": [
      "[CV 2/5] END C=10, class_weight=balanced, dual=auto, fit_intercept=True, intercept_scaling=1.5, loss=hinge, multi_class=crammer_singer, penalty=l1;, score=0.959 total time=   9.2s\n"
     ]
    },
    {
     "name": "stderr",
     "output_type": "stream",
     "text": [
      "C:\\Users\\never\\AppData\\Roaming\\Python\\Python311\\site-packages\\sklearn\\svm\\_base.py:1250: ConvergenceWarning: Liblinear failed to converge, increase the number of iterations.\n",
      "  warnings.warn(\n"
     ]
    },
    {
     "name": "stdout",
     "output_type": "stream",
     "text": [
      "[CV 3/5] END C=10, class_weight=balanced, dual=auto, fit_intercept=True, intercept_scaling=1.5, loss=hinge, multi_class=crammer_singer, penalty=l1;, score=0.965 total time=  13.2s\n"
     ]
    },
    {
     "name": "stderr",
     "output_type": "stream",
     "text": [
      "C:\\Users\\never\\AppData\\Roaming\\Python\\Python311\\site-packages\\sklearn\\svm\\_base.py:1250: ConvergenceWarning: Liblinear failed to converge, increase the number of iterations.\n",
      "  warnings.warn(\n"
     ]
    },
    {
     "name": "stdout",
     "output_type": "stream",
     "text": [
      "[CV 4/5] END C=10, class_weight=balanced, dual=auto, fit_intercept=True, intercept_scaling=1.5, loss=hinge, multi_class=crammer_singer, penalty=l1;, score=0.963 total time=  15.7s\n"
     ]
    },
    {
     "name": "stderr",
     "output_type": "stream",
     "text": [
      "C:\\Users\\never\\AppData\\Roaming\\Python\\Python311\\site-packages\\sklearn\\svm\\_base.py:1250: ConvergenceWarning: Liblinear failed to converge, increase the number of iterations.\n",
      "  warnings.warn(\n"
     ]
    },
    {
     "name": "stdout",
     "output_type": "stream",
     "text": [
      "[CV 5/5] END C=10, class_weight=balanced, dual=auto, fit_intercept=True, intercept_scaling=1.5, loss=hinge, multi_class=crammer_singer, penalty=l1;, score=0.967 total time=  13.6s\n"
     ]
    },
    {
     "name": "stderr",
     "output_type": "stream",
     "text": [
      "C:\\Users\\never\\AppData\\Roaming\\Python\\Python311\\site-packages\\sklearn\\svm\\_base.py:1250: ConvergenceWarning: Liblinear failed to converge, increase the number of iterations.\n",
      "  warnings.warn(\n"
     ]
    },
    {
     "name": "stdout",
     "output_type": "stream",
     "text": [
      "[CV 1/5] END C=10, class_weight=balanced, dual=auto, fit_intercept=True, intercept_scaling=1.5, loss=hinge, multi_class=crammer_singer, penalty=l2;, score=0.961 total time=  14.5s\n"
     ]
    },
    {
     "name": "stderr",
     "output_type": "stream",
     "text": [
      "C:\\Users\\never\\AppData\\Roaming\\Python\\Python311\\site-packages\\sklearn\\svm\\_base.py:1250: ConvergenceWarning: Liblinear failed to converge, increase the number of iterations.\n",
      "  warnings.warn(\n"
     ]
    },
    {
     "name": "stdout",
     "output_type": "stream",
     "text": [
      "[CV 2/5] END C=10, class_weight=balanced, dual=auto, fit_intercept=True, intercept_scaling=1.5, loss=hinge, multi_class=crammer_singer, penalty=l2;, score=0.959 total time=   9.2s\n"
     ]
    },
    {
     "name": "stderr",
     "output_type": "stream",
     "text": [
      "C:\\Users\\never\\AppData\\Roaming\\Python\\Python311\\site-packages\\sklearn\\svm\\_base.py:1250: ConvergenceWarning: Liblinear failed to converge, increase the number of iterations.\n",
      "  warnings.warn(\n"
     ]
    },
    {
     "name": "stdout",
     "output_type": "stream",
     "text": [
      "[CV 3/5] END C=10, class_weight=balanced, dual=auto, fit_intercept=True, intercept_scaling=1.5, loss=hinge, multi_class=crammer_singer, penalty=l2;, score=0.965 total time=  13.2s\n"
     ]
    },
    {
     "name": "stderr",
     "output_type": "stream",
     "text": [
      "C:\\Users\\never\\AppData\\Roaming\\Python\\Python311\\site-packages\\sklearn\\svm\\_base.py:1250: ConvergenceWarning: Liblinear failed to converge, increase the number of iterations.\n",
      "  warnings.warn(\n"
     ]
    },
    {
     "name": "stdout",
     "output_type": "stream",
     "text": [
      "[CV 4/5] END C=10, class_weight=balanced, dual=auto, fit_intercept=True, intercept_scaling=1.5, loss=hinge, multi_class=crammer_singer, penalty=l2;, score=0.963 total time=  15.8s\n"
     ]
    },
    {
     "name": "stderr",
     "output_type": "stream",
     "text": [
      "C:\\Users\\never\\AppData\\Roaming\\Python\\Python311\\site-packages\\sklearn\\svm\\_base.py:1250: ConvergenceWarning: Liblinear failed to converge, increase the number of iterations.\n",
      "  warnings.warn(\n"
     ]
    },
    {
     "name": "stdout",
     "output_type": "stream",
     "text": [
      "[CV 5/5] END C=10, class_weight=balanced, dual=auto, fit_intercept=True, intercept_scaling=1.5, loss=hinge, multi_class=crammer_singer, penalty=l2;, score=0.967 total time=  13.5s\n",
      "[CV 1/5] END C=10, class_weight=balanced, dual=auto, fit_intercept=True, intercept_scaling=1.5, loss=squared_hinge, multi_class=ovr, penalty=l1;, score=0.967 total time=  16.3s\n",
      "[CV 2/5] END C=10, class_weight=balanced, dual=auto, fit_intercept=True, intercept_scaling=1.5, loss=squared_hinge, multi_class=ovr, penalty=l1;, score=0.965 total time=  16.6s\n",
      "[CV 3/5] END C=10, class_weight=balanced, dual=auto, fit_intercept=True, intercept_scaling=1.5, loss=squared_hinge, multi_class=ovr, penalty=l1;, score=0.969 total time=  17.2s\n",
      "[CV 4/5] END C=10, class_weight=balanced, dual=auto, fit_intercept=True, intercept_scaling=1.5, loss=squared_hinge, multi_class=ovr, penalty=l1;, score=0.969 total time=  16.3s\n",
      "[CV 5/5] END C=10, class_weight=balanced, dual=auto, fit_intercept=True, intercept_scaling=1.5, loss=squared_hinge, multi_class=ovr, penalty=l1;, score=0.970 total time=  15.6s\n",
      "[CV 1/5] END C=10, class_weight=balanced, dual=auto, fit_intercept=True, intercept_scaling=1.5, loss=squared_hinge, multi_class=ovr, penalty=l2;, score=0.961 total time=   4.5s\n",
      "[CV 2/5] END C=10, class_weight=balanced, dual=auto, fit_intercept=True, intercept_scaling=1.5, loss=squared_hinge, multi_class=ovr, penalty=l2;, score=0.959 total time=   5.0s\n",
      "[CV 3/5] END C=10, class_weight=balanced, dual=auto, fit_intercept=True, intercept_scaling=1.5, loss=squared_hinge, multi_class=ovr, penalty=l2;, score=0.964 total time=   4.7s\n",
      "[CV 4/5] END C=10, class_weight=balanced, dual=auto, fit_intercept=True, intercept_scaling=1.5, loss=squared_hinge, multi_class=ovr, penalty=l2;, score=0.966 total time=   5.0s\n",
      "[CV 5/5] END C=10, class_weight=balanced, dual=auto, fit_intercept=True, intercept_scaling=1.5, loss=squared_hinge, multi_class=ovr, penalty=l2;, score=0.968 total time=   4.7s\n"
     ]
    },
    {
     "name": "stderr",
     "output_type": "stream",
     "text": [
      "C:\\Users\\never\\AppData\\Roaming\\Python\\Python311\\site-packages\\sklearn\\svm\\_base.py:1250: ConvergenceWarning: Liblinear failed to converge, increase the number of iterations.\n",
      "  warnings.warn(\n"
     ]
    },
    {
     "name": "stdout",
     "output_type": "stream",
     "text": [
      "[CV 1/5] END C=10, class_weight=balanced, dual=auto, fit_intercept=True, intercept_scaling=1.5, loss=squared_hinge, multi_class=crammer_singer, penalty=l1;, score=0.961 total time=  14.5s\n"
     ]
    },
    {
     "name": "stderr",
     "output_type": "stream",
     "text": [
      "C:\\Users\\never\\AppData\\Roaming\\Python\\Python311\\site-packages\\sklearn\\svm\\_base.py:1250: ConvergenceWarning: Liblinear failed to converge, increase the number of iterations.\n",
      "  warnings.warn(\n"
     ]
    },
    {
     "name": "stdout",
     "output_type": "stream",
     "text": [
      "[CV 2/5] END C=10, class_weight=balanced, dual=auto, fit_intercept=True, intercept_scaling=1.5, loss=squared_hinge, multi_class=crammer_singer, penalty=l1;, score=0.959 total time=   9.1s\n"
     ]
    },
    {
     "name": "stderr",
     "output_type": "stream",
     "text": [
      "C:\\Users\\never\\AppData\\Roaming\\Python\\Python311\\site-packages\\sklearn\\svm\\_base.py:1250: ConvergenceWarning: Liblinear failed to converge, increase the number of iterations.\n",
      "  warnings.warn(\n"
     ]
    },
    {
     "name": "stdout",
     "output_type": "stream",
     "text": [
      "[CV 3/5] END C=10, class_weight=balanced, dual=auto, fit_intercept=True, intercept_scaling=1.5, loss=squared_hinge, multi_class=crammer_singer, penalty=l1;, score=0.965 total time=  13.1s\n"
     ]
    },
    {
     "name": "stderr",
     "output_type": "stream",
     "text": [
      "C:\\Users\\never\\AppData\\Roaming\\Python\\Python311\\site-packages\\sklearn\\svm\\_base.py:1250: ConvergenceWarning: Liblinear failed to converge, increase the number of iterations.\n",
      "  warnings.warn(\n"
     ]
    },
    {
     "name": "stdout",
     "output_type": "stream",
     "text": [
      "[CV 4/5] END C=10, class_weight=balanced, dual=auto, fit_intercept=True, intercept_scaling=1.5, loss=squared_hinge, multi_class=crammer_singer, penalty=l1;, score=0.963 total time=  15.8s\n"
     ]
    },
    {
     "name": "stderr",
     "output_type": "stream",
     "text": [
      "C:\\Users\\never\\AppData\\Roaming\\Python\\Python311\\site-packages\\sklearn\\svm\\_base.py:1250: ConvergenceWarning: Liblinear failed to converge, increase the number of iterations.\n",
      "  warnings.warn(\n"
     ]
    },
    {
     "name": "stdout",
     "output_type": "stream",
     "text": [
      "[CV 5/5] END C=10, class_weight=balanced, dual=auto, fit_intercept=True, intercept_scaling=1.5, loss=squared_hinge, multi_class=crammer_singer, penalty=l1;, score=0.967 total time=  13.5s\n"
     ]
    },
    {
     "name": "stderr",
     "output_type": "stream",
     "text": [
      "C:\\Users\\never\\AppData\\Roaming\\Python\\Python311\\site-packages\\sklearn\\svm\\_base.py:1250: ConvergenceWarning: Liblinear failed to converge, increase the number of iterations.\n",
      "  warnings.warn(\n"
     ]
    },
    {
     "name": "stdout",
     "output_type": "stream",
     "text": [
      "[CV 1/5] END C=10, class_weight=balanced, dual=auto, fit_intercept=True, intercept_scaling=1.5, loss=squared_hinge, multi_class=crammer_singer, penalty=l2;, score=0.961 total time=  14.5s\n"
     ]
    },
    {
     "name": "stderr",
     "output_type": "stream",
     "text": [
      "C:\\Users\\never\\AppData\\Roaming\\Python\\Python311\\site-packages\\sklearn\\svm\\_base.py:1250: ConvergenceWarning: Liblinear failed to converge, increase the number of iterations.\n",
      "  warnings.warn(\n"
     ]
    },
    {
     "name": "stdout",
     "output_type": "stream",
     "text": [
      "[CV 2/5] END C=10, class_weight=balanced, dual=auto, fit_intercept=True, intercept_scaling=1.5, loss=squared_hinge, multi_class=crammer_singer, penalty=l2;, score=0.959 total time=   9.1s\n"
     ]
    },
    {
     "name": "stderr",
     "output_type": "stream",
     "text": [
      "C:\\Users\\never\\AppData\\Roaming\\Python\\Python311\\site-packages\\sklearn\\svm\\_base.py:1250: ConvergenceWarning: Liblinear failed to converge, increase the number of iterations.\n",
      "  warnings.warn(\n"
     ]
    },
    {
     "name": "stdout",
     "output_type": "stream",
     "text": [
      "[CV 3/5] END C=10, class_weight=balanced, dual=auto, fit_intercept=True, intercept_scaling=1.5, loss=squared_hinge, multi_class=crammer_singer, penalty=l2;, score=0.965 total time=  13.1s\n"
     ]
    },
    {
     "name": "stderr",
     "output_type": "stream",
     "text": [
      "C:\\Users\\never\\AppData\\Roaming\\Python\\Python311\\site-packages\\sklearn\\svm\\_base.py:1250: ConvergenceWarning: Liblinear failed to converge, increase the number of iterations.\n",
      "  warnings.warn(\n"
     ]
    },
    {
     "name": "stdout",
     "output_type": "stream",
     "text": [
      "[CV 4/5] END C=10, class_weight=balanced, dual=auto, fit_intercept=True, intercept_scaling=1.5, loss=squared_hinge, multi_class=crammer_singer, penalty=l2;, score=0.963 total time=  15.8s\n"
     ]
    },
    {
     "name": "stderr",
     "output_type": "stream",
     "text": [
      "C:\\Users\\never\\AppData\\Roaming\\Python\\Python311\\site-packages\\sklearn\\svm\\_base.py:1250: ConvergenceWarning: Liblinear failed to converge, increase the number of iterations.\n",
      "  warnings.warn(\n"
     ]
    },
    {
     "name": "stdout",
     "output_type": "stream",
     "text": [
      "[CV 5/5] END C=10, class_weight=balanced, dual=auto, fit_intercept=True, intercept_scaling=1.5, loss=squared_hinge, multi_class=crammer_singer, penalty=l2;, score=0.967 total time=  13.6s\n",
      "[CV 1/5] END C=10, class_weight=balanced, dual=auto, fit_intercept=True, intercept_scaling=2, loss=hinge, multi_class=ovr, penalty=l1;, score=nan total time=   1.1s\n",
      "[CV 2/5] END C=10, class_weight=balanced, dual=auto, fit_intercept=True, intercept_scaling=2, loss=hinge, multi_class=ovr, penalty=l1;, score=nan total time=   1.0s\n",
      "[CV 3/5] END C=10, class_weight=balanced, dual=auto, fit_intercept=True, intercept_scaling=2, loss=hinge, multi_class=ovr, penalty=l1;, score=nan total time=   1.0s\n",
      "[CV 4/5] END C=10, class_weight=balanced, dual=auto, fit_intercept=True, intercept_scaling=2, loss=hinge, multi_class=ovr, penalty=l1;, score=nan total time=   1.0s\n",
      "[CV 5/5] END C=10, class_weight=balanced, dual=auto, fit_intercept=True, intercept_scaling=2, loss=hinge, multi_class=ovr, penalty=l1;, score=nan total time=   1.0s\n",
      "[CV 1/5] END C=10, class_weight=balanced, dual=auto, fit_intercept=True, intercept_scaling=2, loss=hinge, multi_class=ovr, penalty=l2;, score=0.958 total time=   8.9s\n",
      "[CV 2/5] END C=10, class_weight=balanced, dual=auto, fit_intercept=True, intercept_scaling=2, loss=hinge, multi_class=ovr, penalty=l2;, score=0.959 total time=  11.8s\n",
      "[CV 3/5] END C=10, class_weight=balanced, dual=auto, fit_intercept=True, intercept_scaling=2, loss=hinge, multi_class=ovr, penalty=l2;, score=0.963 total time=  10.0s\n",
      "[CV 4/5] END C=10, class_weight=balanced, dual=auto, fit_intercept=True, intercept_scaling=2, loss=hinge, multi_class=ovr, penalty=l2;, score=0.965 total time=   9.1s\n",
      "[CV 5/5] END C=10, class_weight=balanced, dual=auto, fit_intercept=True, intercept_scaling=2, loss=hinge, multi_class=ovr, penalty=l2;, score=0.967 total time=  10.9s\n"
     ]
    },
    {
     "name": "stderr",
     "output_type": "stream",
     "text": [
      "C:\\Users\\never\\AppData\\Roaming\\Python\\Python311\\site-packages\\sklearn\\svm\\_base.py:1250: ConvergenceWarning: Liblinear failed to converge, increase the number of iterations.\n",
      "  warnings.warn(\n"
     ]
    },
    {
     "name": "stdout",
     "output_type": "stream",
     "text": [
      "[CV 1/5] END C=10, class_weight=balanced, dual=auto, fit_intercept=True, intercept_scaling=2, loss=hinge, multi_class=crammer_singer, penalty=l1;, score=0.961 total time=  22.1s\n"
     ]
    },
    {
     "name": "stderr",
     "output_type": "stream",
     "text": [
      "C:\\Users\\never\\AppData\\Roaming\\Python\\Python311\\site-packages\\sklearn\\svm\\_base.py:1250: ConvergenceWarning: Liblinear failed to converge, increase the number of iterations.\n",
      "  warnings.warn(\n"
     ]
    },
    {
     "name": "stdout",
     "output_type": "stream",
     "text": [
      "[CV 2/5] END C=10, class_weight=balanced, dual=auto, fit_intercept=True, intercept_scaling=2, loss=hinge, multi_class=crammer_singer, penalty=l1;, score=0.959 total time=  14.5s\n"
     ]
    },
    {
     "name": "stderr",
     "output_type": "stream",
     "text": [
      "C:\\Users\\never\\AppData\\Roaming\\Python\\Python311\\site-packages\\sklearn\\svm\\_base.py:1250: ConvergenceWarning: Liblinear failed to converge, increase the number of iterations.\n",
      "  warnings.warn(\n"
     ]
    },
    {
     "name": "stdout",
     "output_type": "stream",
     "text": [
      "[CV 3/5] END C=10, class_weight=balanced, dual=auto, fit_intercept=True, intercept_scaling=2, loss=hinge, multi_class=crammer_singer, penalty=l1;, score=0.965 total time=  16.5s\n"
     ]
    },
    {
     "name": "stderr",
     "output_type": "stream",
     "text": [
      "C:\\Users\\never\\AppData\\Roaming\\Python\\Python311\\site-packages\\sklearn\\svm\\_base.py:1250: ConvergenceWarning: Liblinear failed to converge, increase the number of iterations.\n",
      "  warnings.warn(\n"
     ]
    },
    {
     "name": "stdout",
     "output_type": "stream",
     "text": [
      "[CV 4/5] END C=10, class_weight=balanced, dual=auto, fit_intercept=True, intercept_scaling=2, loss=hinge, multi_class=crammer_singer, penalty=l1;, score=0.963 total time=  23.0s\n"
     ]
    },
    {
     "name": "stderr",
     "output_type": "stream",
     "text": [
      "C:\\Users\\never\\AppData\\Roaming\\Python\\Python311\\site-packages\\sklearn\\svm\\_base.py:1250: ConvergenceWarning: Liblinear failed to converge, increase the number of iterations.\n",
      "  warnings.warn(\n"
     ]
    },
    {
     "name": "stdout",
     "output_type": "stream",
     "text": [
      "[CV 5/5] END C=10, class_weight=balanced, dual=auto, fit_intercept=True, intercept_scaling=2, loss=hinge, multi_class=crammer_singer, penalty=l1;, score=0.967 total time=  18.8s\n"
     ]
    },
    {
     "name": "stderr",
     "output_type": "stream",
     "text": [
      "C:\\Users\\never\\AppData\\Roaming\\Python\\Python311\\site-packages\\sklearn\\svm\\_base.py:1250: ConvergenceWarning: Liblinear failed to converge, increase the number of iterations.\n",
      "  warnings.warn(\n"
     ]
    },
    {
     "name": "stdout",
     "output_type": "stream",
     "text": [
      "[CV 1/5] END C=10, class_weight=balanced, dual=auto, fit_intercept=True, intercept_scaling=2, loss=hinge, multi_class=crammer_singer, penalty=l2;, score=0.961 total time=  22.1s\n"
     ]
    },
    {
     "name": "stderr",
     "output_type": "stream",
     "text": [
      "C:\\Users\\never\\AppData\\Roaming\\Python\\Python311\\site-packages\\sklearn\\svm\\_base.py:1250: ConvergenceWarning: Liblinear failed to converge, increase the number of iterations.\n",
      "  warnings.warn(\n"
     ]
    },
    {
     "name": "stdout",
     "output_type": "stream",
     "text": [
      "[CV 2/5] END C=10, class_weight=balanced, dual=auto, fit_intercept=True, intercept_scaling=2, loss=hinge, multi_class=crammer_singer, penalty=l2;, score=0.959 total time=  14.5s\n"
     ]
    },
    {
     "name": "stderr",
     "output_type": "stream",
     "text": [
      "C:\\Users\\never\\AppData\\Roaming\\Python\\Python311\\site-packages\\sklearn\\svm\\_base.py:1250: ConvergenceWarning: Liblinear failed to converge, increase the number of iterations.\n",
      "  warnings.warn(\n"
     ]
    },
    {
     "name": "stdout",
     "output_type": "stream",
     "text": [
      "[CV 3/5] END C=10, class_weight=balanced, dual=auto, fit_intercept=True, intercept_scaling=2, loss=hinge, multi_class=crammer_singer, penalty=l2;, score=0.965 total time=  16.6s\n"
     ]
    },
    {
     "name": "stderr",
     "output_type": "stream",
     "text": [
      "C:\\Users\\never\\AppData\\Roaming\\Python\\Python311\\site-packages\\sklearn\\svm\\_base.py:1250: ConvergenceWarning: Liblinear failed to converge, increase the number of iterations.\n",
      "  warnings.warn(\n"
     ]
    },
    {
     "name": "stdout",
     "output_type": "stream",
     "text": [
      "[CV 4/5] END C=10, class_weight=balanced, dual=auto, fit_intercept=True, intercept_scaling=2, loss=hinge, multi_class=crammer_singer, penalty=l2;, score=0.963 total time=  22.7s\n"
     ]
    },
    {
     "name": "stderr",
     "output_type": "stream",
     "text": [
      "C:\\Users\\never\\AppData\\Roaming\\Python\\Python311\\site-packages\\sklearn\\svm\\_base.py:1250: ConvergenceWarning: Liblinear failed to converge, increase the number of iterations.\n",
      "  warnings.warn(\n"
     ]
    },
    {
     "name": "stdout",
     "output_type": "stream",
     "text": [
      "[CV 5/5] END C=10, class_weight=balanced, dual=auto, fit_intercept=True, intercept_scaling=2, loss=hinge, multi_class=crammer_singer, penalty=l2;, score=0.967 total time=  18.9s\n",
      "[CV 1/5] END C=10, class_weight=balanced, dual=auto, fit_intercept=True, intercept_scaling=2, loss=squared_hinge, multi_class=ovr, penalty=l1;, score=0.967 total time=  17.6s\n",
      "[CV 2/5] END C=10, class_weight=balanced, dual=auto, fit_intercept=True, intercept_scaling=2, loss=squared_hinge, multi_class=ovr, penalty=l1;, score=0.965 total time=  18.4s\n",
      "[CV 3/5] END C=10, class_weight=balanced, dual=auto, fit_intercept=True, intercept_scaling=2, loss=squared_hinge, multi_class=ovr, penalty=l1;, score=0.969 total time=  17.2s\n",
      "[CV 4/5] END C=10, class_weight=balanced, dual=auto, fit_intercept=True, intercept_scaling=2, loss=squared_hinge, multi_class=ovr, penalty=l1;, score=0.970 total time=  16.8s\n",
      "[CV 5/5] END C=10, class_weight=balanced, dual=auto, fit_intercept=True, intercept_scaling=2, loss=squared_hinge, multi_class=ovr, penalty=l1;, score=0.970 total time=  16.1s\n",
      "[CV 1/5] END C=10, class_weight=balanced, dual=auto, fit_intercept=True, intercept_scaling=2, loss=squared_hinge, multi_class=ovr, penalty=l2;, score=0.961 total time=   4.6s\n",
      "[CV 2/5] END C=10, class_weight=balanced, dual=auto, fit_intercept=True, intercept_scaling=2, loss=squared_hinge, multi_class=ovr, penalty=l2;, score=0.959 total time=   4.7s\n",
      "[CV 3/5] END C=10, class_weight=balanced, dual=auto, fit_intercept=True, intercept_scaling=2, loss=squared_hinge, multi_class=ovr, penalty=l2;, score=0.964 total time=   4.9s\n",
      "[CV 4/5] END C=10, class_weight=balanced, dual=auto, fit_intercept=True, intercept_scaling=2, loss=squared_hinge, multi_class=ovr, penalty=l2;, score=0.966 total time=   4.6s\n",
      "[CV 5/5] END C=10, class_weight=balanced, dual=auto, fit_intercept=True, intercept_scaling=2, loss=squared_hinge, multi_class=ovr, penalty=l2;, score=0.968 total time=   4.7s\n"
     ]
    },
    {
     "name": "stderr",
     "output_type": "stream",
     "text": [
      "C:\\Users\\never\\AppData\\Roaming\\Python\\Python311\\site-packages\\sklearn\\svm\\_base.py:1250: ConvergenceWarning: Liblinear failed to converge, increase the number of iterations.\n",
      "  warnings.warn(\n"
     ]
    },
    {
     "name": "stdout",
     "output_type": "stream",
     "text": [
      "[CV 1/5] END C=10, class_weight=balanced, dual=auto, fit_intercept=True, intercept_scaling=2, loss=squared_hinge, multi_class=crammer_singer, penalty=l1;, score=0.961 total time=  22.1s\n"
     ]
    },
    {
     "name": "stderr",
     "output_type": "stream",
     "text": [
      "C:\\Users\\never\\AppData\\Roaming\\Python\\Python311\\site-packages\\sklearn\\svm\\_base.py:1250: ConvergenceWarning: Liblinear failed to converge, increase the number of iterations.\n",
      "  warnings.warn(\n"
     ]
    },
    {
     "name": "stdout",
     "output_type": "stream",
     "text": [
      "[CV 2/5] END C=10, class_weight=balanced, dual=auto, fit_intercept=True, intercept_scaling=2, loss=squared_hinge, multi_class=crammer_singer, penalty=l1;, score=0.959 total time=  14.6s\n"
     ]
    },
    {
     "name": "stderr",
     "output_type": "stream",
     "text": [
      "C:\\Users\\never\\AppData\\Roaming\\Python\\Python311\\site-packages\\sklearn\\svm\\_base.py:1250: ConvergenceWarning: Liblinear failed to converge, increase the number of iterations.\n",
      "  warnings.warn(\n"
     ]
    },
    {
     "name": "stdout",
     "output_type": "stream",
     "text": [
      "[CV 3/5] END C=10, class_weight=balanced, dual=auto, fit_intercept=True, intercept_scaling=2, loss=squared_hinge, multi_class=crammer_singer, penalty=l1;, score=0.965 total time=  16.5s\n"
     ]
    },
    {
     "name": "stderr",
     "output_type": "stream",
     "text": [
      "C:\\Users\\never\\AppData\\Roaming\\Python\\Python311\\site-packages\\sklearn\\svm\\_base.py:1250: ConvergenceWarning: Liblinear failed to converge, increase the number of iterations.\n",
      "  warnings.warn(\n"
     ]
    },
    {
     "name": "stdout",
     "output_type": "stream",
     "text": [
      "[CV 4/5] END C=10, class_weight=balanced, dual=auto, fit_intercept=True, intercept_scaling=2, loss=squared_hinge, multi_class=crammer_singer, penalty=l1;, score=0.963 total time=  22.8s\n"
     ]
    },
    {
     "name": "stderr",
     "output_type": "stream",
     "text": [
      "C:\\Users\\never\\AppData\\Roaming\\Python\\Python311\\site-packages\\sklearn\\svm\\_base.py:1250: ConvergenceWarning: Liblinear failed to converge, increase the number of iterations.\n",
      "  warnings.warn(\n"
     ]
    },
    {
     "name": "stdout",
     "output_type": "stream",
     "text": [
      "[CV 5/5] END C=10, class_weight=balanced, dual=auto, fit_intercept=True, intercept_scaling=2, loss=squared_hinge, multi_class=crammer_singer, penalty=l1;, score=0.967 total time=  19.0s\n"
     ]
    },
    {
     "name": "stderr",
     "output_type": "stream",
     "text": [
      "C:\\Users\\never\\AppData\\Roaming\\Python\\Python311\\site-packages\\sklearn\\svm\\_base.py:1250: ConvergenceWarning: Liblinear failed to converge, increase the number of iterations.\n",
      "  warnings.warn(\n"
     ]
    },
    {
     "name": "stdout",
     "output_type": "stream",
     "text": [
      "[CV 1/5] END C=10, class_weight=balanced, dual=auto, fit_intercept=True, intercept_scaling=2, loss=squared_hinge, multi_class=crammer_singer, penalty=l2;, score=0.961 total time=  22.1s\n"
     ]
    },
    {
     "name": "stderr",
     "output_type": "stream",
     "text": [
      "C:\\Users\\never\\AppData\\Roaming\\Python\\Python311\\site-packages\\sklearn\\svm\\_base.py:1250: ConvergenceWarning: Liblinear failed to converge, increase the number of iterations.\n",
      "  warnings.warn(\n"
     ]
    },
    {
     "name": "stdout",
     "output_type": "stream",
     "text": [
      "[CV 2/5] END C=10, class_weight=balanced, dual=auto, fit_intercept=True, intercept_scaling=2, loss=squared_hinge, multi_class=crammer_singer, penalty=l2;, score=0.959 total time=  14.5s\n"
     ]
    },
    {
     "name": "stderr",
     "output_type": "stream",
     "text": [
      "C:\\Users\\never\\AppData\\Roaming\\Python\\Python311\\site-packages\\sklearn\\svm\\_base.py:1250: ConvergenceWarning: Liblinear failed to converge, increase the number of iterations.\n",
      "  warnings.warn(\n"
     ]
    },
    {
     "name": "stdout",
     "output_type": "stream",
     "text": [
      "[CV 3/5] END C=10, class_weight=balanced, dual=auto, fit_intercept=True, intercept_scaling=2, loss=squared_hinge, multi_class=crammer_singer, penalty=l2;, score=0.965 total time=  16.4s\n"
     ]
    },
    {
     "name": "stderr",
     "output_type": "stream",
     "text": [
      "C:\\Users\\never\\AppData\\Roaming\\Python\\Python311\\site-packages\\sklearn\\svm\\_base.py:1250: ConvergenceWarning: Liblinear failed to converge, increase the number of iterations.\n",
      "  warnings.warn(\n"
     ]
    },
    {
     "name": "stdout",
     "output_type": "stream",
     "text": [
      "[CV 4/5] END C=10, class_weight=balanced, dual=auto, fit_intercept=True, intercept_scaling=2, loss=squared_hinge, multi_class=crammer_singer, penalty=l2;, score=0.963 total time=  22.6s\n"
     ]
    },
    {
     "name": "stderr",
     "output_type": "stream",
     "text": [
      "C:\\Users\\never\\AppData\\Roaming\\Python\\Python311\\site-packages\\sklearn\\svm\\_base.py:1250: ConvergenceWarning: Liblinear failed to converge, increase the number of iterations.\n",
      "  warnings.warn(\n"
     ]
    },
    {
     "name": "stdout",
     "output_type": "stream",
     "text": [
      "[CV 5/5] END C=10, class_weight=balanced, dual=auto, fit_intercept=True, intercept_scaling=2, loss=squared_hinge, multi_class=crammer_singer, penalty=l2;, score=0.967 total time=  18.8s\n",
      "[CV 1/5] END C=10, class_weight=balanced, dual=auto, fit_intercept=False, intercept_scaling=1, loss=hinge, multi_class=ovr, penalty=l1;, score=nan total time=   1.1s\n",
      "[CV 2/5] END C=10, class_weight=balanced, dual=auto, fit_intercept=False, intercept_scaling=1, loss=hinge, multi_class=ovr, penalty=l1;, score=nan total time=   1.0s\n",
      "[CV 3/5] END C=10, class_weight=balanced, dual=auto, fit_intercept=False, intercept_scaling=1, loss=hinge, multi_class=ovr, penalty=l1;, score=nan total time=   1.0s\n",
      "[CV 4/5] END C=10, class_weight=balanced, dual=auto, fit_intercept=False, intercept_scaling=1, loss=hinge, multi_class=ovr, penalty=l1;, score=nan total time=   1.0s\n",
      "[CV 5/5] END C=10, class_weight=balanced, dual=auto, fit_intercept=False, intercept_scaling=1, loss=hinge, multi_class=ovr, penalty=l1;, score=nan total time=   1.0s\n",
      "[CV 1/5] END C=10, class_weight=balanced, dual=auto, fit_intercept=False, intercept_scaling=1, loss=hinge, multi_class=ovr, penalty=l2;, score=0.951 total time=   5.8s\n",
      "[CV 2/5] END C=10, class_weight=balanced, dual=auto, fit_intercept=False, intercept_scaling=1, loss=hinge, multi_class=ovr, penalty=l2;, score=0.948 total time=   4.4s\n",
      "[CV 3/5] END C=10, class_weight=balanced, dual=auto, fit_intercept=False, intercept_scaling=1, loss=hinge, multi_class=ovr, penalty=l2;, score=0.957 total time=   4.2s\n",
      "[CV 4/5] END C=10, class_weight=balanced, dual=auto, fit_intercept=False, intercept_scaling=1, loss=hinge, multi_class=ovr, penalty=l2;, score=0.959 total time=   3.8s\n",
      "[CV 5/5] END C=10, class_weight=balanced, dual=auto, fit_intercept=False, intercept_scaling=1, loss=hinge, multi_class=ovr, penalty=l2;, score=0.960 total time=   3.6s\n"
     ]
    },
    {
     "name": "stderr",
     "output_type": "stream",
     "text": [
      "C:\\Users\\never\\AppData\\Roaming\\Python\\Python311\\site-packages\\sklearn\\svm\\_base.py:1250: ConvergenceWarning: Liblinear failed to converge, increase the number of iterations.\n",
      "  warnings.warn(\n"
     ]
    },
    {
     "name": "stdout",
     "output_type": "stream",
     "text": [
      "[CV 1/5] END C=10, class_weight=balanced, dual=auto, fit_intercept=False, intercept_scaling=1, loss=hinge, multi_class=crammer_singer, penalty=l1;, score=0.954 total time=   6.8s\n"
     ]
    },
    {
     "name": "stderr",
     "output_type": "stream",
     "text": [
      "C:\\Users\\never\\AppData\\Roaming\\Python\\Python311\\site-packages\\sklearn\\svm\\_base.py:1250: ConvergenceWarning: Liblinear failed to converge, increase the number of iterations.\n",
      "  warnings.warn(\n"
     ]
    },
    {
     "name": "stdout",
     "output_type": "stream",
     "text": [
      "[CV 2/5] END C=10, class_weight=balanced, dual=auto, fit_intercept=False, intercept_scaling=1, loss=hinge, multi_class=crammer_singer, penalty=l1;, score=0.950 total time=   9.4s\n"
     ]
    },
    {
     "name": "stderr",
     "output_type": "stream",
     "text": [
      "C:\\Users\\never\\AppData\\Roaming\\Python\\Python311\\site-packages\\sklearn\\svm\\_base.py:1250: ConvergenceWarning: Liblinear failed to converge, increase the number of iterations.\n",
      "  warnings.warn(\n"
     ]
    },
    {
     "name": "stdout",
     "output_type": "stream",
     "text": [
      "[CV 3/5] END C=10, class_weight=balanced, dual=auto, fit_intercept=False, intercept_scaling=1, loss=hinge, multi_class=crammer_singer, penalty=l1;, score=0.957 total time=   4.9s\n"
     ]
    },
    {
     "name": "stderr",
     "output_type": "stream",
     "text": [
      "C:\\Users\\never\\AppData\\Roaming\\Python\\Python311\\site-packages\\sklearn\\svm\\_base.py:1250: ConvergenceWarning: Liblinear failed to converge, increase the number of iterations.\n",
      "  warnings.warn(\n"
     ]
    },
    {
     "name": "stdout",
     "output_type": "stream",
     "text": [
      "[CV 4/5] END C=10, class_weight=balanced, dual=auto, fit_intercept=False, intercept_scaling=1, loss=hinge, multi_class=crammer_singer, penalty=l1;, score=0.957 total time=   4.3s\n"
     ]
    },
    {
     "name": "stderr",
     "output_type": "stream",
     "text": [
      "C:\\Users\\never\\AppData\\Roaming\\Python\\Python311\\site-packages\\sklearn\\svm\\_base.py:1250: ConvergenceWarning: Liblinear failed to converge, increase the number of iterations.\n",
      "  warnings.warn(\n"
     ]
    },
    {
     "name": "stdout",
     "output_type": "stream",
     "text": [
      "[CV 5/5] END C=10, class_weight=balanced, dual=auto, fit_intercept=False, intercept_scaling=1, loss=hinge, multi_class=crammer_singer, penalty=l1;, score=0.960 total time=   5.3s\n"
     ]
    },
    {
     "name": "stderr",
     "output_type": "stream",
     "text": [
      "C:\\Users\\never\\AppData\\Roaming\\Python\\Python311\\site-packages\\sklearn\\svm\\_base.py:1250: ConvergenceWarning: Liblinear failed to converge, increase the number of iterations.\n",
      "  warnings.warn(\n"
     ]
    },
    {
     "name": "stdout",
     "output_type": "stream",
     "text": [
      "[CV 1/5] END C=10, class_weight=balanced, dual=auto, fit_intercept=False, intercept_scaling=1, loss=hinge, multi_class=crammer_singer, penalty=l2;, score=0.954 total time=   6.8s\n"
     ]
    },
    {
     "name": "stderr",
     "output_type": "stream",
     "text": [
      "C:\\Users\\never\\AppData\\Roaming\\Python\\Python311\\site-packages\\sklearn\\svm\\_base.py:1250: ConvergenceWarning: Liblinear failed to converge, increase the number of iterations.\n",
      "  warnings.warn(\n"
     ]
    },
    {
     "name": "stdout",
     "output_type": "stream",
     "text": [
      "[CV 2/5] END C=10, class_weight=balanced, dual=auto, fit_intercept=False, intercept_scaling=1, loss=hinge, multi_class=crammer_singer, penalty=l2;, score=0.950 total time=   9.4s\n"
     ]
    },
    {
     "name": "stderr",
     "output_type": "stream",
     "text": [
      "C:\\Users\\never\\AppData\\Roaming\\Python\\Python311\\site-packages\\sklearn\\svm\\_base.py:1250: ConvergenceWarning: Liblinear failed to converge, increase the number of iterations.\n",
      "  warnings.warn(\n"
     ]
    },
    {
     "name": "stdout",
     "output_type": "stream",
     "text": [
      "[CV 3/5] END C=10, class_weight=balanced, dual=auto, fit_intercept=False, intercept_scaling=1, loss=hinge, multi_class=crammer_singer, penalty=l2;, score=0.957 total time=   4.9s\n"
     ]
    },
    {
     "name": "stderr",
     "output_type": "stream",
     "text": [
      "C:\\Users\\never\\AppData\\Roaming\\Python\\Python311\\site-packages\\sklearn\\svm\\_base.py:1250: ConvergenceWarning: Liblinear failed to converge, increase the number of iterations.\n",
      "  warnings.warn(\n"
     ]
    },
    {
     "name": "stdout",
     "output_type": "stream",
     "text": [
      "[CV 4/5] END C=10, class_weight=balanced, dual=auto, fit_intercept=False, intercept_scaling=1, loss=hinge, multi_class=crammer_singer, penalty=l2;, score=0.957 total time=   4.4s\n"
     ]
    },
    {
     "name": "stderr",
     "output_type": "stream",
     "text": [
      "C:\\Users\\never\\AppData\\Roaming\\Python\\Python311\\site-packages\\sklearn\\svm\\_base.py:1250: ConvergenceWarning: Liblinear failed to converge, increase the number of iterations.\n",
      "  warnings.warn(\n"
     ]
    },
    {
     "name": "stdout",
     "output_type": "stream",
     "text": [
      "[CV 5/5] END C=10, class_weight=balanced, dual=auto, fit_intercept=False, intercept_scaling=1, loss=hinge, multi_class=crammer_singer, penalty=l2;, score=0.960 total time=   5.3s\n",
      "[CV 1/5] END C=10, class_weight=balanced, dual=auto, fit_intercept=False, intercept_scaling=1, loss=squared_hinge, multi_class=ovr, penalty=l1;, score=0.954 total time=  10.0s\n",
      "[CV 2/5] END C=10, class_weight=balanced, dual=auto, fit_intercept=False, intercept_scaling=1, loss=squared_hinge, multi_class=ovr, penalty=l1;, score=0.956 total time=  10.4s\n",
      "[CV 3/5] END C=10, class_weight=balanced, dual=auto, fit_intercept=False, intercept_scaling=1, loss=squared_hinge, multi_class=ovr, penalty=l1;, score=0.958 total time=   9.6s\n",
      "[CV 4/5] END C=10, class_weight=balanced, dual=auto, fit_intercept=False, intercept_scaling=1, loss=squared_hinge, multi_class=ovr, penalty=l1;, score=0.957 total time=   9.5s\n",
      "[CV 5/5] END C=10, class_weight=balanced, dual=auto, fit_intercept=False, intercept_scaling=1, loss=squared_hinge, multi_class=ovr, penalty=l1;, score=0.961 total time=   8.9s\n",
      "[CV 1/5] END C=10, class_weight=balanced, dual=auto, fit_intercept=False, intercept_scaling=1, loss=squared_hinge, multi_class=ovr, penalty=l2;, score=0.954 total time=   7.2s\n",
      "[CV 2/5] END C=10, class_weight=balanced, dual=auto, fit_intercept=False, intercept_scaling=1, loss=squared_hinge, multi_class=ovr, penalty=l2;, score=0.949 total time=   7.4s\n",
      "[CV 3/5] END C=10, class_weight=balanced, dual=auto, fit_intercept=False, intercept_scaling=1, loss=squared_hinge, multi_class=ovr, penalty=l2;, score=0.956 total time=   7.5s\n",
      "[CV 4/5] END C=10, class_weight=balanced, dual=auto, fit_intercept=False, intercept_scaling=1, loss=squared_hinge, multi_class=ovr, penalty=l2;, score=0.959 total time=   6.6s\n",
      "[CV 5/5] END C=10, class_weight=balanced, dual=auto, fit_intercept=False, intercept_scaling=1, loss=squared_hinge, multi_class=ovr, penalty=l2;, score=0.960 total time=   6.9s\n"
     ]
    },
    {
     "name": "stderr",
     "output_type": "stream",
     "text": [
      "C:\\Users\\never\\AppData\\Roaming\\Python\\Python311\\site-packages\\sklearn\\svm\\_base.py:1250: ConvergenceWarning: Liblinear failed to converge, increase the number of iterations.\n",
      "  warnings.warn(\n"
     ]
    },
    {
     "name": "stdout",
     "output_type": "stream",
     "text": [
      "[CV 1/5] END C=10, class_weight=balanced, dual=auto, fit_intercept=False, intercept_scaling=1, loss=squared_hinge, multi_class=crammer_singer, penalty=l1;, score=0.954 total time=   6.8s\n"
     ]
    },
    {
     "name": "stderr",
     "output_type": "stream",
     "text": [
      "C:\\Users\\never\\AppData\\Roaming\\Python\\Python311\\site-packages\\sklearn\\svm\\_base.py:1250: ConvergenceWarning: Liblinear failed to converge, increase the number of iterations.\n",
      "  warnings.warn(\n"
     ]
    },
    {
     "name": "stdout",
     "output_type": "stream",
     "text": [
      "[CV 2/5] END C=10, class_weight=balanced, dual=auto, fit_intercept=False, intercept_scaling=1, loss=squared_hinge, multi_class=crammer_singer, penalty=l1;, score=0.950 total time=   9.5s\n"
     ]
    },
    {
     "name": "stderr",
     "output_type": "stream",
     "text": [
      "C:\\Users\\never\\AppData\\Roaming\\Python\\Python311\\site-packages\\sklearn\\svm\\_base.py:1250: ConvergenceWarning: Liblinear failed to converge, increase the number of iterations.\n",
      "  warnings.warn(\n"
     ]
    },
    {
     "name": "stdout",
     "output_type": "stream",
     "text": [
      "[CV 3/5] END C=10, class_weight=balanced, dual=auto, fit_intercept=False, intercept_scaling=1, loss=squared_hinge, multi_class=crammer_singer, penalty=l1;, score=0.957 total time=   4.9s\n"
     ]
    },
    {
     "name": "stderr",
     "output_type": "stream",
     "text": [
      "C:\\Users\\never\\AppData\\Roaming\\Python\\Python311\\site-packages\\sklearn\\svm\\_base.py:1250: ConvergenceWarning: Liblinear failed to converge, increase the number of iterations.\n",
      "  warnings.warn(\n"
     ]
    },
    {
     "name": "stdout",
     "output_type": "stream",
     "text": [
      "[CV 4/5] END C=10, class_weight=balanced, dual=auto, fit_intercept=False, intercept_scaling=1, loss=squared_hinge, multi_class=crammer_singer, penalty=l1;, score=0.957 total time=   4.3s\n"
     ]
    },
    {
     "name": "stderr",
     "output_type": "stream",
     "text": [
      "C:\\Users\\never\\AppData\\Roaming\\Python\\Python311\\site-packages\\sklearn\\svm\\_base.py:1250: ConvergenceWarning: Liblinear failed to converge, increase the number of iterations.\n",
      "  warnings.warn(\n"
     ]
    },
    {
     "name": "stdout",
     "output_type": "stream",
     "text": [
      "[CV 5/5] END C=10, class_weight=balanced, dual=auto, fit_intercept=False, intercept_scaling=1, loss=squared_hinge, multi_class=crammer_singer, penalty=l1;, score=0.960 total time=   5.3s\n"
     ]
    },
    {
     "name": "stderr",
     "output_type": "stream",
     "text": [
      "C:\\Users\\never\\AppData\\Roaming\\Python\\Python311\\site-packages\\sklearn\\svm\\_base.py:1250: ConvergenceWarning: Liblinear failed to converge, increase the number of iterations.\n",
      "  warnings.warn(\n"
     ]
    },
    {
     "name": "stdout",
     "output_type": "stream",
     "text": [
      "[CV 1/5] END C=10, class_weight=balanced, dual=auto, fit_intercept=False, intercept_scaling=1, loss=squared_hinge, multi_class=crammer_singer, penalty=l2;, score=0.954 total time=   6.8s\n"
     ]
    },
    {
     "name": "stderr",
     "output_type": "stream",
     "text": [
      "C:\\Users\\never\\AppData\\Roaming\\Python\\Python311\\site-packages\\sklearn\\svm\\_base.py:1250: ConvergenceWarning: Liblinear failed to converge, increase the number of iterations.\n",
      "  warnings.warn(\n"
     ]
    },
    {
     "name": "stdout",
     "output_type": "stream",
     "text": [
      "[CV 2/5] END C=10, class_weight=balanced, dual=auto, fit_intercept=False, intercept_scaling=1, loss=squared_hinge, multi_class=crammer_singer, penalty=l2;, score=0.950 total time=   9.4s\n"
     ]
    },
    {
     "name": "stderr",
     "output_type": "stream",
     "text": [
      "C:\\Users\\never\\AppData\\Roaming\\Python\\Python311\\site-packages\\sklearn\\svm\\_base.py:1250: ConvergenceWarning: Liblinear failed to converge, increase the number of iterations.\n",
      "  warnings.warn(\n"
     ]
    },
    {
     "name": "stdout",
     "output_type": "stream",
     "text": [
      "[CV 3/5] END C=10, class_weight=balanced, dual=auto, fit_intercept=False, intercept_scaling=1, loss=squared_hinge, multi_class=crammer_singer, penalty=l2;, score=0.957 total time=   4.9s\n"
     ]
    },
    {
     "name": "stderr",
     "output_type": "stream",
     "text": [
      "C:\\Users\\never\\AppData\\Roaming\\Python\\Python311\\site-packages\\sklearn\\svm\\_base.py:1250: ConvergenceWarning: Liblinear failed to converge, increase the number of iterations.\n",
      "  warnings.warn(\n"
     ]
    },
    {
     "name": "stdout",
     "output_type": "stream",
     "text": [
      "[CV 4/5] END C=10, class_weight=balanced, dual=auto, fit_intercept=False, intercept_scaling=1, loss=squared_hinge, multi_class=crammer_singer, penalty=l2;, score=0.957 total time=   4.3s\n"
     ]
    },
    {
     "name": "stderr",
     "output_type": "stream",
     "text": [
      "C:\\Users\\never\\AppData\\Roaming\\Python\\Python311\\site-packages\\sklearn\\svm\\_base.py:1250: ConvergenceWarning: Liblinear failed to converge, increase the number of iterations.\n",
      "  warnings.warn(\n"
     ]
    },
    {
     "name": "stdout",
     "output_type": "stream",
     "text": [
      "[CV 5/5] END C=10, class_weight=balanced, dual=auto, fit_intercept=False, intercept_scaling=1, loss=squared_hinge, multi_class=crammer_singer, penalty=l2;, score=0.960 total time=   5.2s\n",
      "[CV 1/5] END C=10, class_weight=balanced, dual=auto, fit_intercept=False, intercept_scaling=1.5, loss=hinge, multi_class=ovr, penalty=l1;, score=nan total time=   1.1s\n",
      "[CV 2/5] END C=10, class_weight=balanced, dual=auto, fit_intercept=False, intercept_scaling=1.5, loss=hinge, multi_class=ovr, penalty=l1;, score=nan total time=   1.0s\n",
      "[CV 3/5] END C=10, class_weight=balanced, dual=auto, fit_intercept=False, intercept_scaling=1.5, loss=hinge, multi_class=ovr, penalty=l1;, score=nan total time=   1.0s\n",
      "[CV 4/5] END C=10, class_weight=balanced, dual=auto, fit_intercept=False, intercept_scaling=1.5, loss=hinge, multi_class=ovr, penalty=l1;, score=nan total time=   1.0s\n",
      "[CV 5/5] END C=10, class_weight=balanced, dual=auto, fit_intercept=False, intercept_scaling=1.5, loss=hinge, multi_class=ovr, penalty=l1;, score=nan total time=   1.0s\n",
      "[CV 1/5] END C=10, class_weight=balanced, dual=auto, fit_intercept=False, intercept_scaling=1.5, loss=hinge, multi_class=ovr, penalty=l2;, score=0.951 total time=   5.8s\n",
      "[CV 2/5] END C=10, class_weight=balanced, dual=auto, fit_intercept=False, intercept_scaling=1.5, loss=hinge, multi_class=ovr, penalty=l2;, score=0.948 total time=   4.5s\n",
      "[CV 3/5] END C=10, class_weight=balanced, dual=auto, fit_intercept=False, intercept_scaling=1.5, loss=hinge, multi_class=ovr, penalty=l2;, score=0.957 total time=   4.2s\n",
      "[CV 4/5] END C=10, class_weight=balanced, dual=auto, fit_intercept=False, intercept_scaling=1.5, loss=hinge, multi_class=ovr, penalty=l2;, score=0.959 total time=   3.8s\n",
      "[CV 5/5] END C=10, class_weight=balanced, dual=auto, fit_intercept=False, intercept_scaling=1.5, loss=hinge, multi_class=ovr, penalty=l2;, score=0.960 total time=   3.7s\n"
     ]
    },
    {
     "name": "stderr",
     "output_type": "stream",
     "text": [
      "C:\\Users\\never\\AppData\\Roaming\\Python\\Python311\\site-packages\\sklearn\\svm\\_base.py:1250: ConvergenceWarning: Liblinear failed to converge, increase the number of iterations.\n",
      "  warnings.warn(\n"
     ]
    },
    {
     "name": "stdout",
     "output_type": "stream",
     "text": [
      "[CV 1/5] END C=10, class_weight=balanced, dual=auto, fit_intercept=False, intercept_scaling=1.5, loss=hinge, multi_class=crammer_singer, penalty=l1;, score=0.954 total time=   6.8s\n"
     ]
    },
    {
     "name": "stderr",
     "output_type": "stream",
     "text": [
      "C:\\Users\\never\\AppData\\Roaming\\Python\\Python311\\site-packages\\sklearn\\svm\\_base.py:1250: ConvergenceWarning: Liblinear failed to converge, increase the number of iterations.\n",
      "  warnings.warn(\n"
     ]
    },
    {
     "name": "stdout",
     "output_type": "stream",
     "text": [
      "[CV 2/5] END C=10, class_weight=balanced, dual=auto, fit_intercept=False, intercept_scaling=1.5, loss=hinge, multi_class=crammer_singer, penalty=l1;, score=0.950 total time=   9.5s\n"
     ]
    },
    {
     "name": "stderr",
     "output_type": "stream",
     "text": [
      "C:\\Users\\never\\AppData\\Roaming\\Python\\Python311\\site-packages\\sklearn\\svm\\_base.py:1250: ConvergenceWarning: Liblinear failed to converge, increase the number of iterations.\n",
      "  warnings.warn(\n"
     ]
    },
    {
     "name": "stdout",
     "output_type": "stream",
     "text": [
      "[CV 3/5] END C=10, class_weight=balanced, dual=auto, fit_intercept=False, intercept_scaling=1.5, loss=hinge, multi_class=crammer_singer, penalty=l1;, score=0.957 total time=   5.0s\n"
     ]
    },
    {
     "name": "stderr",
     "output_type": "stream",
     "text": [
      "C:\\Users\\never\\AppData\\Roaming\\Python\\Python311\\site-packages\\sklearn\\svm\\_base.py:1250: ConvergenceWarning: Liblinear failed to converge, increase the number of iterations.\n",
      "  warnings.warn(\n"
     ]
    },
    {
     "name": "stdout",
     "output_type": "stream",
     "text": [
      "[CV 4/5] END C=10, class_weight=balanced, dual=auto, fit_intercept=False, intercept_scaling=1.5, loss=hinge, multi_class=crammer_singer, penalty=l1;, score=0.957 total time=   4.3s\n"
     ]
    },
    {
     "name": "stderr",
     "output_type": "stream",
     "text": [
      "C:\\Users\\never\\AppData\\Roaming\\Python\\Python311\\site-packages\\sklearn\\svm\\_base.py:1250: ConvergenceWarning: Liblinear failed to converge, increase the number of iterations.\n",
      "  warnings.warn(\n"
     ]
    },
    {
     "name": "stdout",
     "output_type": "stream",
     "text": [
      "[CV 5/5] END C=10, class_weight=balanced, dual=auto, fit_intercept=False, intercept_scaling=1.5, loss=hinge, multi_class=crammer_singer, penalty=l1;, score=0.960 total time=   5.3s\n"
     ]
    },
    {
     "name": "stderr",
     "output_type": "stream",
     "text": [
      "C:\\Users\\never\\AppData\\Roaming\\Python\\Python311\\site-packages\\sklearn\\svm\\_base.py:1250: ConvergenceWarning: Liblinear failed to converge, increase the number of iterations.\n",
      "  warnings.warn(\n"
     ]
    },
    {
     "name": "stdout",
     "output_type": "stream",
     "text": [
      "[CV 1/5] END C=10, class_weight=balanced, dual=auto, fit_intercept=False, intercept_scaling=1.5, loss=hinge, multi_class=crammer_singer, penalty=l2;, score=0.954 total time=   6.9s\n"
     ]
    },
    {
     "name": "stderr",
     "output_type": "stream",
     "text": [
      "C:\\Users\\never\\AppData\\Roaming\\Python\\Python311\\site-packages\\sklearn\\svm\\_base.py:1250: ConvergenceWarning: Liblinear failed to converge, increase the number of iterations.\n",
      "  warnings.warn(\n"
     ]
    },
    {
     "name": "stdout",
     "output_type": "stream",
     "text": [
      "[CV 2/5] END C=10, class_weight=balanced, dual=auto, fit_intercept=False, intercept_scaling=1.5, loss=hinge, multi_class=crammer_singer, penalty=l2;, score=0.950 total time=   9.6s\n"
     ]
    },
    {
     "name": "stderr",
     "output_type": "stream",
     "text": [
      "C:\\Users\\never\\AppData\\Roaming\\Python\\Python311\\site-packages\\sklearn\\svm\\_base.py:1250: ConvergenceWarning: Liblinear failed to converge, increase the number of iterations.\n",
      "  warnings.warn(\n"
     ]
    },
    {
     "name": "stdout",
     "output_type": "stream",
     "text": [
      "[CV 3/5] END C=10, class_weight=balanced, dual=auto, fit_intercept=False, intercept_scaling=1.5, loss=hinge, multi_class=crammer_singer, penalty=l2;, score=0.957 total time=   5.0s\n"
     ]
    },
    {
     "name": "stderr",
     "output_type": "stream",
     "text": [
      "C:\\Users\\never\\AppData\\Roaming\\Python\\Python311\\site-packages\\sklearn\\svm\\_base.py:1250: ConvergenceWarning: Liblinear failed to converge, increase the number of iterations.\n",
      "  warnings.warn(\n"
     ]
    },
    {
     "name": "stdout",
     "output_type": "stream",
     "text": [
      "[CV 4/5] END C=10, class_weight=balanced, dual=auto, fit_intercept=False, intercept_scaling=1.5, loss=hinge, multi_class=crammer_singer, penalty=l2;, score=0.957 total time=   4.4s\n"
     ]
    },
    {
     "name": "stderr",
     "output_type": "stream",
     "text": [
      "C:\\Users\\never\\AppData\\Roaming\\Python\\Python311\\site-packages\\sklearn\\svm\\_base.py:1250: ConvergenceWarning: Liblinear failed to converge, increase the number of iterations.\n",
      "  warnings.warn(\n"
     ]
    },
    {
     "name": "stdout",
     "output_type": "stream",
     "text": [
      "[CV 5/5] END C=10, class_weight=balanced, dual=auto, fit_intercept=False, intercept_scaling=1.5, loss=hinge, multi_class=crammer_singer, penalty=l2;, score=0.960 total time=   5.2s\n",
      "[CV 1/5] END C=10, class_weight=balanced, dual=auto, fit_intercept=False, intercept_scaling=1.5, loss=squared_hinge, multi_class=ovr, penalty=l1;, score=0.954 total time=  10.1s\n",
      "[CV 2/5] END C=10, class_weight=balanced, dual=auto, fit_intercept=False, intercept_scaling=1.5, loss=squared_hinge, multi_class=ovr, penalty=l1;, score=0.956 total time=  10.3s\n",
      "[CV 3/5] END C=10, class_weight=balanced, dual=auto, fit_intercept=False, intercept_scaling=1.5, loss=squared_hinge, multi_class=ovr, penalty=l1;, score=0.958 total time=   9.7s\n",
      "[CV 4/5] END C=10, class_weight=balanced, dual=auto, fit_intercept=False, intercept_scaling=1.5, loss=squared_hinge, multi_class=ovr, penalty=l1;, score=0.957 total time=   9.6s\n",
      "[CV 5/5] END C=10, class_weight=balanced, dual=auto, fit_intercept=False, intercept_scaling=1.5, loss=squared_hinge, multi_class=ovr, penalty=l1;, score=0.961 total time=   8.8s\n",
      "[CV 1/5] END C=10, class_weight=balanced, dual=auto, fit_intercept=False, intercept_scaling=1.5, loss=squared_hinge, multi_class=ovr, penalty=l2;, score=0.954 total time=   7.1s\n",
      "[CV 2/5] END C=10, class_weight=balanced, dual=auto, fit_intercept=False, intercept_scaling=1.5, loss=squared_hinge, multi_class=ovr, penalty=l2;, score=0.949 total time=   7.4s\n",
      "[CV 3/5] END C=10, class_weight=balanced, dual=auto, fit_intercept=False, intercept_scaling=1.5, loss=squared_hinge, multi_class=ovr, penalty=l2;, score=0.956 total time=   7.5s\n",
      "[CV 4/5] END C=10, class_weight=balanced, dual=auto, fit_intercept=False, intercept_scaling=1.5, loss=squared_hinge, multi_class=ovr, penalty=l2;, score=0.959 total time=   6.6s\n",
      "[CV 5/5] END C=10, class_weight=balanced, dual=auto, fit_intercept=False, intercept_scaling=1.5, loss=squared_hinge, multi_class=ovr, penalty=l2;, score=0.960 total time=   6.8s\n"
     ]
    },
    {
     "name": "stderr",
     "output_type": "stream",
     "text": [
      "C:\\Users\\never\\AppData\\Roaming\\Python\\Python311\\site-packages\\sklearn\\svm\\_base.py:1250: ConvergenceWarning: Liblinear failed to converge, increase the number of iterations.\n",
      "  warnings.warn(\n"
     ]
    },
    {
     "name": "stdout",
     "output_type": "stream",
     "text": [
      "[CV 1/5] END C=10, class_weight=balanced, dual=auto, fit_intercept=False, intercept_scaling=1.5, loss=squared_hinge, multi_class=crammer_singer, penalty=l1;, score=0.954 total time=   6.8s\n"
     ]
    },
    {
     "name": "stderr",
     "output_type": "stream",
     "text": [
      "C:\\Users\\never\\AppData\\Roaming\\Python\\Python311\\site-packages\\sklearn\\svm\\_base.py:1250: ConvergenceWarning: Liblinear failed to converge, increase the number of iterations.\n",
      "  warnings.warn(\n"
     ]
    },
    {
     "name": "stdout",
     "output_type": "stream",
     "text": [
      "[CV 2/5] END C=10, class_weight=balanced, dual=auto, fit_intercept=False, intercept_scaling=1.5, loss=squared_hinge, multi_class=crammer_singer, penalty=l1;, score=0.950 total time=   9.5s\n"
     ]
    },
    {
     "name": "stderr",
     "output_type": "stream",
     "text": [
      "C:\\Users\\never\\AppData\\Roaming\\Python\\Python311\\site-packages\\sklearn\\svm\\_base.py:1250: ConvergenceWarning: Liblinear failed to converge, increase the number of iterations.\n",
      "  warnings.warn(\n"
     ]
    },
    {
     "name": "stdout",
     "output_type": "stream",
     "text": [
      "[CV 3/5] END C=10, class_weight=balanced, dual=auto, fit_intercept=False, intercept_scaling=1.5, loss=squared_hinge, multi_class=crammer_singer, penalty=l1;, score=0.957 total time=   4.9s\n"
     ]
    },
    {
     "name": "stderr",
     "output_type": "stream",
     "text": [
      "C:\\Users\\never\\AppData\\Roaming\\Python\\Python311\\site-packages\\sklearn\\svm\\_base.py:1250: ConvergenceWarning: Liblinear failed to converge, increase the number of iterations.\n",
      "  warnings.warn(\n"
     ]
    },
    {
     "name": "stdout",
     "output_type": "stream",
     "text": [
      "[CV 4/5] END C=10, class_weight=balanced, dual=auto, fit_intercept=False, intercept_scaling=1.5, loss=squared_hinge, multi_class=crammer_singer, penalty=l1;, score=0.957 total time=   4.3s\n"
     ]
    },
    {
     "name": "stderr",
     "output_type": "stream",
     "text": [
      "C:\\Users\\never\\AppData\\Roaming\\Python\\Python311\\site-packages\\sklearn\\svm\\_base.py:1250: ConvergenceWarning: Liblinear failed to converge, increase the number of iterations.\n",
      "  warnings.warn(\n"
     ]
    },
    {
     "name": "stdout",
     "output_type": "stream",
     "text": [
      "[CV 5/5] END C=10, class_weight=balanced, dual=auto, fit_intercept=False, intercept_scaling=1.5, loss=squared_hinge, multi_class=crammer_singer, penalty=l1;, score=0.960 total time=   5.3s\n"
     ]
    },
    {
     "name": "stderr",
     "output_type": "stream",
     "text": [
      "C:\\Users\\never\\AppData\\Roaming\\Python\\Python311\\site-packages\\sklearn\\svm\\_base.py:1250: ConvergenceWarning: Liblinear failed to converge, increase the number of iterations.\n",
      "  warnings.warn(\n"
     ]
    },
    {
     "name": "stdout",
     "output_type": "stream",
     "text": [
      "[CV 1/5] END C=10, class_weight=balanced, dual=auto, fit_intercept=False, intercept_scaling=1.5, loss=squared_hinge, multi_class=crammer_singer, penalty=l2;, score=0.954 total time=   6.8s\n"
     ]
    },
    {
     "name": "stderr",
     "output_type": "stream",
     "text": [
      "C:\\Users\\never\\AppData\\Roaming\\Python\\Python311\\site-packages\\sklearn\\svm\\_base.py:1250: ConvergenceWarning: Liblinear failed to converge, increase the number of iterations.\n",
      "  warnings.warn(\n"
     ]
    },
    {
     "name": "stdout",
     "output_type": "stream",
     "text": [
      "[CV 2/5] END C=10, class_weight=balanced, dual=auto, fit_intercept=False, intercept_scaling=1.5, loss=squared_hinge, multi_class=crammer_singer, penalty=l2;, score=0.950 total time=   9.5s\n"
     ]
    },
    {
     "name": "stderr",
     "output_type": "stream",
     "text": [
      "C:\\Users\\never\\AppData\\Roaming\\Python\\Python311\\site-packages\\sklearn\\svm\\_base.py:1250: ConvergenceWarning: Liblinear failed to converge, increase the number of iterations.\n",
      "  warnings.warn(\n"
     ]
    },
    {
     "name": "stdout",
     "output_type": "stream",
     "text": [
      "[CV 3/5] END C=10, class_weight=balanced, dual=auto, fit_intercept=False, intercept_scaling=1.5, loss=squared_hinge, multi_class=crammer_singer, penalty=l2;, score=0.957 total time=   4.9s\n"
     ]
    },
    {
     "name": "stderr",
     "output_type": "stream",
     "text": [
      "C:\\Users\\never\\AppData\\Roaming\\Python\\Python311\\site-packages\\sklearn\\svm\\_base.py:1250: ConvergenceWarning: Liblinear failed to converge, increase the number of iterations.\n",
      "  warnings.warn(\n"
     ]
    },
    {
     "name": "stdout",
     "output_type": "stream",
     "text": [
      "[CV 4/5] END C=10, class_weight=balanced, dual=auto, fit_intercept=False, intercept_scaling=1.5, loss=squared_hinge, multi_class=crammer_singer, penalty=l2;, score=0.957 total time=   4.3s\n"
     ]
    },
    {
     "name": "stderr",
     "output_type": "stream",
     "text": [
      "C:\\Users\\never\\AppData\\Roaming\\Python\\Python311\\site-packages\\sklearn\\svm\\_base.py:1250: ConvergenceWarning: Liblinear failed to converge, increase the number of iterations.\n",
      "  warnings.warn(\n"
     ]
    },
    {
     "name": "stdout",
     "output_type": "stream",
     "text": [
      "[CV 5/5] END C=10, class_weight=balanced, dual=auto, fit_intercept=False, intercept_scaling=1.5, loss=squared_hinge, multi_class=crammer_singer, penalty=l2;, score=0.960 total time=   5.3s\n",
      "[CV 1/5] END C=10, class_weight=balanced, dual=auto, fit_intercept=False, intercept_scaling=2, loss=hinge, multi_class=ovr, penalty=l1;, score=nan total time=   1.0s\n",
      "[CV 2/5] END C=10, class_weight=balanced, dual=auto, fit_intercept=False, intercept_scaling=2, loss=hinge, multi_class=ovr, penalty=l1;, score=nan total time=   1.0s\n",
      "[CV 3/5] END C=10, class_weight=balanced, dual=auto, fit_intercept=False, intercept_scaling=2, loss=hinge, multi_class=ovr, penalty=l1;, score=nan total time=   1.0s\n",
      "[CV 4/5] END C=10, class_weight=balanced, dual=auto, fit_intercept=False, intercept_scaling=2, loss=hinge, multi_class=ovr, penalty=l1;, score=nan total time=   1.0s\n",
      "[CV 5/5] END C=10, class_weight=balanced, dual=auto, fit_intercept=False, intercept_scaling=2, loss=hinge, multi_class=ovr, penalty=l1;, score=nan total time=   1.0s\n",
      "[CV 1/5] END C=10, class_weight=balanced, dual=auto, fit_intercept=False, intercept_scaling=2, loss=hinge, multi_class=ovr, penalty=l2;, score=0.951 total time=   5.8s\n",
      "[CV 2/5] END C=10, class_weight=balanced, dual=auto, fit_intercept=False, intercept_scaling=2, loss=hinge, multi_class=ovr, penalty=l2;, score=0.948 total time=   4.4s\n",
      "[CV 3/5] END C=10, class_weight=balanced, dual=auto, fit_intercept=False, intercept_scaling=2, loss=hinge, multi_class=ovr, penalty=l2;, score=0.957 total time=   4.1s\n",
      "[CV 4/5] END C=10, class_weight=balanced, dual=auto, fit_intercept=False, intercept_scaling=2, loss=hinge, multi_class=ovr, penalty=l2;, score=0.959 total time=   3.7s\n",
      "[CV 5/5] END C=10, class_weight=balanced, dual=auto, fit_intercept=False, intercept_scaling=2, loss=hinge, multi_class=ovr, penalty=l2;, score=0.960 total time=   3.6s\n"
     ]
    },
    {
     "name": "stderr",
     "output_type": "stream",
     "text": [
      "C:\\Users\\never\\AppData\\Roaming\\Python\\Python311\\site-packages\\sklearn\\svm\\_base.py:1250: ConvergenceWarning: Liblinear failed to converge, increase the number of iterations.\n",
      "  warnings.warn(\n"
     ]
    },
    {
     "name": "stdout",
     "output_type": "stream",
     "text": [
      "[CV 1/5] END C=10, class_weight=balanced, dual=auto, fit_intercept=False, intercept_scaling=2, loss=hinge, multi_class=crammer_singer, penalty=l1;, score=0.954 total time=   6.8s\n"
     ]
    },
    {
     "name": "stderr",
     "output_type": "stream",
     "text": [
      "C:\\Users\\never\\AppData\\Roaming\\Python\\Python311\\site-packages\\sklearn\\svm\\_base.py:1250: ConvergenceWarning: Liblinear failed to converge, increase the number of iterations.\n",
      "  warnings.warn(\n"
     ]
    },
    {
     "name": "stdout",
     "output_type": "stream",
     "text": [
      "[CV 2/5] END C=10, class_weight=balanced, dual=auto, fit_intercept=False, intercept_scaling=2, loss=hinge, multi_class=crammer_singer, penalty=l1;, score=0.950 total time=   9.5s\n"
     ]
    },
    {
     "name": "stderr",
     "output_type": "stream",
     "text": [
      "C:\\Users\\never\\AppData\\Roaming\\Python\\Python311\\site-packages\\sklearn\\svm\\_base.py:1250: ConvergenceWarning: Liblinear failed to converge, increase the number of iterations.\n",
      "  warnings.warn(\n"
     ]
    },
    {
     "name": "stdout",
     "output_type": "stream",
     "text": [
      "[CV 3/5] END C=10, class_weight=balanced, dual=auto, fit_intercept=False, intercept_scaling=2, loss=hinge, multi_class=crammer_singer, penalty=l1;, score=0.957 total time=   4.9s\n"
     ]
    },
    {
     "name": "stderr",
     "output_type": "stream",
     "text": [
      "C:\\Users\\never\\AppData\\Roaming\\Python\\Python311\\site-packages\\sklearn\\svm\\_base.py:1250: ConvergenceWarning: Liblinear failed to converge, increase the number of iterations.\n",
      "  warnings.warn(\n"
     ]
    },
    {
     "name": "stdout",
     "output_type": "stream",
     "text": [
      "[CV 4/5] END C=10, class_weight=balanced, dual=auto, fit_intercept=False, intercept_scaling=2, loss=hinge, multi_class=crammer_singer, penalty=l1;, score=0.957 total time=   4.3s\n"
     ]
    },
    {
     "name": "stderr",
     "output_type": "stream",
     "text": [
      "C:\\Users\\never\\AppData\\Roaming\\Python\\Python311\\site-packages\\sklearn\\svm\\_base.py:1250: ConvergenceWarning: Liblinear failed to converge, increase the number of iterations.\n",
      "  warnings.warn(\n"
     ]
    },
    {
     "name": "stdout",
     "output_type": "stream",
     "text": [
      "[CV 5/5] END C=10, class_weight=balanced, dual=auto, fit_intercept=False, intercept_scaling=2, loss=hinge, multi_class=crammer_singer, penalty=l1;, score=0.960 total time=   5.3s\n"
     ]
    },
    {
     "name": "stderr",
     "output_type": "stream",
     "text": [
      "C:\\Users\\never\\AppData\\Roaming\\Python\\Python311\\site-packages\\sklearn\\svm\\_base.py:1250: ConvergenceWarning: Liblinear failed to converge, increase the number of iterations.\n",
      "  warnings.warn(\n"
     ]
    },
    {
     "name": "stdout",
     "output_type": "stream",
     "text": [
      "[CV 1/5] END C=10, class_weight=balanced, dual=auto, fit_intercept=False, intercept_scaling=2, loss=hinge, multi_class=crammer_singer, penalty=l2;, score=0.954 total time=   6.8s\n"
     ]
    },
    {
     "name": "stderr",
     "output_type": "stream",
     "text": [
      "C:\\Users\\never\\AppData\\Roaming\\Python\\Python311\\site-packages\\sklearn\\svm\\_base.py:1250: ConvergenceWarning: Liblinear failed to converge, increase the number of iterations.\n",
      "  warnings.warn(\n"
     ]
    },
    {
     "name": "stdout",
     "output_type": "stream",
     "text": [
      "[CV 2/5] END C=10, class_weight=balanced, dual=auto, fit_intercept=False, intercept_scaling=2, loss=hinge, multi_class=crammer_singer, penalty=l2;, score=0.950 total time=   9.5s\n"
     ]
    },
    {
     "name": "stderr",
     "output_type": "stream",
     "text": [
      "C:\\Users\\never\\AppData\\Roaming\\Python\\Python311\\site-packages\\sklearn\\svm\\_base.py:1250: ConvergenceWarning: Liblinear failed to converge, increase the number of iterations.\n",
      "  warnings.warn(\n"
     ]
    },
    {
     "name": "stdout",
     "output_type": "stream",
     "text": [
      "[CV 3/5] END C=10, class_weight=balanced, dual=auto, fit_intercept=False, intercept_scaling=2, loss=hinge, multi_class=crammer_singer, penalty=l2;, score=0.957 total time=   4.9s\n"
     ]
    },
    {
     "name": "stderr",
     "output_type": "stream",
     "text": [
      "C:\\Users\\never\\AppData\\Roaming\\Python\\Python311\\site-packages\\sklearn\\svm\\_base.py:1250: ConvergenceWarning: Liblinear failed to converge, increase the number of iterations.\n",
      "  warnings.warn(\n"
     ]
    },
    {
     "name": "stdout",
     "output_type": "stream",
     "text": [
      "[CV 4/5] END C=10, class_weight=balanced, dual=auto, fit_intercept=False, intercept_scaling=2, loss=hinge, multi_class=crammer_singer, penalty=l2;, score=0.957 total time=   4.3s\n"
     ]
    },
    {
     "name": "stderr",
     "output_type": "stream",
     "text": [
      "C:\\Users\\never\\AppData\\Roaming\\Python\\Python311\\site-packages\\sklearn\\svm\\_base.py:1250: ConvergenceWarning: Liblinear failed to converge, increase the number of iterations.\n",
      "  warnings.warn(\n"
     ]
    },
    {
     "name": "stdout",
     "output_type": "stream",
     "text": [
      "[CV 5/5] END C=10, class_weight=balanced, dual=auto, fit_intercept=False, intercept_scaling=2, loss=hinge, multi_class=crammer_singer, penalty=l2;, score=0.960 total time=   5.2s\n",
      "[CV 1/5] END C=10, class_weight=balanced, dual=auto, fit_intercept=False, intercept_scaling=2, loss=squared_hinge, multi_class=ovr, penalty=l1;, score=0.954 total time=  10.1s\n",
      "[CV 2/5] END C=10, class_weight=balanced, dual=auto, fit_intercept=False, intercept_scaling=2, loss=squared_hinge, multi_class=ovr, penalty=l1;, score=0.956 total time=  10.8s\n",
      "[CV 3/5] END C=10, class_weight=balanced, dual=auto, fit_intercept=False, intercept_scaling=2, loss=squared_hinge, multi_class=ovr, penalty=l1;, score=0.958 total time=  10.8s\n",
      "[CV 4/5] END C=10, class_weight=balanced, dual=auto, fit_intercept=False, intercept_scaling=2, loss=squared_hinge, multi_class=ovr, penalty=l1;, score=0.957 total time=   9.5s\n",
      "[CV 5/5] END C=10, class_weight=balanced, dual=auto, fit_intercept=False, intercept_scaling=2, loss=squared_hinge, multi_class=ovr, penalty=l1;, score=0.961 total time=   8.9s\n",
      "[CV 1/5] END C=10, class_weight=balanced, dual=auto, fit_intercept=False, intercept_scaling=2, loss=squared_hinge, multi_class=ovr, penalty=l2;, score=0.954 total time=   7.2s\n",
      "[CV 2/5] END C=10, class_weight=balanced, dual=auto, fit_intercept=False, intercept_scaling=2, loss=squared_hinge, multi_class=ovr, penalty=l2;, score=0.949 total time=   7.4s\n",
      "[CV 3/5] END C=10, class_weight=balanced, dual=auto, fit_intercept=False, intercept_scaling=2, loss=squared_hinge, multi_class=ovr, penalty=l2;, score=0.956 total time=   7.5s\n",
      "[CV 4/5] END C=10, class_weight=balanced, dual=auto, fit_intercept=False, intercept_scaling=2, loss=squared_hinge, multi_class=ovr, penalty=l2;, score=0.959 total time=   6.5s\n",
      "[CV 5/5] END C=10, class_weight=balanced, dual=auto, fit_intercept=False, intercept_scaling=2, loss=squared_hinge, multi_class=ovr, penalty=l2;, score=0.960 total time=   6.9s\n"
     ]
    },
    {
     "name": "stderr",
     "output_type": "stream",
     "text": [
      "C:\\Users\\never\\AppData\\Roaming\\Python\\Python311\\site-packages\\sklearn\\svm\\_base.py:1250: ConvergenceWarning: Liblinear failed to converge, increase the number of iterations.\n",
      "  warnings.warn(\n"
     ]
    },
    {
     "name": "stdout",
     "output_type": "stream",
     "text": [
      "[CV 1/5] END C=10, class_weight=balanced, dual=auto, fit_intercept=False, intercept_scaling=2, loss=squared_hinge, multi_class=crammer_singer, penalty=l1;, score=0.954 total time=   6.8s\n"
     ]
    },
    {
     "name": "stderr",
     "output_type": "stream",
     "text": [
      "C:\\Users\\never\\AppData\\Roaming\\Python\\Python311\\site-packages\\sklearn\\svm\\_base.py:1250: ConvergenceWarning: Liblinear failed to converge, increase the number of iterations.\n",
      "  warnings.warn(\n"
     ]
    },
    {
     "name": "stdout",
     "output_type": "stream",
     "text": [
      "[CV 2/5] END C=10, class_weight=balanced, dual=auto, fit_intercept=False, intercept_scaling=2, loss=squared_hinge, multi_class=crammer_singer, penalty=l1;, score=0.950 total time=   9.5s\n"
     ]
    },
    {
     "name": "stderr",
     "output_type": "stream",
     "text": [
      "C:\\Users\\never\\AppData\\Roaming\\Python\\Python311\\site-packages\\sklearn\\svm\\_base.py:1250: ConvergenceWarning: Liblinear failed to converge, increase the number of iterations.\n",
      "  warnings.warn(\n"
     ]
    },
    {
     "name": "stdout",
     "output_type": "stream",
     "text": [
      "[CV 3/5] END C=10, class_weight=balanced, dual=auto, fit_intercept=False, intercept_scaling=2, loss=squared_hinge, multi_class=crammer_singer, penalty=l1;, score=0.957 total time=   4.8s\n"
     ]
    },
    {
     "name": "stderr",
     "output_type": "stream",
     "text": [
      "C:\\Users\\never\\AppData\\Roaming\\Python\\Python311\\site-packages\\sklearn\\svm\\_base.py:1250: ConvergenceWarning: Liblinear failed to converge, increase the number of iterations.\n",
      "  warnings.warn(\n"
     ]
    },
    {
     "name": "stdout",
     "output_type": "stream",
     "text": [
      "[CV 4/5] END C=10, class_weight=balanced, dual=auto, fit_intercept=False, intercept_scaling=2, loss=squared_hinge, multi_class=crammer_singer, penalty=l1;, score=0.957 total time=   4.3s\n"
     ]
    },
    {
     "name": "stderr",
     "output_type": "stream",
     "text": [
      "C:\\Users\\never\\AppData\\Roaming\\Python\\Python311\\site-packages\\sklearn\\svm\\_base.py:1250: ConvergenceWarning: Liblinear failed to converge, increase the number of iterations.\n",
      "  warnings.warn(\n"
     ]
    },
    {
     "name": "stdout",
     "output_type": "stream",
     "text": [
      "[CV 5/5] END C=10, class_weight=balanced, dual=auto, fit_intercept=False, intercept_scaling=2, loss=squared_hinge, multi_class=crammer_singer, penalty=l1;, score=0.960 total time=   5.3s\n"
     ]
    },
    {
     "name": "stderr",
     "output_type": "stream",
     "text": [
      "C:\\Users\\never\\AppData\\Roaming\\Python\\Python311\\site-packages\\sklearn\\svm\\_base.py:1250: ConvergenceWarning: Liblinear failed to converge, increase the number of iterations.\n",
      "  warnings.warn(\n"
     ]
    },
    {
     "name": "stdout",
     "output_type": "stream",
     "text": [
      "[CV 1/5] END C=10, class_weight=balanced, dual=auto, fit_intercept=False, intercept_scaling=2, loss=squared_hinge, multi_class=crammer_singer, penalty=l2;, score=0.954 total time=   6.8s\n"
     ]
    },
    {
     "name": "stderr",
     "output_type": "stream",
     "text": [
      "C:\\Users\\never\\AppData\\Roaming\\Python\\Python311\\site-packages\\sklearn\\svm\\_base.py:1250: ConvergenceWarning: Liblinear failed to converge, increase the number of iterations.\n",
      "  warnings.warn(\n"
     ]
    },
    {
     "name": "stdout",
     "output_type": "stream",
     "text": [
      "[CV 2/5] END C=10, class_weight=balanced, dual=auto, fit_intercept=False, intercept_scaling=2, loss=squared_hinge, multi_class=crammer_singer, penalty=l2;, score=0.950 total time=   9.6s\n"
     ]
    },
    {
     "name": "stderr",
     "output_type": "stream",
     "text": [
      "C:\\Users\\never\\AppData\\Roaming\\Python\\Python311\\site-packages\\sklearn\\svm\\_base.py:1250: ConvergenceWarning: Liblinear failed to converge, increase the number of iterations.\n",
      "  warnings.warn(\n"
     ]
    },
    {
     "name": "stdout",
     "output_type": "stream",
     "text": [
      "[CV 3/5] END C=10, class_weight=balanced, dual=auto, fit_intercept=False, intercept_scaling=2, loss=squared_hinge, multi_class=crammer_singer, penalty=l2;, score=0.957 total time=   4.9s\n"
     ]
    },
    {
     "name": "stderr",
     "output_type": "stream",
     "text": [
      "C:\\Users\\never\\AppData\\Roaming\\Python\\Python311\\site-packages\\sklearn\\svm\\_base.py:1250: ConvergenceWarning: Liblinear failed to converge, increase the number of iterations.\n",
      "  warnings.warn(\n"
     ]
    },
    {
     "name": "stdout",
     "output_type": "stream",
     "text": [
      "[CV 4/5] END C=10, class_weight=balanced, dual=auto, fit_intercept=False, intercept_scaling=2, loss=squared_hinge, multi_class=crammer_singer, penalty=l2;, score=0.957 total time=   4.3s\n"
     ]
    },
    {
     "name": "stderr",
     "output_type": "stream",
     "text": [
      "C:\\Users\\never\\AppData\\Roaming\\Python\\Python311\\site-packages\\sklearn\\svm\\_base.py:1250: ConvergenceWarning: Liblinear failed to converge, increase the number of iterations.\n",
      "  warnings.warn(\n"
     ]
    },
    {
     "name": "stdout",
     "output_type": "stream",
     "text": [
      "[CV 5/5] END C=10, class_weight=balanced, dual=auto, fit_intercept=False, intercept_scaling=2, loss=squared_hinge, multi_class=crammer_singer, penalty=l2;, score=0.960 total time=   5.2s\n"
     ]
    },
    {
     "name": "stderr",
     "output_type": "stream",
     "text": [
      "C:\\Users\\never\\AppData\\Roaming\\Python\\Python311\\site-packages\\sklearn\\model_selection\\_validation.py:425: FitFailedWarning: \n",
      "120 fits failed out of a total of 960.\n",
      "The score on these train-test partitions for these parameters will be set to nan.\n",
      "If these failures are not expected, you can try to debug them by setting error_score='raise'.\n",
      "\n",
      "Below are more details about the failures:\n",
      "--------------------------------------------------------------------------------\n",
      "120 fits failed with the following error:\n",
      "Traceback (most recent call last):\n",
      "  File \"C:\\Users\\never\\AppData\\Roaming\\Python\\Python311\\site-packages\\sklearn\\model_selection\\_validation.py\", line 729, in _fit_and_score\n",
      "    estimator.fit(X_train, y_train, **fit_params)\n",
      "  File \"C:\\Users\\never\\AppData\\Roaming\\Python\\Python311\\site-packages\\sklearn\\base.py\", line 1152, in wrapper\n",
      "    return fit_method(estimator, *args, **kwargs)\n",
      "           ^^^^^^^^^^^^^^^^^^^^^^^^^^^^^^^^^^^^^^\n",
      "  File \"C:\\Users\\never\\AppData\\Roaming\\Python\\Python311\\site-packages\\sklearn\\svm\\_classes.py\", line 326, in fit\n",
      "    self.coef_, self.intercept_, n_iter_ = _fit_liblinear(\n",
      "                                           ^^^^^^^^^^^^^^^\n",
      "  File \"C:\\Users\\never\\AppData\\Roaming\\Python\\Python311\\site-packages\\sklearn\\svm\\_base.py\", line 1229, in _fit_liblinear\n",
      "    solver_type = _get_liblinear_solver_type(multi_class, penalty, loss, dual)\n",
      "                  ^^^^^^^^^^^^^^^^^^^^^^^^^^^^^^^^^^^^^^^^^^^^^^^^^^^^^^^^^^^^\n",
      "  File \"C:\\Users\\never\\AppData\\Roaming\\Python\\Python311\\site-packages\\sklearn\\svm\\_base.py\", line 1060, in _get_liblinear_solver_type\n",
      "    raise ValueError(\n",
      "ValueError: Unsupported set of arguments: The combination of penalty='l1' and loss='hinge' is not supported, Parameters: penalty='l1', loss='hinge', dual=True\n",
      "\n",
      "  warnings.warn(some_fits_failed_message, FitFailedWarning)\n",
      "C:\\Users\\never\\AppData\\Roaming\\Python\\Python311\\site-packages\\sklearn\\model_selection\\_search.py:979: UserWarning: One or more of the test scores are non-finite: [       nan 0.94886432 0.95785458 0.95785458 0.95948373 0.95631603\n",
      " 0.95785458 0.95785458        nan 0.94886432 0.95785458 0.95785458\n",
      " 0.95939322 0.95631602 0.95785458 0.95785458        nan 0.94886432\n",
      " 0.95785458 0.95785458 0.95942339 0.95637636 0.95785458 0.95785458\n",
      "        nan 0.94639057 0.95206231 0.95206231 0.95290697 0.95121755\n",
      " 0.95206231 0.95206231        nan 0.94639057 0.95206231 0.95206231\n",
      " 0.95290697 0.95121755 0.95206231 0.95206231        nan 0.94639057\n",
      " 0.95206231 0.95206231 0.95290697 0.95121755 0.95206231 0.95206231\n",
      "        nan 0.94886432 0.95785458 0.95785458 0.95945356 0.95628586\n",
      " 0.95785458 0.95785458        nan 0.94886432 0.95785458 0.95785458\n",
      " 0.95942339 0.95634619 0.95785458 0.95785458        nan 0.94886432\n",
      " 0.95785458 0.95785458 0.95939322 0.95637636 0.95785458 0.95785458\n",
      "        nan 0.94639057 0.95206231 0.95206231 0.95305782 0.95121755\n",
      " 0.95206231 0.95206231        nan 0.94639057 0.95206231 0.95206231\n",
      " 0.95305782 0.95121755 0.95206231 0.95206231        nan 0.94639057\n",
      " 0.95206231 0.95206231 0.95305782 0.95121755 0.95206231 0.95206231\n",
      "        nan 0.9622894  0.96304361 0.96304361 0.96778003 0.96313413\n",
      " 0.96304361 0.96304361        nan 0.9622894  0.96304361 0.96304361\n",
      " 0.96787054 0.96331515 0.96304361 0.96304361        nan 0.9622894\n",
      " 0.96304361 0.96304361 0.96787054 0.96337549 0.96304361 0.96304361\n",
      "        nan 0.95486803 0.95556182 0.95556182 0.95728133 0.95550151\n",
      " 0.95556182 0.95556182        nan 0.95486803 0.95556182 0.95556182\n",
      " 0.95728133 0.95550151 0.95556182 0.95556182        nan 0.95486803\n",
      " 0.95556182 0.95556182 0.95728133 0.95550151 0.95556182 0.95556182\n",
      "        nan 0.9622894  0.96304361 0.96304361 0.96784037 0.96310396\n",
      " 0.96304361 0.96304361        nan 0.9622894  0.96304361 0.96304361\n",
      " 0.96793088 0.96331515 0.96304361 0.96304361        nan 0.9622894\n",
      " 0.96304361 0.96304361 0.96796105 0.963466   0.96304361 0.96304361\n",
      "        nan 0.95486803 0.95556182 0.95556182 0.95734167 0.95550151\n",
      " 0.95556182 0.95556182        nan 0.95486803 0.95556182 0.95556182\n",
      " 0.95734167 0.95550151 0.95556182 0.95556182        nan 0.95486803\n",
      " 0.95556182 0.95556182 0.95734167 0.95550151 0.95556182 0.95556182]\n",
      "  warnings.warn(\n"
     ]
    },
    {
     "data": {
      "text/plain": [
       "{'C': 10,\n",
       " 'class_weight': 'balanced',\n",
       " 'dual': 'auto',\n",
       " 'fit_intercept': True,\n",
       " 'intercept_scaling': 2,\n",
       " 'loss': 'squared_hinge',\n",
       " 'multi_class': 'ovr',\n",
       " 'penalty': 'l1'}"
      ]
     },
     "execution_count": 44,
     "metadata": {},
     "output_type": "execute_result"
    }
   ],
   "source": [
    "param_grid = {\n",
    "    'penalty': ['l1', 'l2'],\n",
    "    'loss': ['hinge', 'squared_hinge'],\n",
    "    'dual': [\"auto\"],\n",
    "    # 'tol': [1e-4, 1e-5],\n",
    "    'C': [1, 10],\n",
    "    'multi_class': ['ovr', 'crammer_singer'],\n",
    "    'fit_intercept': [True, False],\n",
    "    'intercept_scaling': [1, 1.5 ,2],\n",
    "    'class_weight': [None, 'balanced']\n",
    "}\n",
    "\n",
    "svc = LinearSVC(random_state= 424, max_iter = 20000)\n",
    "\n",
    "grid_search_svc_tf = GridSearchCV(svc, param_grid, verbose=3,cv = 5)\n",
    "grid_search_svc_tf.fit(X_train_over_tf, y_train_over_tf)\n",
    "grid_search_svc_tf.best_params_\n",
    "\n",
    "# best params:  {'C': 10, 'dual': 'auto', 'penalty': 'l1'}"
   ]
  },
  {
   "cell_type": "code",
   "execution_count": 57,
   "metadata": {},
   "outputs": [
    {
     "data": {
      "text/plain": [
       "{'C': 10,\n",
       " 'class_weight': 'balanced',\n",
       " 'dual': 'auto',\n",
       " 'fit_intercept': True,\n",
       " 'intercept_scaling': 2,\n",
       " 'loss': 'squared_hinge',\n",
       " 'multi_class': 'ovr',\n",
       " 'penalty': 'l1'}"
      ]
     },
     "execution_count": 57,
     "metadata": {},
     "output_type": "execute_result"
    }
   ],
   "source": [
    "grid_search_svc_tf.best_params_"
   ]
  },
  {
   "cell_type": "code",
   "execution_count": 64,
   "metadata": {},
   "outputs": [
    {
     "name": "stdout",
     "output_type": "stream",
     "text": [
      "              precision    recall  f1-score   support\n",
      "\n",
      "        Hate       0.23      0.31      0.26       272\n",
      "   Offensive       0.91      0.90      0.90      3683\n",
      "     Neither       0.82      0.74      0.78       818\n",
      "\n",
      "    accuracy                           0.84      4773\n",
      "   macro avg       0.65      0.65      0.65      4773\n",
      "weighted avg       0.85      0.84      0.85      4773\n",
      "\n",
      "The confusion matrix:\n",
      "[[  83  166   23]\n",
      " [ 242 3328  113]\n",
      " [  30  180  608]]\n"
     ]
    },
    {
     "data": {
      "image/png": "[encoded data removed]",
      "text/plain": [
       "<Figure size 640x480 with 2 Axes>"
      ]
     },
     "metadata": {},
     "output_type": "display_data"
    }
   ],
   "source": [
    "y_preds = grid_search_svc_tf.predict(X_cv_tf)\n",
    "printModelStats(y_preds, y_cv)"
   ]
  },
  {
   "cell_type": "markdown",
   "metadata": {},
   "source": [
    "Optimal model"
   ]
  },
  {
   "cell_type": "code",
   "execution_count": 58,
   "metadata": {},
   "outputs": [],
   "source": [
    "# Initalising model\n",
    "svc = LinearSVC(random_state=424, max_iter=20000, C=10, class_weight='balanced', dual='auto', fit_intercept=True, intercept_scaling=2, loss='squared_hinge', multi_class='ovr', penalty='l1')\n",
    "# Train and predict\n",
    "svc.fit(X_train_over_tf, y_train_over_tf)\n",
    "y_preds = svc.predict(X_cv_tf)"
   ]
  },
  {
   "cell_type": "code",
   "execution_count": 59,
   "metadata": {},
   "outputs": [
    {
     "name": "stdout",
     "output_type": "stream",
     "text": [
      "              precision    recall  f1-score   support\n",
      "\n",
      "        Hate       0.23      0.31      0.26       272\n",
      "   Offensive       0.91      0.90      0.90      3683\n",
      "     Neither       0.82      0.74      0.78       818\n",
      "\n",
      "    accuracy                           0.84      4773\n",
      "   macro avg       0.65      0.65      0.65      4773\n",
      "weighted avg       0.85      0.84      0.85      4773\n",
      "\n",
      "The confusion matrix:\n",
      "[[  83  166   23]\n",
      " [ 242 3328  113]\n",
      " [  30  180  608]]\n"
     ]
    },
    {
     "data": {
      "image/png": "[encoded data removed]",
      "text/plain": [
       "<Figure size 640x480 with 2 Axes>"
      ]
     },
     "metadata": {},
     "output_type": "display_data"
    }
   ],
   "source": [
    "# output statistics\n",
    "printModelStats(y_preds, y_cv)"
   ]
  },
  {
   "cell_type": "markdown",
   "metadata": {},
   "source": [
    "### Conclusion\n",
    "\n",
    "In summary, we conducted a comparison between two distinct oversampling methods:\n",
    "1) Count Vectorization\n",
    "2) TF-IDF\n",
    "\n",
    "Although, we originally aimed to incorporate a comparison involving n-grams, our systems struggled to handle the immense amount of generated data, leading us to remove that aspect of the study.\n",
    "\n",
    "After analyzing the output statistics, it seems that the optimal model is the LinearSVC model without GridSearch using Oversampling TF-IDF Vectorizations training data. It has the highest F1-Score for the 'Hate' and 'Offensive' classes, and the highest accuracy and precision for the 'Offensive' class.\n",
    "\n",
    "It's important to note that despite running over 10 hours on the GridSearch, the model's performance on the test data remained suboptimal. This extended tuning process, while exhaustive, did not lead to improved results. This outcome might be attributred to the challenge of achieving model generalization on unseen test data. This highlights the complex dynamics of model performance in real-world applications and emphasizes the need to explore alternative method for enhancing model effectiveness.\n"
   ]
  }
 ],
 "metadata": {
  "kernelspec": {
   "display_name": "base",
   "language": "python",
   "name": "python3"
  },
  "language_info": {
   "codemirror_mode": {
    "name": "ipython",
    "version": 3
   },
   "file_extension": ".py",
   "mimetype": "text/x-python",
   "name": "python",
   "nbconvert_exporter": "python",
   "pygments_lexer": "ipython3",
   "version": "3.11.5"
  },
  "orig_nbformat": 4
 },
 "nbformat": 4,
 "nbformat_minor": 2
}
